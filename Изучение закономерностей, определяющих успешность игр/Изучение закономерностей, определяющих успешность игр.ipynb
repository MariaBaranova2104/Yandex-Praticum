{
 "cells": [
  {
   "cell_type": "markdown",
   "id": "e7b4349f",
   "metadata": {},
   "source": [
    "# Описание проекта \n",
    "Вы работаете в интернет-магазине «Стримчик», который продаёт по всему миру компьютерные игры. Из открытых источников доступны исторические данные о продажах игр, оценки пользователей и экспертов, жанры и платформы (например, Xbox или PlayStation). Вам нужно выявить определяющие успешность игры закономерности. Это позволит сделать ставку на потенциально популярный продукт и спланировать рекламные кампании.\n",
    "\n",
    "Перед вами данные до 2016 года. Представим, что сейчас декабрь 2016 г., и вы планируете кампанию на 2017-й. Нужно отработать принцип работы с данными. Неважно, прогнозируете ли вы продажи на 2017 год по данным 2016-го или же 2027-й — по данным 2026 года.\n",
    "\n",
    "В наборе данных попадается аббревиатура ESRB (Entertainment Software Rating Board) — это ассоциация, определяющая возрастной рейтинг компьютерных игр. ESRB оценивает игровой контент и присваивает ему подходящую возрастную категорию, например, «Для взрослых», «Для детей младшего возраста» или «Для подростков»."
   ]
  },
  {
   "cell_type": "markdown",
   "id": "0adac6e4",
   "metadata": {},
   "source": [
    "# Инструкция по выполнению\n",
    "**Шаг 1. Откройте файл с данными и изучите общую информацию**\n",
    "\n",
    "**Шаг 2. Подготовьте данные**\n",
    "Замените названия столбцов (приведите к нижнему регистру);\n",
    "Преобразуйте данные в нужные типы. Опишите, в каких столбцах заменили тип данных и почему;\n",
    "Обработайте пропуски при необходимости:\n",
    "Объясните, почему заполнили пропуски определённым образом или почему не стали это делать;\n",
    "Опишите причины, которые могли привести к пропускам;\n",
    "Обратите внимание на аббревиатуру 'tbd' в столбце с оценкой пользователей. Отдельно разберите это значение и опишите, как его обработать;\n",
    "Посчитайте суммарные продажи во всех регионах и запишите их в отдельный столбец.\n",
    "\n",
    "**Шаг 3. Проведите исследовательский анализ данных**\n",
    "Посмотрите, сколько игр выпускалось в разные годы. Важны ли данные за все периоды?\n",
    "Посмотрите, как менялись продажи по платформам. Выберите платформы с наибольшими суммарными продажами и постройте распределение по годам. За какой характерный срок появляются новые и исчезают старые платформы?\n",
    "Возьмите данные за соответствующий актуальный период. Актуальный период определите самостоятельно в результате исследования предыдущих вопросов. Основной фактор — эти данные помогут построить прогноз на 2017 год.\n",
    "Не учитывайте в работе данные за предыдущие годы.\n",
    "Какие платформы лидируют по продажам, растут или падают? Выберите несколько потенциально прибыльных платформ.\n",
    "Постройте график «ящик с усами» по глобальным продажам игр в разбивке по платформам. Опишите результат.\n",
    "Посмотрите, как влияют на продажи внутри одной популярной платформы отзывы пользователей и критиков. Постройте диаграмму рассеяния и посчитайте корреляцию между отзывами и продажами. Сформулируйте выводы.\n",
    "Соотнесите выводы с продажами игр на других платформах.\n",
    "Посмотрите на общее распределение игр по жанрам. Что можно сказать о самых прибыльных жанрах? Выделяются ли жанры с высокими и низкими продажами?\n",
    "\n",
    "**Шаг 4. Составьте портрет пользователя каждого региона**\n",
    "Определите для пользователя каждого региона (NA, EU, JP):\n",
    "Самые популярные платформы (топ-5). Опишите различия в долях продаж.\n",
    "Самые популярные жанры (топ-5). Поясните разницу.\n",
    "Влияет ли рейтинг ESRB на продажи в отдельном регионе?\n",
    "\n",
    "**Шаг 5. Проверьте гипотезы**\n",
    "Средние пользовательские рейтинги платформ Xbox One и PC одинаковые;\n",
    "Средние пользовательские рейтинги жанров Action (англ. «действие», экшен-игры) и Sports (англ. «спортивные соревнования») разные.\n",
    "Задайте самостоятельно пороговое значение alpha.\n",
    "Поясните:\n",
    "Как вы сформулировали нулевую и альтернативную гипотезы;\n",
    "Какой критерий применили для проверки гипотез и почему.\n",
    "\n",
    "**Шаг 6. Напишите общий вывод**"
   ]
  },
  {
   "cell_type": "markdown",
   "id": "e5ac91cb",
   "metadata": {},
   "source": [
    "# Описание данных\n",
    "\n",
    "*Name* — название игры\n",
    "\n",
    "*Platform* — платформа\n",
    "\n",
    "*Year_of_Release* — год выпуска\n",
    "\n",
    "*Genre* — жанр игры\n",
    "\n",
    "*NA_sales* — продажи в Северной Америке (миллионы проданных копий)\n",
    "\n",
    "*EU_sales* — продажи в Европе (миллионы проданных копий)\n",
    "\n",
    "*JP_sales* — продажи в Японии (миллионы проданных копий)\n",
    "\n",
    "*Other_sales* — продажи в других странах (миллионы проданных копий)\n",
    "\n",
    "*Critic_Score* — оценка критиков (максимум 100)\n",
    "\n",
    "*User_Score* — оценка пользователей (максимум 10)\n",
    "\n",
    "*Rating* — рейтинг от организации ESRB (англ. Entertainment Software Rating Board). Эта ассоциация определяет рейтинг компьютерных игр и присваивает им подходящую возрастную категорию.\n",
    "\n",
    "Данные за 2016 год могут быть неполными."
   ]
  },
  {
   "cell_type": "markdown",
   "id": "90241287",
   "metadata": {},
   "source": [
    "В столбце rating представлен рейтинг от организации ESRB (англ. Entertainment Software Rating Board). Эта ассоциация определяет рейтинг компьютерных игр и присваивает им подходящую возрастную категорию.\n",
    "Согласно данным Wikipedia аббревиатуры расшифровываются следующим образом: \n",
    "\n",
    "**«EC»** («Early childhood») — «Для детей младшего возраста»\n",
    "\n",
    "**«E»** («Everyone») — «Для всех». Первоначально **\"K-A\"** (\"Kids to Adults\")\n",
    "\n",
    "**«E10+»** («Everyone 10 and older») — «Для всех от 10 лет и старше»\n",
    "\n",
    "**«T»** («Teen») — «Подросткам»\n",
    "\n",
    "**«M»** («Mature») — «Для взрослых»\n",
    "\n",
    "**«AO»** («Adults Only 18+») — «Только для взрослых»\n",
    "\n",
    "**«RP»** («Rating Pending») — «Рейтинг ожидается»"
   ]
  },
  {
   "cell_type": "markdown",
   "id": "b1d8e7bc",
   "metadata": {},
   "source": [
    "# Изучение данных"
   ]
  },
  {
   "cell_type": "code",
   "execution_count": 1,
   "id": "1b1d1e9c",
   "metadata": {},
   "outputs": [],
   "source": [
    "#импорт библиотек\n",
    "import pandas as pd\n",
    "import numpy as np\n",
    "import matplotlib.pyplot as plt\n",
    "import seaborn as sns\n",
    "sns.set(color_codes=True)\n",
    "\n",
    "from datetime import datetime\n",
    "from scipy import stats as st"
   ]
  },
  {
   "cell_type": "code",
   "execution_count": 2,
   "id": "59afa673",
   "metadata": {},
   "outputs": [],
   "source": [
    "#открытие датасета\n",
    "try:\n",
    "    games = pd.read_csv('/Users/maria/Documents/Практикум/Сборный проект 1/games.csv')\n",
    "\n",
    "except:\n",
    "    games = pd.read_csv('/datasets/games.csv')\n"
   ]
  },
  {
   "cell_type": "code",
   "execution_count": 3,
   "id": "3442a5ab",
   "metadata": {},
   "outputs": [
    {
     "name": "stdout",
     "output_type": "stream",
     "text": [
      "<class 'pandas.core.frame.DataFrame'>\n",
      "RangeIndex: 16715 entries, 0 to 16714\n",
      "Data columns (total 11 columns):\n",
      " #   Column           Non-Null Count  Dtype  \n",
      "---  ------           --------------  -----  \n",
      " 0   Name             16713 non-null  object \n",
      " 1   Platform         16715 non-null  object \n",
      " 2   Year_of_Release  16446 non-null  float64\n",
      " 3   Genre            16713 non-null  object \n",
      " 4   NA_sales         16715 non-null  float64\n",
      " 5   EU_sales         16715 non-null  float64\n",
      " 6   JP_sales         16715 non-null  float64\n",
      " 7   Other_sales      16715 non-null  float64\n",
      " 8   Critic_Score     8137 non-null   float64\n",
      " 9   User_Score       10014 non-null  object \n",
      " 10  Rating           9949 non-null   object \n",
      "dtypes: float64(6), object(5)\n",
      "memory usage: 1.4+ MB\n"
     ]
    }
   ],
   "source": [
    "#просмотр общей информации  датасете\n",
    "games.info()"
   ]
  },
  {
   "cell_type": "code",
   "execution_count": 4,
   "id": "fa520003",
   "metadata": {
    "scrolled": true
   },
   "outputs": [
    {
     "data": {
      "text/html": [
       "<div>\n",
       "<style scoped>\n",
       "    .dataframe tbody tr th:only-of-type {\n",
       "        vertical-align: middle;\n",
       "    }\n",
       "\n",
       "    .dataframe tbody tr th {\n",
       "        vertical-align: top;\n",
       "    }\n",
       "\n",
       "    .dataframe thead th {\n",
       "        text-align: right;\n",
       "    }\n",
       "</style>\n",
       "<table border=\"1\" class=\"dataframe\">\n",
       "  <thead>\n",
       "    <tr style=\"text-align: right;\">\n",
       "      <th></th>\n",
       "      <th>Year_of_Release</th>\n",
       "      <th>NA_sales</th>\n",
       "      <th>EU_sales</th>\n",
       "      <th>JP_sales</th>\n",
       "      <th>Other_sales</th>\n",
       "      <th>Critic_Score</th>\n",
       "    </tr>\n",
       "  </thead>\n",
       "  <tbody>\n",
       "    <tr>\n",
       "      <th>count</th>\n",
       "      <td>16446.000000</td>\n",
       "      <td>16715.000000</td>\n",
       "      <td>16715.000000</td>\n",
       "      <td>16715.000000</td>\n",
       "      <td>16715.000000</td>\n",
       "      <td>8137.000000</td>\n",
       "    </tr>\n",
       "    <tr>\n",
       "      <th>mean</th>\n",
       "      <td>2006.484616</td>\n",
       "      <td>0.263377</td>\n",
       "      <td>0.145060</td>\n",
       "      <td>0.077617</td>\n",
       "      <td>0.047342</td>\n",
       "      <td>68.967679</td>\n",
       "    </tr>\n",
       "    <tr>\n",
       "      <th>std</th>\n",
       "      <td>5.877050</td>\n",
       "      <td>0.813604</td>\n",
       "      <td>0.503339</td>\n",
       "      <td>0.308853</td>\n",
       "      <td>0.186731</td>\n",
       "      <td>13.938165</td>\n",
       "    </tr>\n",
       "    <tr>\n",
       "      <th>min</th>\n",
       "      <td>1980.000000</td>\n",
       "      <td>0.000000</td>\n",
       "      <td>0.000000</td>\n",
       "      <td>0.000000</td>\n",
       "      <td>0.000000</td>\n",
       "      <td>13.000000</td>\n",
       "    </tr>\n",
       "    <tr>\n",
       "      <th>25%</th>\n",
       "      <td>2003.000000</td>\n",
       "      <td>0.000000</td>\n",
       "      <td>0.000000</td>\n",
       "      <td>0.000000</td>\n",
       "      <td>0.000000</td>\n",
       "      <td>60.000000</td>\n",
       "    </tr>\n",
       "    <tr>\n",
       "      <th>50%</th>\n",
       "      <td>2007.000000</td>\n",
       "      <td>0.080000</td>\n",
       "      <td>0.020000</td>\n",
       "      <td>0.000000</td>\n",
       "      <td>0.010000</td>\n",
       "      <td>71.000000</td>\n",
       "    </tr>\n",
       "    <tr>\n",
       "      <th>75%</th>\n",
       "      <td>2010.000000</td>\n",
       "      <td>0.240000</td>\n",
       "      <td>0.110000</td>\n",
       "      <td>0.040000</td>\n",
       "      <td>0.030000</td>\n",
       "      <td>79.000000</td>\n",
       "    </tr>\n",
       "    <tr>\n",
       "      <th>max</th>\n",
       "      <td>2016.000000</td>\n",
       "      <td>41.360000</td>\n",
       "      <td>28.960000</td>\n",
       "      <td>10.220000</td>\n",
       "      <td>10.570000</td>\n",
       "      <td>98.000000</td>\n",
       "    </tr>\n",
       "  </tbody>\n",
       "</table>\n",
       "</div>"
      ],
      "text/plain": [
       "       Year_of_Release      NA_sales      EU_sales      JP_sales  \\\n",
       "count     16446.000000  16715.000000  16715.000000  16715.000000   \n",
       "mean       2006.484616      0.263377      0.145060      0.077617   \n",
       "std           5.877050      0.813604      0.503339      0.308853   \n",
       "min        1980.000000      0.000000      0.000000      0.000000   \n",
       "25%        2003.000000      0.000000      0.000000      0.000000   \n",
       "50%        2007.000000      0.080000      0.020000      0.000000   \n",
       "75%        2010.000000      0.240000      0.110000      0.040000   \n",
       "max        2016.000000     41.360000     28.960000     10.220000   \n",
       "\n",
       "        Other_sales  Critic_Score  \n",
       "count  16715.000000   8137.000000  \n",
       "mean       0.047342     68.967679  \n",
       "std        0.186731     13.938165  \n",
       "min        0.000000     13.000000  \n",
       "25%        0.000000     60.000000  \n",
       "50%        0.010000     71.000000  \n",
       "75%        0.030000     79.000000  \n",
       "max       10.570000     98.000000  "
      ]
     },
     "execution_count": 4,
     "metadata": {},
     "output_type": "execute_result"
    }
   ],
   "source": [
    "#просмотр общей информации о датасете\n",
    "games.describe()"
   ]
  },
  {
   "cell_type": "code",
   "execution_count": 5,
   "id": "c3bbc612",
   "metadata": {},
   "outputs": [
    {
     "data": {
      "text/plain": [
       "Name                  2\n",
       "Platform              0\n",
       "Year_of_Release     269\n",
       "Genre                 2\n",
       "NA_sales              0\n",
       "EU_sales              0\n",
       "JP_sales              0\n",
       "Other_sales           0\n",
       "Critic_Score       8578\n",
       "User_Score         6701\n",
       "Rating             6766\n",
       "dtype: int64"
      ]
     },
     "execution_count": 5,
     "metadata": {},
     "output_type": "execute_result"
    }
   ],
   "source": [
    "#поиск пропущенных значений\n",
    "games.isnull().sum()"
   ]
  },
  {
   "cell_type": "code",
   "execution_count": 6,
   "id": "03207914",
   "metadata": {},
   "outputs": [
    {
     "data": {
      "text/html": [
       "<style type=\"text/css\">\n",
       "#T_eca7e_row0_col0, #T_eca7e_row1_col0, #T_eca7e_row3_col0, #T_eca7e_row4_col0, #T_eca7e_row5_col0, #T_eca7e_row6_col0, #T_eca7e_row7_col0 {\n",
       "  background-color: #3b4cc0;\n",
       "  color: #f1f1f1;\n",
       "}\n",
       "#T_eca7e_row2_col0 {\n",
       "  background-color: #445acc;\n",
       "  color: #f1f1f1;\n",
       "}\n",
       "#T_eca7e_row8_col0 {\n",
       "  background-color: #b40426;\n",
       "  color: #f1f1f1;\n",
       "}\n",
       "#T_eca7e_row9_col0 {\n",
       "  background-color: #f18d6f;\n",
       "  color: #f1f1f1;\n",
       "}\n",
       "#T_eca7e_row10_col0 {\n",
       "  background-color: #f08a6c;\n",
       "  color: #f1f1f1;\n",
       "}\n",
       "</style>\n",
       "<table id=\"T_eca7e_\">\n",
       "  <thead>\n",
       "    <tr>\n",
       "      <th class=\"blank level0\" >&nbsp;</th>\n",
       "      <th class=\"col_heading level0 col0\" >NaNs, %</th>\n",
       "    </tr>\n",
       "  </thead>\n",
       "  <tbody>\n",
       "    <tr>\n",
       "      <th id=\"T_eca7e_level0_row0\" class=\"row_heading level0 row0\" >Name</th>\n",
       "      <td id=\"T_eca7e_row0_col0\" class=\"data row0 col0\" >0.01</td>\n",
       "    </tr>\n",
       "    <tr>\n",
       "      <th id=\"T_eca7e_level0_row1\" class=\"row_heading level0 row1\" >Platform</th>\n",
       "      <td id=\"T_eca7e_row1_col0\" class=\"data row1 col0\" >0.00</td>\n",
       "    </tr>\n",
       "    <tr>\n",
       "      <th id=\"T_eca7e_level0_row2\" class=\"row_heading level0 row2\" >Year_of_Release</th>\n",
       "      <td id=\"T_eca7e_row2_col0\" class=\"data row2 col0\" >1.61</td>\n",
       "    </tr>\n",
       "    <tr>\n",
       "      <th id=\"T_eca7e_level0_row3\" class=\"row_heading level0 row3\" >Genre</th>\n",
       "      <td id=\"T_eca7e_row3_col0\" class=\"data row3 col0\" >0.01</td>\n",
       "    </tr>\n",
       "    <tr>\n",
       "      <th id=\"T_eca7e_level0_row4\" class=\"row_heading level0 row4\" >NA_sales</th>\n",
       "      <td id=\"T_eca7e_row4_col0\" class=\"data row4 col0\" >0.00</td>\n",
       "    </tr>\n",
       "    <tr>\n",
       "      <th id=\"T_eca7e_level0_row5\" class=\"row_heading level0 row5\" >EU_sales</th>\n",
       "      <td id=\"T_eca7e_row5_col0\" class=\"data row5 col0\" >0.00</td>\n",
       "    </tr>\n",
       "    <tr>\n",
       "      <th id=\"T_eca7e_level0_row6\" class=\"row_heading level0 row6\" >JP_sales</th>\n",
       "      <td id=\"T_eca7e_row6_col0\" class=\"data row6 col0\" >0.00</td>\n",
       "    </tr>\n",
       "    <tr>\n",
       "      <th id=\"T_eca7e_level0_row7\" class=\"row_heading level0 row7\" >Other_sales</th>\n",
       "      <td id=\"T_eca7e_row7_col0\" class=\"data row7 col0\" >0.00</td>\n",
       "    </tr>\n",
       "    <tr>\n",
       "      <th id=\"T_eca7e_level0_row8\" class=\"row_heading level0 row8\" >Critic_Score</th>\n",
       "      <td id=\"T_eca7e_row8_col0\" class=\"data row8 col0\" >51.32</td>\n",
       "    </tr>\n",
       "    <tr>\n",
       "      <th id=\"T_eca7e_level0_row9\" class=\"row_heading level0 row9\" >User_Score</th>\n",
       "      <td id=\"T_eca7e_row9_col0\" class=\"data row9 col0\" >40.09</td>\n",
       "    </tr>\n",
       "    <tr>\n",
       "      <th id=\"T_eca7e_level0_row10\" class=\"row_heading level0 row10\" >Rating</th>\n",
       "      <td id=\"T_eca7e_row10_col0\" class=\"data row10 col0\" >40.48</td>\n",
       "    </tr>\n",
       "  </tbody>\n",
       "</table>\n"
      ],
      "text/plain": [
       "<pandas.io.formats.style.Styler at 0x7f8b68aa46d0>"
      ]
     },
     "metadata": {},
     "output_type": "display_data"
    }
   ],
   "source": [
    "#визуализация процентного соотношения пропусков\n",
    "display(pd.DataFrame(round((games.isna().mean()*100),2), columns=['NaNs, %']).style.format(\n",
    "    '{:.2f}').background_gradient('coolwarm'))"
   ]
  },
  {
   "cell_type": "code",
   "execution_count": 7,
   "id": "ba26b9da",
   "metadata": {
    "scrolled": true
   },
   "outputs": [
    {
     "data": {
      "text/html": [
       "<div>\n",
       "<style scoped>\n",
       "    .dataframe tbody tr th:only-of-type {\n",
       "        vertical-align: middle;\n",
       "    }\n",
       "\n",
       "    .dataframe tbody tr th {\n",
       "        vertical-align: top;\n",
       "    }\n",
       "\n",
       "    .dataframe thead th {\n",
       "        text-align: right;\n",
       "    }\n",
       "</style>\n",
       "<table border=\"1\" class=\"dataframe\">\n",
       "  <thead>\n",
       "    <tr style=\"text-align: right;\">\n",
       "      <th></th>\n",
       "      <th>Name</th>\n",
       "      <th>Platform</th>\n",
       "      <th>Year_of_Release</th>\n",
       "      <th>Genre</th>\n",
       "      <th>NA_sales</th>\n",
       "      <th>EU_sales</th>\n",
       "      <th>JP_sales</th>\n",
       "      <th>Other_sales</th>\n",
       "      <th>Critic_Score</th>\n",
       "      <th>User_Score</th>\n",
       "      <th>Rating</th>\n",
       "    </tr>\n",
       "  </thead>\n",
       "  <tbody>\n",
       "    <tr>\n",
       "      <th>12562</th>\n",
       "      <td>S.C.A.R.S</td>\n",
       "      <td>N64</td>\n",
       "      <td>1998.0</td>\n",
       "      <td>Racing</td>\n",
       "      <td>0.05</td>\n",
       "      <td>0.01</td>\n",
       "      <td>0.00</td>\n",
       "      <td>0.00</td>\n",
       "      <td>NaN</td>\n",
       "      <td>NaN</td>\n",
       "      <td>NaN</td>\n",
       "    </tr>\n",
       "    <tr>\n",
       "      <th>8663</th>\n",
       "      <td>Amped 3</td>\n",
       "      <td>X360</td>\n",
       "      <td>2005.0</td>\n",
       "      <td>Sports</td>\n",
       "      <td>0.13</td>\n",
       "      <td>0.02</td>\n",
       "      <td>0.00</td>\n",
       "      <td>0.01</td>\n",
       "      <td>72.0</td>\n",
       "      <td>7.1</td>\n",
       "      <td>T</td>\n",
       "    </tr>\n",
       "    <tr>\n",
       "      <th>7596</th>\n",
       "      <td>Monster Jam</td>\n",
       "      <td>X360</td>\n",
       "      <td>2007.0</td>\n",
       "      <td>Racing</td>\n",
       "      <td>0.18</td>\n",
       "      <td>0.00</td>\n",
       "      <td>0.00</td>\n",
       "      <td>0.02</td>\n",
       "      <td>43.0</td>\n",
       "      <td>6.4</td>\n",
       "      <td>E</td>\n",
       "    </tr>\n",
       "    <tr>\n",
       "      <th>10601</th>\n",
       "      <td>The Destiny of Zorro</td>\n",
       "      <td>Wii</td>\n",
       "      <td>2009.0</td>\n",
       "      <td>Action</td>\n",
       "      <td>0.09</td>\n",
       "      <td>0.00</td>\n",
       "      <td>0.00</td>\n",
       "      <td>0.01</td>\n",
       "      <td>NaN</td>\n",
       "      <td>tbd</td>\n",
       "      <td>E10+</td>\n",
       "    </tr>\n",
       "    <tr>\n",
       "      <th>16123</th>\n",
       "      <td>Rise of Flight: Iron Cross Edition</td>\n",
       "      <td>PC</td>\n",
       "      <td>2010.0</td>\n",
       "      <td>Simulation</td>\n",
       "      <td>0.01</td>\n",
       "      <td>0.00</td>\n",
       "      <td>0.00</td>\n",
       "      <td>0.00</td>\n",
       "      <td>NaN</td>\n",
       "      <td>7.9</td>\n",
       "      <td>E10+</td>\n",
       "    </tr>\n",
       "    <tr>\n",
       "      <th>4329</th>\n",
       "      <td>PES 2009: Pro Evolution Soccer</td>\n",
       "      <td>Wii</td>\n",
       "      <td>2009.0</td>\n",
       "      <td>Sports</td>\n",
       "      <td>0.09</td>\n",
       "      <td>0.26</td>\n",
       "      <td>0.05</td>\n",
       "      <td>0.05</td>\n",
       "      <td>NaN</td>\n",
       "      <td>NaN</td>\n",
       "      <td>NaN</td>\n",
       "    </tr>\n",
       "    <tr>\n",
       "      <th>16022</th>\n",
       "      <td>Violet no Atelier: Gramnad no Renkinjutsushi 2...</td>\n",
       "      <td>PSP</td>\n",
       "      <td>2011.0</td>\n",
       "      <td>Role-Playing</td>\n",
       "      <td>0.00</td>\n",
       "      <td>0.00</td>\n",
       "      <td>0.02</td>\n",
       "      <td>0.00</td>\n",
       "      <td>NaN</td>\n",
       "      <td>NaN</td>\n",
       "      <td>NaN</td>\n",
       "    </tr>\n",
       "    <tr>\n",
       "      <th>10407</th>\n",
       "      <td>Big League Sports: Summer</td>\n",
       "      <td>DS</td>\n",
       "      <td>2009.0</td>\n",
       "      <td>Sports</td>\n",
       "      <td>0.09</td>\n",
       "      <td>0.00</td>\n",
       "      <td>0.00</td>\n",
       "      <td>0.01</td>\n",
       "      <td>NaN</td>\n",
       "      <td>tbd</td>\n",
       "      <td>E</td>\n",
       "    </tr>\n",
       "    <tr>\n",
       "      <th>14624</th>\n",
       "      <td>Higurashi no Naku Koro ni Iki</td>\n",
       "      <td>PSV</td>\n",
       "      <td>2015.0</td>\n",
       "      <td>Action</td>\n",
       "      <td>0.00</td>\n",
       "      <td>0.00</td>\n",
       "      <td>0.03</td>\n",
       "      <td>0.00</td>\n",
       "      <td>NaN</td>\n",
       "      <td>NaN</td>\n",
       "      <td>NaN</td>\n",
       "    </tr>\n",
       "    <tr>\n",
       "      <th>6945</th>\n",
       "      <td>Girls Mode 3: Kirakira Code</td>\n",
       "      <td>3DS</td>\n",
       "      <td>2015.0</td>\n",
       "      <td>Action</td>\n",
       "      <td>0.00</td>\n",
       "      <td>0.00</td>\n",
       "      <td>0.23</td>\n",
       "      <td>0.00</td>\n",
       "      <td>NaN</td>\n",
       "      <td>NaN</td>\n",
       "      <td>NaN</td>\n",
       "    </tr>\n",
       "  </tbody>\n",
       "</table>\n",
       "</div>"
      ],
      "text/plain": [
       "                                                    Name Platform  \\\n",
       "12562                                          S.C.A.R.S      N64   \n",
       "8663                                             Amped 3     X360   \n",
       "7596                                         Monster Jam     X360   \n",
       "10601                               The Destiny of Zorro      Wii   \n",
       "16123                 Rise of Flight: Iron Cross Edition       PC   \n",
       "4329                      PES 2009: Pro Evolution Soccer      Wii   \n",
       "16022  Violet no Atelier: Gramnad no Renkinjutsushi 2...      PSP   \n",
       "10407                          Big League Sports: Summer       DS   \n",
       "14624                      Higurashi no Naku Koro ni Iki      PSV   \n",
       "6945                         Girls Mode 3: Kirakira Code      3DS   \n",
       "\n",
       "       Year_of_Release         Genre  NA_sales  EU_sales  JP_sales  \\\n",
       "12562           1998.0        Racing      0.05      0.01      0.00   \n",
       "8663            2005.0        Sports      0.13      0.02      0.00   \n",
       "7596            2007.0        Racing      0.18      0.00      0.00   \n",
       "10601           2009.0        Action      0.09      0.00      0.00   \n",
       "16123           2010.0    Simulation      0.01      0.00      0.00   \n",
       "4329            2009.0        Sports      0.09      0.26      0.05   \n",
       "16022           2011.0  Role-Playing      0.00      0.00      0.02   \n",
       "10407           2009.0        Sports      0.09      0.00      0.00   \n",
       "14624           2015.0        Action      0.00      0.00      0.03   \n",
       "6945            2015.0        Action      0.00      0.00      0.23   \n",
       "\n",
       "       Other_sales  Critic_Score User_Score Rating  \n",
       "12562         0.00           NaN        NaN    NaN  \n",
       "8663          0.01          72.0        7.1      T  \n",
       "7596          0.02          43.0        6.4      E  \n",
       "10601         0.01           NaN        tbd   E10+  \n",
       "16123         0.00           NaN        7.9   E10+  \n",
       "4329          0.05           NaN        NaN    NaN  \n",
       "16022         0.00           NaN        NaN    NaN  \n",
       "10407         0.01           NaN        tbd      E  \n",
       "14624         0.00           NaN        NaN    NaN  \n",
       "6945          0.00           NaN        NaN    NaN  "
      ]
     },
     "execution_count": 7,
     "metadata": {},
     "output_type": "execute_result"
    }
   ],
   "source": [
    "#просмотр 10-ти случайных строк датасета\n",
    "games.sample(10)"
   ]
  },
  {
   "cell_type": "markdown",
   "id": "a0869dec",
   "metadata": {},
   "source": [
    "**Вывод** \n",
    "\n",
    "В датасете представлено 11 столбцов, присутствуют пустые значения в некоторых столбцах. Большое количество пропущенных значений представлено в столбце Critic_Score (более 51%)"
   ]
  },
  {
   "cell_type": "markdown",
   "id": "79147da7",
   "metadata": {},
   "source": [
    "# Подготовка данных"
   ]
  },
  {
   "cell_type": "code",
   "execution_count": 8,
   "id": "262d8298",
   "metadata": {},
   "outputs": [
    {
     "data": {
      "text/plain": [
       "0"
      ]
     },
     "execution_count": 8,
     "metadata": {},
     "output_type": "execute_result"
    }
   ],
   "source": [
    "#проверка данных на явные дубликаты\n",
    "games.duplicated().sum()"
   ]
  },
  {
   "cell_type": "markdown",
   "id": "1d18a3ad",
   "metadata": {},
   "source": [
    "Явные дубликаты не найдены"
   ]
  },
  {
   "cell_type": "code",
   "execution_count": 9,
   "id": "4d7fc69c",
   "metadata": {},
   "outputs": [],
   "source": [
    "#приведение названий столбцов к нижнему регистру для удобства работы\n",
    "games.columns = games.columns.str.lower()"
   ]
  },
  {
   "cell_type": "code",
   "execution_count": 10,
   "id": "4effbb50",
   "metadata": {},
   "outputs": [
    {
     "data": {
      "text/plain": [
       "['name',\n",
       " 'platform',\n",
       " 'year_of_release',\n",
       " 'genre',\n",
       " 'na_sales',\n",
       " 'eu_sales',\n",
       " 'jp_sales',\n",
       " 'other_sales',\n",
       " 'critic_score',\n",
       " 'user_score',\n",
       " 'rating']"
      ]
     },
     "execution_count": 10,
     "metadata": {},
     "output_type": "execute_result"
    }
   ],
   "source": [
    "#проверка изменений\n",
    "games.columns.tolist()"
   ]
  },
  {
   "cell_type": "markdown",
   "id": "5aa5d9ce",
   "metadata": {},
   "source": [
    "Рассмотрим каждый столбец в отдельности"
   ]
  },
  {
   "cell_type": "code",
   "execution_count": 11,
   "id": "bc628e02",
   "metadata": {},
   "outputs": [
    {
     "data": {
      "text/plain": [
       "array([' Beyblade Burst', ' Fire Emblem Fates', \" Frozen: Olaf's Quest\",\n",
       "       ..., 'wwe Smackdown vs. Raw 2006', '¡Shin Chan Flipa en colores!',\n",
       "       nan], dtype=object)"
      ]
     },
     "execution_count": 11,
     "metadata": {},
     "output_type": "execute_result"
    }
   ],
   "source": [
    "#просмотр уникальных значений столбца name\n",
    "games['name'].sort_values(ascending=True).unique()"
   ]
  },
  {
   "cell_type": "markdown",
   "id": "262ef486",
   "metadata": {},
   "source": [
    "Названия также представлены и в верхнем и в нижнему регистре, пока непонятно требуется ли это менять."
   ]
  },
  {
   "cell_type": "code",
   "execution_count": 12,
   "id": "9bc447c7",
   "metadata": {},
   "outputs": [
    {
     "data": {
      "text/plain": [
       "2"
      ]
     },
     "execution_count": 12,
     "metadata": {},
     "output_type": "execute_result"
    }
   ],
   "source": [
    "#просмотр количества пропущенных значений\n",
    "games['name'].isnull().sum()"
   ]
  },
  {
   "cell_type": "markdown",
   "id": "7f2ddf75",
   "metadata": {},
   "source": [
    "Без названия игры нельзя провести анализ по самой игре. Данные составляет 0.1%. Их можно удалить"
   ]
  },
  {
   "cell_type": "code",
   "execution_count": 13,
   "id": "a1e09f44",
   "metadata": {},
   "outputs": [
    {
     "data": {
      "text/plain": [
       "0"
      ]
     },
     "execution_count": 13,
     "metadata": {},
     "output_type": "execute_result"
    }
   ],
   "source": [
    "#удаление строк с пропусками\n",
    "games = games.dropna(subset=['name'])\n",
    "# повторный просмотр количества пропущенных значений\n",
    "games['name'].isnull().sum()"
   ]
  },
  {
   "cell_type": "markdown",
   "id": "561ea574",
   "metadata": {},
   "source": [
    "Столбец name подготовлен к анализу"
   ]
  },
  {
   "cell_type": "code",
   "execution_count": 14,
   "id": "24d00a6f",
   "metadata": {},
   "outputs": [
    {
     "data": {
      "text/plain": [
       "array(['2600', '3DO', '3DS', 'DC', 'DS', 'GB', 'GBA', 'GC', 'GEN', 'GG',\n",
       "       'N64', 'NES', 'NG', 'PC', 'PCFX', 'PS', 'PS2', 'PS3', 'PS4', 'PSP',\n",
       "       'PSV', 'SAT', 'SCD', 'SNES', 'TG16', 'WS', 'Wii', 'WiiU', 'X360',\n",
       "       'XB', 'XOne'], dtype=object)"
      ]
     },
     "execution_count": 14,
     "metadata": {},
     "output_type": "execute_result"
    }
   ],
   "source": [
    "#просмотр уникальных значений столбца platform\n",
    "games['platform'].sort_values(ascending=True).unique()"
   ]
  },
  {
   "cell_type": "markdown",
   "id": "728ab441",
   "metadata": {},
   "source": [
    "Пропущенные значения в стобце не обнаружены, неявные дубликаты тоже"
   ]
  },
  {
   "cell_type": "markdown",
   "id": "10c12248",
   "metadata": {},
   "source": [
    "Столбец platform подготовлен к анализу"
   ]
  },
  {
   "cell_type": "code",
   "execution_count": 15,
   "id": "b1914d32",
   "metadata": {},
   "outputs": [
    {
     "data": {
      "text/plain": [
       "array([1980., 1981., 1982., 1983., 1984., 1985., 1986., 1987., 1988.,\n",
       "       1989., 1990., 1991., 1992., 1993., 1994., 1995., 1996., 1997.,\n",
       "       1998., 1999., 2000., 2001., 2002., 2003., 2004., 2005., 2006.,\n",
       "       2007., 2008., 2009., 2010., 2011., 2012., 2013., 2014., 2015.,\n",
       "       2016.,   nan])"
      ]
     },
     "execution_count": 15,
     "metadata": {},
     "output_type": "execute_result"
    }
   ],
   "source": [
    "#просмотр уникальных значений столбца year_of_release\n",
    "games['year_of_release'].sort_values(ascending=True).unique()"
   ]
  },
  {
   "cell_type": "markdown",
   "id": "7e3ace94",
   "metadata": {},
   "source": [
    "Так как год выпуска может быть только целым числом, необходимо привести данные к целым. В столбце также присутствуют пропущенные значения. "
   ]
  },
  {
   "cell_type": "code",
   "execution_count": 16,
   "id": "aea05426",
   "metadata": {},
   "outputs": [
    {
     "data": {
      "text/plain": [
       "269"
      ]
     },
     "execution_count": 16,
     "metadata": {},
     "output_type": "execute_result"
    }
   ],
   "source": [
    "games['year_of_release'].isnull().sum()"
   ]
  },
  {
   "cell_type": "markdown",
   "id": "b9a21586",
   "metadata": {},
   "source": [
    "Пропусков много, заменим пропуски на -1, чтобы привести данные к целым числам."
   ]
  },
  {
   "cell_type": "code",
   "execution_count": 17,
   "id": "7ca63697",
   "metadata": {},
   "outputs": [],
   "source": [
    "#games['year_of_release'] = games['year_of_release'].fillna(-1)"
   ]
  },
  {
   "cell_type": "code",
   "execution_count": 18,
   "id": "bcf2b7d7",
   "metadata": {},
   "outputs": [],
   "source": [
    "#удаление строк с пропусками\n",
    "games = games.dropna(subset=['year_of_release'])"
   ]
  },
  {
   "cell_type": "code",
   "execution_count": 19,
   "id": "d2b2d6a9",
   "metadata": {},
   "outputs": [],
   "source": [
    "games['year_of_release'] = games['year_of_release'].astype('int')"
   ]
  },
  {
   "cell_type": "markdown",
   "id": "60468d5f",
   "metadata": {},
   "source": [
    "Столбец year_of_release подготовлен к анализу"
   ]
  },
  {
   "cell_type": "code",
   "execution_count": 20,
   "id": "b8e9679f",
   "metadata": {},
   "outputs": [
    {
     "data": {
      "text/plain": [
       "array(['Action', 'Adventure', 'Fighting', 'Misc', 'Platform', 'Puzzle',\n",
       "       'Racing', 'Role-Playing', 'Shooter', 'Simulation', 'Sports',\n",
       "       'Strategy'], dtype=object)"
      ]
     },
     "execution_count": 20,
     "metadata": {},
     "output_type": "execute_result"
    }
   ],
   "source": [
    "#просмотр уникальных значений столбца genre\n",
    "games['genre'].sort_values(ascending=True).unique()"
   ]
  },
  {
   "cell_type": "markdown",
   "id": "17fca474",
   "metadata": {},
   "source": [
    "Значения также представлены как в нижнем, так и в верхнем регистре, но это не мешает проведению исследования. Согласно данным проверки на пропуски, в столбце есть 0.01% пропусков"
   ]
  },
  {
   "cell_type": "code",
   "execution_count": 21,
   "id": "000a3269",
   "metadata": {},
   "outputs": [
    {
     "data": {
      "text/plain": [
       "0"
      ]
     },
     "execution_count": 21,
     "metadata": {},
     "output_type": "execute_result"
    }
   ],
   "source": [
    "games['genre'].isnull().sum()"
   ]
  },
  {
   "cell_type": "markdown",
   "id": "a7fec045",
   "metadata": {},
   "source": [
    "Пропуски не зафиксированы, можно сделать вывод, что это результат удаления строк с названиями игры"
   ]
  },
  {
   "cell_type": "markdown",
   "id": "fac1b00e",
   "metadata": {},
   "source": [
    "Столбец genre подготовлен к анализу"
   ]
  },
  {
   "cell_type": "code",
   "execution_count": 22,
   "id": "66291d9a",
   "metadata": {},
   "outputs": [
    {
     "data": {
      "text/plain": [
       "array([0.000e+00, 1.000e-02, 2.000e-02, 3.000e-02, 4.000e-02, 5.000e-02,\n",
       "       6.000e-02, 7.000e-02, 8.000e-02, 9.000e-02, 1.000e-01, 1.100e-01,\n",
       "       1.200e-01, 1.300e-01, 1.400e-01, 1.500e-01, 1.600e-01, 1.700e-01,\n",
       "       1.800e-01, 1.900e-01, 2.000e-01, 2.100e-01, 2.200e-01, 2.300e-01,\n",
       "       2.400e-01, 2.500e-01, 2.600e-01, 2.700e-01, 2.800e-01, 2.900e-01,\n",
       "       3.000e-01, 3.100e-01, 3.200e-01, 3.300e-01, 3.400e-01, 3.500e-01,\n",
       "       3.600e-01, 3.700e-01, 3.800e-01, 3.900e-01, 4.000e-01, 4.100e-01,\n",
       "       4.200e-01, 4.300e-01, 4.400e-01, 4.500e-01, 4.600e-01, 4.700e-01,\n",
       "       4.800e-01, 4.900e-01, 5.000e-01, 5.100e-01, 5.200e-01, 5.300e-01,\n",
       "       5.400e-01, 5.500e-01, 5.600e-01, 5.700e-01, 5.800e-01, 5.900e-01,\n",
       "       6.000e-01, 6.100e-01, 6.200e-01, 6.300e-01, 6.400e-01, 6.500e-01,\n",
       "       6.600e-01, 6.700e-01, 6.800e-01, 6.900e-01, 7.000e-01, 7.100e-01,\n",
       "       7.200e-01, 7.300e-01, 7.400e-01, 7.500e-01, 7.600e-01, 7.700e-01,\n",
       "       7.800e-01, 7.900e-01, 8.000e-01, 8.100e-01, 8.200e-01, 8.300e-01,\n",
       "       8.400e-01, 8.500e-01, 8.600e-01, 8.700e-01, 8.800e-01, 8.900e-01,\n",
       "       9.000e-01, 9.100e-01, 9.200e-01, 9.300e-01, 9.400e-01, 9.500e-01,\n",
       "       9.600e-01, 9.700e-01, 9.800e-01, 9.900e-01, 1.000e+00, 1.010e+00,\n",
       "       1.020e+00, 1.030e+00, 1.040e+00, 1.050e+00, 1.060e+00, 1.070e+00,\n",
       "       1.080e+00, 1.090e+00, 1.100e+00, 1.110e+00, 1.120e+00, 1.130e+00,\n",
       "       1.140e+00, 1.150e+00, 1.160e+00, 1.170e+00, 1.180e+00, 1.190e+00,\n",
       "       1.200e+00, 1.210e+00, 1.220e+00, 1.230e+00, 1.240e+00, 1.250e+00,\n",
       "       1.260e+00, 1.270e+00, 1.280e+00, 1.290e+00, 1.300e+00, 1.310e+00,\n",
       "       1.320e+00, 1.330e+00, 1.340e+00, 1.350e+00, 1.360e+00, 1.370e+00,\n",
       "       1.380e+00, 1.390e+00, 1.400e+00, 1.410e+00, 1.420e+00, 1.430e+00,\n",
       "       1.440e+00, 1.450e+00, 1.460e+00, 1.470e+00, 1.480e+00, 1.490e+00,\n",
       "       1.500e+00, 1.510e+00, 1.520e+00, 1.530e+00, 1.540e+00, 1.550e+00,\n",
       "       1.560e+00, 1.570e+00, 1.580e+00, 1.590e+00, 1.600e+00, 1.610e+00,\n",
       "       1.620e+00, 1.630e+00, 1.640e+00, 1.650e+00, 1.660e+00, 1.670e+00,\n",
       "       1.680e+00, 1.690e+00, 1.700e+00, 1.720e+00, 1.730e+00, 1.740e+00,\n",
       "       1.750e+00, 1.760e+00, 1.770e+00, 1.780e+00, 1.800e+00, 1.810e+00,\n",
       "       1.820e+00, 1.830e+00, 1.840e+00, 1.850e+00, 1.860e+00, 1.870e+00,\n",
       "       1.880e+00, 1.890e+00, 1.900e+00, 1.910e+00, 1.920e+00, 1.930e+00,\n",
       "       1.940e+00, 1.950e+00, 1.960e+00, 1.970e+00, 1.980e+00, 1.990e+00,\n",
       "       2.000e+00, 2.010e+00, 2.020e+00, 2.030e+00, 2.040e+00, 2.050e+00,\n",
       "       2.060e+00, 2.070e+00, 2.080e+00, 2.090e+00, 2.100e+00, 2.110e+00,\n",
       "       2.120e+00, 2.130e+00, 2.140e+00, 2.150e+00, 2.170e+00, 2.180e+00,\n",
       "       2.190e+00, 2.200e+00, 2.210e+00, 2.220e+00, 2.230e+00, 2.240e+00,\n",
       "       2.250e+00, 2.260e+00, 2.270e+00, 2.280e+00, 2.290e+00, 2.300e+00,\n",
       "       2.310e+00, 2.320e+00, 2.340e+00, 2.350e+00, 2.360e+00, 2.380e+00,\n",
       "       2.400e+00, 2.410e+00, 2.420e+00, 2.440e+00, 2.450e+00, 2.470e+00,\n",
       "       2.490e+00, 2.500e+00, 2.510e+00, 2.520e+00, 2.530e+00, 2.540e+00,\n",
       "       2.550e+00, 2.560e+00, 2.570e+00, 2.600e+00, 2.610e+00, 2.620e+00,\n",
       "       2.630e+00, 2.640e+00, 2.660e+00, 2.670e+00, 2.710e+00, 2.730e+00,\n",
       "       2.740e+00, 2.760e+00, 2.770e+00, 2.780e+00, 2.790e+00, 2.800e+00,\n",
       "       2.810e+00, 2.820e+00, 2.830e+00, 2.850e+00, 2.900e+00, 2.910e+00,\n",
       "       2.930e+00, 2.950e+00, 2.960e+00, 2.970e+00, 2.980e+00, 2.990e+00,\n",
       "       3.000e+00, 3.010e+00, 3.020e+00, 3.030e+00, 3.040e+00, 3.050e+00,\n",
       "       3.070e+00, 3.110e+00, 3.130e+00, 3.140e+00, 3.150e+00, 3.170e+00,\n",
       "       3.180e+00, 3.190e+00, 3.210e+00, 3.220e+00, 3.230e+00, 3.270e+00,\n",
       "       3.280e+00, 3.330e+00, 3.360e+00, 3.380e+00, 3.400e+00, 3.420e+00,\n",
       "       3.430e+00, 3.450e+00, 3.480e+00, 3.490e+00, 3.540e+00, 3.560e+00,\n",
       "       3.570e+00, 3.590e+00, 3.630e+00, 3.640e+00, 3.660e+00, 3.680e+00,\n",
       "       3.700e+00, 3.740e+00, 3.780e+00, 3.790e+00, 3.810e+00, 3.880e+00,\n",
       "       3.920e+00, 3.960e+00, 3.980e+00, 4.000e+00, 4.010e+00, 4.020e+00,\n",
       "       4.030e+00, 4.050e+00, 4.100e+00, 4.120e+00, 4.150e+00, 4.180e+00,\n",
       "       4.210e+00, 4.340e+00, 4.350e+00, 4.360e+00, 4.400e+00, 4.410e+00,\n",
       "       4.460e+00, 4.470e+00, 4.590e+00, 4.740e+00, 4.760e+00, 4.810e+00,\n",
       "       4.890e+00, 4.980e+00, 4.990e+00, 5.010e+00, 5.030e+00, 5.050e+00,\n",
       "       5.280e+00, 5.390e+00, 5.510e+00, 5.540e+00, 5.550e+00, 5.700e+00,\n",
       "       5.800e+00, 5.890e+00, 5.930e+00, 5.950e+00, 5.990e+00, 6.030e+00,\n",
       "       6.060e+00, 6.160e+00, 6.380e+00, 6.620e+00, 6.650e+00, 6.730e+00,\n",
       "       6.760e+00, 6.820e+00, 6.850e+00, 6.910e+00, 6.990e+00, 7.020e+00,\n",
       "       7.040e+00, 7.280e+00, 7.970e+00, 8.250e+00, 8.410e+00, 8.520e+00,\n",
       "       8.920e+00, 9.000e+00, 9.010e+00, 9.040e+00, 9.050e+00, 9.430e+00,\n",
       "       9.540e+00, 9.660e+00, 9.700e+00, 9.710e+00, 1.083e+01, 1.127e+01,\n",
       "       1.128e+01, 1.278e+01, 1.396e+01, 1.444e+01, 1.500e+01, 1.561e+01,\n",
       "       1.568e+01, 2.320e+01, 2.693e+01, 2.908e+01, 4.136e+01])"
      ]
     },
     "execution_count": 22,
     "metadata": {},
     "output_type": "execute_result"
    }
   ],
   "source": [
    "#просмотр уникальных значений столбца na_sales\n",
    "games['na_sales'].sort_values(ascending=True).unique()"
   ]
  },
  {
   "cell_type": "markdown",
   "id": "d597beb2",
   "metadata": {},
   "source": [
    "Согласно описанию данных, в столбце na_sales предсавлены данные о продажах в Северной Америке (миллионы проданных копий). По полученным от unique результатам пока непонятно требуется ли перевод в другую величину. Посмотрим точнее"
   ]
  },
  {
   "cell_type": "code",
   "execution_count": 23,
   "id": "472d4626",
   "metadata": {},
   "outputs": [
    {
     "data": {
      "text/plain": [
       "count    16444.000000\n",
       "mean         0.264012\n",
       "std          0.818378\n",
       "min          0.000000\n",
       "25%          0.000000\n",
       "50%          0.080000\n",
       "75%          0.240000\n",
       "max         41.360000\n",
       "Name: na_sales, dtype: float64"
      ]
     },
     "execution_count": 23,
     "metadata": {},
     "output_type": "execute_result"
    }
   ],
   "source": [
    "games['na_sales'].describe()"
   ]
  },
  {
   "cell_type": "markdown",
   "id": "342115b3",
   "metadata": {},
   "source": [
    "Данные выглядят корректно, пропусков в данных нет."
   ]
  },
  {
   "cell_type": "markdown",
   "id": "47c03d76",
   "metadata": {},
   "source": [
    "Столбец na_sales поготовлен к анализу"
   ]
  },
  {
   "cell_type": "code",
   "execution_count": 24,
   "id": "49ab7309",
   "metadata": {},
   "outputs": [],
   "source": [
    "#просмотр уникальных значений столбца eu_sales\n",
    "#games['eu_sales'].sort_values(ascending=True).unique()"
   ]
  },
  {
   "cell_type": "markdown",
   "id": "6e2d782c",
   "metadata": {},
   "source": [
    "Та же ситуация, что и с na_sales. Посмотрим точнее"
   ]
  },
  {
   "cell_type": "code",
   "execution_count": 25,
   "id": "96840c4f",
   "metadata": {},
   "outputs": [
    {
     "data": {
      "text/plain": [
       "count    16444.000000\n",
       "mean         0.145930\n",
       "std          0.506716\n",
       "min          0.000000\n",
       "25%          0.000000\n",
       "50%          0.020000\n",
       "75%          0.110000\n",
       "max         28.960000\n",
       "Name: eu_sales, dtype: float64"
      ]
     },
     "execution_count": 25,
     "metadata": {},
     "output_type": "execute_result"
    }
   ],
   "source": [
    "games['eu_sales'].describe()"
   ]
  },
  {
   "cell_type": "markdown",
   "id": "3cb0a354",
   "metadata": {},
   "source": [
    "Данные выглядят корректно, пропусков в данных нет."
   ]
  },
  {
   "cell_type": "markdown",
   "id": "8b74507f",
   "metadata": {},
   "source": [
    "Столбец eu_sales поготовлен к анализу"
   ]
  },
  {
   "cell_type": "code",
   "execution_count": 26,
   "id": "c1854773",
   "metadata": {},
   "outputs": [],
   "source": [
    "#просмотр уникальных значений столбца jp_sales\n",
    "#games['jp_sales'].sort_values(ascending=True).unique()"
   ]
  },
  {
   "cell_type": "code",
   "execution_count": 27,
   "id": "25eab0de",
   "metadata": {},
   "outputs": [
    {
     "data": {
      "text/plain": [
       "count    16444.000000\n",
       "mean         0.078487\n",
       "std          0.311100\n",
       "min          0.000000\n",
       "25%          0.000000\n",
       "50%          0.000000\n",
       "75%          0.040000\n",
       "max         10.220000\n",
       "Name: jp_sales, dtype: float64"
      ]
     },
     "execution_count": 27,
     "metadata": {},
     "output_type": "execute_result"
    }
   ],
   "source": [
    "games['jp_sales'].describe()"
   ]
  },
  {
   "cell_type": "markdown",
   "id": "818c4257",
   "metadata": {},
   "source": [
    "Данные выглядят корректно, пропусков в данных нет."
   ]
  },
  {
   "cell_type": "markdown",
   "id": "241d5147",
   "metadata": {},
   "source": [
    "Столбец jp_sales поготовлен к анализу"
   ]
  },
  {
   "cell_type": "code",
   "execution_count": 28,
   "id": "1c3dd655",
   "metadata": {},
   "outputs": [],
   "source": [
    "#просмотр уникальных значений столбца other_sales\n",
    "#games['other_sales'].sort_values(ascending=True).unique()"
   ]
  },
  {
   "cell_type": "code",
   "execution_count": 29,
   "id": "cf8194b4",
   "metadata": {},
   "outputs": [
    {
     "data": {
      "text/plain": [
       "count    16444.000000\n",
       "mean         0.047594\n",
       "std          0.188005\n",
       "min          0.000000\n",
       "25%          0.000000\n",
       "50%          0.010000\n",
       "75%          0.030000\n",
       "max         10.570000\n",
       "Name: other_sales, dtype: float64"
      ]
     },
     "execution_count": 29,
     "metadata": {},
     "output_type": "execute_result"
    }
   ],
   "source": [
    "games['other_sales'].describe()"
   ]
  },
  {
   "cell_type": "markdown",
   "id": "f17e3791",
   "metadata": {},
   "source": [
    "Данные выглядят корректно, пропусков в данных нет."
   ]
  },
  {
   "cell_type": "markdown",
   "id": "3fd8c7e3",
   "metadata": {},
   "source": [
    "Столбец other_sales поготовлен к анализу"
   ]
  },
  {
   "cell_type": "code",
   "execution_count": 30,
   "id": "00279f93",
   "metadata": {},
   "outputs": [
    {
     "data": {
      "text/plain": [
       "array([13., 17., 19., 20., 21., 23., 24., 25., 26., 27., 28., 29., 30.,\n",
       "       31., 32., 33., 34., 35., 36., 37., 38., 39., 40., 41., 42., 43.,\n",
       "       44., 45., 46., 47., 48., 49., 50., 51., 52., 53., 54., 55., 56.,\n",
       "       57., 58., 59., 60., 61., 62., 63., 64., 65., 66., 67., 68., 69.,\n",
       "       70., 71., 72., 73., 74., 75., 76., 77., 78., 79., 80., 81., 82.,\n",
       "       83., 84., 85., 86., 87., 88., 89., 90., 91., 92., 93., 94., 95.,\n",
       "       96., 97., 98., nan])"
      ]
     },
     "execution_count": 30,
     "metadata": {},
     "output_type": "execute_result"
    }
   ],
   "source": [
    "#просмотр уникальных значений столбца critic_score\n",
    "games['critic_score'].sort_values(ascending=True).unique()"
   ]
  },
  {
   "cell_type": "markdown",
   "id": "ec45dd01",
   "metadata": {},
   "source": [
    "Согласно первичной проверке, в этом столбце более 51% записей пропущены. Удаление таких строк нежелательно, поскольку исказит результаты исследования. Приведение пропусков к 0 также нежелательно, поскольку значительно занизит медиану. Можно так же, как в случае с годом выпуска заменить пропуски на -1."
   ]
  },
  {
   "cell_type": "code",
   "execution_count": 31,
   "id": "b99ccaf1",
   "metadata": {},
   "outputs": [],
   "source": [
    "#замена пропусков на -1\n",
    "games['critic_score'] = games['critic_score'].fillna(-1)"
   ]
  },
  {
   "cell_type": "markdown",
   "id": "ed9c4a1a",
   "metadata": {},
   "source": [
    "Данные выглядят корректно, пропусков в данных нет."
   ]
  },
  {
   "cell_type": "markdown",
   "id": "5e66a00e",
   "metadata": {},
   "source": [
    "Столбец critic_score поготовлен к анализу"
   ]
  },
  {
   "cell_type": "code",
   "execution_count": 32,
   "id": "652cead7",
   "metadata": {},
   "outputs": [
    {
     "data": {
      "text/plain": [
       "array(['0', '0.2', '0.3', '0.5', '0.6', '0.7', '0.9', '1', '1.1', '1.2',\n",
       "       '1.3', '1.4', '1.5', '1.6', '1.7', '1.8', '1.9', '2', '2.1', '2.2',\n",
       "       '2.3', '2.4', '2.5', '2.6', '2.7', '2.8', '2.9', '3', '3.1', '3.2',\n",
       "       '3.3', '3.4', '3.5', '3.6', '3.7', '3.8', '3.9', '4', '4.1', '4.2',\n",
       "       '4.3', '4.4', '4.5', '4.6', '4.7', '4.8', '4.9', '5', '5.1', '5.2',\n",
       "       '5.3', '5.4', '5.5', '5.6', '5.7', '5.8', '5.9', '6', '6.1', '6.2',\n",
       "       '6.3', '6.4', '6.5', '6.6', '6.7', '6.8', '6.9', '7', '7.1', '7.2',\n",
       "       '7.3', '7.4', '7.5', '7.6', '7.7', '7.8', '7.9', '8', '8.1', '8.2',\n",
       "       '8.3', '8.4', '8.5', '8.6', '8.7', '8.8', '8.9', '9', '9.1', '9.2',\n",
       "       '9.3', '9.4', '9.5', '9.6', '9.7', 'tbd', nan], dtype=object)"
      ]
     },
     "execution_count": 32,
     "metadata": {},
     "output_type": "execute_result"
    }
   ],
   "source": [
    "#просмотр уникальных значений столбца user_score\n",
    "games['user_score'].sort_values(ascending=True).unique()"
   ]
  },
  {
   "cell_type": "markdown",
   "id": "4b0d05b6",
   "metadata": {},
   "source": [
    "В этом столбце данные представлены в другой рейтинговой системе (от 0 до 10), так что замена пропусков на 0 будет нерелевантна. Требуется замена на -1."
   ]
  },
  {
   "cell_type": "code",
   "execution_count": 33,
   "id": "08f18544",
   "metadata": {},
   "outputs": [],
   "source": [
    "#замена пропусков на -1\n",
    "games['user_score'] = games['user_score'].fillna(-1)"
   ]
  },
  {
   "cell_type": "code",
   "execution_count": 34,
   "id": "a63c6874",
   "metadata": {},
   "outputs": [
    {
     "data": {
      "text/html": [
       "<div>\n",
       "<style scoped>\n",
       "    .dataframe tbody tr th:only-of-type {\n",
       "        vertical-align: middle;\n",
       "    }\n",
       "\n",
       "    .dataframe tbody tr th {\n",
       "        vertical-align: top;\n",
       "    }\n",
       "\n",
       "    .dataframe thead th {\n",
       "        text-align: right;\n",
       "    }\n",
       "</style>\n",
       "<table border=\"1\" class=\"dataframe\">\n",
       "  <thead>\n",
       "    <tr style=\"text-align: right;\">\n",
       "      <th></th>\n",
       "      <th>name</th>\n",
       "      <th>platform</th>\n",
       "      <th>year_of_release</th>\n",
       "      <th>genre</th>\n",
       "      <th>na_sales</th>\n",
       "      <th>eu_sales</th>\n",
       "      <th>jp_sales</th>\n",
       "      <th>other_sales</th>\n",
       "      <th>critic_score</th>\n",
       "      <th>user_score</th>\n",
       "      <th>rating</th>\n",
       "    </tr>\n",
       "  </thead>\n",
       "  <tbody>\n",
       "    <tr>\n",
       "      <th>119</th>\n",
       "      <td>Zumba Fitness</td>\n",
       "      <td>Wii</td>\n",
       "      <td>2010</td>\n",
       "      <td>Sports</td>\n",
       "      <td>3.45</td>\n",
       "      <td>2.59</td>\n",
       "      <td>0.0</td>\n",
       "      <td>0.66</td>\n",
       "      <td>-1.0</td>\n",
       "      <td>tbd</td>\n",
       "      <td>E</td>\n",
       "    </tr>\n",
       "    <tr>\n",
       "      <th>301</th>\n",
       "      <td>Namco Museum: 50th Anniversary</td>\n",
       "      <td>PS2</td>\n",
       "      <td>2005</td>\n",
       "      <td>Misc</td>\n",
       "      <td>2.08</td>\n",
       "      <td>1.35</td>\n",
       "      <td>0.0</td>\n",
       "      <td>0.54</td>\n",
       "      <td>61.0</td>\n",
       "      <td>tbd</td>\n",
       "      <td>E10+</td>\n",
       "    </tr>\n",
       "    <tr>\n",
       "      <th>520</th>\n",
       "      <td>Zumba Fitness 2</td>\n",
       "      <td>Wii</td>\n",
       "      <td>2011</td>\n",
       "      <td>Sports</td>\n",
       "      <td>1.51</td>\n",
       "      <td>1.03</td>\n",
       "      <td>0.0</td>\n",
       "      <td>0.27</td>\n",
       "      <td>-1.0</td>\n",
       "      <td>tbd</td>\n",
       "      <td>T</td>\n",
       "    </tr>\n",
       "    <tr>\n",
       "      <th>645</th>\n",
       "      <td>uDraw Studio</td>\n",
       "      <td>Wii</td>\n",
       "      <td>2010</td>\n",
       "      <td>Misc</td>\n",
       "      <td>1.65</td>\n",
       "      <td>0.57</td>\n",
       "      <td>0.0</td>\n",
       "      <td>0.20</td>\n",
       "      <td>71.0</td>\n",
       "      <td>tbd</td>\n",
       "      <td>E</td>\n",
       "    </tr>\n",
       "    <tr>\n",
       "      <th>718</th>\n",
       "      <td>Just Dance Kids</td>\n",
       "      <td>Wii</td>\n",
       "      <td>2010</td>\n",
       "      <td>Misc</td>\n",
       "      <td>1.52</td>\n",
       "      <td>0.54</td>\n",
       "      <td>0.0</td>\n",
       "      <td>0.18</td>\n",
       "      <td>-1.0</td>\n",
       "      <td>tbd</td>\n",
       "      <td>E</td>\n",
       "    </tr>\n",
       "    <tr>\n",
       "      <th>...</th>\n",
       "      <td>...</td>\n",
       "      <td>...</td>\n",
       "      <td>...</td>\n",
       "      <td>...</td>\n",
       "      <td>...</td>\n",
       "      <td>...</td>\n",
       "      <td>...</td>\n",
       "      <td>...</td>\n",
       "      <td>...</td>\n",
       "      <td>...</td>\n",
       "      <td>...</td>\n",
       "    </tr>\n",
       "    <tr>\n",
       "      <th>16695</th>\n",
       "      <td>Planet Monsters</td>\n",
       "      <td>GBA</td>\n",
       "      <td>2001</td>\n",
       "      <td>Action</td>\n",
       "      <td>0.01</td>\n",
       "      <td>0.00</td>\n",
       "      <td>0.0</td>\n",
       "      <td>0.00</td>\n",
       "      <td>67.0</td>\n",
       "      <td>tbd</td>\n",
       "      <td>E</td>\n",
       "    </tr>\n",
       "    <tr>\n",
       "      <th>16697</th>\n",
       "      <td>Bust-A-Move 3000</td>\n",
       "      <td>GC</td>\n",
       "      <td>2003</td>\n",
       "      <td>Puzzle</td>\n",
       "      <td>0.01</td>\n",
       "      <td>0.00</td>\n",
       "      <td>0.0</td>\n",
       "      <td>0.00</td>\n",
       "      <td>53.0</td>\n",
       "      <td>tbd</td>\n",
       "      <td>E</td>\n",
       "    </tr>\n",
       "    <tr>\n",
       "      <th>16698</th>\n",
       "      <td>Mega Brain Boost</td>\n",
       "      <td>DS</td>\n",
       "      <td>2008</td>\n",
       "      <td>Puzzle</td>\n",
       "      <td>0.01</td>\n",
       "      <td>0.00</td>\n",
       "      <td>0.0</td>\n",
       "      <td>0.00</td>\n",
       "      <td>48.0</td>\n",
       "      <td>tbd</td>\n",
       "      <td>E</td>\n",
       "    </tr>\n",
       "    <tr>\n",
       "      <th>16704</th>\n",
       "      <td>Plushees</td>\n",
       "      <td>DS</td>\n",
       "      <td>2008</td>\n",
       "      <td>Simulation</td>\n",
       "      <td>0.01</td>\n",
       "      <td>0.00</td>\n",
       "      <td>0.0</td>\n",
       "      <td>0.00</td>\n",
       "      <td>-1.0</td>\n",
       "      <td>tbd</td>\n",
       "      <td>E</td>\n",
       "    </tr>\n",
       "    <tr>\n",
       "      <th>16706</th>\n",
       "      <td>Men in Black II: Alien Escape</td>\n",
       "      <td>GC</td>\n",
       "      <td>2003</td>\n",
       "      <td>Shooter</td>\n",
       "      <td>0.01</td>\n",
       "      <td>0.00</td>\n",
       "      <td>0.0</td>\n",
       "      <td>0.00</td>\n",
       "      <td>-1.0</td>\n",
       "      <td>tbd</td>\n",
       "      <td>T</td>\n",
       "    </tr>\n",
       "  </tbody>\n",
       "</table>\n",
       "<p>2376 rows × 11 columns</p>\n",
       "</div>"
      ],
      "text/plain": [
       "                                 name platform  year_of_release       genre  \\\n",
       "119                     Zumba Fitness      Wii             2010      Sports   \n",
       "301    Namco Museum: 50th Anniversary      PS2             2005        Misc   \n",
       "520                   Zumba Fitness 2      Wii             2011      Sports   \n",
       "645                      uDraw Studio      Wii             2010        Misc   \n",
       "718                   Just Dance Kids      Wii             2010        Misc   \n",
       "...                               ...      ...              ...         ...   \n",
       "16695                 Planet Monsters      GBA             2001      Action   \n",
       "16697                Bust-A-Move 3000       GC             2003      Puzzle   \n",
       "16698                Mega Brain Boost       DS             2008      Puzzle   \n",
       "16704                        Plushees       DS             2008  Simulation   \n",
       "16706   Men in Black II: Alien Escape       GC             2003     Shooter   \n",
       "\n",
       "       na_sales  eu_sales  jp_sales  other_sales  critic_score user_score  \\\n",
       "119        3.45      2.59       0.0         0.66          -1.0        tbd   \n",
       "301        2.08      1.35       0.0         0.54          61.0        tbd   \n",
       "520        1.51      1.03       0.0         0.27          -1.0        tbd   \n",
       "645        1.65      0.57       0.0         0.20          71.0        tbd   \n",
       "718        1.52      0.54       0.0         0.18          -1.0        tbd   \n",
       "...         ...       ...       ...          ...           ...        ...   \n",
       "16695      0.01      0.00       0.0         0.00          67.0        tbd   \n",
       "16697      0.01      0.00       0.0         0.00          53.0        tbd   \n",
       "16698      0.01      0.00       0.0         0.00          48.0        tbd   \n",
       "16704      0.01      0.00       0.0         0.00          -1.0        tbd   \n",
       "16706      0.01      0.00       0.0         0.00          -1.0        tbd   \n",
       "\n",
       "      rating  \n",
       "119        E  \n",
       "301     E10+  \n",
       "520        T  \n",
       "645        E  \n",
       "718        E  \n",
       "...      ...  \n",
       "16695      E  \n",
       "16697      E  \n",
       "16698      E  \n",
       "16704      E  \n",
       "16706      T  \n",
       "\n",
       "[2376 rows x 11 columns]"
      ]
     },
     "execution_count": 34,
     "metadata": {},
     "output_type": "execute_result"
    }
   ],
   "source": [
    "#просмотр строк со значением \"tbd\"\n",
    "games.query('user_score==\"tbd\"')"
   ]
  },
  {
   "cell_type": "markdown",
   "id": "025d7f10",
   "metadata": {},
   "source": [
    "Значение tbd - аббревиатура (to be determined) - подлежит уточнению. Можно заменить данные на unknown (-1), смысл останется тот же."
   ]
  },
  {
   "cell_type": "code",
   "execution_count": 35,
   "id": "8ad6751e",
   "metadata": {},
   "outputs": [],
   "source": [
    "#замена tbd на -1\n",
    "games['user_score'] = games['user_score'].replace('tbd', -1, regex=True)\n",
    "#замена unknown на -1\n",
    "games['user_score'] = games['user_score'].replace('unknown', -1, regex=True)"
   ]
  },
  {
   "cell_type": "code",
   "execution_count": 36,
   "id": "48a2ba8c",
   "metadata": {},
   "outputs": [
    {
     "data": {
      "text/plain": [
       "array(['8', -1, '8.3', '8.5', '6.6', '8.4', '8.6', '7.7', '6.3', '7.4',\n",
       "       '8.2', '9', '7.9', '8.1', '8.7', '7.1', '3.4', '5.3', '4.8', '3.2',\n",
       "       '8.9', '6.4', '7.8', '7.5', '2.6', '7.2', '9.2', '7', '7.3', '4.3',\n",
       "       '7.6', '5.7', '5', '9.1', '6.5', '8.8', '6.9', '9.4', '6.8', '6.1',\n",
       "       '6.7', '5.4', '4', '4.9', '4.5', '9.3', '6.2', '4.2', '6', '3.7',\n",
       "       '4.1', '5.8', '5.6', '5.5', '4.4', '4.6', '5.9', '3.9', '3.1',\n",
       "       '2.9', '5.2', '3.3', '4.7', '5.1', '3.5', '2.5', '1.9', '3', '2.7',\n",
       "       '2.2', '2', '9.5', '2.1', '3.6', '2.8', '1.8', '3.8', '0', '1.6',\n",
       "       '9.6', '2.4', '1.7', '1.1', '0.3', '1.5', '0.7', '1.2', '2.3',\n",
       "       '0.5', '1.3', '0.2', '0.6', '1.4', '0.9', '1', '9.7'], dtype=object)"
      ]
     },
     "execution_count": 36,
     "metadata": {},
     "output_type": "execute_result"
    }
   ],
   "source": [
    "#проверка на правильную замену пропусков и tbd в столбце user_score\n",
    "games['user_score'].unique()"
   ]
  },
  {
   "cell_type": "code",
   "execution_count": 37,
   "id": "120a5c23",
   "metadata": {},
   "outputs": [],
   "source": [
    "#приведение данных к числовому типу\n",
    "games['user_score'] = games['user_score'].astype('float')"
   ]
  },
  {
   "cell_type": "markdown",
   "id": "79105fa6",
   "metadata": {},
   "source": [
    "Данные выглядят корректно, пропусков в данных нет."
   ]
  },
  {
   "cell_type": "markdown",
   "id": "7b9c7964",
   "metadata": {},
   "source": [
    "Столбец user_score поготовлен к анализу"
   ]
  },
  {
   "cell_type": "code",
   "execution_count": 38,
   "id": "33581c79",
   "metadata": {},
   "outputs": [
    {
     "data": {
      "text/plain": [
       "array(['AO', 'E', 'E10+', 'EC', 'K-A', 'M', 'RP', 'T', nan], dtype=object)"
      ]
     },
     "execution_count": 38,
     "metadata": {},
     "output_type": "execute_result"
    }
   ],
   "source": [
    "#просмотр уникальных значений столбца rating\n",
    "games['rating'].sort_values(ascending=True).unique()"
   ]
  },
  {
   "cell_type": "markdown",
   "id": "d6d787f7",
   "metadata": {},
   "source": [
    "Следовательно, исходя из полученной информации, стоит несколько задач:\n",
    "1. Объединение E и K-A в общую категорию\n",
    "2. Замена пропусков в данных на RP - Рейтинг ожидается\n",
    "3. Создание датафрейма или словаря (ключ-значение) для удобства дальнейшего использования"
   ]
  },
  {
   "cell_type": "code",
   "execution_count": 39,
   "id": "48b7908a",
   "metadata": {},
   "outputs": [],
   "source": [
    "#объединение E и K-A в общую категорию\n",
    "games['rating'] = games['rating'].replace('K-A', 'E', regex=True)\n",
    "#замена пропусков в данных на RP - Рейтинг ожидается\n",
    "games['rating'] = games['rating'].fillna('RP')"
   ]
  },
  {
   "cell_type": "code",
   "execution_count": 40,
   "id": "92fd1828",
   "metadata": {},
   "outputs": [],
   "source": [
    "#создание словаря (ключ-значение)\n",
    "rating_dict = {\n",
    "    'EC': 'Для детей младшего возраста',\n",
    "    'E': 'Для всех',\n",
    "    'E10+': 'Для всех от 10 лет и старше',\n",
    "    'T': 'Подросткам',\n",
    "    'M': 'Для взрослых',\n",
    "    'AO': 'Только для взрослых',\n",
    "    'RP': 'Рейтинг ожидается'\n",
    "}"
   ]
  },
  {
   "cell_type": "markdown",
   "id": "c3deceb2",
   "metadata": {},
   "source": [
    "Данные выглядят корректно, пропусков в данных нет."
   ]
  },
  {
   "cell_type": "markdown",
   "id": "8236276e",
   "metadata": {},
   "source": [
    "Столбец rating поготовлен к анализу"
   ]
  },
  {
   "cell_type": "code",
   "execution_count": 41,
   "id": "d5352ddf",
   "metadata": {
    "scrolled": true
   },
   "outputs": [
    {
     "data": {
      "text/plain": [
       "name               0\n",
       "platform           0\n",
       "year_of_release    0\n",
       "genre              0\n",
       "na_sales           0\n",
       "eu_sales           0\n",
       "jp_sales           0\n",
       "other_sales        0\n",
       "critic_score       0\n",
       "user_score         0\n",
       "rating             0\n",
       "dtype: int64"
      ]
     },
     "execution_count": 41,
     "metadata": {},
     "output_type": "execute_result"
    }
   ],
   "source": [
    "#общая повторная проверка на пропуски\n",
    "games.isnull().sum()"
   ]
  },
  {
   "cell_type": "markdown",
   "id": "de848913",
   "metadata": {},
   "source": [
    "Необходимо добавить новый столбец с суммарными продажами во всех регионах."
   ]
  },
  {
   "cell_type": "code",
   "execution_count": 43,
   "id": "d63e501e",
   "metadata": {},
   "outputs": [],
   "source": [
    "games['total_sales'] = games[['na_sales', 'eu_sales', 'jp_sales']].sum(axis=1)"
   ]
  },
  {
   "cell_type": "markdown",
   "id": "da200df0",
   "metadata": {},
   "source": [
    "**Вывод** \n",
    "\n",
    "Данные обработаны и подготовлены к анализу. Пропуски в данных устранены. Неявные дубликаты обработаны. Данные приведены к нужным типам. Создан словарь обозначений для столбца rating."
   ]
  },
  {
   "cell_type": "markdown",
   "id": "384a4027",
   "metadata": {},
   "source": [
    "# Исследовательский анализ данных"
   ]
  },
  {
   "cell_type": "markdown",
   "id": "cd55b8c3",
   "metadata": {},
   "source": [
    "**Посмотрите, сколько игр выпускалось в разные годы. Важны ли данные за все периоды?**"
   ]
  },
  {
   "cell_type": "code",
   "execution_count": 44,
   "id": "792a89ce",
   "metadata": {},
   "outputs": [
    {
     "data": {
      "image/png": "[encoded data removed]",
      "text/plain": [
       "<Figure size 1584x576 with 1 Axes>"
      ]
     },
     "metadata": {},
     "output_type": "display_data"
    }
   ],
   "source": [
    "#создадим сводную таблицу\n",
    "sales_per_year = games.pivot_table(index='year_of_release', values='total_sales', aggfunc='count')\n",
    "sales_per_year.columns = ['count']\n",
    "\n",
    "#поcтроим график\n",
    "f, ax = plt.subplots(figsize=(22, 8))\n",
    "ax = sns.barplot(x=sales_per_year.index, y=\"count\", data=sales_per_year)\n",
    "plt.title('Распределение по году выпуска')\n",
    "plt.xticks(rotation=45)\n",
    "plt.show()"
   ]
  },
  {
   "cell_type": "markdown",
   "id": "0e7fa2e3",
   "metadata": {},
   "source": [
    "Больше всего игр (больше 1000) выпускалось с 2016 по 2011 года. Максимальные значения - 1400 игр выпускались в 2008 и 2009 годах"
   ]
  },
  {
   "cell_type": "markdown",
   "id": "4016f019",
   "metadata": {},
   "source": [
    "**Посмотрите, как менялись продажи по платформам. Выберите платформы с наибольшими суммарными продажами и постройте распределение по годам. За какой характерный срок появляются новые и исчезают старые платформы?**"
   ]
  },
  {
   "cell_type": "code",
   "execution_count": 45,
   "id": "19d5cdad",
   "metadata": {},
   "outputs": [
    {
     "data": {
      "text/html": [
       "<div>\n",
       "<style scoped>\n",
       "    .dataframe tbody tr th:only-of-type {\n",
       "        vertical-align: middle;\n",
       "    }\n",
       "\n",
       "    .dataframe tbody tr th {\n",
       "        vertical-align: top;\n",
       "    }\n",
       "\n",
       "    .dataframe thead th {\n",
       "        text-align: right;\n",
       "    }\n",
       "</style>\n",
       "<table border=\"1\" class=\"dataframe\">\n",
       "  <thead>\n",
       "    <tr style=\"text-align: right;\">\n",
       "      <th></th>\n",
       "      <th>years_of_platform</th>\n",
       "    </tr>\n",
       "  </thead>\n",
       "  <tbody>\n",
       "    <tr>\n",
       "      <th>count</th>\n",
       "      <td>31.000000</td>\n",
       "    </tr>\n",
       "    <tr>\n",
       "      <th>mean</th>\n",
       "      <td>7.677419</td>\n",
       "    </tr>\n",
       "    <tr>\n",
       "      <th>std</th>\n",
       "      <td>5.081910</td>\n",
       "    </tr>\n",
       "    <tr>\n",
       "      <th>min</th>\n",
       "      <td>1.000000</td>\n",
       "    </tr>\n",
       "    <tr>\n",
       "      <th>25%</th>\n",
       "      <td>4.000000</td>\n",
       "    </tr>\n",
       "    <tr>\n",
       "      <th>50%</th>\n",
       "      <td>7.000000</td>\n",
       "    </tr>\n",
       "    <tr>\n",
       "      <th>75%</th>\n",
       "      <td>11.000000</td>\n",
       "    </tr>\n",
       "    <tr>\n",
       "      <th>max</th>\n",
       "      <td>26.000000</td>\n",
       "    </tr>\n",
       "  </tbody>\n",
       "</table>\n",
       "</div>"
      ],
      "text/plain": [
       "       years_of_platform\n",
       "count          31.000000\n",
       "mean            7.677419\n",
       "std             5.081910\n",
       "min             1.000000\n",
       "25%             4.000000\n",
       "50%             7.000000\n",
       "75%            11.000000\n",
       "max            26.000000"
      ]
     },
     "execution_count": 45,
     "metadata": {},
     "output_type": "execute_result"
    }
   ],
   "source": [
    "#объем продаж для каждой платформы по годам\n",
    "sales_per_year = games.pivot_table(index='year_of_release', columns='platform', values='total_sales', aggfunc='sum')\n",
    "sales_per_year.fillna(0, inplace=True)\n",
    "#средняя продолжительность жизни игровой платформы\n",
    "middle_life=[]\n",
    "for platform in sales_per_year.columns:\n",
    "    middle_life.append(sales_per_year[platform].ne(0).value_counts().loc[sales_per_year[platform].ne(0).value_counts().index == True].values[0])\n",
    "middle_life = pd.DataFrame(middle_life, columns=['years_of_platform'])\n",
    "middle_life.describe()"
   ]
  },
  {
   "cell_type": "markdown",
   "id": "0dbcbbd8",
   "metadata": {},
   "source": [
    "Максимальное время жизни платформы - 27 лет, минимальное - 1 год, среднее и медианное время отличаются и составляют 5.4 и 8.2 лет соответственно"
   ]
  },
  {
   "cell_type": "markdown",
   "id": "e6193d67",
   "metadata": {},
   "source": [
    "**Возьмите данные за соответствующий актуальный период. Актуальный период определите самостоятельно в результате исследования предыдущих вопросов. Основной фактор — эти данные помогут построить прогноз на 2017 год.**\n",
    "\n",
    "Не учитывайте в работе данные за предыдущие годы."
   ]
  },
  {
   "cell_type": "markdown",
   "id": "7822d990",
   "metadata": {},
   "source": [
    "В 2008 - 2011 годах наблюдался рост выпуска игр, а значит, большого количества платформ и высоких доходов производителей. В связи с тем, что с 2012 года виден спад, но с 2013 года рост постепенно начинается снова, можно считать период 2013-2016 года актуальным для расчета."
   ]
  },
  {
   "cell_type": "code",
   "execution_count": 46,
   "id": "6827fa3b",
   "metadata": {},
   "outputs": [],
   "source": [
    "games_after_2013 = games.loc[(games['year_of_release']>= 2013)]"
   ]
  },
  {
   "cell_type": "code",
   "execution_count": 47,
   "id": "5800ffae",
   "metadata": {
    "scrolled": true
   },
   "outputs": [
    {
     "data": {
      "text/html": [
       "<div>\n",
       "<style scoped>\n",
       "    .dataframe tbody tr th:only-of-type {\n",
       "        vertical-align: middle;\n",
       "    }\n",
       "\n",
       "    .dataframe tbody tr th {\n",
       "        vertical-align: top;\n",
       "    }\n",
       "\n",
       "    .dataframe thead th {\n",
       "        text-align: right;\n",
       "    }\n",
       "</style>\n",
       "<table border=\"1\" class=\"dataframe\">\n",
       "  <thead>\n",
       "    <tr style=\"text-align: right;\">\n",
       "      <th></th>\n",
       "      <th>total_sales</th>\n",
       "    </tr>\n",
       "    <tr>\n",
       "      <th>platform</th>\n",
       "      <th></th>\n",
       "    </tr>\n",
       "  </thead>\n",
       "  <tbody>\n",
       "    <tr>\n",
       "      <th>PS4</th>\n",
       "      <td>265.79</td>\n",
       "    </tr>\n",
       "    <tr>\n",
       "      <th>PS3</th>\n",
       "      <td>154.66</td>\n",
       "    </tr>\n",
       "    <tr>\n",
       "      <th>XOne</th>\n",
       "      <td>145.05</td>\n",
       "    </tr>\n",
       "    <tr>\n",
       "      <th>3DS</th>\n",
       "      <td>136.97</td>\n",
       "    </tr>\n",
       "    <tr>\n",
       "      <th>X360</th>\n",
       "      <td>124.69</td>\n",
       "    </tr>\n",
       "    <tr>\n",
       "      <th>WiiU</th>\n",
       "      <td>59.94</td>\n",
       "    </tr>\n",
       "    <tr>\n",
       "      <th>PC</th>\n",
       "      <td>36.47</td>\n",
       "    </tr>\n",
       "    <tr>\n",
       "      <th>PSV</th>\n",
       "      <td>29.73</td>\n",
       "    </tr>\n",
       "    <tr>\n",
       "      <th>Wii</th>\n",
       "      <td>12.54</td>\n",
       "    </tr>\n",
       "    <tr>\n",
       "      <th>PSP</th>\n",
       "      <td>3.46</td>\n",
       "    </tr>\n",
       "  </tbody>\n",
       "</table>\n",
       "</div>"
      ],
      "text/plain": [
       "          total_sales\n",
       "platform             \n",
       "PS4            265.79\n",
       "PS3            154.66\n",
       "XOne           145.05\n",
       "3DS            136.97\n",
       "X360           124.69\n",
       "WiiU            59.94\n",
       "PC              36.47\n",
       "PSV             29.73\n",
       "Wii             12.54\n",
       "PSP              3.46"
      ]
     },
     "execution_count": 47,
     "metadata": {},
     "output_type": "execute_result"
    }
   ],
   "source": [
    "games_after_2013.pivot_table(index='platform', values='total_sales', aggfunc='sum').nlargest(10, 'total_sales')"
   ]
  },
  {
   "cell_type": "markdown",
   "id": "a42c1439",
   "metadata": {},
   "source": [
    "После 2012 года лидировать начали продукты Sony PlayStation - PS4 и PS3 (при этом показатели PS4 практически в полтора раза больше PS3), а также продукт XOne."
   ]
  },
  {
   "cell_type": "code",
   "execution_count": 48,
   "id": "6a0f7b71",
   "metadata": {},
   "outputs": [
    {
     "data": {
      "text/plain": [
       "Text(0.5, 1.0, 'Распределение по году выпуска (после 2013 года)')"
      ]
     },
     "execution_count": 48,
     "metadata": {},
     "output_type": "execute_result"
    },
    {
     "data": {
      "image/png": "[encoded data removed]",
      "text/plain": [
       "<Figure size 1080x432 with 1 Axes>"
      ]
     },
     "metadata": {},
     "output_type": "display_data"
    }
   ],
   "source": [
    "#создадим сводную таблицу\n",
    "sales_per_year_after_2013 = games_after_2013.pivot_table(index='year_of_release', values='total_sales', aggfunc='count')\n",
    "sales_per_year_after_2013.columns = ['count']\n",
    "\n",
    "#построим график\n",
    "f, ax = plt.subplots(figsize=(15, 6))\n",
    "ax = sns.barplot(x=sales_per_year_after_2013.index, y=\"count\", data=sales_per_year_after_2013)\n",
    "plt.title('Распределение по году выпуска (после 2013 года)')"
   ]
  },
  {
   "cell_type": "code",
   "execution_count": 49,
   "id": "1f4597a7",
   "metadata": {},
   "outputs": [
    {
     "data": {
      "text/html": [
       "<div>\n",
       "<style scoped>\n",
       "    .dataframe tbody tr th:only-of-type {\n",
       "        vertical-align: middle;\n",
       "    }\n",
       "\n",
       "    .dataframe tbody tr th {\n",
       "        vertical-align: top;\n",
       "    }\n",
       "\n",
       "    .dataframe thead th {\n",
       "        text-align: right;\n",
       "    }\n",
       "</style>\n",
       "<table border=\"1\" class=\"dataframe\">\n",
       "  <thead>\n",
       "    <tr style=\"text-align: right;\">\n",
       "      <th></th>\n",
       "      <th>years_of_platform</th>\n",
       "    </tr>\n",
       "  </thead>\n",
       "  <tbody>\n",
       "    <tr>\n",
       "      <th>count</th>\n",
       "      <td>11.000000</td>\n",
       "    </tr>\n",
       "    <tr>\n",
       "      <th>mean</th>\n",
       "      <td>3.636364</td>\n",
       "    </tr>\n",
       "    <tr>\n",
       "      <th>std</th>\n",
       "      <td>0.924416</td>\n",
       "    </tr>\n",
       "    <tr>\n",
       "      <th>min</th>\n",
       "      <td>1.000000</td>\n",
       "    </tr>\n",
       "    <tr>\n",
       "      <th>25%</th>\n",
       "      <td>4.000000</td>\n",
       "    </tr>\n",
       "    <tr>\n",
       "      <th>50%</th>\n",
       "      <td>4.000000</td>\n",
       "    </tr>\n",
       "    <tr>\n",
       "      <th>75%</th>\n",
       "      <td>4.000000</td>\n",
       "    </tr>\n",
       "    <tr>\n",
       "      <th>max</th>\n",
       "      <td>4.000000</td>\n",
       "    </tr>\n",
       "  </tbody>\n",
       "</table>\n",
       "</div>"
      ],
      "text/plain": [
       "       years_of_platform\n",
       "count          11.000000\n",
       "mean            3.636364\n",
       "std             0.924416\n",
       "min             1.000000\n",
       "25%             4.000000\n",
       "50%             4.000000\n",
       "75%             4.000000\n",
       "max             4.000000"
      ]
     },
     "execution_count": 49,
     "metadata": {},
     "output_type": "execute_result"
    }
   ],
   "source": [
    "#объем продаж для каждой платформы по годам (после 2013)\n",
    "sales_per_year_after_2013 = games_after_2013.pivot_table(index='year_of_release', columns='platform', values='total_sales', aggfunc='sum')\n",
    "sales_per_year_after_2013.fillna(0, inplace=True)\n",
    "#средняя продолжительность жизни игровой платформы (после 2013)\n",
    "middle_life_2013=[]\n",
    "for platform in sales_per_year_after_2013.columns:\n",
    "    middle_life_2013.append(sales_per_year_after_2013[platform].ne(0).value_counts().loc[sales_per_year_after_2013[platform].ne(0).value_counts().index == True].values[0])\n",
    "middle_life_2013 = pd.DataFrame(middle_life_2013, columns=['years_of_platform'])\n",
    "middle_life_2013.describe()"
   ]
  },
  {
   "cell_type": "markdown",
   "id": "fd48d0cd",
   "metadata": {},
   "source": [
    "Логично, что максимальное время использования платформы понизилось до 4 лет, поскольку это максимальный рассматриваемый период. Минимально значение - 1 год, медианное значение же максимально приблизилось к нему, что означает что большинство платформ используются около 4 лет - максимального значения"
   ]
  },
  {
   "cell_type": "markdown",
   "id": "73d231b4",
   "metadata": {},
   "source": [
    "**Какие платформы лидируют по продажам, растут или падают? Выберите несколько потенциально прибыльных платформ.**"
   ]
  },
  {
   "cell_type": "code",
   "execution_count": 50,
   "id": "c7a2ddca",
   "metadata": {
    "scrolled": false
   },
   "outputs": [
    {
     "data": {
      "text/html": [
       "<div>\n",
       "<style scoped>\n",
       "    .dataframe tbody tr th:only-of-type {\n",
       "        vertical-align: middle;\n",
       "    }\n",
       "\n",
       "    .dataframe tbody tr th {\n",
       "        vertical-align: top;\n",
       "    }\n",
       "\n",
       "    .dataframe thead th {\n",
       "        text-align: right;\n",
       "    }\n",
       "</style>\n",
       "<table border=\"1\" class=\"dataframe\">\n",
       "  <thead>\n",
       "    <tr style=\"text-align: right;\">\n",
       "      <th></th>\n",
       "      <th>total_sales</th>\n",
       "    </tr>\n",
       "    <tr>\n",
       "      <th>platform</th>\n",
       "      <th></th>\n",
       "    </tr>\n",
       "  </thead>\n",
       "  <tbody>\n",
       "    <tr>\n",
       "      <th>PS4</th>\n",
       "      <td>265.79</td>\n",
       "    </tr>\n",
       "    <tr>\n",
       "      <th>PS3</th>\n",
       "      <td>154.66</td>\n",
       "    </tr>\n",
       "    <tr>\n",
       "      <th>XOne</th>\n",
       "      <td>145.05</td>\n",
       "    </tr>\n",
       "    <tr>\n",
       "      <th>3DS</th>\n",
       "      <td>136.97</td>\n",
       "    </tr>\n",
       "    <tr>\n",
       "      <th>X360</th>\n",
       "      <td>124.69</td>\n",
       "    </tr>\n",
       "    <tr>\n",
       "      <th>WiiU</th>\n",
       "      <td>59.94</td>\n",
       "    </tr>\n",
       "    <tr>\n",
       "      <th>PC</th>\n",
       "      <td>36.47</td>\n",
       "    </tr>\n",
       "    <tr>\n",
       "      <th>PSV</th>\n",
       "      <td>29.73</td>\n",
       "    </tr>\n",
       "    <tr>\n",
       "      <th>Wii</th>\n",
       "      <td>12.54</td>\n",
       "    </tr>\n",
       "    <tr>\n",
       "      <th>PSP</th>\n",
       "      <td>3.46</td>\n",
       "    </tr>\n",
       "  </tbody>\n",
       "</table>\n",
       "</div>"
      ],
      "text/plain": [
       "          total_sales\n",
       "platform             \n",
       "PS4            265.79\n",
       "PS3            154.66\n",
       "XOne           145.05\n",
       "3DS            136.97\n",
       "X360           124.69\n",
       "WiiU            59.94\n",
       "PC              36.47\n",
       "PSV             29.73\n",
       "Wii             12.54\n",
       "PSP              3.46"
      ]
     },
     "execution_count": 50,
     "metadata": {},
     "output_type": "execute_result"
    }
   ],
   "source": [
    "#топ-10 платформ, которые лидируют по продажам\n",
    "top10_platforms = games_after_2013.pivot_table(index='platform', values='total_sales', aggfunc='sum').nlargest(10, 'total_sales')\n",
    "top10_platforms"
   ]
  },
  {
   "cell_type": "markdown",
   "id": "d806a0f5",
   "metadata": {},
   "source": [
    "Наибольшее количество продаж представлено у Sony PlayStation(PS3, PS4), а также XBox (XOne)."
   ]
  },
  {
   "cell_type": "code",
   "execution_count": 51,
   "id": "26edd770",
   "metadata": {},
   "outputs": [
    {
     "data": {
      "text/html": [
       "<div>\n",
       "<style scoped>\n",
       "    .dataframe tbody tr th:only-of-type {\n",
       "        vertical-align: middle;\n",
       "    }\n",
       "\n",
       "    .dataframe tbody tr th {\n",
       "        vertical-align: top;\n",
       "    }\n",
       "\n",
       "    .dataframe thead th {\n",
       "        text-align: right;\n",
       "    }\n",
       "</style>\n",
       "<table border=\"1\" class=\"dataframe\">\n",
       "  <thead>\n",
       "    <tr style=\"text-align: right;\">\n",
       "      <th></th>\n",
       "      <th>platform</th>\n",
       "      <th>name</th>\n",
       "    </tr>\n",
       "  </thead>\n",
       "  <tbody>\n",
       "    <tr>\n",
       "      <th>4</th>\n",
       "      <td>PS4</td>\n",
       "      <td>392</td>\n",
       "    </tr>\n",
       "    <tr>\n",
       "      <th>6</th>\n",
       "      <td>PSV</td>\n",
       "      <td>358</td>\n",
       "    </tr>\n",
       "    <tr>\n",
       "      <th>3</th>\n",
       "      <td>PS3</td>\n",
       "      <td>345</td>\n",
       "    </tr>\n",
       "    <tr>\n",
       "      <th>0</th>\n",
       "      <td>3DS</td>\n",
       "      <td>303</td>\n",
       "    </tr>\n",
       "    <tr>\n",
       "      <th>10</th>\n",
       "      <td>XOne</td>\n",
       "      <td>247</td>\n",
       "    </tr>\n",
       "    <tr>\n",
       "      <th>2</th>\n",
       "      <td>PC</td>\n",
       "      <td>189</td>\n",
       "    </tr>\n",
       "    <tr>\n",
       "      <th>9</th>\n",
       "      <td>X360</td>\n",
       "      <td>186</td>\n",
       "    </tr>\n",
       "    <tr>\n",
       "      <th>8</th>\n",
       "      <td>WiiU</td>\n",
       "      <td>115</td>\n",
       "    </tr>\n",
       "    <tr>\n",
       "      <th>5</th>\n",
       "      <td>PSP</td>\n",
       "      <td>67</td>\n",
       "    </tr>\n",
       "    <tr>\n",
       "      <th>7</th>\n",
       "      <td>Wii</td>\n",
       "      <td>23</td>\n",
       "    </tr>\n",
       "  </tbody>\n",
       "</table>\n",
       "</div>"
      ],
      "text/plain": [
       "   platform  name\n",
       "4       PS4   392\n",
       "6       PSV   358\n",
       "3       PS3   345\n",
       "0       3DS   303\n",
       "10     XOne   247\n",
       "2        PC   189\n",
       "9      X360   186\n",
       "8      WiiU   115\n",
       "5       PSP    67\n",
       "7       Wii    23"
      ]
     },
     "execution_count": 51,
     "metadata": {},
     "output_type": "execute_result"
    }
   ],
   "source": [
    "#топ-10 платформ по количеству выпущенным игр\n",
    "top_games_platform = games_after_2013.groupby('platform').agg({'name':'count'}).reset_index()\n",
    "top_games_platform.sort_values(by='name', ascending=False).head(10)"
   ]
  },
  {
   "cell_type": "markdown",
   "id": "6613d08d",
   "metadata": {},
   "source": [
    "PS4, PS3 также находятся в лидерах, наравне с PSV, 3DS, но XOne опустился на 5 место."
   ]
  },
  {
   "cell_type": "markdown",
   "id": "4c48c902",
   "metadata": {},
   "source": [
    "**Постройте график «ящик с усами» по глобальным продажам игр в разбивке по платформам. Опишите результат.**"
   ]
  },
  {
   "cell_type": "code",
   "execution_count": 52,
   "id": "9531baeb",
   "metadata": {},
   "outputs": [
    {
     "data": {
      "image/png": "[encoded data removed]",
      "text/plain": [
       "<Figure size 1152x576 with 1 Axes>"
      ]
     },
     "metadata": {},
     "output_type": "display_data"
    }
   ],
   "source": [
    "#ящик с усами по глобальным продажам в разбивке по платформам\n",
    "ax = sns.catplot(x=\"platform\", \n",
    "            y='total_sales', \n",
    "            kind=\"box\", \n",
    "            data=games_after_2013, \n",
    "            height=8,\n",
    "            aspect=2)\n",
    "ax = plt.ylim(0, 2)\n"
   ]
  },
  {
   "cell_type": "markdown",
   "id": "51a63c8c",
   "metadata": {},
   "source": [
    "\"Лидеры рынка\" обладают большим размахом усов, чем платформы, наименее представленны на рынке.  \n",
    "Диаграмма размаха подтверждает полученные в результате составления сводной таблицы выводы:\n",
    "После 2012 года лидировать начали продукты Sony PlayStation - PS4 и PS3 (при этом показатели PS4 практически в полтора раза больше PS3), а также продукт XOne и X360."
   ]
  },
  {
   "cell_type": "markdown",
   "id": "21844497",
   "metadata": {},
   "source": [
    "**Посмотрите, как влияют на продажи внутри одной популярной платформы отзывы пользователей и критиков. Постройте диаграмму рассеяния и посчитайте корреляцию между отзывами и продажами. Сформулируйте выводы.**"
   ]
  },
  {
   "cell_type": "markdown",
   "id": "09c4d751",
   "metadata": {},
   "source": [
    "*Все платформы*"
   ]
  },
  {
   "cell_type": "code",
   "execution_count": 53,
   "id": "e1739454",
   "metadata": {},
   "outputs": [
    {
     "data": {
      "text/plain": [
       "Text(0.5, 1.0, 'Влияние отзывов критиков')"
      ]
     },
     "execution_count": 53,
     "metadata": {},
     "output_type": "execute_result"
    },
    {
     "data": {
      "image/png": "[encoded data removed]",
      "text/plain": [
       "<Figure size 1080x648 with 1 Axes>"
      ]
     },
     "metadata": {},
     "output_type": "display_data"
    }
   ],
   "source": [
    "#гистограмма для игр с отзывами критиков и без отзывов критиков\n",
    "games[(games['year_of_release'] != -1) & (games['critic_score'] > 0)]['year_of_release'].plot(kind='hist', bins=50, label='с отзывами критиков', figsize=(15,9)).legend()\n",
    "games[(games['year_of_release'] != -1) & (games['critic_score'] == -1) | (games['critic_score'] == 0)]['year_of_release'].plot(kind='hist', bins=50, label='без отзывов критиков', alpha=0.7).legend()\n",
    "plt.title('Влияние отзывов критиков')"
   ]
  },
  {
   "cell_type": "markdown",
   "id": "c221233c",
   "metadata": {},
   "source": [
    "В разные года игры с отзывами критиков или без отзывов приносили разное количество продаж. На гистограмме видно, что до 2007 года люди доверяли отзывами критиков и более ориентировались на них, но с 2008 года наблюдается тенденция значительного роста игр без отзывов критиков. Можно предположить, что игры захватывали людей, но не обладали необходимыми качествами для отправки критикам на отзыв либо не проходили для них по каким-либо параметрам."
   ]
  },
  {
   "cell_type": "code",
   "execution_count": 54,
   "id": "7fb756ff",
   "metadata": {},
   "outputs": [
    {
     "data": {
      "text/plain": [
       "Text(0.5, 1.0, 'Влияние отзывов пользователей')"
      ]
     },
     "execution_count": 54,
     "metadata": {},
     "output_type": "execute_result"
    },
    {
     "data": {
      "image/png": "[encoded data removed]",
      "text/plain": [
       "<Figure size 1080x648 with 1 Axes>"
      ]
     },
     "metadata": {},
     "output_type": "display_data"
    }
   ],
   "source": [
    "#гистограмма для игр с отзывами пользователей и без отзывов пользователей\n",
    "games[(games['year_of_release'] != -1) & (games['user_score'] != 0)]['year_of_release'].plot(kind='hist', bins=50, label='с отзывами пользователей', figsize=(15,9)).legend()\n",
    "games[(games['year_of_release'] != -1) & (games['user_score'] == -1) | (games['user_score'] == 0)]['year_of_release'].plot(kind='hist', bins=50, label='без отзывов пользователей', alpha=0.7).legend()\n",
    "plt.title('Влияние отзывов пользователей')"
   ]
  },
  {
   "cell_type": "markdown",
   "id": "243c3c00",
   "metadata": {},
   "source": [
    "На гистограмме видно, что отзывы пользователей оказывают значительно бОльшее влияние на продажу игр, чем отзывы критиков, игры без отзывов продаются гораздо хуже."
   ]
  },
  {
   "cell_type": "code",
   "execution_count": 55,
   "id": "b08aae2f",
   "metadata": {
    "scrolled": true
   },
   "outputs": [
    {
     "data": {
      "text/html": [
       "<div>\n",
       "<style scoped>\n",
       "    .dataframe tbody tr th:only-of-type {\n",
       "        vertical-align: middle;\n",
       "    }\n",
       "\n",
       "    .dataframe tbody tr th {\n",
       "        vertical-align: top;\n",
       "    }\n",
       "\n",
       "    .dataframe thead th {\n",
       "        text-align: right;\n",
       "    }\n",
       "</style>\n",
       "<table border=\"1\" class=\"dataframe\">\n",
       "  <thead>\n",
       "    <tr style=\"text-align: right;\">\n",
       "      <th></th>\n",
       "      <th>index</th>\n",
       "      <th>total_sales</th>\n",
       "    </tr>\n",
       "  </thead>\n",
       "  <tbody>\n",
       "    <tr>\n",
       "      <th>0</th>\n",
       "      <td>total_sales</td>\n",
       "      <td>1.000000</td>\n",
       "    </tr>\n",
       "    <tr>\n",
       "      <th>1</th>\n",
       "      <td>na_sales</td>\n",
       "      <td>0.946405</td>\n",
       "    </tr>\n",
       "    <tr>\n",
       "      <th>2</th>\n",
       "      <td>eu_sales</td>\n",
       "      <td>0.891954</td>\n",
       "    </tr>\n",
       "    <tr>\n",
       "      <th>3</th>\n",
       "      <td>other_sales</td>\n",
       "      <td>0.688060</td>\n",
       "    </tr>\n",
       "    <tr>\n",
       "      <th>4</th>\n",
       "      <td>jp_sales</td>\n",
       "      <td>0.633109</td>\n",
       "    </tr>\n",
       "    <tr>\n",
       "      <th>5</th>\n",
       "      <td>critic_score</td>\n",
       "      <td>0.138924</td>\n",
       "    </tr>\n",
       "    <tr>\n",
       "      <th>6</th>\n",
       "      <td>user_score</td>\n",
       "      <td>0.126033</td>\n",
       "    </tr>\n",
       "    <tr>\n",
       "      <th>7</th>\n",
       "      <td>year_of_release</td>\n",
       "      <td>-0.088463</td>\n",
       "    </tr>\n",
       "  </tbody>\n",
       "</table>\n",
       "</div>"
      ],
      "text/plain": [
       "             index  total_sales\n",
       "0      total_sales     1.000000\n",
       "1         na_sales     0.946405\n",
       "2         eu_sales     0.891954\n",
       "3      other_sales     0.688060\n",
       "4         jp_sales     0.633109\n",
       "5     critic_score     0.138924\n",
       "6       user_score     0.126033\n",
       "7  year_of_release    -0.088463"
      ]
     },
     "execution_count": 55,
     "metadata": {},
     "output_type": "execute_result"
    }
   ],
   "source": [
    "#определим корреляцию влияния отзывов на общие продажи игр\n",
    "score_sales_correlation = games.corr().sort_values('total_sales', ascending=False).filter(items = ['total_sales']).reset_index()\n",
    "score_sales_correlation"
   ]
  },
  {
   "cell_type": "markdown",
   "id": "f30769ca",
   "metadata": {},
   "source": [
    "Корреляция отзывов критиков несколько выше, чем пользователей, но, в целом, оба показателя достаточно невелики для того, чтобы сделать вывод, что отзывы критиков и отзывы пользователей незначительно влияют на продажи игр."
   ]
  },
  {
   "cell_type": "markdown",
   "id": "70c60946",
   "metadata": {},
   "source": [
    "*Одна платформа*"
   ]
  },
  {
   "cell_type": "markdown",
   "id": "a3867863",
   "metadata": {},
   "source": [
    "Платформа-лидер по продажам на рынке - платформа PS4. Посмотрим, как влияют на продажи PS4 отзывы пользователей и критиков. Построим диаграмму рассеяния и посчитаем корреляцию между отзывами и продажами."
   ]
  },
  {
   "cell_type": "code",
   "execution_count": 56,
   "id": "5876af73",
   "metadata": {
    "scrolled": true
   },
   "outputs": [
    {
     "data": {
      "text/html": [
       "<div>\n",
       "<style scoped>\n",
       "    .dataframe tbody tr th:only-of-type {\n",
       "        vertical-align: middle;\n",
       "    }\n",
       "\n",
       "    .dataframe tbody tr th {\n",
       "        vertical-align: top;\n",
       "    }\n",
       "\n",
       "    .dataframe thead th {\n",
       "        text-align: right;\n",
       "    }\n",
       "</style>\n",
       "<table border=\"1\" class=\"dataframe\">\n",
       "  <thead>\n",
       "    <tr style=\"text-align: right;\">\n",
       "      <th></th>\n",
       "      <th>index</th>\n",
       "      <th>total_sales</th>\n",
       "    </tr>\n",
       "  </thead>\n",
       "  <tbody>\n",
       "    <tr>\n",
       "      <th>0</th>\n",
       "      <td>total_sales</td>\n",
       "      <td>1.000000</td>\n",
       "    </tr>\n",
       "    <tr>\n",
       "      <th>1</th>\n",
       "      <td>other_sales</td>\n",
       "      <td>0.996909</td>\n",
       "    </tr>\n",
       "    <tr>\n",
       "      <th>2</th>\n",
       "      <td>eu_sales</td>\n",
       "      <td>0.954253</td>\n",
       "    </tr>\n",
       "    <tr>\n",
       "      <th>3</th>\n",
       "      <td>na_sales</td>\n",
       "      <td>0.889401</td>\n",
       "    </tr>\n",
       "    <tr>\n",
       "      <th>4</th>\n",
       "      <td>jp_sales</td>\n",
       "      <td>0.596642</td>\n",
       "    </tr>\n",
       "    <tr>\n",
       "      <th>5</th>\n",
       "      <td>critic_score</td>\n",
       "      <td>0.405223</td>\n",
       "    </tr>\n",
       "    <tr>\n",
       "      <th>6</th>\n",
       "      <td>user_score</td>\n",
       "      <td>-0.032923</td>\n",
       "    </tr>\n",
       "    <tr>\n",
       "      <th>7</th>\n",
       "      <td>year_of_release</td>\n",
       "      <td>-0.234699</td>\n",
       "    </tr>\n",
       "  </tbody>\n",
       "</table>\n",
       "</div>"
      ],
      "text/plain": [
       "             index  total_sales\n",
       "0      total_sales     1.000000\n",
       "1      other_sales     0.996909\n",
       "2         eu_sales     0.954253\n",
       "3         na_sales     0.889401\n",
       "4         jp_sales     0.596642\n",
       "5     critic_score     0.405223\n",
       "6       user_score    -0.032923\n",
       "7  year_of_release    -0.234699"
      ]
     },
     "execution_count": 56,
     "metadata": {},
     "output_type": "execute_result"
    }
   ],
   "source": [
    "ps4 = games_after_2013.query('platform == \"PS4\" and (critic_score != -1) and (user_score != -1) and (user_score != 0)')\n",
    "\n",
    "ps4_score_sales_correlation = ps4.corr().sort_values('total_sales', ascending=False).filter(items = ['total_sales']).reset_index()\n",
    "ps4_score_sales_correlation"
   ]
  },
  {
   "cell_type": "code",
   "execution_count": 57,
   "id": "81af489b",
   "metadata": {},
   "outputs": [
    {
     "data": {
      "text/plain": [
       "<AxesSubplot:xlabel='critic_score', ylabel='total_sales'>"
      ]
     },
     "execution_count": 57,
     "metadata": {},
     "output_type": "execute_result"
    },
    {
     "data": {
      "image/png": "[encoded data removed]",
      "text/plain": [
       "<Figure size 432x288 with 2 Axes>"
      ]
     },
     "metadata": {},
     "output_type": "display_data"
    }
   ],
   "source": [
    "#диаграмма рассеяния для отзывов пользователей\n",
    "ps4.plot(x='critic_score', y='total_sales', grid=True, alpha=0.7, kind='hexbin', gridsize=(15,9), sharex=True)"
   ]
  },
  {
   "cell_type": "code",
   "execution_count": 58,
   "id": "5a7ca1f7",
   "metadata": {},
   "outputs": [
    {
     "data": {
      "text/plain": [
       "<AxesSubplot:xlabel='user_score', ylabel='total_sales'>"
      ]
     },
     "execution_count": 58,
     "metadata": {},
     "output_type": "execute_result"
    },
    {
     "data": {
      "image/png": "[encoded data removed]",
      "text/plain": [
       "<Figure size 432x288 with 2 Axes>"
      ]
     },
     "metadata": {},
     "output_type": "display_data"
    }
   ],
   "source": [
    "#диаграмма рассеяния для отзывов пользователей\n",
    "ps4.plot(x='user_score', y='total_sales', grid=True, alpha=0.7, kind='hexbin', gridsize=(15,9), sharex=True)"
   ]
  },
  {
   "cell_type": "markdown",
   "id": "71336c58",
   "metadata": {},
   "source": [
    "Значимость отзывов критиков для платформы PS4 повысилась по сравнению со значимостью для всех платформ, в то время как значимость отзывов пользователей показала отрицательную зависимость с продажами платформы."
   ]
  },
  {
   "cell_type": "markdown",
   "id": "91ecb4f1",
   "metadata": {},
   "source": [
    "**Соотнесите выводы с продажами игр на других платформах.**"
   ]
  },
  {
   "cell_type": "markdown",
   "id": "9975bf11",
   "metadata": {},
   "source": [
    "Для всех платформ отзывы критиков влияют на продажи меньше, чем для выбранной в ходе исследования платформы (PS4), в то время как отзывы пользователей обладают бОльшим влиянием, чем для выбранной платформы. Для PS4 отзывы пользователей обладают отрицательной корреляцией, что характеризует обратную линейную зависимость."
   ]
  },
  {
   "cell_type": "markdown",
   "id": "d117d26e",
   "metadata": {},
   "source": [
    "**Посмотрите на общее распределение игр по жанрам. Что можно сказать о самых прибыльных жанрах? Выделяются ли жанры с высокими и низкими продажами?**"
   ]
  },
  {
   "cell_type": "markdown",
   "id": "fb03c79d",
   "metadata": {},
   "source": [
    "Для начала следует определить самые популярные жанры за весь период и за рассматриваемый период (с 2013-го года)."
   ]
  },
  {
   "cell_type": "code",
   "execution_count": 59,
   "id": "8e6f38c8",
   "metadata": {},
   "outputs": [
    {
     "data": {
      "text/html": [
       "<div>\n",
       "<style scoped>\n",
       "    .dataframe tbody tr th:only-of-type {\n",
       "        vertical-align: middle;\n",
       "    }\n",
       "\n",
       "    .dataframe tbody tr th {\n",
       "        vertical-align: top;\n",
       "    }\n",
       "\n",
       "    .dataframe thead th {\n",
       "        text-align: right;\n",
       "    }\n",
       "</style>\n",
       "<table border=\"1\" class=\"dataframe\">\n",
       "  <thead>\n",
       "    <tr style=\"text-align: right;\">\n",
       "      <th></th>\n",
       "      <th>name</th>\n",
       "    </tr>\n",
       "    <tr>\n",
       "      <th>genre</th>\n",
       "      <th></th>\n",
       "    </tr>\n",
       "  </thead>\n",
       "  <tbody>\n",
       "    <tr>\n",
       "      <th>Action</th>\n",
       "      <td>3307</td>\n",
       "    </tr>\n",
       "    <tr>\n",
       "      <th>Sports</th>\n",
       "      <td>2306</td>\n",
       "    </tr>\n",
       "    <tr>\n",
       "      <th>Misc</th>\n",
       "      <td>1721</td>\n",
       "    </tr>\n",
       "    <tr>\n",
       "      <th>Role-Playing</th>\n",
       "      <td>1481</td>\n",
       "    </tr>\n",
       "    <tr>\n",
       "      <th>Shooter</th>\n",
       "      <td>1296</td>\n",
       "    </tr>\n",
       "    <tr>\n",
       "      <th>Adventure</th>\n",
       "      <td>1293</td>\n",
       "    </tr>\n",
       "    <tr>\n",
       "      <th>Racing</th>\n",
       "      <td>1226</td>\n",
       "    </tr>\n",
       "    <tr>\n",
       "      <th>Platform</th>\n",
       "      <td>878</td>\n",
       "    </tr>\n",
       "    <tr>\n",
       "      <th>Simulation</th>\n",
       "      <td>857</td>\n",
       "    </tr>\n",
       "    <tr>\n",
       "      <th>Fighting</th>\n",
       "      <td>837</td>\n",
       "    </tr>\n",
       "    <tr>\n",
       "      <th>Strategy</th>\n",
       "      <td>673</td>\n",
       "    </tr>\n",
       "    <tr>\n",
       "      <th>Puzzle</th>\n",
       "      <td>569</td>\n",
       "    </tr>\n",
       "  </tbody>\n",
       "</table>\n",
       "</div>"
      ],
      "text/plain": [
       "              name\n",
       "genre             \n",
       "Action        3307\n",
       "Sports        2306\n",
       "Misc          1721\n",
       "Role-Playing  1481\n",
       "Shooter       1296\n",
       "Adventure     1293\n",
       "Racing        1226\n",
       "Platform       878\n",
       "Simulation     857\n",
       "Fighting       837\n",
       "Strategy       673\n",
       "Puzzle         569"
      ]
     },
     "execution_count": 59,
     "metadata": {},
     "output_type": "execute_result"
    }
   ],
   "source": [
    "#популярность жанров за всё время\n",
    "top_genres_all = games.groupby('genre').agg({'name':'count'}).sort_values(by='name', ascending=False)\n",
    "top_genres_all"
   ]
  },
  {
   "cell_type": "code",
   "execution_count": 60,
   "id": "db74d079",
   "metadata": {
    "scrolled": true
   },
   "outputs": [
    {
     "data": {
      "text/html": [
       "<div>\n",
       "<style scoped>\n",
       "    .dataframe tbody tr th:only-of-type {\n",
       "        vertical-align: middle;\n",
       "    }\n",
       "\n",
       "    .dataframe tbody tr th {\n",
       "        vertical-align: top;\n",
       "    }\n",
       "\n",
       "    .dataframe thead th {\n",
       "        text-align: right;\n",
       "    }\n",
       "</style>\n",
       "<table border=\"1\" class=\"dataframe\">\n",
       "  <thead>\n",
       "    <tr style=\"text-align: right;\">\n",
       "      <th></th>\n",
       "      <th>name</th>\n",
       "    </tr>\n",
       "    <tr>\n",
       "      <th>genre</th>\n",
       "      <th></th>\n",
       "    </tr>\n",
       "  </thead>\n",
       "  <tbody>\n",
       "    <tr>\n",
       "      <th>Action</th>\n",
       "      <td>766</td>\n",
       "    </tr>\n",
       "    <tr>\n",
       "      <th>Role-Playing</th>\n",
       "      <td>292</td>\n",
       "    </tr>\n",
       "    <tr>\n",
       "      <th>Adventure</th>\n",
       "      <td>245</td>\n",
       "    </tr>\n",
       "    <tr>\n",
       "      <th>Sports</th>\n",
       "      <td>214</td>\n",
       "    </tr>\n",
       "    <tr>\n",
       "      <th>Shooter</th>\n",
       "      <td>187</td>\n",
       "    </tr>\n",
       "    <tr>\n",
       "      <th>Misc</th>\n",
       "      <td>155</td>\n",
       "    </tr>\n",
       "    <tr>\n",
       "      <th>Racing</th>\n",
       "      <td>85</td>\n",
       "    </tr>\n",
       "    <tr>\n",
       "      <th>Fighting</th>\n",
       "      <td>80</td>\n",
       "    </tr>\n",
       "    <tr>\n",
       "      <th>Platform</th>\n",
       "      <td>74</td>\n",
       "    </tr>\n",
       "    <tr>\n",
       "      <th>Simulation</th>\n",
       "      <td>62</td>\n",
       "    </tr>\n",
       "    <tr>\n",
       "      <th>Strategy</th>\n",
       "      <td>56</td>\n",
       "    </tr>\n",
       "    <tr>\n",
       "      <th>Puzzle</th>\n",
       "      <td>17</td>\n",
       "    </tr>\n",
       "  </tbody>\n",
       "</table>\n",
       "</div>"
      ],
      "text/plain": [
       "              name\n",
       "genre             \n",
       "Action         766\n",
       "Role-Playing   292\n",
       "Adventure      245\n",
       "Sports         214\n",
       "Shooter        187\n",
       "Misc           155\n",
       "Racing          85\n",
       "Fighting        80\n",
       "Platform        74\n",
       "Simulation      62\n",
       "Strategy        56\n",
       "Puzzle          17"
      ]
     },
     "execution_count": 60,
     "metadata": {},
     "output_type": "execute_result"
    }
   ],
   "source": [
    "#популярность жанров с 2013 года\n",
    "top_genres_after_2013 = games_after_2013.groupby('genre').agg({'name':'count'}).sort_values(by='name', ascending=False)\n",
    "top_genres_after_2013"
   ]
  },
  {
   "cell_type": "markdown",
   "id": "ada78032",
   "metadata": {},
   "source": [
    "Наиболее популярным жанром во все времена является \"Action\", но после 2013 года приобрели популярность также \"Role-Playing\" и \"Adventure\", которые ранее были менее популярны."
   ]
  },
  {
   "cell_type": "code",
   "execution_count": 61,
   "id": "3abbe248",
   "metadata": {},
   "outputs": [
    {
     "data": {
      "image/png": "[encoded data removed]",
      "text/plain": [
       "<Figure size 864x864 with 1 Axes>"
      ]
     },
     "metadata": {},
     "output_type": "display_data"
    }
   ],
   "source": [
    "#построим \"ящик с усами\" для определения наиболее продаваемого жанра после 2013 года\n",
    "sns.catplot(x='genre', y=\"total_sales\", kind=\"box\", data=games_after_2013, height=12)\n",
    "_ = plt.ylim(0, 6)"
   ]
  },
  {
   "cell_type": "markdown",
   "id": "5aa3477b",
   "metadata": {},
   "source": [
    "Несмотря на наиболее популярные жанры - \"Action\", \"Role-Playing\", \"Adventure\" - больше всего прибыли приносит жанр \"Shooter\". Можно предположить, что эти игры дороже и, несмотря на меньшее количество пользователей, приносят бОльшую прибыль. "
   ]
  },
  {
   "cell_type": "markdown",
   "id": "5a9e3f43",
   "metadata": {},
   "source": [
    "# Составление портрета пользователя каждого региона "
   ]
  },
  {
   "cell_type": "markdown",
   "id": "4cba9a9a",
   "metadata": {},
   "source": [
    "**Самые популярные платформы (топ-5) для пользователя каждого региона (NA, EU, JP)**"
   ]
  },
  {
   "cell_type": "code",
   "execution_count": 62,
   "id": "451883bc",
   "metadata": {},
   "outputs": [
    {
     "data": {
      "text/plain": [
       "Text(0.5, 1.0, 'Продажи игр популярных платформ в Северной Америке за всё время (миллионы проданных копий)')"
      ]
     },
     "execution_count": 62,
     "metadata": {},
     "output_type": "execute_result"
    },
    {
     "data": {
      "image/png": "[encoded data removed]",
      "text/plain": [
       "<Figure size 432x288 with 1 Axes>"
      ]
     },
     "metadata": {},
     "output_type": "display_data"
    }
   ],
   "source": [
    "#топ-5 популярных платформ в Северной Америке за всё время\n",
    "games.groupby(by='platform').agg({'na_sales':'sum'}).sort_values(by='na_sales', ascending=False).head(5).plot(kind='bar')\n",
    "plt.title('Продажи игр популярных платформ в Северной Америке за всё время (миллионы проданных копий)')"
   ]
  },
  {
   "cell_type": "code",
   "execution_count": 63,
   "id": "10bc433d",
   "metadata": {},
   "outputs": [
    {
     "data": {
      "text/plain": [
       "Text(0.5, 1.0, 'Продажи игр популярных платформ в Северной Америке после 2013 года (миллионы проданных копий)')"
      ]
     },
     "execution_count": 63,
     "metadata": {},
     "output_type": "execute_result"
    },
    {
     "data": {
      "image/png": "[encoded data removed]",
      "text/plain": [
       "<Figure size 432x288 with 1 Axes>"
      ]
     },
     "metadata": {},
     "output_type": "display_data"
    }
   ],
   "source": [
    "#топ-5 популярных платформ в Северной Америке после 2013 года\n",
    "games_after_2013.groupby(by='platform').agg({'na_sales':'sum'}).sort_values(by='na_sales', ascending=False).head(5).plot(kind='bar')\n",
    "plt.title('Продажи игр популярных платформ в Северной Америке после 2013 года (миллионы проданных копий)')"
   ]
  },
  {
   "cell_type": "code",
   "execution_count": 64,
   "id": "a6a71a46",
   "metadata": {
    "scrolled": true
   },
   "outputs": [
    {
     "data": {
      "text/html": [
       "<div>\n",
       "<style scoped>\n",
       "    .dataframe tbody tr th:only-of-type {\n",
       "        vertical-align: middle;\n",
       "    }\n",
       "\n",
       "    .dataframe tbody tr th {\n",
       "        vertical-align: top;\n",
       "    }\n",
       "\n",
       "    .dataframe thead th {\n",
       "        text-align: right;\n",
       "    }\n",
       "</style>\n",
       "<table border=\"1\" class=\"dataframe\">\n",
       "  <thead>\n",
       "    <tr style=\"text-align: right;\">\n",
       "      <th></th>\n",
       "      <th>sales</th>\n",
       "    </tr>\n",
       "    <tr>\n",
       "      <th>platform</th>\n",
       "      <th></th>\n",
       "    </tr>\n",
       "  </thead>\n",
       "  <tbody>\n",
       "    <tr>\n",
       "      <th>PS4</th>\n",
       "      <td>108.74</td>\n",
       "    </tr>\n",
       "    <tr>\n",
       "      <th>XOne</th>\n",
       "      <td>93.12</td>\n",
       "    </tr>\n",
       "    <tr>\n",
       "      <th>X360</th>\n",
       "      <td>81.66</td>\n",
       "    </tr>\n",
       "    <tr>\n",
       "      <th>PS3</th>\n",
       "      <td>63.50</td>\n",
       "    </tr>\n",
       "    <tr>\n",
       "      <th>3DS</th>\n",
       "      <td>38.20</td>\n",
       "    </tr>\n",
       "  </tbody>\n",
       "</table>\n",
       "</div>"
      ],
      "text/plain": [
       "           sales\n",
       "platform        \n",
       "PS4       108.74\n",
       "XOne       93.12\n",
       "X360       81.66\n",
       "PS3        63.50\n",
       "3DS        38.20"
      ]
     },
     "execution_count": 64,
     "metadata": {},
     "output_type": "execute_result"
    }
   ],
   "source": [
    "#составим сводные таблицы по данным продаж платформ в разных регионах после 2013 года\n",
    "na_sales_by_platform = games_after_2013.pivot_table(index='platform', values='na_sales', aggfunc='sum').nlargest(5, 'na_sales')\n",
    "na_sales_by_platform.columns = ['sales']\n",
    "na_sales_by_platform"
   ]
  },
  {
   "cell_type": "markdown",
   "id": "743dc272",
   "metadata": {},
   "source": [
    "Список самых популярных платформ в США за всё время и после 2013 года значительно отличается, что логично, появляются новые, усовершенствованные модели, которые пользуются бОльшей популярностью, чем старые. Продукция SonyPlaystation (PS2, PS3, PS4) неизменно находитя в топ-5 самых популярных платформ. Продукция XBox (X360 и XOne) также неизменно находится среди лидирующих позиций. "
   ]
  },
  {
   "cell_type": "code",
   "execution_count": 65,
   "id": "33e0a5ec",
   "metadata": {},
   "outputs": [
    {
     "data": {
      "text/plain": [
       "Text(0.5, 1.0, 'Продажи игр популярных платформ в Европе за всё время (миллионы проданных копий)')"
      ]
     },
     "execution_count": 65,
     "metadata": {},
     "output_type": "execute_result"
    },
    {
     "data": {
      "image/png": "[encoded data removed]",
      "text/plain": [
       "<Figure size 432x288 with 1 Axes>"
      ]
     },
     "metadata": {},
     "output_type": "display_data"
    }
   ],
   "source": [
    "#топ-5 популярных платформ в Европе за всё время\n",
    "games.groupby(by='platform').agg({'eu_sales':'sum'}).sort_values(by='eu_sales', ascending=False).head(5).plot(kind='bar')\n",
    "plt.title('Продажи игр популярных платформ в Европе за всё время (миллионы проданных копий)')"
   ]
  },
  {
   "cell_type": "code",
   "execution_count": 66,
   "id": "2ffaa3d4",
   "metadata": {},
   "outputs": [
    {
     "data": {
      "text/plain": [
       "Text(0.5, 1.0, 'Продажи игр популярных платформ в Европе после 2013 года (миллионы проданных копий)')"
      ]
     },
     "execution_count": 66,
     "metadata": {},
     "output_type": "execute_result"
    },
    {
     "data": {
      "image/png": "[encoded data removed]",
      "text/plain": [
       "<Figure size 432x288 with 1 Axes>"
      ]
     },
     "metadata": {},
     "output_type": "display_data"
    }
   ],
   "source": [
    "#топ-5 популярных платформ в Европе после 2013 года\n",
    "games_after_2013.groupby(by='platform').agg({'eu_sales':'sum'}).sort_values(by='eu_sales', ascending=False).head(5).plot(kind='bar')\n",
    "plt.title('Продажи игр популярных платформ в Европе после 2013 года (миллионы проданных копий)')"
   ]
  },
  {
   "cell_type": "code",
   "execution_count": 67,
   "id": "1f40995a",
   "metadata": {
    "scrolled": true
   },
   "outputs": [
    {
     "data": {
      "text/html": [
       "<div>\n",
       "<style scoped>\n",
       "    .dataframe tbody tr th:only-of-type {\n",
       "        vertical-align: middle;\n",
       "    }\n",
       "\n",
       "    .dataframe tbody tr th {\n",
       "        vertical-align: top;\n",
       "    }\n",
       "\n",
       "    .dataframe thead th {\n",
       "        text-align: right;\n",
       "    }\n",
       "</style>\n",
       "<table border=\"1\" class=\"dataframe\">\n",
       "  <thead>\n",
       "    <tr style=\"text-align: right;\">\n",
       "      <th></th>\n",
       "      <th>sales</th>\n",
       "    </tr>\n",
       "    <tr>\n",
       "      <th>platform</th>\n",
       "      <th></th>\n",
       "    </tr>\n",
       "  </thead>\n",
       "  <tbody>\n",
       "    <tr>\n",
       "      <th>PS4</th>\n",
       "      <td>141.09</td>\n",
       "    </tr>\n",
       "    <tr>\n",
       "      <th>PS3</th>\n",
       "      <td>67.81</td>\n",
       "    </tr>\n",
       "    <tr>\n",
       "      <th>XOne</th>\n",
       "      <td>51.59</td>\n",
       "    </tr>\n",
       "    <tr>\n",
       "      <th>X360</th>\n",
       "      <td>42.52</td>\n",
       "    </tr>\n",
       "    <tr>\n",
       "      <th>3DS</th>\n",
       "      <td>30.96</td>\n",
       "    </tr>\n",
       "  </tbody>\n",
       "</table>\n",
       "</div>"
      ],
      "text/plain": [
       "           sales\n",
       "platform        \n",
       "PS4       141.09\n",
       "PS3        67.81\n",
       "XOne       51.59\n",
       "X360       42.52\n",
       "3DS        30.96"
      ]
     },
     "execution_count": 67,
     "metadata": {},
     "output_type": "execute_result"
    }
   ],
   "source": [
    "eu_sales_by_platform = games_after_2013.pivot_table(index='platform', values='eu_sales', aggfunc='sum').nlargest(5, 'eu_sales')\n",
    "eu_sales_by_platform.columns = ['sales']\n",
    "eu_sales_by_platform"
   ]
  },
  {
   "cell_type": "markdown",
   "id": "b316eb59",
   "metadata": {},
   "source": [
    "Ситуация в Европе отчасти cхожа с Северной Америкой, продукция Sony PlayStation (PS2, PS3, PS4) занимают лидирующие строчки как за всё время, так и с 2013 года, значительно обходя конкурентов. Продукция XBox (X360 и XOne) также находится в топ-5 рейтинга."
   ]
  },
  {
   "cell_type": "code",
   "execution_count": 68,
   "id": "87e4a1a9",
   "metadata": {},
   "outputs": [
    {
     "data": {
      "text/plain": [
       "Text(0.5, 1.0, 'Продажи игр популярных платформ в Японии за всё время (миллионы проданных копий)')"
      ]
     },
     "execution_count": 68,
     "metadata": {},
     "output_type": "execute_result"
    },
    {
     "data": {
      "image/png": "[encoded data removed]",
      "text/plain": [
       "<Figure size 432x288 with 1 Axes>"
      ]
     },
     "metadata": {},
     "output_type": "display_data"
    }
   ],
   "source": [
    "#топ-5 популярных платформ в Японии за всё время\n",
    "games.groupby(by='platform').agg({'jp_sales':'sum'}).sort_values(by='jp_sales', ascending=False).head(5).plot(kind='bar')\n",
    "plt.title('Продажи игр популярных платформ в Японии за всё время (миллионы проданных копий)')"
   ]
  },
  {
   "cell_type": "code",
   "execution_count": 69,
   "id": "8ae4b6af",
   "metadata": {},
   "outputs": [
    {
     "data": {
      "text/plain": [
       "Text(0.5, 1.0, 'Продажи игр популярных платформ в Японии после 2013 года (миллионы проданных копий)')"
      ]
     },
     "execution_count": 69,
     "metadata": {},
     "output_type": "execute_result"
    },
    {
     "data": {
      "image/png": "[encoded data removed]",
      "text/plain": [
       "<Figure size 432x288 with 1 Axes>"
      ]
     },
     "metadata": {},
     "output_type": "display_data"
    }
   ],
   "source": [
    "#топ-5 популярных платформ в Японии после 2013 года\n",
    "games_after_2013.groupby(by='platform').agg({'jp_sales':'sum'}).sort_values(by='jp_sales', ascending=False).head(5).plot(kind='bar')\n",
    "plt.title('Продажи игр популярных платформ в Японии после 2013 года (миллионы проданных копий)')"
   ]
  },
  {
   "cell_type": "code",
   "execution_count": 70,
   "id": "6f45de49",
   "metadata": {},
   "outputs": [
    {
     "data": {
      "text/html": [
       "<div>\n",
       "<style scoped>\n",
       "    .dataframe tbody tr th:only-of-type {\n",
       "        vertical-align: middle;\n",
       "    }\n",
       "\n",
       "    .dataframe tbody tr th {\n",
       "        vertical-align: top;\n",
       "    }\n",
       "\n",
       "    .dataframe thead th {\n",
       "        text-align: right;\n",
       "    }\n",
       "</style>\n",
       "<table border=\"1\" class=\"dataframe\">\n",
       "  <thead>\n",
       "    <tr style=\"text-align: right;\">\n",
       "      <th></th>\n",
       "      <th>sales</th>\n",
       "    </tr>\n",
       "    <tr>\n",
       "      <th>platform</th>\n",
       "      <th></th>\n",
       "    </tr>\n",
       "  </thead>\n",
       "  <tbody>\n",
       "    <tr>\n",
       "      <th>3DS</th>\n",
       "      <td>67.81</td>\n",
       "    </tr>\n",
       "    <tr>\n",
       "      <th>PS3</th>\n",
       "      <td>23.35</td>\n",
       "    </tr>\n",
       "    <tr>\n",
       "      <th>PSV</th>\n",
       "      <td>18.59</td>\n",
       "    </tr>\n",
       "    <tr>\n",
       "      <th>PS4</th>\n",
       "      <td>15.96</td>\n",
       "    </tr>\n",
       "    <tr>\n",
       "      <th>WiiU</th>\n",
       "      <td>10.88</td>\n",
       "    </tr>\n",
       "  </tbody>\n",
       "</table>\n",
       "</div>"
      ],
      "text/plain": [
       "          sales\n",
       "platform       \n",
       "3DS       67.81\n",
       "PS3       23.35\n",
       "PSV       18.59\n",
       "PS4       15.96\n",
       "WiiU      10.88"
      ]
     },
     "execution_count": 70,
     "metadata": {},
     "output_type": "execute_result"
    }
   ],
   "source": [
    "jp_sales_by_platform = games_after_2013.pivot_table(index='platform', values='jp_sales', aggfunc='sum').nlargest(5, 'jp_sales')\n",
    "jp_sales_by_platform.columns = ['sales']\n",
    "jp_sales_by_platform"
   ]
  },
  {
   "cell_type": "markdown",
   "id": "f5a05f5a",
   "metadata": {},
   "source": [
    "В отличие от топ-5 Северной Америки и Европы, в Японии наиболее популярна платформа Nintendo (DS, 3DS, позднее WiiU), причем как за всё время, так и после 2013 года. После 2013 года популярность платформы значительно обгоняет основного конкурента - Sony Playstation (PS3, PS4). "
   ]
  },
  {
   "cell_type": "markdown",
   "id": "f3923fd7",
   "metadata": {},
   "source": [
    "**Самые популярные жанры (топ-5)**"
   ]
  },
  {
   "cell_type": "code",
   "execution_count": 71,
   "id": "bfe2e193",
   "metadata": {
    "scrolled": true
   },
   "outputs": [
    {
     "data": {
      "text/plain": [
       "Text(0.5, 1.0, 'Продажи игр популярных жанров в Северной Америке за всё время (миллионы проданных копий)')"
      ]
     },
     "execution_count": 71,
     "metadata": {},
     "output_type": "execute_result"
    },
    {
     "data": {
      "image/png": "[encoded data removed]",
      "text/plain": [
       "<Figure size 432x288 with 1 Axes>"
      ]
     },
     "metadata": {},
     "output_type": "display_data"
    }
   ],
   "source": [
    "#топ-5 популярных жанров в Северной Америке за всё время\n",
    "games.groupby(by='genre').agg({'na_sales':'sum'}).sort_values(by='na_sales', ascending=False).head(5).plot(kind='bar')\n",
    "plt.title('Продажи игр популярных жанров в Северной Америке за всё время (миллионы проданных копий)')"
   ]
  },
  {
   "cell_type": "code",
   "execution_count": 72,
   "id": "05fc7d29",
   "metadata": {},
   "outputs": [
    {
     "data": {
      "text/plain": [
       "Text(0.5, 1.0, 'Продажи игр популярных жанров в Северной Америке после 2013 года (миллионы проданных копий)')"
      ]
     },
     "execution_count": 72,
     "metadata": {},
     "output_type": "execute_result"
    },
    {
     "data": {
      "image/png": "[encoded data removed]",
      "text/plain": [
       "<Figure size 432x288 with 1 Axes>"
      ]
     },
     "metadata": {},
     "output_type": "display_data"
    }
   ],
   "source": [
    "#топ-5 популярных жанров в Северной Америке после 2013 года\n",
    "games_after_2013.groupby(by='genre').agg({'na_sales':'sum'}).sort_values(by='na_sales', ascending=False).head(5).plot(kind='bar')\n",
    "plt.title('Продажи игр популярных жанров в Северной Америке после 2013 года (миллионы проданных копий)')"
   ]
  },
  {
   "cell_type": "markdown",
   "id": "d867f934",
   "metadata": {},
   "source": [
    "Жанр \"Action\" в Северной Америке остается популярным во все времена, но с 2013 года второе место занимет жанр \"Shooter\", в то время как \"Sports\" опустился в количестве продаваемых копий, а \"Platform\" и \"Misc\" ушли из топ-5."
   ]
  },
  {
   "cell_type": "code",
   "execution_count": 73,
   "id": "2840a568",
   "metadata": {},
   "outputs": [
    {
     "data": {
      "text/plain": [
       "Text(0.5, 1.0, 'Продажи игр популярных жанров в Европе за всё время (миллионы проданных копий)')"
      ]
     },
     "execution_count": 73,
     "metadata": {},
     "output_type": "execute_result"
    },
    {
     "data": {
      "image/png": "[encoded data removed]",
      "text/plain": [
       "<Figure size 432x288 with 1 Axes>"
      ]
     },
     "metadata": {},
     "output_type": "display_data"
    }
   ],
   "source": [
    "#топ-5 популярных жанров в Европе за всё время\n",
    "games.groupby(by='genre').agg({'eu_sales':'sum'}).sort_values(by='eu_sales', ascending=False).head(5).plot(kind='bar')\n",
    "plt.title('Продажи игр популярных жанров в Европе за всё время (миллионы проданных копий)')"
   ]
  },
  {
   "cell_type": "code",
   "execution_count": 74,
   "id": "d3c254f9",
   "metadata": {},
   "outputs": [
    {
     "data": {
      "text/plain": [
       "Text(0.5, 1.0, 'Продажи игр популярных жанров в Европе после 2013 года (миллионы проданных копий)')"
      ]
     },
     "execution_count": 74,
     "metadata": {},
     "output_type": "execute_result"
    },
    {
     "data": {
      "image/png": "[encoded data removed]",
      "text/plain": [
       "<Figure size 432x288 with 1 Axes>"
      ]
     },
     "metadata": {},
     "output_type": "display_data"
    }
   ],
   "source": [
    "#топ-5 популярных жанров в Европе после 2013 года\n",
    "games_after_2013.groupby(by='genre').agg({'eu_sales':'sum'}).sort_values(by='eu_sales', ascending=False).head(5).plot(kind='bar')\n",
    "plt.title('Продажи игр популярных жанров в Европе после 2013 года (миллионы проданных копий)')"
   ]
  },
  {
   "cell_type": "markdown",
   "id": "a49f2702",
   "metadata": {},
   "source": [
    "Жанры \"Action\", \"Shooter\", \"Sports\", \"Racing\" популярны в Европе и за всё время развития игр и после 2013 года, но после 2013 года популярность также приобрел жанр \"Role_Playing\"."
   ]
  },
  {
   "cell_type": "code",
   "execution_count": 75,
   "id": "ee289c88",
   "metadata": {},
   "outputs": [
    {
     "data": {
      "text/plain": [
       "Text(0.5, 1.0, 'Продажи игр популярных жанров в Японии за всё время (миллионы проданных копий)')"
      ]
     },
     "execution_count": 75,
     "metadata": {},
     "output_type": "execute_result"
    },
    {
     "data": {
      "image/png": "[encoded data removed]",
      "text/plain": [
       "<Figure size 432x288 with 1 Axes>"
      ]
     },
     "metadata": {},
     "output_type": "display_data"
    }
   ],
   "source": [
    "#топ-5 популярных жанров в Японии за всё время\n",
    "games.groupby(by='genre').agg({'jp_sales':'sum'}).sort_values(by='jp_sales', ascending=False).head(5).plot(kind='bar')\n",
    "plt.title('Продажи игр популярных жанров в Японии за всё время (миллионы проданных копий)')"
   ]
  },
  {
   "cell_type": "code",
   "execution_count": 76,
   "id": "0a7a58a9",
   "metadata": {},
   "outputs": [
    {
     "data": {
      "text/plain": [
       "Text(0.5, 1.0, 'Продажи игр популярных жанров в Японии после 2013 года (миллионы проданных копий)')"
      ]
     },
     "execution_count": 76,
     "metadata": {},
     "output_type": "execute_result"
    },
    {
     "data": {
      "image/png": "[encoded data removed]",
      "text/plain": [
       "<Figure size 432x288 with 1 Axes>"
      ]
     },
     "metadata": {},
     "output_type": "display_data"
    }
   ],
   "source": [
    "#топ-5 популярных жанров в Японии после 2013 года\n",
    "games_after_2013.groupby(by='genre').agg({'jp_sales':'sum'}).sort_values(by='jp_sales', ascending=False).head(5).plot(kind='bar')\n",
    "plt.title('Продажи игр популярных жанров в Японии после 2013 года (миллионы проданных копий)')"
   ]
  },
  {
   "cell_type": "markdown",
   "id": "c49e6b10",
   "metadata": {},
   "source": [
    "Картина наиболее популярных жанров в Японии отличается от друх других регионов. \n",
    "На первом месте продаж за всё время и после 2013 года находится жанр \"Role-Playing\", за всё время значительно, а после 2013 уже не так значительно обгоняя другие жанры. \"Action\" и \"Sports\" также присутствуют в топ-5 жанров региона, но нельзя не заметить, что в 2013 году популярность приобрел также жанр \"Fighting\", который ранее не встречался в топ-5 любого из регионов и временных промежутков."
   ]
  },
  {
   "cell_type": "markdown",
   "id": "e95adfef",
   "metadata": {},
   "source": [
    "**Влияет ли рейтинг ESRB на продажи в отдельном регионе?**"
   ]
  },
  {
   "cell_type": "code",
   "execution_count": 77,
   "id": "6f8fd1ba",
   "metadata": {},
   "outputs": [
    {
     "data": {
      "text/plain": [
       "{'EC': 'Для детей младшего возраста',\n",
       " 'E': 'Для всех',\n",
       " 'E10+': 'Для всех от 10 лет и старше',\n",
       " 'T': 'Подросткам',\n",
       " 'M': 'Для взрослых',\n",
       " 'AO': 'Только для взрослых',\n",
       " 'RP': 'Рейтинг ожидается'}"
      ]
     },
     "execution_count": 77,
     "metadata": {},
     "output_type": "execute_result"
    }
   ],
   "source": [
    "#просмотрим составленный ранее словарь для удобства работы\n",
    "rating_dict"
   ]
  },
  {
   "cell_type": "code",
   "execution_count": 78,
   "id": "d018c433",
   "metadata": {
    "scrolled": true
   },
   "outputs": [
    {
     "data": {
      "text/plain": [
       "Text(0.5, 1.0, 'Количество оценок рейтинга ESRB в Северной Америке за всё время')"
      ]
     },
     "execution_count": 78,
     "metadata": {},
     "output_type": "execute_result"
    },
    {
     "data": {
      "image/png": "[encoded data removed]",
      "text/plain": [
       "<Figure size 432x288 with 1 Axes>"
      ]
     },
     "metadata": {},
     "output_type": "display_data"
    }
   ],
   "source": [
    "#Количество оценок рейтинга ESRB в Северной Америке за всё время\n",
    "na_rating_all = games[games['rating'] != 0]\n",
    "na_rating_all.groupby(by='rating').agg({'na_sales':'sum'}).sort_values(by='na_sales', ascending=False).plot(kind='bar')\n",
    "plt.title('Количество оценок рейтинга ESRB в Северной Америке за всё время')"
   ]
  },
  {
   "cell_type": "code",
   "execution_count": 79,
   "id": "80f40e65",
   "metadata": {},
   "outputs": [
    {
     "data": {
      "text/plain": [
       "Text(0.5, 1.0, 'Количество оценок рейтинга ESRB в Северной Америке с 2013 года')"
      ]
     },
     "execution_count": 79,
     "metadata": {},
     "output_type": "execute_result"
    },
    {
     "data": {
      "image/png": "[encoded data removed]",
      "text/plain": [
       "<Figure size 432x288 with 1 Axes>"
      ]
     },
     "metadata": {},
     "output_type": "display_data"
    }
   ],
   "source": [
    "#Количество оценок рейтинга ESRB в Северной Америке с 2013 года\n",
    "na_rating_after_2013 = games_after_2013[games_after_2013['rating'] != 0]\n",
    "na_rating_after_2013.groupby(by='rating').agg({'na_sales':'sum'}).sort_values(by='na_sales', ascending=False).plot(kind='bar')\n",
    "plt.title('Количество оценок рейтинга ESRB в Северной Америке с 2013 года')"
   ]
  },
  {
   "cell_type": "markdown",
   "id": "04c54264",
   "metadata": {},
   "source": [
    "Наиболее популярной оценкой рейтинга после 2013 года (в отличие от данных за всё время) стал рейтинг M - Для взрослых, в то время как в данных за всё время наиболее часто встречающийся рейтинг - E - Для всех."
   ]
  },
  {
   "cell_type": "code",
   "execution_count": 80,
   "id": "34000387",
   "metadata": {},
   "outputs": [
    {
     "data": {
      "text/plain": [
       "Text(0.5, 1.0, 'Количество оценок рейтинга ESRB в Европе за всё время')"
      ]
     },
     "execution_count": 80,
     "metadata": {},
     "output_type": "execute_result"
    },
    {
     "data": {
      "image/png": "[encoded data removed]",
      "text/plain": [
       "<Figure size 432x288 with 1 Axes>"
      ]
     },
     "metadata": {},
     "output_type": "display_data"
    }
   ],
   "source": [
    "#Количество оценок рейтинга ESRB в Европе за всё время\n",
    "eu_rating_all = games[games['rating'] != 0]\n",
    "eu_rating_all.groupby(by='rating').agg({'eu_sales':'sum'}).sort_values(by='eu_sales', ascending=False).plot(kind='bar')\n",
    "plt.title('Количество оценок рейтинга ESRB в Европе за всё время')"
   ]
  },
  {
   "cell_type": "code",
   "execution_count": 81,
   "id": "941f576c",
   "metadata": {},
   "outputs": [
    {
     "data": {
      "text/plain": [
       "Text(0.5, 1.0, 'Количество оценок рейтинга ESRB в Европе с 2013 года')"
      ]
     },
     "execution_count": 81,
     "metadata": {},
     "output_type": "execute_result"
    },
    {
     "data": {
      "image/png": "[encoded data removed]",
      "text/plain": [
       "<Figure size 432x288 with 1 Axes>"
      ]
     },
     "metadata": {},
     "output_type": "display_data"
    }
   ],
   "source": [
    "#Количество оценок рейтинга ESRB в Европе с 2013 года\n",
    "eu_rating_after_2013 = games_after_2013[games_after_2013['rating'] != 0]\n",
    "eu_rating_after_2013.groupby(by='rating').agg({'eu_sales':'sum'}).sort_values(by='eu_sales', ascending=False).plot(kind='bar')\n",
    "plt.title('Количество оценок рейтинга ESRB в Европе с 2013 года')"
   ]
  },
  {
   "cell_type": "markdown",
   "id": "6e9bacb1",
   "metadata": {},
   "source": [
    "Ситуация в Европе схожа с ситуацией в Северной Америке. По данным за всё время наиболее популярным рейтингом является E - Для всех, в то время как с 2013 года практически в два раза больше раз игры получили рейтинг M - Для взрослых"
   ]
  },
  {
   "cell_type": "code",
   "execution_count": 82,
   "id": "a00916de",
   "metadata": {},
   "outputs": [
    {
     "data": {
      "text/plain": [
       "Text(0.5, 1.0, 'Количество оценок рейтинга ESRB в Японии за всё время')"
      ]
     },
     "execution_count": 82,
     "metadata": {},
     "output_type": "execute_result"
    },
    {
     "data": {
      "image/png": "[encoded data removed]",
      "text/plain": [
       "<Figure size 432x288 with 1 Axes>"
      ]
     },
     "metadata": {},
     "output_type": "display_data"
    }
   ],
   "source": [
    "#Количество оценок рейтинга ESRB в Японии за всё время\n",
    "jp_rating_all = games[games['rating'] != 0]\n",
    "jp_rating_all.groupby(by='rating').agg({'jp_sales':'sum'}).sort_values(by='jp_sales', ascending=False).plot(kind='bar')\n",
    "plt.title('Количество оценок рейтинга ESRB в Японии за всё время')"
   ]
  },
  {
   "cell_type": "code",
   "execution_count": 83,
   "id": "458ec1e8",
   "metadata": {},
   "outputs": [
    {
     "data": {
      "text/plain": [
       "Text(0.5, 1.0, 'Количество оценок рейтинга ESRB в Японии с 2013 года')"
      ]
     },
     "execution_count": 83,
     "metadata": {},
     "output_type": "execute_result"
    },
    {
     "data": {
      "image/png": "[encoded data removed]",
      "text/plain": [
       "<Figure size 432x288 with 1 Axes>"
      ]
     },
     "metadata": {},
     "output_type": "display_data"
    }
   ],
   "source": [
    "#Количество оценок рейтинга ESRB в Японии с 2013 года\n",
    "jp_rating_after_2013 = games_after_2013[games_after_2013['rating'] != 0]\n",
    "jp_rating_after_2013.groupby(by='rating').agg({'jp_sales':'sum'}).sort_values(by='jp_sales', ascending=False).plot(kind='bar')\n",
    "plt.title('Количество оценок рейтинга ESRB в Японии с 2013 года')"
   ]
  },
  {
   "cell_type": "markdown",
   "id": "f3ba7df6",
   "metadata": {},
   "source": [
    "Ситуация в Японии значительно отличается от других регионов. Для бОльшей части выходящих игр стоит отметка RP - Рейтинг ожидается либо не выставлен и это значение в 4 раза после 2013 года и в 8 раз за всё время опережает самого близкого конкурента. 2-е место после 2013 года и 3-е место за всё время занимается рейтинг T - подросткам, а также 2-е место за всё время и 3-е место с 2013 года занимает рейтинг E - Для всех. Игры только для взрослых не так популярны в Японии, как в Северной Америке и Европе."
   ]
  },
  {
   "cell_type": "markdown",
   "id": "723f5d4f",
   "metadata": {},
   "source": [
    "**Вывод** \n",
    "\n",
    "В Северной Америке и Европе рейтинг ESRB оказывает влияние на продажи игр, игры с невыставленным рейтингом не присутствуют в популярных рейтингах. В Японии же, противоположно другим регионам, большинство игр не получает рейтинг и этот рейтинг мало влияет на продажи в регионе."
   ]
  },
  {
   "cell_type": "markdown",
   "id": "0dd8195b",
   "metadata": {},
   "source": [
    "# Проверка гипотез"
   ]
  },
  {
   "cell_type": "markdown",
   "id": "c53a3224",
   "metadata": {},
   "source": [
    "**Пояснение по формулировке гипотез.** \n",
    "\n",
    "Гипотеза H0 должна представлять собой однозначный ответ, чтобы отвергнуть, если экспериментальные данные очень маловероятны при условии, что гипотеза верна или не отвергнуть, если вероятность получить такие экспериментальные данные высока при условии, что гипотеза верна.\n",
    "\n",
    "Гипотеза H1 противоположна H0 и может быть отвергнута если H0 не может быть отвергнута и наоборот.\n",
    "\n",
    "Для проверки будет использован T-test для проверки гипотезы о равенстве средних двух генеральных совокупностей. Дисперсии принимаем как равные, поскольку соблюдаются оба условия: \n",
    "1. Генеральные совокупности не должны зависеть друг от друга.\n",
    "2. Выборочные средние должны быть нормально распределены."
   ]
  },
  {
   "cell_type": "code",
   "execution_count": 84,
   "id": "d132c2a9",
   "metadata": {},
   "outputs": [],
   "source": [
    "# для проверки гипотез потребуется функция, органичивающая выбросы. Оставим данные между первым и третьим квантилями\n",
    "def without_emissions(games, column, graphic=0, x = 10, y = 10):\n",
    "    q1 =games[column].quantile(0.25)                 \n",
    "    q3 = games[column].quantile(0.75)\n",
    "    base = q3 - q1\n",
    "    filtered_emissions = (games[column] >= (q1 - 1.5 * base)) & (games[column] <= (q3 + 1.5 * base))\n",
    "    if graphic == 1:\n",
    "        return games.loc[filtered_emissions].boxplot([column], figsize=(x,y))\n",
    "    else:\n",
    "        return games.loc[filtered_emissions]"
   ]
  },
  {
   "cell_type": "markdown",
   "id": "53df1f46",
   "metadata": {},
   "source": [
    "H0: Средние пользовательские рейтинги платформ Xbox One и PC одинаковые.\n",
    "\n",
    "H1: Средние пользовательские рейтинги платформ Xbox One и PC не одинаковые."
   ]
  },
  {
   "cell_type": "code",
   "execution_count": 85,
   "id": "862566e3",
   "metadata": {},
   "outputs": [
    {
     "name": "stdout",
     "output_type": "stream",
     "text": [
      "p-value: 0.14012658403611647\n",
      "Не получилось отвергнуть нулевую гипотезу\n"
     ]
    }
   ],
   "source": [
    "alpha = 0.05 #ставим alpha, чтобы увидеть разброс\n",
    "XOne = games_after_2013[(games_after_2013['platform'] == 'XOne') & (games_after_2013['user_score'] > 0)]['user_score']\n",
    "PC = games_after_2013[(games_after_2013['platform'] == 'PC') & (games_after_2013['user_score'] > 0)]['user_score']\n",
    "results = st.ttest_ind(XOne, PC)\n",
    "print('p-value:', results.pvalue)\n",
    "\n",
    "if (results.pvalue < alpha):\n",
    "    print(\"Отвергаем нулевую гипотезу\")\n",
    "else:\n",
    "    print(\"Не получилось отвергнуть нулевую гипотезу\")"
   ]
  },
  {
   "cell_type": "markdown",
   "id": "37c937a2",
   "metadata": {},
   "source": [
    "**Вывод** \n",
    "\n",
    "Гипотеза H0 (H0: Средние пользовательские рейтинги платформ Xbox One и PC одинаковые.) не может быть отвергнута, что значит что гипотеза H1 (H1: Средние пользовательские рейтинги платформ Xbox One и PC не одинаковые.) должна быть отвергнута."
   ]
  },
  {
   "cell_type": "markdown",
   "id": "45919cb1",
   "metadata": {},
   "source": [
    "H0: Средние пользовательские рейтинги жанров Action (англ. «действие», экшен-игры) и Sports (англ. «спортивные соревнования») одинаковые. \n",
    "\n",
    "H1: Средние пользовательские рейтинги жанров Action (англ. «действие», экшен-игры) и Sports (англ. «спортивные соревнования») разные. "
   ]
  },
  {
   "cell_type": "code",
   "execution_count": 86,
   "id": "38049288",
   "metadata": {},
   "outputs": [
    {
     "name": "stdout",
     "output_type": "stream",
     "text": [
      "p-value: 1.0517832389140023e-27\n",
      "Отвергаем нулевую гипотезу\n"
     ]
    }
   ],
   "source": [
    "alpha = 0.05 #ставим alpha, чтобы увидеть разброс\n",
    "action = games_after_2013[(games_after_2013['genre'] == 'Action') & (games_after_2013['user_score'] > 0)]['user_score']\n",
    "sports = games_after_2013[(games_after_2013['genre'] == 'Sports') & (games_after_2013['user_score'] > 0)]['user_score']\n",
    "results = st.ttest_ind(action, sports)\n",
    "print('p-value:', results.pvalue)\n",
    "\n",
    "if (results.pvalue < alpha):\n",
    "    print(\"Отвергаем нулевую гипотезу\")\n",
    "else:\n",
    "    print(\"Не получилось отвергнуть нулевую гипотезу\")"
   ]
  },
  {
   "cell_type": "markdown",
   "id": "eadd4370",
   "metadata": {},
   "source": [
    "**Вывод** \n",
    "\n",
    "Гипотеза H0 (H0: Средние пользовательские рейтинги жанров Action (англ. «действие», экшен-игры) и Sports (англ. «спортивные соревнования») одинаковые.) должна быть отвергнута, что значит что гипотеза H1 (H1: Средние пользовательские рейтинги жанров Action (англ. «действие», экшен-игры) и Sports (англ. «спортивные соревнования») разные.) не может быть отвергнута."
   ]
  },
  {
   "cell_type": "markdown",
   "id": "16acc4ef",
   "metadata": {},
   "source": [
    "# Общий вывод"
   ]
  },
  {
   "cell_type": "markdown",
   "id": "09a6d5c8",
   "metadata": {},
   "source": [
    "В рамках данного исследования были рассмотрены следующие вопросы:\n",
    " - Больше всего игр (больше 1000) выпускалось с 2011 по 2016 года. Максимальные значения - 1400 игр выпускались в 2008 и 2009 годах\n",
    " - В 2008 - 2011 годах наблюдался рост выпуска игр, а значит, большого количества платформ и высоких доходов производителей. C 2012 года виден спад, но с 2013 года рост постепенно начинается снова.\n",
    " - После 2012 года лидировать начали продукты Sony PlayStation - PS4 и PS3 (при этом показатели PS4 практически в полтора раза больше PS3), а также продукт XOne.\n",
    " - Наибольшее количество продаж за всё время представлено у PS2, X360 и PS3.\n",
    " - Отзывы критиков и отзывы пользователей незначительно влияют на продажи игр.\n",
    " - Для всех платформ отзывы критиков влияют на продажи меньше, чем для выбранной в ходе исследования платформы (PS4), в то время как отзывы пользователей обладают бОльшим влиянием, чем для выбранной платформы.\n",
    " - Наиболее популярным жанром во все времена является \"Action\", но после 2013 года приобрели популярность также \"Role-Playing\" и \"Adventure\", которые ранее были менее популярны.\n",
    " - Несмотря на наиболее популярные жанры - \"Action\", \"Role-Playing\", \"Adventure\" - больше всего прибыли приносит жанр \"Shooter\".\n",
    " - Продукция SonyPlaystation (PS2, PS3, PS4) неизменно находитя в топ-5 самых популярных платформ. Продукция XBox (X360 и XOne) также неизменно находится среди лидирующих позиций.\n",
    " - В отличие от топ-5 Северной Америки и Европы, в Японии наиболее популярна платформа Nintendo (DS, 3DS, позднее WiiU), причем как за всё время, так и после 2013 года.\n",
    " - В Северной Америке и Европе рейтинг ESRB оказывает влияние на продажи игр, игры с невыставленным рейтингом не присутствуют в популярных рейтингах. В Японии же, противоположно другим регионам, большинство игр не получает рейтинг и этот рейтинг мало влияет на продажи в регионе.\n",
    " - Гипотеза \"Средние пользовательские рейтинги платформ Xbox One и PC одинаковые\" не может быть отвергнута.\n",
    " - Гипотеза \"Средние пользовательские рейтинги жанров Action (англ. «действие», экшен-игры) и Sports (англ. «спортивные соревнования») разные\" не может быть отвергнута."
   ]
  },
  {
   "cell_type": "markdown",
   "id": "9898b674",
   "metadata": {},
   "source": [
    "# Рекомендации"
   ]
  },
  {
   "cell_type": "markdown",
   "id": "ad15e180",
   "metadata": {},
   "source": [
    "Наибольшей популярностью в последние годы пользуются игры компаний: Sony PlayStation и XBox, если рынок нацелен на Северную Америку или Европу, Nintendo - если рынок нацелен на Японию, что необходимо учитывать при планировании рекламных кампаний.\n",
    "\n",
    "Рекомендованные жанры для Северной Америки и Европы - \"Action\", \"Shooter\", \"Sports\".\n",
    "\n",
    "Рекомендованные жанры для Японии - \"Role-Playing\", \"Action\", \"Misc\", \"Fighting\", \"Shooter\" (по топ-местам соответственно).\n",
    "\n",
    "Самая успешная платформа по количеству продаж и выпущенных игр - Sony PlayStation (PS4, PS3, PSV), приставки XBox (XOne, X360) и Nintendo (3DS) также находятся в топ-5 и по продажам и по количество выпущенных игр.\n",
    "\n",
    "Не стоит обращать внимание на получение рейтинга в Японии, потребители не смотрят на возрастной рейтинг ESRB.\n",
    "\n",
    "Наиболее популярные возрастные группы для Северной Америки и Европы - М - Для Взрослых и Е - Для Всех."
   ]
  }
 ],
 "metadata": {
  "ExecuteTimeLog": [
   {
    "duration": 1147,
    "start_time": "2022-05-24T15:35:47.583Z"
   },
   {
    "duration": 143,
    "start_time": "2022-05-24T15:35:48.732Z"
   },
   {
    "duration": 0,
    "start_time": "2022-05-24T15:35:48.878Z"
   },
   {
    "duration": 0,
    "start_time": "2022-05-24T15:35:48.879Z"
   },
   {
    "duration": 0,
    "start_time": "2022-05-24T15:35:48.880Z"
   },
   {
    "duration": 0,
    "start_time": "2022-05-24T15:35:48.881Z"
   },
   {
    "duration": 0,
    "start_time": "2022-05-24T15:35:48.882Z"
   },
   {
    "duration": 0,
    "start_time": "2022-05-24T15:35:48.883Z"
   },
   {
    "duration": 0,
    "start_time": "2022-05-24T15:35:48.894Z"
   },
   {
    "duration": 0,
    "start_time": "2022-05-24T15:35:48.896Z"
   },
   {
    "duration": 0,
    "start_time": "2022-05-24T15:35:48.896Z"
   },
   {
    "duration": 0,
    "start_time": "2022-05-24T15:35:48.897Z"
   },
   {
    "duration": 0,
    "start_time": "2022-05-24T15:35:48.898Z"
   },
   {
    "duration": 0,
    "start_time": "2022-05-24T15:35:48.899Z"
   },
   {
    "duration": 0,
    "start_time": "2022-05-24T15:35:48.900Z"
   },
   {
    "duration": 0,
    "start_time": "2022-05-24T15:35:48.901Z"
   },
   {
    "duration": 0,
    "start_time": "2022-05-24T15:35:48.902Z"
   },
   {
    "duration": 0,
    "start_time": "2022-05-24T15:35:48.903Z"
   },
   {
    "duration": 0,
    "start_time": "2022-05-24T15:35:48.904Z"
   },
   {
    "duration": 0,
    "start_time": "2022-05-24T15:35:48.905Z"
   },
   {
    "duration": 0,
    "start_time": "2022-05-24T15:35:48.906Z"
   },
   {
    "duration": 0,
    "start_time": "2022-05-24T15:35:48.907Z"
   },
   {
    "duration": 0,
    "start_time": "2022-05-24T15:35:48.909Z"
   },
   {
    "duration": 0,
    "start_time": "2022-05-24T15:35:48.910Z"
   },
   {
    "duration": 0,
    "start_time": "2022-05-24T15:35:48.910Z"
   },
   {
    "duration": 0,
    "start_time": "2022-05-24T15:35:48.911Z"
   },
   {
    "duration": 0,
    "start_time": "2022-05-24T15:35:48.912Z"
   },
   {
    "duration": 0,
    "start_time": "2022-05-24T15:35:48.913Z"
   },
   {
    "duration": 0,
    "start_time": "2022-05-24T15:35:48.914Z"
   },
   {
    "duration": 0,
    "start_time": "2022-05-24T15:35:48.915Z"
   },
   {
    "duration": 0,
    "start_time": "2022-05-24T15:35:48.916Z"
   },
   {
    "duration": 0,
    "start_time": "2022-05-24T15:35:48.917Z"
   },
   {
    "duration": 0,
    "start_time": "2022-05-24T15:35:48.917Z"
   },
   {
    "duration": 0,
    "start_time": "2022-05-24T15:35:48.918Z"
   },
   {
    "duration": 0,
    "start_time": "2022-05-24T15:35:48.919Z"
   },
   {
    "duration": 0,
    "start_time": "2022-05-24T15:35:48.920Z"
   },
   {
    "duration": 0,
    "start_time": "2022-05-24T15:35:48.921Z"
   },
   {
    "duration": 0,
    "start_time": "2022-05-24T15:35:48.921Z"
   },
   {
    "duration": 0,
    "start_time": "2022-05-24T15:35:48.922Z"
   },
   {
    "duration": 0,
    "start_time": "2022-05-24T15:35:48.923Z"
   },
   {
    "duration": 0,
    "start_time": "2022-05-24T15:35:48.924Z"
   },
   {
    "duration": 0,
    "start_time": "2022-05-24T15:35:48.925Z"
   },
   {
    "duration": 0,
    "start_time": "2022-05-24T15:35:48.926Z"
   },
   {
    "duration": 0,
    "start_time": "2022-05-24T15:35:48.927Z"
   },
   {
    "duration": 0,
    "start_time": "2022-05-24T15:35:48.928Z"
   },
   {
    "duration": 0,
    "start_time": "2022-05-24T15:35:48.929Z"
   },
   {
    "duration": 0,
    "start_time": "2022-05-24T15:35:48.930Z"
   },
   {
    "duration": 0,
    "start_time": "2022-05-24T15:35:48.931Z"
   },
   {
    "duration": 0,
    "start_time": "2022-05-24T15:35:48.932Z"
   },
   {
    "duration": 0,
    "start_time": "2022-05-24T15:35:48.995Z"
   },
   {
    "duration": 0,
    "start_time": "2022-05-24T15:35:48.996Z"
   },
   {
    "duration": 0,
    "start_time": "2022-05-24T15:35:48.997Z"
   },
   {
    "duration": 0,
    "start_time": "2022-05-24T15:35:48.998Z"
   },
   {
    "duration": 0,
    "start_time": "2022-05-24T15:35:49.000Z"
   },
   {
    "duration": 0,
    "start_time": "2022-05-24T15:35:49.001Z"
   },
   {
    "duration": 0,
    "start_time": "2022-05-24T15:35:49.002Z"
   },
   {
    "duration": 0,
    "start_time": "2022-05-24T15:35:49.003Z"
   },
   {
    "duration": 0,
    "start_time": "2022-05-24T15:35:49.004Z"
   },
   {
    "duration": 0,
    "start_time": "2022-05-24T15:35:49.005Z"
   },
   {
    "duration": 0,
    "start_time": "2022-05-24T15:35:49.006Z"
   },
   {
    "duration": 0,
    "start_time": "2022-05-24T15:35:49.007Z"
   },
   {
    "duration": 0,
    "start_time": "2022-05-24T15:35:49.008Z"
   },
   {
    "duration": 0,
    "start_time": "2022-05-24T15:35:49.009Z"
   },
   {
    "duration": 0,
    "start_time": "2022-05-24T15:35:49.010Z"
   },
   {
    "duration": 0,
    "start_time": "2022-05-24T15:35:49.012Z"
   },
   {
    "duration": 0,
    "start_time": "2022-05-24T15:35:49.013Z"
   },
   {
    "duration": 0,
    "start_time": "2022-05-24T15:35:49.013Z"
   },
   {
    "duration": 0,
    "start_time": "2022-05-24T15:35:49.014Z"
   },
   {
    "duration": 0,
    "start_time": "2022-05-24T15:35:49.015Z"
   },
   {
    "duration": 0,
    "start_time": "2022-05-24T15:35:49.016Z"
   },
   {
    "duration": 0,
    "start_time": "2022-05-24T15:35:49.017Z"
   },
   {
    "duration": 0,
    "start_time": "2022-05-24T15:35:49.018Z"
   },
   {
    "duration": 0,
    "start_time": "2022-05-24T15:35:49.019Z"
   },
   {
    "duration": 0,
    "start_time": "2022-05-24T15:35:49.020Z"
   },
   {
    "duration": 0,
    "start_time": "2022-05-24T15:35:49.021Z"
   },
   {
    "duration": 0,
    "start_time": "2022-05-24T15:35:49.022Z"
   },
   {
    "duration": 0,
    "start_time": "2022-05-24T15:35:49.023Z"
   },
   {
    "duration": 0,
    "start_time": "2022-05-24T15:35:49.024Z"
   },
   {
    "duration": 0,
    "start_time": "2022-05-24T15:35:49.025Z"
   },
   {
    "duration": 0,
    "start_time": "2022-05-24T15:35:49.026Z"
   },
   {
    "duration": 0,
    "start_time": "2022-05-24T15:35:49.026Z"
   },
   {
    "duration": 0,
    "start_time": "2022-05-24T15:35:49.027Z"
   },
   {
    "duration": 0,
    "start_time": "2022-05-24T15:35:49.029Z"
   },
   {
    "duration": 54,
    "start_time": "2022-05-24T15:36:52.966Z"
   },
   {
    "duration": 1113,
    "start_time": "2022-05-24T15:36:58.469Z"
   },
   {
    "duration": 51,
    "start_time": "2022-05-24T15:36:59.584Z"
   },
   {
    "duration": 13,
    "start_time": "2022-05-24T15:36:59.637Z"
   },
   {
    "duration": 35,
    "start_time": "2022-05-24T15:36:59.651Z"
   },
   {
    "duration": 8,
    "start_time": "2022-05-24T15:36:59.688Z"
   },
   {
    "duration": 53,
    "start_time": "2022-05-24T15:36:59.697Z"
   },
   {
    "duration": 15,
    "start_time": "2022-05-24T15:36:59.752Z"
   },
   {
    "duration": 38,
    "start_time": "2022-05-24T15:36:59.769Z"
   },
   {
    "duration": 5,
    "start_time": "2022-05-24T15:36:59.809Z"
   },
   {
    "duration": 15,
    "start_time": "2022-05-24T15:36:59.815Z"
   },
   {
    "duration": 30,
    "start_time": "2022-05-24T15:36:59.831Z"
   },
   {
    "duration": 29,
    "start_time": "2022-05-24T15:36:59.863Z"
   },
   {
    "duration": 22,
    "start_time": "2022-05-24T15:36:59.894Z"
   },
   {
    "duration": 17,
    "start_time": "2022-05-24T15:36:59.919Z"
   },
   {
    "duration": 19,
    "start_time": "2022-05-24T15:36:59.938Z"
   },
   {
    "duration": 14,
    "start_time": "2022-05-24T15:36:59.959Z"
   },
   {
    "duration": 9,
    "start_time": "2022-05-24T15:36:59.975Z"
   },
   {
    "duration": 31,
    "start_time": "2022-05-24T15:36:59.986Z"
   },
   {
    "duration": 15,
    "start_time": "2022-05-24T15:37:00.019Z"
   },
   {
    "duration": 27,
    "start_time": "2022-05-24T15:37:00.036Z"
   },
   {
    "duration": 29,
    "start_time": "2022-05-24T15:37:00.065Z"
   },
   {
    "duration": 22,
    "start_time": "2022-05-24T15:37:00.096Z"
   },
   {
    "duration": 19,
    "start_time": "2022-05-24T15:37:00.120Z"
   },
   {
    "duration": 9,
    "start_time": "2022-05-24T15:37:00.140Z"
   },
   {
    "duration": 15,
    "start_time": "2022-05-24T15:37:00.151Z"
   },
   {
    "duration": 8,
    "start_time": "2022-05-24T15:37:00.168Z"
   },
   {
    "duration": 15,
    "start_time": "2022-05-24T15:37:00.177Z"
   },
   {
    "duration": 21,
    "start_time": "2022-05-24T15:37:00.194Z"
   },
   {
    "duration": 15,
    "start_time": "2022-05-24T15:37:00.217Z"
   },
   {
    "duration": 27,
    "start_time": "2022-05-24T15:37:00.234Z"
   },
   {
    "duration": 10,
    "start_time": "2022-05-24T15:37:00.263Z"
   },
   {
    "duration": 28,
    "start_time": "2022-05-24T15:37:00.275Z"
   },
   {
    "duration": 37,
    "start_time": "2022-05-24T15:37:00.305Z"
   },
   {
    "duration": 8,
    "start_time": "2022-05-24T15:37:00.343Z"
   },
   {
    "duration": 22,
    "start_time": "2022-05-24T15:37:00.353Z"
   },
   {
    "duration": 20,
    "start_time": "2022-05-24T15:37:00.377Z"
   },
   {
    "duration": 32,
    "start_time": "2022-05-24T15:37:00.398Z"
   },
   {
    "duration": 27,
    "start_time": "2022-05-24T15:37:00.432Z"
   },
   {
    "duration": 28,
    "start_time": "2022-05-24T15:37:00.461Z"
   },
   {
    "duration": 28,
    "start_time": "2022-05-24T15:37:00.491Z"
   },
   {
    "duration": 542,
    "start_time": "2022-05-24T15:37:00.523Z"
   },
   {
    "duration": 65,
    "start_time": "2022-05-24T15:37:01.066Z"
   },
   {
    "duration": 4,
    "start_time": "2022-05-24T15:37:01.133Z"
   },
   {
    "duration": 21,
    "start_time": "2022-05-24T15:37:01.138Z"
   },
   {
    "duration": 170,
    "start_time": "2022-05-24T15:37:01.161Z"
   },
   {
    "duration": 42,
    "start_time": "2022-05-24T15:37:01.333Z"
   },
   {
    "duration": 30,
    "start_time": "2022-05-24T15:37:01.376Z"
   },
   {
    "duration": 11,
    "start_time": "2022-05-24T15:37:01.408Z"
   },
   {
    "duration": 509,
    "start_time": "2022-05-24T15:37:01.421Z"
   },
   {
    "duration": 439,
    "start_time": "2022-05-24T15:37:01.932Z"
   },
   {
    "duration": 391,
    "start_time": "2022-05-24T15:37:02.372Z"
   },
   {
    "duration": 12,
    "start_time": "2022-05-24T15:37:02.765Z"
   },
   {
    "duration": 22,
    "start_time": "2022-05-24T15:37:02.779Z"
   },
   {
    "duration": 178,
    "start_time": "2022-05-24T15:37:02.803Z"
   },
   {
    "duration": 195,
    "start_time": "2022-05-24T15:37:02.982Z"
   },
   {
    "duration": 18,
    "start_time": "2022-05-24T15:37:03.178Z"
   },
   {
    "duration": 9,
    "start_time": "2022-05-24T15:37:03.197Z"
   },
   {
    "duration": 620,
    "start_time": "2022-05-24T15:37:03.208Z"
   },
   {
    "duration": 166,
    "start_time": "2022-05-24T15:37:03.830Z"
   },
   {
    "duration": 171,
    "start_time": "2022-05-24T15:37:03.998Z"
   },
   {
    "duration": 27,
    "start_time": "2022-05-24T15:37:04.170Z"
   },
   {
    "duration": 169,
    "start_time": "2022-05-24T15:37:04.203Z"
   },
   {
    "duration": 172,
    "start_time": "2022-05-24T15:37:04.374Z"
   },
   {
    "duration": 21,
    "start_time": "2022-05-24T15:37:04.548Z"
   },
   {
    "duration": 175,
    "start_time": "2022-05-24T15:37:04.571Z"
   },
   {
    "duration": 168,
    "start_time": "2022-05-24T15:37:04.748Z"
   },
   {
    "duration": 15,
    "start_time": "2022-05-24T15:37:04.918Z"
   },
   {
    "duration": 165,
    "start_time": "2022-05-24T15:37:04.935Z"
   },
   {
    "duration": 181,
    "start_time": "2022-05-24T15:37:05.103Z"
   },
   {
    "duration": 180,
    "start_time": "2022-05-24T15:37:05.287Z"
   },
   {
    "duration": 184,
    "start_time": "2022-05-24T15:37:05.471Z"
   },
   {
    "duration": 182,
    "start_time": "2022-05-24T15:37:05.656Z"
   },
   {
    "duration": 178,
    "start_time": "2022-05-24T15:37:05.840Z"
   },
   {
    "duration": 3,
    "start_time": "2022-05-24T15:37:06.020Z"
   },
   {
    "duration": 184,
    "start_time": "2022-05-24T15:37:06.024Z"
   },
   {
    "duration": 278,
    "start_time": "2022-05-24T15:37:06.211Z"
   },
   {
    "duration": 187,
    "start_time": "2022-05-24T15:37:06.494Z"
   },
   {
    "duration": 169,
    "start_time": "2022-05-24T15:37:06.682Z"
   },
   {
    "duration": 192,
    "start_time": "2022-05-24T15:37:06.853Z"
   },
   {
    "duration": 189,
    "start_time": "2022-05-24T15:37:07.047Z"
   },
   {
    "duration": 5,
    "start_time": "2022-05-24T15:37:07.238Z"
   },
   {
    "duration": 28,
    "start_time": "2022-05-24T15:37:07.245Z"
   },
   {
    "duration": 16,
    "start_time": "2022-05-24T15:37:07.275Z"
   },
   {
    "duration": 511,
    "start_time": "2022-05-24T15:46:41.461Z"
   },
   {
    "duration": 489,
    "start_time": "2022-05-24T15:46:56.060Z"
   }
  ],
  "kernelspec": {
   "display_name": "Python 3 (ipykernel)",
   "language": "python",
   "name": "python3"
  },
  "language_info": {
   "codemirror_mode": {
    "name": "ipython",
    "version": 3
   },
   "file_extension": ".py",
   "mimetype": "text/x-python",
   "name": "python",
   "nbconvert_exporter": "python",
   "pygments_lexer": "ipython3",
   "version": "3.9.7"
  },
  "toc": {
   "base_numbering": 1,
   "nav_menu": {},
   "number_sections": true,
   "sideBar": true,
   "skip_h1_title": true,
   "title_cell": "Table of Contents",
   "title_sidebar": "Contents",
   "toc_cell": false,
   "toc_position": {},
   "toc_section_display": true,
   "toc_window_display": false
  }
 },
 "nbformat": 4,
 "nbformat_minor": 5
}
