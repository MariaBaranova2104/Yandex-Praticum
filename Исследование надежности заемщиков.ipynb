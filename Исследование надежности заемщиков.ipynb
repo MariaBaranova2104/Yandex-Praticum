{
 "cells": [
  {
   "cell_type": "markdown",
   "metadata": {
    "toc": true
   },
   "source": [
    "<h1>Table of Contents<span class=\"tocSkip\"></span></h1>\n",
    "<div class=\"toc\"><ul class=\"toc-item\"><li><span><a href=\"#Шаг-1.-Откройте-файл-с-данными-и-изучите-общую-информацию\" data-toc-modified-id=\"Шаг-1.-Откройте-файл-с-данными-и-изучите-общую-информацию-1\"><span class=\"toc-item-num\">1&nbsp;&nbsp;</span>Шаг 1. Откройте файл с данными и изучите общую информацию</a></span></li><li><span><a href=\"#Шаг-2.-Предобработка-данных\" data-toc-modified-id=\"Шаг-2.-Предобработка-данных-2\"><span class=\"toc-item-num\">2&nbsp;&nbsp;</span>Шаг 2. Предобработка данных</a></span><ul class=\"toc-item\"><li><span><a href=\"#Обработка-пропусков\" data-toc-modified-id=\"Обработка-пропусков-2.1\"><span class=\"toc-item-num\">2.1&nbsp;&nbsp;</span>Обработка пропусков</a></span></li><li><span><a href=\"#Замена-типа-данных\" data-toc-modified-id=\"Замена-типа-данных-2.2\"><span class=\"toc-item-num\">2.2&nbsp;&nbsp;</span>Замена типа данных</a></span></li><li><span><a href=\"#Обработка-дубликатов\" data-toc-modified-id=\"Обработка-дубликатов-2.3\"><span class=\"toc-item-num\">2.3&nbsp;&nbsp;</span>Обработка дубликатов</a></span></li><li><span><a href=\"#Лемматизация\" data-toc-modified-id=\"Лемматизация-2.4\"><span class=\"toc-item-num\">2.4&nbsp;&nbsp;</span>Лемматизация</a></span></li><li><span><a href=\"#Категоризация-данных\" data-toc-modified-id=\"Категоризация-данных-2.5\"><span class=\"toc-item-num\">2.5&nbsp;&nbsp;</span>Категоризация данных</a></span></li></ul></li><li><span><a href=\"#Шаг-3.-Ответьте-на-вопросы\" data-toc-modified-id=\"Шаг-3.-Ответьте-на-вопросы-3\"><span class=\"toc-item-num\">3&nbsp;&nbsp;</span>Шаг 3. Ответьте на вопросы</a></span></li><li><span><a href=\"#Шаг-4.-Общий-вывод\" data-toc-modified-id=\"Шаг-4.-Общий-вывод-4\"><span class=\"toc-item-num\">4&nbsp;&nbsp;</span>Шаг 4. Общий вывод</a></span></li><li><span><a href=\"#Чек-лист-готовности-проекта\" data-toc-modified-id=\"Чек-лист-готовности-проекта-5\"><span class=\"toc-item-num\">5&nbsp;&nbsp;</span>Чек-лист готовности проекта</a></span></li></ul></div>"
   ]
  },
  {
   "cell_type": "markdown",
   "metadata": {},
   "source": [
    "# Исследование надёжности заёмщиков\n",
    "\n",
    "Заказчик — кредитный отдел банка. Нужно разобраться, влияет ли семейное положение и количество детей клиента на факт погашения кредита в срок. Входные данные от банка — статистика о платёжеспособности клиентов.\n",
    "\n",
    "Результаты исследования будут учтены при построении модели **кредитного скоринга** — специальной системы, которая оценивает способность потенциального заёмщика вернуть кредит банку."
   ]
  },
  {
   "cell_type": "code",
   "execution_count": 2,
   "metadata": {},
   "outputs": [],
   "source": [
    "import pandas as pd\n",
    "import seaborn\n",
    "import warnings\n",
    "import numpy as np\n",
    "warnings.filterwarnings(\"ignore\")"
   ]
  },
  {
   "cell_type": "markdown",
   "metadata": {},
   "source": [
    "## Шаг 1. Откройте файл с данными и изучите общую информацию"
   ]
  },
  {
   "cell_type": "code",
   "execution_count": 3,
   "metadata": {
    "scrolled": true
   },
   "outputs": [],
   "source": [
    "# data = pd.read_csv('/Users/maria/Documents/data.csv')\n",
    "# #просмотр первых 10-ти строк датасета\n",
    "# data.head(10)"
   ]
  },
  {
   "cell_type": "code",
   "execution_count": 4,
   "metadata": {},
   "outputs": [
    {
     "data": {
      "text/html": [
       "<div>\n",
       "<style scoped>\n",
       "    .dataframe tbody tr th:only-of-type {\n",
       "        vertical-align: middle;\n",
       "    }\n",
       "\n",
       "    .dataframe tbody tr th {\n",
       "        vertical-align: top;\n",
       "    }\n",
       "\n",
       "    .dataframe thead th {\n",
       "        text-align: right;\n",
       "    }\n",
       "</style>\n",
       "<table border=\"1\" class=\"dataframe\">\n",
       "  <thead>\n",
       "    <tr style=\"text-align: right;\">\n",
       "      <th></th>\n",
       "      <th>children</th>\n",
       "      <th>days_employed</th>\n",
       "      <th>dob_years</th>\n",
       "      <th>education</th>\n",
       "      <th>education_id</th>\n",
       "      <th>family_status</th>\n",
       "      <th>family_status_id</th>\n",
       "      <th>gender</th>\n",
       "      <th>income_type</th>\n",
       "      <th>debt</th>\n",
       "      <th>total_income</th>\n",
       "      <th>purpose</th>\n",
       "    </tr>\n",
       "  </thead>\n",
       "  <tbody>\n",
       "    <tr>\n",
       "      <th>0</th>\n",
       "      <td>1</td>\n",
       "      <td>-8437.673028</td>\n",
       "      <td>42</td>\n",
       "      <td>высшее</td>\n",
       "      <td>0</td>\n",
       "      <td>женат / замужем</td>\n",
       "      <td>0</td>\n",
       "      <td>F</td>\n",
       "      <td>сотрудник</td>\n",
       "      <td>0</td>\n",
       "      <td>253875.639453</td>\n",
       "      <td>покупка жилья</td>\n",
       "    </tr>\n",
       "    <tr>\n",
       "      <th>1</th>\n",
       "      <td>1</td>\n",
       "      <td>-4024.803754</td>\n",
       "      <td>36</td>\n",
       "      <td>среднее</td>\n",
       "      <td>1</td>\n",
       "      <td>женат / замужем</td>\n",
       "      <td>0</td>\n",
       "      <td>F</td>\n",
       "      <td>сотрудник</td>\n",
       "      <td>0</td>\n",
       "      <td>112080.014102</td>\n",
       "      <td>приобретение автомобиля</td>\n",
       "    </tr>\n",
       "    <tr>\n",
       "      <th>2</th>\n",
       "      <td>0</td>\n",
       "      <td>-5623.422610</td>\n",
       "      <td>33</td>\n",
       "      <td>Среднее</td>\n",
       "      <td>1</td>\n",
       "      <td>женат / замужем</td>\n",
       "      <td>0</td>\n",
       "      <td>M</td>\n",
       "      <td>сотрудник</td>\n",
       "      <td>0</td>\n",
       "      <td>145885.952297</td>\n",
       "      <td>покупка жилья</td>\n",
       "    </tr>\n",
       "    <tr>\n",
       "      <th>3</th>\n",
       "      <td>3</td>\n",
       "      <td>-4124.747207</td>\n",
       "      <td>32</td>\n",
       "      <td>среднее</td>\n",
       "      <td>1</td>\n",
       "      <td>женат / замужем</td>\n",
       "      <td>0</td>\n",
       "      <td>M</td>\n",
       "      <td>сотрудник</td>\n",
       "      <td>0</td>\n",
       "      <td>267628.550329</td>\n",
       "      <td>дополнительное образование</td>\n",
       "    </tr>\n",
       "    <tr>\n",
       "      <th>4</th>\n",
       "      <td>0</td>\n",
       "      <td>340266.072047</td>\n",
       "      <td>53</td>\n",
       "      <td>среднее</td>\n",
       "      <td>1</td>\n",
       "      <td>гражданский брак</td>\n",
       "      <td>1</td>\n",
       "      <td>F</td>\n",
       "      <td>пенсионер</td>\n",
       "      <td>0</td>\n",
       "      <td>158616.077870</td>\n",
       "      <td>сыграть свадьбу</td>\n",
       "    </tr>\n",
       "    <tr>\n",
       "      <th>5</th>\n",
       "      <td>0</td>\n",
       "      <td>-926.185831</td>\n",
       "      <td>27</td>\n",
       "      <td>высшее</td>\n",
       "      <td>0</td>\n",
       "      <td>гражданский брак</td>\n",
       "      <td>1</td>\n",
       "      <td>M</td>\n",
       "      <td>компаньон</td>\n",
       "      <td>0</td>\n",
       "      <td>255763.565419</td>\n",
       "      <td>покупка жилья</td>\n",
       "    </tr>\n",
       "    <tr>\n",
       "      <th>6</th>\n",
       "      <td>0</td>\n",
       "      <td>-2879.202052</td>\n",
       "      <td>43</td>\n",
       "      <td>высшее</td>\n",
       "      <td>0</td>\n",
       "      <td>женат / замужем</td>\n",
       "      <td>0</td>\n",
       "      <td>F</td>\n",
       "      <td>компаньон</td>\n",
       "      <td>0</td>\n",
       "      <td>240525.971920</td>\n",
       "      <td>операции с жильем</td>\n",
       "    </tr>\n",
       "    <tr>\n",
       "      <th>7</th>\n",
       "      <td>0</td>\n",
       "      <td>-152.779569</td>\n",
       "      <td>50</td>\n",
       "      <td>СРЕДНЕЕ</td>\n",
       "      <td>1</td>\n",
       "      <td>женат / замужем</td>\n",
       "      <td>0</td>\n",
       "      <td>M</td>\n",
       "      <td>сотрудник</td>\n",
       "      <td>0</td>\n",
       "      <td>135823.934197</td>\n",
       "      <td>образование</td>\n",
       "    </tr>\n",
       "    <tr>\n",
       "      <th>8</th>\n",
       "      <td>2</td>\n",
       "      <td>-6929.865299</td>\n",
       "      <td>35</td>\n",
       "      <td>ВЫСШЕЕ</td>\n",
       "      <td>0</td>\n",
       "      <td>гражданский брак</td>\n",
       "      <td>1</td>\n",
       "      <td>F</td>\n",
       "      <td>сотрудник</td>\n",
       "      <td>0</td>\n",
       "      <td>95856.832424</td>\n",
       "      <td>на проведение свадьбы</td>\n",
       "    </tr>\n",
       "    <tr>\n",
       "      <th>9</th>\n",
       "      <td>0</td>\n",
       "      <td>-2188.756445</td>\n",
       "      <td>41</td>\n",
       "      <td>среднее</td>\n",
       "      <td>1</td>\n",
       "      <td>женат / замужем</td>\n",
       "      <td>0</td>\n",
       "      <td>M</td>\n",
       "      <td>сотрудник</td>\n",
       "      <td>0</td>\n",
       "      <td>144425.938277</td>\n",
       "      <td>покупка жилья для семьи</td>\n",
       "    </tr>\n",
       "  </tbody>\n",
       "</table>\n",
       "</div>"
      ],
      "text/plain": [
       "   children  days_employed  dob_years education  education_id  \\\n",
       "0         1   -8437.673028         42    высшее             0   \n",
       "1         1   -4024.803754         36   среднее             1   \n",
       "2         0   -5623.422610         33   Среднее             1   \n",
       "3         3   -4124.747207         32   среднее             1   \n",
       "4         0  340266.072047         53   среднее             1   \n",
       "5         0    -926.185831         27    высшее             0   \n",
       "6         0   -2879.202052         43    высшее             0   \n",
       "7         0    -152.779569         50   СРЕДНЕЕ             1   \n",
       "8         2   -6929.865299         35    ВЫСШЕЕ             0   \n",
       "9         0   -2188.756445         41   среднее             1   \n",
       "\n",
       "      family_status  family_status_id gender income_type  debt   total_income  \\\n",
       "0   женат / замужем                 0      F   сотрудник     0  253875.639453   \n",
       "1   женат / замужем                 0      F   сотрудник     0  112080.014102   \n",
       "2   женат / замужем                 0      M   сотрудник     0  145885.952297   \n",
       "3   женат / замужем                 0      M   сотрудник     0  267628.550329   \n",
       "4  гражданский брак                 1      F   пенсионер     0  158616.077870   \n",
       "5  гражданский брак                 1      M   компаньон     0  255763.565419   \n",
       "6   женат / замужем                 0      F   компаньон     0  240525.971920   \n",
       "7   женат / замужем                 0      M   сотрудник     0  135823.934197   \n",
       "8  гражданский брак                 1      F   сотрудник     0   95856.832424   \n",
       "9   женат / замужем                 0      M   сотрудник     0  144425.938277   \n",
       "\n",
       "                      purpose  \n",
       "0               покупка жилья  \n",
       "1     приобретение автомобиля  \n",
       "2               покупка жилья  \n",
       "3  дополнительное образование  \n",
       "4             сыграть свадьбу  \n",
       "5               покупка жилья  \n",
       "6           операции с жильем  \n",
       "7                 образование  \n",
       "8       на проведение свадьбы  \n",
       "9     покупка жилья для семьи  "
      ]
     },
     "execution_count": 4,
     "metadata": {},
     "output_type": "execute_result"
    }
   ],
   "source": [
    "try:\n",
    "    data = pd.read_csv('/Users/maria/Documents/data.csv')\n",
    "except:\n",
    "    data = pd.read_csv('/datasets/data.csv')\n",
    "    \n",
    "#просмотр первых 10-ти строк датасета\n",
    "data.head(10)"
   ]
  },
  {
   "cell_type": "code",
   "execution_count": 5,
   "metadata": {},
   "outputs": [
    {
     "data": {
      "text/html": [
       "<div>\n",
       "<style scoped>\n",
       "    .dataframe tbody tr th:only-of-type {\n",
       "        vertical-align: middle;\n",
       "    }\n",
       "\n",
       "    .dataframe tbody tr th {\n",
       "        vertical-align: top;\n",
       "    }\n",
       "\n",
       "    .dataframe thead th {\n",
       "        text-align: right;\n",
       "    }\n",
       "</style>\n",
       "<table border=\"1\" class=\"dataframe\">\n",
       "  <thead>\n",
       "    <tr style=\"text-align: right;\">\n",
       "      <th></th>\n",
       "      <th>children</th>\n",
       "      <th>days_employed</th>\n",
       "      <th>dob_years</th>\n",
       "      <th>education</th>\n",
       "      <th>education_id</th>\n",
       "      <th>family_status</th>\n",
       "      <th>family_status_id</th>\n",
       "      <th>gender</th>\n",
       "      <th>income_type</th>\n",
       "      <th>debt</th>\n",
       "      <th>total_income</th>\n",
       "      <th>purpose</th>\n",
       "    </tr>\n",
       "  </thead>\n",
       "  <tbody>\n",
       "    <tr>\n",
       "      <th>21515</th>\n",
       "      <td>1</td>\n",
       "      <td>-467.685130</td>\n",
       "      <td>28</td>\n",
       "      <td>среднее</td>\n",
       "      <td>1</td>\n",
       "      <td>женат / замужем</td>\n",
       "      <td>0</td>\n",
       "      <td>F</td>\n",
       "      <td>сотрудник</td>\n",
       "      <td>1</td>\n",
       "      <td>109486.327999</td>\n",
       "      <td>заняться образованием</td>\n",
       "    </tr>\n",
       "    <tr>\n",
       "      <th>21516</th>\n",
       "      <td>0</td>\n",
       "      <td>-914.391429</td>\n",
       "      <td>42</td>\n",
       "      <td>высшее</td>\n",
       "      <td>0</td>\n",
       "      <td>женат / замужем</td>\n",
       "      <td>0</td>\n",
       "      <td>F</td>\n",
       "      <td>компаньон</td>\n",
       "      <td>0</td>\n",
       "      <td>322807.776603</td>\n",
       "      <td>покупка своего жилья</td>\n",
       "    </tr>\n",
       "    <tr>\n",
       "      <th>21517</th>\n",
       "      <td>0</td>\n",
       "      <td>-404.679034</td>\n",
       "      <td>42</td>\n",
       "      <td>высшее</td>\n",
       "      <td>0</td>\n",
       "      <td>гражданский брак</td>\n",
       "      <td>1</td>\n",
       "      <td>F</td>\n",
       "      <td>компаньон</td>\n",
       "      <td>0</td>\n",
       "      <td>178059.553491</td>\n",
       "      <td>на покупку своего автомобиля</td>\n",
       "    </tr>\n",
       "    <tr>\n",
       "      <th>21518</th>\n",
       "      <td>0</td>\n",
       "      <td>373995.710838</td>\n",
       "      <td>59</td>\n",
       "      <td>СРЕДНЕЕ</td>\n",
       "      <td>1</td>\n",
       "      <td>женат / замужем</td>\n",
       "      <td>0</td>\n",
       "      <td>F</td>\n",
       "      <td>пенсионер</td>\n",
       "      <td>0</td>\n",
       "      <td>153864.650328</td>\n",
       "      <td>сделка с автомобилем</td>\n",
       "    </tr>\n",
       "    <tr>\n",
       "      <th>21519</th>\n",
       "      <td>1</td>\n",
       "      <td>-2351.431934</td>\n",
       "      <td>37</td>\n",
       "      <td>ученая степень</td>\n",
       "      <td>4</td>\n",
       "      <td>в разводе</td>\n",
       "      <td>3</td>\n",
       "      <td>M</td>\n",
       "      <td>сотрудник</td>\n",
       "      <td>0</td>\n",
       "      <td>115949.039788</td>\n",
       "      <td>покупка коммерческой недвижимости</td>\n",
       "    </tr>\n",
       "    <tr>\n",
       "      <th>21520</th>\n",
       "      <td>1</td>\n",
       "      <td>-4529.316663</td>\n",
       "      <td>43</td>\n",
       "      <td>среднее</td>\n",
       "      <td>1</td>\n",
       "      <td>гражданский брак</td>\n",
       "      <td>1</td>\n",
       "      <td>F</td>\n",
       "      <td>компаньон</td>\n",
       "      <td>0</td>\n",
       "      <td>224791.862382</td>\n",
       "      <td>операции с жильем</td>\n",
       "    </tr>\n",
       "    <tr>\n",
       "      <th>21521</th>\n",
       "      <td>0</td>\n",
       "      <td>343937.404131</td>\n",
       "      <td>67</td>\n",
       "      <td>среднее</td>\n",
       "      <td>1</td>\n",
       "      <td>женат / замужем</td>\n",
       "      <td>0</td>\n",
       "      <td>F</td>\n",
       "      <td>пенсионер</td>\n",
       "      <td>0</td>\n",
       "      <td>155999.806512</td>\n",
       "      <td>сделка с автомобилем</td>\n",
       "    </tr>\n",
       "    <tr>\n",
       "      <th>21522</th>\n",
       "      <td>1</td>\n",
       "      <td>-2113.346888</td>\n",
       "      <td>38</td>\n",
       "      <td>среднее</td>\n",
       "      <td>1</td>\n",
       "      <td>гражданский брак</td>\n",
       "      <td>1</td>\n",
       "      <td>M</td>\n",
       "      <td>сотрудник</td>\n",
       "      <td>1</td>\n",
       "      <td>89672.561153</td>\n",
       "      <td>недвижимость</td>\n",
       "    </tr>\n",
       "    <tr>\n",
       "      <th>21523</th>\n",
       "      <td>3</td>\n",
       "      <td>-3112.481705</td>\n",
       "      <td>38</td>\n",
       "      <td>среднее</td>\n",
       "      <td>1</td>\n",
       "      <td>женат / замужем</td>\n",
       "      <td>0</td>\n",
       "      <td>M</td>\n",
       "      <td>сотрудник</td>\n",
       "      <td>1</td>\n",
       "      <td>244093.050500</td>\n",
       "      <td>на покупку своего автомобиля</td>\n",
       "    </tr>\n",
       "    <tr>\n",
       "      <th>21524</th>\n",
       "      <td>2</td>\n",
       "      <td>-1984.507589</td>\n",
       "      <td>40</td>\n",
       "      <td>среднее</td>\n",
       "      <td>1</td>\n",
       "      <td>женат / замужем</td>\n",
       "      <td>0</td>\n",
       "      <td>F</td>\n",
       "      <td>сотрудник</td>\n",
       "      <td>0</td>\n",
       "      <td>82047.418899</td>\n",
       "      <td>на покупку автомобиля</td>\n",
       "    </tr>\n",
       "  </tbody>\n",
       "</table>\n",
       "</div>"
      ],
      "text/plain": [
       "       children  days_employed  dob_years       education  education_id  \\\n",
       "21515         1    -467.685130         28         среднее             1   \n",
       "21516         0    -914.391429         42          высшее             0   \n",
       "21517         0    -404.679034         42          высшее             0   \n",
       "21518         0  373995.710838         59         СРЕДНЕЕ             1   \n",
       "21519         1   -2351.431934         37  ученая степень             4   \n",
       "21520         1   -4529.316663         43         среднее             1   \n",
       "21521         0  343937.404131         67         среднее             1   \n",
       "21522         1   -2113.346888         38         среднее             1   \n",
       "21523         3   -3112.481705         38         среднее             1   \n",
       "21524         2   -1984.507589         40         среднее             1   \n",
       "\n",
       "          family_status  family_status_id gender income_type  debt  \\\n",
       "21515   женат / замужем                 0      F   сотрудник     1   \n",
       "21516   женат / замужем                 0      F   компаньон     0   \n",
       "21517  гражданский брак                 1      F   компаньон     0   \n",
       "21518   женат / замужем                 0      F   пенсионер     0   \n",
       "21519         в разводе                 3      M   сотрудник     0   \n",
       "21520  гражданский брак                 1      F   компаньон     0   \n",
       "21521   женат / замужем                 0      F   пенсионер     0   \n",
       "21522  гражданский брак                 1      M   сотрудник     1   \n",
       "21523   женат / замужем                 0      M   сотрудник     1   \n",
       "21524   женат / замужем                 0      F   сотрудник     0   \n",
       "\n",
       "        total_income                            purpose  \n",
       "21515  109486.327999              заняться образованием  \n",
       "21516  322807.776603               покупка своего жилья  \n",
       "21517  178059.553491       на покупку своего автомобиля  \n",
       "21518  153864.650328               сделка с автомобилем  \n",
       "21519  115949.039788  покупка коммерческой недвижимости  \n",
       "21520  224791.862382                  операции с жильем  \n",
       "21521  155999.806512               сделка с автомобилем  \n",
       "21522   89672.561153                       недвижимость  \n",
       "21523  244093.050500       на покупку своего автомобиля  \n",
       "21524   82047.418899              на покупку автомобиля  "
      ]
     },
     "execution_count": 5,
     "metadata": {},
     "output_type": "execute_result"
    }
   ],
   "source": [
    "#просмотр последних 10-ти строк датасета\n",
    "data.tail(10)"
   ]
  },
  {
   "cell_type": "code",
   "execution_count": 6,
   "metadata": {},
   "outputs": [
    {
     "name": "stdout",
     "output_type": "stream",
     "text": [
      "<class 'pandas.core.frame.DataFrame'>\n",
      "RangeIndex: 21525 entries, 0 to 21524\n",
      "Data columns (total 12 columns):\n",
      " #   Column            Non-Null Count  Dtype  \n",
      "---  ------            --------------  -----  \n",
      " 0   children          21525 non-null  int64  \n",
      " 1   days_employed     19351 non-null  float64\n",
      " 2   dob_years         21525 non-null  int64  \n",
      " 3   education         21525 non-null  object \n",
      " 4   education_id      21525 non-null  int64  \n",
      " 5   family_status     21525 non-null  object \n",
      " 6   family_status_id  21525 non-null  int64  \n",
      " 7   gender            21525 non-null  object \n",
      " 8   income_type       21525 non-null  object \n",
      " 9   debt              21525 non-null  int64  \n",
      " 10  total_income      19351 non-null  float64\n",
      " 11  purpose           21525 non-null  object \n",
      "dtypes: float64(2), int64(5), object(5)\n",
      "memory usage: 2.0+ MB\n"
     ]
    }
   ],
   "source": [
    "#просмотр общей информации о датасете\n",
    "data.info()"
   ]
  },
  {
   "cell_type": "markdown",
   "metadata": {},
   "source": [
    "**Вывод**\n",
    "Информация неоднородна, представлена как в нижнем так и в верхнем регистре, присутствуют отрицательные значения (графа days_employed), которые явно не могут быть релевантными, так как, например, невозможно работать -8437 дней. Непонятна метрика оценки. Например - days_employed = 340266.072047 - общий трудовой стаж в днях. В году 365 дней, если человек работал без выходных, то он отработал 340266/365 = (приблизительно) 931 год, при этом долгожитель сообщает в следующей графе, что ему 53 года. \n",
    "Помимо этого, вопросы вызывает столбец income_type - тип занятости (по описанию данных) - что означает тип занятости \"компаньон\"? В данном исследовании предполагается считать этого человека безработным, но имеющим доход за счет совместного проживания с кем-то.\n",
    "В данных присутствуют пропущенные значения, необходимые к изучению.\n",
    "Необходимо изучить явные дубликаты.\n",
    "Столбец purpose также необходимо систематизировать, изучив неявные дубликаты.\n",
    "Итого, проблемы файла (первичные, обнаруженные при просмотре первых 10-ти строк, последних 10-ти строк и общей информации о датасете):\n",
    "1. Наличие отрицательных значений (days_employed)\n",
    "2. Данные несоизмеримы с реальными (days_employed)\n",
    "3. Разное количество знаков после запятой (total_income)\n",
    "4. Использование как верхнего, так и нижнего регистра в строках (education)\n",
    "5. Пропуски данных (days_employed, total_income)\n",
    "6. Большое количество неявных дубликатов (purpose)\n",
    "7. Избыточное количество столбцов, важно понять идентификатор столбца family_status_id, коррелирует ли он с family_status (family_status, family_status_id), то же самое касается education и education_id\n",
    "\n",
    "Необходима верификация данных для проведения качественного исследования"
   ]
  },
  {
   "cell_type": "markdown",
   "metadata": {},
   "source": [
    "## Шаг 2. Предобработка данных"
   ]
  },
  {
   "cell_type": "markdown",
   "metadata": {},
   "source": [
    "### Обработка пропусков"
   ]
  },
  {
   "cell_type": "code",
   "execution_count": 7,
   "metadata": {},
   "outputs": [
    {
     "data": {
      "text/plain": [
       "children               0\n",
       "days_employed       2174\n",
       "dob_years              0\n",
       "education              0\n",
       "education_id           0\n",
       "family_status          0\n",
       "family_status_id       0\n",
       "gender                 0\n",
       "income_type            0\n",
       "debt                   0\n",
       "total_income        2174\n",
       "purpose                0\n",
       "dtype: int64"
      ]
     },
     "execution_count": 7,
     "metadata": {},
     "output_type": "execute_result"
    }
   ],
   "source": [
    "#поиск пропущенных значений\n",
    "data.isnull().sum()"
   ]
  },
  {
   "cell_type": "markdown",
   "metadata": {},
   "source": [
    "Количество пропущенных значений одинаково для days_employed и total_income. \n",
    "Предположение 1 - люди, которые не указали свой доход не работают и никогда не работали\n",
    "Предположение 2 - ошибка в данных"
   ]
  },
  {
   "cell_type": "code",
   "execution_count": 8,
   "metadata": {},
   "outputs": [
    {
     "data": {
      "text/plain": [
       "'Доля пропущенных значений для столбцов days_employed и total_income (в процентах):'"
      ]
     },
     "metadata": {},
     "output_type": "display_data"
    },
    {
     "data": {
      "text/plain": [
       "10.099883855981417"
      ]
     },
     "metadata": {},
     "output_type": "display_data"
    }
   ],
   "source": [
    "#доля пропущенных значений в общем датасете\n",
    "miss_share = 2174 / 21525 * 100\n",
    "display('Доля пропущенных значений для столбцов days_employed и total_income (в процентах):', miss_share)"
   ]
  },
  {
   "cell_type": "markdown",
   "metadata": {},
   "source": [
    "**Вывод**\n",
    "Доля пропущенных значений составляет чуть более 10-ти% и может незначительно повредить выборке.\n"
   ]
  },
  {
   "cell_type": "code",
   "execution_count": 9,
   "metadata": {},
   "outputs": [
    {
     "data": {
      "text/html": [
       "<style type=\"text/css\">\n",
       "#T_483a7_row0_col0, #T_483a7_row2_col0, #T_483a7_row3_col0, #T_483a7_row4_col0, #T_483a7_row5_col0, #T_483a7_row6_col0, #T_483a7_row7_col0, #T_483a7_row8_col0, #T_483a7_row9_col0, #T_483a7_row11_col0 {\n",
       "  background-color: #3b4cc0;\n",
       "  color: #f1f1f1;\n",
       "}\n",
       "#T_483a7_row1_col0, #T_483a7_row10_col0 {\n",
       "  background-color: #b40426;\n",
       "  color: #f1f1f1;\n",
       "}\n",
       "</style>\n",
       "<table id=\"T_483a7_\">\n",
       "  <thead>\n",
       "    <tr>\n",
       "      <th class=\"blank level0\" >&nbsp;</th>\n",
       "      <th class=\"col_heading level0 col0\" >NaNs, %</th>\n",
       "    </tr>\n",
       "  </thead>\n",
       "  <tbody>\n",
       "    <tr>\n",
       "      <th id=\"T_483a7_level0_row0\" class=\"row_heading level0 row0\" >children</th>\n",
       "      <td id=\"T_483a7_row0_col0\" class=\"data row0 col0\" >0.00</td>\n",
       "    </tr>\n",
       "    <tr>\n",
       "      <th id=\"T_483a7_level0_row1\" class=\"row_heading level0 row1\" >days_employed</th>\n",
       "      <td id=\"T_483a7_row1_col0\" class=\"data row1 col0\" >10.10</td>\n",
       "    </tr>\n",
       "    <tr>\n",
       "      <th id=\"T_483a7_level0_row2\" class=\"row_heading level0 row2\" >dob_years</th>\n",
       "      <td id=\"T_483a7_row2_col0\" class=\"data row2 col0\" >0.00</td>\n",
       "    </tr>\n",
       "    <tr>\n",
       "      <th id=\"T_483a7_level0_row3\" class=\"row_heading level0 row3\" >education</th>\n",
       "      <td id=\"T_483a7_row3_col0\" class=\"data row3 col0\" >0.00</td>\n",
       "    </tr>\n",
       "    <tr>\n",
       "      <th id=\"T_483a7_level0_row4\" class=\"row_heading level0 row4\" >education_id</th>\n",
       "      <td id=\"T_483a7_row4_col0\" class=\"data row4 col0\" >0.00</td>\n",
       "    </tr>\n",
       "    <tr>\n",
       "      <th id=\"T_483a7_level0_row5\" class=\"row_heading level0 row5\" >family_status</th>\n",
       "      <td id=\"T_483a7_row5_col0\" class=\"data row5 col0\" >0.00</td>\n",
       "    </tr>\n",
       "    <tr>\n",
       "      <th id=\"T_483a7_level0_row6\" class=\"row_heading level0 row6\" >family_status_id</th>\n",
       "      <td id=\"T_483a7_row6_col0\" class=\"data row6 col0\" >0.00</td>\n",
       "    </tr>\n",
       "    <tr>\n",
       "      <th id=\"T_483a7_level0_row7\" class=\"row_heading level0 row7\" >gender</th>\n",
       "      <td id=\"T_483a7_row7_col0\" class=\"data row7 col0\" >0.00</td>\n",
       "    </tr>\n",
       "    <tr>\n",
       "      <th id=\"T_483a7_level0_row8\" class=\"row_heading level0 row8\" >income_type</th>\n",
       "      <td id=\"T_483a7_row8_col0\" class=\"data row8 col0\" >0.00</td>\n",
       "    </tr>\n",
       "    <tr>\n",
       "      <th id=\"T_483a7_level0_row9\" class=\"row_heading level0 row9\" >debt</th>\n",
       "      <td id=\"T_483a7_row9_col0\" class=\"data row9 col0\" >0.00</td>\n",
       "    </tr>\n",
       "    <tr>\n",
       "      <th id=\"T_483a7_level0_row10\" class=\"row_heading level0 row10\" >total_income</th>\n",
       "      <td id=\"T_483a7_row10_col0\" class=\"data row10 col0\" >10.10</td>\n",
       "    </tr>\n",
       "    <tr>\n",
       "      <th id=\"T_483a7_level0_row11\" class=\"row_heading level0 row11\" >purpose</th>\n",
       "      <td id=\"T_483a7_row11_col0\" class=\"data row11 col0\" >0.00</td>\n",
       "    </tr>\n",
       "  </tbody>\n",
       "</table>\n"
      ],
      "text/plain": [
       "<pandas.io.formats.style.Styler at 0x7fe10bd94310>"
      ]
     },
     "metadata": {},
     "output_type": "display_data"
    }
   ],
   "source": [
    "#визуализация процентного соотношения пропусков\n",
    "display(pd.DataFrame(round((data.isna().mean()*100),2), columns=['NaNs, %']).style.format(\n",
    "    '{:.2f}').background_gradient('coolwarm'))"
   ]
  },
  {
   "cell_type": "markdown",
   "metadata": {},
   "source": [
    "### Замена типа данных"
   ]
  },
  {
   "cell_type": "code",
   "execution_count": 10,
   "metadata": {},
   "outputs": [],
   "source": [
    "#замена пропусков в данных столбца total_income медианным значением\n",
    "\n",
    "#median_total_income = data['total_income'].median()\n",
    "#data['total_income'] = data['total_income'].fillna(median_total_income)"
   ]
  },
  {
   "cell_type": "markdown",
   "metadata": {},
   "source": [
    "Замена пропусков медианным значением позволяет подставить в пустую ячейку корректное значение, которое не будет являться выбросом данных. Использование среднего значения при подобных манипуляциях с количественными данными может повредить выборку за счет выбросов.\n",
    "В то же время, подставление медианного значения в банковской сфере не может являться на 100% правильным решением, поскольку может повысить шанс выдачи кредита лицу с отсутствующим доходом или доходом меньше медианного, что повлечет проблемы для банка. "
   ]
  },
  {
   "cell_type": "code",
   "execution_count": 11,
   "metadata": {},
   "outputs": [
    {
     "name": "stdout",
     "output_type": "stream",
     "text": [
      "<class 'pandas.core.frame.DataFrame'>\n",
      "RangeIndex: 21525 entries, 0 to 21524\n",
      "Data columns (total 12 columns):\n",
      " #   Column            Non-Null Count  Dtype  \n",
      "---  ------            --------------  -----  \n",
      " 0   children          21525 non-null  int64  \n",
      " 1   days_employed     19351 non-null  float64\n",
      " 2   dob_years         21525 non-null  int64  \n",
      " 3   education         21525 non-null  object \n",
      " 4   education_id      21525 non-null  int64  \n",
      " 5   family_status     21525 non-null  object \n",
      " 6   family_status_id  21525 non-null  int64  \n",
      " 7   gender            21525 non-null  object \n",
      " 8   income_type       21525 non-null  object \n",
      " 9   debt              21525 non-null  int64  \n",
      " 10  total_income      19351 non-null  float64\n",
      " 11  purpose           21525 non-null  object \n",
      "dtypes: float64(2), int64(5), object(5)\n",
      "memory usage: 2.0+ MB\n"
     ]
    }
   ],
   "source": [
    "#подсчет количества уникальных записей (для подсчета в будущих итерациях)\n",
    "data.info()"
   ]
  },
  {
   "cell_type": "markdown",
   "metadata": {},
   "source": [
    "Рассмотрим аномалии в каждом столбце датасета"
   ]
  },
  {
   "cell_type": "code",
   "execution_count": 12,
   "metadata": {},
   "outputs": [
    {
     "data": {
      "text/plain": [
       "array([ 1,  0,  3,  2, -1,  4, 20,  5])"
      ]
     },
     "execution_count": 12,
     "metadata": {},
     "output_type": "execute_result"
    }
   ],
   "source": [
    "#поиск аномалий в столбце - сhildren\n",
    "data['children'].unique()"
   ]
  },
  {
   "cell_type": "markdown",
   "metadata": {},
   "source": [
    "Уникальные значения - 0, 1, 2, 3, 4, 5 выглядят логично, в то время как -1 и 20 выглядят как нерелевантные значения.\n",
    "Предположение 1: -1 - опечатка, нужно исправить на 1\n",
    "Предположение 2: 20 - требуется проверка и соотнесение с другими данными клиента. Возможно, также опечатка и должно быть 2 либо значение теоретически может быть корректным. Необходим просмотр других данных клиента (возраст, семейное положение, пол и другие данные)."
   ]
  },
  {
   "cell_type": "code",
   "execution_count": 13,
   "metadata": {},
   "outputs": [],
   "source": [
    "#замена значения -1 в столбце children на значение 1\n",
    "вфефхэсршдвкутэъ = вфефхэсршдвкутэъюкуздфсу(-1б 1)"
   ]
  },
  {
   "cell_type": "code",
   "execution_count": 14,
   "metadata": {},
   "outputs": [
    {
     "data": {
      "text/html": [
       "<div>\n",
       "<style scoped>\n",
       "    .dataframe tbody tr th:only-of-type {\n",
       "        vertical-align: middle;\n",
       "    }\n",
       "\n",
       "    .dataframe tbody tr th {\n",
       "        vertical-align: top;\n",
       "    }\n",
       "\n",
       "    .dataframe thead th {\n",
       "        text-align: right;\n",
       "    }\n",
       "</style>\n",
       "<table border=\"1\" class=\"dataframe\">\n",
       "  <thead>\n",
       "    <tr style=\"text-align: right;\">\n",
       "      <th></th>\n",
       "      <th>children</th>\n",
       "      <th>days_employed</th>\n",
       "      <th>dob_years</th>\n",
       "      <th>education</th>\n",
       "      <th>education_id</th>\n",
       "      <th>family_status</th>\n",
       "      <th>family_status_id</th>\n",
       "      <th>gender</th>\n",
       "      <th>income_type</th>\n",
       "      <th>debt</th>\n",
       "      <th>total_income</th>\n",
       "      <th>purpose</th>\n",
       "    </tr>\n",
       "  </thead>\n",
       "  <tbody>\n",
       "    <tr>\n",
       "      <th>606</th>\n",
       "      <td>20</td>\n",
       "      <td>-880.221113</td>\n",
       "      <td>21</td>\n",
       "      <td>среднее</td>\n",
       "      <td>1</td>\n",
       "      <td>женат / замужем</td>\n",
       "      <td>0</td>\n",
       "      <td>M</td>\n",
       "      <td>компаньон</td>\n",
       "      <td>0</td>\n",
       "      <td>145334.865002</td>\n",
       "      <td>покупка жилья</td>\n",
       "    </tr>\n",
       "    <tr>\n",
       "      <th>720</th>\n",
       "      <td>20</td>\n",
       "      <td>-855.595512</td>\n",
       "      <td>44</td>\n",
       "      <td>среднее</td>\n",
       "      <td>1</td>\n",
       "      <td>женат / замужем</td>\n",
       "      <td>0</td>\n",
       "      <td>F</td>\n",
       "      <td>компаньон</td>\n",
       "      <td>0</td>\n",
       "      <td>112998.738649</td>\n",
       "      <td>покупка недвижимости</td>\n",
       "    </tr>\n",
       "    <tr>\n",
       "      <th>1074</th>\n",
       "      <td>20</td>\n",
       "      <td>-3310.411598</td>\n",
       "      <td>56</td>\n",
       "      <td>среднее</td>\n",
       "      <td>1</td>\n",
       "      <td>женат / замужем</td>\n",
       "      <td>0</td>\n",
       "      <td>F</td>\n",
       "      <td>сотрудник</td>\n",
       "      <td>1</td>\n",
       "      <td>229518.537004</td>\n",
       "      <td>получение образования</td>\n",
       "    </tr>\n",
       "    <tr>\n",
       "      <th>2510</th>\n",
       "      <td>20</td>\n",
       "      <td>-2714.161249</td>\n",
       "      <td>59</td>\n",
       "      <td>высшее</td>\n",
       "      <td>0</td>\n",
       "      <td>вдовец / вдова</td>\n",
       "      <td>2</td>\n",
       "      <td>F</td>\n",
       "      <td>сотрудник</td>\n",
       "      <td>0</td>\n",
       "      <td>264474.835577</td>\n",
       "      <td>операции с коммерческой недвижимостью</td>\n",
       "    </tr>\n",
       "    <tr>\n",
       "      <th>2941</th>\n",
       "      <td>20</td>\n",
       "      <td>-2161.591519</td>\n",
       "      <td>0</td>\n",
       "      <td>среднее</td>\n",
       "      <td>1</td>\n",
       "      <td>женат / замужем</td>\n",
       "      <td>0</td>\n",
       "      <td>F</td>\n",
       "      <td>сотрудник</td>\n",
       "      <td>0</td>\n",
       "      <td>199739.941398</td>\n",
       "      <td>на покупку автомобиля</td>\n",
       "    </tr>\n",
       "    <tr>\n",
       "      <th>...</th>\n",
       "      <td>...</td>\n",
       "      <td>...</td>\n",
       "      <td>...</td>\n",
       "      <td>...</td>\n",
       "      <td>...</td>\n",
       "      <td>...</td>\n",
       "      <td>...</td>\n",
       "      <td>...</td>\n",
       "      <td>...</td>\n",
       "      <td>...</td>\n",
       "      <td>...</td>\n",
       "      <td>...</td>\n",
       "    </tr>\n",
       "    <tr>\n",
       "      <th>21008</th>\n",
       "      <td>20</td>\n",
       "      <td>-1240.257910</td>\n",
       "      <td>40</td>\n",
       "      <td>среднее</td>\n",
       "      <td>1</td>\n",
       "      <td>женат / замужем</td>\n",
       "      <td>0</td>\n",
       "      <td>F</td>\n",
       "      <td>сотрудник</td>\n",
       "      <td>1</td>\n",
       "      <td>133524.010303</td>\n",
       "      <td>свой автомобиль</td>\n",
       "    </tr>\n",
       "    <tr>\n",
       "      <th>21325</th>\n",
       "      <td>20</td>\n",
       "      <td>-601.174883</td>\n",
       "      <td>37</td>\n",
       "      <td>среднее</td>\n",
       "      <td>1</td>\n",
       "      <td>женат / замужем</td>\n",
       "      <td>0</td>\n",
       "      <td>F</td>\n",
       "      <td>компаньон</td>\n",
       "      <td>0</td>\n",
       "      <td>102986.065978</td>\n",
       "      <td>профильное образование</td>\n",
       "    </tr>\n",
       "    <tr>\n",
       "      <th>21390</th>\n",
       "      <td>20</td>\n",
       "      <td>NaN</td>\n",
       "      <td>53</td>\n",
       "      <td>среднее</td>\n",
       "      <td>1</td>\n",
       "      <td>женат / замужем</td>\n",
       "      <td>0</td>\n",
       "      <td>M</td>\n",
       "      <td>компаньон</td>\n",
       "      <td>0</td>\n",
       "      <td>NaN</td>\n",
       "      <td>покупка жилой недвижимости</td>\n",
       "    </tr>\n",
       "    <tr>\n",
       "      <th>21404</th>\n",
       "      <td>20</td>\n",
       "      <td>-494.788448</td>\n",
       "      <td>52</td>\n",
       "      <td>среднее</td>\n",
       "      <td>1</td>\n",
       "      <td>женат / замужем</td>\n",
       "      <td>0</td>\n",
       "      <td>M</td>\n",
       "      <td>компаньон</td>\n",
       "      <td>0</td>\n",
       "      <td>156629.683642</td>\n",
       "      <td>операции со своей недвижимостью</td>\n",
       "    </tr>\n",
       "    <tr>\n",
       "      <th>21491</th>\n",
       "      <td>20</td>\n",
       "      <td>-173.954460</td>\n",
       "      <td>27</td>\n",
       "      <td>среднее</td>\n",
       "      <td>1</td>\n",
       "      <td>женат / замужем</td>\n",
       "      <td>0</td>\n",
       "      <td>F</td>\n",
       "      <td>сотрудник</td>\n",
       "      <td>0</td>\n",
       "      <td>155520.899688</td>\n",
       "      <td>на покупку подержанного автомобиля</td>\n",
       "    </tr>\n",
       "  </tbody>\n",
       "</table>\n",
       "<p>76 rows × 12 columns</p>\n",
       "</div>"
      ],
      "text/plain": [
       "       children  days_employed  dob_years education  education_id  \\\n",
       "606          20    -880.221113         21   среднее             1   \n",
       "720          20    -855.595512         44   среднее             1   \n",
       "1074         20   -3310.411598         56   среднее             1   \n",
       "2510         20   -2714.161249         59    высшее             0   \n",
       "2941         20   -2161.591519          0   среднее             1   \n",
       "...         ...            ...        ...       ...           ...   \n",
       "21008        20   -1240.257910         40   среднее             1   \n",
       "21325        20    -601.174883         37   среднее             1   \n",
       "21390        20            NaN         53   среднее             1   \n",
       "21404        20    -494.788448         52   среднее             1   \n",
       "21491        20    -173.954460         27   среднее             1   \n",
       "\n",
       "         family_status  family_status_id gender income_type  debt  \\\n",
       "606    женат / замужем                 0      M   компаньон     0   \n",
       "720    женат / замужем                 0      F   компаньон     0   \n",
       "1074   женат / замужем                 0      F   сотрудник     1   \n",
       "2510    вдовец / вдова                 2      F   сотрудник     0   \n",
       "2941   женат / замужем                 0      F   сотрудник     0   \n",
       "...                ...               ...    ...         ...   ...   \n",
       "21008  женат / замужем                 0      F   сотрудник     1   \n",
       "21325  женат / замужем                 0      F   компаньон     0   \n",
       "21390  женат / замужем                 0      M   компаньон     0   \n",
       "21404  женат / замужем                 0      M   компаньон     0   \n",
       "21491  женат / замужем                 0      F   сотрудник     0   \n",
       "\n",
       "        total_income                                purpose  \n",
       "606    145334.865002                          покупка жилья  \n",
       "720    112998.738649                   покупка недвижимости  \n",
       "1074   229518.537004                  получение образования  \n",
       "2510   264474.835577  операции с коммерческой недвижимостью  \n",
       "2941   199739.941398                  на покупку автомобиля  \n",
       "...              ...                                    ...  \n",
       "21008  133524.010303                        свой автомобиль  \n",
       "21325  102986.065978                 профильное образование  \n",
       "21390            NaN             покупка жилой недвижимости  \n",
       "21404  156629.683642        операции со своей недвижимостью  \n",
       "21491  155520.899688     на покупку подержанного автомобиля  \n",
       "\n",
       "[76 rows x 12 columns]"
      ]
     },
     "execution_count": 14,
     "metadata": {},
     "output_type": "execute_result"
    }
   ],
   "source": [
    "#просмотр строки клиента с значением 20 детей\n",
    "data.loc[data['children'] == 20]"
   ]
  },
  {
   "cell_type": "markdown",
   "metadata": {},
   "source": [
    "76 человек утверждают, что у них 20 детей, причем как минимум одному из них 0 лет. \n",
    "На основе этих данных предполагаем, что имела место опечатка и целевое значение - 2 ребенка. Прежде чем менять, посмотрим разбивку по возрастам у людей с 20 детьми."
   ]
  },
  {
   "cell_type": "code",
   "execution_count": 15,
   "metadata": {},
   "outputs": [
    {
     "data": {
      "text/plain": [
       "dob_years\n",
       "0     1\n",
       "21    1\n",
       "23    1\n",
       "24    1\n",
       "25    1\n",
       "26    1\n",
       "27    2\n",
       "29    2\n",
       "30    3\n",
       "31    2\n",
       "32    2\n",
       "33    2\n",
       "34    3\n",
       "35    2\n",
       "36    2\n",
       "37    4\n",
       "38    1\n",
       "39    1\n",
       "40    4\n",
       "41    2\n",
       "42    3\n",
       "43    2\n",
       "44    2\n",
       "45    3\n",
       "46    3\n",
       "48    1\n",
       "49    3\n",
       "50    3\n",
       "51    1\n",
       "52    1\n",
       "53    1\n",
       "54    1\n",
       "55    1\n",
       "56    5\n",
       "57    1\n",
       "59    2\n",
       "60    1\n",
       "61    1\n",
       "62    1\n",
       "64    1\n",
       "69    1\n",
       "Name: dob_years, dtype: int64"
      ]
     },
     "execution_count": 15,
     "metadata": {},
     "output_type": "execute_result"
    }
   ],
   "source": [
    "#Группировка по возрасту для людей с 20-тью детьми\n",
    "data[data['children'] == 20].groupby('dob_years')['dob_years'].count()"
   ]
  },
  {
   "cell_type": "markdown",
   "metadata": {},
   "source": [
    "Если у человека, которому 69 лет теоретически может оказаться 20 детей, то у человека возраста 0 лет 20 детей быть не может даже теоретически. Делаем вывод о том, что 20 детей это опечатка при внесении данных, соответственно необходимо заменить 20 детей на 2."
   ]
  },
  {
   "cell_type": "code",
   "execution_count": 16,
   "metadata": {},
   "outputs": [],
   "source": [
    "#замена значения 20 в столбце children на значение 2\n",
    "data['children'] = data['children'].replace(20, 2)"
   ]
  },
  {
   "cell_type": "code",
   "execution_count": 17,
   "metadata": {
    "scrolled": true
   },
   "outputs": [
    {
     "data": {
      "text/plain": [
       "array([1, 0, 3, 2, 4, 5])"
      ]
     },
     "execution_count": 17,
     "metadata": {},
     "output_type": "execute_result"
    }
   ],
   "source": [
    "#проверка значений в столбце children\n",
    "data['children'].unique()"
   ]
  },
  {
   "cell_type": "markdown",
   "metadata": {},
   "source": [
    "Теперь все значения выглядят реальными, столбец children готов к обработке"
   ]
  },
  {
   "cell_type": "code",
   "execution_count": 20,
   "metadata": {},
   "outputs": [
    {
     "data": {
      "text/plain": [
       "35    617\n",
       "40    609\n",
       "41    607\n",
       "34    603\n",
       "38    598\n",
       "42    597\n",
       "33    581\n",
       "39    573\n",
       "31    560\n",
       "36    555\n",
       "44    547\n",
       "29    545\n",
       "30    540\n",
       "48    538\n",
       "37    537\n",
       "50    514\n",
       "43    513\n",
       "32    510\n",
       "49    508\n",
       "28    503\n",
       "45    497\n",
       "27    493\n",
       "56    487\n",
       "52    484\n",
       "47    480\n",
       "54    479\n",
       "46    475\n",
       "58    461\n",
       "57    460\n",
       "53    459\n",
       "51    448\n",
       "59    444\n",
       "55    443\n",
       "26    408\n",
       "60    377\n",
       "25    357\n",
       "61    355\n",
       "62    352\n",
       "63    269\n",
       "64    265\n",
       "24    264\n",
       "23    254\n",
       "65    194\n",
       "22    183\n",
       "66    183\n",
       "67    167\n",
       "21    111\n",
       "0     101\n",
       "68     99\n",
       "69     85\n",
       "70     65\n",
       "71     58\n",
       "20     51\n",
       "72     33\n",
       "19     14\n",
       "73      8\n",
       "74      6\n",
       "75      1\n",
       "Name: dob_years, dtype: int64"
      ]
     },
     "execution_count": 20,
     "metadata": {},
     "output_type": "execute_result"
    }
   ],
   "source": [
    "#поиск аномалий в столбце dob_years и сортировка данных по количеству повторений\n",
    "data['dob_years'].value_counts()"
   ]
  },
  {
   "cell_type": "code",
   "execution_count": 21,
   "metadata": {},
   "outputs": [
    {
     "data": {
      "text/plain": [
       "101"
      ]
     },
     "execution_count": 21,
     "metadata": {},
     "output_type": "execute_result"
    }
   ],
   "source": [
    "#подсчитаем тех, чей возраст менее 18 лет\n",
    "data[data['dob_years'] < 18]['dob_years'].count()"
   ]
  },
  {
   "cell_type": "markdown",
   "metadata": {},
   "source": [
    "101 человек имеет возраст до 18-ти лет (0 лет). Предположительно, они некорректно указали свой возраст либо имела место ошибка в данных"
   ]
  },
  {
   "cell_type": "code",
   "execution_count": 22,
   "metadata": {
    "scrolled": true
   },
   "outputs": [
    {
     "data": {
      "text/plain": [
       "family_status\n",
       "Не женат / не замужем    16\n",
       "в разводе                10\n",
       "вдовец / вдова            5\n",
       "гражданский брак         21\n",
       "женат / замужем          49\n",
       "Name: dob_years, dtype: int64"
      ]
     },
     "execution_count": 22,
     "metadata": {},
     "output_type": "execute_result"
    }
   ],
   "source": [
    "#сортировка людей с возрастом 0 лет по семейному статусу.\n",
    "data_years_family_0 = data.loc[data['dob_years']<18]\n",
    "dob_years_grouped = data_years_family_0.groupby('family_status')['dob_years'].count()\n",
    "dob_years_grouped"
   ]
  },
  {
   "cell_type": "markdown",
   "metadata": {},
   "source": [
    "В каждой категории присутствуют люди, которые внесены в базу с возрастом 0, подтверждается гипотеза об ошибке в данных. "
   ]
  },
  {
   "cell_type": "code",
   "execution_count": 23,
   "metadata": {},
   "outputs": [
    {
     "data": {
      "text/plain": [
       "income_type\n",
       "госслужащий     6\n",
       "компаньон      20\n",
       "пенсионер      20\n",
       "сотрудник      55\n",
       "Name: dob_years, dtype: int64"
      ]
     },
     "execution_count": 23,
     "metadata": {},
     "output_type": "execute_result"
    }
   ],
   "source": [
    "#сортировка людей с возрастом 0 лет по уровню дохода.\n",
    "data_years_income_0 = data.loc[data['dob_years']<18]\n",
    "income_type_dob_years_grouped = data_years_income_0.groupby('income_type')['dob_years'].count()\n",
    "income_type_dob_years_grouped"
   ]
  },
  {
   "cell_type": "code",
   "execution_count": 24,
   "metadata": {},
   "outputs": [
    {
     "data": {
      "text/plain": [
       "income_type\n",
       "безработный        38.0\n",
       "в декрете          39.0\n",
       "госслужащий        40.0\n",
       "компаньон          39.0\n",
       "пенсионер          60.0\n",
       "предприниматель    42.5\n",
       "сотрудник          39.0\n",
       "студент            22.0\n",
       "Name: dob_years, dtype: float64"
      ]
     },
     "execution_count": 24,
     "metadata": {},
     "output_type": "execute_result"
    }
   ],
   "source": [
    "#найдем медианные значения по каждой группе для заполнения пропусков\n",
    "income_type_dob_years_grouped_total = data.groupby('income_type')['dob_years'].median()\n",
    "income_type_dob_years_grouped_total"
   ]
  },
  {
   "cell_type": "code",
   "execution_count": 25,
   "metadata": {},
   "outputs": [],
   "source": [
    "#заполним пропуски медианными значениями по каждому типу дохода\n",
    "data.loc[(data['income_type'] == 'госслужащий') & (data['dob_years'] == 0), 'dob_years'] = 40\n",
    "data.loc[(data['income_type'] == 'компаньон') & (data['dob_years'] == 0), 'dob_years'] = 39\n",
    "data.loc[(data['income_type'] == 'пенсионер') & (data['dob_years'] == 0), 'dob_years'] = 60\n",
    "data.loc[(data['income_type'] == 'сотрудник') & (data['dob_years'] == 0), 'dob_years'] = 39"
   ]
  },
  {
   "cell_type": "markdown",
   "metadata": {},
   "source": [
    "Данные по людям с возрастом 0 заменены на медианные значения по типу дохода указанной группы"
   ]
  },
  {
   "cell_type": "code",
   "execution_count": 26,
   "metadata": {
    "scrolled": true
   },
   "outputs": [
    {
     "data": {
      "text/plain": [
       "array([-8437.67302776, -4024.80375385, -5623.42261023, ...,\n",
       "       -2113.3468877 , -3112.4817052 , -1984.50758853])"
      ]
     },
     "execution_count": 26,
     "metadata": {},
     "output_type": "execute_result"
    }
   ],
   "source": [
    "#поиск аномалий в столбце days_employed\n",
    "data['days_employed'].unique()"
   ]
  },
  {
   "cell_type": "markdown",
   "metadata": {},
   "source": [
    "Метод unique ничего не дал, поскольку, в отличие от количества детей (предыдущий столбец), все данные в этом столбце неоднородны. В первую очередь, необходимо привести все данные к положительным цифрам. Во вторых, необходимо привести все данные к целому числу, так как обработка разного количества знаков после запятой существенно усложнит работу проекта, а разница менее 1 рабочего дня не окажет какого-либо существенного эффекта"
   ]
  },
  {
   "cell_type": "code",
   "execution_count": 27,
   "metadata": {},
   "outputs": [
    {
     "data": {
      "text/plain": [
       "count     19351.000000\n",
       "mean      63046.497661\n",
       "std      140827.311974\n",
       "min      -18388.949901\n",
       "25%       -2747.423625\n",
       "50%       -1203.369529\n",
       "75%        -291.095954\n",
       "max      401755.400475\n",
       "Name: days_employed, dtype: float64"
      ]
     },
     "execution_count": 27,
     "metadata": {},
     "output_type": "execute_result"
    }
   ],
   "source": [
    "data['days_employed'].describe()"
   ]
  },
  {
   "cell_type": "markdown",
   "metadata": {},
   "source": [
    "Метод describe() показывает, что есть значительный разброс данных, который нельзя объяснить различием трудового стажа. Например, максимальное значение составляет 140827 дней, проведенных на работе, что равняется практически 386 годам. Другая проблема - отрицательные числа, нельзя провести не работе даже -1 день, не говоря уже о -18388.9 дней. Сначала необходимо привести данные к положительным числам."
   ]
  },
  {
   "cell_type": "code",
   "execution_count": 28,
   "metadata": {},
   "outputs": [
    {
     "data": {
      "text/plain": [
       "count     19351.000000\n",
       "mean      66914.728907\n",
       "std      139030.880527\n",
       "min          24.141633\n",
       "25%         927.009265\n",
       "50%        2194.220567\n",
       "75%        5537.882441\n",
       "max      401755.400475\n",
       "Name: days_employed, dtype: float64"
      ]
     },
     "execution_count": 28,
     "metadata": {},
     "output_type": "execute_result"
    }
   ],
   "source": [
    "#приведение данных к положительным числам и проверка данных\n",
    "data['days_employed']=data['days_employed'].abs()\n",
    "data['days_employed'].describe()"
   ]
  },
  {
   "cell_type": "markdown",
   "metadata": {},
   "source": [
    "В стобце days_employed всё еще присутствуют пропущенные значения. Можно заполнить их значением 0 либо значением максимально возможного отработанного времени для данного респондента. При расчете, что в столбце total_income значения были заполнены медианным значением, логично также установить в пустые значения столбца days_employed медианное значение отработанного количество дней для каждой группы, которое не будет нарушать выборку."
   ]
  },
  {
   "cell_type": "code",
   "execution_count": 29,
   "metadata": {},
   "outputs": [
    {
     "data": {
      "text/plain": [
       "2174"
      ]
     },
     "execution_count": 29,
     "metadata": {},
     "output_type": "execute_result"
    }
   ],
   "source": [
    "#проверка количества пропущенных записей\n",
    "data['days_employed'].isnull().sum()"
   ]
  },
  {
   "cell_type": "code",
   "execution_count": 30,
   "metadata": {},
   "outputs": [
    {
     "data": {
      "text/plain": [
       "0"
      ]
     },
     "execution_count": 30,
     "metadata": {},
     "output_type": "execute_result"
    }
   ],
   "source": [
    "# сформируем сводную табличку с группировкой по типу занятости и измерением медианного дохода\n",
    "group_income = data.groupby('income_type')['days_employed'].median()\n",
    "# заполним пропуски на медианный доход, основываясь на типе занятости\n",
    "for i in group_income.index:\n",
    "    data.loc[(data['income_type'] == i) & (data['days_employed'].isnull()), 'days_employed'] = group_income[i]\n",
    "#проверка количества пропущенных записей\n",
    "data['days_employed'].isnull().sum()"
   ]
  },
  {
   "cell_type": "markdown",
   "metadata": {},
   "source": [
    "Пропуски в данных заменены на медианные значения по уровням дохода для каждой группы"
   ]
  },
  {
   "cell_type": "code",
   "execution_count": 31,
   "metadata": {},
   "outputs": [
    {
     "data": {
      "text/plain": [
       "array(['женат / замужем', 'гражданский брак', 'вдовец / вдова',\n",
       "       'в разводе', 'Не женат / не замужем'], dtype=object)"
      ]
     },
     "execution_count": 31,
     "metadata": {},
     "output_type": "execute_result"
    }
   ],
   "source": [
    "#просмотр аномалий и уникальных значений family_status\n",
    "data['family_status'].unique()"
   ]
  },
  {
   "cell_type": "markdown",
   "metadata": {},
   "source": [
    "Столбец выглядит аккуратно. Единственная аномалия, которая, впрочем, не мешает исследованию - первая большая буква 'Не женат ___'."
   ]
  },
  {
   "cell_type": "code",
   "execution_count": 32,
   "metadata": {},
   "outputs": [
    {
     "data": {
      "text/plain": [
       "array(['F', 'M', 'XNA'], dtype=object)"
      ]
     },
     "execution_count": 32,
     "metadata": {},
     "output_type": "execute_result"
    }
   ],
   "source": [
    "#просмотр аномалий и уникальных значений gender\n",
    "data['gender'].unique()"
   ]
  },
  {
   "cell_type": "code",
   "execution_count": 33,
   "metadata": {},
   "outputs": [
    {
     "data": {
      "text/plain": [
       "children            1\n",
       "days_employed       1\n",
       "dob_years           1\n",
       "education           1\n",
       "education_id        1\n",
       "family_status       1\n",
       "family_status_id    1\n",
       "gender              1\n",
       "income_type         1\n",
       "debt                1\n",
       "total_income        1\n",
       "purpose             1\n",
       "dtype: int64"
      ]
     },
     "execution_count": 33,
     "metadata": {},
     "output_type": "execute_result"
    }
   ],
   "source": [
    "#поиск количества значений XNA\n",
    "data[data['gender'] == 'XNA'].count()"
   ]
  },
  {
   "cell_type": "markdown",
   "metadata": {},
   "source": [
    "Выявлено одно значение XNA в данных. Исключение данной строки из выборки не нанесет вреда остальным данным. "
   ]
  },
  {
   "cell_type": "code",
   "execution_count": 34,
   "metadata": {},
   "outputs": [],
   "source": [
    "#исключение строки со значением gender = XNA из выборки\n",
    "data = data[data['gender'] != 'XNA']"
   ]
  },
  {
   "cell_type": "code",
   "execution_count": 35,
   "metadata": {},
   "outputs": [
    {
     "data": {
      "text/plain": [
       "array(['F', 'M'], dtype=object)"
      ]
     },
     "execution_count": 35,
     "metadata": {},
     "output_type": "execute_result"
    }
   ],
   "source": [
    "#проверка аномалий и уникальных значений столбца Gender\n",
    "data['gender'].unique()"
   ]
  },
  {
   "cell_type": "code",
   "execution_count": 36,
   "metadata": {},
   "outputs": [
    {
     "data": {
      "text/plain": [
       "array(['сотрудник', 'пенсионер', 'компаньон', 'госслужащий',\n",
       "       'безработный', 'предприниматель', 'студент', 'в декрете'],\n",
       "      dtype=object)"
      ]
     },
     "execution_count": 36,
     "metadata": {},
     "output_type": "execute_result"
    }
   ],
   "source": [
    "#просмотр аномалий и уникальных значений income_type\n",
    "data['income_type'].unique()"
   ]
  },
  {
   "cell_type": "markdown",
   "metadata": {},
   "source": [
    "В столбце income_type аномалий не выявлено"
   ]
  },
  {
   "cell_type": "code",
   "execution_count": 37,
   "metadata": {},
   "outputs": [
    {
     "data": {
      "text/plain": [
       "array([0, 1])"
      ]
     },
     "execution_count": 37,
     "metadata": {},
     "output_type": "execute_result"
    }
   ],
   "source": [
    "#просмотр аномалий и уникальных значений debt\n",
    "data['debt'].unique()"
   ]
  },
  {
   "cell_type": "markdown",
   "metadata": {},
   "source": [
    "Долг или есть или нет, аномалий не выявлено"
   ]
  },
  {
   "cell_type": "markdown",
   "metadata": {},
   "source": [
    "Цифры выглядят логично и адекватно, но просмотр затруднен, предположительно из-за большого количества знаков после запятой. Приведем числа к целым. "
   ]
  },
  {
   "cell_type": "markdown",
   "metadata": {},
   "source": [
    "**Вывод** В данном разделе рассмотрены аномалии данных, данные обработаны и заменены в случае необходимости."
   ]
  },
  {
   "cell_type": "code",
   "execution_count": 38,
   "metadata": {},
   "outputs": [
    {
     "data": {
      "text/plain": [
       "children               0\n",
       "days_employed          0\n",
       "dob_years              0\n",
       "education              0\n",
       "education_id           0\n",
       "family_status          0\n",
       "family_status_id       0\n",
       "gender                 0\n",
       "income_type            0\n",
       "debt                   0\n",
       "total_income        2174\n",
       "purpose                0\n",
       "dtype: int64"
      ]
     },
     "execution_count": 38,
     "metadata": {},
     "output_type": "execute_result"
    }
   ],
   "source": [
    "#проверка замены пропусков в данных\n",
    "data.isnull().sum()"
   ]
  },
  {
   "cell_type": "markdown",
   "metadata": {},
   "source": [
    "Данные столбца total_income будут обработаны в рамках последующих действий"
   ]
  },
  {
   "cell_type": "markdown",
   "metadata": {},
   "source": [
    "### Обработка дубликатов"
   ]
  },
  {
   "cell_type": "code",
   "execution_count": 39,
   "metadata": {},
   "outputs": [
    {
     "data": {
      "text/plain": [
       "54"
      ]
     },
     "execution_count": 39,
     "metadata": {},
     "output_type": "execute_result"
    }
   ],
   "source": [
    "#проверка на дубликаты\n",
    "data.duplicated().sum()"
   ]
  },
  {
   "cell_type": "markdown",
   "metadata": {},
   "source": [
    "Обнаружено 54 дубликата, предоположительно это разные заявки для одного клиента или ошибка датасета"
   ]
  },
  {
   "cell_type": "code",
   "execution_count": 40,
   "metadata": {},
   "outputs": [
    {
     "data": {
      "text/plain": [
       "0"
      ]
     },
     "execution_count": 40,
     "metadata": {},
     "output_type": "execute_result"
    }
   ],
   "source": [
    "#удаление явных дубликатов и проверка на их отсутствие по итогу удаления\n",
    "data = data.drop_duplicates().reset_index(drop=True)\n",
    "data.duplicated().sum()"
   ]
  },
  {
   "cell_type": "code",
   "execution_count": 41,
   "metadata": {},
   "outputs": [
    {
     "data": {
      "text/plain": [
       "array(['высшее', 'среднее', 'Среднее', 'СРЕДНЕЕ', 'ВЫСШЕЕ',\n",
       "       'неоконченное высшее', 'начальное', 'Высшее',\n",
       "       'НЕОКОНЧЕННОЕ ВЫСШЕЕ', 'Неоконченное высшее', 'НАЧАЛЬНОЕ',\n",
       "       'Начальное', 'Ученая степень', 'УЧЕНАЯ СТЕПЕНЬ', 'ученая степень'],\n",
       "      dtype=object)"
      ]
     },
     "execution_count": 41,
     "metadata": {},
     "output_type": "execute_result"
    }
   ],
   "source": [
    "#поиск аномалий и уникальных значений в столбце education\n",
    "data['education'].unique()"
   ]
  },
  {
   "cell_type": "markdown",
   "metadata": {},
   "source": [
    "Данные в этом столбце находятся как в верхнем, так и в нижнем регистре. Необходимо привести все данные к общей форме и взглянуть на уникальные значения снова."
   ]
  },
  {
   "cell_type": "code",
   "execution_count": 42,
   "metadata": {},
   "outputs": [
    {
     "data": {
      "text/plain": [
       "array(['высшее', 'среднее', 'неоконченное высшее', 'начальное',\n",
       "       'ученая степень'], dtype=object)"
      ]
     },
     "execution_count": 42,
     "metadata": {},
     "output_type": "execute_result"
    }
   ],
   "source": [
    "#приведение всех букв в нижний регистр\n",
    "data['education'] = data['education'].str.lower()\n",
    "#просмотр уникальных значений\n",
    "data['education'].unique()"
   ]
  },
  {
   "cell_type": "code",
   "execution_count": 43,
   "metadata": {},
   "outputs": [
    {
     "data": {
      "text/plain": [
       "17"
      ]
     },
     "execution_count": 43,
     "metadata": {},
     "output_type": "execute_result"
    }
   ],
   "source": [
    "#повторная проверка на полные дубликаты по результатам обработки\n",
    "data.duplicated().sum()"
   ]
  },
  {
   "cell_type": "code",
   "execution_count": 44,
   "metadata": {},
   "outputs": [
    {
     "data": {
      "text/plain": [
       "0"
      ]
     },
     "execution_count": 44,
     "metadata": {},
     "output_type": "execute_result"
    }
   ],
   "source": [
    "#удаление полных дубликатов и проверка на их отсутствие по итогу удаления\n",
    "data = data.drop_duplicates().reset_index(drop=True)\n",
    "data.duplicated().sum()"
   ]
  },
  {
   "cell_type": "markdown",
   "metadata": {},
   "source": [
    "**Вывод** Явные и неявные дубликаты в датасете обработаны."
   ]
  },
  {
   "cell_type": "markdown",
   "metadata": {},
   "source": [
    "### Лемматизация"
   ]
  },
  {
   "cell_type": "markdown",
   "metadata": {},
   "source": [
    "Теперь столбец выглядит аккуратно. По данным выше мы знаем, что пропущенных значений в этом столбце нет, можно считать его актуальным."
   ]
  },
  {
   "cell_type": "markdown",
   "metadata": {},
   "source": [
    "Для столбца total_income не имеет смысла использовать метод unique(), так как значения уникальны для каждого респондента. "
   ]
  },
  {
   "cell_type": "code",
   "execution_count": 45,
   "metadata": {},
   "outputs": [
    {
     "data": {
      "text/plain": [
       "count    1.935000e+04\n",
       "mean     1.674204e+05\n",
       "std      1.029739e+05\n",
       "min      2.066726e+04\n",
       "25%      1.030407e+05\n",
       "50%      1.450117e+05\n",
       "75%      2.034244e+05\n",
       "max      2.265604e+06\n",
       "Name: total_income, dtype: float64"
      ]
     },
     "execution_count": 45,
     "metadata": {},
     "output_type": "execute_result"
    }
   ],
   "source": [
    "#просмотр аномалий и уникальных значений total_income\n",
    "data['total_income'].describe()"
   ]
  },
  {
   "cell_type": "code",
   "execution_count": 46,
   "metadata": {},
   "outputs": [
    {
     "data": {
      "text/plain": [
       "2103"
      ]
     },
     "execution_count": 46,
     "metadata": {},
     "output_type": "execute_result"
    }
   ],
   "source": [
    "#проверка количества пустых значений в столбце total_income\n",
    "data['total_income'].isnull().sum()"
   ]
  },
  {
   "cell_type": "markdown",
   "metadata": {},
   "source": [
    "Пропущенные значения есть в двух столбцах: \"общий трудовой стаж в днях\" ('days employed') и \"ежемесячный доход\" ('total_income'). Доля пропущенных значений в обоих столбцах составляет 10%. То, что количество пропусков в обоих столбцах совпадает, позволяет предположить, что 10% потенциальных заемщиков не являются наемными сотрудниками на постоянной ставке, поэтому у них отсутствует информация о стаже и доходе. Вероятно, это фрилансеры либо владельцы бизнеса, и их доход отличается от месяца к месяцу.\n",
    "Заполнить пропуски в столбце с доходом лучше всего медианным значением, таким образом мы предположим, что потенциальные заемщики, не указавшие свой доход, имеют среднестатистический заработок."
   ]
  },
  {
   "cell_type": "code",
   "execution_count": 47,
   "metadata": {},
   "outputs": [
    {
     "data": {
      "text/plain": [
       "0"
      ]
     },
     "execution_count": 47,
     "metadata": {},
     "output_type": "execute_result"
    }
   ],
   "source": [
    "#создание переменной по медиане зарплаты\n",
    "med_salary = data.groupby('income_type')['total_income'].transform('median')\n",
    "\n",
    "#заменяем пропуски медианой по каждой группе\n",
    "data['total_income'] = data['total_income'].fillna(med_salary)\n",
    "#проверка наличия пропусков в столбце total_income\n",
    "data['total_income'].isnull().sum()"
   ]
  },
  {
   "cell_type": "code",
   "execution_count": 48,
   "metadata": {
    "scrolled": true
   },
   "outputs": [
    {
     "data": {
      "text/html": [
       "<div>\n",
       "<style scoped>\n",
       "    .dataframe tbody tr th:only-of-type {\n",
       "        vertical-align: middle;\n",
       "    }\n",
       "\n",
       "    .dataframe tbody tr th {\n",
       "        vertical-align: top;\n",
       "    }\n",
       "\n",
       "    .dataframe thead th {\n",
       "        text-align: right;\n",
       "    }\n",
       "</style>\n",
       "<table border=\"1\" class=\"dataframe\">\n",
       "  <thead>\n",
       "    <tr style=\"text-align: right;\">\n",
       "      <th></th>\n",
       "      <th>children</th>\n",
       "      <th>days_employed</th>\n",
       "      <th>dob_years</th>\n",
       "      <th>education</th>\n",
       "      <th>education_id</th>\n",
       "      <th>family_status</th>\n",
       "      <th>family_status_id</th>\n",
       "      <th>gender</th>\n",
       "      <th>income_type</th>\n",
       "      <th>debt</th>\n",
       "      <th>total_income</th>\n",
       "      <th>purpose</th>\n",
       "    </tr>\n",
       "  </thead>\n",
       "  <tbody>\n",
       "    <tr>\n",
       "      <th>0</th>\n",
       "      <td>1</td>\n",
       "      <td>8437</td>\n",
       "      <td>42</td>\n",
       "      <td>высшее</td>\n",
       "      <td>0</td>\n",
       "      <td>женат / замужем</td>\n",
       "      <td>0</td>\n",
       "      <td>F</td>\n",
       "      <td>сотрудник</td>\n",
       "      <td>0</td>\n",
       "      <td>253875</td>\n",
       "      <td>покупка жилья</td>\n",
       "    </tr>\n",
       "    <tr>\n",
       "      <th>1</th>\n",
       "      <td>1</td>\n",
       "      <td>4024</td>\n",
       "      <td>36</td>\n",
       "      <td>среднее</td>\n",
       "      <td>1</td>\n",
       "      <td>женат / замужем</td>\n",
       "      <td>0</td>\n",
       "      <td>F</td>\n",
       "      <td>сотрудник</td>\n",
       "      <td>0</td>\n",
       "      <td>112080</td>\n",
       "      <td>приобретение автомобиля</td>\n",
       "    </tr>\n",
       "    <tr>\n",
       "      <th>2</th>\n",
       "      <td>0</td>\n",
       "      <td>5623</td>\n",
       "      <td>33</td>\n",
       "      <td>среднее</td>\n",
       "      <td>1</td>\n",
       "      <td>женат / замужем</td>\n",
       "      <td>0</td>\n",
       "      <td>M</td>\n",
       "      <td>сотрудник</td>\n",
       "      <td>0</td>\n",
       "      <td>145885</td>\n",
       "      <td>покупка жилья</td>\n",
       "    </tr>\n",
       "    <tr>\n",
       "      <th>3</th>\n",
       "      <td>3</td>\n",
       "      <td>4124</td>\n",
       "      <td>32</td>\n",
       "      <td>среднее</td>\n",
       "      <td>1</td>\n",
       "      <td>женат / замужем</td>\n",
       "      <td>0</td>\n",
       "      <td>M</td>\n",
       "      <td>сотрудник</td>\n",
       "      <td>0</td>\n",
       "      <td>267628</td>\n",
       "      <td>дополнительное образование</td>\n",
       "    </tr>\n",
       "    <tr>\n",
       "      <th>4</th>\n",
       "      <td>0</td>\n",
       "      <td>340266</td>\n",
       "      <td>53</td>\n",
       "      <td>среднее</td>\n",
       "      <td>1</td>\n",
       "      <td>гражданский брак</td>\n",
       "      <td>1</td>\n",
       "      <td>F</td>\n",
       "      <td>пенсионер</td>\n",
       "      <td>0</td>\n",
       "      <td>158616</td>\n",
       "      <td>сыграть свадьбу</td>\n",
       "    </tr>\n",
       "    <tr>\n",
       "      <th>5</th>\n",
       "      <td>0</td>\n",
       "      <td>926</td>\n",
       "      <td>27</td>\n",
       "      <td>высшее</td>\n",
       "      <td>0</td>\n",
       "      <td>гражданский брак</td>\n",
       "      <td>1</td>\n",
       "      <td>M</td>\n",
       "      <td>компаньон</td>\n",
       "      <td>0</td>\n",
       "      <td>255763</td>\n",
       "      <td>покупка жилья</td>\n",
       "    </tr>\n",
       "    <tr>\n",
       "      <th>6</th>\n",
       "      <td>0</td>\n",
       "      <td>2879</td>\n",
       "      <td>43</td>\n",
       "      <td>высшее</td>\n",
       "      <td>0</td>\n",
       "      <td>женат / замужем</td>\n",
       "      <td>0</td>\n",
       "      <td>F</td>\n",
       "      <td>компаньон</td>\n",
       "      <td>0</td>\n",
       "      <td>240525</td>\n",
       "      <td>операции с жильем</td>\n",
       "    </tr>\n",
       "    <tr>\n",
       "      <th>7</th>\n",
       "      <td>0</td>\n",
       "      <td>152</td>\n",
       "      <td>50</td>\n",
       "      <td>среднее</td>\n",
       "      <td>1</td>\n",
       "      <td>женат / замужем</td>\n",
       "      <td>0</td>\n",
       "      <td>M</td>\n",
       "      <td>сотрудник</td>\n",
       "      <td>0</td>\n",
       "      <td>135823</td>\n",
       "      <td>образование</td>\n",
       "    </tr>\n",
       "    <tr>\n",
       "      <th>8</th>\n",
       "      <td>2</td>\n",
       "      <td>6929</td>\n",
       "      <td>35</td>\n",
       "      <td>высшее</td>\n",
       "      <td>0</td>\n",
       "      <td>гражданский брак</td>\n",
       "      <td>1</td>\n",
       "      <td>F</td>\n",
       "      <td>сотрудник</td>\n",
       "      <td>0</td>\n",
       "      <td>95856</td>\n",
       "      <td>на проведение свадьбы</td>\n",
       "    </tr>\n",
       "    <tr>\n",
       "      <th>9</th>\n",
       "      <td>0</td>\n",
       "      <td>2188</td>\n",
       "      <td>41</td>\n",
       "      <td>среднее</td>\n",
       "      <td>1</td>\n",
       "      <td>женат / замужем</td>\n",
       "      <td>0</td>\n",
       "      <td>M</td>\n",
       "      <td>сотрудник</td>\n",
       "      <td>0</td>\n",
       "      <td>144425</td>\n",
       "      <td>покупка жилья для семьи</td>\n",
       "    </tr>\n",
       "  </tbody>\n",
       "</table>\n",
       "</div>"
      ],
      "text/plain": [
       "   children  days_employed  dob_years education  education_id  \\\n",
       "0         1           8437         42    высшее             0   \n",
       "1         1           4024         36   среднее             1   \n",
       "2         0           5623         33   среднее             1   \n",
       "3         3           4124         32   среднее             1   \n",
       "4         0         340266         53   среднее             1   \n",
       "5         0            926         27    высшее             0   \n",
       "6         0           2879         43    высшее             0   \n",
       "7         0            152         50   среднее             1   \n",
       "8         2           6929         35    высшее             0   \n",
       "9         0           2188         41   среднее             1   \n",
       "\n",
       "      family_status  family_status_id gender income_type  debt  total_income  \\\n",
       "0   женат / замужем                 0      F   сотрудник     0        253875   \n",
       "1   женат / замужем                 0      F   сотрудник     0        112080   \n",
       "2   женат / замужем                 0      M   сотрудник     0        145885   \n",
       "3   женат / замужем                 0      M   сотрудник     0        267628   \n",
       "4  гражданский брак                 1      F   пенсионер     0        158616   \n",
       "5  гражданский брак                 1      M   компаньон     0        255763   \n",
       "6   женат / замужем                 0      F   компаньон     0        240525   \n",
       "7   женат / замужем                 0      M   сотрудник     0        135823   \n",
       "8  гражданский брак                 1      F   сотрудник     0         95856   \n",
       "9   женат / замужем                 0      M   сотрудник     0        144425   \n",
       "\n",
       "                      purpose  \n",
       "0               покупка жилья  \n",
       "1     приобретение автомобиля  \n",
       "2               покупка жилья  \n",
       "3  дополнительное образование  \n",
       "4             сыграть свадьбу  \n",
       "5               покупка жилья  \n",
       "6           операции с жильем  \n",
       "7                 образование  \n",
       "8       на проведение свадьбы  \n",
       "9     покупка жилья для семьи  "
      ]
     },
     "execution_count": 48,
     "metadata": {},
     "output_type": "execute_result"
    }
   ],
   "source": [
    "#приведение чисел к целым\n",
    "data['days_employed']= data['days_employed'].fillna(0)\n",
    "data['total_income'] = data['total_income'].astype('int')\n",
    "data['days_employed'] = data['days_employed'].astype('int')\n",
    "#просмотр получившегося результа\n",
    "data.head(10)\n"
   ]
  },
  {
   "cell_type": "markdown",
   "metadata": {},
   "source": [
    "**Вывод** Данные приведены в состояние обработки, устранена проблема разных регистров, числа приведены к целым для удобства работы"
   ]
  },
  {
   "cell_type": "markdown",
   "metadata": {},
   "source": [
    "### Категоризация данных"
   ]
  },
  {
   "cell_type": "code",
   "execution_count": 49,
   "metadata": {},
   "outputs": [
    {
     "data": {
      "text/plain": [
       "array(['покупка жилья', 'приобретение автомобиля',\n",
       "       'дополнительное образование', 'сыграть свадьбу',\n",
       "       'операции с жильем', 'образование', 'на проведение свадьбы',\n",
       "       'покупка жилья для семьи', 'покупка недвижимости',\n",
       "       'покупка коммерческой недвижимости', 'покупка жилой недвижимости',\n",
       "       'строительство собственной недвижимости', 'недвижимость',\n",
       "       'строительство недвижимости', 'на покупку подержанного автомобиля',\n",
       "       'на покупку своего автомобиля',\n",
       "       'операции с коммерческой недвижимостью',\n",
       "       'строительство жилой недвижимости', 'жилье',\n",
       "       'операции со своей недвижимостью', 'автомобили',\n",
       "       'заняться образованием', 'сделка с подержанным автомобилем',\n",
       "       'получение образования', 'автомобиль', 'свадьба',\n",
       "       'получение дополнительного образования', 'покупка своего жилья',\n",
       "       'операции с недвижимостью', 'получение высшего образования',\n",
       "       'свой автомобиль', 'сделка с автомобилем',\n",
       "       'профильное образование', 'высшее образование',\n",
       "       'покупка жилья для сдачи', 'на покупку автомобиля', 'ремонт жилью',\n",
       "       'заняться высшим образованием'], dtype=object)"
      ]
     },
     "execution_count": 49,
     "metadata": {},
     "output_type": "execute_result"
    }
   ],
   "source": [
    "#поиск аномалий и неявных дубликатов в столбце purpose\n",
    "data['purpose'].unique()"
   ]
  },
  {
   "cell_type": "markdown",
   "metadata": {},
   "source": [
    "В столбце purpose присутствует много формулировок, которые пересекаются по значеию. Необходимо создание нового столбца purpose_category, \n",
    "в который войдут следующие категории:\n",
    "операции с автомобилем,\n",
    "операции с недвижимостью,\n",
    "проведение свадьбы,\n",
    "получение образования."
   ]
  },
  {
   "cell_type": "code",
   "execution_count": 50,
   "metadata": {
    "scrolled": true
   },
   "outputs": [
    {
     "data": {
      "text/html": [
       "<div>\n",
       "<style scoped>\n",
       "    .dataframe tbody tr th:only-of-type {\n",
       "        vertical-align: middle;\n",
       "    }\n",
       "\n",
       "    .dataframe tbody tr th {\n",
       "        vertical-align: top;\n",
       "    }\n",
       "\n",
       "    .dataframe thead th {\n",
       "        text-align: right;\n",
       "    }\n",
       "</style>\n",
       "<table border=\"1\" class=\"dataframe\">\n",
       "  <thead>\n",
       "    <tr style=\"text-align: right;\">\n",
       "      <th></th>\n",
       "      <th>children</th>\n",
       "      <th>days_employed</th>\n",
       "      <th>dob_years</th>\n",
       "      <th>education</th>\n",
       "      <th>education_id</th>\n",
       "      <th>family_status</th>\n",
       "      <th>family_status_id</th>\n",
       "      <th>gender</th>\n",
       "      <th>income_type</th>\n",
       "      <th>debt</th>\n",
       "      <th>total_income</th>\n",
       "      <th>purpose</th>\n",
       "      <th>purpose_category</th>\n",
       "    </tr>\n",
       "  </thead>\n",
       "  <tbody>\n",
       "    <tr>\n",
       "      <th>0</th>\n",
       "      <td>1</td>\n",
       "      <td>8437</td>\n",
       "      <td>42</td>\n",
       "      <td>высшее</td>\n",
       "      <td>0</td>\n",
       "      <td>женат / замужем</td>\n",
       "      <td>0</td>\n",
       "      <td>F</td>\n",
       "      <td>сотрудник</td>\n",
       "      <td>0</td>\n",
       "      <td>253875</td>\n",
       "      <td>покупка жилья</td>\n",
       "      <td>операции с недвижимостью</td>\n",
       "    </tr>\n",
       "    <tr>\n",
       "      <th>1</th>\n",
       "      <td>1</td>\n",
       "      <td>4024</td>\n",
       "      <td>36</td>\n",
       "      <td>среднее</td>\n",
       "      <td>1</td>\n",
       "      <td>женат / замужем</td>\n",
       "      <td>0</td>\n",
       "      <td>F</td>\n",
       "      <td>сотрудник</td>\n",
       "      <td>0</td>\n",
       "      <td>112080</td>\n",
       "      <td>приобретение автомобиля</td>\n",
       "      <td>операции с автомобилем</td>\n",
       "    </tr>\n",
       "    <tr>\n",
       "      <th>2</th>\n",
       "      <td>0</td>\n",
       "      <td>5623</td>\n",
       "      <td>33</td>\n",
       "      <td>среднее</td>\n",
       "      <td>1</td>\n",
       "      <td>женат / замужем</td>\n",
       "      <td>0</td>\n",
       "      <td>M</td>\n",
       "      <td>сотрудник</td>\n",
       "      <td>0</td>\n",
       "      <td>145885</td>\n",
       "      <td>покупка жилья</td>\n",
       "      <td>операции с недвижимостью</td>\n",
       "    </tr>\n",
       "    <tr>\n",
       "      <th>3</th>\n",
       "      <td>3</td>\n",
       "      <td>4124</td>\n",
       "      <td>32</td>\n",
       "      <td>среднее</td>\n",
       "      <td>1</td>\n",
       "      <td>женат / замужем</td>\n",
       "      <td>0</td>\n",
       "      <td>M</td>\n",
       "      <td>сотрудник</td>\n",
       "      <td>0</td>\n",
       "      <td>267628</td>\n",
       "      <td>дополнительное образование</td>\n",
       "      <td>получение образования</td>\n",
       "    </tr>\n",
       "    <tr>\n",
       "      <th>4</th>\n",
       "      <td>0</td>\n",
       "      <td>340266</td>\n",
       "      <td>53</td>\n",
       "      <td>среднее</td>\n",
       "      <td>1</td>\n",
       "      <td>гражданский брак</td>\n",
       "      <td>1</td>\n",
       "      <td>F</td>\n",
       "      <td>пенсионер</td>\n",
       "      <td>0</td>\n",
       "      <td>158616</td>\n",
       "      <td>сыграть свадьбу</td>\n",
       "      <td>проведение свадьбы</td>\n",
       "    </tr>\n",
       "    <tr>\n",
       "      <th>5</th>\n",
       "      <td>0</td>\n",
       "      <td>926</td>\n",
       "      <td>27</td>\n",
       "      <td>высшее</td>\n",
       "      <td>0</td>\n",
       "      <td>гражданский брак</td>\n",
       "      <td>1</td>\n",
       "      <td>M</td>\n",
       "      <td>компаньон</td>\n",
       "      <td>0</td>\n",
       "      <td>255763</td>\n",
       "      <td>покупка жилья</td>\n",
       "      <td>операции с недвижимостью</td>\n",
       "    </tr>\n",
       "    <tr>\n",
       "      <th>6</th>\n",
       "      <td>0</td>\n",
       "      <td>2879</td>\n",
       "      <td>43</td>\n",
       "      <td>высшее</td>\n",
       "      <td>0</td>\n",
       "      <td>женат / замужем</td>\n",
       "      <td>0</td>\n",
       "      <td>F</td>\n",
       "      <td>компаньон</td>\n",
       "      <td>0</td>\n",
       "      <td>240525</td>\n",
       "      <td>операции с жильем</td>\n",
       "      <td>операции с недвижимостью</td>\n",
       "    </tr>\n",
       "    <tr>\n",
       "      <th>7</th>\n",
       "      <td>0</td>\n",
       "      <td>152</td>\n",
       "      <td>50</td>\n",
       "      <td>среднее</td>\n",
       "      <td>1</td>\n",
       "      <td>женат / замужем</td>\n",
       "      <td>0</td>\n",
       "      <td>M</td>\n",
       "      <td>сотрудник</td>\n",
       "      <td>0</td>\n",
       "      <td>135823</td>\n",
       "      <td>образование</td>\n",
       "      <td>получение образования</td>\n",
       "    </tr>\n",
       "    <tr>\n",
       "      <th>8</th>\n",
       "      <td>2</td>\n",
       "      <td>6929</td>\n",
       "      <td>35</td>\n",
       "      <td>высшее</td>\n",
       "      <td>0</td>\n",
       "      <td>гражданский брак</td>\n",
       "      <td>1</td>\n",
       "      <td>F</td>\n",
       "      <td>сотрудник</td>\n",
       "      <td>0</td>\n",
       "      <td>95856</td>\n",
       "      <td>на проведение свадьбы</td>\n",
       "      <td>проведение свадьбы</td>\n",
       "    </tr>\n",
       "    <tr>\n",
       "      <th>9</th>\n",
       "      <td>0</td>\n",
       "      <td>2188</td>\n",
       "      <td>41</td>\n",
       "      <td>среднее</td>\n",
       "      <td>1</td>\n",
       "      <td>женат / замужем</td>\n",
       "      <td>0</td>\n",
       "      <td>M</td>\n",
       "      <td>сотрудник</td>\n",
       "      <td>0</td>\n",
       "      <td>144425</td>\n",
       "      <td>покупка жилья для семьи</td>\n",
       "      <td>операции с недвижимостью</td>\n",
       "    </tr>\n",
       "  </tbody>\n",
       "</table>\n",
       "</div>"
      ],
      "text/plain": [
       "   children  days_employed  dob_years education  education_id  \\\n",
       "0         1           8437         42    высшее             0   \n",
       "1         1           4024         36   среднее             1   \n",
       "2         0           5623         33   среднее             1   \n",
       "3         3           4124         32   среднее             1   \n",
       "4         0         340266         53   среднее             1   \n",
       "5         0            926         27    высшее             0   \n",
       "6         0           2879         43    высшее             0   \n",
       "7         0            152         50   среднее             1   \n",
       "8         2           6929         35    высшее             0   \n",
       "9         0           2188         41   среднее             1   \n",
       "\n",
       "      family_status  family_status_id gender income_type  debt  total_income  \\\n",
       "0   женат / замужем                 0      F   сотрудник     0        253875   \n",
       "1   женат / замужем                 0      F   сотрудник     0        112080   \n",
       "2   женат / замужем                 0      M   сотрудник     0        145885   \n",
       "3   женат / замужем                 0      M   сотрудник     0        267628   \n",
       "4  гражданский брак                 1      F   пенсионер     0        158616   \n",
       "5  гражданский брак                 1      M   компаньон     0        255763   \n",
       "6   женат / замужем                 0      F   компаньон     0        240525   \n",
       "7   женат / замужем                 0      M   сотрудник     0        135823   \n",
       "8  гражданский брак                 1      F   сотрудник     0         95856   \n",
       "9   женат / замужем                 0      M   сотрудник     0        144425   \n",
       "\n",
       "                      purpose          purpose_category  \n",
       "0               покупка жилья  операции с недвижимостью  \n",
       "1     приобретение автомобиля    операции с автомобилем  \n",
       "2               покупка жилья  операции с недвижимостью  \n",
       "3  дополнительное образование     получение образования  \n",
       "4             сыграть свадьбу        проведение свадьбы  \n",
       "5               покупка жилья  операции с недвижимостью  \n",
       "6           операции с жильем  операции с недвижимостью  \n",
       "7                 образование     получение образования  \n",
       "8       на проведение свадьбы        проведение свадьбы  \n",
       "9     покупка жилья для семьи  операции с недвижимостью  "
      ]
     },
     "metadata": {},
     "output_type": "display_data"
    }
   ],
   "source": [
    "def purpose_category(purpose):\n",
    "    if 'свадьб' in purpose:\n",
    "        return 'проведение свадьбы'\n",
    "    if 'авто' in purpose:\n",
    "        return 'операции с автомобилем'\n",
    "    if 'недвиж' in purpose or 'жил' in purpose:\n",
    "        return 'операции с недвижимостью'\n",
    "    if 'образован' in purpose:\n",
    "        return 'получение образования'\n",
    "data['purpose_category'] = data['purpose'].apply(purpose_category)\n",
    "display(data.head(10))"
   ]
  },
  {
   "cell_type": "code",
   "execution_count": 51,
   "metadata": {
    "scrolled": true
   },
   "outputs": [
    {
     "data": {
      "text/html": [
       "<div>\n",
       "<style scoped>\n",
       "    .dataframe tbody tr th:only-of-type {\n",
       "        vertical-align: middle;\n",
       "    }\n",
       "\n",
       "    .dataframe tbody tr th {\n",
       "        vertical-align: top;\n",
       "    }\n",
       "\n",
       "    .dataframe thead th {\n",
       "        text-align: right;\n",
       "    }\n",
       "</style>\n",
       "<table border=\"1\" class=\"dataframe\">\n",
       "  <thead>\n",
       "    <tr style=\"text-align: right;\">\n",
       "      <th></th>\n",
       "      <th>children</th>\n",
       "      <th>days_employed</th>\n",
       "      <th>dob_years</th>\n",
       "      <th>education_id</th>\n",
       "      <th>family_status</th>\n",
       "      <th>family_status_id</th>\n",
       "      <th>gender</th>\n",
       "      <th>income_type</th>\n",
       "      <th>debt</th>\n",
       "      <th>total_income</th>\n",
       "      <th>purpose</th>\n",
       "      <th>purpose_category</th>\n",
       "    </tr>\n",
       "  </thead>\n",
       "  <tbody>\n",
       "    <tr>\n",
       "      <th>0</th>\n",
       "      <td>1</td>\n",
       "      <td>8437</td>\n",
       "      <td>42</td>\n",
       "      <td>0</td>\n",
       "      <td>женат / замужем</td>\n",
       "      <td>0</td>\n",
       "      <td>F</td>\n",
       "      <td>сотрудник</td>\n",
       "      <td>0</td>\n",
       "      <td>253875</td>\n",
       "      <td>покупка жилья</td>\n",
       "      <td>операции с недвижимостью</td>\n",
       "    </tr>\n",
       "    <tr>\n",
       "      <th>1</th>\n",
       "      <td>1</td>\n",
       "      <td>4024</td>\n",
       "      <td>36</td>\n",
       "      <td>1</td>\n",
       "      <td>женат / замужем</td>\n",
       "      <td>0</td>\n",
       "      <td>F</td>\n",
       "      <td>сотрудник</td>\n",
       "      <td>0</td>\n",
       "      <td>112080</td>\n",
       "      <td>приобретение автомобиля</td>\n",
       "      <td>операции с автомобилем</td>\n",
       "    </tr>\n",
       "    <tr>\n",
       "      <th>2</th>\n",
       "      <td>0</td>\n",
       "      <td>5623</td>\n",
       "      <td>33</td>\n",
       "      <td>1</td>\n",
       "      <td>женат / замужем</td>\n",
       "      <td>0</td>\n",
       "      <td>M</td>\n",
       "      <td>сотрудник</td>\n",
       "      <td>0</td>\n",
       "      <td>145885</td>\n",
       "      <td>покупка жилья</td>\n",
       "      <td>операции с недвижимостью</td>\n",
       "    </tr>\n",
       "    <tr>\n",
       "      <th>3</th>\n",
       "      <td>3</td>\n",
       "      <td>4124</td>\n",
       "      <td>32</td>\n",
       "      <td>1</td>\n",
       "      <td>женат / замужем</td>\n",
       "      <td>0</td>\n",
       "      <td>M</td>\n",
       "      <td>сотрудник</td>\n",
       "      <td>0</td>\n",
       "      <td>267628</td>\n",
       "      <td>дополнительное образование</td>\n",
       "      <td>получение образования</td>\n",
       "    </tr>\n",
       "    <tr>\n",
       "      <th>4</th>\n",
       "      <td>0</td>\n",
       "      <td>340266</td>\n",
       "      <td>53</td>\n",
       "      <td>1</td>\n",
       "      <td>гражданский брак</td>\n",
       "      <td>1</td>\n",
       "      <td>F</td>\n",
       "      <td>пенсионер</td>\n",
       "      <td>0</td>\n",
       "      <td>158616</td>\n",
       "      <td>сыграть свадьбу</td>\n",
       "      <td>проведение свадьбы</td>\n",
       "    </tr>\n",
       "    <tr>\n",
       "      <th>5</th>\n",
       "      <td>0</td>\n",
       "      <td>926</td>\n",
       "      <td>27</td>\n",
       "      <td>0</td>\n",
       "      <td>гражданский брак</td>\n",
       "      <td>1</td>\n",
       "      <td>M</td>\n",
       "      <td>компаньон</td>\n",
       "      <td>0</td>\n",
       "      <td>255763</td>\n",
       "      <td>покупка жилья</td>\n",
       "      <td>операции с недвижимостью</td>\n",
       "    </tr>\n",
       "    <tr>\n",
       "      <th>6</th>\n",
       "      <td>0</td>\n",
       "      <td>2879</td>\n",
       "      <td>43</td>\n",
       "      <td>0</td>\n",
       "      <td>женат / замужем</td>\n",
       "      <td>0</td>\n",
       "      <td>F</td>\n",
       "      <td>компаньон</td>\n",
       "      <td>0</td>\n",
       "      <td>240525</td>\n",
       "      <td>операции с жильем</td>\n",
       "      <td>операции с недвижимостью</td>\n",
       "    </tr>\n",
       "    <tr>\n",
       "      <th>7</th>\n",
       "      <td>0</td>\n",
       "      <td>152</td>\n",
       "      <td>50</td>\n",
       "      <td>1</td>\n",
       "      <td>женат / замужем</td>\n",
       "      <td>0</td>\n",
       "      <td>M</td>\n",
       "      <td>сотрудник</td>\n",
       "      <td>0</td>\n",
       "      <td>135823</td>\n",
       "      <td>образование</td>\n",
       "      <td>получение образования</td>\n",
       "    </tr>\n",
       "    <tr>\n",
       "      <th>8</th>\n",
       "      <td>2</td>\n",
       "      <td>6929</td>\n",
       "      <td>35</td>\n",
       "      <td>0</td>\n",
       "      <td>гражданский брак</td>\n",
       "      <td>1</td>\n",
       "      <td>F</td>\n",
       "      <td>сотрудник</td>\n",
       "      <td>0</td>\n",
       "      <td>95856</td>\n",
       "      <td>на проведение свадьбы</td>\n",
       "      <td>проведение свадьбы</td>\n",
       "    </tr>\n",
       "    <tr>\n",
       "      <th>9</th>\n",
       "      <td>0</td>\n",
       "      <td>2188</td>\n",
       "      <td>41</td>\n",
       "      <td>1</td>\n",
       "      <td>женат / замужем</td>\n",
       "      <td>0</td>\n",
       "      <td>M</td>\n",
       "      <td>сотрудник</td>\n",
       "      <td>0</td>\n",
       "      <td>144425</td>\n",
       "      <td>покупка жилья для семьи</td>\n",
       "      <td>операции с недвижимостью</td>\n",
       "    </tr>\n",
       "  </tbody>\n",
       "</table>\n",
       "</div>"
      ],
      "text/plain": [
       "   children  days_employed  dob_years  education_id     family_status  \\\n",
       "0         1           8437         42             0   женат / замужем   \n",
       "1         1           4024         36             1   женат / замужем   \n",
       "2         0           5623         33             1   женат / замужем   \n",
       "3         3           4124         32             1   женат / замужем   \n",
       "4         0         340266         53             1  гражданский брак   \n",
       "5         0            926         27             0  гражданский брак   \n",
       "6         0           2879         43             0   женат / замужем   \n",
       "7         0            152         50             1   женат / замужем   \n",
       "8         2           6929         35             0  гражданский брак   \n",
       "9         0           2188         41             1   женат / замужем   \n",
       "\n",
       "   family_status_id gender income_type  debt  total_income  \\\n",
       "0                 0      F   сотрудник     0        253875   \n",
       "1                 0      F   сотрудник     0        112080   \n",
       "2                 0      M   сотрудник     0        145885   \n",
       "3                 0      M   сотрудник     0        267628   \n",
       "4                 1      F   пенсионер     0        158616   \n",
       "5                 1      M   компаньон     0        255763   \n",
       "6                 0      F   компаньон     0        240525   \n",
       "7                 0      M   сотрудник     0        135823   \n",
       "8                 1      F   сотрудник     0         95856   \n",
       "9                 0      M   сотрудник     0        144425   \n",
       "\n",
       "                      purpose          purpose_category  \n",
       "0               покупка жилья  операции с недвижимостью  \n",
       "1     приобретение автомобиля    операции с автомобилем  \n",
       "2               покупка жилья  операции с недвижимостью  \n",
       "3  дополнительное образование     получение образования  \n",
       "4             сыграть свадьбу        проведение свадьбы  \n",
       "5               покупка жилья  операции с недвижимостью  \n",
       "6           операции с жильем  операции с недвижимостью  \n",
       "7                 образование     получение образования  \n",
       "8       на проведение свадьбы        проведение свадьбы  \n",
       "9     покупка жилья для семьи  операции с недвижимостью  "
      ]
     },
     "execution_count": 51,
     "metadata": {},
     "output_type": "execute_result"
    }
   ],
   "source": [
    "#создание отдельного датафрейм education_dataframe\n",
    "education_dataframe = data[['education', 'education_id']]\n",
    "#удаление столбца education из датасета data\n",
    "del data['education']\n",
    "data.head(10)"
   ]
  },
  {
   "cell_type": "markdown",
   "metadata": {},
   "source": [
    "Помимо столбца family_status, в датасете также присутствует столбец family_status_id, где каждому уникальному значению из family_status соответствует уникальное значение family_status_id. Использование обоих столбцов в основном датасете затрудняет просмотр данных. \n",
    "Необходимо вынести эти два столбца в отдельный датафрейм, оставив в основном только family_status_id."
   ]
  },
  {
   "cell_type": "code",
   "execution_count": 52,
   "metadata": {
    "scrolled": true
   },
   "outputs": [
    {
     "data": {
      "text/html": [
       "<div>\n",
       "<style scoped>\n",
       "    .dataframe tbody tr th:only-of-type {\n",
       "        vertical-align: middle;\n",
       "    }\n",
       "\n",
       "    .dataframe tbody tr th {\n",
       "        vertical-align: top;\n",
       "    }\n",
       "\n",
       "    .dataframe thead th {\n",
       "        text-align: right;\n",
       "    }\n",
       "</style>\n",
       "<table border=\"1\" class=\"dataframe\">\n",
       "  <thead>\n",
       "    <tr style=\"text-align: right;\">\n",
       "      <th></th>\n",
       "      <th>children</th>\n",
       "      <th>days_employed</th>\n",
       "      <th>dob_years</th>\n",
       "      <th>education_id</th>\n",
       "      <th>family_status_id</th>\n",
       "      <th>gender</th>\n",
       "      <th>income_type</th>\n",
       "      <th>debt</th>\n",
       "      <th>total_income</th>\n",
       "      <th>purpose</th>\n",
       "      <th>purpose_category</th>\n",
       "    </tr>\n",
       "  </thead>\n",
       "  <tbody>\n",
       "    <tr>\n",
       "      <th>0</th>\n",
       "      <td>1</td>\n",
       "      <td>8437</td>\n",
       "      <td>42</td>\n",
       "      <td>0</td>\n",
       "      <td>0</td>\n",
       "      <td>F</td>\n",
       "      <td>сотрудник</td>\n",
       "      <td>0</td>\n",
       "      <td>253875</td>\n",
       "      <td>покупка жилья</td>\n",
       "      <td>операции с недвижимостью</td>\n",
       "    </tr>\n",
       "    <tr>\n",
       "      <th>1</th>\n",
       "      <td>1</td>\n",
       "      <td>4024</td>\n",
       "      <td>36</td>\n",
       "      <td>1</td>\n",
       "      <td>0</td>\n",
       "      <td>F</td>\n",
       "      <td>сотрудник</td>\n",
       "      <td>0</td>\n",
       "      <td>112080</td>\n",
       "      <td>приобретение автомобиля</td>\n",
       "      <td>операции с автомобилем</td>\n",
       "    </tr>\n",
       "    <tr>\n",
       "      <th>2</th>\n",
       "      <td>0</td>\n",
       "      <td>5623</td>\n",
       "      <td>33</td>\n",
       "      <td>1</td>\n",
       "      <td>0</td>\n",
       "      <td>M</td>\n",
       "      <td>сотрудник</td>\n",
       "      <td>0</td>\n",
       "      <td>145885</td>\n",
       "      <td>покупка жилья</td>\n",
       "      <td>операции с недвижимостью</td>\n",
       "    </tr>\n",
       "    <tr>\n",
       "      <th>3</th>\n",
       "      <td>3</td>\n",
       "      <td>4124</td>\n",
       "      <td>32</td>\n",
       "      <td>1</td>\n",
       "      <td>0</td>\n",
       "      <td>M</td>\n",
       "      <td>сотрудник</td>\n",
       "      <td>0</td>\n",
       "      <td>267628</td>\n",
       "      <td>дополнительное образование</td>\n",
       "      <td>получение образования</td>\n",
       "    </tr>\n",
       "    <tr>\n",
       "      <th>4</th>\n",
       "      <td>0</td>\n",
       "      <td>340266</td>\n",
       "      <td>53</td>\n",
       "      <td>1</td>\n",
       "      <td>1</td>\n",
       "      <td>F</td>\n",
       "      <td>пенсионер</td>\n",
       "      <td>0</td>\n",
       "      <td>158616</td>\n",
       "      <td>сыграть свадьбу</td>\n",
       "      <td>проведение свадьбы</td>\n",
       "    </tr>\n",
       "    <tr>\n",
       "      <th>5</th>\n",
       "      <td>0</td>\n",
       "      <td>926</td>\n",
       "      <td>27</td>\n",
       "      <td>0</td>\n",
       "      <td>1</td>\n",
       "      <td>M</td>\n",
       "      <td>компаньон</td>\n",
       "      <td>0</td>\n",
       "      <td>255763</td>\n",
       "      <td>покупка жилья</td>\n",
       "      <td>операции с недвижимостью</td>\n",
       "    </tr>\n",
       "    <tr>\n",
       "      <th>6</th>\n",
       "      <td>0</td>\n",
       "      <td>2879</td>\n",
       "      <td>43</td>\n",
       "      <td>0</td>\n",
       "      <td>0</td>\n",
       "      <td>F</td>\n",
       "      <td>компаньон</td>\n",
       "      <td>0</td>\n",
       "      <td>240525</td>\n",
       "      <td>операции с жильем</td>\n",
       "      <td>операции с недвижимостью</td>\n",
       "    </tr>\n",
       "    <tr>\n",
       "      <th>7</th>\n",
       "      <td>0</td>\n",
       "      <td>152</td>\n",
       "      <td>50</td>\n",
       "      <td>1</td>\n",
       "      <td>0</td>\n",
       "      <td>M</td>\n",
       "      <td>сотрудник</td>\n",
       "      <td>0</td>\n",
       "      <td>135823</td>\n",
       "      <td>образование</td>\n",
       "      <td>получение образования</td>\n",
       "    </tr>\n",
       "    <tr>\n",
       "      <th>8</th>\n",
       "      <td>2</td>\n",
       "      <td>6929</td>\n",
       "      <td>35</td>\n",
       "      <td>0</td>\n",
       "      <td>1</td>\n",
       "      <td>F</td>\n",
       "      <td>сотрудник</td>\n",
       "      <td>0</td>\n",
       "      <td>95856</td>\n",
       "      <td>на проведение свадьбы</td>\n",
       "      <td>проведение свадьбы</td>\n",
       "    </tr>\n",
       "    <tr>\n",
       "      <th>9</th>\n",
       "      <td>0</td>\n",
       "      <td>2188</td>\n",
       "      <td>41</td>\n",
       "      <td>1</td>\n",
       "      <td>0</td>\n",
       "      <td>M</td>\n",
       "      <td>сотрудник</td>\n",
       "      <td>0</td>\n",
       "      <td>144425</td>\n",
       "      <td>покупка жилья для семьи</td>\n",
       "      <td>операции с недвижимостью</td>\n",
       "    </tr>\n",
       "  </tbody>\n",
       "</table>\n",
       "</div>"
      ],
      "text/plain": [
       "   children  days_employed  dob_years  education_id  family_status_id gender  \\\n",
       "0         1           8437         42             0                 0      F   \n",
       "1         1           4024         36             1                 0      F   \n",
       "2         0           5623         33             1                 0      M   \n",
       "3         3           4124         32             1                 0      M   \n",
       "4         0         340266         53             1                 1      F   \n",
       "5         0            926         27             0                 1      M   \n",
       "6         0           2879         43             0                 0      F   \n",
       "7         0            152         50             1                 0      M   \n",
       "8         2           6929         35             0                 1      F   \n",
       "9         0           2188         41             1                 0      M   \n",
       "\n",
       "  income_type  debt  total_income                     purpose  \\\n",
       "0   сотрудник     0        253875               покупка жилья   \n",
       "1   сотрудник     0        112080     приобретение автомобиля   \n",
       "2   сотрудник     0        145885               покупка жилья   \n",
       "3   сотрудник     0        267628  дополнительное образование   \n",
       "4   пенсионер     0        158616             сыграть свадьбу   \n",
       "5   компаньон     0        255763               покупка жилья   \n",
       "6   компаньон     0        240525           операции с жильем   \n",
       "7   сотрудник     0        135823                 образование   \n",
       "8   сотрудник     0         95856       на проведение свадьбы   \n",
       "9   сотрудник     0        144425     покупка жилья для семьи   \n",
       "\n",
       "           purpose_category  \n",
       "0  операции с недвижимостью  \n",
       "1    операции с автомобилем  \n",
       "2  операции с недвижимостью  \n",
       "3     получение образования  \n",
       "4        проведение свадьбы  \n",
       "5  операции с недвижимостью  \n",
       "6  операции с недвижимостью  \n",
       "7     получение образования  \n",
       "8        проведение свадьбы  \n",
       "9  операции с недвижимостью  "
      ]
     },
     "execution_count": 52,
     "metadata": {},
     "output_type": "execute_result"
    }
   ],
   "source": [
    "family_status_dataframe = data[['family_status', 'family_status_id']]\n",
    "family_status_dataframe.head(10)\n",
    "del data['family_status']\n",
    "data.head(10)\n"
   ]
  },
  {
   "cell_type": "markdown",
   "metadata": {},
   "source": [
    "Помимо столбца education, в датасете также присутствует столбец education_id, где каждому уникальному значению из education соответствует уникальное значение education_id. Использование обоих столбцов в основном датасете затрудняет просмотр данных. \n",
    "Необходимо вынести эти два столбца в отдельный датафрейм, оставив в основном только education_id."
   ]
  },
  {
   "cell_type": "code",
   "execution_count": 53,
   "metadata": {},
   "outputs": [
    {
     "data": {
      "text/plain": [
       "21448"
      ]
     },
     "execution_count": 53,
     "metadata": {},
     "output_type": "execute_result"
    }
   ],
   "source": [
    "#проверка на полные дубликаты в созданном датафрейме family_status_dataframe\n",
    "family_status_dataframe.duplicated().sum()"
   ]
  },
  {
   "cell_type": "code",
   "execution_count": 54,
   "metadata": {},
   "outputs": [
    {
     "data": {
      "text/plain": [
       "21448"
      ]
     },
     "execution_count": 54,
     "metadata": {},
     "output_type": "execute_result"
    }
   ],
   "source": [
    "#проверка на полные дубликаты в созданном датафрейме education_dataframe\n",
    "education_dataframe.duplicated().sum()"
   ]
  },
  {
   "cell_type": "code",
   "execution_count": 55,
   "metadata": {},
   "outputs": [
    {
     "data": {
      "text/plain": [
       "0"
      ]
     },
     "execution_count": 55,
     "metadata": {},
     "output_type": "execute_result"
    }
   ],
   "source": [
    "#удаление полных дубликатов для формирования словаря и проверка на их отсутствие по итогу удаления\n",
    "family_status_dataframe = family_status_dataframe.drop_duplicates().reset_index(drop=True)\n",
    "family_status_dataframe.duplicated().sum()\n",
    "\n",
    "education_dataframe = education_dataframe.drop_duplicates().reset_index(drop=True)\n",
    "education_dataframe.duplicated().sum()"
   ]
  },
  {
   "cell_type": "code",
   "execution_count": 56,
   "metadata": {
    "scrolled": true
   },
   "outputs": [
    {
     "data": {
      "text/html": [
       "<div>\n",
       "<style scoped>\n",
       "    .dataframe tbody tr th:only-of-type {\n",
       "        vertical-align: middle;\n",
       "    }\n",
       "\n",
       "    .dataframe tbody tr th {\n",
       "        vertical-align: top;\n",
       "    }\n",
       "\n",
       "    .dataframe thead th {\n",
       "        text-align: right;\n",
       "    }\n",
       "</style>\n",
       "<table border=\"1\" class=\"dataframe\">\n",
       "  <thead>\n",
       "    <tr style=\"text-align: right;\">\n",
       "      <th></th>\n",
       "      <th>children</th>\n",
       "      <th>days_employed</th>\n",
       "      <th>dob_years</th>\n",
       "      <th>education_id</th>\n",
       "      <th>family_status_id</th>\n",
       "      <th>gender</th>\n",
       "      <th>income_type</th>\n",
       "      <th>debt</th>\n",
       "      <th>total_income</th>\n",
       "      <th>purpose</th>\n",
       "      <th>purpose_category</th>\n",
       "      <th>total_income_category</th>\n",
       "    </tr>\n",
       "  </thead>\n",
       "  <tbody>\n",
       "    <tr>\n",
       "      <th>0</th>\n",
       "      <td>1</td>\n",
       "      <td>8437</td>\n",
       "      <td>42</td>\n",
       "      <td>0</td>\n",
       "      <td>0</td>\n",
       "      <td>F</td>\n",
       "      <td>сотрудник</td>\n",
       "      <td>0</td>\n",
       "      <td>253875</td>\n",
       "      <td>покупка жилья</td>\n",
       "      <td>операции с недвижимостью</td>\n",
       "      <td>B</td>\n",
       "    </tr>\n",
       "    <tr>\n",
       "      <th>1</th>\n",
       "      <td>1</td>\n",
       "      <td>4024</td>\n",
       "      <td>36</td>\n",
       "      <td>1</td>\n",
       "      <td>0</td>\n",
       "      <td>F</td>\n",
       "      <td>сотрудник</td>\n",
       "      <td>0</td>\n",
       "      <td>112080</td>\n",
       "      <td>приобретение автомобиля</td>\n",
       "      <td>операции с автомобилем</td>\n",
       "      <td>C</td>\n",
       "    </tr>\n",
       "    <tr>\n",
       "      <th>2</th>\n",
       "      <td>0</td>\n",
       "      <td>5623</td>\n",
       "      <td>33</td>\n",
       "      <td>1</td>\n",
       "      <td>0</td>\n",
       "      <td>M</td>\n",
       "      <td>сотрудник</td>\n",
       "      <td>0</td>\n",
       "      <td>145885</td>\n",
       "      <td>покупка жилья</td>\n",
       "      <td>операции с недвижимостью</td>\n",
       "      <td>C</td>\n",
       "    </tr>\n",
       "    <tr>\n",
       "      <th>3</th>\n",
       "      <td>3</td>\n",
       "      <td>4124</td>\n",
       "      <td>32</td>\n",
       "      <td>1</td>\n",
       "      <td>0</td>\n",
       "      <td>M</td>\n",
       "      <td>сотрудник</td>\n",
       "      <td>0</td>\n",
       "      <td>267628</td>\n",
       "      <td>дополнительное образование</td>\n",
       "      <td>получение образования</td>\n",
       "      <td>B</td>\n",
       "    </tr>\n",
       "    <tr>\n",
       "      <th>4</th>\n",
       "      <td>0</td>\n",
       "      <td>340266</td>\n",
       "      <td>53</td>\n",
       "      <td>1</td>\n",
       "      <td>1</td>\n",
       "      <td>F</td>\n",
       "      <td>пенсионер</td>\n",
       "      <td>0</td>\n",
       "      <td>158616</td>\n",
       "      <td>сыграть свадьбу</td>\n",
       "      <td>проведение свадьбы</td>\n",
       "      <td>C</td>\n",
       "    </tr>\n",
       "    <tr>\n",
       "      <th>5</th>\n",
       "      <td>0</td>\n",
       "      <td>926</td>\n",
       "      <td>27</td>\n",
       "      <td>0</td>\n",
       "      <td>1</td>\n",
       "      <td>M</td>\n",
       "      <td>компаньон</td>\n",
       "      <td>0</td>\n",
       "      <td>255763</td>\n",
       "      <td>покупка жилья</td>\n",
       "      <td>операции с недвижимостью</td>\n",
       "      <td>B</td>\n",
       "    </tr>\n",
       "    <tr>\n",
       "      <th>6</th>\n",
       "      <td>0</td>\n",
       "      <td>2879</td>\n",
       "      <td>43</td>\n",
       "      <td>0</td>\n",
       "      <td>0</td>\n",
       "      <td>F</td>\n",
       "      <td>компаньон</td>\n",
       "      <td>0</td>\n",
       "      <td>240525</td>\n",
       "      <td>операции с жильем</td>\n",
       "      <td>операции с недвижимостью</td>\n",
       "      <td>B</td>\n",
       "    </tr>\n",
       "    <tr>\n",
       "      <th>7</th>\n",
       "      <td>0</td>\n",
       "      <td>152</td>\n",
       "      <td>50</td>\n",
       "      <td>1</td>\n",
       "      <td>0</td>\n",
       "      <td>M</td>\n",
       "      <td>сотрудник</td>\n",
       "      <td>0</td>\n",
       "      <td>135823</td>\n",
       "      <td>образование</td>\n",
       "      <td>получение образования</td>\n",
       "      <td>C</td>\n",
       "    </tr>\n",
       "    <tr>\n",
       "      <th>8</th>\n",
       "      <td>2</td>\n",
       "      <td>6929</td>\n",
       "      <td>35</td>\n",
       "      <td>0</td>\n",
       "      <td>1</td>\n",
       "      <td>F</td>\n",
       "      <td>сотрудник</td>\n",
       "      <td>0</td>\n",
       "      <td>95856</td>\n",
       "      <td>на проведение свадьбы</td>\n",
       "      <td>проведение свадьбы</td>\n",
       "      <td>C</td>\n",
       "    </tr>\n",
       "    <tr>\n",
       "      <th>9</th>\n",
       "      <td>0</td>\n",
       "      <td>2188</td>\n",
       "      <td>41</td>\n",
       "      <td>1</td>\n",
       "      <td>0</td>\n",
       "      <td>M</td>\n",
       "      <td>сотрудник</td>\n",
       "      <td>0</td>\n",
       "      <td>144425</td>\n",
       "      <td>покупка жилья для семьи</td>\n",
       "      <td>операции с недвижимостью</td>\n",
       "      <td>C</td>\n",
       "    </tr>\n",
       "  </tbody>\n",
       "</table>\n",
       "</div>"
      ],
      "text/plain": [
       "   children  days_employed  dob_years  education_id  family_status_id gender  \\\n",
       "0         1           8437         42             0                 0      F   \n",
       "1         1           4024         36             1                 0      F   \n",
       "2         0           5623         33             1                 0      M   \n",
       "3         3           4124         32             1                 0      M   \n",
       "4         0         340266         53             1                 1      F   \n",
       "5         0            926         27             0                 1      M   \n",
       "6         0           2879         43             0                 0      F   \n",
       "7         0            152         50             1                 0      M   \n",
       "8         2           6929         35             0                 1      F   \n",
       "9         0           2188         41             1                 0      M   \n",
       "\n",
       "  income_type  debt  total_income                     purpose  \\\n",
       "0   сотрудник     0        253875               покупка жилья   \n",
       "1   сотрудник     0        112080     приобретение автомобиля   \n",
       "2   сотрудник     0        145885               покупка жилья   \n",
       "3   сотрудник     0        267628  дополнительное образование   \n",
       "4   пенсионер     0        158616             сыграть свадьбу   \n",
       "5   компаньон     0        255763               покупка жилья   \n",
       "6   компаньон     0        240525           операции с жильем   \n",
       "7   сотрудник     0        135823                 образование   \n",
       "8   сотрудник     0         95856       на проведение свадьбы   \n",
       "9   сотрудник     0        144425     покупка жилья для семьи   \n",
       "\n",
       "           purpose_category total_income_category  \n",
       "0  операции с недвижимостью                     B  \n",
       "1    операции с автомобилем                     C  \n",
       "2  операции с недвижимостью                     C  \n",
       "3     получение образования                     B  \n",
       "4        проведение свадьбы                     C  \n",
       "5  операции с недвижимостью                     B  \n",
       "6  операции с недвижимостью                     B  \n",
       "7     получение образования                     C  \n",
       "8        проведение свадьбы                     C  \n",
       "9  операции с недвижимостью                     C  "
      ]
     },
     "metadata": {},
     "output_type": "display_data"
    }
   ],
   "source": [
    "# создание столбца total_income_category\n",
    "def total_income_category(total_income):\n",
    "    if total_income <= 30000:\n",
    "        return 'E'\n",
    "    if total_income >=30001 and total_income <= 50000:\n",
    "        return 'D'\n",
    "    if total_income >=50001 and total_income <= 200000:\n",
    "        return 'C'\n",
    "    if total_income >=200001 and total_income <= 1000000:\n",
    "        return 'B'\n",
    "    return 'A'\n",
    "data['total_income_category'] = data['total_income'].apply(total_income_category)\n",
    "total_income_dataframe=[['total_income', 'total_income_category']]\n",
    "display(data.head(10))\n"
   ]
  },
  {
   "cell_type": "markdown",
   "metadata": {},
   "source": [
    "Лучше объединить purpose и purpose_category в отдельный датафрейм и удалить purpose и датафрейма data."
   ]
  },
  {
   "cell_type": "code",
   "execution_count": 57,
   "metadata": {
    "scrolled": false
   },
   "outputs": [
    {
     "data": {
      "text/html": [
       "<div>\n",
       "<style scoped>\n",
       "    .dataframe tbody tr th:only-of-type {\n",
       "        vertical-align: middle;\n",
       "    }\n",
       "\n",
       "    .dataframe tbody tr th {\n",
       "        vertical-align: top;\n",
       "    }\n",
       "\n",
       "    .dataframe thead th {\n",
       "        text-align: right;\n",
       "    }\n",
       "</style>\n",
       "<table border=\"1\" class=\"dataframe\">\n",
       "  <thead>\n",
       "    <tr style=\"text-align: right;\">\n",
       "      <th></th>\n",
       "      <th>children</th>\n",
       "      <th>days_employed</th>\n",
       "      <th>dob_years</th>\n",
       "      <th>education_id</th>\n",
       "      <th>family_status_id</th>\n",
       "      <th>gender</th>\n",
       "      <th>income_type</th>\n",
       "      <th>debt</th>\n",
       "      <th>total_income</th>\n",
       "      <th>purpose_category</th>\n",
       "      <th>total_income_category</th>\n",
       "    </tr>\n",
       "  </thead>\n",
       "  <tbody>\n",
       "    <tr>\n",
       "      <th>0</th>\n",
       "      <td>1</td>\n",
       "      <td>8437</td>\n",
       "      <td>42</td>\n",
       "      <td>0</td>\n",
       "      <td>0</td>\n",
       "      <td>F</td>\n",
       "      <td>сотрудник</td>\n",
       "      <td>0</td>\n",
       "      <td>253875</td>\n",
       "      <td>операции с недвижимостью</td>\n",
       "      <td>B</td>\n",
       "    </tr>\n",
       "    <tr>\n",
       "      <th>1</th>\n",
       "      <td>1</td>\n",
       "      <td>4024</td>\n",
       "      <td>36</td>\n",
       "      <td>1</td>\n",
       "      <td>0</td>\n",
       "      <td>F</td>\n",
       "      <td>сотрудник</td>\n",
       "      <td>0</td>\n",
       "      <td>112080</td>\n",
       "      <td>операции с автомобилем</td>\n",
       "      <td>C</td>\n",
       "    </tr>\n",
       "    <tr>\n",
       "      <th>2</th>\n",
       "      <td>0</td>\n",
       "      <td>5623</td>\n",
       "      <td>33</td>\n",
       "      <td>1</td>\n",
       "      <td>0</td>\n",
       "      <td>M</td>\n",
       "      <td>сотрудник</td>\n",
       "      <td>0</td>\n",
       "      <td>145885</td>\n",
       "      <td>операции с недвижимостью</td>\n",
       "      <td>C</td>\n",
       "    </tr>\n",
       "    <tr>\n",
       "      <th>3</th>\n",
       "      <td>3</td>\n",
       "      <td>4124</td>\n",
       "      <td>32</td>\n",
       "      <td>1</td>\n",
       "      <td>0</td>\n",
       "      <td>M</td>\n",
       "      <td>сотрудник</td>\n",
       "      <td>0</td>\n",
       "      <td>267628</td>\n",
       "      <td>получение образования</td>\n",
       "      <td>B</td>\n",
       "    </tr>\n",
       "    <tr>\n",
       "      <th>4</th>\n",
       "      <td>0</td>\n",
       "      <td>340266</td>\n",
       "      <td>53</td>\n",
       "      <td>1</td>\n",
       "      <td>1</td>\n",
       "      <td>F</td>\n",
       "      <td>пенсионер</td>\n",
       "      <td>0</td>\n",
       "      <td>158616</td>\n",
       "      <td>проведение свадьбы</td>\n",
       "      <td>C</td>\n",
       "    </tr>\n",
       "    <tr>\n",
       "      <th>5</th>\n",
       "      <td>0</td>\n",
       "      <td>926</td>\n",
       "      <td>27</td>\n",
       "      <td>0</td>\n",
       "      <td>1</td>\n",
       "      <td>M</td>\n",
       "      <td>компаньон</td>\n",
       "      <td>0</td>\n",
       "      <td>255763</td>\n",
       "      <td>операции с недвижимостью</td>\n",
       "      <td>B</td>\n",
       "    </tr>\n",
       "    <tr>\n",
       "      <th>6</th>\n",
       "      <td>0</td>\n",
       "      <td>2879</td>\n",
       "      <td>43</td>\n",
       "      <td>0</td>\n",
       "      <td>0</td>\n",
       "      <td>F</td>\n",
       "      <td>компаньон</td>\n",
       "      <td>0</td>\n",
       "      <td>240525</td>\n",
       "      <td>операции с недвижимостью</td>\n",
       "      <td>B</td>\n",
       "    </tr>\n",
       "    <tr>\n",
       "      <th>7</th>\n",
       "      <td>0</td>\n",
       "      <td>152</td>\n",
       "      <td>50</td>\n",
       "      <td>1</td>\n",
       "      <td>0</td>\n",
       "      <td>M</td>\n",
       "      <td>сотрудник</td>\n",
       "      <td>0</td>\n",
       "      <td>135823</td>\n",
       "      <td>получение образования</td>\n",
       "      <td>C</td>\n",
       "    </tr>\n",
       "    <tr>\n",
       "      <th>8</th>\n",
       "      <td>2</td>\n",
       "      <td>6929</td>\n",
       "      <td>35</td>\n",
       "      <td>0</td>\n",
       "      <td>1</td>\n",
       "      <td>F</td>\n",
       "      <td>сотрудник</td>\n",
       "      <td>0</td>\n",
       "      <td>95856</td>\n",
       "      <td>проведение свадьбы</td>\n",
       "      <td>C</td>\n",
       "    </tr>\n",
       "    <tr>\n",
       "      <th>9</th>\n",
       "      <td>0</td>\n",
       "      <td>2188</td>\n",
       "      <td>41</td>\n",
       "      <td>1</td>\n",
       "      <td>0</td>\n",
       "      <td>M</td>\n",
       "      <td>сотрудник</td>\n",
       "      <td>0</td>\n",
       "      <td>144425</td>\n",
       "      <td>операции с недвижимостью</td>\n",
       "      <td>C</td>\n",
       "    </tr>\n",
       "  </tbody>\n",
       "</table>\n",
       "</div>"
      ],
      "text/plain": [
       "   children  days_employed  dob_years  education_id  family_status_id gender  \\\n",
       "0         1           8437         42             0                 0      F   \n",
       "1         1           4024         36             1                 0      F   \n",
       "2         0           5623         33             1                 0      M   \n",
       "3         3           4124         32             1                 0      M   \n",
       "4         0         340266         53             1                 1      F   \n",
       "5         0            926         27             0                 1      M   \n",
       "6         0           2879         43             0                 0      F   \n",
       "7         0            152         50             1                 0      M   \n",
       "8         2           6929         35             0                 1      F   \n",
       "9         0           2188         41             1                 0      M   \n",
       "\n",
       "  income_type  debt  total_income          purpose_category  \\\n",
       "0   сотрудник     0        253875  операции с недвижимостью   \n",
       "1   сотрудник     0        112080    операции с автомобилем   \n",
       "2   сотрудник     0        145885  операции с недвижимостью   \n",
       "3   сотрудник     0        267628     получение образования   \n",
       "4   пенсионер     0        158616        проведение свадьбы   \n",
       "5   компаньон     0        255763  операции с недвижимостью   \n",
       "6   компаньон     0        240525  операции с недвижимостью   \n",
       "7   сотрудник     0        135823     получение образования   \n",
       "8   сотрудник     0         95856        проведение свадьбы   \n",
       "9   сотрудник     0        144425  операции с недвижимостью   \n",
       "\n",
       "  total_income_category  \n",
       "0                     B  \n",
       "1                     C  \n",
       "2                     C  \n",
       "3                     B  \n",
       "4                     C  \n",
       "5                     B  \n",
       "6                     B  \n",
       "7                     C  \n",
       "8                     C  \n",
       "9                     C  "
      ]
     },
     "execution_count": 57,
     "metadata": {},
     "output_type": "execute_result"
    }
   ],
   "source": [
    "#создание датафрейма purpose_categories_dataframe\n",
    "purpose_categories_dataframe=[['purpose', 'purpose_category']]\n",
    "# удаление столбца purpose из основного датасета\n",
    "del data['purpose']\n",
    "data.head(10)"
   ]
  },
  {
   "cell_type": "markdown",
   "metadata": {},
   "source": [
    "**Вывод** Необходимые дополнительные датафреймы созданы, данные перенесены для удобства чтения и обработки датасета."
   ]
  },
  {
   "cell_type": "markdown",
   "metadata": {},
   "source": [
    "**Вывод раздела**\n",
    "Данные приведены к наиболее возможной однородности, отрицательные значения изучены и превращены в положительные, данные соизмеримы с реальными, количество знаков после запятой приведено к общей норме, регистр приведен к нижнему, одинаковому для всех столбцов, пропущенные данные удалены либо заменены медианными, неявные дубликаты изучены и приведены к общим формам, лишние столбцы удалены\n",
    "Данные готовы к анализу.\n"
   ]
  },
  {
   "cell_type": "markdown",
   "metadata": {},
   "source": [
    "## Шаг 3. Ответьте на вопросы"
   ]
  },
  {
   "cell_type": "markdown",
   "metadata": {},
   "source": [
    "- Есть ли зависимость между наличием детей и возвратом кредита в срок?"
   ]
  },
  {
   "cell_type": "code",
   "execution_count": 62,
   "metadata": {},
   "outputs": [
    {
     "data": {
      "text/html": [
       "<div>\n",
       "<style scoped>\n",
       "    .dataframe tbody tr th:only-of-type {\n",
       "        vertical-align: middle;\n",
       "    }\n",
       "\n",
       "    .dataframe tbody tr th {\n",
       "        vertical-align: top;\n",
       "    }\n",
       "\n",
       "    .dataframe thead th {\n",
       "        text-align: right;\n",
       "    }\n",
       "</style>\n",
       "<table border=\"1\" class=\"dataframe\">\n",
       "  <thead>\n",
       "    <tr style=\"text-align: right;\">\n",
       "      <th></th>\n",
       "      <th>Всего должников</th>\n",
       "      <th>Всего кредитополучателей</th>\n",
       "      <th>Доля должников в %</th>\n",
       "    </tr>\n",
       "    <tr>\n",
       "      <th>children</th>\n",
       "      <th></th>\n",
       "      <th></th>\n",
       "      <th></th>\n",
       "    </tr>\n",
       "  </thead>\n",
       "  <tbody>\n",
       "    <tr>\n",
       "      <th>0</th>\n",
       "      <td>1063</td>\n",
       "      <td>14090</td>\n",
       "      <td>7.544</td>\n",
       "    </tr>\n",
       "    <tr>\n",
       "      <th>1</th>\n",
       "      <td>445</td>\n",
       "      <td>4855</td>\n",
       "      <td>9.166</td>\n",
       "    </tr>\n",
       "    <tr>\n",
       "      <th>2</th>\n",
       "      <td>202</td>\n",
       "      <td>2128</td>\n",
       "      <td>9.492</td>\n",
       "    </tr>\n",
       "    <tr>\n",
       "      <th>3</th>\n",
       "      <td>27</td>\n",
       "      <td>330</td>\n",
       "      <td>8.182</td>\n",
       "    </tr>\n",
       "    <tr>\n",
       "      <th>4</th>\n",
       "      <td>4</td>\n",
       "      <td>41</td>\n",
       "      <td>9.756</td>\n",
       "    </tr>\n",
       "    <tr>\n",
       "      <th>5</th>\n",
       "      <td>0</td>\n",
       "      <td>9</td>\n",
       "      <td>0.000</td>\n",
       "    </tr>\n",
       "  </tbody>\n",
       "</table>\n",
       "</div>"
      ],
      "text/plain": [
       "          Всего должников  Всего кредитополучателей  Доля должников в %\n",
       "children                                                               \n",
       "0                    1063                     14090               7.544\n",
       "1                     445                      4855               9.166\n",
       "2                     202                      2128               9.492\n",
       "3                      27                       330               8.182\n",
       "4                       4                        41               9.756\n",
       "5                       0                         9               0.000"
      ]
     },
     "execution_count": 62,
     "metadata": {},
     "output_type": "execute_result"
    }
   ],
   "source": [
    "\n",
    "children_grouped = data.groupby('children').count()\n",
    "children_debt_pivot = data.pivot_table(index = ['children'], values = 'debt', aggfunc='sum')\n",
    "children_debt_pivot['total'] = children_grouped['days_employed']\n",
    "children_debt_pivot['ratio'] = children_debt_pivot['debt']/children_debt_pivot['total']*100\n",
    "children_debt_pivot['ratio'] = children_debt_pivot['ratio'].round(3)\n",
    "children_debt_pivot.rename(columns={'debt':'Всего должников', 'total':'Всего кредитополучателей', 'ratio':'Доля должников в %'})"
   ]
  },
  {
   "cell_type": "markdown",
   "metadata": {},
   "source": [
    "По данным сводной таблицы видно (столбец ratio), что 8-10 процентов людей из каждой группы имеющих детей не закрывает кредит в срок.\n",
    "для наглядности стоит также составить столбчатую диаграмму, на которой лучше будет визуально виден процент.\n"
   ]
  },
  {
   "cell_type": "code",
   "execution_count": 58,
   "metadata": {},
   "outputs": [
    {
     "data": {
      "text/plain": [
       "<AxesSubplot:xlabel='children', ylabel='debt'>"
      ]
     },
     "execution_count": 58,
     "metadata": {},
     "output_type": "execute_result"
    },
    {
     "data": {
      "image/png": "[encoded data removed]",
      "text/plain": [
       "<Figure size 432x288 with 1 Axes>"
      ]
     },
     "metadata": {
      "needs_background": "light"
     },
     "output_type": "display_data"
    }
   ],
   "source": [
    "seaborn.barplot(data['children'], data['debt'])"
   ]
  },
  {
   "cell_type": "markdown",
   "metadata": {},
   "source": [
    "**Вывод**\n",
    "На диаграмме видно, что процент людей, не возвращающих кредиты практически не отличается у людей с разным количеством детей. Необходимо дополнительно ответить, что выборка по респондентам с 5-тью детьми нерепрезентативна, так как не включает ни одного неотдавшего кредит респондента, в то время как количество таких респондентов значительно меньше чем у других категорий. В то же время, можно сказать, что заемщики, у которых нет детей, а также те, у кого 3 ребенка более склонны возвращать кредит, чем остальные категории."
   ]
  },
  {
   "cell_type": "markdown",
   "metadata": {},
   "source": [
    "- Есть ли зависимость между семейным положением и возвратом кредита в срок?"
   ]
  },
  {
   "cell_type": "code",
   "execution_count": 59,
   "metadata": {},
   "outputs": [],
   "source": [
    "#для удобства выведем датафрейм, показывающий семейный статус и его id.\n",
    "family_status_dataframe.value_counts()\n",
    "family_status_grouped = data.groupby('family_status_id').count()"
   ]
  },
  {
   "cell_type": "code",
   "execution_count": 60,
   "metadata": {},
   "outputs": [
    {
     "data": {
      "text/html": [
       "<div>\n",
       "<style scoped>\n",
       "    .dataframe tbody tr th:only-of-type {\n",
       "        vertical-align: middle;\n",
       "    }\n",
       "\n",
       "    .dataframe tbody tr th {\n",
       "        vertical-align: top;\n",
       "    }\n",
       "\n",
       "    .dataframe thead th {\n",
       "        text-align: right;\n",
       "    }\n",
       "</style>\n",
       "<table border=\"1\" class=\"dataframe\">\n",
       "  <thead>\n",
       "    <tr style=\"text-align: right;\">\n",
       "      <th></th>\n",
       "      <th>family_status_id</th>\n",
       "      <th>Всего должников</th>\n",
       "      <th>Всего кредитополучателей</th>\n",
       "      <th>Доля должников в %</th>\n",
       "      <th>family_status</th>\n",
       "    </tr>\n",
       "  </thead>\n",
       "  <tbody>\n",
       "    <tr>\n",
       "      <th>0</th>\n",
       "      <td>0</td>\n",
       "      <td>931</td>\n",
       "      <td>12339</td>\n",
       "      <td>7.545</td>\n",
       "      <td>женат / замужем</td>\n",
       "    </tr>\n",
       "    <tr>\n",
       "      <th>1</th>\n",
       "      <td>1</td>\n",
       "      <td>388</td>\n",
       "      <td>4150</td>\n",
       "      <td>9.349</td>\n",
       "      <td>гражданский брак</td>\n",
       "    </tr>\n",
       "    <tr>\n",
       "      <th>2</th>\n",
       "      <td>2</td>\n",
       "      <td>63</td>\n",
       "      <td>959</td>\n",
       "      <td>6.569</td>\n",
       "      <td>вдовец / вдова</td>\n",
       "    </tr>\n",
       "    <tr>\n",
       "      <th>3</th>\n",
       "      <td>3</td>\n",
       "      <td>85</td>\n",
       "      <td>1195</td>\n",
       "      <td>7.113</td>\n",
       "      <td>в разводе</td>\n",
       "    </tr>\n",
       "    <tr>\n",
       "      <th>4</th>\n",
       "      <td>4</td>\n",
       "      <td>274</td>\n",
       "      <td>2810</td>\n",
       "      <td>9.751</td>\n",
       "      <td>Не женат / не замужем</td>\n",
       "    </tr>\n",
       "  </tbody>\n",
       "</table>\n",
       "</div>"
      ],
      "text/plain": [
       "   family_status_id  Всего должников  Всего кредитополучателей  \\\n",
       "0                 0              931                     12339   \n",
       "1                 1              388                      4150   \n",
       "2                 2               63                       959   \n",
       "3                 3               85                      1195   \n",
       "4                 4              274                      2810   \n",
       "\n",
       "   Доля должников в %          family_status  \n",
       "0               7.545        женат / замужем  \n",
       "1               9.349       гражданский брак  \n",
       "2               6.569         вдовец / вдова  \n",
       "3               7.113              в разводе  \n",
       "4               9.751  Не женат / не замужем  "
      ]
     },
     "execution_count": 60,
     "metadata": {},
     "output_type": "execute_result"
    }
   ],
   "source": [
    "family_status_debt_pivot = data.pivot_table(index ='family_status_id', values = 'debt', aggfunc='sum')\n",
    "family_status_debt_pivot['total'] = family_status_grouped['days_employed']\n",
    "family_status_debt_pivot['ratio'] = family_status_debt_pivot['debt']/family_status_debt_pivot['total']*100\n",
    "family_status_debt_pivot['ratio'] = family_status_debt_pivot['ratio'].round(3)\n",
    "family_status_debt_pivot = family_status_debt_pivot.merge(family_status_dataframe, on='family_status_id')\n",
    "family_status_debt_pivot.rename(columns={'debt':'Всего должников', 'total':'Всего кредитополучателей', 'ratio':'Доля должников в %'})\n"
   ]
  },
  {
   "cell_type": "code",
   "execution_count": 61,
   "metadata": {},
   "outputs": [
    {
     "data": {
      "text/plain": [
       "<AxesSubplot:xlabel='family_status_id', ylabel='debt'>"
      ]
     },
     "execution_count": 61,
     "metadata": {},
     "output_type": "execute_result"
    },
    {
     "data": {
      "image/png": "[encoded data removed]",
      "text/plain": [
       "<Figure size 432x288 with 1 Axes>"
      ]
     },
     "metadata": {
      "needs_background": "light"
     },
     "output_type": "display_data"
    }
   ],
   "source": [
    "seaborn.barplot(data['family_status_id'], data['debt'])"
   ]
  },
  {
   "cell_type": "markdown",
   "metadata": {},
   "source": [
    "**Вывод** Согласно данным сводной таблицы и диаграммы, люди в разводе и вдовцы с наибольшей вероятностью вернут кредит. Меньше всего процент возврата кредита у неженатых/незамужних людей."
   ]
  },
  {
   "cell_type": "markdown",
   "metadata": {},
   "source": [
    "**Вывод**"
   ]
  },
  {
   "cell_type": "markdown",
   "metadata": {},
   "source": [
    "- Есть ли зависимость между уровнем дохода и возвратом кредита в срок?"
   ]
  },
  {
   "cell_type": "code",
   "execution_count": 62,
   "metadata": {},
   "outputs": [],
   "source": [
    "#необходимо посмотреть зависимость между уровнем дохода и возвратом кредита в срок для каждого уровня дохода. \n",
    "#прежде всего, для удобства, сделаем словарь с категориями уровней дохода и их описанием.\n",
    "total_income_dict = {\n",
    "    'total_income_category': ['E','D','C','B','A'],\n",
    "    'grouped_total_income': ['менее 30000', 'от 30000 до 50000', 'от 50000 до 200000', 'от 200000 до 1000000','более 1000000']\n",
    "    }\n",
    "\n",
    "\n",
    "total_income_dataframe = pd.DataFrame(total_income_dict)"
   ]
  },
  {
   "cell_type": "code",
   "execution_count": 63,
   "metadata": {},
   "outputs": [
    {
     "data": {
      "text/html": [
       "<div>\n",
       "<style scoped>\n",
       "    .dataframe tbody tr th:only-of-type {\n",
       "        vertical-align: middle;\n",
       "    }\n",
       "\n",
       "    .dataframe tbody tr th {\n",
       "        vertical-align: top;\n",
       "    }\n",
       "\n",
       "    .dataframe thead th {\n",
       "        text-align: right;\n",
       "    }\n",
       "</style>\n",
       "<table border=\"1\" class=\"dataframe\">\n",
       "  <thead>\n",
       "    <tr style=\"text-align: right;\">\n",
       "      <th></th>\n",
       "      <th>total_income_category</th>\n",
       "      <th>Всего должников</th>\n",
       "      <th>Всего кредитополучателей</th>\n",
       "      <th>Доля должников в %</th>\n",
       "      <th>grouped_total_income</th>\n",
       "    </tr>\n",
       "  </thead>\n",
       "  <tbody>\n",
       "    <tr>\n",
       "      <th>0</th>\n",
       "      <td>A</td>\n",
       "      <td>2</td>\n",
       "      <td>25</td>\n",
       "      <td>8.000</td>\n",
       "      <td>более 1000000</td>\n",
       "    </tr>\n",
       "    <tr>\n",
       "      <th>1</th>\n",
       "      <td>B</td>\n",
       "      <td>356</td>\n",
       "      <td>5041</td>\n",
       "      <td>7.062</td>\n",
       "      <td>от 200000 до 1000000</td>\n",
       "    </tr>\n",
       "    <tr>\n",
       "      <th>2</th>\n",
       "      <td>C</td>\n",
       "      <td>1360</td>\n",
       "      <td>16015</td>\n",
       "      <td>8.492</td>\n",
       "      <td>от 50000 до 200000</td>\n",
       "    </tr>\n",
       "    <tr>\n",
       "      <th>3</th>\n",
       "      <td>D</td>\n",
       "      <td>21</td>\n",
       "      <td>350</td>\n",
       "      <td>6.000</td>\n",
       "      <td>от 30000 до 50000</td>\n",
       "    </tr>\n",
       "    <tr>\n",
       "      <th>4</th>\n",
       "      <td>E</td>\n",
       "      <td>2</td>\n",
       "      <td>22</td>\n",
       "      <td>9.091</td>\n",
       "      <td>менее 30000</td>\n",
       "    </tr>\n",
       "  </tbody>\n",
       "</table>\n",
       "</div>"
      ],
      "text/plain": [
       "  total_income_category  Всего должников  Всего кредитополучателей  \\\n",
       "0                     A                2                        25   \n",
       "1                     B              356                      5041   \n",
       "2                     C             1360                     16015   \n",
       "3                     D               21                       350   \n",
       "4                     E                2                        22   \n",
       "\n",
       "   Доля должников в %  grouped_total_income  \n",
       "0               8.000         более 1000000  \n",
       "1               7.062  от 200000 до 1000000  \n",
       "2               8.492    от 50000 до 200000  \n",
       "3               6.000     от 30000 до 50000  \n",
       "4               9.091           менее 30000  "
      ]
     },
     "execution_count": 63,
     "metadata": {},
     "output_type": "execute_result"
    }
   ],
   "source": [
    "total_income_grouped = data.groupby('total_income_category').count()\n",
    "total_income_debt_pivot = data.pivot_table(index = ['total_income_category'], values = 'debt', aggfunc='sum')\n",
    "total_income_debt_pivot['total'] = total_income_grouped['days_employed']\n",
    "total_income_debt_pivot['ratio'] = total_income_debt_pivot['debt']/total_income_debt_pivot['total']*100\n",
    "total_income_debt_pivot['ratio'] = total_income_debt_pivot['ratio'].round(3)\n",
    "total_income_debt_pivot = total_income_debt_pivot.merge(total_income_dataframe, on='total_income_category')\n",
    "total_income_debt_pivot.rename(columns={'debt':'Всего должников', 'total':'Всего кредитополучателей', 'ratio':'Доля должников в %'})"
   ]
  },
  {
   "cell_type": "markdown",
   "metadata": {},
   "source": [
    "На основании таблицы можно сделать вывод, что выборку по категориям (A (Сверхвысокий уровень дохода) и E (Низкий уровень дохода)) нельзя назвать репрезентативной, в обеих категориях присутствует менее 1 процента общей выборки."
   ]
  },
  {
   "cell_type": "markdown",
   "metadata": {},
   "source": [
    "**Вывод** Выборка по группам с низким и сверхвысоким уровнем дохода нерепрезентативна, так что не может быть оценена качественно. В то же время, можно сделать вывод, что группы со средним доходом (В) и очень высоким доходом (И) возвращают кредит охотнее всего."
   ]
  },
  {
   "cell_type": "markdown",
   "metadata": {},
   "source": [
    "- Как разные цели кредита влияют на его возврат в срок?"
   ]
  },
  {
   "cell_type": "code",
   "execution_count": 64,
   "metadata": {},
   "outputs": [
    {
     "data": {
      "text/html": [
       "<div>\n",
       "<style scoped>\n",
       "    .dataframe tbody tr th:only-of-type {\n",
       "        vertical-align: middle;\n",
       "    }\n",
       "\n",
       "    .dataframe tbody tr th {\n",
       "        vertical-align: top;\n",
       "    }\n",
       "\n",
       "    .dataframe thead th {\n",
       "        text-align: right;\n",
       "    }\n",
       "</style>\n",
       "<table border=\"1\" class=\"dataframe\">\n",
       "  <thead>\n",
       "    <tr style=\"text-align: right;\">\n",
       "      <th></th>\n",
       "      <th>Всего должников</th>\n",
       "      <th>Всего кредитополучателей</th>\n",
       "      <th>Доля должников в %</th>\n",
       "    </tr>\n",
       "    <tr>\n",
       "      <th>purpose_category</th>\n",
       "      <th></th>\n",
       "      <th></th>\n",
       "      <th></th>\n",
       "    </tr>\n",
       "  </thead>\n",
       "  <tbody>\n",
       "    <tr>\n",
       "      <th>операции с автомобилем</th>\n",
       "      <td>403</td>\n",
       "      <td>4306</td>\n",
       "      <td>9.359</td>\n",
       "    </tr>\n",
       "    <tr>\n",
       "      <th>операции с недвижимостью</th>\n",
       "      <td>782</td>\n",
       "      <td>10810</td>\n",
       "      <td>7.234</td>\n",
       "    </tr>\n",
       "    <tr>\n",
       "      <th>получение образования</th>\n",
       "      <td>370</td>\n",
       "      <td>4013</td>\n",
       "      <td>9.220</td>\n",
       "    </tr>\n",
       "    <tr>\n",
       "      <th>проведение свадьбы</th>\n",
       "      <td>186</td>\n",
       "      <td>2324</td>\n",
       "      <td>8.003</td>\n",
       "    </tr>\n",
       "  </tbody>\n",
       "</table>\n",
       "</div>"
      ],
      "text/plain": [
       "                          Всего должников  Всего кредитополучателей  \\\n",
       "purpose_category                                                      \n",
       "операции с автомобилем                403                      4306   \n",
       "операции с недвижимостью              782                     10810   \n",
       "получение образования                 370                      4013   \n",
       "проведение свадьбы                    186                      2324   \n",
       "\n",
       "                          Доля должников в %  \n",
       "purpose_category                              \n",
       "операции с автомобилем                 9.359  \n",
       "операции с недвижимостью               7.234  \n",
       "получение образования                  9.220  \n",
       "проведение свадьбы                     8.003  "
      ]
     },
     "execution_count": 64,
     "metadata": {},
     "output_type": "execute_result"
    }
   ],
   "source": [
    "purpose_category_debt_pivot = data.pivot_table(index=['purpose_category'], columns=['debt'], values='education_id', aggfunc='count')\n",
    "purpose_category_debt_pivot['ratio'] = purpose_category_debt_pivot[1] / purpose_category_debt_pivot[0] * 100\n",
    "purpose_category_debt_pivot \n",
    "\n",
    "\n",
    "purpose_category_grouped = data.groupby('purpose_category').count()\n",
    "purpose_category_debt_pivot = data.pivot_table(index = ['purpose_category'], values = 'debt', aggfunc='sum')\n",
    "purpose_category_debt_pivot['total'] = purpose_category_grouped['days_employed']\n",
    "purpose_category_debt_pivot['ratio'] = purpose_category_debt_pivot['debt']/purpose_category_debt_pivot['total']*100\n",
    "purpose_category_debt_pivot['ratio'] = purpose_category_debt_pivot['ratio'].round(3)\n",
    "purpose_category_debt_pivot.rename(columns={'debt':'Всего должников', 'total':'Всего кредитополучателей', 'ratio':'Доля должников в %'})"
   ]
  },
  {
   "cell_type": "markdown",
   "metadata": {},
   "source": [
    "Все категории выглядят репрезентативно, первый вывод - при цели кредита - операции с автомобилем или получение образования - люди реже возвращают кредит. Для удобства может быть создана столбчатая диаграмма.\n"
   ]
  },
  {
   "cell_type": "code",
   "execution_count": 65,
   "metadata": {
    "scrolled": true
   },
   "outputs": [
    {
     "data": {
      "text/plain": [
       "<AxesSubplot:xlabel='purpose_category', ylabel='debt'>"
      ]
     },
     "execution_count": 65,
     "metadata": {},
     "output_type": "execute_result"
    },
    {
     "data": {
      "image/png": "[encoded data removed]",
      "text/plain": [
       "<Figure size 432x288 with 1 Axes>"
      ]
     },
     "metadata": {
      "needs_background": "light"
     },
     "output_type": "display_data"
    }
   ],
   "source": [
    "seaborn.barplot(data['purpose_category'], data['debt'])"
   ]
  },
  {
   "cell_type": "markdown",
   "metadata": {},
   "source": [
    "**Вывод** Столбчатая диаграмма и сводная таблица показывают, что есть две выбивающиеся категории, которые возвращают свои кредиты реже. Эти категории берут кредиты с целью: \"операции с автомобилем\" и \"получение образования\".\n"
   ]
  },
  {
   "cell_type": "markdown",
   "metadata": {},
   "source": [
    "## Шаг 4. Общий вывод"
   ]
  },
  {
   "cell_type": "markdown",
   "metadata": {},
   "source": [
    "На основании полученных данных и проведенного анализа мной было проведено исследование, основные выводы которого можно сформировать следующим образом: 1. Процент людей, не возвращающих кредиты практически не отличается у людей с разным количеством детей. В то же время, можно сказать, что заемщики, у которых нет детей, а также те, у кого 3 ребенка более склонны возвращать кредит, чем остальные категории. 2. Люди в разводе и вдовцы с наибольшей вероятностью вернут кредит. Меньше всего процент возврата кредита у неженатых/незамужних людей. 3. Группы со средним доходом (В) и очень высоким доходом (И) возвращают кредит охотнее всего. 4. Люди, которые берут кредит на свадьбу или на операции с недвижимостью возвращают кредит охотнее всего.\n"
   ]
  }
 ],
 "metadata": {
  "ExecuteTimeLog": [
   {
    "duration": 1206,
    "start_time": "2022-04-22T19:15:29.068Z"
   },
   {
    "duration": 113,
    "start_time": "2022-04-22T19:15:30.276Z"
   },
   {
    "duration": 0,
    "start_time": "2022-04-22T19:15:30.391Z"
   },
   {
    "duration": 0,
    "start_time": "2022-04-22T19:15:30.393Z"
   },
   {
    "duration": 0,
    "start_time": "2022-04-22T19:15:30.394Z"
   },
   {
    "duration": 0,
    "start_time": "2022-04-22T19:15:30.394Z"
   },
   {
    "duration": 0,
    "start_time": "2022-04-22T19:15:30.395Z"
   },
   {
    "duration": 0,
    "start_time": "2022-04-22T19:15:30.396Z"
   },
   {
    "duration": 0,
    "start_time": "2022-04-22T19:15:30.397Z"
   },
   {
    "duration": 0,
    "start_time": "2022-04-22T19:15:30.398Z"
   },
   {
    "duration": 0,
    "start_time": "2022-04-22T19:15:30.399Z"
   },
   {
    "duration": 0,
    "start_time": "2022-04-22T19:15:30.400Z"
   },
   {
    "duration": 0,
    "start_time": "2022-04-22T19:15:30.401Z"
   },
   {
    "duration": 0,
    "start_time": "2022-04-22T19:15:30.402Z"
   },
   {
    "duration": 0,
    "start_time": "2022-04-22T19:15:30.424Z"
   },
   {
    "duration": 0,
    "start_time": "2022-04-22T19:15:30.426Z"
   },
   {
    "duration": 0,
    "start_time": "2022-04-22T19:15:30.427Z"
   },
   {
    "duration": 0,
    "start_time": "2022-04-22T19:15:30.428Z"
   },
   {
    "duration": 0,
    "start_time": "2022-04-22T19:15:30.430Z"
   },
   {
    "duration": 0,
    "start_time": "2022-04-22T19:15:30.432Z"
   },
   {
    "duration": 0,
    "start_time": "2022-04-22T19:15:30.434Z"
   },
   {
    "duration": 0,
    "start_time": "2022-04-22T19:15:30.436Z"
   },
   {
    "duration": 0,
    "start_time": "2022-04-22T19:15:30.437Z"
   },
   {
    "duration": 0,
    "start_time": "2022-04-22T19:15:30.438Z"
   },
   {
    "duration": 0,
    "start_time": "2022-04-22T19:15:30.439Z"
   },
   {
    "duration": 0,
    "start_time": "2022-04-22T19:15:30.440Z"
   },
   {
    "duration": 0,
    "start_time": "2022-04-22T19:15:30.441Z"
   },
   {
    "duration": 4,
    "start_time": "2022-04-22T19:19:05.431Z"
   },
   {
    "duration": 15,
    "start_time": "2022-04-22T19:19:05.438Z"
   },
   {
    "duration": 79,
    "start_time": "2022-04-22T19:19:10.185Z"
   },
   {
    "duration": 10,
    "start_time": "2022-04-22T19:19:10.267Z"
   },
   {
    "duration": 0,
    "start_time": "2022-04-22T19:19:10.280Z"
   },
   {
    "duration": 0,
    "start_time": "2022-04-22T19:19:10.281Z"
   },
   {
    "duration": 0,
    "start_time": "2022-04-22T19:19:10.283Z"
   },
   {
    "duration": 0,
    "start_time": "2022-04-22T19:19:10.284Z"
   },
   {
    "duration": 0,
    "start_time": "2022-04-22T19:19:10.285Z"
   },
   {
    "duration": 0,
    "start_time": "2022-04-22T19:19:10.323Z"
   },
   {
    "duration": 0,
    "start_time": "2022-04-22T19:19:10.324Z"
   },
   {
    "duration": 0,
    "start_time": "2022-04-22T19:19:10.325Z"
   },
   {
    "duration": 0,
    "start_time": "2022-04-22T19:19:10.327Z"
   },
   {
    "duration": 0,
    "start_time": "2022-04-22T19:19:10.328Z"
   },
   {
    "duration": 0,
    "start_time": "2022-04-22T19:19:10.330Z"
   },
   {
    "duration": 0,
    "start_time": "2022-04-22T19:19:10.331Z"
   },
   {
    "duration": 0,
    "start_time": "2022-04-22T19:19:10.332Z"
   },
   {
    "duration": 0,
    "start_time": "2022-04-22T19:19:10.333Z"
   },
   {
    "duration": 0,
    "start_time": "2022-04-22T19:19:10.334Z"
   },
   {
    "duration": 0,
    "start_time": "2022-04-22T19:19:10.335Z"
   },
   {
    "duration": 0,
    "start_time": "2022-04-22T19:19:10.336Z"
   },
   {
    "duration": 0,
    "start_time": "2022-04-22T19:19:10.337Z"
   },
   {
    "duration": 0,
    "start_time": "2022-04-22T19:19:10.338Z"
   },
   {
    "duration": 0,
    "start_time": "2022-04-22T19:19:10.339Z"
   },
   {
    "duration": 0,
    "start_time": "2022-04-22T19:19:10.342Z"
   },
   {
    "duration": 0,
    "start_time": "2022-04-22T19:19:10.343Z"
   },
   {
    "duration": 0,
    "start_time": "2022-04-22T19:19:10.345Z"
   },
   {
    "duration": 0,
    "start_time": "2022-04-22T19:19:10.346Z"
   },
   {
    "duration": 0,
    "start_time": "2022-04-22T19:19:10.348Z"
   },
   {
    "duration": 0,
    "start_time": "2022-04-22T19:19:10.349Z"
   },
   {
    "duration": 0,
    "start_time": "2022-04-22T19:19:10.350Z"
   },
   {
    "duration": 0,
    "start_time": "2022-04-22T19:19:10.351Z"
   },
   {
    "duration": 0,
    "start_time": "2022-04-22T19:19:10.354Z"
   },
   {
    "duration": 0,
    "start_time": "2022-04-22T19:19:10.355Z"
   },
   {
    "duration": 0,
    "start_time": "2022-04-22T19:19:10.356Z"
   },
   {
    "duration": 0,
    "start_time": "2022-04-22T19:19:10.357Z"
   },
   {
    "duration": 0,
    "start_time": "2022-04-22T19:19:10.358Z"
   },
   {
    "duration": 0,
    "start_time": "2022-04-22T19:19:10.359Z"
   },
   {
    "duration": 0,
    "start_time": "2022-04-22T19:19:10.360Z"
   },
   {
    "duration": 0,
    "start_time": "2022-04-22T19:19:10.361Z"
   },
   {
    "duration": 0,
    "start_time": "2022-04-22T19:19:10.362Z"
   },
   {
    "duration": 0,
    "start_time": "2022-04-22T19:19:10.363Z"
   },
   {
    "duration": 0,
    "start_time": "2022-04-22T19:19:10.364Z"
   },
   {
    "duration": 0,
    "start_time": "2022-04-22T19:19:10.365Z"
   },
   {
    "duration": 0,
    "start_time": "2022-04-22T19:19:10.425Z"
   },
   {
    "duration": 0,
    "start_time": "2022-04-22T19:19:10.427Z"
   },
   {
    "duration": 0,
    "start_time": "2022-04-22T19:19:10.428Z"
   },
   {
    "duration": 0,
    "start_time": "2022-04-22T19:19:10.430Z"
   },
   {
    "duration": 0,
    "start_time": "2022-04-22T19:19:10.431Z"
   },
   {
    "duration": 10,
    "start_time": "2022-04-22T19:19:10.436Z"
   },
   {
    "duration": 64,
    "start_time": "2022-04-22T19:19:31.848Z"
   },
   {
    "duration": 20,
    "start_time": "2022-04-22T19:19:31.914Z"
   },
   {
    "duration": 17,
    "start_time": "2022-04-22T19:19:31.935Z"
   },
   {
    "duration": 10,
    "start_time": "2022-04-22T19:19:31.954Z"
   },
   {
    "duration": 21,
    "start_time": "2022-04-22T19:19:31.966Z"
   },
   {
    "duration": 24,
    "start_time": "2022-04-22T19:19:31.989Z"
   },
   {
    "duration": 30,
    "start_time": "2022-04-22T19:19:32.014Z"
   },
   {
    "duration": 22,
    "start_time": "2022-04-22T19:19:32.046Z"
   },
   {
    "duration": 13,
    "start_time": "2022-04-22T19:19:32.070Z"
   },
   {
    "duration": 13,
    "start_time": "2022-04-22T19:19:32.086Z"
   },
   {
    "duration": 32,
    "start_time": "2022-04-22T19:19:32.100Z"
   },
   {
    "duration": 9,
    "start_time": "2022-04-22T19:19:32.134Z"
   },
   {
    "duration": 28,
    "start_time": "2022-04-22T19:19:32.145Z"
   },
   {
    "duration": 13,
    "start_time": "2022-04-22T19:19:32.175Z"
   },
   {
    "duration": 17,
    "start_time": "2022-04-22T19:19:32.189Z"
   },
   {
    "duration": 23,
    "start_time": "2022-04-22T19:19:32.207Z"
   },
   {
    "duration": 10,
    "start_time": "2022-04-22T19:19:32.232Z"
   },
   {
    "duration": 19,
    "start_time": "2022-04-22T19:19:32.244Z"
   },
   {
    "duration": 6,
    "start_time": "2022-04-22T19:19:32.265Z"
   },
   {
    "duration": 11,
    "start_time": "2022-04-22T19:19:32.272Z"
   },
   {
    "duration": 25,
    "start_time": "2022-04-22T19:19:32.284Z"
   },
   {
    "duration": 13,
    "start_time": "2022-04-22T19:19:32.311Z"
   },
   {
    "duration": 11,
    "start_time": "2022-04-22T19:19:32.326Z"
   },
   {
    "duration": 27,
    "start_time": "2022-04-22T19:19:32.339Z"
   },
   {
    "duration": 28,
    "start_time": "2022-04-22T19:19:32.368Z"
   },
   {
    "duration": 18,
    "start_time": "2022-04-22T19:19:32.397Z"
   },
   {
    "duration": 29,
    "start_time": "2022-04-22T19:19:32.416Z"
   },
   {
    "duration": 23,
    "start_time": "2022-04-22T19:19:32.448Z"
   },
   {
    "duration": 35,
    "start_time": "2022-04-22T19:19:32.472Z"
   },
   {
    "duration": 5,
    "start_time": "2022-04-22T19:19:32.508Z"
   },
   {
    "duration": 21,
    "start_time": "2022-04-22T19:19:32.522Z"
   },
   {
    "duration": 14,
    "start_time": "2022-04-22T19:19:32.545Z"
   },
   {
    "duration": 25,
    "start_time": "2022-04-22T19:19:32.561Z"
   },
   {
    "duration": 16,
    "start_time": "2022-04-22T19:19:32.587Z"
   },
   {
    "duration": 26,
    "start_time": "2022-04-22T19:19:32.605Z"
   },
   {
    "duration": 18,
    "start_time": "2022-04-22T19:19:32.634Z"
   },
   {
    "duration": 13,
    "start_time": "2022-04-22T19:19:32.654Z"
   },
   {
    "duration": 22,
    "start_time": "2022-04-22T19:19:32.669Z"
   },
   {
    "duration": 33,
    "start_time": "2022-04-22T19:19:32.693Z"
   },
   {
    "duration": 44,
    "start_time": "2022-04-22T19:19:32.728Z"
   },
   {
    "duration": 363,
    "start_time": "2022-04-22T19:19:32.773Z"
   },
   {
    "duration": 10,
    "start_time": "2022-04-22T19:19:33.138Z"
   },
   {
    "duration": 21,
    "start_time": "2022-04-22T19:19:33.150Z"
   },
   {
    "duration": 339,
    "start_time": "2022-04-22T19:19:33.173Z"
   },
   {
    "duration": 20,
    "start_time": "2022-04-22T19:19:33.513Z"
   },
   {
    "duration": 20,
    "start_time": "2022-04-22T19:19:33.534Z"
   },
   {
    "duration": 21,
    "start_time": "2022-04-22T19:19:33.555Z"
   },
   {
    "duration": 327,
    "start_time": "2022-04-22T19:19:33.577Z"
   },
   {
    "duration": 3,
    "start_time": "2022-04-22T19:28:17.844Z"
   },
   {
    "duration": 22,
    "start_time": "2022-04-22T19:28:17.849Z"
   },
   {
    "duration": 0,
    "start_time": "2022-04-22T19:28:17.873Z"
   },
   {
    "duration": 0,
    "start_time": "2022-04-22T19:28:17.874Z"
   },
   {
    "duration": 0,
    "start_time": "2022-04-22T19:28:17.875Z"
   },
   {
    "duration": 0,
    "start_time": "2022-04-22T19:28:17.876Z"
   },
   {
    "duration": 0,
    "start_time": "2022-04-22T19:28:17.877Z"
   },
   {
    "duration": 0,
    "start_time": "2022-04-22T19:28:17.878Z"
   },
   {
    "duration": 0,
    "start_time": "2022-04-22T19:28:17.879Z"
   },
   {
    "duration": 0,
    "start_time": "2022-04-22T19:28:17.880Z"
   },
   {
    "duration": 0,
    "start_time": "2022-04-22T19:28:17.881Z"
   },
   {
    "duration": 0,
    "start_time": "2022-04-22T19:28:17.882Z"
   },
   {
    "duration": 10,
    "start_time": "2022-04-22T19:28:17.884Z"
   },
   {
    "duration": 32,
    "start_time": "2022-04-22T19:28:17.895Z"
   },
   {
    "duration": 4,
    "start_time": "2022-04-22T19:28:17.928Z"
   },
   {
    "duration": 6,
    "start_time": "2022-04-22T19:28:17.934Z"
   },
   {
    "duration": 6,
    "start_time": "2022-04-22T19:28:17.942Z"
   },
   {
    "duration": 9,
    "start_time": "2022-04-22T19:28:17.949Z"
   },
   {
    "duration": 12,
    "start_time": "2022-04-22T19:28:17.960Z"
   },
   {
    "duration": 53,
    "start_time": "2022-04-22T19:28:17.974Z"
   },
   {
    "duration": 9,
    "start_time": "2022-04-22T19:28:18.031Z"
   },
   {
    "duration": 7,
    "start_time": "2022-04-22T19:28:18.042Z"
   },
   {
    "duration": 11,
    "start_time": "2022-04-22T19:28:18.050Z"
   },
   {
    "duration": 26,
    "start_time": "2022-04-22T19:28:18.063Z"
   },
   {
    "duration": 3279,
    "start_time": "2022-04-22T19:28:18.091Z"
   },
   {
    "duration": 0,
    "start_time": "2022-04-22T19:28:21.371Z"
   },
   {
    "duration": 0,
    "start_time": "2022-04-22T19:28:21.373Z"
   },
   {
    "duration": 0,
    "start_time": "2022-04-22T19:28:21.374Z"
   },
   {
    "duration": 0,
    "start_time": "2022-04-22T19:28:21.375Z"
   },
   {
    "duration": 0,
    "start_time": "2022-04-22T19:28:21.377Z"
   },
   {
    "duration": 0,
    "start_time": "2022-04-22T19:28:21.378Z"
   },
   {
    "duration": 0,
    "start_time": "2022-04-22T19:28:21.379Z"
   },
   {
    "duration": 0,
    "start_time": "2022-04-22T19:28:21.380Z"
   },
   {
    "duration": 0,
    "start_time": "2022-04-22T19:28:21.381Z"
   },
   {
    "duration": 0,
    "start_time": "2022-04-22T19:28:21.382Z"
   },
   {
    "duration": 3,
    "start_time": "2022-04-22T19:29:08.472Z"
   },
   {
    "duration": 4,
    "start_time": "2022-04-22T19:29:08.477Z"
   },
   {
    "duration": 83,
    "start_time": "2022-04-22T19:29:08.483Z"
   },
   {
    "duration": 13,
    "start_time": "2022-04-22T19:29:08.568Z"
   },
   {
    "duration": 16,
    "start_time": "2022-04-22T19:29:08.583Z"
   },
   {
    "duration": 17,
    "start_time": "2022-04-22T19:29:08.623Z"
   },
   {
    "duration": 5,
    "start_time": "2022-04-22T19:29:08.642Z"
   },
   {
    "duration": 4,
    "start_time": "2022-04-22T19:29:08.649Z"
   },
   {
    "duration": 9,
    "start_time": "2022-04-22T19:29:08.656Z"
   },
   {
    "duration": 14,
    "start_time": "2022-04-22T19:29:08.667Z"
   },
   {
    "duration": 43,
    "start_time": "2022-04-22T19:29:08.683Z"
   },
   {
    "duration": 5,
    "start_time": "2022-04-22T19:29:08.728Z"
   },
   {
    "duration": 27,
    "start_time": "2022-04-22T19:29:08.735Z"
   },
   {
    "duration": 8,
    "start_time": "2022-04-22T19:29:08.765Z"
   },
   {
    "duration": 3,
    "start_time": "2022-04-22T19:29:08.775Z"
   },
   {
    "duration": 7,
    "start_time": "2022-04-22T19:29:08.780Z"
   },
   {
    "duration": 40,
    "start_time": "2022-04-22T19:29:08.789Z"
   },
   {
    "duration": 11,
    "start_time": "2022-04-22T19:29:08.831Z"
   },
   {
    "duration": 9,
    "start_time": "2022-04-22T19:29:08.844Z"
   },
   {
    "duration": 10,
    "start_time": "2022-04-22T19:29:08.854Z"
   },
   {
    "duration": 4,
    "start_time": "2022-04-22T19:29:08.866Z"
   },
   {
    "duration": 9,
    "start_time": "2022-04-22T19:29:08.871Z"
   },
   {
    "duration": 41,
    "start_time": "2022-04-22T19:29:08.882Z"
   },
   {
    "duration": 7,
    "start_time": "2022-04-22T19:29:08.927Z"
   },
   {
    "duration": 7,
    "start_time": "2022-04-22T19:29:08.935Z"
   },
   {
    "duration": 8,
    "start_time": "2022-04-22T19:29:08.944Z"
   },
   {
    "duration": 8,
    "start_time": "2022-04-22T19:29:08.954Z"
   },
   {
    "duration": 9,
    "start_time": "2022-04-22T19:29:08.964Z"
   },
   {
    "duration": 71,
    "start_time": "2022-04-22T19:29:08.975Z"
   },
   {
    "duration": 35,
    "start_time": "2022-04-22T19:29:09.048Z"
   },
   {
    "duration": 6,
    "start_time": "2022-04-22T19:29:09.086Z"
   },
   {
    "duration": 43,
    "start_time": "2022-04-22T19:29:09.094Z"
   },
   {
    "duration": 6,
    "start_time": "2022-04-22T19:29:09.139Z"
   },
   {
    "duration": 30,
    "start_time": "2022-04-22T19:29:09.147Z"
   },
   {
    "duration": 10,
    "start_time": "2022-04-22T19:29:09.178Z"
   },
   {
    "duration": 42,
    "start_time": "2022-04-22T19:29:09.190Z"
   },
   {
    "duration": 17,
    "start_time": "2022-04-22T19:29:09.235Z"
   },
   {
    "duration": 20,
    "start_time": "2022-04-22T19:29:09.253Z"
   },
   {
    "duration": 17,
    "start_time": "2022-04-22T19:29:09.275Z"
   },
   {
    "duration": 60,
    "start_time": "2022-04-22T19:29:09.294Z"
   },
   {
    "duration": 24,
    "start_time": "2022-04-22T19:29:09.357Z"
   },
   {
    "duration": 59,
    "start_time": "2022-04-22T19:29:09.383Z"
   },
   {
    "duration": 373,
    "start_time": "2022-04-22T19:29:09.444Z"
   },
   {
    "duration": 15,
    "start_time": "2022-04-22T19:29:09.818Z"
   },
   {
    "duration": 22,
    "start_time": "2022-04-22T19:29:09.835Z"
   },
   {
    "duration": 374,
    "start_time": "2022-04-22T19:29:09.859Z"
   },
   {
    "duration": 16,
    "start_time": "2022-04-22T19:29:10.235Z"
   },
   {
    "duration": 25,
    "start_time": "2022-04-22T19:29:10.253Z"
   },
   {
    "duration": 51,
    "start_time": "2022-04-22T19:29:10.280Z"
   },
   {
    "duration": 322,
    "start_time": "2022-04-22T19:29:10.334Z"
   },
   {
    "duration": 1839,
    "start_time": "2022-04-27T13:49:42.745Z"
   },
   {
    "duration": 4,
    "start_time": "2022-04-27T13:49:44.587Z"
   },
   {
    "duration": 111,
    "start_time": "2022-04-27T13:49:44.593Z"
   },
   {
    "duration": 24,
    "start_time": "2022-04-27T13:49:44.706Z"
   },
   {
    "duration": 27,
    "start_time": "2022-04-27T13:49:44.732Z"
   },
   {
    "duration": 14,
    "start_time": "2022-04-27T13:49:44.761Z"
   },
   {
    "duration": 10,
    "start_time": "2022-04-27T13:49:44.777Z"
   },
   {
    "duration": 119,
    "start_time": "2022-04-27T13:49:44.789Z"
   },
   {
    "duration": 16,
    "start_time": "2022-04-27T13:49:44.910Z"
   },
   {
    "duration": 34,
    "start_time": "2022-04-27T13:49:44.930Z"
   },
   {
    "duration": 9,
    "start_time": "2022-04-27T13:49:44.967Z"
   },
   {
    "duration": 8,
    "start_time": "2022-04-27T13:49:44.978Z"
   },
   {
    "duration": 57,
    "start_time": "2022-04-27T13:49:44.988Z"
   },
   {
    "duration": 9,
    "start_time": "2022-04-27T13:49:45.047Z"
   },
   {
    "duration": 12,
    "start_time": "2022-04-27T13:49:45.058Z"
   },
   {
    "duration": 16,
    "start_time": "2022-04-27T13:49:45.073Z"
   },
   {
    "duration": 6,
    "start_time": "2022-04-27T13:49:45.091Z"
   },
   {
    "duration": 27,
    "start_time": "2022-04-27T13:49:45.099Z"
   },
   {
    "duration": 14,
    "start_time": "2022-04-27T13:49:45.129Z"
   },
   {
    "duration": 8,
    "start_time": "2022-04-27T13:49:45.145Z"
   },
   {
    "duration": 13,
    "start_time": "2022-04-27T13:49:45.155Z"
   },
   {
    "duration": 15,
    "start_time": "2022-04-27T13:49:45.170Z"
   },
   {
    "duration": 13,
    "start_time": "2022-04-27T13:49:45.224Z"
   },
   {
    "duration": 20,
    "start_time": "2022-04-27T13:49:45.239Z"
   },
   {
    "duration": 7,
    "start_time": "2022-04-27T13:49:45.261Z"
   },
   {
    "duration": 56,
    "start_time": "2022-04-27T13:49:45.271Z"
   },
   {
    "duration": 14,
    "start_time": "2022-04-27T13:49:45.329Z"
   },
   {
    "duration": 6,
    "start_time": "2022-04-27T13:49:45.349Z"
   },
   {
    "duration": 76,
    "start_time": "2022-04-27T13:49:45.358Z"
   },
   {
    "duration": 8,
    "start_time": "2022-04-27T13:49:45.436Z"
   },
   {
    "duration": 9,
    "start_time": "2022-04-27T13:49:45.446Z"
   },
   {
    "duration": 20,
    "start_time": "2022-04-27T13:49:45.457Z"
   },
   {
    "duration": 47,
    "start_time": "2022-04-27T13:49:45.479Z"
   },
   {
    "duration": 8,
    "start_time": "2022-04-27T13:49:45.528Z"
   },
   {
    "duration": 13,
    "start_time": "2022-04-27T13:49:45.538Z"
   },
   {
    "duration": 8,
    "start_time": "2022-04-27T13:49:45.553Z"
   },
   {
    "duration": 16,
    "start_time": "2022-04-27T13:49:45.562Z"
   },
   {
    "duration": 65,
    "start_time": "2022-04-27T13:49:45.580Z"
   },
   {
    "duration": 52,
    "start_time": "2022-04-27T13:49:45.647Z"
   },
   {
    "duration": 27,
    "start_time": "2022-04-27T13:49:45.701Z"
   },
   {
    "duration": 23,
    "start_time": "2022-04-27T13:49:45.731Z"
   },
   {
    "duration": 28,
    "start_time": "2022-04-27T13:49:45.756Z"
   },
   {
    "duration": 80,
    "start_time": "2022-04-27T13:49:45.786Z"
   },
   {
    "duration": 11,
    "start_time": "2022-04-27T13:49:45.869Z"
   },
   {
    "duration": 47,
    "start_time": "2022-04-27T13:49:45.882Z"
   },
   {
    "duration": 8,
    "start_time": "2022-04-27T13:49:45.931Z"
   },
   {
    "duration": 32,
    "start_time": "2022-04-27T13:49:45.941Z"
   },
   {
    "duration": 58,
    "start_time": "2022-04-27T13:49:45.976Z"
   },
   {
    "duration": 23,
    "start_time": "2022-04-27T13:49:46.037Z"
   },
   {
    "duration": 13,
    "start_time": "2022-04-27T13:49:46.062Z"
   },
   {
    "duration": 48,
    "start_time": "2022-04-27T13:49:46.077Z"
   },
   {
    "duration": 28,
    "start_time": "2022-04-27T13:49:46.128Z"
   },
   {
    "duration": 32,
    "start_time": "2022-04-27T13:49:46.159Z"
   },
   {
    "duration": 19,
    "start_time": "2022-04-27T13:49:46.225Z"
   },
   {
    "duration": 36,
    "start_time": "2022-04-27T13:49:46.248Z"
   },
   {
    "duration": 645,
    "start_time": "2022-04-27T13:49:46.287Z"
   },
   {
    "duration": 12,
    "start_time": "2022-04-27T13:49:46.935Z"
   },
   {
    "duration": 2099,
    "start_time": "2022-04-27T13:49:46.949Z"
   },
   {
    "duration": 0,
    "start_time": "2022-04-27T13:49:49.051Z"
   },
   {
    "duration": 0,
    "start_time": "2022-04-27T13:49:49.052Z"
   },
   {
    "duration": 0,
    "start_time": "2022-04-27T13:49:49.054Z"
   },
   {
    "duration": 0,
    "start_time": "2022-04-27T13:49:49.055Z"
   },
   {
    "duration": 0,
    "start_time": "2022-04-27T13:49:49.057Z"
   },
   {
    "duration": 11,
    "start_time": "2022-04-27T13:50:15.616Z"
   },
   {
    "duration": 14,
    "start_time": "2022-04-27T13:50:27.343Z"
   },
   {
    "duration": 11,
    "start_time": "2022-04-27T13:50:29.952Z"
   },
   {
    "duration": 4,
    "start_time": "2022-04-27T13:50:36.239Z"
   },
   {
    "duration": 43,
    "start_time": "2022-04-27T13:50:36.245Z"
   },
   {
    "duration": 113,
    "start_time": "2022-04-27T13:50:36.290Z"
   },
   {
    "duration": 33,
    "start_time": "2022-04-27T13:50:36.405Z"
   },
   {
    "duration": 44,
    "start_time": "2022-04-27T13:50:36.440Z"
   },
   {
    "duration": 32,
    "start_time": "2022-04-27T13:50:36.486Z"
   },
   {
    "duration": 24,
    "start_time": "2022-04-27T13:50:36.520Z"
   },
   {
    "duration": 54,
    "start_time": "2022-04-27T13:50:36.547Z"
   },
   {
    "duration": 5,
    "start_time": "2022-04-27T13:50:36.605Z"
   },
   {
    "duration": 35,
    "start_time": "2022-04-27T13:50:36.612Z"
   },
   {
    "duration": 9,
    "start_time": "2022-04-27T13:50:36.649Z"
   },
   {
    "duration": 19,
    "start_time": "2022-04-27T13:50:36.660Z"
   },
   {
    "duration": 46,
    "start_time": "2022-04-27T13:50:36.681Z"
   },
   {
    "duration": 22,
    "start_time": "2022-04-27T13:50:36.729Z"
   },
   {
    "duration": 39,
    "start_time": "2022-04-27T13:50:36.753Z"
   },
   {
    "duration": 23,
    "start_time": "2022-04-27T13:50:36.794Z"
   },
   {
    "duration": 14,
    "start_time": "2022-04-27T13:50:36.820Z"
   },
   {
    "duration": 24,
    "start_time": "2022-04-27T13:50:36.837Z"
   },
   {
    "duration": 45,
    "start_time": "2022-04-27T13:50:36.863Z"
   },
   {
    "duration": 24,
    "start_time": "2022-04-27T13:50:36.911Z"
   },
   {
    "duration": 25,
    "start_time": "2022-04-27T13:50:36.937Z"
   },
   {
    "duration": 22,
    "start_time": "2022-04-27T13:50:36.964Z"
   },
   {
    "duration": 42,
    "start_time": "2022-04-27T13:50:36.989Z"
   },
   {
    "duration": 28,
    "start_time": "2022-04-27T13:50:37.037Z"
   },
   {
    "duration": 62,
    "start_time": "2022-04-27T13:50:37.067Z"
   },
   {
    "duration": 34,
    "start_time": "2022-04-27T13:50:37.131Z"
   },
   {
    "duration": 36,
    "start_time": "2022-04-27T13:50:37.167Z"
   },
   {
    "duration": 18,
    "start_time": "2022-04-27T13:50:37.205Z"
   },
   {
    "duration": 47,
    "start_time": "2022-04-27T13:50:37.225Z"
   },
   {
    "duration": 7,
    "start_time": "2022-04-27T13:50:37.274Z"
   },
   {
    "duration": 16,
    "start_time": "2022-04-27T13:50:37.284Z"
   },
   {
    "duration": 37,
    "start_time": "2022-04-27T13:50:37.303Z"
   },
   {
    "duration": 24,
    "start_time": "2022-04-27T13:50:37.342Z"
   },
   {
    "duration": 37,
    "start_time": "2022-04-27T13:50:37.369Z"
   },
   {
    "duration": 31,
    "start_time": "2022-04-27T13:50:37.408Z"
   },
   {
    "duration": 34,
    "start_time": "2022-04-27T13:50:37.441Z"
   },
   {
    "duration": 30,
    "start_time": "2022-04-27T13:50:37.477Z"
   },
   {
    "duration": 30,
    "start_time": "2022-04-27T13:50:37.509Z"
   },
   {
    "duration": 53,
    "start_time": "2022-04-27T13:50:37.542Z"
   },
   {
    "duration": 29,
    "start_time": "2022-04-27T13:50:37.597Z"
   },
   {
    "duration": 22,
    "start_time": "2022-04-27T13:50:37.628Z"
   },
   {
    "duration": 53,
    "start_time": "2022-04-27T13:50:37.652Z"
   },
   {
    "duration": 55,
    "start_time": "2022-04-27T13:50:37.708Z"
   },
   {
    "duration": 12,
    "start_time": "2022-04-27T13:50:37.765Z"
   },
   {
    "duration": 47,
    "start_time": "2022-04-27T13:50:37.779Z"
   },
   {
    "duration": 8,
    "start_time": "2022-04-27T13:50:37.828Z"
   },
   {
    "duration": 31,
    "start_time": "2022-04-27T13:50:37.838Z"
   },
   {
    "duration": 54,
    "start_time": "2022-04-27T13:50:37.871Z"
   },
   {
    "duration": 20,
    "start_time": "2022-04-27T13:50:37.927Z"
   },
   {
    "duration": 20,
    "start_time": "2022-04-27T13:50:37.951Z"
   },
   {
    "duration": 15,
    "start_time": "2022-04-27T13:50:37.973Z"
   },
   {
    "duration": 44,
    "start_time": "2022-04-27T13:50:37.990Z"
   },
   {
    "duration": 30,
    "start_time": "2022-04-27T13:50:38.036Z"
   },
   {
    "duration": 26,
    "start_time": "2022-04-27T13:50:38.069Z"
   },
   {
    "duration": 55,
    "start_time": "2022-04-27T13:50:38.097Z"
   },
   {
    "duration": 997,
    "start_time": "2022-04-27T13:50:38.155Z"
   },
   {
    "duration": 13,
    "start_time": "2022-04-27T13:50:39.155Z"
   },
   {
    "duration": 12,
    "start_time": "2022-04-27T13:50:42.240Z"
   },
   {
    "duration": 10,
    "start_time": "2022-04-27T13:51:08.624Z"
   },
   {
    "duration": 28,
    "start_time": "2022-04-27T13:52:30.864Z"
   },
   {
    "duration": 21,
    "start_time": "2022-04-27T13:52:54.063Z"
   },
   {
    "duration": 1841,
    "start_time": "2022-04-27T16:12:42.747Z"
   },
   {
    "duration": 5,
    "start_time": "2022-04-27T16:13:04.334Z"
   },
   {
    "duration": 8,
    "start_time": "2022-04-27T16:13:04.342Z"
   },
   {
    "duration": 142,
    "start_time": "2022-04-27T16:13:04.352Z"
   },
   {
    "duration": 22,
    "start_time": "2022-04-27T16:13:04.498Z"
   },
   {
    "duration": 26,
    "start_time": "2022-04-27T16:13:04.523Z"
   },
   {
    "duration": 46,
    "start_time": "2022-04-27T16:13:04.551Z"
   },
   {
    "duration": 9,
    "start_time": "2022-04-27T16:13:04.600Z"
   },
   {
    "duration": 113,
    "start_time": "2022-04-27T16:13:04.612Z"
   },
   {
    "duration": 3,
    "start_time": "2022-04-27T16:13:04.729Z"
   },
   {
    "duration": 33,
    "start_time": "2022-04-27T16:13:04.735Z"
   },
   {
    "duration": 28,
    "start_time": "2022-04-27T16:13:04.771Z"
   },
   {
    "duration": 11,
    "start_time": "2022-04-27T16:13:04.802Z"
   },
   {
    "duration": 48,
    "start_time": "2022-04-27T16:13:04.816Z"
   },
   {
    "duration": 30,
    "start_time": "2022-04-27T16:13:04.867Z"
   },
   {
    "duration": 7,
    "start_time": "2022-04-27T16:13:04.900Z"
   },
   {
    "duration": 9,
    "start_time": "2022-04-27T16:13:04.910Z"
   },
   {
    "duration": 3,
    "start_time": "2022-04-27T16:13:04.922Z"
   },
   {
    "duration": 5,
    "start_time": "2022-04-27T16:13:04.928Z"
   },
   {
    "duration": 58,
    "start_time": "2022-04-27T16:13:04.935Z"
   },
   {
    "duration": 10,
    "start_time": "2022-04-27T16:13:04.996Z"
   },
   {
    "duration": 15,
    "start_time": "2022-04-27T16:13:05.009Z"
   },
   {
    "duration": 14,
    "start_time": "2022-04-27T16:13:05.027Z"
   },
   {
    "duration": 51,
    "start_time": "2022-04-27T16:13:05.043Z"
   },
   {
    "duration": 19,
    "start_time": "2022-04-27T16:13:05.100Z"
   },
   {
    "duration": 17,
    "start_time": "2022-04-27T16:13:05.121Z"
   },
   {
    "duration": 19,
    "start_time": "2022-04-27T16:13:05.140Z"
   },
   {
    "duration": 39,
    "start_time": "2022-04-27T16:13:05.162Z"
   },
   {
    "duration": 5,
    "start_time": "2022-04-27T16:13:05.204Z"
   },
   {
    "duration": 45,
    "start_time": "2022-04-27T16:13:05.211Z"
   },
   {
    "duration": 36,
    "start_time": "2022-04-27T16:13:05.258Z"
   },
   {
    "duration": 9,
    "start_time": "2022-04-27T16:13:05.296Z"
   },
   {
    "duration": 31,
    "start_time": "2022-04-27T16:13:05.307Z"
   },
   {
    "duration": 15,
    "start_time": "2022-04-27T16:13:05.340Z"
   },
   {
    "duration": 18,
    "start_time": "2022-04-27T16:13:05.357Z"
   },
   {
    "duration": 8,
    "start_time": "2022-04-27T16:13:05.393Z"
   },
   {
    "duration": 8,
    "start_time": "2022-04-27T16:13:05.403Z"
   },
   {
    "duration": 14,
    "start_time": "2022-04-27T16:13:05.414Z"
   },
   {
    "duration": 70,
    "start_time": "2022-04-27T16:13:05.430Z"
   },
   {
    "duration": 54,
    "start_time": "2022-04-27T16:13:05.502Z"
   },
   {
    "duration": 35,
    "start_time": "2022-04-27T16:13:05.558Z"
   },
   {
    "duration": 21,
    "start_time": "2022-04-27T16:13:05.596Z"
   },
   {
    "duration": 29,
    "start_time": "2022-04-27T16:13:05.619Z"
   },
   {
    "duration": 77,
    "start_time": "2022-04-27T16:13:05.651Z"
   },
   {
    "duration": 11,
    "start_time": "2022-04-27T16:13:05.730Z"
   },
   {
    "duration": 29,
    "start_time": "2022-04-27T16:13:05.743Z"
   },
   {
    "duration": 8,
    "start_time": "2022-04-27T16:13:05.794Z"
   },
   {
    "duration": 30,
    "start_time": "2022-04-27T16:13:05.804Z"
   },
   {
    "duration": 56,
    "start_time": "2022-04-27T16:13:05.836Z"
   },
   {
    "duration": 20,
    "start_time": "2022-04-27T16:13:05.894Z"
   },
   {
    "duration": 32,
    "start_time": "2022-04-27T16:13:05.916Z"
   },
   {
    "duration": 33,
    "start_time": "2022-04-27T16:13:05.950Z"
   },
   {
    "duration": 24,
    "start_time": "2022-04-27T16:13:05.985Z"
   },
   {
    "duration": 30,
    "start_time": "2022-04-27T16:13:06.012Z"
   },
   {
    "duration": 24,
    "start_time": "2022-04-27T16:13:06.045Z"
   },
   {
    "duration": 54,
    "start_time": "2022-04-27T16:13:06.072Z"
   },
   {
    "duration": 614,
    "start_time": "2022-04-27T16:13:06.128Z"
   },
   {
    "duration": 10,
    "start_time": "2022-04-27T16:13:06.746Z"
   },
   {
    "duration": 44,
    "start_time": "2022-04-27T16:13:06.759Z"
   },
   {
    "duration": 18,
    "start_time": "2022-04-27T16:13:21.341Z"
   },
   {
    "duration": 4,
    "start_time": "2022-04-27T16:22:52.699Z"
   },
   {
    "duration": 7,
    "start_time": "2022-04-27T16:22:52.706Z"
   },
   {
    "duration": 157,
    "start_time": "2022-04-27T16:22:52.716Z"
   },
   {
    "duration": 32,
    "start_time": "2022-04-27T16:22:52.877Z"
   },
   {
    "duration": 22,
    "start_time": "2022-04-27T16:22:52.911Z"
   },
   {
    "duration": 16,
    "start_time": "2022-04-27T16:22:52.935Z"
   },
   {
    "duration": 46,
    "start_time": "2022-04-27T16:22:52.954Z"
   },
   {
    "duration": 26,
    "start_time": "2022-04-27T16:22:53.003Z"
   },
   {
    "duration": 3,
    "start_time": "2022-04-27T16:22:53.034Z"
   },
   {
    "duration": 66,
    "start_time": "2022-04-27T16:22:53.040Z"
   },
   {
    "duration": 6,
    "start_time": "2022-04-27T16:22:53.109Z"
   },
   {
    "duration": 7,
    "start_time": "2022-04-27T16:22:53.117Z"
   },
   {
    "duration": 35,
    "start_time": "2022-04-27T16:22:53.125Z"
   },
   {
    "duration": 10,
    "start_time": "2022-04-27T16:22:53.192Z"
   },
   {
    "duration": 8,
    "start_time": "2022-04-27T16:22:53.205Z"
   },
   {
    "duration": 8,
    "start_time": "2022-04-27T16:22:53.215Z"
   },
   {
    "duration": 9,
    "start_time": "2022-04-27T16:22:53.225Z"
   },
   {
    "duration": 6,
    "start_time": "2022-04-27T16:22:53.236Z"
   },
   {
    "duration": 50,
    "start_time": "2022-04-27T16:22:53.245Z"
   },
   {
    "duration": 9,
    "start_time": "2022-04-27T16:22:53.298Z"
   },
   {
    "duration": 11,
    "start_time": "2022-04-27T16:22:53.309Z"
   },
   {
    "duration": 14,
    "start_time": "2022-04-27T16:22:53.323Z"
   },
   {
    "duration": 55,
    "start_time": "2022-04-27T16:22:53.340Z"
   },
   {
    "duration": 31,
    "start_time": "2022-04-27T16:22:53.402Z"
   },
   {
    "duration": 9,
    "start_time": "2022-04-27T16:22:53.436Z"
   },
   {
    "duration": 52,
    "start_time": "2022-04-27T16:22:53.449Z"
   },
   {
    "duration": 17,
    "start_time": "2022-04-27T16:22:53.504Z"
   },
   {
    "duration": 8,
    "start_time": "2022-04-27T16:22:53.524Z"
   },
   {
    "duration": 98,
    "start_time": "2022-04-27T16:22:53.534Z"
   },
   {
    "duration": 7,
    "start_time": "2022-04-27T16:23:17.502Z"
   },
   {
    "duration": 3,
    "start_time": "2022-04-27T16:59:49.849Z"
   },
   {
    "duration": 4,
    "start_time": "2022-04-27T16:59:49.860Z"
   },
   {
    "duration": 166,
    "start_time": "2022-04-27T16:59:49.868Z"
   },
   {
    "duration": 29,
    "start_time": "2022-04-27T16:59:50.036Z"
   },
   {
    "duration": 48,
    "start_time": "2022-04-27T16:59:50.068Z"
   },
   {
    "duration": 16,
    "start_time": "2022-04-27T16:59:50.120Z"
   },
   {
    "duration": 9,
    "start_time": "2022-04-27T16:59:50.138Z"
   },
   {
    "duration": 69,
    "start_time": "2022-04-27T16:59:50.149Z"
   },
   {
    "duration": 3,
    "start_time": "2022-04-27T16:59:50.221Z"
   },
   {
    "duration": 36,
    "start_time": "2022-04-27T16:59:50.227Z"
   },
   {
    "duration": 8,
    "start_time": "2022-04-27T16:59:50.265Z"
   },
   {
    "duration": 35,
    "start_time": "2022-04-27T16:59:50.275Z"
   },
   {
    "duration": 51,
    "start_time": "2022-04-27T16:59:50.313Z"
   },
   {
    "duration": 13,
    "start_time": "2022-04-27T16:59:50.367Z"
   },
   {
    "duration": 7,
    "start_time": "2022-04-27T16:59:50.403Z"
   },
   {
    "duration": 11,
    "start_time": "2022-04-27T16:59:50.412Z"
   },
   {
    "duration": 7,
    "start_time": "2022-04-27T16:59:50.425Z"
   },
   {
    "duration": 7,
    "start_time": "2022-04-27T16:59:50.434Z"
   },
   {
    "duration": 11,
    "start_time": "2022-04-27T16:59:50.443Z"
   },
   {
    "duration": 7,
    "start_time": "2022-04-27T16:59:50.457Z"
   },
   {
    "duration": 38,
    "start_time": "2022-04-27T16:59:50.466Z"
   },
   {
    "duration": 17,
    "start_time": "2022-04-27T16:59:50.506Z"
   },
   {
    "duration": 18,
    "start_time": "2022-04-27T16:59:50.526Z"
   },
   {
    "duration": 56,
    "start_time": "2022-04-27T16:59:50.547Z"
   },
   {
    "duration": 7,
    "start_time": "2022-04-27T16:59:50.608Z"
   },
   {
    "duration": 15,
    "start_time": "2022-04-27T16:59:50.617Z"
   },
   {
    "duration": 14,
    "start_time": "2022-04-27T16:59:50.634Z"
   },
   {
    "duration": 50,
    "start_time": "2022-04-27T16:59:50.651Z"
   },
   {
    "duration": 44,
    "start_time": "2022-04-27T16:59:50.703Z"
   },
   {
    "duration": 7,
    "start_time": "2022-04-27T16:59:50.750Z"
   },
   {
    "duration": 50,
    "start_time": "2022-04-27T16:59:50.760Z"
   },
   {
    "duration": 17,
    "start_time": "2022-04-27T16:59:50.813Z"
   },
   {
    "duration": 10,
    "start_time": "2022-04-27T16:59:50.833Z"
   },
   {
    "duration": 10,
    "start_time": "2022-04-27T16:59:50.846Z"
   },
   {
    "duration": 38,
    "start_time": "2022-04-27T16:59:50.859Z"
   },
   {
    "duration": 8,
    "start_time": "2022-04-27T16:59:50.900Z"
   },
   {
    "duration": 24,
    "start_time": "2022-04-27T16:59:50.911Z"
   },
   {
    "duration": 29,
    "start_time": "2022-04-27T16:59:50.938Z"
   },
   {
    "duration": 80,
    "start_time": "2022-04-27T16:59:50.970Z"
   },
   {
    "duration": 7,
    "start_time": "2022-04-27T16:59:51.052Z"
   },
   {
    "duration": 57,
    "start_time": "2022-04-27T16:59:51.061Z"
   },
   {
    "duration": 28,
    "start_time": "2022-04-27T16:59:51.124Z"
   },
   {
    "duration": 88,
    "start_time": "2022-04-27T16:59:51.154Z"
   },
   {
    "duration": 12,
    "start_time": "2022-04-27T16:59:51.244Z"
   },
   {
    "duration": 52,
    "start_time": "2022-04-27T16:59:51.258Z"
   },
   {
    "duration": 8,
    "start_time": "2022-04-27T16:59:51.313Z"
   },
   {
    "duration": 32,
    "start_time": "2022-04-27T16:59:51.324Z"
   },
   {
    "duration": 57,
    "start_time": "2022-04-27T16:59:51.359Z"
   },
   {
    "duration": 20,
    "start_time": "2022-04-27T16:59:51.418Z"
   },
   {
    "duration": 12,
    "start_time": "2022-04-27T16:59:51.441Z"
   },
   {
    "duration": 44,
    "start_time": "2022-04-27T16:59:51.456Z"
   },
   {
    "duration": 20,
    "start_time": "2022-04-27T16:59:51.502Z"
   },
   {
    "duration": 32,
    "start_time": "2022-04-27T16:59:51.525Z"
   },
   {
    "duration": 50,
    "start_time": "2022-04-27T16:59:51.560Z"
   },
   {
    "duration": 15,
    "start_time": "2022-04-27T16:59:56.664Z"
   },
   {
    "duration": 37,
    "start_time": "2022-04-27T17:25:22.154Z"
   },
   {
    "duration": 21,
    "start_time": "2022-04-27T17:25:58.333Z"
   },
   {
    "duration": 10,
    "start_time": "2022-04-27T17:26:33.459Z"
   },
   {
    "duration": 48,
    "start_time": "2022-04-27T17:27:33.456Z"
   },
   {
    "duration": 1401,
    "start_time": "2022-04-28T11:27:27.205Z"
   },
   {
    "duration": 3,
    "start_time": "2022-04-28T11:27:28.608Z"
   },
   {
    "duration": 80,
    "start_time": "2022-04-28T11:27:28.612Z"
   },
   {
    "duration": 12,
    "start_time": "2022-04-28T11:27:28.694Z"
   },
   {
    "duration": 17,
    "start_time": "2022-04-28T11:27:28.708Z"
   },
   {
    "duration": 10,
    "start_time": "2022-04-28T11:27:28.727Z"
   },
   {
    "duration": 6,
    "start_time": "2022-04-28T11:27:28.739Z"
   },
   {
    "duration": 87,
    "start_time": "2022-04-28T11:27:28.747Z"
   },
   {
    "duration": 2,
    "start_time": "2022-04-28T11:27:28.836Z"
   },
   {
    "duration": 15,
    "start_time": "2022-04-28T11:27:28.842Z"
   },
   {
    "duration": 5,
    "start_time": "2022-04-28T11:27:28.859Z"
   },
   {
    "duration": 4,
    "start_time": "2022-04-28T11:27:28.893Z"
   },
   {
    "duration": 21,
    "start_time": "2022-04-28T11:27:28.899Z"
   },
   {
    "duration": 7,
    "start_time": "2022-04-28T11:27:28.923Z"
   },
   {
    "duration": 7,
    "start_time": "2022-04-28T11:27:28.932Z"
   },
   {
    "duration": 6,
    "start_time": "2022-04-28T11:27:28.940Z"
   },
   {
    "duration": 3,
    "start_time": "2022-04-28T11:27:28.948Z"
   },
   {
    "duration": 4,
    "start_time": "2022-04-28T11:27:28.952Z"
   },
   {
    "duration": 7,
    "start_time": "2022-04-28T11:27:28.993Z"
   },
   {
    "duration": 6,
    "start_time": "2022-04-28T11:27:29.002Z"
   },
   {
    "duration": 8,
    "start_time": "2022-04-28T11:27:29.011Z"
   },
   {
    "duration": 8,
    "start_time": "2022-04-28T11:27:29.021Z"
   },
   {
    "duration": 13,
    "start_time": "2022-04-28T11:27:29.030Z"
   },
   {
    "duration": 54,
    "start_time": "2022-04-28T11:27:29.045Z"
   },
   {
    "duration": 6,
    "start_time": "2022-04-28T11:27:29.101Z"
   },
   {
    "duration": 13,
    "start_time": "2022-04-28T11:27:29.109Z"
   },
   {
    "duration": 11,
    "start_time": "2022-04-28T11:27:29.124Z"
   },
   {
    "duration": 9,
    "start_time": "2022-04-28T11:27:29.139Z"
   },
   {
    "duration": 45,
    "start_time": "2022-04-28T11:27:29.150Z"
   },
   {
    "duration": 7,
    "start_time": "2022-04-28T11:27:29.197Z"
   },
   {
    "duration": 11,
    "start_time": "2022-04-28T11:27:29.206Z"
   },
   {
    "duration": 12,
    "start_time": "2022-04-28T11:27:29.219Z"
   },
   {
    "duration": 8,
    "start_time": "2022-04-28T11:27:29.233Z"
   },
   {
    "duration": 14,
    "start_time": "2022-04-28T11:27:29.243Z"
   },
   {
    "duration": 10,
    "start_time": "2022-04-28T11:27:29.259Z"
   },
   {
    "duration": 22,
    "start_time": "2022-04-28T11:27:29.271Z"
   },
   {
    "duration": 9,
    "start_time": "2022-04-28T11:27:29.295Z"
   },
   {
    "duration": 24,
    "start_time": "2022-04-28T11:27:29.306Z"
   },
   {
    "duration": 31,
    "start_time": "2022-04-28T11:27:29.331Z"
   },
   {
    "duration": 5,
    "start_time": "2022-04-28T11:27:29.363Z"
   },
   {
    "duration": 15,
    "start_time": "2022-04-28T11:27:29.392Z"
   },
   {
    "duration": 17,
    "start_time": "2022-04-28T11:27:29.409Z"
   },
   {
    "duration": 33,
    "start_time": "2022-04-28T11:27:29.427Z"
   },
   {
    "duration": 32,
    "start_time": "2022-04-28T11:27:29.462Z"
   },
   {
    "duration": 5,
    "start_time": "2022-04-28T11:27:29.496Z"
   },
   {
    "duration": 17,
    "start_time": "2022-04-28T11:27:29.502Z"
   },
   {
    "duration": 15,
    "start_time": "2022-04-28T11:27:29.521Z"
   },
   {
    "duration": 6,
    "start_time": "2022-04-28T11:27:29.537Z"
   },
   {
    "duration": 49,
    "start_time": "2022-04-28T11:27:29.545Z"
   },
   {
    "duration": 18,
    "start_time": "2022-04-28T11:27:29.595Z"
   },
   {
    "duration": 14,
    "start_time": "2022-04-28T11:27:29.614Z"
   },
   {
    "duration": 7,
    "start_time": "2022-04-28T11:27:29.629Z"
   },
   {
    "duration": 8,
    "start_time": "2022-04-28T11:27:29.637Z"
   },
   {
    "duration": 45,
    "start_time": "2022-04-28T11:27:29.647Z"
   },
   {
    "duration": 21,
    "start_time": "2022-04-28T11:27:29.694Z"
   },
   {
    "duration": 12,
    "start_time": "2022-04-28T11:27:29.717Z"
   },
   {
    "duration": 25,
    "start_time": "2022-04-28T11:27:29.731Z"
   },
   {
    "duration": 397,
    "start_time": "2022-04-28T11:27:29.758Z"
   },
   {
    "duration": 13,
    "start_time": "2022-04-28T11:27:30.156Z"
   },
   {
    "duration": 36,
    "start_time": "2022-04-28T11:27:30.171Z"
   },
   {
    "duration": 319,
    "start_time": "2022-04-28T11:27:30.209Z"
   },
   {
    "duration": 4,
    "start_time": "2022-04-28T11:27:30.529Z"
   },
   {
    "duration": 46,
    "start_time": "2022-04-28T11:27:30.534Z"
   },
   {
    "duration": 35,
    "start_time": "2022-04-28T11:27:30.582Z"
   },
   {
    "duration": 421,
    "start_time": "2022-04-28T11:27:30.618Z"
   },
   {
    "duration": 699,
    "start_time": "2022-04-28T11:31:53.405Z"
   },
   {
    "duration": 42,
    "start_time": "2022-04-28T11:32:01.828Z"
   },
   {
    "duration": 48,
    "start_time": "2022-04-28T11:32:24.862Z"
   },
   {
    "duration": 70,
    "start_time": "2022-04-28T11:32:36.702Z"
   },
   {
    "duration": 33,
    "start_time": "2022-04-28T11:34:00.878Z"
   },
   {
    "duration": 35,
    "start_time": "2022-04-28T11:34:06.797Z"
   },
   {
    "duration": 67,
    "start_time": "2022-04-28T11:46:01.759Z"
   },
   {
    "duration": 38,
    "start_time": "2022-04-28T11:46:57.785Z"
   },
   {
    "duration": 18,
    "start_time": "2022-04-28T11:47:50.727Z"
   },
   {
    "duration": 69,
    "start_time": "2022-04-28T11:48:00.125Z"
   },
   {
    "duration": 131,
    "start_time": "2022-04-28T11:51:20.237Z"
   },
   {
    "duration": 20,
    "start_time": "2022-04-28T11:51:23.670Z"
   },
   {
    "duration": 38,
    "start_time": "2022-04-28T11:51:29.655Z"
   },
   {
    "duration": 40,
    "start_time": "2022-04-28T11:56:01.230Z"
   },
   {
    "duration": 30,
    "start_time": "2022-04-28T12:01:22.835Z"
   },
   {
    "duration": 18,
    "start_time": "2022-04-28T12:03:26.562Z"
   },
   {
    "duration": 18,
    "start_time": "2022-04-28T12:03:31.208Z"
   },
   {
    "duration": 17,
    "start_time": "2022-04-28T12:03:35.651Z"
   }
  ],
  "kernelspec": {
   "display_name": "Python 3 (ipykernel)",
   "language": "python",
   "name": "python3"
  },
  "language_info": {
   "codemirror_mode": {
    "name": "ipython",
    "version": 3
   },
   "file_extension": ".py",
   "mimetype": "text/x-python",
   "name": "python",
   "nbconvert_exporter": "python",
   "pygments_lexer": "ipython3",
   "version": "3.9.7"
  },
  "toc": {
   "base_numbering": 1,
   "nav_menu": {},
   "number_sections": true,
   "sideBar": true,
   "skip_h1_title": true,
   "title_cell": "Table of Contents",
   "title_sidebar": "Contents",
   "toc_cell": true,
   "toc_position": {
    "height": "calc(100% - 180px)",
    "left": "10px",
    "top": "150px",
    "width": "191px"
   },
   "toc_section_display": true,
   "toc_window_display": true
  }
 },
 "nbformat": 4,
 "nbformat_minor": 2
}
