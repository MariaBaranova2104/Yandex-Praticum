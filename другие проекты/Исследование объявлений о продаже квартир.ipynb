{
 "cells": [
  {
   "cell_type": "markdown",
   "metadata": {
    "toc": true
   },
   "source": [
    "<h1>Содержание<span class=\"tocSkip\"></span></h1>\n",
    "<div class=\"toc\"><ul class=\"toc-item\"><li><span><a href=\"#Изучение-данных-из-файла\" data-toc-modified-id=\"Изучение-данных-из-файла-1\"><span class=\"toc-item-num\">1&nbsp;&nbsp;</span>Изучение данных из файла</a></span><ul class=\"toc-item\"><li><span><a href=\"#Вывод\" data-toc-modified-id=\"Вывод-1.1\"><span class=\"toc-item-num\">1.1&nbsp;&nbsp;</span>Вывод</a></span></li></ul></li><li><span><a href=\"#Предобработка-данных\" data-toc-modified-id=\"Предобработка-данных-2\"><span class=\"toc-item-num\">2&nbsp;&nbsp;</span>Предобработка данных</a></span></li><li><span><a href=\"#Расчёты-и-добавление-результатов-в-таблицу\" data-toc-modified-id=\"Расчёты-и-добавление-результатов-в-таблицу-3\"><span class=\"toc-item-num\">3&nbsp;&nbsp;</span>Расчёты и добавление результатов в таблицу</a></span></li><li><span><a href=\"#Исследовательский-анализ-данных\" data-toc-modified-id=\"Исследовательский-анализ-данных-4\"><span class=\"toc-item-num\">4&nbsp;&nbsp;</span>Исследовательский анализ данных</a></span></li><li><span><a href=\"#Общий-вывод\" data-toc-modified-id=\"Общий-вывод-5\"><span class=\"toc-item-num\">5&nbsp;&nbsp;</span>Общий вывод</a></span></li><li><span><a href=\"#Чек-лист-готовности-проекта\" data-toc-modified-id=\"Чек-лист-готовности-проекта-6\"><span class=\"toc-item-num\">6&nbsp;&nbsp;</span>Чек-лист готовности проекта</a></span></li></ul></div>"
   ]
  },
  {
   "cell_type": "markdown",
   "metadata": {},
   "source": [
    "# Исследование объявлений о продаже квартир\n",
    "\n",
    "В вашем распоряжении данные сервиса Яндекc Недвижимость — архив объявлений о продаже квартир в Санкт-Петербурге и соседних населённых пунктах за несколько лет. Нужно научиться определять рыночную стоимость объектов недвижимости. Ваша задача — установить параметры. Это позволит построить автоматизированную систему: она отследит аномалии и мошенническую деятельность. \n",
    "\n",
    "По каждой квартире на продажу доступны два вида данных. Первые вписаны пользователем, вторые получены автоматически на основе картографических данных. Например, расстояние до центра, аэропорта, ближайшего парка и водоёма. "
   ]
  },
  {
   "cell_type": "markdown",
   "metadata": {},
   "source": [
    "**Описание данных** \n",
    "\n",
    "В проекте рассматриваются данные сервиса Яндекс Недвижимость — архив объявлений о продаже квартир в Санкт-Петербурге и соседних населённых пунктах за несколько лет. Нужно научиться определять рыночную стоимость объектов недвижимости. Ваша задача — установить параметры. Это позволит построить автоматизированную систему: она отследит аномалии и мошенническую деятельность.\n",
    "По каждой квартире на продажу доступны два вида данных. \n",
    "Первые вписаны пользователем, вторые — получены автоматически на основе картографических данных. "
   ]
  },
  {
   "cell_type": "markdown",
   "metadata": {},
   "source": [
    "**Шаг 1. Предобработка данных**\n",
    "Определение и изучение пропущенных значений\n",
    "Заполнение пропусков\n",
    "Приведение данных к нужным типам\n",
    "**Шаг 2. Подсчет и добавление данных в таблицу**\n",
    "1. Цена квадратного метра\n",
    "2. День недели, месяц и год публикации объявления\n",
    "3. Этаж квартиры; варианты — первый, последний, другой\n",
    "4. Соотношение жилой и общей площади, а также отношение площади кухни к общей.\n",
    "**Шаг 3. Исследовательский анализ данных**\n",
    "1. Изучение параметров: площадь, цена, число комнат, высота потолков. Построение гистограмм для каждого параметра.\n",
    "2. Изучение времени продажи квартиры. Построение гистограммы. Расчет среднего и медианы. Описание сколько обычно заниает продажа.\n",
    "3. Какие факторы больше всего влияют на стоимость квартиры? Зависит ли цена от площади, числа комнат, удалённости от центра. Зависимость цены от того, на каком этаже расположена квартира: первом, последнем или другом. Зависимость от даты размещения: дня недели, месяца и года.\n",
    "4. 10 населённых пунктов с наибольшим числом объявлений. Средняя цена квадратного метра в этих населённых пунктах. Населённые пункты с самой высокой и низкой стоимостью жилья. \n",
    "5. Предложения квартир: для каждой квартиры есть информация о расстоянии до центра. Выделение квартир в Санкт-Петербурге (locality_name). Задача — выяснить, какая область входит в центр. Создание столбца с расстоянием до центра в километрах. Средняя цена для каждого километра. Построение графика.\n",
    "6. Выделение сегмента квартир в центре. Анализ территории и изучение следующих параметров: площадь, цена, число комнат, высота потолков. Факторы, которые влияют на стоимость квартиры (число комнат, этаж, удалённость от центра, дата размещения объявления).\n",
    "**Шаг 5. Общий вывод**"
   ]
  },
  {
   "cell_type": "markdown",
   "metadata": {},
   "source": [
    "# Описание данных\n",
    "**airports_nearest** — расстояние до ближайшего аэропорта в метрах (м)\n",
    "\n",
    "**balcony** — число балконов\n",
    "\n",
    "**ceiling_height** — высота потолков (м)\n",
    "\n",
    "**cityCenters_nearest** — расстояние до центра города (м)\n",
    "\n",
    "**days_exposition** — сколько дней было размещено объявление (от публикации до снятия)\n",
    "\n",
    "**first_day_exposition** — дата публикации\n",
    "\n",
    "**floor** — этаж\n",
    "\n",
    "**floors_total** — всего этажей в доме\n",
    "\n",
    "**is_apartment** — апартаменты (булев тип)\n",
    "\n",
    "**kitchen_area** — площадь кухни в квадратных метрах (м²)\n",
    "\n",
    "**last_price** — цена на момент снятия с публикации\n",
    "\n",
    "**living_area** — жилая площадь в квадратных метрах (м²)\n",
    "\n",
    "**locality_name** — название населённого пункта\n",
    "\n",
    "**open_plan** — свободная планировка (булев тип)\n",
    "\n",
    "**parks_around3000** — число парков в радиусе 3 км\n",
    "\n",
    "**parks_nearest** — расстояние до ближайшего парка (м)\n",
    "\n",
    "**ponds_around3000** — число водоёмов в радиусе 3 км\n",
    "\n",
    "**ponds_nearest** — расстояние до ближайшего водоёма (м)\n",
    "\n",
    "**rooms** — число комнат\n",
    "\n",
    "**studio** — квартира-студия (булев тип)\n",
    "\n",
    "**total_area** — площадь квартиры в квадратных метрах (м²)\n",
    "\n",
    "**total_images** — число фотографий квартиры в объявлении\n"
   ]
  },
  {
   "cell_type": "markdown",
   "metadata": {},
   "source": [
    "## Изучение данных из файла"
   ]
  },
  {
   "cell_type": "code",
   "execution_count": 1,
   "metadata": {},
   "outputs": [],
   "source": [
    "import pandas as pd\n",
    "import numpy as np\n",
    "import matplotlib.pyplot as plt\n",
    "from datetime import datetime\n",
    "import seaborn\n",
    "import warnings\n",
    "warnings.filterwarnings(\"ignore\")"
   ]
  },
  {
   "cell_type": "code",
   "execution_count": 2,
   "metadata": {},
   "outputs": [
    {
     "data": {
      "text/html": [
       "<div>\n",
       "<style scoped>\n",
       "    .dataframe tbody tr th:only-of-type {\n",
       "        vertical-align: middle;\n",
       "    }\n",
       "\n",
       "    .dataframe tbody tr th {\n",
       "        vertical-align: top;\n",
       "    }\n",
       "\n",
       "    .dataframe thead th {\n",
       "        text-align: right;\n",
       "    }\n",
       "</style>\n",
       "<table border=\"1\" class=\"dataframe\">\n",
       "  <thead>\n",
       "    <tr style=\"text-align: right;\">\n",
       "      <th></th>\n",
       "      <th>total_images</th>\n",
       "      <th>last_price</th>\n",
       "      <th>total_area</th>\n",
       "      <th>first_day_exposition</th>\n",
       "      <th>rooms</th>\n",
       "      <th>ceiling_height</th>\n",
       "      <th>floors_total</th>\n",
       "      <th>living_area</th>\n",
       "      <th>floor</th>\n",
       "      <th>is_apartment</th>\n",
       "      <th>...</th>\n",
       "      <th>kitchen_area</th>\n",
       "      <th>balcony</th>\n",
       "      <th>locality_name</th>\n",
       "      <th>airports_nearest</th>\n",
       "      <th>cityCenters_nearest</th>\n",
       "      <th>parks_around3000</th>\n",
       "      <th>parks_nearest</th>\n",
       "      <th>ponds_around3000</th>\n",
       "      <th>ponds_nearest</th>\n",
       "      <th>days_exposition</th>\n",
       "    </tr>\n",
       "  </thead>\n",
       "  <tbody>\n",
       "    <tr>\n",
       "      <th>0</th>\n",
       "      <td>20</td>\n",
       "      <td>13000000.0</td>\n",
       "      <td>108.00</td>\n",
       "      <td>2019-03-07T00:00:00</td>\n",
       "      <td>3</td>\n",
       "      <td>2.70</td>\n",
       "      <td>16.0</td>\n",
       "      <td>51.00</td>\n",
       "      <td>8</td>\n",
       "      <td>NaN</td>\n",
       "      <td>...</td>\n",
       "      <td>25.00</td>\n",
       "      <td>NaN</td>\n",
       "      <td>Санкт-Петербург</td>\n",
       "      <td>18863.0</td>\n",
       "      <td>16028.0</td>\n",
       "      <td>1.0</td>\n",
       "      <td>482.0</td>\n",
       "      <td>2.0</td>\n",
       "      <td>755.0</td>\n",
       "      <td>NaN</td>\n",
       "    </tr>\n",
       "    <tr>\n",
       "      <th>1</th>\n",
       "      <td>7</td>\n",
       "      <td>3350000.0</td>\n",
       "      <td>40.40</td>\n",
       "      <td>2018-12-04T00:00:00</td>\n",
       "      <td>1</td>\n",
       "      <td>NaN</td>\n",
       "      <td>11.0</td>\n",
       "      <td>18.60</td>\n",
       "      <td>1</td>\n",
       "      <td>NaN</td>\n",
       "      <td>...</td>\n",
       "      <td>11.00</td>\n",
       "      <td>2.0</td>\n",
       "      <td>посёлок Шушары</td>\n",
       "      <td>12817.0</td>\n",
       "      <td>18603.0</td>\n",
       "      <td>0.0</td>\n",
       "      <td>NaN</td>\n",
       "      <td>0.0</td>\n",
       "      <td>NaN</td>\n",
       "      <td>81.0</td>\n",
       "    </tr>\n",
       "    <tr>\n",
       "      <th>2</th>\n",
       "      <td>10</td>\n",
       "      <td>5196000.0</td>\n",
       "      <td>56.00</td>\n",
       "      <td>2015-08-20T00:00:00</td>\n",
       "      <td>2</td>\n",
       "      <td>NaN</td>\n",
       "      <td>5.0</td>\n",
       "      <td>34.30</td>\n",
       "      <td>4</td>\n",
       "      <td>NaN</td>\n",
       "      <td>...</td>\n",
       "      <td>8.30</td>\n",
       "      <td>0.0</td>\n",
       "      <td>Санкт-Петербург</td>\n",
       "      <td>21741.0</td>\n",
       "      <td>13933.0</td>\n",
       "      <td>1.0</td>\n",
       "      <td>90.0</td>\n",
       "      <td>2.0</td>\n",
       "      <td>574.0</td>\n",
       "      <td>558.0</td>\n",
       "    </tr>\n",
       "    <tr>\n",
       "      <th>3</th>\n",
       "      <td>0</td>\n",
       "      <td>64900000.0</td>\n",
       "      <td>159.00</td>\n",
       "      <td>2015-07-24T00:00:00</td>\n",
       "      <td>3</td>\n",
       "      <td>NaN</td>\n",
       "      <td>14.0</td>\n",
       "      <td>NaN</td>\n",
       "      <td>9</td>\n",
       "      <td>NaN</td>\n",
       "      <td>...</td>\n",
       "      <td>NaN</td>\n",
       "      <td>0.0</td>\n",
       "      <td>Санкт-Петербург</td>\n",
       "      <td>28098.0</td>\n",
       "      <td>6800.0</td>\n",
       "      <td>2.0</td>\n",
       "      <td>84.0</td>\n",
       "      <td>3.0</td>\n",
       "      <td>234.0</td>\n",
       "      <td>424.0</td>\n",
       "    </tr>\n",
       "    <tr>\n",
       "      <th>4</th>\n",
       "      <td>2</td>\n",
       "      <td>10000000.0</td>\n",
       "      <td>100.00</td>\n",
       "      <td>2018-06-19T00:00:00</td>\n",
       "      <td>2</td>\n",
       "      <td>3.03</td>\n",
       "      <td>14.0</td>\n",
       "      <td>32.00</td>\n",
       "      <td>13</td>\n",
       "      <td>NaN</td>\n",
       "      <td>...</td>\n",
       "      <td>41.00</td>\n",
       "      <td>NaN</td>\n",
       "      <td>Санкт-Петербург</td>\n",
       "      <td>31856.0</td>\n",
       "      <td>8098.0</td>\n",
       "      <td>2.0</td>\n",
       "      <td>112.0</td>\n",
       "      <td>1.0</td>\n",
       "      <td>48.0</td>\n",
       "      <td>121.0</td>\n",
       "    </tr>\n",
       "    <tr>\n",
       "      <th>5</th>\n",
       "      <td>10</td>\n",
       "      <td>2890000.0</td>\n",
       "      <td>30.40</td>\n",
       "      <td>2018-09-10T00:00:00</td>\n",
       "      <td>1</td>\n",
       "      <td>NaN</td>\n",
       "      <td>12.0</td>\n",
       "      <td>14.40</td>\n",
       "      <td>5</td>\n",
       "      <td>NaN</td>\n",
       "      <td>...</td>\n",
       "      <td>9.10</td>\n",
       "      <td>NaN</td>\n",
       "      <td>городской посёлок Янино-1</td>\n",
       "      <td>NaN</td>\n",
       "      <td>NaN</td>\n",
       "      <td>NaN</td>\n",
       "      <td>NaN</td>\n",
       "      <td>NaN</td>\n",
       "      <td>NaN</td>\n",
       "      <td>55.0</td>\n",
       "    </tr>\n",
       "    <tr>\n",
       "      <th>6</th>\n",
       "      <td>6</td>\n",
       "      <td>3700000.0</td>\n",
       "      <td>37.30</td>\n",
       "      <td>2017-11-02T00:00:00</td>\n",
       "      <td>1</td>\n",
       "      <td>NaN</td>\n",
       "      <td>26.0</td>\n",
       "      <td>10.60</td>\n",
       "      <td>6</td>\n",
       "      <td>NaN</td>\n",
       "      <td>...</td>\n",
       "      <td>14.40</td>\n",
       "      <td>1.0</td>\n",
       "      <td>посёлок Парголово</td>\n",
       "      <td>52996.0</td>\n",
       "      <td>19143.0</td>\n",
       "      <td>0.0</td>\n",
       "      <td>NaN</td>\n",
       "      <td>0.0</td>\n",
       "      <td>NaN</td>\n",
       "      <td>155.0</td>\n",
       "    </tr>\n",
       "    <tr>\n",
       "      <th>7</th>\n",
       "      <td>5</td>\n",
       "      <td>7915000.0</td>\n",
       "      <td>71.60</td>\n",
       "      <td>2019-04-18T00:00:00</td>\n",
       "      <td>2</td>\n",
       "      <td>NaN</td>\n",
       "      <td>24.0</td>\n",
       "      <td>NaN</td>\n",
       "      <td>22</td>\n",
       "      <td>NaN</td>\n",
       "      <td>...</td>\n",
       "      <td>18.90</td>\n",
       "      <td>2.0</td>\n",
       "      <td>Санкт-Петербург</td>\n",
       "      <td>23982.0</td>\n",
       "      <td>11634.0</td>\n",
       "      <td>0.0</td>\n",
       "      <td>NaN</td>\n",
       "      <td>0.0</td>\n",
       "      <td>NaN</td>\n",
       "      <td>NaN</td>\n",
       "    </tr>\n",
       "    <tr>\n",
       "      <th>8</th>\n",
       "      <td>20</td>\n",
       "      <td>2900000.0</td>\n",
       "      <td>33.16</td>\n",
       "      <td>2018-05-23T00:00:00</td>\n",
       "      <td>1</td>\n",
       "      <td>NaN</td>\n",
       "      <td>27.0</td>\n",
       "      <td>15.43</td>\n",
       "      <td>26</td>\n",
       "      <td>NaN</td>\n",
       "      <td>...</td>\n",
       "      <td>8.81</td>\n",
       "      <td>NaN</td>\n",
       "      <td>посёлок Мурино</td>\n",
       "      <td>NaN</td>\n",
       "      <td>NaN</td>\n",
       "      <td>NaN</td>\n",
       "      <td>NaN</td>\n",
       "      <td>NaN</td>\n",
       "      <td>NaN</td>\n",
       "      <td>189.0</td>\n",
       "    </tr>\n",
       "    <tr>\n",
       "      <th>9</th>\n",
       "      <td>18</td>\n",
       "      <td>5400000.0</td>\n",
       "      <td>61.00</td>\n",
       "      <td>2017-02-26T00:00:00</td>\n",
       "      <td>3</td>\n",
       "      <td>2.50</td>\n",
       "      <td>9.0</td>\n",
       "      <td>43.60</td>\n",
       "      <td>7</td>\n",
       "      <td>NaN</td>\n",
       "      <td>...</td>\n",
       "      <td>6.50</td>\n",
       "      <td>2.0</td>\n",
       "      <td>Санкт-Петербург</td>\n",
       "      <td>50898.0</td>\n",
       "      <td>15008.0</td>\n",
       "      <td>0.0</td>\n",
       "      <td>NaN</td>\n",
       "      <td>0.0</td>\n",
       "      <td>NaN</td>\n",
       "      <td>289.0</td>\n",
       "    </tr>\n",
       "  </tbody>\n",
       "</table>\n",
       "<p>10 rows × 22 columns</p>\n",
       "</div>"
      ],
      "text/plain": [
       "   total_images  last_price  total_area first_day_exposition  rooms  \\\n",
       "0            20  13000000.0      108.00  2019-03-07T00:00:00      3   \n",
       "1             7   3350000.0       40.40  2018-12-04T00:00:00      1   \n",
       "2            10   5196000.0       56.00  2015-08-20T00:00:00      2   \n",
       "3             0  64900000.0      159.00  2015-07-24T00:00:00      3   \n",
       "4             2  10000000.0      100.00  2018-06-19T00:00:00      2   \n",
       "5            10   2890000.0       30.40  2018-09-10T00:00:00      1   \n",
       "6             6   3700000.0       37.30  2017-11-02T00:00:00      1   \n",
       "7             5   7915000.0       71.60  2019-04-18T00:00:00      2   \n",
       "8            20   2900000.0       33.16  2018-05-23T00:00:00      1   \n",
       "9            18   5400000.0       61.00  2017-02-26T00:00:00      3   \n",
       "\n",
       "   ceiling_height  floors_total  living_area  floor is_apartment  ...  \\\n",
       "0            2.70          16.0        51.00      8          NaN  ...   \n",
       "1             NaN          11.0        18.60      1          NaN  ...   \n",
       "2             NaN           5.0        34.30      4          NaN  ...   \n",
       "3             NaN          14.0          NaN      9          NaN  ...   \n",
       "4            3.03          14.0        32.00     13          NaN  ...   \n",
       "5             NaN          12.0        14.40      5          NaN  ...   \n",
       "6             NaN          26.0        10.60      6          NaN  ...   \n",
       "7             NaN          24.0          NaN     22          NaN  ...   \n",
       "8             NaN          27.0        15.43     26          NaN  ...   \n",
       "9            2.50           9.0        43.60      7          NaN  ...   \n",
       "\n",
       "   kitchen_area  balcony              locality_name  airports_nearest  \\\n",
       "0         25.00      NaN            Санкт-Петербург           18863.0   \n",
       "1         11.00      2.0             посёлок Шушары           12817.0   \n",
       "2          8.30      0.0            Санкт-Петербург           21741.0   \n",
       "3           NaN      0.0            Санкт-Петербург           28098.0   \n",
       "4         41.00      NaN            Санкт-Петербург           31856.0   \n",
       "5          9.10      NaN  городской посёлок Янино-1               NaN   \n",
       "6         14.40      1.0          посёлок Парголово           52996.0   \n",
       "7         18.90      2.0            Санкт-Петербург           23982.0   \n",
       "8          8.81      NaN             посёлок Мурино               NaN   \n",
       "9          6.50      2.0            Санкт-Петербург           50898.0   \n",
       "\n",
       "  cityCenters_nearest  parks_around3000  parks_nearest  ponds_around3000  \\\n",
       "0             16028.0               1.0          482.0               2.0   \n",
       "1             18603.0               0.0            NaN               0.0   \n",
       "2             13933.0               1.0           90.0               2.0   \n",
       "3              6800.0               2.0           84.0               3.0   \n",
       "4              8098.0               2.0          112.0               1.0   \n",
       "5                 NaN               NaN            NaN               NaN   \n",
       "6             19143.0               0.0            NaN               0.0   \n",
       "7             11634.0               0.0            NaN               0.0   \n",
       "8                 NaN               NaN            NaN               NaN   \n",
       "9             15008.0               0.0            NaN               0.0   \n",
       "\n",
       "   ponds_nearest  days_exposition  \n",
       "0          755.0              NaN  \n",
       "1            NaN             81.0  \n",
       "2          574.0            558.0  \n",
       "3          234.0            424.0  \n",
       "4           48.0            121.0  \n",
       "5            NaN             55.0  \n",
       "6            NaN            155.0  \n",
       "7            NaN              NaN  \n",
       "8            NaN            189.0  \n",
       "9            NaN            289.0  \n",
       "\n",
       "[10 rows x 22 columns]"
      ]
     },
     "execution_count": 2,
     "metadata": {},
     "output_type": "execute_result"
    }
   ],
   "source": [
    "try:\n",
    "    data = pd.read_csv('/Users/maria/Documents/Практикум/проект 3/real_estate_data.csv', sep='\\t')\n",
    "except:\n",
    "    data = pd.read_csv('/datasets/real_estate_data.csv')\n",
    "    \n",
    "#просмотр первых 10-ти строк датасета\n",
    "data.head(10)"
   ]
  },
  {
   "cell_type": "code",
   "execution_count": 3,
   "metadata": {
    "scrolled": true
   },
   "outputs": [
    {
     "data": {
      "text/html": [
       "<div>\n",
       "<style scoped>\n",
       "    .dataframe tbody tr th:only-of-type {\n",
       "        vertical-align: middle;\n",
       "    }\n",
       "\n",
       "    .dataframe tbody tr th {\n",
       "        vertical-align: top;\n",
       "    }\n",
       "\n",
       "    .dataframe thead th {\n",
       "        text-align: right;\n",
       "    }\n",
       "</style>\n",
       "<table border=\"1\" class=\"dataframe\">\n",
       "  <thead>\n",
       "    <tr style=\"text-align: right;\">\n",
       "      <th></th>\n",
       "      <th>total_images</th>\n",
       "      <th>last_price</th>\n",
       "      <th>total_area</th>\n",
       "      <th>first_day_exposition</th>\n",
       "      <th>rooms</th>\n",
       "      <th>ceiling_height</th>\n",
       "      <th>floors_total</th>\n",
       "      <th>living_area</th>\n",
       "      <th>floor</th>\n",
       "      <th>is_apartment</th>\n",
       "      <th>...</th>\n",
       "      <th>kitchen_area</th>\n",
       "      <th>balcony</th>\n",
       "      <th>locality_name</th>\n",
       "      <th>airports_nearest</th>\n",
       "      <th>cityCenters_nearest</th>\n",
       "      <th>parks_around3000</th>\n",
       "      <th>parks_nearest</th>\n",
       "      <th>ponds_around3000</th>\n",
       "      <th>ponds_nearest</th>\n",
       "      <th>days_exposition</th>\n",
       "    </tr>\n",
       "  </thead>\n",
       "  <tbody>\n",
       "    <tr>\n",
       "      <th>23689</th>\n",
       "      <td>13</td>\n",
       "      <td>3550000.0</td>\n",
       "      <td>35.30</td>\n",
       "      <td>2018-02-28T00:00:00</td>\n",
       "      <td>1</td>\n",
       "      <td>2.86</td>\n",
       "      <td>15.0</td>\n",
       "      <td>16.3</td>\n",
       "      <td>4</td>\n",
       "      <td>NaN</td>\n",
       "      <td>...</td>\n",
       "      <td>9.10</td>\n",
       "      <td>2.0</td>\n",
       "      <td>Санкт-Петербург</td>\n",
       "      <td>17284.0</td>\n",
       "      <td>16081.0</td>\n",
       "      <td>1.0</td>\n",
       "      <td>353.0</td>\n",
       "      <td>2.0</td>\n",
       "      <td>652.0</td>\n",
       "      <td>29.0</td>\n",
       "    </tr>\n",
       "    <tr>\n",
       "      <th>23690</th>\n",
       "      <td>3</td>\n",
       "      <td>5500000.0</td>\n",
       "      <td>52.00</td>\n",
       "      <td>2018-07-19T00:00:00</td>\n",
       "      <td>2</td>\n",
       "      <td>NaN</td>\n",
       "      <td>5.0</td>\n",
       "      <td>31.0</td>\n",
       "      <td>2</td>\n",
       "      <td>NaN</td>\n",
       "      <td>...</td>\n",
       "      <td>6.00</td>\n",
       "      <td>NaN</td>\n",
       "      <td>Санкт-Петербург</td>\n",
       "      <td>20151.0</td>\n",
       "      <td>6263.0</td>\n",
       "      <td>1.0</td>\n",
       "      <td>300.0</td>\n",
       "      <td>0.0</td>\n",
       "      <td>NaN</td>\n",
       "      <td>15.0</td>\n",
       "    </tr>\n",
       "    <tr>\n",
       "      <th>23691</th>\n",
       "      <td>11</td>\n",
       "      <td>9470000.0</td>\n",
       "      <td>72.90</td>\n",
       "      <td>2016-10-13T00:00:00</td>\n",
       "      <td>2</td>\n",
       "      <td>2.75</td>\n",
       "      <td>25.0</td>\n",
       "      <td>40.3</td>\n",
       "      <td>7</td>\n",
       "      <td>NaN</td>\n",
       "      <td>...</td>\n",
       "      <td>10.60</td>\n",
       "      <td>1.0</td>\n",
       "      <td>Санкт-Петербург</td>\n",
       "      <td>19424.0</td>\n",
       "      <td>4489.0</td>\n",
       "      <td>0.0</td>\n",
       "      <td>NaN</td>\n",
       "      <td>1.0</td>\n",
       "      <td>806.0</td>\n",
       "      <td>519.0</td>\n",
       "    </tr>\n",
       "    <tr>\n",
       "      <th>23692</th>\n",
       "      <td>2</td>\n",
       "      <td>1350000.0</td>\n",
       "      <td>30.00</td>\n",
       "      <td>2017-07-07T00:00:00</td>\n",
       "      <td>1</td>\n",
       "      <td>NaN</td>\n",
       "      <td>5.0</td>\n",
       "      <td>17.5</td>\n",
       "      <td>4</td>\n",
       "      <td>NaN</td>\n",
       "      <td>...</td>\n",
       "      <td>6.00</td>\n",
       "      <td>NaN</td>\n",
       "      <td>Тихвин</td>\n",
       "      <td>NaN</td>\n",
       "      <td>NaN</td>\n",
       "      <td>NaN</td>\n",
       "      <td>NaN</td>\n",
       "      <td>NaN</td>\n",
       "      <td>NaN</td>\n",
       "      <td>413.0</td>\n",
       "    </tr>\n",
       "    <tr>\n",
       "      <th>23693</th>\n",
       "      <td>9</td>\n",
       "      <td>4600000.0</td>\n",
       "      <td>62.40</td>\n",
       "      <td>2016-08-05T00:00:00</td>\n",
       "      <td>3</td>\n",
       "      <td>2.60</td>\n",
       "      <td>9.0</td>\n",
       "      <td>40.0</td>\n",
       "      <td>8</td>\n",
       "      <td>NaN</td>\n",
       "      <td>...</td>\n",
       "      <td>8.00</td>\n",
       "      <td>0.0</td>\n",
       "      <td>Петергоф</td>\n",
       "      <td>45602.0</td>\n",
       "      <td>34104.0</td>\n",
       "      <td>1.0</td>\n",
       "      <td>352.0</td>\n",
       "      <td>1.0</td>\n",
       "      <td>675.0</td>\n",
       "      <td>239.0</td>\n",
       "    </tr>\n",
       "    <tr>\n",
       "      <th>23694</th>\n",
       "      <td>9</td>\n",
       "      <td>9700000.0</td>\n",
       "      <td>133.81</td>\n",
       "      <td>2017-03-21T00:00:00</td>\n",
       "      <td>3</td>\n",
       "      <td>3.70</td>\n",
       "      <td>5.0</td>\n",
       "      <td>73.3</td>\n",
       "      <td>3</td>\n",
       "      <td>NaN</td>\n",
       "      <td>...</td>\n",
       "      <td>13.83</td>\n",
       "      <td>NaN</td>\n",
       "      <td>Санкт-Петербург</td>\n",
       "      <td>24665.0</td>\n",
       "      <td>4232.0</td>\n",
       "      <td>1.0</td>\n",
       "      <td>796.0</td>\n",
       "      <td>3.0</td>\n",
       "      <td>381.0</td>\n",
       "      <td>NaN</td>\n",
       "    </tr>\n",
       "    <tr>\n",
       "      <th>23695</th>\n",
       "      <td>14</td>\n",
       "      <td>3100000.0</td>\n",
       "      <td>59.00</td>\n",
       "      <td>2018-01-15T00:00:00</td>\n",
       "      <td>3</td>\n",
       "      <td>NaN</td>\n",
       "      <td>5.0</td>\n",
       "      <td>38.0</td>\n",
       "      <td>4</td>\n",
       "      <td>NaN</td>\n",
       "      <td>...</td>\n",
       "      <td>8.50</td>\n",
       "      <td>NaN</td>\n",
       "      <td>Тосно</td>\n",
       "      <td>NaN</td>\n",
       "      <td>NaN</td>\n",
       "      <td>NaN</td>\n",
       "      <td>NaN</td>\n",
       "      <td>NaN</td>\n",
       "      <td>NaN</td>\n",
       "      <td>45.0</td>\n",
       "    </tr>\n",
       "    <tr>\n",
       "      <th>23696</th>\n",
       "      <td>18</td>\n",
       "      <td>2500000.0</td>\n",
       "      <td>56.70</td>\n",
       "      <td>2018-02-11T00:00:00</td>\n",
       "      <td>2</td>\n",
       "      <td>NaN</td>\n",
       "      <td>3.0</td>\n",
       "      <td>29.7</td>\n",
       "      <td>1</td>\n",
       "      <td>NaN</td>\n",
       "      <td>...</td>\n",
       "      <td>NaN</td>\n",
       "      <td>NaN</td>\n",
       "      <td>село Рождествено</td>\n",
       "      <td>NaN</td>\n",
       "      <td>NaN</td>\n",
       "      <td>NaN</td>\n",
       "      <td>NaN</td>\n",
       "      <td>NaN</td>\n",
       "      <td>NaN</td>\n",
       "      <td>NaN</td>\n",
       "    </tr>\n",
       "    <tr>\n",
       "      <th>23697</th>\n",
       "      <td>13</td>\n",
       "      <td>11475000.0</td>\n",
       "      <td>76.75</td>\n",
       "      <td>2017-03-28T00:00:00</td>\n",
       "      <td>2</td>\n",
       "      <td>3.00</td>\n",
       "      <td>17.0</td>\n",
       "      <td>NaN</td>\n",
       "      <td>12</td>\n",
       "      <td>NaN</td>\n",
       "      <td>...</td>\n",
       "      <td>23.30</td>\n",
       "      <td>2.0</td>\n",
       "      <td>Санкт-Петербург</td>\n",
       "      <td>39140.0</td>\n",
       "      <td>10364.0</td>\n",
       "      <td>2.0</td>\n",
       "      <td>173.0</td>\n",
       "      <td>3.0</td>\n",
       "      <td>196.0</td>\n",
       "      <td>602.0</td>\n",
       "    </tr>\n",
       "    <tr>\n",
       "      <th>23698</th>\n",
       "      <td>4</td>\n",
       "      <td>1350000.0</td>\n",
       "      <td>32.30</td>\n",
       "      <td>2017-07-21T00:00:00</td>\n",
       "      <td>1</td>\n",
       "      <td>2.50</td>\n",
       "      <td>5.0</td>\n",
       "      <td>12.3</td>\n",
       "      <td>1</td>\n",
       "      <td>NaN</td>\n",
       "      <td>...</td>\n",
       "      <td>9.00</td>\n",
       "      <td>NaN</td>\n",
       "      <td>поселок Новый Учхоз</td>\n",
       "      <td>NaN</td>\n",
       "      <td>NaN</td>\n",
       "      <td>NaN</td>\n",
       "      <td>NaN</td>\n",
       "      <td>NaN</td>\n",
       "      <td>NaN</td>\n",
       "      <td>NaN</td>\n",
       "    </tr>\n",
       "  </tbody>\n",
       "</table>\n",
       "<p>10 rows × 22 columns</p>\n",
       "</div>"
      ],
      "text/plain": [
       "       total_images  last_price  total_area first_day_exposition  rooms  \\\n",
       "23689            13   3550000.0       35.30  2018-02-28T00:00:00      1   \n",
       "23690             3   5500000.0       52.00  2018-07-19T00:00:00      2   \n",
       "23691            11   9470000.0       72.90  2016-10-13T00:00:00      2   \n",
       "23692             2   1350000.0       30.00  2017-07-07T00:00:00      1   \n",
       "23693             9   4600000.0       62.40  2016-08-05T00:00:00      3   \n",
       "23694             9   9700000.0      133.81  2017-03-21T00:00:00      3   \n",
       "23695            14   3100000.0       59.00  2018-01-15T00:00:00      3   \n",
       "23696            18   2500000.0       56.70  2018-02-11T00:00:00      2   \n",
       "23697            13  11475000.0       76.75  2017-03-28T00:00:00      2   \n",
       "23698             4   1350000.0       32.30  2017-07-21T00:00:00      1   \n",
       "\n",
       "       ceiling_height  floors_total  living_area  floor is_apartment  ...  \\\n",
       "23689            2.86          15.0         16.3      4          NaN  ...   \n",
       "23690             NaN           5.0         31.0      2          NaN  ...   \n",
       "23691            2.75          25.0         40.3      7          NaN  ...   \n",
       "23692             NaN           5.0         17.5      4          NaN  ...   \n",
       "23693            2.60           9.0         40.0      8          NaN  ...   \n",
       "23694            3.70           5.0         73.3      3          NaN  ...   \n",
       "23695             NaN           5.0         38.0      4          NaN  ...   \n",
       "23696             NaN           3.0         29.7      1          NaN  ...   \n",
       "23697            3.00          17.0          NaN     12          NaN  ...   \n",
       "23698            2.50           5.0         12.3      1          NaN  ...   \n",
       "\n",
       "       kitchen_area  balcony        locality_name  airports_nearest  \\\n",
       "23689          9.10      2.0      Санкт-Петербург           17284.0   \n",
       "23690          6.00      NaN      Санкт-Петербург           20151.0   \n",
       "23691         10.60      1.0      Санкт-Петербург           19424.0   \n",
       "23692          6.00      NaN               Тихвин               NaN   \n",
       "23693          8.00      0.0             Петергоф           45602.0   \n",
       "23694         13.83      NaN      Санкт-Петербург           24665.0   \n",
       "23695          8.50      NaN                Тосно               NaN   \n",
       "23696           NaN      NaN     село Рождествено               NaN   \n",
       "23697         23.30      2.0      Санкт-Петербург           39140.0   \n",
       "23698          9.00      NaN  поселок Новый Учхоз               NaN   \n",
       "\n",
       "      cityCenters_nearest  parks_around3000  parks_nearest  ponds_around3000  \\\n",
       "23689             16081.0               1.0          353.0               2.0   \n",
       "23690              6263.0               1.0          300.0               0.0   \n",
       "23691              4489.0               0.0            NaN               1.0   \n",
       "23692                 NaN               NaN            NaN               NaN   \n",
       "23693             34104.0               1.0          352.0               1.0   \n",
       "23694              4232.0               1.0          796.0               3.0   \n",
       "23695                 NaN               NaN            NaN               NaN   \n",
       "23696                 NaN               NaN            NaN               NaN   \n",
       "23697             10364.0               2.0          173.0               3.0   \n",
       "23698                 NaN               NaN            NaN               NaN   \n",
       "\n",
       "       ponds_nearest  days_exposition  \n",
       "23689          652.0             29.0  \n",
       "23690            NaN             15.0  \n",
       "23691          806.0            519.0  \n",
       "23692            NaN            413.0  \n",
       "23693          675.0            239.0  \n",
       "23694          381.0              NaN  \n",
       "23695            NaN             45.0  \n",
       "23696            NaN              NaN  \n",
       "23697          196.0            602.0  \n",
       "23698            NaN              NaN  \n",
       "\n",
       "[10 rows x 22 columns]"
      ]
     },
     "execution_count": 3,
     "metadata": {},
     "output_type": "execute_result"
    }
   ],
   "source": [
    "#просмотр 10-ти последних строк датасета\n",
    "data.tail(10)"
   ]
  },
  {
   "cell_type": "code",
   "execution_count": 4,
   "metadata": {},
   "outputs": [
    {
     "name": "stdout",
     "output_type": "stream",
     "text": [
      "<class 'pandas.core.frame.DataFrame'>\n",
      "RangeIndex: 23699 entries, 0 to 23698\n",
      "Data columns (total 22 columns):\n",
      " #   Column                Non-Null Count  Dtype  \n",
      "---  ------                --------------  -----  \n",
      " 0   total_images          23699 non-null  int64  \n",
      " 1   last_price            23699 non-null  float64\n",
      " 2   total_area            23699 non-null  float64\n",
      " 3   first_day_exposition  23699 non-null  object \n",
      " 4   rooms                 23699 non-null  int64  \n",
      " 5   ceiling_height        14504 non-null  float64\n",
      " 6   floors_total          23613 non-null  float64\n",
      " 7   living_area           21796 non-null  float64\n",
      " 8   floor                 23699 non-null  int64  \n",
      " 9   is_apartment          2775 non-null   object \n",
      " 10  studio                23699 non-null  bool   \n",
      " 11  open_plan             23699 non-null  bool   \n",
      " 12  kitchen_area          21421 non-null  float64\n",
      " 13  balcony               12180 non-null  float64\n",
      " 14  locality_name         23650 non-null  object \n",
      " 15  airports_nearest      18157 non-null  float64\n",
      " 16  cityCenters_nearest   18180 non-null  float64\n",
      " 17  parks_around3000      18181 non-null  float64\n",
      " 18  parks_nearest         8079 non-null   float64\n",
      " 19  ponds_around3000      18181 non-null  float64\n",
      " 20  ponds_nearest         9110 non-null   float64\n",
      " 21  days_exposition       20518 non-null  float64\n",
      "dtypes: bool(2), float64(14), int64(3), object(3)\n",
      "memory usage: 3.7+ MB\n"
     ]
    }
   ],
   "source": [
    "#просмотр общей информации о датасете\n",
    "data.info()"
   ]
  },
  {
   "cell_type": "code",
   "execution_count": 5,
   "metadata": {},
   "outputs": [
    {
     "data": {
      "text/plain": [
       "total_images                0\n",
       "last_price                  0\n",
       "total_area                  0\n",
       "first_day_exposition        0\n",
       "rooms                       0\n",
       "ceiling_height           9195\n",
       "floors_total               86\n",
       "living_area              1903\n",
       "floor                       0\n",
       "is_apartment            20924\n",
       "studio                      0\n",
       "open_plan                   0\n",
       "kitchen_area             2278\n",
       "balcony                 11519\n",
       "locality_name              49\n",
       "airports_nearest         5542\n",
       "cityCenters_nearest      5519\n",
       "parks_around3000         5518\n",
       "parks_nearest           15620\n",
       "ponds_around3000         5518\n",
       "ponds_nearest           14589\n",
       "days_exposition          3181\n",
       "dtype: int64"
      ]
     },
     "execution_count": 5,
     "metadata": {},
     "output_type": "execute_result"
    }
   ],
   "source": [
    "#поиск пропущенных значений\n",
    "data.isnull().sum()"
   ]
  },
  {
   "cell_type": "code",
   "execution_count": 6,
   "metadata": {},
   "outputs": [
    {
     "data": {
      "text/html": [
       "<style type=\"text/css\">\n",
       "#T_3971b_row0_col0, #T_3971b_row1_col0, #T_3971b_row2_col0, #T_3971b_row3_col0, #T_3971b_row4_col0, #T_3971b_row8_col0, #T_3971b_row10_col0, #T_3971b_row11_col0, #T_3971b_row14_col0 {\n",
       "  background-color: #3b4cc0;\n",
       "  color: #f1f1f1;\n",
       "}\n",
       "#T_3971b_row5_col0 {\n",
       "  background-color: #ccd9ed;\n",
       "  color: #000000;\n",
       "}\n",
       "#T_3971b_row6_col0 {\n",
       "  background-color: #3c4ec2;\n",
       "  color: #f1f1f1;\n",
       "}\n",
       "#T_3971b_row7_col0 {\n",
       "  background-color: #5673e0;\n",
       "  color: #f1f1f1;\n",
       "}\n",
       "#T_3971b_row9_col0 {\n",
       "  background-color: #b40426;\n",
       "  color: #f1f1f1;\n",
       "}\n",
       "#T_3971b_row12_col0 {\n",
       "  background-color: #5b7ae5;\n",
       "  color: #f1f1f1;\n",
       "}\n",
       "#T_3971b_row13_col0 {\n",
       "  background-color: #e9d5cb;\n",
       "  color: #000000;\n",
       "}\n",
       "#T_3971b_row15_col0, #T_3971b_row16_col0, #T_3971b_row17_col0, #T_3971b_row19_col0 {\n",
       "  background-color: #92b4fe;\n",
       "  color: #000000;\n",
       "}\n",
       "#T_3971b_row18_col0 {\n",
       "  background-color: #f49a7b;\n",
       "  color: #000000;\n",
       "}\n",
       "#T_3971b_row20_col0 {\n",
       "  background-color: #f7ad90;\n",
       "  color: #000000;\n",
       "}\n",
       "#T_3971b_row21_col0 {\n",
       "  background-color: #6a8bef;\n",
       "  color: #f1f1f1;\n",
       "}\n",
       "</style>\n",
       "<table id=\"T_3971b_\">\n",
       "  <thead>\n",
       "    <tr>\n",
       "      <th class=\"blank level0\" >&nbsp;</th>\n",
       "      <th class=\"col_heading level0 col0\" >NaNs, %</th>\n",
       "    </tr>\n",
       "  </thead>\n",
       "  <tbody>\n",
       "    <tr>\n",
       "      <th id=\"T_3971b_level0_row0\" class=\"row_heading level0 row0\" >total_images</th>\n",
       "      <td id=\"T_3971b_row0_col0\" class=\"data row0 col0\" >0.00</td>\n",
       "    </tr>\n",
       "    <tr>\n",
       "      <th id=\"T_3971b_level0_row1\" class=\"row_heading level0 row1\" >last_price</th>\n",
       "      <td id=\"T_3971b_row1_col0\" class=\"data row1 col0\" >0.00</td>\n",
       "    </tr>\n",
       "    <tr>\n",
       "      <th id=\"T_3971b_level0_row2\" class=\"row_heading level0 row2\" >total_area</th>\n",
       "      <td id=\"T_3971b_row2_col0\" class=\"data row2 col0\" >0.00</td>\n",
       "    </tr>\n",
       "    <tr>\n",
       "      <th id=\"T_3971b_level0_row3\" class=\"row_heading level0 row3\" >first_day_exposition</th>\n",
       "      <td id=\"T_3971b_row3_col0\" class=\"data row3 col0\" >0.00</td>\n",
       "    </tr>\n",
       "    <tr>\n",
       "      <th id=\"T_3971b_level0_row4\" class=\"row_heading level0 row4\" >rooms</th>\n",
       "      <td id=\"T_3971b_row4_col0\" class=\"data row4 col0\" >0.00</td>\n",
       "    </tr>\n",
       "    <tr>\n",
       "      <th id=\"T_3971b_level0_row5\" class=\"row_heading level0 row5\" >ceiling_height</th>\n",
       "      <td id=\"T_3971b_row5_col0\" class=\"data row5 col0\" >38.80</td>\n",
       "    </tr>\n",
       "    <tr>\n",
       "      <th id=\"T_3971b_level0_row6\" class=\"row_heading level0 row6\" >floors_total</th>\n",
       "      <td id=\"T_3971b_row6_col0\" class=\"data row6 col0\" >0.36</td>\n",
       "    </tr>\n",
       "    <tr>\n",
       "      <th id=\"T_3971b_level0_row7\" class=\"row_heading level0 row7\" >living_area</th>\n",
       "      <td id=\"T_3971b_row7_col0\" class=\"data row7 col0\" >8.03</td>\n",
       "    </tr>\n",
       "    <tr>\n",
       "      <th id=\"T_3971b_level0_row8\" class=\"row_heading level0 row8\" >floor</th>\n",
       "      <td id=\"T_3971b_row8_col0\" class=\"data row8 col0\" >0.00</td>\n",
       "    </tr>\n",
       "    <tr>\n",
       "      <th id=\"T_3971b_level0_row9\" class=\"row_heading level0 row9\" >is_apartment</th>\n",
       "      <td id=\"T_3971b_row9_col0\" class=\"data row9 col0\" >88.29</td>\n",
       "    </tr>\n",
       "    <tr>\n",
       "      <th id=\"T_3971b_level0_row10\" class=\"row_heading level0 row10\" >studio</th>\n",
       "      <td id=\"T_3971b_row10_col0\" class=\"data row10 col0\" >0.00</td>\n",
       "    </tr>\n",
       "    <tr>\n",
       "      <th id=\"T_3971b_level0_row11\" class=\"row_heading level0 row11\" >open_plan</th>\n",
       "      <td id=\"T_3971b_row11_col0\" class=\"data row11 col0\" >0.00</td>\n",
       "    </tr>\n",
       "    <tr>\n",
       "      <th id=\"T_3971b_level0_row12\" class=\"row_heading level0 row12\" >kitchen_area</th>\n",
       "      <td id=\"T_3971b_row12_col0\" class=\"data row12 col0\" >9.61</td>\n",
       "    </tr>\n",
       "    <tr>\n",
       "      <th id=\"T_3971b_level0_row13\" class=\"row_heading level0 row13\" >balcony</th>\n",
       "      <td id=\"T_3971b_row13_col0\" class=\"data row13 col0\" >48.61</td>\n",
       "    </tr>\n",
       "    <tr>\n",
       "      <th id=\"T_3971b_level0_row14\" class=\"row_heading level0 row14\" >locality_name</th>\n",
       "      <td id=\"T_3971b_row14_col0\" class=\"data row14 col0\" >0.21</td>\n",
       "    </tr>\n",
       "    <tr>\n",
       "      <th id=\"T_3971b_level0_row15\" class=\"row_heading level0 row15\" >airports_nearest</th>\n",
       "      <td id=\"T_3971b_row15_col0\" class=\"data row15 col0\" >23.38</td>\n",
       "    </tr>\n",
       "    <tr>\n",
       "      <th id=\"T_3971b_level0_row16\" class=\"row_heading level0 row16\" >cityCenters_nearest</th>\n",
       "      <td id=\"T_3971b_row16_col0\" class=\"data row16 col0\" >23.29</td>\n",
       "    </tr>\n",
       "    <tr>\n",
       "      <th id=\"T_3971b_level0_row17\" class=\"row_heading level0 row17\" >parks_around3000</th>\n",
       "      <td id=\"T_3971b_row17_col0\" class=\"data row17 col0\" >23.28</td>\n",
       "    </tr>\n",
       "    <tr>\n",
       "      <th id=\"T_3971b_level0_row18\" class=\"row_heading level0 row18\" >parks_nearest</th>\n",
       "      <td id=\"T_3971b_row18_col0\" class=\"data row18 col0\" >65.91</td>\n",
       "    </tr>\n",
       "    <tr>\n",
       "      <th id=\"T_3971b_level0_row19\" class=\"row_heading level0 row19\" >ponds_around3000</th>\n",
       "      <td id=\"T_3971b_row19_col0\" class=\"data row19 col0\" >23.28</td>\n",
       "    </tr>\n",
       "    <tr>\n",
       "      <th id=\"T_3971b_level0_row20\" class=\"row_heading level0 row20\" >ponds_nearest</th>\n",
       "      <td id=\"T_3971b_row20_col0\" class=\"data row20 col0\" >61.56</td>\n",
       "    </tr>\n",
       "    <tr>\n",
       "      <th id=\"T_3971b_level0_row21\" class=\"row_heading level0 row21\" >days_exposition</th>\n",
       "      <td id=\"T_3971b_row21_col0\" class=\"data row21 col0\" >13.42</td>\n",
       "    </tr>\n",
       "  </tbody>\n",
       "</table>\n"
      ],
      "text/plain": [
       "<pandas.io.formats.style.Styler at 0x7fa5d4bca9d0>"
      ]
     },
     "metadata": {},
     "output_type": "display_data"
    }
   ],
   "source": [
    "#визуализация процентного соотношения пропусков\n",
    "display(pd.DataFrame(round((data.isna().mean()*100),2), columns=['NaNs, %']).style.format(\n",
    "    '{:.2f}').background_gradient('coolwarm'))"
   ]
  },
  {
   "cell_type": "markdown",
   "metadata": {},
   "source": [
    "Пропуски содержатся в нескольких столбцах таблицы, которые необходимы для проведения исследования, соответственно, им требуется дополнительная обработка."
   ]
  },
  {
   "cell_type": "code",
   "execution_count": 7,
   "metadata": {
    "scrolled": true
   },
   "outputs": [
    {
     "data": {
      "text/html": [
       "<div>\n",
       "<style scoped>\n",
       "    .dataframe tbody tr th:only-of-type {\n",
       "        vertical-align: middle;\n",
       "    }\n",
       "\n",
       "    .dataframe tbody tr th {\n",
       "        vertical-align: top;\n",
       "    }\n",
       "\n",
       "    .dataframe thead th {\n",
       "        text-align: right;\n",
       "    }\n",
       "</style>\n",
       "<table border=\"1\" class=\"dataframe\">\n",
       "  <thead>\n",
       "    <tr style=\"text-align: right;\">\n",
       "      <th></th>\n",
       "      <th>total_images</th>\n",
       "      <th>last_price</th>\n",
       "      <th>total_area</th>\n",
       "      <th>rooms</th>\n",
       "      <th>ceiling_height</th>\n",
       "      <th>floors_total</th>\n",
       "      <th>living_area</th>\n",
       "      <th>floor</th>\n",
       "      <th>kitchen_area</th>\n",
       "      <th>balcony</th>\n",
       "      <th>airports_nearest</th>\n",
       "      <th>cityCenters_nearest</th>\n",
       "      <th>parks_around3000</th>\n",
       "      <th>parks_nearest</th>\n",
       "      <th>ponds_around3000</th>\n",
       "      <th>ponds_nearest</th>\n",
       "      <th>days_exposition</th>\n",
       "    </tr>\n",
       "  </thead>\n",
       "  <tbody>\n",
       "    <tr>\n",
       "      <th>count</th>\n",
       "      <td>23699.000000</td>\n",
       "      <td>2.369900e+04</td>\n",
       "      <td>23699.000000</td>\n",
       "      <td>23699.000000</td>\n",
       "      <td>14504.000000</td>\n",
       "      <td>23613.000000</td>\n",
       "      <td>21796.000000</td>\n",
       "      <td>23699.000000</td>\n",
       "      <td>21421.000000</td>\n",
       "      <td>12180.000000</td>\n",
       "      <td>18157.000000</td>\n",
       "      <td>18180.000000</td>\n",
       "      <td>18181.000000</td>\n",
       "      <td>8079.000000</td>\n",
       "      <td>18181.000000</td>\n",
       "      <td>9110.000000</td>\n",
       "      <td>20518.000000</td>\n",
       "    </tr>\n",
       "    <tr>\n",
       "      <th>mean</th>\n",
       "      <td>9.858475</td>\n",
       "      <td>6.541549e+06</td>\n",
       "      <td>60.348651</td>\n",
       "      <td>2.070636</td>\n",
       "      <td>2.771499</td>\n",
       "      <td>10.673824</td>\n",
       "      <td>34.457852</td>\n",
       "      <td>5.892358</td>\n",
       "      <td>10.569807</td>\n",
       "      <td>1.150082</td>\n",
       "      <td>28793.672193</td>\n",
       "      <td>14191.277833</td>\n",
       "      <td>0.611408</td>\n",
       "      <td>490.804555</td>\n",
       "      <td>0.770255</td>\n",
       "      <td>517.980900</td>\n",
       "      <td>180.888634</td>\n",
       "    </tr>\n",
       "    <tr>\n",
       "      <th>std</th>\n",
       "      <td>5.682529</td>\n",
       "      <td>1.088701e+07</td>\n",
       "      <td>35.654083</td>\n",
       "      <td>1.078405</td>\n",
       "      <td>1.261056</td>\n",
       "      <td>6.597173</td>\n",
       "      <td>22.030445</td>\n",
       "      <td>4.885249</td>\n",
       "      <td>5.905438</td>\n",
       "      <td>1.071300</td>\n",
       "      <td>12630.880622</td>\n",
       "      <td>8608.386210</td>\n",
       "      <td>0.802074</td>\n",
       "      <td>342.317995</td>\n",
       "      <td>0.938346</td>\n",
       "      <td>277.720643</td>\n",
       "      <td>219.727988</td>\n",
       "    </tr>\n",
       "    <tr>\n",
       "      <th>min</th>\n",
       "      <td>0.000000</td>\n",
       "      <td>1.219000e+04</td>\n",
       "      <td>12.000000</td>\n",
       "      <td>0.000000</td>\n",
       "      <td>1.000000</td>\n",
       "      <td>1.000000</td>\n",
       "      <td>2.000000</td>\n",
       "      <td>1.000000</td>\n",
       "      <td>1.300000</td>\n",
       "      <td>0.000000</td>\n",
       "      <td>0.000000</td>\n",
       "      <td>181.000000</td>\n",
       "      <td>0.000000</td>\n",
       "      <td>1.000000</td>\n",
       "      <td>0.000000</td>\n",
       "      <td>13.000000</td>\n",
       "      <td>1.000000</td>\n",
       "    </tr>\n",
       "    <tr>\n",
       "      <th>25%</th>\n",
       "      <td>6.000000</td>\n",
       "      <td>3.400000e+06</td>\n",
       "      <td>40.000000</td>\n",
       "      <td>1.000000</td>\n",
       "      <td>2.520000</td>\n",
       "      <td>5.000000</td>\n",
       "      <td>18.600000</td>\n",
       "      <td>2.000000</td>\n",
       "      <td>7.000000</td>\n",
       "      <td>0.000000</td>\n",
       "      <td>18585.000000</td>\n",
       "      <td>9238.000000</td>\n",
       "      <td>0.000000</td>\n",
       "      <td>288.000000</td>\n",
       "      <td>0.000000</td>\n",
       "      <td>294.000000</td>\n",
       "      <td>45.000000</td>\n",
       "    </tr>\n",
       "    <tr>\n",
       "      <th>50%</th>\n",
       "      <td>9.000000</td>\n",
       "      <td>4.650000e+06</td>\n",
       "      <td>52.000000</td>\n",
       "      <td>2.000000</td>\n",
       "      <td>2.650000</td>\n",
       "      <td>9.000000</td>\n",
       "      <td>30.000000</td>\n",
       "      <td>4.000000</td>\n",
       "      <td>9.100000</td>\n",
       "      <td>1.000000</td>\n",
       "      <td>26726.000000</td>\n",
       "      <td>13098.500000</td>\n",
       "      <td>0.000000</td>\n",
       "      <td>455.000000</td>\n",
       "      <td>1.000000</td>\n",
       "      <td>502.000000</td>\n",
       "      <td>95.000000</td>\n",
       "    </tr>\n",
       "    <tr>\n",
       "      <th>75%</th>\n",
       "      <td>14.000000</td>\n",
       "      <td>6.800000e+06</td>\n",
       "      <td>69.900000</td>\n",
       "      <td>3.000000</td>\n",
       "      <td>2.800000</td>\n",
       "      <td>16.000000</td>\n",
       "      <td>42.300000</td>\n",
       "      <td>8.000000</td>\n",
       "      <td>12.000000</td>\n",
       "      <td>2.000000</td>\n",
       "      <td>37273.000000</td>\n",
       "      <td>16293.000000</td>\n",
       "      <td>1.000000</td>\n",
       "      <td>612.000000</td>\n",
       "      <td>1.000000</td>\n",
       "      <td>729.000000</td>\n",
       "      <td>232.000000</td>\n",
       "    </tr>\n",
       "    <tr>\n",
       "      <th>max</th>\n",
       "      <td>50.000000</td>\n",
       "      <td>7.630000e+08</td>\n",
       "      <td>900.000000</td>\n",
       "      <td>19.000000</td>\n",
       "      <td>100.000000</td>\n",
       "      <td>60.000000</td>\n",
       "      <td>409.700000</td>\n",
       "      <td>33.000000</td>\n",
       "      <td>112.000000</td>\n",
       "      <td>5.000000</td>\n",
       "      <td>84869.000000</td>\n",
       "      <td>65968.000000</td>\n",
       "      <td>3.000000</td>\n",
       "      <td>3190.000000</td>\n",
       "      <td>3.000000</td>\n",
       "      <td>1344.000000</td>\n",
       "      <td>1580.000000</td>\n",
       "    </tr>\n",
       "  </tbody>\n",
       "</table>\n",
       "</div>"
      ],
      "text/plain": [
       "       total_images    last_price    total_area         rooms  ceiling_height  \\\n",
       "count  23699.000000  2.369900e+04  23699.000000  23699.000000    14504.000000   \n",
       "mean       9.858475  6.541549e+06     60.348651      2.070636        2.771499   \n",
       "std        5.682529  1.088701e+07     35.654083      1.078405        1.261056   \n",
       "min        0.000000  1.219000e+04     12.000000      0.000000        1.000000   \n",
       "25%        6.000000  3.400000e+06     40.000000      1.000000        2.520000   \n",
       "50%        9.000000  4.650000e+06     52.000000      2.000000        2.650000   \n",
       "75%       14.000000  6.800000e+06     69.900000      3.000000        2.800000   \n",
       "max       50.000000  7.630000e+08    900.000000     19.000000      100.000000   \n",
       "\n",
       "       floors_total   living_area         floor  kitchen_area       balcony  \\\n",
       "count  23613.000000  21796.000000  23699.000000  21421.000000  12180.000000   \n",
       "mean      10.673824     34.457852      5.892358     10.569807      1.150082   \n",
       "std        6.597173     22.030445      4.885249      5.905438      1.071300   \n",
       "min        1.000000      2.000000      1.000000      1.300000      0.000000   \n",
       "25%        5.000000     18.600000      2.000000      7.000000      0.000000   \n",
       "50%        9.000000     30.000000      4.000000      9.100000      1.000000   \n",
       "75%       16.000000     42.300000      8.000000     12.000000      2.000000   \n",
       "max       60.000000    409.700000     33.000000    112.000000      5.000000   \n",
       "\n",
       "       airports_nearest  cityCenters_nearest  parks_around3000  parks_nearest  \\\n",
       "count      18157.000000         18180.000000      18181.000000    8079.000000   \n",
       "mean       28793.672193         14191.277833          0.611408     490.804555   \n",
       "std        12630.880622          8608.386210          0.802074     342.317995   \n",
       "min            0.000000           181.000000          0.000000       1.000000   \n",
       "25%        18585.000000          9238.000000          0.000000     288.000000   \n",
       "50%        26726.000000         13098.500000          0.000000     455.000000   \n",
       "75%        37273.000000         16293.000000          1.000000     612.000000   \n",
       "max        84869.000000         65968.000000          3.000000    3190.000000   \n",
       "\n",
       "       ponds_around3000  ponds_nearest  days_exposition  \n",
       "count      18181.000000    9110.000000     20518.000000  \n",
       "mean           0.770255     517.980900       180.888634  \n",
       "std            0.938346     277.720643       219.727988  \n",
       "min            0.000000      13.000000         1.000000  \n",
       "25%            0.000000     294.000000        45.000000  \n",
       "50%            1.000000     502.000000        95.000000  \n",
       "75%            1.000000     729.000000       232.000000  \n",
       "max            3.000000    1344.000000      1580.000000  "
      ]
     },
     "execution_count": 7,
     "metadata": {},
     "output_type": "execute_result"
    }
   ],
   "source": [
    "data.describe()"
   ]
  },
  {
   "cell_type": "markdown",
   "metadata": {},
   "source": [
    "### Вывод\n",
    "Информация неоднородна, представлена как в нижнем так и в верхнем регистре, присутствуют пропуски в данных, а также выбросы.\n",
    "Необходимо изучить явные и неявные дубликаты.\n",
    "Столбец locality_name также необходимо систематизировать, изучив неявные дубликаты.\n",
    "Итого, проблемы файла (первичные, обнаруженные при просмотре первых 10-ти строк, последних 10-ти строк и общей информации о датасете):\n",
    "1. Наличие пропусков в данных\n",
    "2. Выбросы в данных, которые могут повлиять на качество исследования.\n",
    "3. Разное количество знаков после запятой\n",
    "4. Использование как верхнего, так и нижнего регистра в строках \n",
    "6. Возможно наличие дубликатов\n",
    "\n",
    "Необходима верификация данных для проведения качественного исследования"
   ]
  },
  {
   "cell_type": "markdown",
   "metadata": {},
   "source": []
  },
  {
   "cell_type": "markdown",
   "metadata": {},
   "source": [
    "## Предобработка данных"
   ]
  },
  {
   "cell_type": "code",
   "execution_count": 8,
   "metadata": {},
   "outputs": [
    {
     "data": {
      "text/plain": [
       "0"
      ]
     },
     "execution_count": 8,
     "metadata": {},
     "output_type": "execute_result"
    }
   ],
   "source": [
    "#проверка данных на явные дубликаты\n",
    "data.duplicated().sum()"
   ]
  },
  {
   "cell_type": "markdown",
   "metadata": {},
   "source": [
    "В результате проверки явные дубликаты не обнаружены."
   ]
  },
  {
   "cell_type": "markdown",
   "metadata": {},
   "source": [
    "*Обработаем столбцы по порядку:*"
   ]
  },
  {
   "cell_type": "code",
   "execution_count": 9,
   "metadata": {},
   "outputs": [
    {
     "data": {
      "text/plain": [
       "array([ 0,  1,  2,  3,  4,  5,  6,  7,  8,  9, 10, 11, 12, 13, 14, 15, 16,\n",
       "       17, 18, 19, 20, 21, 22, 23, 24, 25, 26, 27, 28, 29, 30, 31, 32, 35,\n",
       "       37, 39, 42, 50])"
      ]
     },
     "execution_count": 9,
     "metadata": {},
     "output_type": "execute_result"
    }
   ],
   "source": [
    "#просмотр уникальных значений столбца total_images\n",
    "data['total_images'].sort_values(ascending=True).unique()"
   ]
  },
  {
   "cell_type": "markdown",
   "metadata": {},
   "source": [
    "Данные выглядят релевантно"
   ]
  },
  {
   "cell_type": "code",
   "execution_count": 10,
   "metadata": {
    "scrolled": true
   },
   "outputs": [
    {
     "data": {
      "text/plain": [
       "array([1.219e+04, 4.300e+05, 4.400e+05, ..., 4.013e+08, 4.200e+08,\n",
       "       7.630e+08])"
      ]
     },
     "execution_count": 10,
     "metadata": {},
     "output_type": "execute_result"
    }
   ],
   "source": [
    "#просмотр уникальных значений столбца last_price\n",
    "data['last_price'].sort_values(ascending=True).unique()"
   ]
  },
  {
   "cell_type": "code",
   "execution_count": 96,
   "metadata": {},
   "outputs": [
    {
     "data": {
      "text/plain": [
       "count    23699.000000\n",
       "mean         6.541546\n",
       "std         10.887005\n",
       "min          0.012190\n",
       "25%          3.400000\n",
       "50%          4.650000\n",
       "75%          6.800000\n",
       "max        763.000000\n",
       "Name: last_price, dtype: float64"
      ]
     },
     "execution_count": 96,
     "metadata": {},
     "output_type": "execute_result"
    }
   ],
   "source": [
    "data['last_price'].describe()"
   ]
  },
  {
   "cell_type": "markdown",
   "metadata": {},
   "source": [
    "Согласно вводному условию, столбец last_price показывает цену квартиры на момент снятия с публикации. \n",
    "Данные положительны, отрицательные значения и пропуски в данных отсутствуют"
   ]
  },
  {
   "cell_type": "code",
   "execution_count": 11,
   "metadata": {},
   "outputs": [
    {
     "data": {
      "text/plain": [
       "count    2.369900e+04\n",
       "mean     6.541549e+06\n",
       "std      1.088701e+07\n",
       "min      1.219000e+04\n",
       "25%      3.400000e+06\n",
       "50%      4.650000e+06\n",
       "75%      6.800000e+06\n",
       "max      7.630000e+08\n",
       "Name: last_price, dtype: float64"
      ]
     },
     "execution_count": 11,
     "metadata": {},
     "output_type": "execute_result"
    }
   ],
   "source": [
    "data['last_price'].describe()"
   ]
  },
  {
   "cell_type": "code",
   "execution_count": 12,
   "metadata": {
    "scrolled": true
   },
   "outputs": [
    {
     "data": {
      "text/plain": [
       "count    23699.000000\n",
       "mean         6.541549\n",
       "std         10.887013\n",
       "min          0.012190\n",
       "25%          3.400000\n",
       "50%          4.650000\n",
       "75%          6.800000\n",
       "max        763.000000\n",
       "Name: last_price, dtype: float64"
      ]
     },
     "execution_count": 12,
     "metadata": {},
     "output_type": "execute_result"
    }
   ],
   "source": [
    "#конвертация значений из руб. в млн.руб. для удобства анализа\n",
    "data['last_price'] = data['last_price']/1000000\n",
    "#повторный просмотр описания столбца\n",
    "data['last_price'].describe()"
   ]
  },
  {
   "cell_type": "code",
   "execution_count": 13,
   "metadata": {},
   "outputs": [
    {
     "data": {
      "text/plain": [
       "array([ 12. ,  13. ,  13.2, ..., 631. , 631.2, 900. ])"
      ]
     },
     "execution_count": 13,
     "metadata": {},
     "output_type": "execute_result"
    }
   ],
   "source": [
    "#просмотр уникальных значений столбца total_area\n",
    "data['total_area'].sort_values().unique()"
   ]
  },
  {
   "cell_type": "markdown",
   "metadata": {},
   "source": [
    "Данные представлены в типе float, с одним знаком после запятой, приведение их в типу integer нежелательно, поскольку может привести к искажению исследования."
   ]
  },
  {
   "cell_type": "code",
   "execution_count": 14,
   "metadata": {},
   "outputs": [
    {
     "data": {
      "text/plain": [
       "array([ 0,  1,  2,  3,  4,  5,  6,  7,  8,  9, 10, 11, 12, 14, 15, 16, 19])"
      ]
     },
     "execution_count": 14,
     "metadata": {},
     "output_type": "execute_result"
    }
   ],
   "source": [
    "#просмотр уникальных значений столбца rooms\n",
    "data['rooms'].sort_values().unique()"
   ]
  },
  {
   "cell_type": "markdown",
   "metadata": {},
   "source": [
    "Количество комнат от 0 до 19. Данные релевантны, можно предположить, что те кто указали количество комнат - 0 - владельцы студий."
   ]
  },
  {
   "cell_type": "code",
   "execution_count": 15,
   "metadata": {},
   "outputs": [
    {
     "data": {
      "text/plain": [
       "array(['Бокситогорск', 'Волосово', 'Волхов', 'Всеволожск', 'Выборг',\n",
       "       'Высоцк', 'Гатчина', 'Зеленогорск', 'Ивангород', 'Каменногорск',\n",
       "       'Кингисепп', 'Кириши', 'Кировск', 'Колпино', 'Коммунар',\n",
       "       'Красное Село', 'Кронштадт', 'Кудрово', 'Лодейное Поле',\n",
       "       'Ломоносов', 'Луга', 'Любань', 'Мурино', 'Никольское',\n",
       "       'Новая Ладога', 'Отрадное', 'Павловск', 'Петергоф', 'Пикалёво',\n",
       "       'Подпорожье', 'Приморск', 'Приозерск', 'Пушкин', 'Санкт-Петербург',\n",
       "       'Светогорск', 'Сертолово', 'Сестрорецк', 'Сланцы', 'Сосновый Бор',\n",
       "       'Сясьстрой', 'Тихвин', 'Тосно', 'Шлиссельбург',\n",
       "       'городской поселок Большая Ижора', 'городской поселок Янино-1',\n",
       "       'городской посёлок Будогощь', 'городской посёлок Виллози',\n",
       "       'городской посёлок Лесогорский', 'городской посёлок Мга',\n",
       "       'городской посёлок Назия', 'городской посёлок Новоселье',\n",
       "       'городской посёлок Павлово', 'городской посёлок Рощино',\n",
       "       'городской посёлок Свирьстрой', 'городской посёлок Советский',\n",
       "       'городской посёлок Фёдоровское', 'городской посёлок Янино-1',\n",
       "       'деревня Агалатово', 'деревня Аро', 'деревня Батово',\n",
       "       'деревня Бегуницы', 'деревня Белогорка', 'деревня Большая Вруда',\n",
       "       'деревня Большая Пустомержа', 'деревня Большие Колпаны',\n",
       "       'деревня Большое Рейзино', 'деревня Большой Сабск', 'деревня Бор',\n",
       "       'деревня Борисова Грива', 'деревня Ваганово', 'деревня Вартемяги',\n",
       "       'деревня Вахнова Кара', 'деревня Выскатка', 'деревня Гарболово',\n",
       "       'деревня Глинка', 'деревня Горбунки', 'деревня Гостилицы',\n",
       "       'деревня Заклинье', 'деревня Заневка', 'деревня Зимитицы',\n",
       "       'деревня Извара', 'деревня Иссад', 'деревня Калитино',\n",
       "       'деревня Кальтино', 'деревня Камышовка', 'деревня Каськово',\n",
       "       'деревня Келози', 'деревня Кипень', 'деревня Кисельня',\n",
       "       'деревня Колтуши', 'деревня Коркино', 'деревня Котлы',\n",
       "       'деревня Кривко', 'деревня Кудрово', 'деревня Кузьмолово',\n",
       "       'деревня Курковицы', 'деревня Куровицы', 'деревня Куттузи',\n",
       "       'деревня Лаврики', 'деревня Лаголово', 'деревня Лампово',\n",
       "       'деревня Лесколово', 'деревня Лопухинка', 'деревня Лупполово',\n",
       "       'деревня Малая Романовка', 'деревня Малое Верево',\n",
       "       'деревня Малое Карлино', 'деревня Малые Колпаны',\n",
       "       'деревня Мануйлово', 'деревня Меньково', 'деревня Мины',\n",
       "       'деревня Мистолово', 'деревня Ненимяки', 'деревня Нижние Осельки',\n",
       "       'деревня Нижняя', 'деревня Низино', 'деревня Новое Девяткино',\n",
       "       'деревня Новолисино', 'деревня Нурма', 'деревня Оржицы',\n",
       "       'деревня Парицы', 'деревня Пельгора', 'деревня Пеники',\n",
       "       'деревня Пижма', 'деревня Пикколово', 'деревня Пудомяги',\n",
       "       'деревня Пустынка', 'деревня Пчева', 'деревня Рабитицы',\n",
       "       'деревня Разбегаево', 'деревня Раздолье', 'деревня Разметелево',\n",
       "       'деревня Рапполово', 'деревня Реброво', 'деревня Русско',\n",
       "       'деревня Сижно', 'деревня Снегирёвка', 'деревня Старая',\n",
       "       'деревня Старая Пустошь', 'деревня Старое Хинколово',\n",
       "       'деревня Старополье', 'деревня Старосиверская',\n",
       "       'деревня Старые Бегуницы', 'деревня Суоранда',\n",
       "       'деревня Сяськелево', 'деревня Тарасово', 'деревня Терпилицы',\n",
       "       'деревня Тихковицы', 'деревня Тойворово', 'деревня Торосово',\n",
       "       'деревня Торошковичи', 'деревня Трубников Бор',\n",
       "       'деревня Фалилеево', 'деревня Фёдоровское', 'деревня Хапо-Ое',\n",
       "       'деревня Хязельки', 'деревня Чудской Бор', 'деревня Шпаньково',\n",
       "       'деревня Щеглово', 'деревня Юкки', 'деревня Ялгино',\n",
       "       'деревня Яльгелево', 'деревня Ям-Тесово',\n",
       "       'коттеджный поселок Кивеннапа Север', 'коттеджный поселок Счастье',\n",
       "       'коттеджный посёлок Лесное', 'поселок Аннино', 'поселок Барышево',\n",
       "       'поселок Бугры', 'поселок Возрождение', 'поселок Войсковицы',\n",
       "       'поселок Володарское', 'поселок Гаврилово', 'поселок Гарболово',\n",
       "       'поселок Гладкое', 'поселок Глажево', 'поселок Глебычево',\n",
       "       'поселок Гончарово', 'поселок Громово', 'поселок Дружноселье',\n",
       "       'поселок Елизаветино', 'поселок Жилгородок', 'поселок Жилпосёлок',\n",
       "       'поселок Житково', 'поселок Заводской', 'поселок Запорожское',\n",
       "       'поселок Зимитицы', 'поселок Ильичёво', 'поселок Калитино',\n",
       "       'поселок Каложицы', 'поселок Кингисеппский', 'поселок Кирпичное',\n",
       "       'поселок Кобралово', 'поселок Кобринское', 'поселок Коммунары',\n",
       "       'поселок Коробицыно', 'поселок Котельский',\n",
       "       'поселок Красная Долина', 'поселок Красносельское',\n",
       "       'поселок Лесное', 'поселок Лисий Нос', 'поселок Лукаши',\n",
       "       'поселок Любань', 'поселок Мельниково', 'поселок Мичуринское',\n",
       "       'поселок Молодцово', 'поселок Мурино', 'поселок Новый Свет',\n",
       "       'поселок Новый Учхоз', 'поселок Оредеж',\n",
       "       'поселок Пансионат Зелёный Бор', 'поселок Первомайское',\n",
       "       'поселок Перово', 'поселок Петровское', 'поселок Победа',\n",
       "       'поселок Поляны', 'поселок Почап', 'поселок Починок',\n",
       "       'поселок Пушное', 'поселок Пчевжа', 'поселок Рабитицы',\n",
       "       'поселок Романовка', 'поселок Ромашки', 'поселок Рябово',\n",
       "       'поселок Севастьяново', 'поселок Селезнёво', 'поселок Сельцо',\n",
       "       'поселок Семиозерье', 'поселок Семрино', 'поселок Серебрянский',\n",
       "       'поселок Совхозный', 'поселок Старая Малукса',\n",
       "       'поселок Стеклянный', 'поселок Сумино', 'поселок Суходолье',\n",
       "       'поселок Тельмана', 'поселок Терволово', 'поселок Торковичи',\n",
       "       'поселок Тёсово-4', 'поселок Углово', 'поселок Усть-Луга',\n",
       "       'поселок Ушаки', 'поселок Цвелодубово', 'поселок Цвылёво',\n",
       "       'поселок городского типа Большая Ижора',\n",
       "       'поселок городского типа Вырица',\n",
       "       'поселок городского типа Дружная Горка',\n",
       "       'поселок городского типа Дубровка',\n",
       "       'поселок городского типа Ефимовский',\n",
       "       'поселок городского типа Кондратьево',\n",
       "       'поселок городского типа Красный Бор',\n",
       "       'поселок городского типа Кузьмоловский',\n",
       "       'поселок городского типа Лебяжье',\n",
       "       'поселок городского типа Лесогорский',\n",
       "       'поселок городского типа Назия',\n",
       "       'поселок городского типа Никольский',\n",
       "       'поселок городского типа Приладожский',\n",
       "       'поселок городского типа Рахья', 'поселок городского типа Рощино',\n",
       "       'поселок городского типа Рябово',\n",
       "       'поселок городского типа Синявино',\n",
       "       'поселок городского типа Советский',\n",
       "       'поселок городского типа Токсово',\n",
       "       'поселок городского типа Форносово',\n",
       "       'поселок городского типа имени Свердлова',\n",
       "       'поселок станции Вещево', 'поселок станции Корнево',\n",
       "       'поселок станции Лужайка', 'поселок станции Приветнинское',\n",
       "       'посёлок Александровская', 'посёлок Алексеевка', 'посёлок Аннино',\n",
       "       'посёлок Белоостров', 'посёлок Бугры', 'посёлок Возрождение',\n",
       "       'посёлок Войскорово', 'посёлок Высокоключевой',\n",
       "       'посёлок Гаврилово', 'посёлок Дзержинского', 'посёлок Жилгородок',\n",
       "       'посёлок Ильичёво', 'посёлок Кикерино', 'посёлок Кобралово',\n",
       "       'посёлок Коробицыно', 'посёлок Левашово', 'посёлок Ленинское',\n",
       "       'посёлок Лисий Нос', 'посёлок Мельниково', 'посёлок Металлострой',\n",
       "       'посёлок Мичуринское', 'посёлок Молодёжное', 'посёлок Мурино',\n",
       "       'посёлок Мыза-Ивановка', 'посёлок Новогорелово',\n",
       "       'посёлок Новый Свет', 'посёлок Пансионат Зелёный Бор',\n",
       "       'посёлок Парголово', 'посёлок Перово', 'посёлок Песочный',\n",
       "       'посёлок Петро-Славянка', 'посёлок Петровское',\n",
       "       'посёлок Платформа 69-й километр', 'посёлок Плодовое',\n",
       "       'посёлок Плоское', 'посёлок Победа', 'посёлок Поляны',\n",
       "       'посёлок Понтонный', 'посёлок Пригородный', 'посёлок Пудость',\n",
       "       'посёлок Репино', 'посёлок Ропша', 'посёлок Сапёрное',\n",
       "       'посёлок Сапёрный', 'посёлок Сосново', 'посёлок Старая Малукса',\n",
       "       'посёлок Стеклянный', 'посёлок Стрельна', 'посёлок Суйда',\n",
       "       'посёлок Сумино', 'посёлок Тельмана', 'посёлок Терволово',\n",
       "       'посёлок Торфяное', 'посёлок Усть-Ижора', 'посёлок Усть-Луга',\n",
       "       'посёлок Форт Красная Горка', 'посёлок Шугозеро', 'посёлок Шушары',\n",
       "       'посёлок Щеглово', 'посёлок городского типа Важины',\n",
       "       'посёлок городского типа Вознесенье',\n",
       "       'посёлок городского типа Вырица',\n",
       "       'посёлок городского типа Красный Бор',\n",
       "       'посёлок городского типа Кузнечное',\n",
       "       'посёлок городского типа Кузьмоловский',\n",
       "       'посёлок городского типа Лебяжье', 'посёлок городского типа Мга',\n",
       "       'посёлок городского типа Павлово',\n",
       "       'посёлок городского типа Рощино', 'посёлок городского типа Рябово',\n",
       "       'посёлок городского типа Сиверский',\n",
       "       'посёлок городского типа Тайцы', 'посёлок городского типа Токсово',\n",
       "       'посёлок городского типа Ульяновка',\n",
       "       'посёлок городского типа Форносово',\n",
       "       'посёлок городского типа имени Морозова',\n",
       "       'посёлок городского типа имени Свердлова',\n",
       "       'посёлок при железнодорожной станции Вещево',\n",
       "       'посёлок при железнодорожной станции Приветнинское',\n",
       "       'посёлок станции Громово', 'посёлок станции Свирь',\n",
       "       'садоводческое некоммерческое товарищество Лесная Поляна',\n",
       "       'садовое товарищество Новая Ропша',\n",
       "       'садовое товарищество Приладожский', 'садовое товарищество Рахья',\n",
       "       'садовое товарищество Садко', 'село Копорье', 'село Никольское',\n",
       "       'село Павлово', 'село Паша', 'село Путилово', 'село Рождествено',\n",
       "       'село Русско-Высоцкое', 'село Старая Ладога', 'село Шум', nan],\n",
       "      dtype=object)"
      ]
     },
     "execution_count": 15,
     "metadata": {},
     "output_type": "execute_result"
    }
   ],
   "source": [
    "#просмотр уникальных значений столбца locality_name\n",
    "data['locality_name'].sort_values().unique()"
   ]
  },
  {
   "cell_type": "code",
   "execution_count": 16,
   "metadata": {},
   "outputs": [
    {
     "data": {
      "text/plain": [
       "49"
      ]
     },
     "execution_count": 16,
     "metadata": {},
     "output_type": "execute_result"
    }
   ],
   "source": [
    "#просмотр и обработка пропусков в столбце locality_name\n",
    "data['locality_name'].isnull().sum()"
   ]
  },
  {
   "cell_type": "markdown",
   "metadata": {},
   "source": [
    "Для дальнейшей обработки данных заменим пропуски на \"город не выбран\""
   ]
  },
  {
   "cell_type": "code",
   "execution_count": 17,
   "metadata": {},
   "outputs": [],
   "source": [
    "#замена пропусков в данных\n",
    "data['locality_name'] = data['locality_name'].fillna('город не выбран')"
   ]
  },
  {
   "cell_type": "code",
   "execution_count": 18,
   "metadata": {
    "scrolled": true
   },
   "outputs": [
    {
     "data": {
      "text/plain": [
       "0"
      ]
     },
     "execution_count": 18,
     "metadata": {},
     "output_type": "execute_result"
    }
   ],
   "source": [
    "#просмотр и обработка пропусков в столбце locality_name\n",
    "data['locality_name'].isnull().sum()"
   ]
  },
  {
   "cell_type": "markdown",
   "metadata": {},
   "source": [
    "По первичному просмотру видно, что присутствуют как буквы верхнего, так и нижнего регистра, стоит также учесть разницу написания (буквы е и ё)."
   ]
  },
  {
   "cell_type": "code",
   "execution_count": 19,
   "metadata": {},
   "outputs": [],
   "source": [
    "#обработка неявных дубликатов\n",
    "data['locality_name'] = data['locality_name'].str.replace('ё', 'е', regex=True)\n",
    "#обработка разного регистра, приведение к нижнему регистру\n",
    "data['locality_name'] = data['locality_name'].str.lower()"
   ]
  },
  {
   "cell_type": "code",
   "execution_count": 20,
   "metadata": {},
   "outputs": [],
   "source": [
    "#обработка дубликатов\n",
    "data['locality_name']=data['locality_name'].replace('поселок|деревня|село|городской поселок|коттеджный поселок|городского типа|поселок станции|поселок при железнодорожной станции|садоводческое некоммерческое товарищество|садовое товарищество|село', '', regex=True)"
   ]
  },
  {
   "cell_type": "code",
   "execution_count": 21,
   "metadata": {},
   "outputs": [
    {
     "data": {
      "text/plain": [
       "array(['  большая ижора', '  важины', '  вознесенье', '  вырица',\n",
       "       '  дружная горка', '  дубровка', '  ефимовский',\n",
       "       '  имени морозова', '  имени свердлова', '  кондратьево',\n",
       "       '  красный бор', '  кузнечное', '  кузьмоловский', '  лебяжье',\n",
       "       '  лесогорский', '  мга', '  назия', '  никольский', '  павлово',\n",
       "       '  приладожский', '  рахья', '  рощино', '  рябово', '  сиверский',\n",
       "       '  синявино', '  советский', '  тайцы', '  токсово', '  ульяновка',\n",
       "       '  форносово', ' агалатово', ' александровская', ' алексеевка',\n",
       "       ' аннино', ' аро', ' барышево', ' батово', ' бегуницы',\n",
       "       ' белогорка', ' белоостров', ' большая вруда', ' большая ижора',\n",
       "       ' большая пустомержа', ' большие колпаны', ' большое рейзино',\n",
       "       ' большой сабск', ' бор', ' борисова грива', ' бугры', ' будогощь',\n",
       "       ' ваганово', ' вартемяги', ' вахнова кара', ' виллози',\n",
       "       ' возрождение', ' войсковицы', ' войскорово', ' володарское',\n",
       "       ' выскатка', ' высокоключевой', ' гаврилово', ' гарболово',\n",
       "       ' гладкое', ' глажево', ' глебычево', ' глинка', ' гончарово',\n",
       "       ' горбунки', ' гостилицы', ' громово', ' дзержинского',\n",
       "       ' дружноселье', ' елизаветино', ' жил', ' жилгородок', ' житково',\n",
       "       ' заводской', ' заклинье', ' заневка', ' запорожское', ' зимитицы',\n",
       "       ' извара', ' ильичево', ' иссад', ' калитино', ' каложицы',\n",
       "       ' кальтино', ' камышовка', ' каськово', ' келози',\n",
       "       ' кивеннапа север', ' кикерино', ' кингисеппский', ' кипень',\n",
       "       ' кирпичное', ' кисельня', ' кобралово', ' кобринское', ' колтуши',\n",
       "       ' коммунары', ' копорье', ' коркино', ' коробицыно', ' котельский',\n",
       "       ' котлы', ' красная долина', ' красносельское', ' кривко',\n",
       "       ' кудрово', ' кузьмолово', ' курковицы', ' куровицы', ' куттузи',\n",
       "       ' лаврики', ' лаголово', ' лампово', ' левашово', ' ленинское',\n",
       "       ' лесколово', ' лесная поляна', ' лесное', ' лесогорский',\n",
       "       ' лисий нос', ' лопухинка', ' лукаши', ' лупполово', ' любань',\n",
       "       ' малая романовка', ' малое верево', ' малое карлино',\n",
       "       ' малые колпаны', ' мануйлово', ' мга', ' мельниково', ' меньково',\n",
       "       ' металлострой', ' мины', ' мистолово', ' мичуринское',\n",
       "       ' молодежное', ' молодцово', ' мурино', ' мыза-ивановка', ' назия',\n",
       "       ' ненимяки', ' нижние осельки', ' нижняя', ' низино',\n",
       "       ' никольское', ' новая ропша', ' новогорелово', ' новое девяткино',\n",
       "       ' новолисино', ' новоселье', ' новый свет', ' новый учхоз',\n",
       "       ' нурма', ' оредеж', ' оржицы', ' павлово',\n",
       "       ' пансионат зеленый бор', ' парголово', ' парицы', ' паша',\n",
       "       ' пельгора', ' пеники', ' первомайское', ' перово', ' песочный',\n",
       "       ' петро-славянка', ' петровское', ' пижма', ' пикколово',\n",
       "       ' платформа 69-й километр', ' плодовое', ' плоское', ' победа',\n",
       "       ' поляны', ' понтонный', ' почап', ' починок',\n",
       "       ' при железнодорожной станции вещево',\n",
       "       ' при железнодорожной станции приветнинское', ' пригородный',\n",
       "       ' приладожский', ' пудомяги', ' пудость', ' пустынка', ' путилово',\n",
       "       ' пушное', ' пчева', ' пчевжа', ' рабитицы', ' разбегаево',\n",
       "       ' раздолье', ' разметелево', ' рапполово', ' рахья', ' реброво',\n",
       "       ' репино', ' рождествено', ' романовка', ' ромашки', ' ропша',\n",
       "       ' рощино', ' русско', ' русско-высоцкое', ' рябово', ' садко',\n",
       "       ' саперное', ' саперный', ' свирьстрой', ' севастьяново',\n",
       "       ' селезнево', ' сельцо', ' семиозерье', ' семрино',\n",
       "       ' серебрянский', ' сижно', ' снегиревка', ' советский',\n",
       "       ' совхозный', ' сосново', ' станции вещево', ' станции громово',\n",
       "       ' станции корнево', ' станции лужайка', ' станции приветнинское',\n",
       "       ' станции свирь', ' старая', ' старая ладога', ' старая малукса',\n",
       "       ' старая пустошь', ' старое хинколово', ' старополье',\n",
       "       ' старосиверская', ' старые бегуницы', ' стеклянный', ' стрельна',\n",
       "       ' суйда', ' сумино', ' суоранда', ' суходолье', ' счастье',\n",
       "       ' сяськелево', ' тарасово', ' тельмана', ' терволово',\n",
       "       ' терпилицы', ' тесово-4', ' тихковицы', ' тойворово',\n",
       "       ' торковичи', ' торосово', ' торошковичи', ' торфяное',\n",
       "       ' трубников бор', ' углово', ' усть-ижора', ' усть-луга', ' ушаки',\n",
       "       ' фалилеево', ' федоровское', ' форт красная горка', ' хапо-ое',\n",
       "       ' хязельки', ' цвелодубово', ' цвылево', ' чудской бор',\n",
       "       ' шпаньково', ' шугозеро', ' шум', ' шушары', ' щеглово', ' юкки',\n",
       "       ' ялгино', ' яльгелево', ' ям-тесово', ' янино-1', 'бокситогорск',\n",
       "       'волосово', 'волхов', 'всеволожск', 'выборг', 'высоцк', 'гатчина',\n",
       "       'город не выбран', 'зеленогорск', 'ивангород', 'каменногорск',\n",
       "       'кингисепп', 'кириши', 'кировск', 'колпино', 'коммунар',\n",
       "       'красное ', 'кронштадт', 'кудрово', 'лодейное поле', 'ломоносов',\n",
       "       'луга', 'любань', 'мурино', 'никольское', 'новая ладога',\n",
       "       'отрадное', 'павловск', 'петергоф', 'пикалево', 'подпорожье',\n",
       "       'приморск', 'приозерск', 'пушкин', 'санкт-петербург', 'светогорск',\n",
       "       'сертолово', 'сестрорецк', 'сланцы', 'сосновый бор', 'сясьстрой',\n",
       "       'тихвин', 'тосно', 'шлиссельбург'], dtype=object)"
      ]
     },
     "execution_count": 21,
     "metadata": {},
     "output_type": "execute_result"
    }
   ],
   "source": [
    "#просмотр уникальных значений столбца locality_name\n",
    "data['locality_name'].sort_values().unique()"
   ]
  },
  {
   "cell_type": "code",
   "execution_count": 22,
   "metadata": {},
   "outputs": [
    {
     "data": {
      "text/plain": [
       "array([  1.  ,   1.2 ,   1.75,   2.  ,   2.2 ,   2.25,   2.3 ,   2.34,\n",
       "         2.4 ,   2.45,   2.46,   2.47,   2.48,   2.49,   2.5 ,   2.51,\n",
       "         2.52,   2.53,   2.54,   2.55,   2.56,   2.57,   2.58,   2.59,\n",
       "         2.6 ,   2.61,   2.62,   2.63,   2.64,   2.65,   2.66,   2.67,\n",
       "         2.68,   2.69,   2.7 ,   2.71,   2.72,   2.73,   2.74,   2.75,\n",
       "         2.76,   2.77,   2.78,   2.79,   2.8 ,   2.81,   2.82,   2.83,\n",
       "         2.84,   2.85,   2.86,   2.87,   2.88,   2.89,   2.9 ,   2.91,\n",
       "         2.92,   2.93,   2.94,   2.95,   2.96,   2.97,   2.98,   2.99,\n",
       "         3.  ,   3.01,   3.02,   3.03,   3.04,   3.05,   3.06,   3.07,\n",
       "         3.08,   3.09,   3.1 ,   3.11,   3.12,   3.13,   3.14,   3.15,\n",
       "         3.16,   3.17,   3.18,   3.2 ,   3.21,   3.22,   3.23,   3.24,\n",
       "         3.25,   3.26,   3.27,   3.28,   3.29,   3.3 ,   3.31,   3.32,\n",
       "         3.33,   3.34,   3.35,   3.36,   3.37,   3.38,   3.39,   3.4 ,\n",
       "         3.42,   3.43,   3.44,   3.45,   3.46,   3.47,   3.48,   3.49,\n",
       "         3.5 ,   3.51,   3.52,   3.53,   3.54,   3.55,   3.56,   3.57,\n",
       "         3.58,   3.59,   3.6 ,   3.62,   3.63,   3.65,   3.66,   3.67,\n",
       "         3.68,   3.69,   3.7 ,   3.75,   3.76,   3.78,   3.8 ,   3.82,\n",
       "         3.83,   3.84,   3.85,   3.86,   3.87,   3.88,   3.9 ,   3.93,\n",
       "         3.95,   3.98,   4.  ,   4.06,   4.1 ,   4.14,   4.15,   4.19,\n",
       "         4.2 ,   4.25,   4.3 ,   4.37,   4.4 ,   4.45,   4.5 ,   4.65,\n",
       "         4.7 ,   4.8 ,   4.9 ,   5.  ,   5.2 ,   5.3 ,   5.5 ,   5.6 ,\n",
       "         5.8 ,   6.  ,   8.  ,   8.3 ,  10.3 ,  14.  ,  20.  ,  22.6 ,\n",
       "        24.  ,  25.  ,  26.  ,  27.  ,  27.5 ,  32.  , 100.  ,    nan])"
      ]
     },
     "execution_count": 22,
     "metadata": {},
     "output_type": "execute_result"
    }
   ],
   "source": [
    "#просмотр уникальных значений столбца ceiling_height\n",
    "data['ceiling_height'].sort_values().unique()"
   ]
  },
  {
   "cell_type": "markdown",
   "metadata": {},
   "source": [
    "В данном столбце присутствуют пустые значения, которые необходимы к просмотру и валидации. Также вопрос вызывает значение 100, поскольку маловероятно, чтобы в квартире высота была более 10-ти метров (можно предположить отдельный 3-х этажный дом), в частности особые сомнения вызывает высота квартиры 100 метров, поскольку это примерная высота 30-ти этажного дома. Этот столбец требует уточнения у предоставившего данные."
   ]
  },
  {
   "cell_type": "markdown",
   "metadata": {},
   "source": [
    "Значения столбца rooms: 0,  1,  2,  3,  4,  5,  6,  7,  8,  9, 10, 11, 12, 14, 15, 16, 19.\n",
    "Необходимо формирование четырех релевантных групп: 1 группа - мало комнат (значения от 0 до 2-х комнат), 2 группа - средне комнат (от 3-х до 5-ти комнат), много комнат (от 6-ти до 10-ти комнат), очень много комнат (от 10-ти до 19 комнат)"
   ]
  },
  {
   "cell_type": "code",
   "execution_count": 23,
   "metadata": {},
   "outputs": [
    {
     "data": {
      "text/html": [
       "<div>\n",
       "<style scoped>\n",
       "    .dataframe tbody tr th:only-of-type {\n",
       "        vertical-align: middle;\n",
       "    }\n",
       "\n",
       "    .dataframe tbody tr th {\n",
       "        vertical-align: top;\n",
       "    }\n",
       "\n",
       "    .dataframe thead th {\n",
       "        text-align: right;\n",
       "    }\n",
       "</style>\n",
       "<table border=\"1\" class=\"dataframe\">\n",
       "  <thead>\n",
       "    <tr style=\"text-align: right;\">\n",
       "      <th></th>\n",
       "      <th>total_images</th>\n",
       "      <th>last_price</th>\n",
       "      <th>total_area</th>\n",
       "      <th>first_day_exposition</th>\n",
       "      <th>rooms</th>\n",
       "      <th>ceiling_height</th>\n",
       "      <th>floors_total</th>\n",
       "      <th>living_area</th>\n",
       "      <th>floor</th>\n",
       "      <th>is_apartment</th>\n",
       "      <th>...</th>\n",
       "      <th>balcony</th>\n",
       "      <th>locality_name</th>\n",
       "      <th>airports_nearest</th>\n",
       "      <th>cityCenters_nearest</th>\n",
       "      <th>parks_around3000</th>\n",
       "      <th>parks_nearest</th>\n",
       "      <th>ponds_around3000</th>\n",
       "      <th>ponds_nearest</th>\n",
       "      <th>days_exposition</th>\n",
       "      <th>grouped_rooms</th>\n",
       "    </tr>\n",
       "  </thead>\n",
       "  <tbody>\n",
       "    <tr>\n",
       "      <th>0</th>\n",
       "      <td>20</td>\n",
       "      <td>13.000</td>\n",
       "      <td>108.00</td>\n",
       "      <td>2019-03-07T00:00:00</td>\n",
       "      <td>3</td>\n",
       "      <td>2.70</td>\n",
       "      <td>16.0</td>\n",
       "      <td>51.00</td>\n",
       "      <td>8</td>\n",
       "      <td>NaN</td>\n",
       "      <td>...</td>\n",
       "      <td>NaN</td>\n",
       "      <td>санкт-петербург</td>\n",
       "      <td>18863.0</td>\n",
       "      <td>16028.0</td>\n",
       "      <td>1.0</td>\n",
       "      <td>482.0</td>\n",
       "      <td>2.0</td>\n",
       "      <td>755.0</td>\n",
       "      <td>NaN</td>\n",
       "      <td>2</td>\n",
       "    </tr>\n",
       "    <tr>\n",
       "      <th>1</th>\n",
       "      <td>7</td>\n",
       "      <td>3.350</td>\n",
       "      <td>40.40</td>\n",
       "      <td>2018-12-04T00:00:00</td>\n",
       "      <td>1</td>\n",
       "      <td>NaN</td>\n",
       "      <td>11.0</td>\n",
       "      <td>18.60</td>\n",
       "      <td>1</td>\n",
       "      <td>NaN</td>\n",
       "      <td>...</td>\n",
       "      <td>2.0</td>\n",
       "      <td>шушары</td>\n",
       "      <td>12817.0</td>\n",
       "      <td>18603.0</td>\n",
       "      <td>0.0</td>\n",
       "      <td>NaN</td>\n",
       "      <td>0.0</td>\n",
       "      <td>NaN</td>\n",
       "      <td>81.0</td>\n",
       "      <td>1</td>\n",
       "    </tr>\n",
       "    <tr>\n",
       "      <th>2</th>\n",
       "      <td>10</td>\n",
       "      <td>5.196</td>\n",
       "      <td>56.00</td>\n",
       "      <td>2015-08-20T00:00:00</td>\n",
       "      <td>2</td>\n",
       "      <td>NaN</td>\n",
       "      <td>5.0</td>\n",
       "      <td>34.30</td>\n",
       "      <td>4</td>\n",
       "      <td>NaN</td>\n",
       "      <td>...</td>\n",
       "      <td>0.0</td>\n",
       "      <td>санкт-петербург</td>\n",
       "      <td>21741.0</td>\n",
       "      <td>13933.0</td>\n",
       "      <td>1.0</td>\n",
       "      <td>90.0</td>\n",
       "      <td>2.0</td>\n",
       "      <td>574.0</td>\n",
       "      <td>558.0</td>\n",
       "      <td>1</td>\n",
       "    </tr>\n",
       "    <tr>\n",
       "      <th>3</th>\n",
       "      <td>0</td>\n",
       "      <td>64.900</td>\n",
       "      <td>159.00</td>\n",
       "      <td>2015-07-24T00:00:00</td>\n",
       "      <td>3</td>\n",
       "      <td>NaN</td>\n",
       "      <td>14.0</td>\n",
       "      <td>NaN</td>\n",
       "      <td>9</td>\n",
       "      <td>NaN</td>\n",
       "      <td>...</td>\n",
       "      <td>0.0</td>\n",
       "      <td>санкт-петербург</td>\n",
       "      <td>28098.0</td>\n",
       "      <td>6800.0</td>\n",
       "      <td>2.0</td>\n",
       "      <td>84.0</td>\n",
       "      <td>3.0</td>\n",
       "      <td>234.0</td>\n",
       "      <td>424.0</td>\n",
       "      <td>2</td>\n",
       "    </tr>\n",
       "    <tr>\n",
       "      <th>4</th>\n",
       "      <td>2</td>\n",
       "      <td>10.000</td>\n",
       "      <td>100.00</td>\n",
       "      <td>2018-06-19T00:00:00</td>\n",
       "      <td>2</td>\n",
       "      <td>3.03</td>\n",
       "      <td>14.0</td>\n",
       "      <td>32.00</td>\n",
       "      <td>13</td>\n",
       "      <td>NaN</td>\n",
       "      <td>...</td>\n",
       "      <td>NaN</td>\n",
       "      <td>санкт-петербург</td>\n",
       "      <td>31856.0</td>\n",
       "      <td>8098.0</td>\n",
       "      <td>2.0</td>\n",
       "      <td>112.0</td>\n",
       "      <td>1.0</td>\n",
       "      <td>48.0</td>\n",
       "      <td>121.0</td>\n",
       "      <td>1</td>\n",
       "    </tr>\n",
       "    <tr>\n",
       "      <th>5</th>\n",
       "      <td>10</td>\n",
       "      <td>2.890</td>\n",
       "      <td>30.40</td>\n",
       "      <td>2018-09-10T00:00:00</td>\n",
       "      <td>1</td>\n",
       "      <td>NaN</td>\n",
       "      <td>12.0</td>\n",
       "      <td>14.40</td>\n",
       "      <td>5</td>\n",
       "      <td>NaN</td>\n",
       "      <td>...</td>\n",
       "      <td>NaN</td>\n",
       "      <td>янино-1</td>\n",
       "      <td>NaN</td>\n",
       "      <td>NaN</td>\n",
       "      <td>NaN</td>\n",
       "      <td>NaN</td>\n",
       "      <td>NaN</td>\n",
       "      <td>NaN</td>\n",
       "      <td>55.0</td>\n",
       "      <td>1</td>\n",
       "    </tr>\n",
       "    <tr>\n",
       "      <th>6</th>\n",
       "      <td>6</td>\n",
       "      <td>3.700</td>\n",
       "      <td>37.30</td>\n",
       "      <td>2017-11-02T00:00:00</td>\n",
       "      <td>1</td>\n",
       "      <td>NaN</td>\n",
       "      <td>26.0</td>\n",
       "      <td>10.60</td>\n",
       "      <td>6</td>\n",
       "      <td>NaN</td>\n",
       "      <td>...</td>\n",
       "      <td>1.0</td>\n",
       "      <td>парголово</td>\n",
       "      <td>52996.0</td>\n",
       "      <td>19143.0</td>\n",
       "      <td>0.0</td>\n",
       "      <td>NaN</td>\n",
       "      <td>0.0</td>\n",
       "      <td>NaN</td>\n",
       "      <td>155.0</td>\n",
       "      <td>1</td>\n",
       "    </tr>\n",
       "    <tr>\n",
       "      <th>7</th>\n",
       "      <td>5</td>\n",
       "      <td>7.915</td>\n",
       "      <td>71.60</td>\n",
       "      <td>2019-04-18T00:00:00</td>\n",
       "      <td>2</td>\n",
       "      <td>NaN</td>\n",
       "      <td>24.0</td>\n",
       "      <td>NaN</td>\n",
       "      <td>22</td>\n",
       "      <td>NaN</td>\n",
       "      <td>...</td>\n",
       "      <td>2.0</td>\n",
       "      <td>санкт-петербург</td>\n",
       "      <td>23982.0</td>\n",
       "      <td>11634.0</td>\n",
       "      <td>0.0</td>\n",
       "      <td>NaN</td>\n",
       "      <td>0.0</td>\n",
       "      <td>NaN</td>\n",
       "      <td>NaN</td>\n",
       "      <td>1</td>\n",
       "    </tr>\n",
       "    <tr>\n",
       "      <th>8</th>\n",
       "      <td>20</td>\n",
       "      <td>2.900</td>\n",
       "      <td>33.16</td>\n",
       "      <td>2018-05-23T00:00:00</td>\n",
       "      <td>1</td>\n",
       "      <td>NaN</td>\n",
       "      <td>27.0</td>\n",
       "      <td>15.43</td>\n",
       "      <td>26</td>\n",
       "      <td>NaN</td>\n",
       "      <td>...</td>\n",
       "      <td>NaN</td>\n",
       "      <td>мурино</td>\n",
       "      <td>NaN</td>\n",
       "      <td>NaN</td>\n",
       "      <td>NaN</td>\n",
       "      <td>NaN</td>\n",
       "      <td>NaN</td>\n",
       "      <td>NaN</td>\n",
       "      <td>189.0</td>\n",
       "      <td>1</td>\n",
       "    </tr>\n",
       "    <tr>\n",
       "      <th>9</th>\n",
       "      <td>18</td>\n",
       "      <td>5.400</td>\n",
       "      <td>61.00</td>\n",
       "      <td>2017-02-26T00:00:00</td>\n",
       "      <td>3</td>\n",
       "      <td>2.50</td>\n",
       "      <td>9.0</td>\n",
       "      <td>43.60</td>\n",
       "      <td>7</td>\n",
       "      <td>NaN</td>\n",
       "      <td>...</td>\n",
       "      <td>2.0</td>\n",
       "      <td>санкт-петербург</td>\n",
       "      <td>50898.0</td>\n",
       "      <td>15008.0</td>\n",
       "      <td>0.0</td>\n",
       "      <td>NaN</td>\n",
       "      <td>0.0</td>\n",
       "      <td>NaN</td>\n",
       "      <td>289.0</td>\n",
       "      <td>2</td>\n",
       "    </tr>\n",
       "  </tbody>\n",
       "</table>\n",
       "<p>10 rows × 23 columns</p>\n",
       "</div>"
      ],
      "text/plain": [
       "   total_images  last_price  total_area first_day_exposition  rooms  \\\n",
       "0            20      13.000      108.00  2019-03-07T00:00:00      3   \n",
       "1             7       3.350       40.40  2018-12-04T00:00:00      1   \n",
       "2            10       5.196       56.00  2015-08-20T00:00:00      2   \n",
       "3             0      64.900      159.00  2015-07-24T00:00:00      3   \n",
       "4             2      10.000      100.00  2018-06-19T00:00:00      2   \n",
       "5            10       2.890       30.40  2018-09-10T00:00:00      1   \n",
       "6             6       3.700       37.30  2017-11-02T00:00:00      1   \n",
       "7             5       7.915       71.60  2019-04-18T00:00:00      2   \n",
       "8            20       2.900       33.16  2018-05-23T00:00:00      1   \n",
       "9            18       5.400       61.00  2017-02-26T00:00:00      3   \n",
       "\n",
       "   ceiling_height  floors_total  living_area  floor is_apartment  ...  \\\n",
       "0            2.70          16.0        51.00      8          NaN  ...   \n",
       "1             NaN          11.0        18.60      1          NaN  ...   \n",
       "2             NaN           5.0        34.30      4          NaN  ...   \n",
       "3             NaN          14.0          NaN      9          NaN  ...   \n",
       "4            3.03          14.0        32.00     13          NaN  ...   \n",
       "5             NaN          12.0        14.40      5          NaN  ...   \n",
       "6             NaN          26.0        10.60      6          NaN  ...   \n",
       "7             NaN          24.0          NaN     22          NaN  ...   \n",
       "8             NaN          27.0        15.43     26          NaN  ...   \n",
       "9            2.50           9.0        43.60      7          NaN  ...   \n",
       "\n",
       "   balcony    locality_name  airports_nearest  cityCenters_nearest  \\\n",
       "0      NaN  санкт-петербург           18863.0              16028.0   \n",
       "1      2.0           шушары           12817.0              18603.0   \n",
       "2      0.0  санкт-петербург           21741.0              13933.0   \n",
       "3      0.0  санкт-петербург           28098.0               6800.0   \n",
       "4      NaN  санкт-петербург           31856.0               8098.0   \n",
       "5      NaN          янино-1               NaN                  NaN   \n",
       "6      1.0        парголово           52996.0              19143.0   \n",
       "7      2.0  санкт-петербург           23982.0              11634.0   \n",
       "8      NaN           мурино               NaN                  NaN   \n",
       "9      2.0  санкт-петербург           50898.0              15008.0   \n",
       "\n",
       "  parks_around3000  parks_nearest  ponds_around3000  ponds_nearest  \\\n",
       "0              1.0          482.0               2.0          755.0   \n",
       "1              0.0            NaN               0.0            NaN   \n",
       "2              1.0           90.0               2.0          574.0   \n",
       "3              2.0           84.0               3.0          234.0   \n",
       "4              2.0          112.0               1.0           48.0   \n",
       "5              NaN            NaN               NaN            NaN   \n",
       "6              0.0            NaN               0.0            NaN   \n",
       "7              0.0            NaN               0.0            NaN   \n",
       "8              NaN            NaN               NaN            NaN   \n",
       "9              0.0            NaN               0.0            NaN   \n",
       "\n",
       "   days_exposition  grouped_rooms  \n",
       "0              NaN              2  \n",
       "1             81.0              1  \n",
       "2            558.0              1  \n",
       "3            424.0              2  \n",
       "4            121.0              1  \n",
       "5             55.0              1  \n",
       "6            155.0              1  \n",
       "7              NaN              1  \n",
       "8            189.0              1  \n",
       "9            289.0              2  \n",
       "\n",
       "[10 rows x 23 columns]"
      ]
     },
     "metadata": {},
     "output_type": "display_data"
    }
   ],
   "source": [
    "# формирование 4-х релевантных групп по количеству комнат\n",
    "def grouped_rooms(rooms):\n",
    "    if rooms <= 2:\n",
    "        return '1'\n",
    "    if rooms >2 and rooms <= 5:\n",
    "        return '2'\n",
    "    if rooms >5 and rooms <= 10:\n",
    "        return '3'\n",
    "    return '4'\n",
    "data['grouped_rooms'] = data['rooms'].apply(grouped_rooms)\n",
    "\n",
    "display(data.head(10))"
   ]
  },
  {
   "cell_type": "code",
   "execution_count": 24,
   "metadata": {},
   "outputs": [
    {
     "data": {
      "text/plain": [
       "array([ 1.,  2.,  3.,  4.,  5.,  6.,  7.,  8.,  9., 10., 11., 12., 13.,\n",
       "       14., 15., 16., 17., 18., 19., 20., 21., 22., 23., 24., 25., 26.,\n",
       "       27., 28., 29., 33., 34., 35., 36., 37., 52., 60., nan])"
      ]
     },
     "execution_count": 24,
     "metadata": {},
     "output_type": "execute_result"
    }
   ],
   "source": [
    "#просмотр уникальных значений столбца floors_total\n",
    "data['floors_total'].sort_values().unique()"
   ]
  },
  {
   "cell_type": "code",
   "execution_count": 25,
   "metadata": {},
   "outputs": [
    {
     "data": {
      "text/plain": [
       "86"
      ]
     },
     "execution_count": 25,
     "metadata": {},
     "output_type": "execute_result"
    }
   ],
   "source": [
    "#посчитаем количество пропусков в столбце floors_total\n",
    "data['floors_total'].isnull().sum()"
   ]
  },
  {
   "cell_type": "markdown",
   "metadata": {},
   "source": [
    "86 строк из 23699 строк пустые, что составляет 0,362 процента. Эти данные можно не удалять, поскольку они не влияют на качество и показатели исследования"
   ]
  },
  {
   "cell_type": "code",
   "execution_count": 26,
   "metadata": {},
   "outputs": [
    {
     "data": {
      "text/plain": [
       "array([ 1,  2,  3,  4,  5,  6,  7,  8,  9, 10, 11, 12, 13, 14, 15, 16, 17,\n",
       "       18, 19, 20, 21, 22, 23, 24, 25, 26, 27, 28, 29, 30, 31, 32, 33])"
      ]
     },
     "execution_count": 26,
     "metadata": {},
     "output_type": "execute_result"
    }
   ],
   "source": [
    "#просмотр уникальных значений столбца floor\n",
    "data['floor'].sort_values().unique()"
   ]
  },
  {
   "cell_type": "markdown",
   "metadata": {},
   "source": [
    "Значения выглядят релевантно, пропущенных значений нет"
   ]
  },
  {
   "cell_type": "code",
   "execution_count": 27,
   "metadata": {},
   "outputs": [
    {
     "data": {
      "text/plain": [
       "array([False, True, nan], dtype=object)"
      ]
     },
     "execution_count": 27,
     "metadata": {},
     "output_type": "execute_result"
    }
   ],
   "source": [
    "#просмотр уникальных значений столбца is_apartment\n",
    "data['is_apartment'].sort_values().unique()"
   ]
  },
  {
   "cell_type": "markdown",
   "metadata": {},
   "source": [
    "Столбец is_apartment предлагет булеву переменную - либо апартаменты, либо нет. Вероятнее всего - пропущенные значения означают, что выбраны не апартаменты, поскольку респонденты просто пропускали эту графу."
   ]
  },
  {
   "cell_type": "code",
   "execution_count": 28,
   "metadata": {},
   "outputs": [
    {
     "data": {
      "text/plain": [
       "20924"
      ]
     },
     "execution_count": 28,
     "metadata": {},
     "output_type": "execute_result"
    }
   ],
   "source": [
    "#посчитаем количество пропусков в столбце is_apartment\n",
    "data['is_apartment'].isnull().sum()"
   ]
  },
  {
   "cell_type": "code",
   "execution_count": 29,
   "metadata": {},
   "outputs": [],
   "source": [
    "#замена пропущенных значений в столбце значением False\n",
    "data['is_apartment'] = data['is_apartment'].fillna(0)"
   ]
  },
  {
   "cell_type": "code",
   "execution_count": null,
   "metadata": {},
   "outputs": [],
   "source": []
  },
  {
   "cell_type": "code",
   "execution_count": 30,
   "metadata": {},
   "outputs": [
    {
     "data": {
      "text/plain": [
       "array([False,  True])"
      ]
     },
     "execution_count": 30,
     "metadata": {},
     "output_type": "execute_result"
    }
   ],
   "source": [
    "#просмотр уникальных значений столбца studio\n",
    "data['studio'].sort_values().unique()"
   ]
  },
  {
   "cell_type": "code",
   "execution_count": 31,
   "metadata": {},
   "outputs": [
    {
     "data": {
      "text/plain": [
       "array([False,  True])"
      ]
     },
     "execution_count": 31,
     "metadata": {},
     "output_type": "execute_result"
    }
   ],
   "source": [
    "#просмотр уникальных значений столбца open_plan\n",
    "data['open_plan'].sort_values().unique()"
   ]
  },
  {
   "cell_type": "code",
   "execution_count": 32,
   "metadata": {},
   "outputs": [
    {
     "data": {
      "text/plain": [
       "array([  1.3 ,   2.  ,   2.3 ,   2.4 ,   2.89,   3.  ,   3.2 ,   3.3 ,\n",
       "         3.4 ,   3.5 ,   3.7 ,   3.8 ,   4.  ,   4.1 ,   4.2 ,   4.3 ,\n",
       "         4.4 ,   4.5 ,   4.6 ,   4.7 ,   4.8 ,   4.9 ,   5.  ,   5.04,\n",
       "         5.06,   5.1 ,   5.14,   5.2 ,   5.21,   5.23,   5.25,   5.28,\n",
       "         5.29,   5.3 ,   5.31,   5.33,   5.35,   5.4 ,   5.42,   5.44,\n",
       "         5.47,   5.49,   5.5 ,   5.53,   5.59,   5.6 ,   5.61,   5.62,\n",
       "         5.64,   5.65,   5.68,   5.7 ,   5.74,   5.75,   5.78,   5.8 ,\n",
       "         5.82,   5.85,   5.86,   5.9 ,   5.91,   6.  ,   6.02,   6.03,\n",
       "         6.1 ,   6.16,   6.19,   6.2 ,   6.22,   6.23,   6.24,   6.25,\n",
       "         6.26,   6.27,   6.28,   6.3 ,   6.31,   6.33,   6.35,   6.36,\n",
       "         6.37,   6.4 ,   6.47,   6.5 ,   6.55,   6.58,   6.6 ,   6.61,\n",
       "         6.62,   6.65,   6.7 ,   6.72,   6.73,   6.76,   6.77,   6.8 ,\n",
       "         6.82,   6.83,   6.84,   6.86,   6.9 ,   6.91,   6.93,   6.95,\n",
       "         7.  ,   7.02,   7.03,   7.06,   7.09,   7.1 ,   7.12,   7.15,\n",
       "         7.17,   7.18,   7.19,   7.2 ,   7.3 ,   7.36,   7.4 ,   7.41,\n",
       "         7.48,   7.5 ,   7.54,   7.6 ,   7.63,   7.65,   7.7 ,   7.71,\n",
       "         7.78,   7.8 ,   7.84,   7.85,   7.86,   7.87,   7.89,   7.9 ,\n",
       "         7.92,   7.94,   7.95,   7.97,   8.  ,   8.01,   8.02,   8.03,\n",
       "         8.05,   8.06,   8.07,   8.08,   8.09,   8.1 ,   8.11,   8.12,\n",
       "         8.13,   8.15,   8.18,   8.19,   8.2 ,   8.21,   8.23,   8.25,\n",
       "         8.29,   8.3 ,   8.31,   8.32,   8.34,   8.35,   8.38,   8.4 ,\n",
       "         8.43,   8.44,   8.45,   8.47,   8.48,   8.5 ,   8.52,   8.54,\n",
       "         8.57,   8.58,   8.6 ,   8.61,   8.63,   8.65,   8.66,   8.67,\n",
       "         8.69,   8.7 ,   8.71,   8.73,   8.76,   8.77,   8.8 ,   8.81,\n",
       "         8.82,   8.84,   8.85,   8.87,   8.9 ,   8.93,   8.94,   8.95,\n",
       "         8.96,   8.98,   9.  ,   9.01,   9.04,   9.05,   9.06,   9.08,\n",
       "         9.09,   9.1 ,   9.11,   9.13,   9.16,   9.17,   9.18,   9.19,\n",
       "         9.2 ,   9.22,   9.24,   9.25,   9.26,   9.27,   9.28,   9.3 ,\n",
       "         9.31,   9.32,   9.34,   9.35,   9.36,   9.37,   9.38,   9.39,\n",
       "         9.4 ,   9.42,   9.43,   9.44,   9.45,   9.46,   9.48,   9.5 ,\n",
       "         9.51,   9.52,   9.57,   9.58,   9.59,   9.6 ,   9.62,   9.65,\n",
       "         9.66,   9.67,   9.68,   9.7 ,   9.71,   9.72,   9.73,   9.75,\n",
       "         9.76,   9.77,   9.79,   9.8 ,   9.82,   9.83,   9.85,   9.89,\n",
       "         9.9 ,   9.91,   9.93,   9.95,   9.97,   9.98,  10.  ,  10.01,\n",
       "        10.02,  10.03,  10.05,  10.06,  10.08,  10.09,  10.1 ,  10.12,\n",
       "        10.13,  10.15,  10.17,  10.18,  10.19,  10.2 ,  10.22,  10.24,\n",
       "        10.25,  10.26,  10.27,  10.29,  10.3 ,  10.32,  10.33,  10.34,\n",
       "        10.35,  10.36,  10.37,  10.38,  10.39,  10.4 ,  10.42,  10.43,\n",
       "        10.44,  10.45,  10.46,  10.47,  10.49,  10.5 ,  10.51,  10.52,\n",
       "        10.54,  10.55,  10.56,  10.58,  10.59,  10.6 ,  10.62,  10.63,\n",
       "        10.64,  10.68,  10.69,  10.7 ,  10.71,  10.72,  10.73,  10.74,\n",
       "        10.75,  10.78,  10.79,  10.8 ,  10.84,  10.86,  10.87,  10.88,\n",
       "        10.89,  10.9 ,  10.91,  10.92,  10.94,  10.95,  10.99,  11.  ,\n",
       "        11.04,  11.05,  11.06,  11.07,  11.09,  11.1 ,  11.11,  11.12,\n",
       "        11.13,  11.14,  11.16,  11.17,  11.18,  11.2 ,  11.22,  11.24,\n",
       "        11.25,  11.26,  11.27,  11.28,  11.29,  11.3 ,  11.31,  11.33,\n",
       "        11.34,  11.35,  11.36,  11.37,  11.39,  11.4 ,  11.41,  11.42,\n",
       "        11.43,  11.44,  11.45,  11.46,  11.47,  11.49,  11.5 ,  11.51,\n",
       "        11.52,  11.53,  11.55,  11.56,  11.57,  11.59,  11.6 ,  11.62,\n",
       "        11.63,  11.64,  11.65,  11.67,  11.69,  11.7 ,  11.71,  11.73,\n",
       "        11.74,  11.78,  11.8 ,  11.81,  11.84,  11.85,  11.87,  11.9 ,\n",
       "        11.92,  11.93,  11.95,  11.98,  12.  ,  12.01,  12.02,  12.03,\n",
       "        12.05,  12.08,  12.1 ,  12.11,  12.14,  12.15,  12.17,  12.18,\n",
       "        12.2 ,  12.23,  12.24,  12.25,  12.27,  12.29,  12.3 ,  12.32,\n",
       "        12.35,  12.37,  12.38,  12.39,  12.4 ,  12.43,  12.44,  12.45,\n",
       "        12.47,  12.5 ,  12.52,  12.53,  12.55,  12.56,  12.57,  12.58,\n",
       "        12.6 ,  12.63,  12.66,  12.69,  12.7 ,  12.71,  12.72,  12.75,\n",
       "        12.76,  12.8 ,  12.83,  12.84,  12.85,  12.86,  12.87,  12.88,\n",
       "        12.89,  12.9 ,  12.92,  12.93,  12.96,  13.  ,  13.02,  13.04,\n",
       "        13.05,  13.06,  13.1 ,  13.11,  13.14,  13.16,  13.17,  13.2 ,\n",
       "        13.21,  13.24,  13.25,  13.26,  13.27,  13.28,  13.29,  13.3 ,\n",
       "        13.31,  13.32,  13.33,  13.35,  13.38,  13.39,  13.4 ,  13.41,\n",
       "        13.42,  13.43,  13.47,  13.49,  13.5 ,  13.52,  13.53,  13.55,\n",
       "        13.58,  13.6 ,  13.63,  13.64,  13.65,  13.67,  13.69,  13.7 ,\n",
       "        13.73,  13.74,  13.77,  13.79,  13.8 ,  13.81,  13.83,  13.84,\n",
       "        13.86,  13.9 ,  13.93,  13.95,  14.  ,  14.02,  14.04,  14.05,\n",
       "        14.06,  14.1 ,  14.14,  14.17,  14.2 ,  14.24,  14.27,  14.29,\n",
       "        14.3 ,  14.31,  14.33,  14.4 ,  14.43,  14.46,  14.49,  14.5 ,\n",
       "        14.51,  14.55,  14.56,  14.57,  14.58,  14.6 ,  14.61,  14.64,\n",
       "        14.65,  14.7 ,  14.72,  14.74,  14.77,  14.8 ,  14.84,  14.85,\n",
       "        14.9 ,  14.93,  14.95,  14.97,  14.98,  15.  ,  15.03,  15.07,\n",
       "        15.09,  15.1 ,  15.15,  15.18,  15.2 ,  15.24,  15.26,  15.3 ,\n",
       "        15.33,  15.35,  15.37,  15.39,  15.4 ,  15.42,  15.43,  15.5 ,\n",
       "        15.54,  15.55,  15.57,  15.6 ,  15.61,  15.62,  15.69,  15.7 ,\n",
       "        15.72,  15.78,  15.8 ,  15.83,  15.85,  15.9 ,  16.  ,  16.03,\n",
       "        16.05,  16.07,  16.1 ,  16.2 ,  16.25,  16.26,  16.27,  16.3 ,\n",
       "        16.32,  16.38,  16.4 ,  16.42,  16.45,  16.46,  16.47,  16.48,\n",
       "        16.5 ,  16.6 ,  16.66,  16.7 ,  16.72,  16.74,  16.77,  16.8 ,\n",
       "        16.83,  16.88,  16.89,  16.9 ,  16.92,  17.  ,  17.06,  17.1 ,\n",
       "        17.12,  17.2 ,  17.28,  17.3 ,  17.4 ,  17.44,  17.5 ,  17.53,\n",
       "        17.55,  17.59,  17.6 ,  17.61,  17.64,  17.7 ,  17.8 ,  17.85,\n",
       "        17.87,  17.9 ,  18.  ,  18.07,  18.1 ,  18.16,  18.2 ,  18.25,\n",
       "        18.3 ,  18.34,  18.4 ,  18.45,  18.5 ,  18.55,  18.59,  18.6 ,\n",
       "        18.7 ,  18.78,  18.8 ,  18.88,  18.9 ,  18.93,  19.  ,  19.1 ,\n",
       "        19.19,  19.2 ,  19.21,  19.28,  19.3 ,  19.35,  19.39,  19.4 ,\n",
       "        19.42,  19.45,  19.5 ,  19.51,  19.6 ,  19.61,  19.7 ,  19.8 ,\n",
       "        19.9 ,  19.92,  19.94,  20.  ,  20.07,  20.1 ,  20.16,  20.2 ,\n",
       "        20.24,  20.3 ,  20.31,  20.38,  20.4 ,  20.5 ,  20.52,  20.56,\n",
       "        20.6 ,  20.7 ,  20.77,  20.8 ,  20.9 ,  20.91,  20.92,  21.  ,\n",
       "        21.1 ,  21.2 ,  21.22,  21.25,  21.3 ,  21.4 ,  21.5 ,  21.53,\n",
       "        21.55,  21.6 ,  21.7 ,  21.74,  21.76,  21.8 ,  21.82,  21.87,\n",
       "        21.9 ,  22.  ,  22.1 ,  22.15,  22.2 ,  22.22,  22.3 ,  22.31,\n",
       "        22.4 ,  22.43,  22.46,  22.5 ,  22.6 ,  22.7 ,  22.72,  22.78,\n",
       "        22.8 ,  22.9 ,  23.  ,  23.1 ,  23.2 ,  23.25,  23.28,  23.3 ,\n",
       "        23.38,  23.4 ,  23.42,  23.43,  23.5 ,  23.53,  23.6 ,  23.7 ,\n",
       "        23.71,  23.8 ,  23.9 ,  24.  ,  24.03,  24.1 ,  24.2 ,  24.3 ,\n",
       "        24.4 ,  24.5 ,  24.6 ,  24.7 ,  24.8 ,  24.89,  24.9 ,  25.  ,\n",
       "        25.02,  25.1 ,  25.11,  25.2 ,  25.3 ,  25.34,  25.4 ,  25.5 ,\n",
       "        25.6 ,  25.7 ,  25.86,  25.9 ,  26.  ,  26.1 ,  26.2 ,  26.4 ,\n",
       "        26.5 ,  26.6 ,  26.7 ,  26.8 ,  26.85,  26.9 ,  27.  ,  27.1 ,\n",
       "        27.2 ,  27.3 ,  27.4 ,  27.5 ,  27.57,  27.6 ,  27.76,  27.9 ,\n",
       "        28.  ,  28.1 ,  28.2 ,  28.3 ,  28.4 ,  28.5 ,  28.52,  28.56,\n",
       "        28.6 ,  28.63,  28.64,  28.7 ,  28.8 ,  29.  ,  29.09,  29.1 ,\n",
       "        29.2 ,  29.3 ,  29.4 ,  29.5 ,  29.7 ,  29.8 ,  29.86,  29.9 ,\n",
       "        30.  ,  30.2 ,  30.5 ,  30.59,  30.6 ,  30.8 ,  30.9 ,  31.  ,\n",
       "        31.2 ,  31.3 ,  31.4 ,  31.47,  31.5 ,  31.6 ,  31.7 ,  31.73,\n",
       "        31.8 ,  32.  ,  32.1 ,  32.3 ,  32.4 ,  32.55,  32.6 ,  32.7 ,\n",
       "        32.8 ,  32.9 ,  33.  ,  33.1 ,  33.6 ,  33.8 ,  33.9 ,  34.  ,\n",
       "        34.1 ,  34.19,  34.3 ,  34.4 ,  34.51,  34.6 ,  34.7 ,  34.78,\n",
       "        34.8 ,  35.  ,  35.05,  35.1 ,  35.35,  35.4 ,  35.5 ,  35.6 ,\n",
       "        35.7 ,  35.9 ,  36.  ,  36.2 ,  36.3 ,  36.4 ,  36.5 ,  36.6 ,\n",
       "        37.  ,  37.5 ,  37.6 ,  37.7 ,  37.78,  37.8 ,  37.9 ,  38.  ,\n",
       "        38.1 ,  38.86,  39.  ,  39.1 ,  39.7 ,  39.9 ,  40.  ,  40.1 ,\n",
       "        40.2 ,  40.3 ,  40.4 ,  40.5 ,  40.7 ,  41.  ,  41.1 ,  41.3 ,\n",
       "        41.6 ,  41.9 ,  42.  ,  42.4 ,  42.5 ,  42.6 ,  42.7 ,  42.8 ,\n",
       "        43.  ,  43.2 ,  43.4 ,  43.8 ,  44.  ,  44.7 ,  44.9 ,  45.  ,\n",
       "        45.5 ,  46.  ,  46.8 ,  47.  ,  48.  ,  48.3 ,  48.5 ,  49.2 ,\n",
       "        49.4 ,  50.  ,  50.2 ,  51.  ,  51.8 ,  53.  ,  53.1 ,  54.  ,\n",
       "        54.2 ,  54.3 ,  55.5 ,  55.7 ,  56.  ,  56.2 ,  58.  ,  58.4 ,\n",
       "        60.  ,  62.  ,  62.5 ,  63.  ,  63.4 ,  64.  ,  65.  ,  66.  ,\n",
       "        70.  ,  72.  ,  75.  ,  77.  ,  87.2 ,  93.  ,  93.2 , 100.  ,\n",
       "       100.7 , 107.  , 112.  ,    nan])"
      ]
     },
     "execution_count": 32,
     "metadata": {},
     "output_type": "execute_result"
    }
   ],
   "source": [
    "#просмотр уникальных значений столбца open_plan\n",
    "data['kitchen_area'].sort_values().unique()"
   ]
  },
  {
   "cell_type": "code",
   "execution_count": 33,
   "metadata": {},
   "outputs": [
    {
     "data": {
      "text/plain": [
       "2278"
      ]
     },
     "execution_count": 33,
     "metadata": {},
     "output_type": "execute_result"
    }
   ],
   "source": [
    "data['kitchen_area'].isnull().sum()"
   ]
  },
  {
   "cell_type": "markdown",
   "metadata": {},
   "source": [
    "Значения релевантны, но присутствуют выбросы и пропущенные значения. Выбросы - сомнения представляют размеры кухни - 1.3 метра, 2 метра и тд, теоретически такие выбросы могут быть обоснованы квартирой - студией, в которой кухне отделена малая ать и включает только рабочую поверхность. "
   ]
  },
  {
   "cell_type": "markdown",
   "metadata": {},
   "source": [
    "Пока непонятно, как пропущенные значения могут повлиять на результат проекта. Замена значений медианными не представляется разумной в связи с возможным искажением данных. В требованиях проекта нет задачи рассмотрения площади кухни."
   ]
  },
  {
   "cell_type": "markdown",
   "metadata": {},
   "source": [
    "Столбцы locality_name, airports_nearest, city_Centers_nearest, parks_around3000, parks_nearest, ponds_nearest, ponds_around3000, days_exposition обладают пропусками, но обработка их невозможна, поскольку нет информации о репрезентативности этих частей выборки и точном местоположении каждого здания для уточнения качественных данных."
   ]
  },
  {
   "cell_type": "code",
   "execution_count": 34,
   "metadata": {},
   "outputs": [],
   "source": [
    "#перевод столбцов с форматом float 64 в float32\n",
    "data['last_price'] = data[['last_price']].astype(np.float32)\n",
    "data['total_area'] = data[['total_area']].astype(np.float32)\n",
    "data['ceiling_height'] = data[['ceiling_height']].astype(np.float32)\n",
    "data['floors_total'] = data[['floors_total']].astype(np.float32)\n",
    "data['living_area'] = data[['living_area']].astype(np.float32)\n",
    "data['kitchen_area'] = data[['kitchen_area']].astype(np.float32)\n",
    "data['balcony'] = data[['balcony']].astype(np.float32)\n",
    "data['airports_nearest'] = data[['airports_nearest']].astype(np.float32)\n",
    "data['cityCenters_nearest'] = data[['cityCenters_nearest']].astype(np.float32)\n",
    "data['parks_around3000'] = data[['parks_around3000']].astype(np.float32)\n",
    "data['parks_nearest'] = data[['parks_nearest']].astype(np.float32)\n",
    "data['ponds_around3000'] = data[['ponds_around3000']].astype(np.float32)\n",
    "data['ponds_nearest'] = data[['ponds_nearest']].astype(np.float32)\n",
    "data['days_exposition'] = data[['days_exposition']].astype(np.float32)"
   ]
  },
  {
   "cell_type": "code",
   "execution_count": 35,
   "metadata": {},
   "outputs": [
    {
     "name": "stdout",
     "output_type": "stream",
     "text": [
      "<class 'pandas.core.frame.DataFrame'>\n",
      "RangeIndex: 23699 entries, 0 to 23698\n",
      "Data columns (total 23 columns):\n",
      " #   Column                Non-Null Count  Dtype  \n",
      "---  ------                --------------  -----  \n",
      " 0   total_images          23699 non-null  int64  \n",
      " 1   last_price            23699 non-null  float32\n",
      " 2   total_area            23699 non-null  float32\n",
      " 3   first_day_exposition  23699 non-null  object \n",
      " 4   rooms                 23699 non-null  int64  \n",
      " 5   ceiling_height        14504 non-null  float32\n",
      " 6   floors_total          23613 non-null  float32\n",
      " 7   living_area           21796 non-null  float32\n",
      " 8   floor                 23699 non-null  int64  \n",
      " 9   is_apartment          23699 non-null  object \n",
      " 10  studio                23699 non-null  bool   \n",
      " 11  open_plan             23699 non-null  bool   \n",
      " 12  kitchen_area          21421 non-null  float32\n",
      " 13  balcony               12180 non-null  float32\n",
      " 14  locality_name         23699 non-null  object \n",
      " 15  airports_nearest      18157 non-null  float32\n",
      " 16  cityCenters_nearest   18180 non-null  float32\n",
      " 17  parks_around3000      18181 non-null  float32\n",
      " 18  parks_nearest         8079 non-null   float32\n",
      " 19  ponds_around3000      18181 non-null  float32\n",
      " 20  ponds_nearest         9110 non-null   float32\n",
      " 21  days_exposition       20518 non-null  float32\n",
      " 22  grouped_rooms         23699 non-null  object \n",
      "dtypes: bool(2), float32(14), int64(3), object(4)\n",
      "memory usage: 2.6+ MB\n"
     ]
    }
   ],
   "source": [
    "data.info()"
   ]
  },
  {
   "cell_type": "markdown",
   "metadata": {},
   "source": [
    "## Расчёты и добавление результатов в таблицу"
   ]
  },
  {
   "cell_type": "code",
   "execution_count": 36,
   "metadata": {},
   "outputs": [
    {
     "data": {
      "text/plain": [
       "9195"
      ]
     },
     "execution_count": 36,
     "metadata": {},
     "output_type": "execute_result"
    }
   ],
   "source": [
    "#просмотр и обработка пропусков в столбце ceiling_height\n",
    "data['ceiling_height'].isnull().sum()"
   ]
  },
  {
   "cell_type": "markdown",
   "metadata": {},
   "source": [
    "Из-за большого количества пропущенных значений в столбце их удаление нежелательно. Необходимо заменить значения медианными по группе. Медианные значения можно рассчитать, формировав релевантные группы по количеству комнат (столбец rooms), релевантной категорией также мог бы быть этаж здания (floors_total), но столбец floors_total обладает пропущенными значениями, которые могут повлиять на качество исследования."
   ]
  },
  {
   "cell_type": "code",
   "execution_count": 37,
   "metadata": {},
   "outputs": [
    {
     "data": {
      "text/plain": [
       "grouped_rooms\n",
       "1    2.62\n",
       "2    2.70\n",
       "3    3.30\n",
       "4    3.28\n",
       "Name: ceiling_height, dtype: float32"
      ]
     },
     "execution_count": 37,
     "metadata": {},
     "output_type": "execute_result"
    }
   ],
   "source": [
    "#найдем медианные значения по каждой группе для заполнения пропусков\n",
    "ceiling_height_grouped = data.groupby('grouped_rooms')['ceiling_height'].median()\n",
    "ceiling_height_grouped"
   ]
  },
  {
   "cell_type": "code",
   "execution_count": 38,
   "metadata": {},
   "outputs": [
    {
     "data": {
      "text/plain": [
       "0"
      ]
     },
     "execution_count": 38,
     "metadata": {},
     "output_type": "execute_result"
    }
   ],
   "source": [
    "#заполним пропуски медианными значениями по каждой группе\n",
    "for i in ceiling_height_grouped.index:\n",
    "    data.loc[(data['grouped_rooms'] == i) & (data['ceiling_height'].isnull()), 'ceiling_height'] = ceiling_height_grouped[i]\n",
    "#проверка количества пропущенных записей\n",
    "data['ceiling_height'].isnull().sum()"
   ]
  },
  {
   "cell_type": "code",
   "execution_count": 39,
   "metadata": {},
   "outputs": [
    {
     "data": {
      "text/plain": [
       "array([  2. ,   3. ,   5. , ..., 409. , 409.7,   nan], dtype=float32)"
      ]
     },
     "execution_count": 39,
     "metadata": {},
     "output_type": "execute_result"
    }
   ],
   "source": [
    "#просмотр уникальных значений столбца living_area\n",
    "data['living_area'].sort_values().unique()"
   ]
  },
  {
   "cell_type": "code",
   "execution_count": 40,
   "metadata": {},
   "outputs": [
    {
     "data": {
      "text/plain": [
       "1903"
      ]
     },
     "execution_count": 40,
     "metadata": {},
     "output_type": "execute_result"
    }
   ],
   "source": [
    "#проверка количества пропущенных значений living_area\n",
    "data['living_area'].isnull().sum()"
   ]
  },
  {
   "cell_type": "markdown",
   "metadata": {},
   "source": [
    "Из-за большого количества пропущенных значений в столбце их удаление нежелательно. Необходимо заменить значения медианными по группе. Медианные значения можно рассчитать, формировав релевантные группы по количеству комнат (столбец grouped_rooms)."
   ]
  },
  {
   "cell_type": "code",
   "execution_count": 41,
   "metadata": {},
   "outputs": [
    {
     "data": {
      "text/plain": [
       "0"
      ]
     },
     "execution_count": 41,
     "metadata": {},
     "output_type": "execute_result"
    }
   ],
   "source": [
    "living_area_grouped = data.groupby('grouped_rooms')['living_area'].median()\n",
    "#заполним пропуски медианными значениями по каждой группе\n",
    "for i in living_area_grouped.index:\n",
    "    data.loc[(data['grouped_rooms'] == i) & (data['living_area'].isnull()), 'living_area'] = living_area_grouped[i]\n",
    "#проверка количества пропущенных записей\n",
    "data['living_area'].isnull().sum()"
   ]
  },
  {
   "cell_type": "markdown",
   "metadata": {},
   "source": [
    "**Шаг 3. Посчитайте и добавьте в таблицу**\n",
    "цену квадратного метра;\n",
    "день недели, месяц и год публикации объявления;\n",
    "этаж квартиры; варианты — первый, последний, другой;\n",
    "соотношение жилой и общей площади, а также отношение площади кухни к общей."
   ]
  },
  {
   "cell_type": "code",
   "execution_count": 42,
   "metadata": {},
   "outputs": [],
   "source": [
    "#добавление в таблицу столбца - цена квадратного метра\n",
    "data['price_m'] = data['last_price'] / data['total_area']\n",
    "data['price_m'] = data['price_m'].round(decimals=3)"
   ]
  },
  {
   "cell_type": "code",
   "execution_count": 43,
   "metadata": {},
   "outputs": [],
   "source": [
    "#добавление столбцов c днем недели, месяцем и годом объявления\n",
    "data['first_day_exposition'] = pd.to_datetime(data['first_day_exposition'], format=\"%Y-%m-%dT%H:%M:%S\")\n",
    "data['day_of_week'] = data['first_day_exposition'].dt.day_name()\n",
    "data['month'] = data['first_day_exposition'].dt.month_name()\n",
    "data['year'] = data['first_day_exposition'].dt.year"
   ]
  },
  {
   "cell_type": "code",
   "execution_count": 44,
   "metadata": {},
   "outputs": [],
   "source": [
    "#добавление столбца с этажом квартиры\n",
    "def floor_status(row):\n",
    "    if row['floor'] == 1:\n",
    "        return 'первый'\n",
    "    elif row['floor'] == row['floors_total']:\n",
    "        return 'последний'\n",
    "    else:\n",
    "        return 'другой'\n",
    "data['floor_status'] = data.apply(floor_status, axis=1)"
   ]
  },
  {
   "cell_type": "code",
   "execution_count": 45,
   "metadata": {},
   "outputs": [],
   "source": [
    "#добавление столбца total_living_ratio - соотноение жилой и общей площади\n",
    "data['total_living_ratio'] = data['living_area'] / data['total_area']\n"
   ]
  },
  {
   "cell_type": "code",
   "execution_count": 46,
   "metadata": {},
   "outputs": [],
   "source": [
    "#добавление столбца total_kitchen_ratio - соотношение кухни и общей площади\n",
    "data['total_kitchen_ratio'] = data['kitchen_area'] / data['total_area']"
   ]
  },
  {
   "cell_type": "code",
   "execution_count": 47,
   "metadata": {},
   "outputs": [
    {
     "data": {
      "text/html": [
       "<div>\n",
       "<style scoped>\n",
       "    .dataframe tbody tr th:only-of-type {\n",
       "        vertical-align: middle;\n",
       "    }\n",
       "\n",
       "    .dataframe tbody tr th {\n",
       "        vertical-align: top;\n",
       "    }\n",
       "\n",
       "    .dataframe thead th {\n",
       "        text-align: right;\n",
       "    }\n",
       "</style>\n",
       "<table border=\"1\" class=\"dataframe\">\n",
       "  <thead>\n",
       "    <tr style=\"text-align: right;\">\n",
       "      <th></th>\n",
       "      <th>total_images</th>\n",
       "      <th>last_price</th>\n",
       "      <th>total_area</th>\n",
       "      <th>first_day_exposition</th>\n",
       "      <th>rooms</th>\n",
       "      <th>ceiling_height</th>\n",
       "      <th>floors_total</th>\n",
       "      <th>living_area</th>\n",
       "      <th>floor</th>\n",
       "      <th>is_apartment</th>\n",
       "      <th>...</th>\n",
       "      <th>ponds_nearest</th>\n",
       "      <th>days_exposition</th>\n",
       "      <th>grouped_rooms</th>\n",
       "      <th>price_m</th>\n",
       "      <th>day_of_week</th>\n",
       "      <th>month</th>\n",
       "      <th>year</th>\n",
       "      <th>floor_status</th>\n",
       "      <th>total_living_ratio</th>\n",
       "      <th>total_kitchen_ratio</th>\n",
       "    </tr>\n",
       "  </thead>\n",
       "  <tbody>\n",
       "    <tr>\n",
       "      <th>18743</th>\n",
       "      <td>4</td>\n",
       "      <td>3.900000</td>\n",
       "      <td>38.000000</td>\n",
       "      <td>2019-05-02</td>\n",
       "      <td>1</td>\n",
       "      <td>2.62</td>\n",
       "      <td>17.0</td>\n",
       "      <td>17.600000</td>\n",
       "      <td>7</td>\n",
       "      <td>0</td>\n",
       "      <td>...</td>\n",
       "      <td>NaN</td>\n",
       "      <td>NaN</td>\n",
       "      <td>1</td>\n",
       "      <td>0.103</td>\n",
       "      <td>Thursday</td>\n",
       "      <td>May</td>\n",
       "      <td>2019</td>\n",
       "      <td>другой</td>\n",
       "      <td>0.463158</td>\n",
       "      <td>0.302632</td>\n",
       "    </tr>\n",
       "    <tr>\n",
       "      <th>8926</th>\n",
       "      <td>14</td>\n",
       "      <td>4.090000</td>\n",
       "      <td>61.799999</td>\n",
       "      <td>2018-08-01</td>\n",
       "      <td>2</td>\n",
       "      <td>2.62</td>\n",
       "      <td>9.0</td>\n",
       "      <td>23.000000</td>\n",
       "      <td>2</td>\n",
       "      <td>0</td>\n",
       "      <td>...</td>\n",
       "      <td>NaN</td>\n",
       "      <td>45.0</td>\n",
       "      <td>1</td>\n",
       "      <td>0.066</td>\n",
       "      <td>Wednesday</td>\n",
       "      <td>August</td>\n",
       "      <td>2018</td>\n",
       "      <td>другой</td>\n",
       "      <td>0.372168</td>\n",
       "      <td>NaN</td>\n",
       "    </tr>\n",
       "    <tr>\n",
       "      <th>16489</th>\n",
       "      <td>2</td>\n",
       "      <td>5.650000</td>\n",
       "      <td>79.599998</td>\n",
       "      <td>2019-03-08</td>\n",
       "      <td>3</td>\n",
       "      <td>2.60</td>\n",
       "      <td>9.0</td>\n",
       "      <td>48.599998</td>\n",
       "      <td>3</td>\n",
       "      <td>0</td>\n",
       "      <td>...</td>\n",
       "      <td>370.0</td>\n",
       "      <td>NaN</td>\n",
       "      <td>2</td>\n",
       "      <td>0.071</td>\n",
       "      <td>Friday</td>\n",
       "      <td>March</td>\n",
       "      <td>2019</td>\n",
       "      <td>другой</td>\n",
       "      <td>0.610553</td>\n",
       "      <td>0.144472</td>\n",
       "    </tr>\n",
       "    <tr>\n",
       "      <th>12128</th>\n",
       "      <td>7</td>\n",
       "      <td>3.270000</td>\n",
       "      <td>41.650002</td>\n",
       "      <td>2018-04-03</td>\n",
       "      <td>1</td>\n",
       "      <td>2.62</td>\n",
       "      <td>17.0</td>\n",
       "      <td>23.000000</td>\n",
       "      <td>1</td>\n",
       "      <td>0</td>\n",
       "      <td>...</td>\n",
       "      <td>NaN</td>\n",
       "      <td>116.0</td>\n",
       "      <td>1</td>\n",
       "      <td>0.079</td>\n",
       "      <td>Tuesday</td>\n",
       "      <td>April</td>\n",
       "      <td>2018</td>\n",
       "      <td>первый</td>\n",
       "      <td>0.552221</td>\n",
       "      <td>0.247779</td>\n",
       "    </tr>\n",
       "    <tr>\n",
       "      <th>15743</th>\n",
       "      <td>14</td>\n",
       "      <td>5.600000</td>\n",
       "      <td>67.000000</td>\n",
       "      <td>2016-11-11</td>\n",
       "      <td>3</td>\n",
       "      <td>8.00</td>\n",
       "      <td>16.0</td>\n",
       "      <td>41.000000</td>\n",
       "      <td>1</td>\n",
       "      <td>0</td>\n",
       "      <td>...</td>\n",
       "      <td>NaN</td>\n",
       "      <td>474.0</td>\n",
       "      <td>2</td>\n",
       "      <td>0.084</td>\n",
       "      <td>Friday</td>\n",
       "      <td>November</td>\n",
       "      <td>2016</td>\n",
       "      <td>первый</td>\n",
       "      <td>0.611940</td>\n",
       "      <td>0.119403</td>\n",
       "    </tr>\n",
       "    <tr>\n",
       "      <th>2213</th>\n",
       "      <td>1</td>\n",
       "      <td>4.217233</td>\n",
       "      <td>44.900002</td>\n",
       "      <td>2017-08-17</td>\n",
       "      <td>1</td>\n",
       "      <td>2.62</td>\n",
       "      <td>7.0</td>\n",
       "      <td>16.910000</td>\n",
       "      <td>7</td>\n",
       "      <td>0</td>\n",
       "      <td>...</td>\n",
       "      <td>429.0</td>\n",
       "      <td>45.0</td>\n",
       "      <td>1</td>\n",
       "      <td>0.094</td>\n",
       "      <td>Thursday</td>\n",
       "      <td>August</td>\n",
       "      <td>2017</td>\n",
       "      <td>последний</td>\n",
       "      <td>0.376615</td>\n",
       "      <td>0.292650</td>\n",
       "    </tr>\n",
       "    <tr>\n",
       "      <th>10328</th>\n",
       "      <td>9</td>\n",
       "      <td>4.100000</td>\n",
       "      <td>44.000000</td>\n",
       "      <td>2017-06-01</td>\n",
       "      <td>2</td>\n",
       "      <td>2.50</td>\n",
       "      <td>5.0</td>\n",
       "      <td>27.000000</td>\n",
       "      <td>2</td>\n",
       "      <td>False</td>\n",
       "      <td>...</td>\n",
       "      <td>NaN</td>\n",
       "      <td>250.0</td>\n",
       "      <td>1</td>\n",
       "      <td>0.093</td>\n",
       "      <td>Thursday</td>\n",
       "      <td>June</td>\n",
       "      <td>2017</td>\n",
       "      <td>другой</td>\n",
       "      <td>0.613636</td>\n",
       "      <td>0.159091</td>\n",
       "    </tr>\n",
       "    <tr>\n",
       "      <th>3766</th>\n",
       "      <td>10</td>\n",
       "      <td>6.200000</td>\n",
       "      <td>64.400002</td>\n",
       "      <td>2015-06-23</td>\n",
       "      <td>3</td>\n",
       "      <td>2.70</td>\n",
       "      <td>9.0</td>\n",
       "      <td>43.099998</td>\n",
       "      <td>9</td>\n",
       "      <td>0</td>\n",
       "      <td>...</td>\n",
       "      <td>NaN</td>\n",
       "      <td>1095.0</td>\n",
       "      <td>2</td>\n",
       "      <td>0.096</td>\n",
       "      <td>Tuesday</td>\n",
       "      <td>June</td>\n",
       "      <td>2015</td>\n",
       "      <td>последний</td>\n",
       "      <td>0.669255</td>\n",
       "      <td>0.133540</td>\n",
       "    </tr>\n",
       "    <tr>\n",
       "      <th>2207</th>\n",
       "      <td>20</td>\n",
       "      <td>8.300000</td>\n",
       "      <td>63.200001</td>\n",
       "      <td>2019-04-04</td>\n",
       "      <td>2</td>\n",
       "      <td>2.50</td>\n",
       "      <td>17.0</td>\n",
       "      <td>35.500000</td>\n",
       "      <td>10</td>\n",
       "      <td>0</td>\n",
       "      <td>...</td>\n",
       "      <td>758.0</td>\n",
       "      <td>26.0</td>\n",
       "      <td>1</td>\n",
       "      <td>0.131</td>\n",
       "      <td>Thursday</td>\n",
       "      <td>April</td>\n",
       "      <td>2019</td>\n",
       "      <td>другой</td>\n",
       "      <td>0.561709</td>\n",
       "      <td>0.180380</td>\n",
       "    </tr>\n",
       "    <tr>\n",
       "      <th>19595</th>\n",
       "      <td>7</td>\n",
       "      <td>2.050000</td>\n",
       "      <td>46.000000</td>\n",
       "      <td>2018-12-14</td>\n",
       "      <td>1</td>\n",
       "      <td>2.50</td>\n",
       "      <td>5.0</td>\n",
       "      <td>30.000000</td>\n",
       "      <td>5</td>\n",
       "      <td>0</td>\n",
       "      <td>...</td>\n",
       "      <td>NaN</td>\n",
       "      <td>45.0</td>\n",
       "      <td>1</td>\n",
       "      <td>0.045</td>\n",
       "      <td>Friday</td>\n",
       "      <td>December</td>\n",
       "      <td>2018</td>\n",
       "      <td>последний</td>\n",
       "      <td>0.652174</td>\n",
       "      <td>0.130435</td>\n",
       "    </tr>\n",
       "  </tbody>\n",
       "</table>\n",
       "<p>10 rows × 30 columns</p>\n",
       "</div>"
      ],
      "text/plain": [
       "       total_images  last_price  total_area first_day_exposition  rooms  \\\n",
       "18743             4    3.900000   38.000000           2019-05-02      1   \n",
       "8926             14    4.090000   61.799999           2018-08-01      2   \n",
       "16489             2    5.650000   79.599998           2019-03-08      3   \n",
       "12128             7    3.270000   41.650002           2018-04-03      1   \n",
       "15743            14    5.600000   67.000000           2016-11-11      3   \n",
       "2213              1    4.217233   44.900002           2017-08-17      1   \n",
       "10328             9    4.100000   44.000000           2017-06-01      2   \n",
       "3766             10    6.200000   64.400002           2015-06-23      3   \n",
       "2207             20    8.300000   63.200001           2019-04-04      2   \n",
       "19595             7    2.050000   46.000000           2018-12-14      1   \n",
       "\n",
       "       ceiling_height  floors_total  living_area  floor is_apartment  ...  \\\n",
       "18743            2.62          17.0    17.600000      7            0  ...   \n",
       "8926             2.62           9.0    23.000000      2            0  ...   \n",
       "16489            2.60           9.0    48.599998      3            0  ...   \n",
       "12128            2.62          17.0    23.000000      1            0  ...   \n",
       "15743            8.00          16.0    41.000000      1            0  ...   \n",
       "2213             2.62           7.0    16.910000      7            0  ...   \n",
       "10328            2.50           5.0    27.000000      2        False  ...   \n",
       "3766             2.70           9.0    43.099998      9            0  ...   \n",
       "2207             2.50          17.0    35.500000     10            0  ...   \n",
       "19595            2.50           5.0    30.000000      5            0  ...   \n",
       "\n",
       "       ponds_nearest  days_exposition  grouped_rooms  price_m day_of_week  \\\n",
       "18743            NaN              NaN              1    0.103    Thursday   \n",
       "8926             NaN             45.0              1    0.066   Wednesday   \n",
       "16489          370.0              NaN              2    0.071      Friday   \n",
       "12128            NaN            116.0              1    0.079     Tuesday   \n",
       "15743            NaN            474.0              2    0.084      Friday   \n",
       "2213           429.0             45.0              1    0.094    Thursday   \n",
       "10328            NaN            250.0              1    0.093    Thursday   \n",
       "3766             NaN           1095.0              2    0.096     Tuesday   \n",
       "2207           758.0             26.0              1    0.131    Thursday   \n",
       "19595            NaN             45.0              1    0.045      Friday   \n",
       "\n",
       "          month  year  floor_status  total_living_ratio  total_kitchen_ratio  \n",
       "18743       May  2019        другой            0.463158             0.302632  \n",
       "8926     August  2018        другой            0.372168                  NaN  \n",
       "16489     March  2019        другой            0.610553             0.144472  \n",
       "12128     April  2018        первый            0.552221             0.247779  \n",
       "15743  November  2016        первый            0.611940             0.119403  \n",
       "2213     August  2017     последний            0.376615             0.292650  \n",
       "10328      June  2017        другой            0.613636             0.159091  \n",
       "3766       June  2015     последний            0.669255             0.133540  \n",
       "2207      April  2019        другой            0.561709             0.180380  \n",
       "19595  December  2018     последний            0.652174             0.130435  \n",
       "\n",
       "[10 rows x 30 columns]"
      ]
     },
     "execution_count": 47,
     "metadata": {},
     "output_type": "execute_result"
    }
   ],
   "source": [
    "#просмотр обновленной таблицы\n",
    "data.sample(10)"
   ]
  },
  {
   "cell_type": "markdown",
   "metadata": {},
   "source": [
    "На данном этапе предобработка данных закончена. Явные дубликаты выявлены, пропуски в данных изучены, в случае необходимости заменены на медианные значения по группам. Типы данных соответствуют необходимым. Необходимые столбцы добавлены в датасет."
   ]
  },
  {
   "cell_type": "markdown",
   "metadata": {},
   "source": [
    "## Исследовательский анализ данных"
   ]
  },
  {
   "cell_type": "markdown",
   "metadata": {},
   "source": [
    "**Задача 1** Изучите следующие параметры: площадь, цена, число комнат, высота потолков. Постройте гистограммы для каждого параметра."
   ]
  },
  {
   "cell_type": "code",
   "execution_count": 48,
   "metadata": {},
   "outputs": [
    {
     "data": {
      "text/html": [
       "<div>\n",
       "<style scoped>\n",
       "    .dataframe tbody tr th:only-of-type {\n",
       "        vertical-align: middle;\n",
       "    }\n",
       "\n",
       "    .dataframe tbody tr th {\n",
       "        vertical-align: top;\n",
       "    }\n",
       "\n",
       "    .dataframe thead th {\n",
       "        text-align: right;\n",
       "    }\n",
       "</style>\n",
       "<table border=\"1\" class=\"dataframe\">\n",
       "  <thead>\n",
       "    <tr style=\"text-align: right;\">\n",
       "      <th></th>\n",
       "      <th>total_area</th>\n",
       "      <th>living_area</th>\n",
       "      <th>last_price</th>\n",
       "      <th>rooms</th>\n",
       "      <th>ceiling_height</th>\n",
       "    </tr>\n",
       "  </thead>\n",
       "  <tbody>\n",
       "    <tr>\n",
       "      <th>count</th>\n",
       "      <td>23699.000000</td>\n",
       "      <td>23699.000000</td>\n",
       "      <td>23699.000000</td>\n",
       "      <td>23699.000000</td>\n",
       "      <td>23699.000000</td>\n",
       "    </tr>\n",
       "    <tr>\n",
       "      <th>mean</th>\n",
       "      <td>60.348774</td>\n",
       "      <td>34.182079</td>\n",
       "      <td>6.541546</td>\n",
       "      <td>2.070636</td>\n",
       "      <td>2.722831</td>\n",
       "    </tr>\n",
       "    <tr>\n",
       "      <th>std</th>\n",
       "      <td>35.654266</td>\n",
       "      <td>21.528605</td>\n",
       "      <td>10.887005</td>\n",
       "      <td>1.078405</td>\n",
       "      <td>0.989208</td>\n",
       "    </tr>\n",
       "    <tr>\n",
       "      <th>min</th>\n",
       "      <td>12.000000</td>\n",
       "      <td>2.000000</td>\n",
       "      <td>0.012190</td>\n",
       "      <td>0.000000</td>\n",
       "      <td>1.000000</td>\n",
       "    </tr>\n",
       "    <tr>\n",
       "      <th>25%</th>\n",
       "      <td>40.000000</td>\n",
       "      <td>19.000000</td>\n",
       "      <td>3.400000</td>\n",
       "      <td>1.000000</td>\n",
       "      <td>2.600000</td>\n",
       "    </tr>\n",
       "    <tr>\n",
       "      <th>50%</th>\n",
       "      <td>52.000000</td>\n",
       "      <td>30.000000</td>\n",
       "      <td>4.650000</td>\n",
       "      <td>2.000000</td>\n",
       "      <td>2.620000</td>\n",
       "    </tr>\n",
       "    <tr>\n",
       "      <th>75%</th>\n",
       "      <td>69.900002</td>\n",
       "      <td>42.700001</td>\n",
       "      <td>6.800000</td>\n",
       "      <td>3.000000</td>\n",
       "      <td>2.700000</td>\n",
       "    </tr>\n",
       "    <tr>\n",
       "      <th>max</th>\n",
       "      <td>900.000000</td>\n",
       "      <td>409.700012</td>\n",
       "      <td>763.000000</td>\n",
       "      <td>19.000000</td>\n",
       "      <td>100.000000</td>\n",
       "    </tr>\n",
       "  </tbody>\n",
       "</table>\n",
       "</div>"
      ],
      "text/plain": [
       "         total_area   living_area    last_price         rooms  ceiling_height\n",
       "count  23699.000000  23699.000000  23699.000000  23699.000000    23699.000000\n",
       "mean      60.348774     34.182079      6.541546      2.070636        2.722831\n",
       "std       35.654266     21.528605     10.887005      1.078405        0.989208\n",
       "min       12.000000      2.000000      0.012190      0.000000        1.000000\n",
       "25%       40.000000     19.000000      3.400000      1.000000        2.600000\n",
       "50%       52.000000     30.000000      4.650000      2.000000        2.620000\n",
       "75%       69.900002     42.700001      6.800000      3.000000        2.700000\n",
       "max      900.000000    409.700012    763.000000     19.000000      100.000000"
      ]
     },
     "execution_count": 48,
     "metadata": {},
     "output_type": "execute_result"
    }
   ],
   "source": [
    "#Изучение параметров:  площадь квартиры в квадратных метрах (м²), жилая площадь в квадратных метрах (м²), \n",
    "#цена на момент снятия с публикации, число комнат, высота потолков (м) - столбцы total_area, living_area, \n",
    "#last_price, rooms, ceiling_height\n",
    "data[['total_area', 'living_area', 'last_price', 'rooms', 'ceiling_height']].describe()"
   ]
  },
  {
   "cell_type": "code",
   "execution_count": 49,
   "metadata": {},
   "outputs": [
    {
     "data": {
      "text/plain": [
       "Text(0, 0.5, 'Частота встречаемых значений')"
      ]
     },
     "execution_count": 49,
     "metadata": {},
     "output_type": "execute_result"
    },
    {
     "data": {
      "image/png": "[encoded data removed]",
      "text/plain": [
       "<Figure size 1080x432 with 1 Axes>"
      ]
     },
     "metadata": {
      "needs_background": "light"
     },
     "output_type": "display_data"
    }
   ],
   "source": [
    "#построение гистограммы для параметра total_area\n",
    "\n",
    "ax = data['total_area'].plot(kind='hist', bins=400, sharex=False, figsize=(15,6), xlim=(0,400))\n",
    "\n",
    "ax.set_xlabel('Площадь квартиры в квадратных метрах')\n",
    "ax.set_ylabel('Частота встречаемых значений')"
   ]
  },
  {
   "cell_type": "markdown",
   "metadata": {},
   "source": [
    "По гистограмме видно, что в столбце total_area преобладают значения от 30 до 75 (значения измеряются в квадратных метрах), но также присутствуют и отдельные значения до 400. Выбросы исключены из гистограммы"
   ]
  },
  {
   "cell_type": "code",
   "execution_count": 50,
   "metadata": {},
   "outputs": [
    {
     "data": {
      "text/plain": [
       "Text(0, 0.5, 'Частота встречаемых значений')"
      ]
     },
     "execution_count": 50,
     "metadata": {},
     "output_type": "execute_result"
    },
    {
     "data": {
      "image/png": "[encoded data removed]",
      "text/plain": [
       "<Figure size 1080x432 with 1 Axes>"
      ]
     },
     "metadata": {
      "needs_background": "light"
     },
     "output_type": "display_data"
    }
   ],
   "source": [
    "#построение гистограммы для параметра living_area\n",
    "ax = data['living_area'].plot(kind='hist', bins=400, sharex=False, figsize=(15,6), xlim=(0,200))\n",
    "\n",
    "ax.set_xlabel('Жилая площадь квартиры в квадратных метрах')\n",
    "ax.set_ylabel('Частота встречаемых значений')"
   ]
  },
  {
   "cell_type": "markdown",
   "metadata": {},
   "source": [
    "На гистограмме отражены значения, релевантные предыдущей гистограмме, поскольку логично, что жилая площадь помещения меньше общей площади помещения. Значения также измеряются в квадратных метрах, выбросы исключены."
   ]
  },
  {
   "cell_type": "code",
   "execution_count": 51,
   "metadata": {},
   "outputs": [
    {
     "data": {
      "text/plain": [
       "Text(0, 0.5, 'Частота встречаемых значений')"
      ]
     },
     "execution_count": 51,
     "metadata": {},
     "output_type": "execute_result"
    },
    {
     "data": {
      "image/png": "[encoded data removed]",
      "text/plain": [
       "<Figure size 1080x432 with 1 Axes>"
      ]
     },
     "metadata": {
      "needs_background": "light"
     },
     "output_type": "display_data"
    }
   ],
   "source": [
    "#построение гистограммы для параметра last_price\n",
    "ax = data['last_price'].plot(sharex=False, figsize=(15,6), grid=True, style='o')\n",
    "\n",
    "ax.set_xlabel('Цена на момент снятия с публикации')\n",
    "ax.set_ylabel('Частота встречаемых значений')"
   ]
  },
  {
   "cell_type": "markdown",
   "metadata": {},
   "source": [
    "По данной гистограмме сложнее понять содержимое, но тем не менее видно, что присутствуют незначительные выбросы, то есть некоторые квартиры продаются значительно дороже средней рыночной цены по данному сегменту"
   ]
  },
  {
   "cell_type": "code",
   "execution_count": 52,
   "metadata": {},
   "outputs": [
    {
     "data": {
      "text/plain": [
       "Text(0, 0.5, 'Частота встречаемых значений')"
      ]
     },
     "execution_count": 52,
     "metadata": {},
     "output_type": "execute_result"
    },
    {
     "data": {
      "image/png": "[encoded data removed]",
      "text/plain": [
       "<Figure size 1080x432 with 1 Axes>"
      ]
     },
     "metadata": {
      "needs_background": "light"
     },
     "output_type": "display_data"
    }
   ],
   "source": [
    "#построение гистограммы для параметра rooms\n",
    "ax = data['rooms'].plot(kind='hist', sharex=False, figsize=(15,6), xlim=(0,10))\n",
    "ax.set_xlabel('Количество комнат')\n",
    "ax.set_ylabel('Частота встречаемых значений')"
   ]
  },
  {
   "cell_type": "markdown",
   "metadata": {},
   "source": [
    "Данные релевантны, выделен основной массив значений, выбросы исключены"
   ]
  },
  {
   "cell_type": "code",
   "execution_count": 53,
   "metadata": {},
   "outputs": [
    {
     "data": {
      "text/plain": [
       "array([[<AxesSubplot:xlabel='total_area', ylabel='total_area'>,\n",
       "        <AxesSubplot:xlabel='rooms', ylabel='total_area'>,\n",
       "        <AxesSubplot:xlabel='living_area', ylabel='total_area'>,\n",
       "        <AxesSubplot:xlabel='last_price', ylabel='total_area'>,\n",
       "        <AxesSubplot:xlabel='ceiling_height', ylabel='total_area'>],\n",
       "       [<AxesSubplot:xlabel='total_area', ylabel='rooms'>,\n",
       "        <AxesSubplot:xlabel='rooms', ylabel='rooms'>,\n",
       "        <AxesSubplot:xlabel='living_area', ylabel='rooms'>,\n",
       "        <AxesSubplot:xlabel='last_price', ylabel='rooms'>,\n",
       "        <AxesSubplot:xlabel='ceiling_height', ylabel='rooms'>],\n",
       "       [<AxesSubplot:xlabel='total_area', ylabel='living_area'>,\n",
       "        <AxesSubplot:xlabel='rooms', ylabel='living_area'>,\n",
       "        <AxesSubplot:xlabel='living_area', ylabel='living_area'>,\n",
       "        <AxesSubplot:xlabel='last_price', ylabel='living_area'>,\n",
       "        <AxesSubplot:xlabel='ceiling_height', ylabel='living_area'>],\n",
       "       [<AxesSubplot:xlabel='total_area', ylabel='last_price'>,\n",
       "        <AxesSubplot:xlabel='rooms', ylabel='last_price'>,\n",
       "        <AxesSubplot:xlabel='living_area', ylabel='last_price'>,\n",
       "        <AxesSubplot:xlabel='last_price', ylabel='last_price'>,\n",
       "        <AxesSubplot:xlabel='ceiling_height', ylabel='last_price'>],\n",
       "       [<AxesSubplot:xlabel='total_area', ylabel='ceiling_height'>,\n",
       "        <AxesSubplot:xlabel='rooms', ylabel='ceiling_height'>,\n",
       "        <AxesSubplot:xlabel='living_area', ylabel='ceiling_height'>,\n",
       "        <AxesSubplot:xlabel='last_price', ylabel='ceiling_height'>,\n",
       "        <AxesSubplot:xlabel='ceiling_height', ylabel='ceiling_height'>]],\n",
       "      dtype=object)"
      ]
     },
     "execution_count": 53,
     "metadata": {},
     "output_type": "execute_result"
    },
    {
     "data": {
      "image/png": "[encoded data removed]",
      "text/plain": [
       "<Figure size 648x648 with 25 Axes>"
      ]
     },
     "metadata": {
      "needs_background": "light"
     },
     "output_type": "display_data"
    }
   ],
   "source": [
    "#построение матрицы диаграмм рассеивания для столбца ceiling_height\n",
    "#сделаем датафрейм, включив туда все данные, необходимые к анализу\n",
    "ceiling_height_dataframe=data[['total_area', 'grouped_rooms', 'rooms', 'living_area', 'last_price', 'ceiling_height']]\n",
    "pd.plotting.scatter_matrix(ceiling_height_dataframe, figsize=(9,9))"
   ]
  },
  {
   "cell_type": "markdown",
   "metadata": {},
   "source": [
    "Исходя из матрицы диаграмм рассеивания видно, что ceiling_height наиболее качественно коррелирует с rooms и living_area"
   ]
  },
  {
   "cell_type": "markdown",
   "metadata": {},
   "source": [
    "**Задача 2** Изучите время продажи квартиры. Постройте гистограмму. Посчитайте среднее и медиану. Опишите, сколько обычно занимает продажа. Когда можно считать, что продажи прошли очень быстро, а когда необычно долго?"
   ]
  },
  {
   "cell_type": "code",
   "execution_count": 54,
   "metadata": {},
   "outputs": [
    {
     "data": {
      "text/plain": [
       "count    20518.000000\n",
       "mean       180.888641\n",
       "std        219.728500\n",
       "min          1.000000\n",
       "25%         45.000000\n",
       "50%         95.000000\n",
       "75%        232.000000\n",
       "max       1580.000000\n",
       "Name: days_exposition, dtype: float64"
      ]
     },
     "execution_count": 54,
     "metadata": {},
     "output_type": "execute_result"
    }
   ],
   "source": [
    "#время продажи квартиры показывает days_exposition\n",
    "data['days_exposition'].describe()"
   ]
  },
  {
   "cell_type": "markdown",
   "metadata": {},
   "source": [
    "Общие данные по значениям релевантны, минимальное значение составляет 1 день, максимально 1580 дней, среднее количество дней составляет практически 220 дней, в то время как медианное лучше учитывает выбросы и составляет почти 181 день. Необходимо взглянуть на гистограмму для более глубокого анализа."
   ]
  },
  {
   "cell_type": "code",
   "execution_count": 55,
   "metadata": {
    "scrolled": true
   },
   "outputs": [
    {
     "data": {
      "text/plain": [
       "Text(0, 0.5, 'Частота встречаемых значений')"
      ]
     },
     "execution_count": 55,
     "metadata": {},
     "output_type": "execute_result"
    },
    {
     "data": {
      "image/png": "[encoded data removed]",
      "text/plain": [
       "<Figure size 1080x432 with 1 Axes>"
      ]
     },
     "metadata": {
      "needs_background": "light"
     },
     "output_type": "display_data"
    }
   ],
   "source": [
    "ax = data['days_exposition'].plot(kind='hist', sharex=False, figsize=(15,6), grid=True, style='o', title='Гистограмма для анализа количества дней выставленного объявления')\n",
    "\n",
    "ax.set_xlabel('Cколько дней было размещено объявление (от публикации до снятия)')\n",
    "ax.set_ylabel('Частота встречаемых значений')"
   ]
  },
  {
   "cell_type": "markdown",
   "metadata": {},
   "source": [
    "Данная гистограмма показывает, что на среднее время выставленного объявления и медиану значительно влияют \"непопулярные\" квартиры, большая часть продаж приходится на время до 180 дней.Согласно данным гистограммы можно считать, что продажа проходит быстро если она заняла менее 180 дней, значения больше 400 дней встречаются значительно реже и такие продажи можно считать необычно долгими."
   ]
  },
  {
   "cell_type": "code",
   "execution_count": 56,
   "metadata": {
    "scrolled": true
   },
   "outputs": [
    {
     "data": {
      "text/plain": [
       "Text(0, 0.5, 'Частота встречаемых значений')"
      ]
     },
     "execution_count": 56,
     "metadata": {},
     "output_type": "execute_result"
    },
    {
     "data": {
      "image/png": "[encoded data removed]",
      "text/plain": [
       "<Figure size 1080x432 with 1 Axes>"
      ]
     },
     "metadata": {
      "needs_background": "light"
     },
     "output_type": "display_data"
    }
   ],
   "source": [
    "#построим гистограмму продаж, исключив выбивающиеся \"долгие\" продажи\n",
    "ax = data['days_exposition'].plot(kind='hist', xlim=(0,500), ylim=(0,15000), sharex=False, figsize=(15,6), grid=True, style='o', title='Гистограмма для анализа количества дней выставленного объявления')\n",
    "\n",
    "ax.set_xlabel('Cколько дней было размещено объявление (от публикации до снятия)')\n",
    "ax.set_ylabel('Частота встречаемых значений')"
   ]
  },
  {
   "cell_type": "markdown",
   "metadata": {},
   "source": [
    "При такой сегментации можно уточнить, что \"быстрые\" продажи совершаются в срок менее 150-ти дней, \"долгие\" продажи исключены."
   ]
  },
  {
   "cell_type": "code",
   "execution_count": 75,
   "metadata": {},
   "outputs": [],
   "source": [
    "#Удаление выбросов из данных для дальнейшей оценки\n",
    "\n",
    "def without_emissions(data, column,graphic=0,x=10,y=10):\n",
    "    q1 = data[column].quantile(0.25)                 \n",
    "    q3 = data[column].quantile(0.75)\n",
    "    base = q3 - q1\n",
    "    filtered_emissions = (data[column] >= (q1 - 1.5*base)) & (data[column] <= (q3 + 1.5*base))\n",
    "    if graphic == 1:\n",
    "        return data.loc[filter].boxplot([column], figsize=(x,y))\n",
    "    else:\n",
    "        return data.loc[filter]"
   ]
  },
  {
   "cell_type": "markdown",
   "metadata": {},
   "source": [
    "**Задача 3** Какие факторы больше всего влияют на стоимость квартиры? Изучите, зависит ли цена от площади, числа комнат, удалённости от центра. Изучите зависимость цены от того, на каком этаже расположена квартира: первом, последнем или другом. Также изучите зависимость от даты размещения: дня недели, месяца и года."
   ]
  },
  {
   "cell_type": "code",
   "execution_count": 81,
   "metadata": {},
   "outputs": [],
   "source": [
    "#для изучения зависимости цены от площади, числа комнат, удаленности от центра, этажа квартиры и даты размещения \n",
    "#лучше всего использовать матрицу диаграмм рассеивания и коэффициент корреляции Пирсона\n",
    "\n",
    "#last_price_dataframe=data[['last_price', 'rooms', 'cityCenters_nearest', 'floor_status', 'day_of_week', 'month', 'year']]\n",
    "#pd.plotting.scatter_matrix(ceiling_height_dataframe, figsize=(15,15))"
   ]
  },
  {
   "cell_type": "markdown",
   "metadata": {},
   "source": [
    "На матрице диаграмм рассеивания видно, что минимальная корреляция у стоимости квартиры (last_price) присутствует с высотой потолков (ceiling_height), а наиболее сильная корреляция с общей и жилой площадью квартиры. По данным диаграммам можно сделать вывод, что людям наиболее интересно покупать квартиры с большой площадью, но высота потолков или количество комнат интересует их меньше."
   ]
  },
  {
   "cell_type": "code",
   "execution_count": 80,
   "metadata": {},
   "outputs": [
    {
     "data": {
      "text/plain": [
       "<seaborn.axisgrid.PairGrid at 0x7fa5c07747c0>"
      ]
     },
     "execution_count": 80,
     "metadata": {},
     "output_type": "execute_result"
    },
    {
     "data": {
      "image/png": "[encoded data removed]",
      "text/plain": [
       "<Figure size 720x720 with 20 Axes>"
      ]
     },
     "metadata": {
      "needs_background": "light"
     },
     "output_type": "display_data"
    }
   ],
   "source": [
    "#матрица корреляции для параметров last_price, total_area, rooms, cityCenters_nearest\n",
    "data[['last_price', 'total_area', 'rooms', 'cityCenters_nearest']].corr()\n",
    "seaborn.pairplot(data[['last_price', 'total_area', 'rooms', 'cityCenters_nearest']])"
   ]
  },
  {
   "cell_type": "markdown",
   "metadata": {},
   "source": [
    "Чем ближе коэффициент корреляции Пирсона к крайним значениям 1 или -1, тем теснее линейная взаимосвязь. Если значение близко к нулю, значит, линейная связь слабая либо отсутствует вовсе.\n",
    "Соответственно, на основании полученного коэффициента корреляции Пирсона можно сделать вывод, что достаточно тесная линейная связь присутствует между выставленной ценой продажи квартиры и общей площадью помещения, общей плозадью помещения и количеством комнат. Наименее тесная линейная связь (прямая либо обратная присутствует у всех значений с близостью от центра). Примечательно, но близость от центра обладает обратной линейной связью со всеми параметрами, то есть удаленность слабая обратно связана с стоимостью продажи квартиры, площадью, количеством комнат."
   ]
  },
  {
   "cell_type": "code",
   "execution_count": 85,
   "metadata": {},
   "outputs": [
    {
     "data": {
      "text/plain": [
       "<AxesSubplot:xlabel='floor_status', ylabel='last_price'>"
      ]
     },
     "execution_count": 85,
     "metadata": {},
     "output_type": "execute_result"
    },
    {
     "data": {
      "image/png": "[encoded data removed]",
      "text/plain": [
       "<Figure size 432x288 with 1 Axes>"
      ]
     },
     "metadata": {
      "needs_background": "light"
     },
     "output_type": "display_data"
    }
   ],
   "source": [
    "seaborn.scatterplot(data['floor_status'], data['last_price'])"
   ]
  },
  {
   "cell_type": "markdown",
   "metadata": {},
   "source": [
    "Наибольшее количество продаж представлено на последнем этаже, наименьший спрос, а также наименьшая цена представлена у квартир на 1-ом этаже."
   ]
  },
  {
   "cell_type": "code",
   "execution_count": 86,
   "metadata": {},
   "outputs": [
    {
     "data": {
      "text/plain": [
       "<AxesSubplot:xlabel='day_of_week', ylabel='last_price'>"
      ]
     },
     "execution_count": 86,
     "metadata": {},
     "output_type": "execute_result"
    },
    {
     "data": {
      "image/png": "[encoded data removed]",
      "text/plain": [
       "<Figure size 432x288 with 1 Axes>"
      ]
     },
     "metadata": {
      "needs_background": "light"
     },
     "output_type": "display_data"
    }
   ],
   "source": [
    "seaborn.scatterplot(data['day_of_week'], data['last_price'])"
   ]
  },
  {
   "cell_type": "markdown",
   "metadata": {},
   "source": [
    "По графику видно, что дни недели обладают примерно одинаковым спросом, хотя воскресение и вторник выбиваются в меньшую сторону, в то время как квартиры с бОльшей стоимостью успешно продаются в среду и субботу."
   ]
  },
  {
   "cell_type": "code",
   "execution_count": 87,
   "metadata": {},
   "outputs": [
    {
     "data": {
      "text/plain": [
       "<AxesSubplot:xlabel='month', ylabel='last_price'>"
      ]
     },
     "execution_count": 87,
     "metadata": {},
     "output_type": "execute_result"
    },
    {
     "data": {
      "image/png": "[encoded data removed]",
      "text/plain": [
       "<Figure size 432x288 with 1 Axes>"
      ]
     },
     "metadata": {
      "needs_background": "light"
     },
     "output_type": "display_data"
    }
   ],
   "source": [
    "seaborn.scatterplot(data['month'], data['last_price'])"
   ]
  },
  {
   "cell_type": "markdown",
   "metadata": {},
   "source": [
    "Спрос примерно одинаков во все месяцы, хотя и учитывает влияние сезонности. Квадртиры с бОльшей стоимостью более успешно продаются в декабре, апреле. Существуют точечные выбросы в сентябре и феврале. "
   ]
  },
  {
   "cell_type": "code",
   "execution_count": 88,
   "metadata": {},
   "outputs": [
    {
     "data": {
      "text/plain": [
       "<AxesSubplot:xlabel='year', ylabel='last_price'>"
      ]
     },
     "execution_count": 88,
     "metadata": {},
     "output_type": "execute_result"
    },
    {
     "data": {
      "image/png": "[encoded data removed]",
      "text/plain": [
       "<Figure size 432x288 with 1 Axes>"
      ]
     },
     "metadata": {
      "needs_background": "light"
     },
     "output_type": "display_data"
    }
   ],
   "source": [
    "seaborn.scatterplot(data['year'], data['last_price'])"
   ]
  },
  {
   "cell_type": "markdown",
   "metadata": {},
   "source": [
    "На графике отчетливо видно повышение спроса на продажу квартиры в 2016 году, который длился ив 2017 году и понизился (хотя и не опустился до уровня 2015 года) в 2018 году."
   ]
  },
  {
   "cell_type": "markdown",
   "metadata": {},
   "source": [
    "**Задача 4** Выберите 10 населённых пунктов с наибольшим числом объявлений. Посчитайте среднюю цену квадратного метра в этих населённых пунктах. Выделите населённые пункты с самой высокой и низкой стоимостью жилья. Эти данные можно найти по имени в столбце locality_name."
   ]
  },
  {
   "cell_type": "code",
   "execution_count": 58,
   "metadata": {},
   "outputs": [
    {
     "data": {
      "text/plain": [
       "array(['санкт-петербург', ' шушары', ' янино-1', ' парголово', ' мурино',\n",
       "       'ломоносов', 'сертолово', 'петергоф', 'пушкин', ' кудрово',\n",
       "       'коммунар', 'колпино', '  красный бор', 'гатчина', ' федоровское',\n",
       "       'выборг', 'кронштадт', 'кировск', ' новое девяткино',\n",
       "       ' металлострой', '  лебяжье', '  сиверский', ' молодцово',\n",
       "       '  кузьмоловский', ' новая ропша', 'павловск', ' пикколово',\n",
       "       'всеволожск', 'волхов', 'кингисепп', 'приозерск', 'сестрорецк',\n",
       "       ' куттузи', ' аннино', '  ефимовский', ' плодовое', ' заклинье',\n",
       "       ' торковичи', ' первомайское', 'красное ', ' понтонный',\n",
       "       'сясьстрой', ' старая', ' лесколово', ' новый свет', 'сланцы',\n",
       "       ' путилово', 'ивангород', 'мурино', 'шлиссельбург', 'никольское',\n",
       "       'зеленогорск', 'сосновый бор', ' оржицы', ' кальтино', 'кудрово',\n",
       "       ' романовка', ' бугры', '  рощино', 'кириши', 'луга', 'волосово',\n",
       "       'отрадное', ' павлово', ' оредеж', ' копорье', ' молодежное',\n",
       "       'тихвин', ' победа', ' нурма', '  синявино', 'тосно', ' стрельна',\n",
       "       'бокситогорск', ' александровская', ' лопухинка', 'пикалево',\n",
       "       ' терволово', '  советский', 'подпорожье', ' петровское',\n",
       "       '  токсово', ' сельцо', '  вырица', ' кипень', ' келози',\n",
       "       ' вартемяги', ' тельмана', ' севастьяново', ' большая ижора',\n",
       "       'город не выбран', ' агалатово', ' новогорелово', ' лесогорский',\n",
       "       ' лаголово', ' цвелодубово', '  рахья', ' белогорка', ' заводской',\n",
       "       ' новоселье', ' большие колпаны', ' горбунки', ' батово',\n",
       "       ' заневка', ' иссад', 'приморск', ' мистолово', 'новая ладога',\n",
       "       ' зимитицы', ' барышево', ' разметелево', '  имени свердлова',\n",
       "       ' пеники', ' рябово', ' пудомяги', ' станции корнево', ' низино',\n",
       "       ' бегуницы', ' поляны', ' мга', ' елизаветино', '  кузнечное',\n",
       "       ' колтуши', ' запорожское', ' гостилицы', ' малое карлино',\n",
       "       ' мичуринское', '  имени морозова', ' песочный', ' сосново',\n",
       "       ' аро', ' ильичево', '  тайцы', ' малое верево', ' извара',\n",
       "       ' станции вещево', ' паша', ' калитино', '  ульяновка',\n",
       "       ' чудской бор', '  дубровка', ' мины', ' войсковицы', ' коркино',\n",
       "       ' ропша', '  приладожский', ' щеглово', ' гаврилово',\n",
       "       'лодейное поле', ' рабитицы', '  никольский', ' кузьмолово',\n",
       "       ' малые колпаны', ' петро-славянка', ' назия', ' репино',\n",
       "       ' углово', ' старая малукса', ' рахья', ' меньково',\n",
       "       ' старые бегуницы', ' саперный', ' семрино', ' глажево',\n",
       "       ' кобринское', ' гарболово', ' юкки', ' станции приветнинское',\n",
       "       ' мануйлово', ' пчева', ' цвылево', ' мельниково', ' пудость',\n",
       "       ' усть-луга', 'светогорск', 'любань', ' селезнево', '  рябово',\n",
       "       'каменногорск', ' кривко', ' глебычево', ' парицы', ' жил',\n",
       "       '  мга', ' войскорово', ' никольское', ' стеклянный', '  важины',\n",
       "       ' мыза-ивановка', ' русско-высоцкое', '  форносово',\n",
       "       ' старая ладога', ' житково', ' виллози', ' лампово', ' шпаньково',\n",
       "       ' лаврики', ' сумино', ' возрождение', ' старосиверская',\n",
       "       ' кикерино', ' старое хинколово', ' пригородный', ' торфяное',\n",
       "       ' будогощь', ' суходолье', ' красная долина', ' хапо-ое',\n",
       "       '  дружная горка', ' лисий нос', ' яльгелево', ' рождествено',\n",
       "       ' старополье', ' левашово', ' сяськелево', ' камышовка',\n",
       "       ' лесная поляна', ' хязельки', ' жилгородок', '  павлово',\n",
       "       ' ялгино', ' новый учхоз', ' рощино', ' гончарово', ' почап',\n",
       "       ' саперное', ' платформа 69-й километр', ' каложицы', ' фалилеево',\n",
       "       ' пельгора', '  лесогорский', ' торошковичи', ' белоостров',\n",
       "       ' алексеевка', ' серебрянский', ' лукаши', ' тарасово',\n",
       "       ' кингисеппский', ' при железнодорожной станции вещево', ' ушаки',\n",
       "       ' котлы', ' сижно', ' торосово', ' форт красная горка',\n",
       "       ' новолисино', ' станции громово', ' глинка', '  назия',\n",
       "       ' старая пустошь', ' коммунары', ' починок', '  вознесенье',\n",
       "       ' разбегаево', ' гладкое',\n",
       "       ' при железнодорожной станции приветнинское', ' тесово-4', ' бор',\n",
       "       ' коробицыно', ' большая вруда', ' курковицы', ' советский',\n",
       "       ' кобралово', ' суоранда', '  кондратьево', ' счастье', ' любань',\n",
       "       ' реброво', ' тойворово', ' семиозерье', ' лесное', ' совхозный',\n",
       "       ' ленинское', ' суйда', ' нижние осельки', ' станции свирь',\n",
       "       ' перово', 'высоцк', ' шум', ' котельский', ' станции лужайка',\n",
       "       ' большая пустомержа', ' красносельское', ' вахнова кара',\n",
       "       ' пижма', ' кивеннапа север', ' ромашки', ' каськово', ' куровицы',\n",
       "       ' плоское', '  большая ижора', ' кирпичное', ' ям-тесово',\n",
       "       ' раздолье', ' терпилицы', ' шугозеро', ' ваганово', ' пушное',\n",
       "       ' садко', ' усть-ижора', ' выскатка', ' свирьстрой', ' громово',\n",
       "       ' кисельня', ' трубников бор', ' высокоключевой', ' приладожский',\n",
       "       ' пансионат зеленый бор', ' ненимяки', ' снегиревка', ' рапполово',\n",
       "       ' пустынка', ' большой сабск', ' русско', ' лупполово',\n",
       "       ' большое рейзино', ' малая романовка', ' дружноселье', ' пчевжа',\n",
       "       ' володарское', ' нижняя', ' тихковицы', ' борисова грива',\n",
       "       ' дзержинского'], dtype=object)"
      ]
     },
     "execution_count": 58,
     "metadata": {},
     "output_type": "execute_result"
    }
   ],
   "source": [
    "data['locality_name'].unique()"
   ]
  },
  {
   "cell_type": "markdown",
   "metadata": {},
   "source": [
    "Список населенных пунктов достаточно объемный, необходимо систематизировать список по количеству объявлений в этих населенных пунктах и отобрать 10 населенных пунктов с наибольшим количеством объявлений"
   ]
  },
  {
   "cell_type": "code",
   "execution_count": 59,
   "metadata": {},
   "outputs": [
    {
     "data": {
      "text/plain": [
       "санкт-петербург    66.336132\n",
       " мурино             2.346091\n",
       " шушары             1.856618\n",
       "всеволожск          1.679396\n",
       "пушкин              1.557028\n",
       "колпино             1.426221\n",
       " парголово          1.379805\n",
       "гатчина             1.295413\n",
       " кудрово            1.261657\n",
       "выборг              1.000042\n",
       "петергоф            0.848137\n",
       "Name: locality_name, dtype: float64"
      ]
     },
     "execution_count": 59,
     "metadata": {},
     "output_type": "execute_result"
    }
   ],
   "source": [
    "(data['locality_name'].value_counts() / data.shape[0] * 100).head(11)"
   ]
  },
  {
   "cell_type": "markdown",
   "metadata": {},
   "source": [
    "Ожидаемо, больше всего объявлений в Санкт-Петербурге, количество объявлений в других городах в несколько раз меньше"
   ]
  },
  {
   "cell_type": "code",
   "execution_count": 60,
   "metadata": {},
   "outputs": [
    {
     "data": {
      "text/html": [
       "<div>\n",
       "<style scoped>\n",
       "    .dataframe tbody tr th:only-of-type {\n",
       "        vertical-align: middle;\n",
       "    }\n",
       "\n",
       "    .dataframe tbody tr th {\n",
       "        vertical-align: top;\n",
       "    }\n",
       "\n",
       "    .dataframe thead th {\n",
       "        text-align: right;\n",
       "    }\n",
       "</style>\n",
       "<table border=\"1\" class=\"dataframe\">\n",
       "  <thead>\n",
       "    <tr style=\"text-align: right;\">\n",
       "      <th></th>\n",
       "      <th>price_m</th>\n",
       "    </tr>\n",
       "    <tr>\n",
       "      <th>locality_name</th>\n",
       "      <th></th>\n",
       "    </tr>\n",
       "  </thead>\n",
       "  <tbody>\n",
       "    <tr>\n",
       "      <th>зеленогорск</th>\n",
       "      <td>0.115083</td>\n",
       "    </tr>\n",
       "    <tr>\n",
       "      <th>санкт-петербург</th>\n",
       "      <td>0.114850</td>\n",
       "    </tr>\n",
       "    <tr>\n",
       "      <th>репино</th>\n",
       "      <td>0.104250</td>\n",
       "    </tr>\n",
       "    <tr>\n",
       "      <th>пушкин</th>\n",
       "      <td>0.103122</td>\n",
       "    </tr>\n",
       "    <tr>\n",
       "      <th>сестрорецк</th>\n",
       "      <td>0.101732</td>\n",
       "    </tr>\n",
       "    <tr>\n",
       "      <th>лисий нос</th>\n",
       "      <td>0.101000</td>\n",
       "    </tr>\n",
       "    <tr>\n",
       "      <th>кудрово</th>\n",
       "      <td>0.100277</td>\n",
       "    </tr>\n",
       "    <tr>\n",
       "      <th>мистолово</th>\n",
       "      <td>0.098455</td>\n",
       "    </tr>\n",
       "    <tr>\n",
       "      <th>левашово</th>\n",
       "      <td>0.097000</td>\n",
       "    </tr>\n",
       "    <tr>\n",
       "      <th>город не выбран</th>\n",
       "      <td>0.094306</td>\n",
       "    </tr>\n",
       "  </tbody>\n",
       "</table>\n",
       "</div>"
      ],
      "text/plain": [
       "                  price_m\n",
       "locality_name            \n",
       "зеленогорск      0.115083\n",
       "санкт-петербург  0.114850\n",
       " репино          0.104250\n",
       "пушкин           0.103122\n",
       "сестрорецк       0.101732\n",
       " лисий нос       0.101000\n",
       "кудрово          0.100277\n",
       " мистолово       0.098455\n",
       " левашово        0.097000\n",
       "город не выбран  0.094306"
      ]
     },
     "execution_count": 60,
     "metadata": {},
     "output_type": "execute_result"
    }
   ],
   "source": [
    "#просмотр средней стоимости квадратного метра в топ-10 населенных пунктах\n",
    "data.groupby('locality_name').agg({'price_m':'mean'}).sort_values(by='price_m', ascending=False).head(10)"
   ]
  },
  {
   "cell_type": "markdown",
   "metadata": {},
   "source": [
    "Несмотря на то, что в Санкт-Петербурге спрос больше, наиболее высокая стоимость квартиры представлена в Зеленогорске."
   ]
  },
  {
   "cell_type": "code",
   "execution_count": 61,
   "metadata": {
    "scrolled": true
   },
   "outputs": [
    {
     "data": {
      "text/plain": [
       " счастье                                      0.00422\n",
       "  кондратьево                                 0.00422\n",
       " пчева                                        0.00422\n",
       " новая ропша                                  0.00422\n",
       " цвылево                                      0.00422\n",
       " курковицы                                    0.00422\n",
       " кривко                                       0.00422\n",
       " жил                                          0.00422\n",
       " тесово-4                                     0.00422\n",
       " при железнодорожной станции приветнинское    0.00422\n",
       " дзержинского                                 0.00422\n",
       "Name: locality_name, dtype: float64"
      ]
     },
     "execution_count": 61,
     "metadata": {},
     "output_type": "execute_result"
    }
   ],
   "source": [
    "#просмотр количества объявлений в 10-ти минимально представленных населенных пунктах\n",
    "(data['locality_name'].value_counts() / data.shape[0] * 100).tail(11)"
   ]
  },
  {
   "cell_type": "code",
   "execution_count": 62,
   "metadata": {},
   "outputs": [
    {
     "data": {
      "text/html": [
       "<div>\n",
       "<style scoped>\n",
       "    .dataframe tbody tr th:only-of-type {\n",
       "        vertical-align: middle;\n",
       "    }\n",
       "\n",
       "    .dataframe tbody tr th {\n",
       "        vertical-align: top;\n",
       "    }\n",
       "\n",
       "    .dataframe thead th {\n",
       "        text-align: right;\n",
       "    }\n",
       "</style>\n",
       "<table border=\"1\" class=\"dataframe\">\n",
       "  <thead>\n",
       "    <tr style=\"text-align: right;\">\n",
       "      <th></th>\n",
       "      <th>price_m</th>\n",
       "    </tr>\n",
       "    <tr>\n",
       "      <th>locality_name</th>\n",
       "      <th></th>\n",
       "    </tr>\n",
       "  </thead>\n",
       "  <tbody>\n",
       "    <tr>\n",
       "      <th>станции лужайка</th>\n",
       "      <td>0.0150</td>\n",
       "    </tr>\n",
       "    <tr>\n",
       "      <th>сижно</th>\n",
       "      <td>0.0140</td>\n",
       "    </tr>\n",
       "    <tr>\n",
       "      <th>ям-тесово</th>\n",
       "      <td>0.0135</td>\n",
       "    </tr>\n",
       "    <tr>\n",
       "      <th>малая романовка</th>\n",
       "      <td>0.0130</td>\n",
       "    </tr>\n",
       "    <tr>\n",
       "      <th>совхозный</th>\n",
       "      <td>0.0130</td>\n",
       "    </tr>\n",
       "    <tr>\n",
       "      <th>тесово-4</th>\n",
       "      <td>0.0130</td>\n",
       "    </tr>\n",
       "    <tr>\n",
       "      <th>выскатка</th>\n",
       "      <td>0.0120</td>\n",
       "    </tr>\n",
       "    <tr>\n",
       "      <th>вахнова кара</th>\n",
       "      <td>0.0120</td>\n",
       "    </tr>\n",
       "    <tr>\n",
       "      <th>станции свирь</th>\n",
       "      <td>0.0115</td>\n",
       "    </tr>\n",
       "    <tr>\n",
       "      <th>старополье</th>\n",
       "      <td>0.0110</td>\n",
       "    </tr>\n",
       "  </tbody>\n",
       "</table>\n",
       "</div>"
      ],
      "text/plain": [
       "                  price_m\n",
       "locality_name            \n",
       " станции лужайка   0.0150\n",
       " сижно             0.0140\n",
       " ям-тесово         0.0135\n",
       " малая романовка   0.0130\n",
       " совхозный         0.0130\n",
       " тесово-4          0.0130\n",
       " выскатка          0.0120\n",
       " вахнова кара      0.0120\n",
       " станции свирь     0.0115\n",
       " старополье        0.0110"
      ]
     },
     "execution_count": 62,
     "metadata": {},
     "output_type": "execute_result"
    }
   ],
   "source": [
    "#просмотр средней стоимости 10 значений минимальной стоимости квадратного метра в населенных пунктах\n",
    "data.groupby('locality_name').agg({'price_m':'mean'}).sort_values(by='price_m', ascending=False).tail(10)"
   ]
  },
  {
   "cell_type": "markdown",
   "metadata": {},
   "source": [
    "Опять же, в данном случае видно, что небольшой спрос не коррелирует с маленькой ценой квадратного метра, населенные пункты в списках различаются"
   ]
  },
  {
   "cell_type": "code",
   "execution_count": 63,
   "metadata": {},
   "outputs": [
    {
     "data": {
      "text/plain": [
       "<AxesSubplot:xlabel='locality_name', ylabel='price_m'>"
      ]
     },
     "execution_count": 63,
     "metadata": {},
     "output_type": "execute_result"
    },
    {
     "data": {
      "image/png": "[encoded data removed]",
      "text/plain": [
       "<Figure size 432x288 with 1 Axes>"
      ]
     },
     "metadata": {
      "needs_background": "light"
     },
     "output_type": "display_data"
    }
   ],
   "source": [
    "#визуализация результатов по всем населенным пунктам\n",
    "seaborn.barplot(data['locality_name'], data['price_m'])"
   ]
  },
  {
   "cell_type": "markdown",
   "metadata": {},
   "source": [
    "**Задача 5** Изучите предложения квартир: для каждой квартиры есть информация о расстоянии до центра. Выделите квартиры в Санкт-Петербурге (locality_name). Ваша задача — выяснить, какая область входит в центр. Создайте столбец с расстоянием до центра в километрах: округлите до целых значений. После этого посчитайте среднюю цену для каждого километра. Постройте график: он должен показывать, как цена зависит от удалённости от центра. Определите границу, где график сильно меняется, — это и будет центральная зона."
   ]
  },
  {
   "cell_type": "code",
   "execution_count": 64,
   "metadata": {
    "scrolled": true
   },
   "outputs": [
    {
     "data": {
      "text/html": [
       "<div>\n",
       "<style scoped>\n",
       "    .dataframe tbody tr th:only-of-type {\n",
       "        vertical-align: middle;\n",
       "    }\n",
       "\n",
       "    .dataframe tbody tr th {\n",
       "        vertical-align: top;\n",
       "    }\n",
       "\n",
       "    .dataframe thead th {\n",
       "        text-align: right;\n",
       "    }\n",
       "</style>\n",
       "<table border=\"1\" class=\"dataframe\">\n",
       "  <thead>\n",
       "    <tr style=\"text-align: right;\">\n",
       "      <th></th>\n",
       "      <th>total_images</th>\n",
       "      <th>last_price</th>\n",
       "      <th>total_area</th>\n",
       "      <th>first_day_exposition</th>\n",
       "      <th>rooms</th>\n",
       "      <th>ceiling_height</th>\n",
       "      <th>floors_total</th>\n",
       "      <th>living_area</th>\n",
       "      <th>floor</th>\n",
       "      <th>is_apartment</th>\n",
       "      <th>...</th>\n",
       "      <th>days_exposition</th>\n",
       "      <th>grouped_rooms</th>\n",
       "      <th>price_m</th>\n",
       "      <th>day_of_week</th>\n",
       "      <th>month</th>\n",
       "      <th>year</th>\n",
       "      <th>floor_status</th>\n",
       "      <th>total_living_ratio</th>\n",
       "      <th>total_kitchen_ratio</th>\n",
       "      <th>km_to_city_center</th>\n",
       "    </tr>\n",
       "  </thead>\n",
       "  <tbody>\n",
       "    <tr>\n",
       "      <th>0</th>\n",
       "      <td>20</td>\n",
       "      <td>13.000000</td>\n",
       "      <td>108.000000</td>\n",
       "      <td>2019-03-07</td>\n",
       "      <td>3</td>\n",
       "      <td>2.70</td>\n",
       "      <td>16.0</td>\n",
       "      <td>51.000000</td>\n",
       "      <td>8</td>\n",
       "      <td>0</td>\n",
       "      <td>...</td>\n",
       "      <td>NaN</td>\n",
       "      <td>2</td>\n",
       "      <td>0.120</td>\n",
       "      <td>Thursday</td>\n",
       "      <td>March</td>\n",
       "      <td>2019</td>\n",
       "      <td>другой</td>\n",
       "      <td>0.472222</td>\n",
       "      <td>0.231481</td>\n",
       "      <td>16.0</td>\n",
       "    </tr>\n",
       "    <tr>\n",
       "      <th>2</th>\n",
       "      <td>10</td>\n",
       "      <td>5.196000</td>\n",
       "      <td>56.000000</td>\n",
       "      <td>2015-08-20</td>\n",
       "      <td>2</td>\n",
       "      <td>2.62</td>\n",
       "      <td>5.0</td>\n",
       "      <td>34.299999</td>\n",
       "      <td>4</td>\n",
       "      <td>0</td>\n",
       "      <td>...</td>\n",
       "      <td>558.0</td>\n",
       "      <td>1</td>\n",
       "      <td>0.093</td>\n",
       "      <td>Thursday</td>\n",
       "      <td>August</td>\n",
       "      <td>2015</td>\n",
       "      <td>другой</td>\n",
       "      <td>0.612500</td>\n",
       "      <td>0.148214</td>\n",
       "      <td>14.0</td>\n",
       "    </tr>\n",
       "    <tr>\n",
       "      <th>3</th>\n",
       "      <td>0</td>\n",
       "      <td>64.900002</td>\n",
       "      <td>159.000000</td>\n",
       "      <td>2015-07-24</td>\n",
       "      <td>3</td>\n",
       "      <td>2.70</td>\n",
       "      <td>14.0</td>\n",
       "      <td>47.000000</td>\n",
       "      <td>9</td>\n",
       "      <td>0</td>\n",
       "      <td>...</td>\n",
       "      <td>424.0</td>\n",
       "      <td>2</td>\n",
       "      <td>0.408</td>\n",
       "      <td>Friday</td>\n",
       "      <td>July</td>\n",
       "      <td>2015</td>\n",
       "      <td>другой</td>\n",
       "      <td>0.295597</td>\n",
       "      <td>NaN</td>\n",
       "      <td>7.0</td>\n",
       "    </tr>\n",
       "    <tr>\n",
       "      <th>4</th>\n",
       "      <td>2</td>\n",
       "      <td>10.000000</td>\n",
       "      <td>100.000000</td>\n",
       "      <td>2018-06-19</td>\n",
       "      <td>2</td>\n",
       "      <td>3.03</td>\n",
       "      <td>14.0</td>\n",
       "      <td>32.000000</td>\n",
       "      <td>13</td>\n",
       "      <td>0</td>\n",
       "      <td>...</td>\n",
       "      <td>121.0</td>\n",
       "      <td>1</td>\n",
       "      <td>0.100</td>\n",
       "      <td>Tuesday</td>\n",
       "      <td>June</td>\n",
       "      <td>2018</td>\n",
       "      <td>другой</td>\n",
       "      <td>0.320000</td>\n",
       "      <td>0.410000</td>\n",
       "      <td>8.0</td>\n",
       "    </tr>\n",
       "    <tr>\n",
       "      <th>7</th>\n",
       "      <td>5</td>\n",
       "      <td>7.915000</td>\n",
       "      <td>71.599998</td>\n",
       "      <td>2019-04-18</td>\n",
       "      <td>2</td>\n",
       "      <td>2.62</td>\n",
       "      <td>24.0</td>\n",
       "      <td>23.000000</td>\n",
       "      <td>22</td>\n",
       "      <td>0</td>\n",
       "      <td>...</td>\n",
       "      <td>NaN</td>\n",
       "      <td>1</td>\n",
       "      <td>0.111</td>\n",
       "      <td>Thursday</td>\n",
       "      <td>April</td>\n",
       "      <td>2019</td>\n",
       "      <td>другой</td>\n",
       "      <td>0.321229</td>\n",
       "      <td>0.263966</td>\n",
       "      <td>12.0</td>\n",
       "    </tr>\n",
       "  </tbody>\n",
       "</table>\n",
       "<p>5 rows × 31 columns</p>\n",
       "</div>"
      ],
      "text/plain": [
       "   total_images  last_price  total_area first_day_exposition  rooms  \\\n",
       "0            20   13.000000  108.000000           2019-03-07      3   \n",
       "2            10    5.196000   56.000000           2015-08-20      2   \n",
       "3             0   64.900002  159.000000           2015-07-24      3   \n",
       "4             2   10.000000  100.000000           2018-06-19      2   \n",
       "7             5    7.915000   71.599998           2019-04-18      2   \n",
       "\n",
       "   ceiling_height  floors_total  living_area  floor is_apartment  ...  \\\n",
       "0            2.70          16.0    51.000000      8            0  ...   \n",
       "2            2.62           5.0    34.299999      4            0  ...   \n",
       "3            2.70          14.0    47.000000      9            0  ...   \n",
       "4            3.03          14.0    32.000000     13            0  ...   \n",
       "7            2.62          24.0    23.000000     22            0  ...   \n",
       "\n",
       "   days_exposition  grouped_rooms  price_m  day_of_week   month  year  \\\n",
       "0              NaN              2    0.120     Thursday   March  2019   \n",
       "2            558.0              1    0.093     Thursday  August  2015   \n",
       "3            424.0              2    0.408       Friday    July  2015   \n",
       "4            121.0              1    0.100      Tuesday    June  2018   \n",
       "7              NaN              1    0.111     Thursday   April  2019   \n",
       "\n",
       "   floor_status  total_living_ratio  total_kitchen_ratio  km_to_city_center  \n",
       "0        другой            0.472222             0.231481               16.0  \n",
       "2        другой            0.612500             0.148214               14.0  \n",
       "3        другой            0.295597                  NaN                7.0  \n",
       "4        другой            0.320000             0.410000                8.0  \n",
       "7        другой            0.321229             0.263966               12.0  \n",
       "\n",
       "[5 rows x 31 columns]"
      ]
     },
     "execution_count": 64,
     "metadata": {},
     "output_type": "execute_result"
    }
   ],
   "source": [
    "#выделение квартир в Санкт-Петербурге и создание столбца с расстоянием до центра города\n",
    "locality_in_spb = data.query('locality_name == \"санкт-петербург\"')\n",
    "locality_in_spb.loc[:, 'km_to_city_center'] = (locality_in_spb.loc[:, 'cityCenters_nearest']/1000).round()\n",
    "locality_in_spb.head()"
   ]
  },
  {
   "cell_type": "code",
   "execution_count": 95,
   "metadata": {},
   "outputs": [
    {
     "data": {
      "text/plain": [
       "count    15721.000000\n",
       "mean         8.062504\n",
       "std         13.013276\n",
       "min          0.012190\n",
       "25%          4.200000\n",
       "50%          5.500000\n",
       "75%          8.160000\n",
       "max        763.000000\n",
       "Name: last_price, dtype: float64"
      ]
     },
     "execution_count": 95,
     "metadata": {},
     "output_type": "execute_result"
    }
   ],
   "source": [
    "locality_in_spb['last_price'].describe()"
   ]
  },
  {
   "cell_type": "code",
   "execution_count": 65,
   "metadata": {
    "scrolled": true
   },
   "outputs": [
    {
     "data": {
      "text/html": [
       "<div>\n",
       "<style scoped>\n",
       "    .dataframe tbody tr th:only-of-type {\n",
       "        vertical-align: middle;\n",
       "    }\n",
       "\n",
       "    .dataframe tbody tr th {\n",
       "        vertical-align: top;\n",
       "    }\n",
       "\n",
       "    .dataframe thead th {\n",
       "        text-align: right;\n",
       "    }\n",
       "</style>\n",
       "<table border=\"1\" class=\"dataframe\">\n",
       "  <thead>\n",
       "    <tr style=\"text-align: right;\">\n",
       "      <th></th>\n",
       "      <th>last_price</th>\n",
       "    </tr>\n",
       "    <tr>\n",
       "      <th>km_to_city_center</th>\n",
       "      <th></th>\n",
       "    </tr>\n",
       "  </thead>\n",
       "  <tbody>\n",
       "    <tr>\n",
       "      <th>0.0</th>\n",
       "      <td>849.126160</td>\n",
       "    </tr>\n",
       "    <tr>\n",
       "      <th>1.0</th>\n",
       "      <td>4071.690430</td>\n",
       "    </tr>\n",
       "    <tr>\n",
       "      <th>2.0</th>\n",
       "      <td>5514.378906</td>\n",
       "    </tr>\n",
       "    <tr>\n",
       "      <th>3.0</th>\n",
       "      <td>3894.303467</td>\n",
       "    </tr>\n",
       "    <tr>\n",
       "      <th>4.0</th>\n",
       "      <td>9153.344727</td>\n",
       "    </tr>\n",
       "    <tr>\n",
       "      <th>5.0</th>\n",
       "      <td>13339.191406</td>\n",
       "    </tr>\n",
       "    <tr>\n",
       "      <th>6.0</th>\n",
       "      <td>9479.142578</td>\n",
       "    </tr>\n",
       "    <tr>\n",
       "      <th>7.0</th>\n",
       "      <td>6205.563965</td>\n",
       "    </tr>\n",
       "    <tr>\n",
       "      <th>8.0</th>\n",
       "      <td>5944.756836</td>\n",
       "    </tr>\n",
       "    <tr>\n",
       "      <th>9.0</th>\n",
       "      <td>4121.740723</td>\n",
       "    </tr>\n",
       "    <tr>\n",
       "      <th>10.0</th>\n",
       "      <td>4676.461914</td>\n",
       "    </tr>\n",
       "    <tr>\n",
       "      <th>11.0</th>\n",
       "      <td>7363.459961</td>\n",
       "    </tr>\n",
       "    <tr>\n",
       "      <th>12.0</th>\n",
       "      <td>9354.814453</td>\n",
       "    </tr>\n",
       "    <tr>\n",
       "      <th>13.0</th>\n",
       "      <td>8863.136719</td>\n",
       "    </tr>\n",
       "    <tr>\n",
       "      <th>14.0</th>\n",
       "      <td>7199.620605</td>\n",
       "    </tr>\n",
       "    <tr>\n",
       "      <th>15.0</th>\n",
       "      <td>9227.290039</td>\n",
       "    </tr>\n",
       "    <tr>\n",
       "      <th>16.0</th>\n",
       "      <td>6797.010254</td>\n",
       "    </tr>\n",
       "    <tr>\n",
       "      <th>17.0</th>\n",
       "      <td>4673.184570</td>\n",
       "    </tr>\n",
       "    <tr>\n",
       "      <th>18.0</th>\n",
       "      <td>1328.837524</td>\n",
       "    </tr>\n",
       "    <tr>\n",
       "      <th>19.0</th>\n",
       "      <td>790.914978</td>\n",
       "    </tr>\n",
       "    <tr>\n",
       "      <th>20.0</th>\n",
       "      <td>291.621765</td>\n",
       "    </tr>\n",
       "    <tr>\n",
       "      <th>21.0</th>\n",
       "      <td>642.735901</td>\n",
       "    </tr>\n",
       "    <tr>\n",
       "      <th>22.0</th>\n",
       "      <td>1093.935913</td>\n",
       "    </tr>\n",
       "    <tr>\n",
       "      <th>23.0</th>\n",
       "      <td>423.756989</td>\n",
       "    </tr>\n",
       "    <tr>\n",
       "      <th>24.0</th>\n",
       "      <td>100.215172</td>\n",
       "    </tr>\n",
       "    <tr>\n",
       "      <th>25.0</th>\n",
       "      <td>105.373840</td>\n",
       "    </tr>\n",
       "    <tr>\n",
       "      <th>26.0</th>\n",
       "      <td>210.569656</td>\n",
       "    </tr>\n",
       "    <tr>\n",
       "      <th>27.0</th>\n",
       "      <td>16.600000</td>\n",
       "    </tr>\n",
       "    <tr>\n",
       "      <th>28.0</th>\n",
       "      <td>35.185001</td>\n",
       "    </tr>\n",
       "    <tr>\n",
       "      <th>29.0</th>\n",
       "      <td>25.420000</td>\n",
       "    </tr>\n",
       "  </tbody>\n",
       "</table>\n",
       "</div>"
      ],
      "text/plain": [
       "                     last_price\n",
       "km_to_city_center              \n",
       "0.0                  849.126160\n",
       "1.0                 4071.690430\n",
       "2.0                 5514.378906\n",
       "3.0                 3894.303467\n",
       "4.0                 9153.344727\n",
       "5.0                13339.191406\n",
       "6.0                 9479.142578\n",
       "7.0                 6205.563965\n",
       "8.0                 5944.756836\n",
       "9.0                 4121.740723\n",
       "10.0                4676.461914\n",
       "11.0                7363.459961\n",
       "12.0                9354.814453\n",
       "13.0                8863.136719\n",
       "14.0                7199.620605\n",
       "15.0                9227.290039\n",
       "16.0                6797.010254\n",
       "17.0                4673.184570\n",
       "18.0                1328.837524\n",
       "19.0                 790.914978\n",
       "20.0                 291.621765\n",
       "21.0                 642.735901\n",
       "22.0                1093.935913\n",
       "23.0                 423.756989\n",
       "24.0                 100.215172\n",
       "25.0                 105.373840\n",
       "26.0                 210.569656\n",
       "27.0                  16.600000\n",
       "28.0                  35.185001\n",
       "29.0                  25.420000"
      ]
     },
     "execution_count": 65,
     "metadata": {},
     "output_type": "execute_result"
    }
   ],
   "source": [
    "#определение средней цены для каждого километра\n",
    "#locality_in_spb['km_to_city_center'] = locality_in_spb['km_to_city_center'].astype('int')\n",
    "mean_price_for_km_grouped = locality_in_spb.groupby('km_to_city_center').count()\n",
    "mean_price_for_km = locality_in_spb.pivot_table(index = ['km_to_city_center'], values = 'last_price', aggfunc='sum')\n",
    "mean_price_for_km"
   ]
  },
  {
   "cell_type": "code",
   "execution_count": 66,
   "metadata": {},
   "outputs": [
    {
     "data": {
      "text/plain": [
       "-0.31434031230258347"
      ]
     },
     "execution_count": 66,
     "metadata": {},
     "output_type": "execute_result"
    },
    {
     "data": {
      "image/png": "[encoded data removed]",
      "text/plain": [
       "<Figure size 1080x648 with 1 Axes>"
      ]
     },
     "metadata": {
      "needs_background": "light"
     },
     "output_type": "display_data"
    }
   ],
   "source": [
    "#построение графика для определения зависимости средней цены от удаленности к центру по километрам\n",
    "locality_in_spb.plot(kind = 'scatter', y = 'price_m', x = 'km_to_city_center', grid=True, figsize=(15,9))\n",
    "locality_in_spb['km_to_city_center'].corr(data['price_m'])"
   ]
  },
  {
   "cell_type": "markdown",
   "metadata": {},
   "source": [
    "Согласно данному графику, центром стоит считать радиус в 7 км, как обладающие пиковыми значениями между категориями. Соответственно, можно сказать, что центральная зона - 7 км."
   ]
  },
  {
   "cell_type": "markdown",
   "metadata": {},
   "source": [
    "**Задача 6** Выделите сегмент квартир в центре. Проанализируйте эту территорию и изучите следующие параметры: площадь, цена, число комнат, высота потолков. Также выделите факторы, которые влияют на стоимость квартиры (число комнат, этаж, удалённость от центра, дата размещения объявления). Сделайте выводы. Отличаются ли они от общих выводов по всей базе?"
   ]
  },
  {
   "cell_type": "code",
   "execution_count": 67,
   "metadata": {},
   "outputs": [
    {
     "data": {
      "text/html": [
       "<div>\n",
       "<style scoped>\n",
       "    .dataframe tbody tr th:only-of-type {\n",
       "        vertical-align: middle;\n",
       "    }\n",
       "\n",
       "    .dataframe tbody tr th {\n",
       "        vertical-align: top;\n",
       "    }\n",
       "\n",
       "    .dataframe thead th {\n",
       "        text-align: right;\n",
       "    }\n",
       "</style>\n",
       "<table border=\"1\" class=\"dataframe\">\n",
       "  <thead>\n",
       "    <tr style=\"text-align: right;\">\n",
       "      <th></th>\n",
       "      <th>total_images</th>\n",
       "      <th>last_price</th>\n",
       "      <th>total_area</th>\n",
       "      <th>first_day_exposition</th>\n",
       "      <th>rooms</th>\n",
       "      <th>ceiling_height</th>\n",
       "      <th>floors_total</th>\n",
       "      <th>living_area</th>\n",
       "      <th>floor</th>\n",
       "      <th>is_apartment</th>\n",
       "      <th>...</th>\n",
       "      <th>days_exposition</th>\n",
       "      <th>grouped_rooms</th>\n",
       "      <th>price_m</th>\n",
       "      <th>day_of_week</th>\n",
       "      <th>month</th>\n",
       "      <th>year</th>\n",
       "      <th>floor_status</th>\n",
       "      <th>total_living_ratio</th>\n",
       "      <th>total_kitchen_ratio</th>\n",
       "      <th>km_to_city_center</th>\n",
       "    </tr>\n",
       "  </thead>\n",
       "  <tbody>\n",
       "    <tr>\n",
       "      <th>3</th>\n",
       "      <td>0</td>\n",
       "      <td>64.900002</td>\n",
       "      <td>159.000000</td>\n",
       "      <td>2015-07-24</td>\n",
       "      <td>3</td>\n",
       "      <td>2.70</td>\n",
       "      <td>14.0</td>\n",
       "      <td>47.0</td>\n",
       "      <td>9</td>\n",
       "      <td>0</td>\n",
       "      <td>...</td>\n",
       "      <td>424.0</td>\n",
       "      <td>2</td>\n",
       "      <td>0.408</td>\n",
       "      <td>Friday</td>\n",
       "      <td>July</td>\n",
       "      <td>2015</td>\n",
       "      <td>другой</td>\n",
       "      <td>0.295597</td>\n",
       "      <td>NaN</td>\n",
       "      <td>7.0</td>\n",
       "    </tr>\n",
       "    <tr>\n",
       "      <th>24</th>\n",
       "      <td>8</td>\n",
       "      <td>6.500000</td>\n",
       "      <td>97.199997</td>\n",
       "      <td>2015-10-31</td>\n",
       "      <td>2</td>\n",
       "      <td>2.62</td>\n",
       "      <td>3.0</td>\n",
       "      <td>46.5</td>\n",
       "      <td>1</td>\n",
       "      <td>0</td>\n",
       "      <td>...</td>\n",
       "      <td>265.0</td>\n",
       "      <td>1</td>\n",
       "      <td>0.067</td>\n",
       "      <td>Saturday</td>\n",
       "      <td>October</td>\n",
       "      <td>2015</td>\n",
       "      <td>первый</td>\n",
       "      <td>0.478395</td>\n",
       "      <td>0.201646</td>\n",
       "      <td>2.0</td>\n",
       "    </tr>\n",
       "    <tr>\n",
       "      <th>35</th>\n",
       "      <td>6</td>\n",
       "      <td>15.500000</td>\n",
       "      <td>149.000000</td>\n",
       "      <td>2017-06-26</td>\n",
       "      <td>5</td>\n",
       "      <td>2.70</td>\n",
       "      <td>5.0</td>\n",
       "      <td>104.0</td>\n",
       "      <td>4</td>\n",
       "      <td>0</td>\n",
       "      <td>...</td>\n",
       "      <td>644.0</td>\n",
       "      <td>2</td>\n",
       "      <td>0.104</td>\n",
       "      <td>Monday</td>\n",
       "      <td>June</td>\n",
       "      <td>2017</td>\n",
       "      <td>другой</td>\n",
       "      <td>0.697987</td>\n",
       "      <td>0.114094</td>\n",
       "      <td>4.0</td>\n",
       "    </tr>\n",
       "    <tr>\n",
       "      <th>51</th>\n",
       "      <td>7</td>\n",
       "      <td>45.000000</td>\n",
       "      <td>161.000000</td>\n",
       "      <td>2017-10-17</td>\n",
       "      <td>3</td>\n",
       "      <td>3.20</td>\n",
       "      <td>8.0</td>\n",
       "      <td>38.0</td>\n",
       "      <td>4</td>\n",
       "      <td>0</td>\n",
       "      <td>...</td>\n",
       "      <td>541.0</td>\n",
       "      <td>2</td>\n",
       "      <td>0.280</td>\n",
       "      <td>Tuesday</td>\n",
       "      <td>October</td>\n",
       "      <td>2017</td>\n",
       "      <td>другой</td>\n",
       "      <td>0.236025</td>\n",
       "      <td>0.310559</td>\n",
       "      <td>7.0</td>\n",
       "    </tr>\n",
       "    <tr>\n",
       "      <th>52</th>\n",
       "      <td>20</td>\n",
       "      <td>11.795000</td>\n",
       "      <td>136.000000</td>\n",
       "      <td>2017-09-22</td>\n",
       "      <td>6</td>\n",
       "      <td>3.00</td>\n",
       "      <td>2.0</td>\n",
       "      <td>94.0</td>\n",
       "      <td>2</td>\n",
       "      <td>0</td>\n",
       "      <td>...</td>\n",
       "      <td>NaN</td>\n",
       "      <td>3</td>\n",
       "      <td>0.087</td>\n",
       "      <td>Friday</td>\n",
       "      <td>September</td>\n",
       "      <td>2017</td>\n",
       "      <td>последний</td>\n",
       "      <td>0.691176</td>\n",
       "      <td>0.080882</td>\n",
       "      <td>7.0</td>\n",
       "    </tr>\n",
       "  </tbody>\n",
       "</table>\n",
       "<p>5 rows × 31 columns</p>\n",
       "</div>"
      ],
      "text/plain": [
       "    total_images  last_price  total_area first_day_exposition  rooms  \\\n",
       "3              0   64.900002  159.000000           2015-07-24      3   \n",
       "24             8    6.500000   97.199997           2015-10-31      2   \n",
       "35             6   15.500000  149.000000           2017-06-26      5   \n",
       "51             7   45.000000  161.000000           2017-10-17      3   \n",
       "52            20   11.795000  136.000000           2017-09-22      6   \n",
       "\n",
       "    ceiling_height  floors_total  living_area  floor is_apartment  ...  \\\n",
       "3             2.70          14.0         47.0      9            0  ...   \n",
       "24            2.62           3.0         46.5      1            0  ...   \n",
       "35            2.70           5.0        104.0      4            0  ...   \n",
       "51            3.20           8.0         38.0      4            0  ...   \n",
       "52            3.00           2.0         94.0      2            0  ...   \n",
       "\n",
       "    days_exposition  grouped_rooms  price_m  day_of_week      month  year  \\\n",
       "3             424.0              2    0.408       Friday       July  2015   \n",
       "24            265.0              1    0.067     Saturday    October  2015   \n",
       "35            644.0              2    0.104       Monday       June  2017   \n",
       "51            541.0              2    0.280      Tuesday    October  2017   \n",
       "52              NaN              3    0.087       Friday  September  2017   \n",
       "\n",
       "    floor_status  total_living_ratio  total_kitchen_ratio  km_to_city_center  \n",
       "3         другой            0.295597                  NaN                7.0  \n",
       "24        первый            0.478395             0.201646                2.0  \n",
       "35        другой            0.697987             0.114094                4.0  \n",
       "51        другой            0.236025             0.310559                7.0  \n",
       "52     последний            0.691176             0.080882                7.0  \n",
       "\n",
       "[5 rows x 31 columns]"
      ]
     },
     "execution_count": 67,
     "metadata": {},
     "output_type": "execute_result"
    }
   ],
   "source": [
    "#выделение квартир центральной зоны в отдельный лист\n",
    "center_spb = locality_in_spb.query('km_to_city_center <= 7 and locality_name == \"санкт-петербург\"')\n",
    "center_spb.head()"
   ]
  },
  {
   "cell_type": "code",
   "execution_count": 68,
   "metadata": {},
   "outputs": [
    {
     "data": {
      "text/plain": [
       "0.3019853559573209"
      ]
     },
     "execution_count": 68,
     "metadata": {},
     "output_type": "execute_result"
    },
    {
     "data": {
      "image/png": "[encoded data removed]",
      "text/plain": [
       "<Figure size 432x288 with 1 Axes>"
      ]
     },
     "metadata": {
      "needs_background": "light"
     },
     "output_type": "display_data"
    }
   ],
   "source": [
    "#выявление зависимости стоимости от площади\n",
    "center_spb_total_area = center_spb.pivot_table(index = 'total_area', values = 'price_m', aggfunc = ['mean', 'count', 'median'])\n",
    "center_spb_total_area.columns = ['mean', 'count', 'median']\n",
    "center_spb_total_area.plot(y = 'median', style = 'o')\n",
    "center_spb_total_area.sort_values('median', ascending = False)\n",
    "data['total_area'].corr(data['price_m'])"
   ]
  },
  {
   "cell_type": "markdown",
   "metadata": {},
   "source": [
    "Коэффициент корреляции Пирсона равен 0.3, то есть зависимость хотя и положительная, но слабая"
   ]
  },
  {
   "cell_type": "code",
   "execution_count": 69,
   "metadata": {},
   "outputs": [
    {
     "data": {
      "text/plain": [
       "0.05544755685740013"
      ]
     },
     "execution_count": 69,
     "metadata": {},
     "output_type": "execute_result"
    },
    {
     "data": {
      "image/png": "[encoded data removed]",
      "text/plain": [
       "<Figure size 432x288 with 1 Axes>"
      ]
     },
     "metadata": {
      "needs_background": "light"
     },
     "output_type": "display_data"
    }
   ],
   "source": [
    "#зависимость цены от количества комнат\n",
    "center_spb_rooms = center_spb.pivot_table(index = 'rooms', values = 'price_m', aggfunc = ['mean', 'count', 'median'])\n",
    "center_spb_rooms.columns = ['mean', 'count', 'median']\n",
    "center_spb_rooms.query('count > 50').plot(y = 'median')\n",
    "center_spb_rooms.query('count > 50').sort_values('median', ascending = False)\n",
    "data['rooms'].corr(data['price_m'])"
   ]
  },
  {
   "cell_type": "markdown",
   "metadata": {},
   "source": [
    "Коэффициент корреляции Пирсона показывает очень слабую зависимость. На графике видно, что чем ближе количество комнат к трем, тем меньше стоит 1 квадратный метр."
   ]
  },
  {
   "cell_type": "code",
   "execution_count": 70,
   "metadata": {},
   "outputs": [
    {
     "data": {
      "text/html": [
       "<div>\n",
       "<style scoped>\n",
       "    .dataframe tbody tr th:only-of-type {\n",
       "        vertical-align: middle;\n",
       "    }\n",
       "\n",
       "    .dataframe tbody tr th {\n",
       "        vertical-align: top;\n",
       "    }\n",
       "\n",
       "    .dataframe thead th {\n",
       "        text-align: right;\n",
       "    }\n",
       "</style>\n",
       "<table border=\"1\" class=\"dataframe\">\n",
       "  <thead>\n",
       "    <tr style=\"text-align: right;\">\n",
       "      <th></th>\n",
       "      <th>mean</th>\n",
       "      <th>count</th>\n",
       "      <th>median</th>\n",
       "    </tr>\n",
       "    <tr>\n",
       "      <th>floor_status</th>\n",
       "      <th></th>\n",
       "      <th></th>\n",
       "      <th></th>\n",
       "    </tr>\n",
       "  </thead>\n",
       "  <tbody>\n",
       "    <tr>\n",
       "      <th>другой</th>\n",
       "      <td>0.148896</td>\n",
       "      <td>2511</td>\n",
       "      <td>0.128</td>\n",
       "    </tr>\n",
       "    <tr>\n",
       "      <th>первый</th>\n",
       "      <td>0.122912</td>\n",
       "      <td>385</td>\n",
       "      <td>0.109</td>\n",
       "    </tr>\n",
       "    <tr>\n",
       "      <th>последний</th>\n",
       "      <td>0.144237</td>\n",
       "      <td>629</td>\n",
       "      <td>0.116</td>\n",
       "    </tr>\n",
       "  </tbody>\n",
       "</table>\n",
       "</div>"
      ],
      "text/plain": [
       "                  mean  count  median\n",
       "floor_status                         \n",
       "другой        0.148896   2511   0.128\n",
       "первый        0.122912    385   0.109\n",
       "последний     0.144237    629   0.116"
      ]
     },
     "execution_count": 70,
     "metadata": {},
     "output_type": "execute_result"
    },
    {
     "data": {
      "image/png": "[encoded data removed]",
      "text/plain": [
       "<Figure size 432x288 with 1 Axes>"
      ]
     },
     "metadata": {
      "needs_background": "light"
     },
     "output_type": "display_data"
    }
   ],
   "source": [
    "#зависимость цены от этажа (первый, последний или другой)\n",
    "center_spb_floor = center_spb.pivot_table(index = 'floor_status', values = 'price_m', aggfunc = ['mean', 'count', 'median'])\n",
    "center_spb_floor.columns = ['mean', 'count', 'median']\n",
    "center_spb_floor.plot(y = 'median')\n",
    "center_spb_floor"
   ]
  },
  {
   "cell_type": "markdown",
   "metadata": {},
   "source": [
    "Стоимость квадратного метра квартир на первом и последнем этажах в целом ниже, чем стоимость квартир на других этажах"
   ]
  },
  {
   "cell_type": "code",
   "execution_count": 71,
   "metadata": {},
   "outputs": [
    {
     "data": {
      "text/plain": [
       "-0.021652996284678677"
      ]
     },
     "execution_count": 71,
     "metadata": {},
     "output_type": "execute_result"
    },
    {
     "data": {
      "image/png": "[encoded data removed]",
      "text/plain": [
       "<Figure size 432x288 with 1 Axes>"
      ]
     },
     "metadata": {
      "needs_background": "light"
     },
     "output_type": "display_data"
    }
   ],
   "source": [
    "#зависимость стоимости квартир от удаленности от центра\n",
    "center_spb.plot(kind = 'scatter', y = 'price_m', x = 'km_to_city_center', alpha = 0.3)\n",
    "center_spb['km_to_city_center'].corr(data['price_m'])"
   ]
  },
  {
   "cell_type": "markdown",
   "metadata": {},
   "source": [
    "Коэффициент корреляции Пирсона показыает слабую отрицательную зависимость, которая может быть обусловлена выбросами на графике."
   ]
  },
  {
   "cell_type": "code",
   "execution_count": 72,
   "metadata": {},
   "outputs": [
    {
     "data": {
      "text/html": [
       "<div>\n",
       "<style scoped>\n",
       "    .dataframe tbody tr th:only-of-type {\n",
       "        vertical-align: middle;\n",
       "    }\n",
       "\n",
       "    .dataframe tbody tr th {\n",
       "        vertical-align: top;\n",
       "    }\n",
       "\n",
       "    .dataframe thead th {\n",
       "        text-align: right;\n",
       "    }\n",
       "</style>\n",
       "<table border=\"1\" class=\"dataframe\">\n",
       "  <thead>\n",
       "    <tr style=\"text-align: right;\">\n",
       "      <th></th>\n",
       "      <th>mean</th>\n",
       "      <th>count</th>\n",
       "      <th>median</th>\n",
       "    </tr>\n",
       "    <tr>\n",
       "      <th>day_of_week</th>\n",
       "      <th></th>\n",
       "      <th></th>\n",
       "      <th></th>\n",
       "    </tr>\n",
       "  </thead>\n",
       "  <tbody>\n",
       "    <tr>\n",
       "      <th>Tuesday</th>\n",
       "      <td>0.099733</td>\n",
       "      <td>4183</td>\n",
       "      <td>0.096</td>\n",
       "    </tr>\n",
       "    <tr>\n",
       "      <th>Friday</th>\n",
       "      <td>0.099019</td>\n",
       "      <td>4000</td>\n",
       "      <td>0.095</td>\n",
       "    </tr>\n",
       "    <tr>\n",
       "      <th>Monday</th>\n",
       "      <td>0.099439</td>\n",
       "      <td>3612</td>\n",
       "      <td>0.095</td>\n",
       "    </tr>\n",
       "    <tr>\n",
       "      <th>Sunday</th>\n",
       "      <td>0.097705</td>\n",
       "      <td>1699</td>\n",
       "      <td>0.095</td>\n",
       "    </tr>\n",
       "    <tr>\n",
       "      <th>Thursday</th>\n",
       "      <td>0.100162</td>\n",
       "      <td>4295</td>\n",
       "      <td>0.095</td>\n",
       "    </tr>\n",
       "    <tr>\n",
       "      <th>Wednesday</th>\n",
       "      <td>0.099613</td>\n",
       "      <td>3974</td>\n",
       "      <td>0.095</td>\n",
       "    </tr>\n",
       "    <tr>\n",
       "      <th>Saturday</th>\n",
       "      <td>0.099021</td>\n",
       "      <td>1936</td>\n",
       "      <td>0.094</td>\n",
       "    </tr>\n",
       "  </tbody>\n",
       "</table>\n",
       "</div>"
      ],
      "text/plain": [
       "                 mean  count  median\n",
       "day_of_week                         \n",
       "Tuesday      0.099733   4183   0.096\n",
       "Friday       0.099019   4000   0.095\n",
       "Monday       0.099439   3612   0.095\n",
       "Sunday       0.097705   1699   0.095\n",
       "Thursday     0.100162   4295   0.095\n",
       "Wednesday    0.099613   3974   0.095\n",
       "Saturday     0.099021   1936   0.094"
      ]
     },
     "execution_count": 72,
     "metadata": {},
     "output_type": "execute_result"
    },
    {
     "data": {
      "image/png": "[encoded data removed]",
      "text/plain": [
       "<Figure size 432x288 with 1 Axes>"
      ]
     },
     "metadata": {
      "needs_background": "light"
     },
     "output_type": "display_data"
    }
   ],
   "source": [
    "#зависимость цены от дня недели размещения объявления\n",
    "center_spb_day = data.pivot_table(index = 'day_of_week', values = 'price_m', aggfunc = ['mean', 'count', 'median'])\n",
    "center_spb_day.columns = ['mean', 'count', 'median']\n",
    "center_spb_day.plot(y = 'median')\n",
    "\n",
    "center_spb_day.sort_values('median', ascending = False)"
   ]
  },
  {
   "cell_type": "markdown",
   "metadata": {},
   "source": [
    "На графике отчетливо видна зависимость стоимости квартиры в зависимости от дня размещения. Объявления, размещенные в субботу имеют значительно более низкую стоимость, чем в другие дни, самый успешный день для размещения - вторник."
   ]
  },
  {
   "cell_type": "code",
   "execution_count": 73,
   "metadata": {},
   "outputs": [
    {
     "data": {
      "text/html": [
       "<div>\n",
       "<style scoped>\n",
       "    .dataframe tbody tr th:only-of-type {\n",
       "        vertical-align: middle;\n",
       "    }\n",
       "\n",
       "    .dataframe tbody tr th {\n",
       "        vertical-align: top;\n",
       "    }\n",
       "\n",
       "    .dataframe thead th {\n",
       "        text-align: right;\n",
       "    }\n",
       "</style>\n",
       "<table border=\"1\" class=\"dataframe\">\n",
       "  <thead>\n",
       "    <tr style=\"text-align: right;\">\n",
       "      <th></th>\n",
       "      <th>mean</th>\n",
       "      <th>count</th>\n",
       "      <th>median</th>\n",
       "    </tr>\n",
       "    <tr>\n",
       "      <th>month</th>\n",
       "      <th></th>\n",
       "      <th></th>\n",
       "      <th></th>\n",
       "    </tr>\n",
       "  </thead>\n",
       "  <tbody>\n",
       "    <tr>\n",
       "      <th>March</th>\n",
       "      <td>0.147024</td>\n",
       "      <td>373</td>\n",
       "      <td>0.1310</td>\n",
       "    </tr>\n",
       "    <tr>\n",
       "      <th>January</th>\n",
       "      <td>0.147231</td>\n",
       "      <td>212</td>\n",
       "      <td>0.1290</td>\n",
       "    </tr>\n",
       "    <tr>\n",
       "      <th>April</th>\n",
       "      <td>0.155737</td>\n",
       "      <td>334</td>\n",
       "      <td>0.1270</td>\n",
       "    </tr>\n",
       "    <tr>\n",
       "      <th>August</th>\n",
       "      <td>0.145727</td>\n",
       "      <td>260</td>\n",
       "      <td>0.1250</td>\n",
       "    </tr>\n",
       "    <tr>\n",
       "      <th>May</th>\n",
       "      <td>0.139159</td>\n",
       "      <td>201</td>\n",
       "      <td>0.1250</td>\n",
       "    </tr>\n",
       "    <tr>\n",
       "      <th>September</th>\n",
       "      <td>0.145152</td>\n",
       "      <td>303</td>\n",
       "      <td>0.1240</td>\n",
       "    </tr>\n",
       "    <tr>\n",
       "      <th>November</th>\n",
       "      <td>0.141185</td>\n",
       "      <td>352</td>\n",
       "      <td>0.1230</td>\n",
       "    </tr>\n",
       "    <tr>\n",
       "      <th>October</th>\n",
       "      <td>0.139301</td>\n",
       "      <td>292</td>\n",
       "      <td>0.1220</td>\n",
       "    </tr>\n",
       "    <tr>\n",
       "      <th>December</th>\n",
       "      <td>0.148455</td>\n",
       "      <td>244</td>\n",
       "      <td>0.1215</td>\n",
       "    </tr>\n",
       "    <tr>\n",
       "      <th>February</th>\n",
       "      <td>0.143806</td>\n",
       "      <td>386</td>\n",
       "      <td>0.1210</td>\n",
       "    </tr>\n",
       "    <tr>\n",
       "      <th>June</th>\n",
       "      <td>0.145141</td>\n",
       "      <td>290</td>\n",
       "      <td>0.1200</td>\n",
       "    </tr>\n",
       "    <tr>\n",
       "      <th>July</th>\n",
       "      <td>0.143227</td>\n",
       "      <td>278</td>\n",
       "      <td>0.1190</td>\n",
       "    </tr>\n",
       "  </tbody>\n",
       "</table>\n",
       "</div>"
      ],
      "text/plain": [
       "               mean  count  median\n",
       "month                             \n",
       "March      0.147024    373  0.1310\n",
       "January    0.147231    212  0.1290\n",
       "April      0.155737    334  0.1270\n",
       "August     0.145727    260  0.1250\n",
       "May        0.139159    201  0.1250\n",
       "September  0.145152    303  0.1240\n",
       "November   0.141185    352  0.1230\n",
       "October    0.139301    292  0.1220\n",
       "December   0.148455    244  0.1215\n",
       "February   0.143806    386  0.1210\n",
       "June       0.145141    290  0.1200\n",
       "July       0.143227    278  0.1190"
      ]
     },
     "execution_count": 73,
     "metadata": {},
     "output_type": "execute_result"
    },
    {
     "data": {
      "image/png": "[encoded data removed]",
      "text/plain": [
       "<Figure size 432x288 with 1 Axes>"
      ]
     },
     "metadata": {
      "needs_background": "light"
     },
     "output_type": "display_data"
    }
   ],
   "source": [
    "center_spb_month = center_spb.pivot_table(index = 'month', values = 'price_m', aggfunc = ['mean', 'count', 'median'])\n",
    "center_spb_month.columns = ['mean', 'count', 'median']\n",
    "center_spb_month.plot(y = 'median')\n",
    "center_spb_month.sort_values('median', ascending = False)"
   ]
  },
  {
   "cell_type": "markdown",
   "metadata": {},
   "source": [
    "Несмотря на неоднозначный график, сводная таблица показывает, что цена меняется в ожидаемых и незначительных пределах в течение всех месяцев года, хотя и отражает влияние сезонности (летом спрос меньше)."
   ]
  },
  {
   "cell_type": "code",
   "execution_count": 74,
   "metadata": {},
   "outputs": [
    {
     "data": {
      "text/html": [
       "<div>\n",
       "<style scoped>\n",
       "    .dataframe tbody tr th:only-of-type {\n",
       "        vertical-align: middle;\n",
       "    }\n",
       "\n",
       "    .dataframe tbody tr th {\n",
       "        vertical-align: top;\n",
       "    }\n",
       "\n",
       "    .dataframe thead th {\n",
       "        text-align: right;\n",
       "    }\n",
       "</style>\n",
       "<table border=\"1\" class=\"dataframe\">\n",
       "  <thead>\n",
       "    <tr style=\"text-align: right;\">\n",
       "      <th></th>\n",
       "      <th>mean</th>\n",
       "      <th>count</th>\n",
       "      <th>median</th>\n",
       "    </tr>\n",
       "    <tr>\n",
       "      <th>year</th>\n",
       "      <th></th>\n",
       "      <th></th>\n",
       "      <th></th>\n",
       "    </tr>\n",
       "  </thead>\n",
       "  <tbody>\n",
       "    <tr>\n",
       "      <th>2014</th>\n",
       "      <td>0.195630</td>\n",
       "      <td>27</td>\n",
       "      <td>0.143</td>\n",
       "    </tr>\n",
       "    <tr>\n",
       "      <th>2019</th>\n",
       "      <td>0.159958</td>\n",
       "      <td>382</td>\n",
       "      <td>0.135</td>\n",
       "    </tr>\n",
       "    <tr>\n",
       "      <th>2018</th>\n",
       "      <td>0.140743</td>\n",
       "      <td>1044</td>\n",
       "      <td>0.125</td>\n",
       "    </tr>\n",
       "    <tr>\n",
       "      <th>2017</th>\n",
       "      <td>0.143141</td>\n",
       "      <td>1261</td>\n",
       "      <td>0.122</td>\n",
       "    </tr>\n",
       "    <tr>\n",
       "      <th>2015</th>\n",
       "      <td>0.146112</td>\n",
       "      <td>313</td>\n",
       "      <td>0.119</td>\n",
       "    </tr>\n",
       "    <tr>\n",
       "      <th>2016</th>\n",
       "      <td>0.145315</td>\n",
       "      <td>498</td>\n",
       "      <td>0.119</td>\n",
       "    </tr>\n",
       "  </tbody>\n",
       "</table>\n",
       "</div>"
      ],
      "text/plain": [
       "          mean  count  median\n",
       "year                         \n",
       "2014  0.195630     27   0.143\n",
       "2019  0.159958    382   0.135\n",
       "2018  0.140743   1044   0.125\n",
       "2017  0.143141   1261   0.122\n",
       "2015  0.146112    313   0.119\n",
       "2016  0.145315    498   0.119"
      ]
     },
     "execution_count": 74,
     "metadata": {},
     "output_type": "execute_result"
    },
    {
     "data": {
      "image/png": "[encoded data removed]",
      "text/plain": [
       "<Figure size 432x288 with 1 Axes>"
      ]
     },
     "metadata": {
      "needs_background": "light"
     },
     "output_type": "display_data"
    }
   ],
   "source": [
    "center_spb_year = center_spb.pivot_table(index = 'year', values = 'price_m', aggfunc = ['mean', 'count', 'median'])\n",
    "center_spb_year.columns = ['mean', 'count', 'median']\n",
    "center_spb_year.plot(y = 'median')\n",
    "center_spb_year.sort_values('median', ascending = False)"
   ]
  },
  {
   "cell_type": "markdown",
   "metadata": {},
   "source": [
    "Согласно данным сводной таблицы и графика - рынок был в упадке в 2015-2016 году, стоимость квадратного метра значительно упала, но с 2016 года отражается подъем как средней стоимости квадратного метра, так и количества предложений."
   ]
  },
  {
   "cell_type": "code",
   "execution_count": 93,
   "metadata": {},
   "outputs": [
    {
     "data": {
      "text/html": [
       "<div>\n",
       "<style scoped>\n",
       "    .dataframe tbody tr th:only-of-type {\n",
       "        vertical-align: middle;\n",
       "    }\n",
       "\n",
       "    .dataframe tbody tr th {\n",
       "        vertical-align: top;\n",
       "    }\n",
       "\n",
       "    .dataframe thead th {\n",
       "        text-align: right;\n",
       "    }\n",
       "</style>\n",
       "<table border=\"1\" class=\"dataframe\">\n",
       "  <thead>\n",
       "    <tr style=\"text-align: right;\">\n",
       "      <th></th>\n",
       "      <th>price_m</th>\n",
       "      <th>total_area</th>\n",
       "      <th>rooms</th>\n",
       "      <th>year</th>\n",
       "    </tr>\n",
       "  </thead>\n",
       "  <tbody>\n",
       "    <tr>\n",
       "      <th>price_m</th>\n",
       "      <td>1.000000</td>\n",
       "      <td>0.301985</td>\n",
       "      <td>0.055448</td>\n",
       "      <td>0.008492</td>\n",
       "    </tr>\n",
       "    <tr>\n",
       "      <th>total_area</th>\n",
       "      <td>0.301985</td>\n",
       "      <td>1.000000</td>\n",
       "      <td>0.758344</td>\n",
       "      <td>-0.079912</td>\n",
       "    </tr>\n",
       "    <tr>\n",
       "      <th>rooms</th>\n",
       "      <td>0.055448</td>\n",
       "      <td>0.758344</td>\n",
       "      <td>1.000000</td>\n",
       "      <td>-0.055418</td>\n",
       "    </tr>\n",
       "    <tr>\n",
       "      <th>year</th>\n",
       "      <td>0.008492</td>\n",
       "      <td>-0.079912</td>\n",
       "      <td>-0.055418</td>\n",
       "      <td>1.000000</td>\n",
       "    </tr>\n",
       "  </tbody>\n",
       "</table>\n",
       "</div>"
      ],
      "text/plain": [
       "             price_m  total_area     rooms      year\n",
       "price_m     1.000000    0.301985  0.055448  0.008492\n",
       "total_area  0.301985    1.000000  0.758344 -0.079912\n",
       "rooms       0.055448    0.758344  1.000000 -0.055418\n",
       "year        0.008492   -0.079912 -0.055418  1.000000"
      ]
     },
     "execution_count": 93,
     "metadata": {},
     "output_type": "execute_result"
    }
   ],
   "source": [
    "#матрица корреляции для параметров price_m, total_area, rooms, floor_status, year\n",
    "data[['price_m', 'total_area', 'rooms', 'floor_status', 'year']].corr()"
   ]
  },
  {
   "cell_type": "markdown",
   "metadata": {},
   "source": [
    "Выявлена слабая линейная зависимость цены квадратного метра от количества комнат и года продажи. Прямая линейная зависимость видна между ценой квадратного метра и общей площадью помещения."
   ]
  },
  {
   "cell_type": "code",
   "execution_count": 94,
   "metadata": {},
   "outputs": [
    {
     "data": {
      "text/plain": [
       "<seaborn.axisgrid.PairGrid at 0x7fa5c7bceee0>"
      ]
     },
     "execution_count": 94,
     "metadata": {},
     "output_type": "execute_result"
    },
    {
     "data": {
      "image/png": "[encoded data removed]",
      "text/plain": [
       "<Figure size 720x720 with 20 Axes>"
      ]
     },
     "metadata": {
      "needs_background": "light"
     },
     "output_type": "display_data"
    }
   ],
   "source": [
    "seaborn.pairplot(data[['price_m', 'total_area', 'rooms', 'floor_status', 'year']])"
   ]
  },
  {
   "cell_type": "markdown",
   "metadata": {},
   "source": [
    "## Общий вывод"
   ]
  },
  {
   "cell_type": "markdown",
   "metadata": {},
   "source": [
    "В рамках проведения исследования был обработан полученный датасет: обработаны пропущенные значения там, где необходимо, заменены типы данных для работы, добавлены необходимые данные (цена квадратного метра, дни недели, месяц и год выставления объявления), другие категории, изучены параметры.\n",
    "На основани проведенного исследования можно сделать следующие выводы:\n",
    "1. Согласно данным гистограммы можно считать, что продажа проходит быстро если она заняла менее 180 дней, значения больше 400 дней встречаются значительно реже и такие продажи можно считать необычно долгими.\n",
    "2. По данным диаграммам можно сделать вывод, что людям наиболее интересно покупать квартиры с большой площадью, но высота потолков или количество комнат интересует их меньше. На матрице диаграмм рассеивания видно, что минимальная корреляция у стоимости квартиры (last_price) присутствует с высотой потолков (ceiling_height), а наиболее сильная корреляция с общей и жилой площадью квартиры.\n",
    "3. Больше всего объявлений в Санкт-Петербурге, количество объявлений в других городах в несколько раз меньше.\n",
    "4. Несмотря на то, что в Санкт-Петербурге спрос больше, наиболее высокая стоимость квартиры представлена в Зеленогорске.\n",
    "5. Центральная зона Санкт-Петербурга - 7 км.\n",
    "6. Коэффициент корреляции Пирсона показывает очень слабую зависимость количества комнат и стоимости квартир. На графике видно, что чем ближе количество комнат к трем, тем меньше стоит 1 квадратный метр.\n",
    "7. На графике отчетливо видна зависимость стоимости квартиры от дня размещения. Объявления, размещенные в субботу имеют значительно более низкую стоимость, чем в другие дни, самый успешный день для размещения - вторник.\n",
    "8. Сводная таблица показывает, что цена меняется в ожидаемых и незначительных пределах в течение всех месяцев года, хотя и отражает влияние сезонности (летом спрос меньше).\n",
    "9. Рынок был в упадке в 2015-2016 году, стоимость квадратного метра значительно упала, но с 2016 года отражается подъем как средней стоимости квадратного метра, так и количества предложений."
   ]
  },
  {
   "cell_type": "markdown",
   "metadata": {},
   "source": [
    "Выявлена слабая линейная зависимость цены квадратного метра от количества комнат и года продажи. Прямая линейная зависимость видна между ценой квадратного метра и общей площадью помещения.\n",
    "В то время, как средняя цена квартиры по региону около 10-ти миллионов рублей, средняя цена квартиры в Санкт-Петербурге около 13-ти миллионов рублей. На квартиры в Санкт-Петербурге наиболее влияют следующие параметры: общая площадь помещения, год продажи, в то время как количество комнат влияет в меньшей степени. \n",
    "На квартиры в регионе наиболее влияют общая площадь помещения, и количество комнат. Близость от центра обладает обратной линейной связью со всеми параметрами, то есть удаленность слабая обратно связана с стоимостью продажи квартиры, площадью, количеством комнат. Это может быть объяснено тем фактом, что в регионе отдаление от центра Санкт-Петербурга означает приближение к другому территориальному центру. "
   ]
  }
 ],
 "metadata": {
  "kernelspec": {
   "display_name": "Python 3 (ipykernel)",
   "language": "python",
   "name": "python3"
  },
  "language_info": {
   "codemirror_mode": {
    "name": "ipython",
    "version": 3
   },
   "file_extension": ".py",
   "mimetype": "text/x-python",
   "name": "python",
   "nbconvert_exporter": "python",
   "pygments_lexer": "ipython3",
   "version": "3.9.7"
  },
  "toc": {
   "base_numbering": 1,
   "nav_menu": {},
   "number_sections": true,
   "sideBar": true,
   "skip_h1_title": true,
   "title_cell": "Содержание",
   "title_sidebar": "Contents",
   "toc_cell": true,
   "toc_position": {},
   "toc_section_display": true,
   "toc_window_display": true
  }
 },
 "nbformat": 4,
 "nbformat_minor": 4
}
