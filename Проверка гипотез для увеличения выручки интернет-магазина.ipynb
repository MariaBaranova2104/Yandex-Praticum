{
 "cells": [
  {
   "cell_type": "markdown",
   "id": "c68ab94a",
   "metadata": {},
   "source": [
    "# Проверка гипотез для увеличения выручки интернет-магазина"
   ]
  },
  {
   "cell_type": "markdown",
   "id": "c125c2e5",
   "metadata": {},
   "source": [
    "# Содержание данных и постановка задач\n",
    "## Часть 1 Приоритизация гипотез.\n",
    "\n",
    "9 гипотез по увеличению выручки интернет-магазина с указанными параметрами Reach, Impact, Confidence, Effort.\n",
    "### Задачи\n",
    "1. Фреймворк ICE для приоритизации гипотез. Отсортируйте их по убыванию приоритета.\n",
    "2. Фреймворк RICE для приоритизации гипотез. Отсортируйте их по убыванию приоритета.\n",
    "3. Как изменилась приоритизация гипотез при применении RICE вместо ICE. \n",
    "\n",
    "## Часть 2. Анализ A/B-теста\n",
    "\n",
    "Проведение A/B-теста и получение результатов\n",
    "### Задачи\n",
    "1. График кумулятивной выручки по группам. Сделайте выводы и предположения.\n",
    "2. График кумулятивного среднего чека по группам. Сделайте выводы и предположения.\n",
    "3. График относительного изменения кумулятивного среднего чека группы B к группе A. Сделайте выводы и предположения.\n",
    "4. График кумулятивной конверсии по группам. Сделайте выводы и предположения.\n",
    "5. График относительного изменения кумулятивной конверсии группы B к группе A. Сделайте выводы и предположения.\n",
    "6. Точечный график количества заказов по пользователям. Сделайте выводы и предположения.\n",
    "7. Подсчет 95-го и 99-го перцентилей количества заказов на пользователя. Выбор границы для определения аномальных пользователей.\n",
    "8. Точечный график стоимостей заказов. Сделайте выводы и предположения.\n",
    "9. Подсчет 95-го и 99-го перцентилей стоимости заказов. Выбор границы для определения аномальных заказов.\n",
    "10. Подсчет статистической значимости различий в конверсии между группами по «сырым» данным. Выводы и предположения.\n",
    "11. Подсчет статистической значимости различий в среднем чеке заказа между группами по «сырым» данным. Выводы и предположения.\n",
    "12. Подсчет статистической значимости различий в конверсии между группами по «очищенным» данным. Выводы и предположения.\n",
    "13. Подсчет статистической значимости различий в среднем чеке заказа между группами по «очищенным» данным. Выводы и предположения.\n",
    "14. Решение по результатам теста. \n",
    "\n",
    "Варианты решений: 1. Остановить тест, зафиксировать победу одной из групп. 2. Остановить тест, зафиксировать отсутствие различий между группами. 3. Продолжить тест."
   ]
  },
  {
   "cell_type": "markdown",
   "id": "2b72f468",
   "metadata": {},
   "source": [
    "## Описание данных\n",
    "\n",
    "### Данные для первой части\n",
    "#### Файл /datasets/hypothesis.csv. \n",
    "**Hypothesis** — краткое описание гипотезы;\n",
    "\n",
    "**Reach** — охват пользователей по 10-балльной шкале;\n",
    "\n",
    "**Impact** — влияние на пользователей по 10-балльной шкале;\n",
    "\n",
    "**Confidence** — уверенность в гипотезе по 10-балльной шкале;\n",
    "\n",
    "**Efforts** — затраты ресурсов на проверку гипотезы по 10-балльной шкале. Чем больше значение Efforts, тем дороже проверка гипотезы.\n",
    "\n",
    "### Данные для второй части\n",
    "#### Файл /datasets/orders.csv.\n",
    "**transactionId** — идентификатор заказа;\n",
    "\n",
    "**visitorId** — идентификатор пользователя, совершившего заказ;\n",
    "\n",
    "**date** — дата, когда был совершён заказ;\n",
    "\n",
    "**revenue** — выручка заказа;\n",
    "\n",
    "**group** — группа A/B-теста, в которую попал заказ.\n",
    "\n",
    "#### Файл /datasets/visitors.csv. \n",
    "**date** — дата;\n",
    "\n",
    "**group** — группа A/B-теста;\n",
    "\n",
    "**visitors** — количество пользователей в указанную дату в указанной группе A/B-теста\n"
   ]
  },
  {
   "cell_type": "markdown",
   "id": "b7d4459b",
   "metadata": {},
   "source": [
    "## Изучение данных\n"
   ]
  },
  {
   "cell_type": "code",
   "execution_count": 1,
   "id": "12db2699",
   "metadata": {},
   "outputs": [],
   "source": [
    "#импорт библиотек\n",
    "import pandas as pd\n",
    "import numpy as np\n",
    "import matplotlib.pyplot as plt\n",
    "import math\n",
    "import scipy.stats as stats\n",
    "\n",
    "from datetime import datetime\n"
   ]
  },
  {
   "cell_type": "code",
   "execution_count": 2,
   "id": "f4b05bb8",
   "metadata": {},
   "outputs": [],
   "source": [
    "#открытие датасетов\n",
    "try:\n",
    "    hypothesis = pd.read_csv('/Users/maria/Documents/Практикум/Принятие решений на основе данных/hypothesis.csv')\n",
    "    orders = pd.read_csv('/Users/maria/Documents/Практикум/Принятие решений на основе данных/orders.csv')\n",
    "    visitors = pd.read_csv('/Users/maria/Documents/Практикум/Принятие решений на основе данных/visitors.csv')\n",
    "\n",
    "\n",
    "except:\n",
    "    hypothesis = pd.read_csv('/datasets/hypothesis.csv')\n",
    "    orders = pd.read_csv('/datasets/orders.csv')\n",
    "    visitors = pd.read_csv('/datasets/visitors.csv')\n"
   ]
  },
  {
   "cell_type": "code",
   "execution_count": 3,
   "id": "27679dbc",
   "metadata": {},
   "outputs": [
    {
     "name": "stdout",
     "output_type": "stream",
     "text": [
      "<class 'pandas.core.frame.DataFrame'>\n",
      "RangeIndex: 9 entries, 0 to 8\n",
      "Data columns (total 5 columns):\n",
      " #   Column      Non-Null Count  Dtype \n",
      "---  ------      --------------  ----- \n",
      " 0   Hypothesis  9 non-null      object\n",
      " 1   Reach       9 non-null      int64 \n",
      " 2   Impact      9 non-null      int64 \n",
      " 3   Confidence  9 non-null      int64 \n",
      " 4   Efforts     9 non-null      int64 \n",
      "dtypes: int64(4), object(1)\n",
      "memory usage: 488.0+ bytes\n"
     ]
    },
    {
     "data": {
      "text/html": [
       "<div>\n",
       "<style scoped>\n",
       "    .dataframe tbody tr th:only-of-type {\n",
       "        vertical-align: middle;\n",
       "    }\n",
       "\n",
       "    .dataframe tbody tr th {\n",
       "        vertical-align: top;\n",
       "    }\n",
       "\n",
       "    .dataframe thead th {\n",
       "        text-align: right;\n",
       "    }\n",
       "</style>\n",
       "<table border=\"1\" class=\"dataframe\">\n",
       "  <thead>\n",
       "    <tr style=\"text-align: right;\">\n",
       "      <th></th>\n",
       "      <th>Hypothesis</th>\n",
       "      <th>Reach</th>\n",
       "      <th>Impact</th>\n",
       "      <th>Confidence</th>\n",
       "      <th>Efforts</th>\n",
       "    </tr>\n",
       "  </thead>\n",
       "  <tbody>\n",
       "    <tr>\n",
       "      <th>4</th>\n",
       "      <td>Изменить цвет фона главной страницы, чтобы увеличить вовлеченность пользователей</td>\n",
       "      <td>3</td>\n",
       "      <td>1</td>\n",
       "      <td>1</td>\n",
       "      <td>1</td>\n",
       "    </tr>\n",
       "    <tr>\n",
       "      <th>5</th>\n",
       "      <td>Добавить страницу отзывов клиентов о магазине, что позволит увеличить количество заказов</td>\n",
       "      <td>3</td>\n",
       "      <td>2</td>\n",
       "      <td>2</td>\n",
       "      <td>3</td>\n",
       "    </tr>\n",
       "    <tr>\n",
       "      <th>6</th>\n",
       "      <td>Показать на главной странице баннеры с актуальными акциями и распродажами, чтобы увеличить конверсию</td>\n",
       "      <td>5</td>\n",
       "      <td>3</td>\n",
       "      <td>8</td>\n",
       "      <td>3</td>\n",
       "    </tr>\n",
       "    <tr>\n",
       "      <th>8</th>\n",
       "      <td>Запустить акцию, дающую скидку на товар в день рождения</td>\n",
       "      <td>1</td>\n",
       "      <td>9</td>\n",
       "      <td>9</td>\n",
       "      <td>5</td>\n",
       "    </tr>\n",
       "    <tr>\n",
       "      <th>7</th>\n",
       "      <td>Добавить форму подписки на все основные страницы, чтобы собрать базу клиентов для email-рассылок</td>\n",
       "      <td>10</td>\n",
       "      <td>7</td>\n",
       "      <td>8</td>\n",
       "      <td>5</td>\n",
       "    </tr>\n",
       "  </tbody>\n",
       "</table>\n",
       "</div>"
      ],
      "text/plain": [
       "                                                                                             Hypothesis  \\\n",
       "4                      Изменить цвет фона главной страницы, чтобы увеличить вовлеченность пользователей   \n",
       "5              Добавить страницу отзывов клиентов о магазине, что позволит увеличить количество заказов   \n",
       "6  Показать на главной странице баннеры с актуальными акциями и распродажами, чтобы увеличить конверсию   \n",
       "8                                               Запустить акцию, дающую скидку на товар в день рождения   \n",
       "7      Добавить форму подписки на все основные страницы, чтобы собрать базу клиентов для email-рассылок   \n",
       "\n",
       "   Reach  Impact  Confidence  Efforts  \n",
       "4      3       1           1        1  \n",
       "5      3       2           2        3  \n",
       "6      5       3           8        3  \n",
       "8      1       9           9        5  \n",
       "7     10       7           8        5  "
      ]
     },
     "execution_count": 3,
     "metadata": {},
     "output_type": "execute_result"
    }
   ],
   "source": [
    "hypothesis.info()\n",
    "\n",
    "pd.options.display.max_colwidth = 400\n",
    "hypothesis.sample(5)"
   ]
  },
  {
   "cell_type": "code",
   "execution_count": 4,
   "id": "8c2032f7",
   "metadata": {},
   "outputs": [
    {
     "data": {
      "text/plain": [
       "Hypothesis    0\n",
       "Reach         0\n",
       "Impact        0\n",
       "Confidence    0\n",
       "Efforts       0\n",
       "dtype: int64"
      ]
     },
     "execution_count": 4,
     "metadata": {},
     "output_type": "execute_result"
    }
   ],
   "source": [
    "hypothesis.isna().sum()"
   ]
  },
  {
   "cell_type": "code",
   "execution_count": 5,
   "id": "3322b956",
   "metadata": {
    "scrolled": true
   },
   "outputs": [
    {
     "data": {
      "text/plain": [
       "0"
      ]
     },
     "execution_count": 5,
     "metadata": {},
     "output_type": "execute_result"
    }
   ],
   "source": [
    "hypothesis.duplicated().sum()"
   ]
  },
  {
   "cell_type": "markdown",
   "id": "030b0531",
   "metadata": {},
   "source": [
    "**Выводы** \n",
    "\n",
    "Первое представление о данных получено. \n",
    "Пропуски и дубликаты в данных не представлены. "
   ]
  },
  {
   "cell_type": "code",
   "execution_count": 6,
   "id": "1089a5e9",
   "metadata": {},
   "outputs": [
    {
     "name": "stdout",
     "output_type": "stream",
     "text": [
      "<class 'pandas.core.frame.DataFrame'>\n",
      "RangeIndex: 1197 entries, 0 to 1196\n",
      "Data columns (total 5 columns):\n",
      " #   Column         Non-Null Count  Dtype \n",
      "---  ------         --------------  ----- \n",
      " 0   transactionId  1197 non-null   int64 \n",
      " 1   visitorId      1197 non-null   int64 \n",
      " 2   date           1197 non-null   object\n",
      " 3   revenue        1197 non-null   int64 \n",
      " 4   group          1197 non-null   object\n",
      "dtypes: int64(3), object(2)\n",
      "memory usage: 46.9+ KB\n"
     ]
    },
    {
     "data": {
      "text/html": [
       "<div>\n",
       "<style scoped>\n",
       "    .dataframe tbody tr th:only-of-type {\n",
       "        vertical-align: middle;\n",
       "    }\n",
       "\n",
       "    .dataframe tbody tr th {\n",
       "        vertical-align: top;\n",
       "    }\n",
       "\n",
       "    .dataframe thead th {\n",
       "        text-align: right;\n",
       "    }\n",
       "</style>\n",
       "<table border=\"1\" class=\"dataframe\">\n",
       "  <thead>\n",
       "    <tr style=\"text-align: right;\">\n",
       "      <th></th>\n",
       "      <th>transactionId</th>\n",
       "      <th>visitorId</th>\n",
       "      <th>date</th>\n",
       "      <th>revenue</th>\n",
       "      <th>group</th>\n",
       "    </tr>\n",
       "  </thead>\n",
       "  <tbody>\n",
       "    <tr>\n",
       "      <th>825</th>\n",
       "      <td>446569841</td>\n",
       "      <td>1471458381</td>\n",
       "      <td>2019-08-27</td>\n",
       "      <td>110</td>\n",
       "      <td>B</td>\n",
       "    </tr>\n",
       "    <tr>\n",
       "      <th>174</th>\n",
       "      <td>2089115464</td>\n",
       "      <td>2366521417</td>\n",
       "      <td>2019-08-02</td>\n",
       "      <td>2800</td>\n",
       "      <td>B</td>\n",
       "    </tr>\n",
       "    <tr>\n",
       "      <th>984</th>\n",
       "      <td>3217433767</td>\n",
       "      <td>2637462286</td>\n",
       "      <td>2019-08-10</td>\n",
       "      <td>100</td>\n",
       "      <td>B</td>\n",
       "    </tr>\n",
       "    <tr>\n",
       "      <th>525</th>\n",
       "      <td>3031564664</td>\n",
       "      <td>393266494</td>\n",
       "      <td>2019-08-19</td>\n",
       "      <td>21550</td>\n",
       "      <td>A</td>\n",
       "    </tr>\n",
       "    <tr>\n",
       "      <th>470</th>\n",
       "      <td>2234122314</td>\n",
       "      <td>3310105714</td>\n",
       "      <td>2019-08-03</td>\n",
       "      <td>8780</td>\n",
       "      <td>B</td>\n",
       "    </tr>\n",
       "  </tbody>\n",
       "</table>\n",
       "</div>"
      ],
      "text/plain": [
       "     transactionId   visitorId        date  revenue group\n",
       "825      446569841  1471458381  2019-08-27      110     B\n",
       "174     2089115464  2366521417  2019-08-02     2800     B\n",
       "984     3217433767  2637462286  2019-08-10      100     B\n",
       "525     3031564664   393266494  2019-08-19    21550     A\n",
       "470     2234122314  3310105714  2019-08-03     8780     B"
      ]
     },
     "execution_count": 6,
     "metadata": {},
     "output_type": "execute_result"
    }
   ],
   "source": [
    "orders.info()\n",
    "orders.sample(5)"
   ]
  },
  {
   "cell_type": "code",
   "execution_count": 7,
   "id": "e6e5bdca",
   "metadata": {},
   "outputs": [
    {
     "data": {
      "text/plain": [
       "transactionId    0\n",
       "visitorId        0\n",
       "date             0\n",
       "revenue          0\n",
       "group            0\n",
       "dtype: int64"
      ]
     },
     "execution_count": 7,
     "metadata": {},
     "output_type": "execute_result"
    }
   ],
   "source": [
    "orders.isna().sum()"
   ]
  },
  {
   "cell_type": "code",
   "execution_count": 8,
   "id": "3d932b07",
   "metadata": {},
   "outputs": [
    {
     "data": {
      "text/plain": [
       "0"
      ]
     },
     "execution_count": 8,
     "metadata": {},
     "output_type": "execute_result"
    }
   ],
   "source": [
    "orders.duplicated().sum()"
   ]
  },
  {
   "cell_type": "markdown",
   "id": "59fe2576",
   "metadata": {},
   "source": [
    "**Выводы** \n",
    "\n",
    "Первое представление о данных получено. \n",
    "Пропуски и дубликаты в данных не представлены. "
   ]
  },
  {
   "cell_type": "code",
   "execution_count": 9,
   "id": "4fa3213f",
   "metadata": {},
   "outputs": [
    {
     "name": "stdout",
     "output_type": "stream",
     "text": [
      "<class 'pandas.core.frame.DataFrame'>\n",
      "RangeIndex: 62 entries, 0 to 61\n",
      "Data columns (total 3 columns):\n",
      " #   Column    Non-Null Count  Dtype \n",
      "---  ------    --------------  ----- \n",
      " 0   date      62 non-null     object\n",
      " 1   group     62 non-null     object\n",
      " 2   visitors  62 non-null     int64 \n",
      "dtypes: int64(1), object(2)\n",
      "memory usage: 1.6+ KB\n"
     ]
    },
    {
     "data": {
      "text/html": [
       "<div>\n",
       "<style scoped>\n",
       "    .dataframe tbody tr th:only-of-type {\n",
       "        vertical-align: middle;\n",
       "    }\n",
       "\n",
       "    .dataframe tbody tr th {\n",
       "        vertical-align: top;\n",
       "    }\n",
       "\n",
       "    .dataframe thead th {\n",
       "        text-align: right;\n",
       "    }\n",
       "</style>\n",
       "<table border=\"1\" class=\"dataframe\">\n",
       "  <thead>\n",
       "    <tr style=\"text-align: right;\">\n",
       "      <th></th>\n",
       "      <th>date</th>\n",
       "      <th>group</th>\n",
       "      <th>visitors</th>\n",
       "    </tr>\n",
       "  </thead>\n",
       "  <tbody>\n",
       "    <tr>\n",
       "      <th>32</th>\n",
       "      <td>2019-08-02</td>\n",
       "      <td>B</td>\n",
       "      <td>581</td>\n",
       "    </tr>\n",
       "    <tr>\n",
       "      <th>49</th>\n",
       "      <td>2019-08-19</td>\n",
       "      <td>B</td>\n",
       "      <td>487</td>\n",
       "    </tr>\n",
       "    <tr>\n",
       "      <th>16</th>\n",
       "      <td>2019-08-17</td>\n",
       "      <td>A</td>\n",
       "      <td>412</td>\n",
       "    </tr>\n",
       "    <tr>\n",
       "      <th>39</th>\n",
       "      <td>2019-08-09</td>\n",
       "      <td>B</td>\n",
       "      <td>610</td>\n",
       "    </tr>\n",
       "    <tr>\n",
       "      <th>24</th>\n",
       "      <td>2019-08-25</td>\n",
       "      <td>A</td>\n",
       "      <td>621</td>\n",
       "    </tr>\n",
       "  </tbody>\n",
       "</table>\n",
       "</div>"
      ],
      "text/plain": [
       "          date group  visitors\n",
       "32  2019-08-02     B       581\n",
       "49  2019-08-19     B       487\n",
       "16  2019-08-17     A       412\n",
       "39  2019-08-09     B       610\n",
       "24  2019-08-25     A       621"
      ]
     },
     "execution_count": 9,
     "metadata": {},
     "output_type": "execute_result"
    }
   ],
   "source": [
    "visitors.info()\n",
    "visitors.sample(5)"
   ]
  },
  {
   "cell_type": "code",
   "execution_count": 10,
   "id": "adf4a800",
   "metadata": {},
   "outputs": [
    {
     "data": {
      "text/plain": [
       "date        0\n",
       "group       0\n",
       "visitors    0\n",
       "dtype: int64"
      ]
     },
     "execution_count": 10,
     "metadata": {},
     "output_type": "execute_result"
    }
   ],
   "source": [
    "visitors.isna().sum()"
   ]
  },
  {
   "cell_type": "code",
   "execution_count": 11,
   "id": "b6903a3d",
   "metadata": {},
   "outputs": [
    {
     "data": {
      "text/plain": [
       "0"
      ]
     },
     "execution_count": 11,
     "metadata": {},
     "output_type": "execute_result"
    }
   ],
   "source": [
    "visitors.duplicated().sum()"
   ]
  },
  {
   "cell_type": "markdown",
   "id": "7bc6c6a1",
   "metadata": {},
   "source": [
    "**Выводы** \n",
    "\n",
    "Первое представление о данных получено. \n",
    "Пропуски и дубликаты в данных не представлены. "
   ]
  },
  {
   "cell_type": "markdown",
   "id": "c66ca737",
   "metadata": {},
   "source": [
    "## Подготовка данных"
   ]
  },
  {
   "cell_type": "code",
   "execution_count": 12,
   "id": "a61fc278",
   "metadata": {},
   "outputs": [],
   "source": [
    "#приведение дат к типу to_datetime\n",
    "orders['date'] = pd.to_datetime(orders['date'])\n",
    "visitors['date'] = pd.to_datetime(visitors['date'])"
   ]
  },
  {
   "cell_type": "markdown",
   "id": "f528a241",
   "metadata": {},
   "source": [
    "Данные подготовлены к анализу"
   ]
  },
  {
   "cell_type": "markdown",
   "id": "950da61d",
   "metadata": {},
   "source": [
    "## Часть 1. Приоритизация гипотез"
   ]
  },
  {
   "cell_type": "markdown",
   "id": "cc214245",
   "metadata": {},
   "source": [
    "### Фреймворк ICE для приоритизации гипотез. Сортировка гипотез по убыванию приоритета."
   ]
  },
  {
   "cell_type": "markdown",
   "id": "1a6bbad7",
   "metadata": {},
   "source": [
    "Фреймворк ICE состоит из трёх компонент: Impact, Confidence, Efforts. Формула следующая: Impact*Confidence/Efforts\n",
    "\n",
    "Фреймворк RICE состоит из четырёх компонент: Reach, Impact, Confidence, Efforts. Формула следующая: Reach*Impact*Confidence/Efforts\n",
    "\n",
    "Reach — скольких пользователей затронет изменение, которое вы хотите внести;\n",
    "\n",
    "Impact — насколько сильно изменение повлияет на пользователей, их опыт и удовлетворение от продукта;\n",
    "\n",
    "Confidence — насколько вы уверены, что это изменение повлияет на пользователей именно так;\n",
    "\n",
    "Efforts — сколько стоит протестировать эту гипотезу."
   ]
  },
  {
   "cell_type": "code",
   "execution_count": 13,
   "id": "a299d171",
   "metadata": {},
   "outputs": [
    {
     "data": {
      "text/html": [
       "<div>\n",
       "<style scoped>\n",
       "    .dataframe tbody tr th:only-of-type {\n",
       "        vertical-align: middle;\n",
       "    }\n",
       "\n",
       "    .dataframe tbody tr th {\n",
       "        vertical-align: top;\n",
       "    }\n",
       "\n",
       "    .dataframe thead th {\n",
       "        text-align: right;\n",
       "    }\n",
       "</style>\n",
       "<table border=\"1\" class=\"dataframe\">\n",
       "  <thead>\n",
       "    <tr style=\"text-align: right;\">\n",
       "      <th></th>\n",
       "      <th>Hypothesis</th>\n",
       "      <th>Reach</th>\n",
       "      <th>Impact</th>\n",
       "      <th>Confidence</th>\n",
       "      <th>Efforts</th>\n",
       "      <th>ICE</th>\n",
       "    </tr>\n",
       "  </thead>\n",
       "  <tbody>\n",
       "    <tr>\n",
       "      <th>8</th>\n",
       "      <td>Запустить акцию, дающую скидку на товар в день рождения</td>\n",
       "      <td>1</td>\n",
       "      <td>9</td>\n",
       "      <td>9</td>\n",
       "      <td>5</td>\n",
       "      <td>16.2</td>\n",
       "    </tr>\n",
       "    <tr>\n",
       "      <th>0</th>\n",
       "      <td>Добавить два новых канала привлечения трафика, что позволит привлекать на 30% больше пользователей</td>\n",
       "      <td>3</td>\n",
       "      <td>10</td>\n",
       "      <td>8</td>\n",
       "      <td>6</td>\n",
       "      <td>13.3</td>\n",
       "    </tr>\n",
       "    <tr>\n",
       "      <th>7</th>\n",
       "      <td>Добавить форму подписки на все основные страницы, чтобы собрать базу клиентов для email-рассылок</td>\n",
       "      <td>10</td>\n",
       "      <td>7</td>\n",
       "      <td>8</td>\n",
       "      <td>5</td>\n",
       "      <td>11.2</td>\n",
       "    </tr>\n",
       "    <tr>\n",
       "      <th>6</th>\n",
       "      <td>Показать на главной странице баннеры с актуальными акциями и распродажами, чтобы увеличить конверсию</td>\n",
       "      <td>5</td>\n",
       "      <td>3</td>\n",
       "      <td>8</td>\n",
       "      <td>3</td>\n",
       "      <td>8.0</td>\n",
       "    </tr>\n",
       "    <tr>\n",
       "      <th>2</th>\n",
       "      <td>Добавить блоки рекомендаций товаров на сайт интернет магазина, чтобы повысить конверсию и средний чек заказа</td>\n",
       "      <td>8</td>\n",
       "      <td>3</td>\n",
       "      <td>7</td>\n",
       "      <td>3</td>\n",
       "      <td>7.0</td>\n",
       "    </tr>\n",
       "    <tr>\n",
       "      <th>1</th>\n",
       "      <td>Запустить собственную службу доставки, что сократит срок доставки заказов</td>\n",
       "      <td>2</td>\n",
       "      <td>5</td>\n",
       "      <td>4</td>\n",
       "      <td>10</td>\n",
       "      <td>2.0</td>\n",
       "    </tr>\n",
       "    <tr>\n",
       "      <th>5</th>\n",
       "      <td>Добавить страницу отзывов клиентов о магазине, что позволит увеличить количество заказов</td>\n",
       "      <td>3</td>\n",
       "      <td>2</td>\n",
       "      <td>2</td>\n",
       "      <td>3</td>\n",
       "      <td>1.3</td>\n",
       "    </tr>\n",
       "    <tr>\n",
       "      <th>3</th>\n",
       "      <td>Изменить структура категорий, что увеличит конверсию, т.к. пользователи быстрее найдут нужный товар</td>\n",
       "      <td>8</td>\n",
       "      <td>3</td>\n",
       "      <td>3</td>\n",
       "      <td>8</td>\n",
       "      <td>1.1</td>\n",
       "    </tr>\n",
       "    <tr>\n",
       "      <th>4</th>\n",
       "      <td>Изменить цвет фона главной страницы, чтобы увеличить вовлеченность пользователей</td>\n",
       "      <td>3</td>\n",
       "      <td>1</td>\n",
       "      <td>1</td>\n",
       "      <td>1</td>\n",
       "      <td>1.0</td>\n",
       "    </tr>\n",
       "  </tbody>\n",
       "</table>\n",
       "</div>"
      ],
      "text/plain": [
       "                                                                                                     Hypothesis  \\\n",
       "8                                                       Запустить акцию, дающую скидку на товар в день рождения   \n",
       "0            Добавить два новых канала привлечения трафика, что позволит привлекать на 30% больше пользователей   \n",
       "7              Добавить форму подписки на все основные страницы, чтобы собрать базу клиентов для email-рассылок   \n",
       "6          Показать на главной странице баннеры с актуальными акциями и распродажами, чтобы увеличить конверсию   \n",
       "2  Добавить блоки рекомендаций товаров на сайт интернет магазина, чтобы повысить конверсию и средний чек заказа   \n",
       "1                                     Запустить собственную службу доставки, что сократит срок доставки заказов   \n",
       "5                      Добавить страницу отзывов клиентов о магазине, что позволит увеличить количество заказов   \n",
       "3           Изменить структура категорий, что увеличит конверсию, т.к. пользователи быстрее найдут нужный товар   \n",
       "4                              Изменить цвет фона главной страницы, чтобы увеличить вовлеченность пользователей   \n",
       "\n",
       "   Reach  Impact  Confidence  Efforts   ICE  \n",
       "8      1       9           9        5  16.2  \n",
       "0      3      10           8        6  13.3  \n",
       "7     10       7           8        5  11.2  \n",
       "6      5       3           8        3   8.0  \n",
       "2      8       3           7        3   7.0  \n",
       "1      2       5           4       10   2.0  \n",
       "5      3       2           2        3   1.3  \n",
       "3      8       3           3        8   1.1  \n",
       "4      3       1           1        1   1.0  "
      ]
     },
     "execution_count": 13,
     "metadata": {},
     "output_type": "execute_result"
    }
   ],
   "source": [
    "hypothesis['ICE'] = hypothesis['Impact'] * hypothesis['Confidence'] / hypothesis['Efforts']\n",
    "hypothesis['ICE'] = hypothesis['ICE'].round(1)\n",
    "\n",
    "pd.options.display.max_colwidth = 400\n",
    "hypothesis.sort_values('ICE', ascending=False).head(10)"
   ]
  },
  {
   "cell_type": "code",
   "execution_count": 14,
   "id": "51c49bdd",
   "metadata": {},
   "outputs": [
    {
     "data": {
      "image/png": "[encoded data removed]",
      "text/plain": [
       "<Figure size 432x288 with 1 Axes>"
      ]
     },
     "metadata": {
      "needs_background": "light"
     },
     "output_type": "display_data"
    }
   ],
   "source": [
    "#визуализация Фреймворка ICE для приоритизации гипотез\n",
    "ax = hypothesis[['Hypothesis', 'ICE']].set_index('Hypothesis').sort_values('ICE', ascending=True).plot(kind='barh')\n",
    "ax.set_xlabel('Приоритет')\n",
    "ax.set_ylabel('Гипотеза')\n",
    "ax.set_title('ICE')\n",
    "plt.show()"
   ]
  },
  {
   "cell_type": "markdown",
   "id": "25d4083f",
   "metadata": {},
   "source": [
    "### Фреймворк RICE для приоритизации гипотез. Отсортируйте их по убыванию приоритета."
   ]
  },
  {
   "cell_type": "code",
   "execution_count": 15,
   "id": "15c18100",
   "metadata": {},
   "outputs": [
    {
     "data": {
      "text/html": [
       "<div>\n",
       "<style scoped>\n",
       "    .dataframe tbody tr th:only-of-type {\n",
       "        vertical-align: middle;\n",
       "    }\n",
       "\n",
       "    .dataframe tbody tr th {\n",
       "        vertical-align: top;\n",
       "    }\n",
       "\n",
       "    .dataframe thead th {\n",
       "        text-align: right;\n",
       "    }\n",
       "</style>\n",
       "<table border=\"1\" class=\"dataframe\">\n",
       "  <thead>\n",
       "    <tr style=\"text-align: right;\">\n",
       "      <th></th>\n",
       "      <th>Hypothesis</th>\n",
       "      <th>Reach</th>\n",
       "      <th>Impact</th>\n",
       "      <th>Confidence</th>\n",
       "      <th>Efforts</th>\n",
       "      <th>ICE</th>\n",
       "      <th>RICE</th>\n",
       "    </tr>\n",
       "  </thead>\n",
       "  <tbody>\n",
       "    <tr>\n",
       "      <th>7</th>\n",
       "      <td>Добавить форму подписки на все основные страницы, чтобы собрать базу клиентов для email-рассылок</td>\n",
       "      <td>10</td>\n",
       "      <td>7</td>\n",
       "      <td>8</td>\n",
       "      <td>5</td>\n",
       "      <td>11.2</td>\n",
       "      <td>112.0</td>\n",
       "    </tr>\n",
       "    <tr>\n",
       "      <th>2</th>\n",
       "      <td>Добавить блоки рекомендаций товаров на сайт интернет магазина, чтобы повысить конверсию и средний чек заказа</td>\n",
       "      <td>8</td>\n",
       "      <td>3</td>\n",
       "      <td>7</td>\n",
       "      <td>3</td>\n",
       "      <td>7.0</td>\n",
       "      <td>56.0</td>\n",
       "    </tr>\n",
       "    <tr>\n",
       "      <th>0</th>\n",
       "      <td>Добавить два новых канала привлечения трафика, что позволит привлекать на 30% больше пользователей</td>\n",
       "      <td>3</td>\n",
       "      <td>10</td>\n",
       "      <td>8</td>\n",
       "      <td>6</td>\n",
       "      <td>13.3</td>\n",
       "      <td>40.0</td>\n",
       "    </tr>\n",
       "    <tr>\n",
       "      <th>6</th>\n",
       "      <td>Показать на главной странице баннеры с актуальными акциями и распродажами, чтобы увеличить конверсию</td>\n",
       "      <td>5</td>\n",
       "      <td>3</td>\n",
       "      <td>8</td>\n",
       "      <td>3</td>\n",
       "      <td>8.0</td>\n",
       "      <td>40.0</td>\n",
       "    </tr>\n",
       "    <tr>\n",
       "      <th>8</th>\n",
       "      <td>Запустить акцию, дающую скидку на товар в день рождения</td>\n",
       "      <td>1</td>\n",
       "      <td>9</td>\n",
       "      <td>9</td>\n",
       "      <td>5</td>\n",
       "      <td>16.2</td>\n",
       "      <td>16.2</td>\n",
       "    </tr>\n",
       "    <tr>\n",
       "      <th>3</th>\n",
       "      <td>Изменить структура категорий, что увеличит конверсию, т.к. пользователи быстрее найдут нужный товар</td>\n",
       "      <td>8</td>\n",
       "      <td>3</td>\n",
       "      <td>3</td>\n",
       "      <td>8</td>\n",
       "      <td>1.1</td>\n",
       "      <td>9.0</td>\n",
       "    </tr>\n",
       "    <tr>\n",
       "      <th>1</th>\n",
       "      <td>Запустить собственную службу доставки, что сократит срок доставки заказов</td>\n",
       "      <td>2</td>\n",
       "      <td>5</td>\n",
       "      <td>4</td>\n",
       "      <td>10</td>\n",
       "      <td>2.0</td>\n",
       "      <td>4.0</td>\n",
       "    </tr>\n",
       "    <tr>\n",
       "      <th>5</th>\n",
       "      <td>Добавить страницу отзывов клиентов о магазине, что позволит увеличить количество заказов</td>\n",
       "      <td>3</td>\n",
       "      <td>2</td>\n",
       "      <td>2</td>\n",
       "      <td>3</td>\n",
       "      <td>1.3</td>\n",
       "      <td>4.0</td>\n",
       "    </tr>\n",
       "    <tr>\n",
       "      <th>4</th>\n",
       "      <td>Изменить цвет фона главной страницы, чтобы увеличить вовлеченность пользователей</td>\n",
       "      <td>3</td>\n",
       "      <td>1</td>\n",
       "      <td>1</td>\n",
       "      <td>1</td>\n",
       "      <td>1.0</td>\n",
       "      <td>3.0</td>\n",
       "    </tr>\n",
       "  </tbody>\n",
       "</table>\n",
       "</div>"
      ],
      "text/plain": [
       "                                                                                                     Hypothesis  \\\n",
       "7              Добавить форму подписки на все основные страницы, чтобы собрать базу клиентов для email-рассылок   \n",
       "2  Добавить блоки рекомендаций товаров на сайт интернет магазина, чтобы повысить конверсию и средний чек заказа   \n",
       "0            Добавить два новых канала привлечения трафика, что позволит привлекать на 30% больше пользователей   \n",
       "6          Показать на главной странице баннеры с актуальными акциями и распродажами, чтобы увеличить конверсию   \n",
       "8                                                       Запустить акцию, дающую скидку на товар в день рождения   \n",
       "3           Изменить структура категорий, что увеличит конверсию, т.к. пользователи быстрее найдут нужный товар   \n",
       "1                                     Запустить собственную службу доставки, что сократит срок доставки заказов   \n",
       "5                      Добавить страницу отзывов клиентов о магазине, что позволит увеличить количество заказов   \n",
       "4                              Изменить цвет фона главной страницы, чтобы увеличить вовлеченность пользователей   \n",
       "\n",
       "   Reach  Impact  Confidence  Efforts   ICE   RICE  \n",
       "7     10       7           8        5  11.2  112.0  \n",
       "2      8       3           7        3   7.0   56.0  \n",
       "0      3      10           8        6  13.3   40.0  \n",
       "6      5       3           8        3   8.0   40.0  \n",
       "8      1       9           9        5  16.2   16.2  \n",
       "3      8       3           3        8   1.1    9.0  \n",
       "1      2       5           4       10   2.0    4.0  \n",
       "5      3       2           2        3   1.3    4.0  \n",
       "4      3       1           1        1   1.0    3.0  "
      ]
     },
     "execution_count": 15,
     "metadata": {},
     "output_type": "execute_result"
    }
   ],
   "source": [
    "hypothesis['RICE'] = hypothesis['Reach'] * hypothesis['Impact'] * hypothesis['Confidence'] / hypothesis['Efforts']\n",
    "hypothesis.sort_values('RICE', ascending=False).head(10)"
   ]
  },
  {
   "cell_type": "code",
   "execution_count": 16,
   "id": "b3b49cf2",
   "metadata": {},
   "outputs": [
    {
     "data": {
      "image/png": "[encoded data removed]",
      "text/plain": [
       "<Figure size 432x288 with 1 Axes>"
      ]
     },
     "metadata": {
      "needs_background": "light"
     },
     "output_type": "display_data"
    }
   ],
   "source": [
    "#визуализация Фреймворка RICE для приоритизации гипотез\n",
    "ax = hypothesis[['Hypothesis', 'RICE']].set_index('Hypothesis').sort_values('RICE', ascending=True).plot(kind='barh')\n",
    "ax.set_xlabel('Приоритет')\n",
    "ax.set_ylabel('Гипотеза')\n",
    "ax.set_title('RICE')\n",
    "plt.show()"
   ]
  },
  {
   "cell_type": "markdown",
   "id": "c4a06818",
   "metadata": {},
   "source": [
    "### Как изменилась приоритизация гипотез при применении RICE вместо ICE."
   ]
  },
  {
   "cell_type": "code",
   "execution_count": 17,
   "id": "29c89301",
   "metadata": {},
   "outputs": [
    {
     "data": {
      "text/html": [
       "<div>\n",
       "<style scoped>\n",
       "    .dataframe tbody tr th:only-of-type {\n",
       "        vertical-align: middle;\n",
       "    }\n",
       "\n",
       "    .dataframe tbody tr th {\n",
       "        vertical-align: top;\n",
       "    }\n",
       "\n",
       "    .dataframe thead th {\n",
       "        text-align: right;\n",
       "    }\n",
       "</style>\n",
       "<table border=\"1\" class=\"dataframe\">\n",
       "  <thead>\n",
       "    <tr style=\"text-align: right;\">\n",
       "      <th></th>\n",
       "      <th>ICE</th>\n",
       "      <th>RICE</th>\n",
       "    </tr>\n",
       "  </thead>\n",
       "  <tbody>\n",
       "    <tr>\n",
       "      <th>7</th>\n",
       "      <td>11.2</td>\n",
       "      <td>112.0</td>\n",
       "    </tr>\n",
       "    <tr>\n",
       "      <th>2</th>\n",
       "      <td>7.0</td>\n",
       "      <td>56.0</td>\n",
       "    </tr>\n",
       "    <tr>\n",
       "      <th>0</th>\n",
       "      <td>13.3</td>\n",
       "      <td>40.0</td>\n",
       "    </tr>\n",
       "    <tr>\n",
       "      <th>6</th>\n",
       "      <td>8.0</td>\n",
       "      <td>40.0</td>\n",
       "    </tr>\n",
       "    <tr>\n",
       "      <th>8</th>\n",
       "      <td>16.2</td>\n",
       "      <td>16.2</td>\n",
       "    </tr>\n",
       "    <tr>\n",
       "      <th>3</th>\n",
       "      <td>1.1</td>\n",
       "      <td>9.0</td>\n",
       "    </tr>\n",
       "    <tr>\n",
       "      <th>1</th>\n",
       "      <td>2.0</td>\n",
       "      <td>4.0</td>\n",
       "    </tr>\n",
       "    <tr>\n",
       "      <th>5</th>\n",
       "      <td>1.3</td>\n",
       "      <td>4.0</td>\n",
       "    </tr>\n",
       "    <tr>\n",
       "      <th>4</th>\n",
       "      <td>1.0</td>\n",
       "      <td>3.0</td>\n",
       "    </tr>\n",
       "  </tbody>\n",
       "</table>\n",
       "</div>"
      ],
      "text/plain": [
       "    ICE   RICE\n",
       "7  11.2  112.0\n",
       "2   7.0   56.0\n",
       "0  13.3   40.0\n",
       "6   8.0   40.0\n",
       "8  16.2   16.2\n",
       "3   1.1    9.0\n",
       "1   2.0    4.0\n",
       "5   1.3    4.0\n",
       "4   1.0    3.0"
      ]
     },
     "metadata": {},
     "output_type": "display_data"
    }
   ],
   "source": [
    "display(hypothesis[['ICE', 'RICE']].sort_values(by='RICE', ascending=False))\n"
   ]
  },
  {
   "cell_type": "markdown",
   "id": "8a48389c",
   "metadata": {},
   "source": [
    "**Выводы** \n",
    "\n",
    "Модификация RICE учитывает дополнительный фактор для приоритизации гипотез - Reach - охват пользователей. На графиках отчетливо видно, что порядок гипотез поменялся и на лидирующие позиции вышли те гипотезы, которые при измерении рейтинга ICE лидирующими не были. Есть лишь одна гипотеза, значения ICE и RICE в которых совпадают - гипотеза 8."
   ]
  },
  {
   "cell_type": "markdown",
   "id": "f96d3477",
   "metadata": {},
   "source": [
    "## Часть 2. Анализ А/В теста"
   ]
  },
  {
   "cell_type": "code",
   "execution_count": 18,
   "id": "5fcb9cef",
   "metadata": {},
   "outputs": [
    {
     "data": {
      "text/plain": [
       "array([   8300375,  199603092,  232979603,  237748145,  276558944,\n",
       "        351125977,  393266494,  457167155,  471551937,  477780734,\n",
       "        818047933,  963407295, 1230306981, 1294878855, 1316129916,\n",
       "       1333886533, 1404934699, 1602967004, 1614305549, 1648269707,\n",
       "       1668030113, 1738359350, 1801183820, 1959144690, 2038680547,\n",
       "       2044997962, 2378935119, 2458001652, 2579882178, 2587333274,\n",
       "       2600415354, 2654030115, 2686716486, 2712142231, 2716752286,\n",
       "       2780786433, 2927087541, 2949041841, 2954449915, 3062433592,\n",
       "       3202540741, 3234906277, 3656415546, 3717692402, 3766097110,\n",
       "       3803269165, 3891541246, 3941795274, 3951559397, 3957174400,\n",
       "       3963646447, 3972127743, 3984495233, 4069496402, 4120364173,\n",
       "       4186807279, 4256040402, 4266935830])"
      ]
     },
     "execution_count": 18,
     "metadata": {},
     "output_type": "execute_result"
    }
   ],
   "source": [
    "#проверка посетителей, пересекающихся в обеих группах\n",
    "inter = np.intersect1d(orders.query('group == \"A\"')['visitorId'].unique(), orders.query('group == \"B\"')['visitorId'].unique())\n",
    "inter"
   ]
  },
  {
   "cell_type": "markdown",
   "id": "8d6fceff",
   "metadata": {},
   "source": [
    "Повторяющихся в обоих группах достаточно много, это может повлиять на результаты исследования. Лучше исключить этих пользователей из выборки"
   ]
  },
  {
   "cell_type": "code",
   "execution_count": 19,
   "id": "6ccf91c8",
   "metadata": {},
   "outputs": [],
   "source": [
    "#удаление пользователей, состоящих в обеих группах\n",
    "orders = orders[~orders['visitorId'].isin(inter)]"
   ]
  },
  {
   "cell_type": "code",
   "execution_count": 20,
   "id": "401cda2a",
   "metadata": {},
   "outputs": [
    {
     "data": {
      "text/plain": [
       "array([], dtype=int64)"
      ]
     },
     "execution_count": 20,
     "metadata": {},
     "output_type": "execute_result"
    }
   ],
   "source": [
    "#повторная проверка посетителей, пересекающихся в обеих группах после удаления\n",
    "inter2 = np.intersect1d(orders.query('group == \"A\"')['visitorId'].unique(), orders.query('group == \"B\"')['visitorId'].unique())\n",
    "inter2"
   ]
  },
  {
   "cell_type": "markdown",
   "id": "24bb6f44",
   "metadata": {},
   "source": [
    "### График кумулятивной выручки по группам. Выводы и предположения.\n"
   ]
  },
  {
   "cell_type": "code",
   "execution_count": 21,
   "id": "27c97e08",
   "metadata": {},
   "outputs": [
    {
     "data": {
      "text/html": [
       "<div>\n",
       "<style scoped>\n",
       "    .dataframe tbody tr th:only-of-type {\n",
       "        vertical-align: middle;\n",
       "    }\n",
       "\n",
       "    .dataframe tbody tr th {\n",
       "        vertical-align: top;\n",
       "    }\n",
       "\n",
       "    .dataframe thead th {\n",
       "        text-align: right;\n",
       "    }\n",
       "</style>\n",
       "<table border=\"1\" class=\"dataframe\">\n",
       "  <thead>\n",
       "    <tr style=\"text-align: right;\">\n",
       "      <th></th>\n",
       "      <th>date</th>\n",
       "      <th>group</th>\n",
       "      <th>orders</th>\n",
       "      <th>buyers</th>\n",
       "      <th>revenue</th>\n",
       "      <th>visitors</th>\n",
       "      <th>average_rev</th>\n",
       "      <th>conversion</th>\n",
       "    </tr>\n",
       "  </thead>\n",
       "  <tbody>\n",
       "    <tr>\n",
       "      <th>0</th>\n",
       "      <td>2019-08-01</td>\n",
       "      <td>A</td>\n",
       "      <td>23</td>\n",
       "      <td>19</td>\n",
       "      <td>142779</td>\n",
       "      <td>719</td>\n",
       "      <td>6207.782609</td>\n",
       "      <td>0.031989</td>\n",
       "    </tr>\n",
       "    <tr>\n",
       "      <th>1</th>\n",
       "      <td>2019-08-01</td>\n",
       "      <td>B</td>\n",
       "      <td>17</td>\n",
       "      <td>17</td>\n",
       "      <td>59758</td>\n",
       "      <td>713</td>\n",
       "      <td>3515.176471</td>\n",
       "      <td>0.023843</td>\n",
       "    </tr>\n",
       "    <tr>\n",
       "      <th>2</th>\n",
       "      <td>2019-08-02</td>\n",
       "      <td>A</td>\n",
       "      <td>42</td>\n",
       "      <td>37</td>\n",
       "      <td>234381</td>\n",
       "      <td>1338</td>\n",
       "      <td>5580.500000</td>\n",
       "      <td>0.031390</td>\n",
       "    </tr>\n",
       "    <tr>\n",
       "      <th>3</th>\n",
       "      <td>2019-08-02</td>\n",
       "      <td>B</td>\n",
       "      <td>40</td>\n",
       "      <td>39</td>\n",
       "      <td>221801</td>\n",
       "      <td>1294</td>\n",
       "      <td>5545.025000</td>\n",
       "      <td>0.030912</td>\n",
       "    </tr>\n",
       "    <tr>\n",
       "      <th>4</th>\n",
       "      <td>2019-08-03</td>\n",
       "      <td>A</td>\n",
       "      <td>66</td>\n",
       "      <td>61</td>\n",
       "      <td>346854</td>\n",
       "      <td>1845</td>\n",
       "      <td>5255.363636</td>\n",
       "      <td>0.035772</td>\n",
       "    </tr>\n",
       "  </tbody>\n",
       "</table>\n",
       "</div>"
      ],
      "text/plain": [
       "        date group  orders  buyers  revenue  visitors  average_rev  conversion\n",
       "0 2019-08-01     A      23      19   142779       719  6207.782609    0.031989\n",
       "1 2019-08-01     B      17      17    59758       713  3515.176471    0.023843\n",
       "2 2019-08-02     A      42      37   234381      1338  5580.500000    0.031390\n",
       "3 2019-08-02     B      40      39   221801      1294  5545.025000    0.030912\n",
       "4 2019-08-03     A      66      61   346854      1845  5255.363636    0.035772"
      ]
     },
     "execution_count": 21,
     "metadata": {},
     "output_type": "execute_result"
    }
   ],
   "source": [
    "#группировка датасета orders по дате\n",
    "orders_grouped = (orders.groupby(['date','group'], as_index=False)\n",
    "                        .agg({'transactionId':'nunique','visitorId':'nunique','revenue':'sum'}))\\\n",
    "                        .rename(columns={'transactionId':'orders','visitorId':'buyers'})\n",
    "orders_grouped = orders_grouped.set_index(['date','group'])\n",
    "#подсчет суммы с накоплением методом cumsum()\n",
    "orders_cumsum = orders_grouped.sort_values(['date','group']).groupby('group').cumsum().reset_index()\n",
    "\n",
    "#подсчет суммы визитов по дням в каждой группе\n",
    "visitors_cumsum = visitors.groupby(['date','group'], as_index=False).agg({'visitors':'sum'}).sort_values(['date','group'])\n",
    "#подсчет суммы с накоплением методом cumsum()\n",
    "visitors_cumsum = visitors_cumsum.set_index(['date','group']).groupby('group').cumsum().reset_index()  \n",
    "\n",
    "#подсчет кумулятивной выручки\n",
    "cum = orders_cumsum.join(visitors_cumsum[['visitors']])\n",
    "#создание столбца с ожидаемой выручкой и конверсией\n",
    "cum['average_rev'] = cum['revenue'] / cum['orders']\n",
    "cum['conversion'] = cum['orders'] / cum['visitors']\n",
    "\n",
    "cum.head()"
   ]
  },
  {
   "cell_type": "code",
   "execution_count": 22,
   "id": "8e473fef",
   "metadata": {},
   "outputs": [
    {
     "data": {
      "image/png": "[encoded data removed]",
      "text/plain": [
       "<Figure size 432x288 with 1 Axes>"
      ]
     },
     "metadata": {
      "needs_background": "light"
     },
     "output_type": "display_data"
    }
   ],
   "source": [
    "#график кумулятивной выручки по группам\n",
    "cumA = cum[cum['group']=='A'][['date', 'revenue']]\n",
    "cumB = cum[cum['group']=='B'][['date', 'revenue']]\n",
    "plt.plot(cumA.iloc[:,0].to_frame(), cumA.iloc[:,1].to_frame(), label='A' )\n",
    "plt.plot(cumB.iloc[:,0].to_frame(), cumB.iloc[:,1].to_frame(), label='B')\n",
    "plt.title('График кумулятивной выручки по группам')\n",
    "plt.ylabel(\"Выручка\")\n",
    "plt.xlabel(\"Даты\")\n",
    "plt.xticks(rotation=50)\n",
    "plt.legend()\n",
    "plt.show()"
   ]
  },
  {
   "cell_type": "markdown",
   "id": "d42df23e",
   "metadata": {},
   "source": [
    "Линейный рост зафиксирован и у группы А и у группы B. В то же время, у группы B виден резкий рост активности в середине августа 2019 года (17-21 августа)."
   ]
  },
  {
   "cell_type": "markdown",
   "id": "9cfd4696",
   "metadata": {},
   "source": [
    "### График кумулятивного среднего чека по группам. Выводы и предположения."
   ]
  },
  {
   "cell_type": "code",
   "execution_count": 23,
   "id": "33a75fbf",
   "metadata": {
    "scrolled": true
   },
   "outputs": [
    {
     "data": {
      "image/png": "[encoded data removed]",
      "text/plain": [
       "<Figure size 432x288 with 1 Axes>"
      ]
     },
     "metadata": {
      "needs_background": "light"
     },
     "output_type": "display_data"
    }
   ],
   "source": [
    "#график кумулятивного среднего чека по группам\n",
    "cumA = cum[cum['group']=='A'][['date', 'average_rev']]\n",
    "cumB = cum[cum['group']=='B'][['date', 'average_rev']]\n",
    "plt.plot(cumA.iloc[:,0].to_frame(), cumA.iloc[:,1].to_frame(), label='A' )\n",
    "plt.plot(cumB.iloc[:,0].to_frame(), cumB.iloc[:,1].to_frame(), label='B')\n",
    "plt.title('График кумулятивного среднего чека по группам')\n",
    "plt.ylabel(\"Выручка\")\n",
    "plt.xlabel(\"Даты\")\n",
    "plt.xticks(rotation=50)\n",
    "plt.legend()\n",
    "plt.show()"
   ]
  },
  {
   "cell_type": "markdown",
   "id": "b3c3471f",
   "metadata": {},
   "source": [
    "Рост показателей группы А более мягкий, чем у группы B. В то же время, оба показателя показывают резкий рост, в середине августа переходящий в плавное падение."
   ]
  },
  {
   "cell_type": "markdown",
   "id": "76c404c3",
   "metadata": {},
   "source": [
    "### График относительного изменения кумулятивного среднего чека группы B к группе A. Выводы и предположения.\n"
   ]
  },
  {
   "cell_type": "code",
   "execution_count": 24,
   "id": "1deccaae",
   "metadata": {},
   "outputs": [
    {
     "data": {
      "image/png": "[encoded data removed]",
      "text/plain": [
       "<Figure size 432x288 with 1 Axes>"
      ]
     },
     "metadata": {
      "needs_background": "light"
     },
     "output_type": "display_data"
    }
   ],
   "source": [
    "#график относительного изменения кумулятивного среднего чека группы B к группе A\n",
    "rel_change = (cumA[['date', 'average_rev']].merge(cumB[['date', 'average_rev']], \n",
    "                                            left_on='date', right_on='date', how='left', suffixes=['_A', '_B']))\n",
    "plt.plot(rel_change['date'], rel_change['average_rev_B'] / rel_change['average_rev_A']-1)\n",
    "plt.title('График относительного изменения кумулятивного среднего чека группы B к группе A')\n",
    "plt.axhline(y=0, color='black', linestyle='-')\n",
    "plt.xticks(rotation=50)\n",
    "plt.show()"
   ]
  },
  {
   "cell_type": "markdown",
   "id": "c58e1289",
   "metadata": {},
   "source": [
    "График относительного изменения кумулятивного среднего чека группы B к группе A демонстрирует схожую картину: рост в начале августа, резкое падение 13 августа, резкий рост до 20-21 августа и дальнейшее плавное падение."
   ]
  },
  {
   "cell_type": "markdown",
   "id": "0181f120",
   "metadata": {},
   "source": [
    "### График кумулятивной конверсии по группам. Выводы и предположения.\n"
   ]
  },
  {
   "cell_type": "code",
   "execution_count": 25,
   "id": "164d4b66",
   "metadata": {},
   "outputs": [
    {
     "data": {
      "image/png": "[encoded data removed]",
      "text/plain": [
       "<Figure size 432x288 with 1 Axes>"
      ]
     },
     "metadata": {
      "needs_background": "light"
     },
     "output_type": "display_data"
    }
   ],
   "source": [
    "cumA = cum[cum['group']=='A'][['date', 'conversion']]\n",
    "cumB = cum[cum['group']=='B'][['date', 'conversion']]\n",
    "plt.plot(cumA.iloc[:,0].to_frame(), cumA.iloc[:,1].to_frame(), label='A' )\n",
    "plt.plot(cumB.iloc[:,0].to_frame(), cumB.iloc[:,1].to_frame(), label='B')\n",
    "plt.title('График кумулятивной конверсии по группам')\n",
    "plt.ylabel(\"Выручка\")\n",
    "plt.xlabel(\"Даты\")\n",
    "plt.xticks(rotation=50)\n",
    "plt.legend()\n",
    "plt.show()"
   ]
  },
  {
   "cell_type": "markdown",
   "id": "e2a77d5d",
   "metadata": {},
   "source": [
    "На графике зафиксирован первый пик роста 3 и 2 августа для групп А и В соответственно, далее резкое падение и волнообразный график роста и падений, постепенно сужающий волны к концу августа. Группа B показывает значительно более высокие показатели кумулятивной конверсии по сравнению с группой А после 5 августа."
   ]
  },
  {
   "cell_type": "markdown",
   "id": "a61e0564",
   "metadata": {},
   "source": [
    "### График относительного изменения кумулятивной конверсии группы B к группе A. Выводы и предположения.\n"
   ]
  },
  {
   "cell_type": "code",
   "execution_count": 26,
   "id": "ac43026c",
   "metadata": {},
   "outputs": [
    {
     "data": {
      "image/png": "[encoded data removed]",
      "text/plain": [
       "<Figure size 432x288 with 1 Axes>"
      ]
     },
     "metadata": {
      "needs_background": "light"
     },
     "output_type": "display_data"
    }
   ],
   "source": [
    "rel_change = (cumA[['date', 'conversion']].merge(cumB[['date', 'conversion']], \n",
    "                                            left_on='date', right_on='date', how='left', suffixes=['_A', '_B']))\n",
    "plt.plot(rel_change['date'], rel_change['conversion_B'] / rel_change['conversion_A']-1)\n",
    "plt.title('График относительного изменения кумулятивной конверсии группы B к группе A')\n",
    "plt.axhline(y=0, color='black', linestyle='-')\n",
    "plt.xticks(rotation=50)\n",
    "plt.show()"
   ]
  },
  {
   "cell_type": "markdown",
   "id": "46e1c86c",
   "metadata": {},
   "source": [
    "При ограниченном времени тестирования (1 месяц) график относительного изменения кумулятивной конверсии группы B к группе A показывает значительное превышение группы B в сравнении с группой А."
   ]
  },
  {
   "cell_type": "markdown",
   "id": "fb1e20e1",
   "metadata": {},
   "source": [
    "### Точечный график количества заказов по пользователям. Выводы и предположения.\n"
   ]
  },
  {
   "cell_type": "code",
   "execution_count": 27,
   "id": "d55e6ed7",
   "metadata": {},
   "outputs": [
    {
     "data": {
      "text/html": [
       "<div>\n",
       "<style scoped>\n",
       "    .dataframe tbody tr th:only-of-type {\n",
       "        vertical-align: middle;\n",
       "    }\n",
       "\n",
       "    .dataframe tbody tr th {\n",
       "        vertical-align: top;\n",
       "    }\n",
       "\n",
       "    .dataframe thead th {\n",
       "        text-align: right;\n",
       "    }\n",
       "</style>\n",
       "<table border=\"1\" class=\"dataframe\">\n",
       "  <thead>\n",
       "    <tr style=\"text-align: right;\">\n",
       "      <th></th>\n",
       "      <th>visitorId</th>\n",
       "      <th>orders</th>\n",
       "    </tr>\n",
       "  </thead>\n",
       "  <tbody>\n",
       "    <tr>\n",
       "      <th>116</th>\n",
       "      <td>517094627</td>\n",
       "      <td>1</td>\n",
       "    </tr>\n",
       "    <tr>\n",
       "      <th>179</th>\n",
       "      <td>793112967</td>\n",
       "      <td>1</td>\n",
       "    </tr>\n",
       "    <tr>\n",
       "      <th>338</th>\n",
       "      <td>1471496742</td>\n",
       "      <td>1</td>\n",
       "    </tr>\n",
       "  </tbody>\n",
       "</table>\n",
       "</div>"
      ],
      "text/plain": [
       "      visitorId  orders\n",
       "116   517094627       1\n",
       "179   793112967       1\n",
       "338  1471496742       1"
      ]
     },
     "execution_count": 27,
     "metadata": {},
     "output_type": "execute_result"
    }
   ],
   "source": [
    "#группировка коичества заказов по пользователям\n",
    "orders_per_users = orders.groupby('visitorId', as_index=False).agg({'transactionId':'nunique'})\\\n",
    "                         .rename(columns={'transactionId':'orders'})\n",
    "#проверка корректности действия куска кода\n",
    "orders_per_users.sample(3)"
   ]
  },
  {
   "cell_type": "code",
   "execution_count": 28,
   "id": "98565fac",
   "metadata": {},
   "outputs": [
    {
     "data": {
      "image/png": "[encoded data removed]",
      "text/plain": [
       "<Figure size 432x288 with 1 Axes>"
      ]
     },
     "metadata": {
      "needs_background": "light"
     },
     "output_type": "display_data"
    }
   ],
   "source": [
    "#измерение количества покупок покупателями\n",
    "x_values = pd.Series(range(0,len(orders_per_users['orders'])))\n",
    "plt.scatter(x_values, orders_per_users['orders'], color='blue')\n",
    "plt.title('Точечный график количества заказов по пользователям')\n",
    "plt.axhline(y=1, color='black', linestyle='-')\n",
    "plt.xlabel('Условный номер пользователя')\n",
    "plt.ylabel('Количество покупок')\n",
    "plt.xticks(rotation=50)\n",
    "plt.show()"
   ]
  },
  {
   "cell_type": "markdown",
   "id": "085fefb4",
   "metadata": {},
   "source": [
    "Наибольшее количество покупок совершается одним покупателем 2 раза, но есть достаточно значительное количество пользователей совершают до 5 покупок. Есть точечные пользователи, которые совершают от 8 до 11 покупок."
   ]
  },
  {
   "cell_type": "markdown",
   "id": "cb2ced25",
   "metadata": {},
   "source": [
    "### Подсчет 95-го и 99-го перцентилей количества заказов на пользователя. Выбор границы для определения аномальных пользователей.\n"
   ]
  },
  {
   "cell_type": "code",
   "execution_count": 29,
   "id": "c5bcf686",
   "metadata": {},
   "outputs": [
    {
     "data": {
      "text/plain": [
       "array([1., 2.])"
      ]
     },
     "metadata": {},
     "output_type": "display_data"
    }
   ],
   "source": [
    "#Подсчет 95-го и 99-го перцентилей количества заказов на пользователя. \n",
    "display(np.percentile(orders_per_users['orders'], [95, 99])) "
   ]
  },
  {
   "cell_type": "code",
   "execution_count": 30,
   "id": "29eb3d2f",
   "metadata": {},
   "outputs": [],
   "source": [
    "#удаление всех значений выше 99-го перцентиля\n",
    "np.ptp(orders_per_users['orders'], axis=0)\n",
    "abnormalUsers = orders_per_users[orders_per_users['orders'] >= 4]['visitorId'].to_list()"
   ]
  },
  {
   "cell_type": "markdown",
   "id": "65de8209",
   "metadata": {},
   "source": [
    "99-й перцентиль - максимальное значение для подсчета и удаления аномальных данных. Выбросы (покупатели с большим количеством покупок) будут изолированы, чтобы можно было более корректно оценить результаты исследования."
   ]
  },
  {
   "cell_type": "markdown",
   "id": "353eee68",
   "metadata": {},
   "source": [
    "### Точечный график стоимостей заказов. Выводы и предположения.\n"
   ]
  },
  {
   "cell_type": "code",
   "execution_count": 31,
   "id": "d9016321",
   "metadata": {},
   "outputs": [
    {
     "data": {
      "image/png": "[encoded data removed]",
      "text/plain": [
       "<Figure size 432x288 with 1 Axes>"
      ]
     },
     "metadata": {
      "needs_background": "light"
     },
     "output_type": "display_data"
    }
   ],
   "source": [
    "x_values = pd.Series(range(0,len(orders['revenue'])))\n",
    "plt.scatter(x_values, orders['revenue'], color='blue')\n",
    "plt.title('Точечный график стоимостей заказов')\n",
    "plt.axhline(y=0, color='blue', linestyle='-')\n",
    "plt.xlabel('Условный номер заказа')\n",
    "plt.ylabel('Сумма заказа')\n",
    "plt.show()"
   ]
  },
  {
   "cell_type": "markdown",
   "id": "ae2f0b52",
   "metadata": {},
   "source": [
    "На графике отображены 2 выброса, один из которых значительно выше уровня стандартных данных."
   ]
  },
  {
   "cell_type": "markdown",
   "id": "f4d323b5",
   "metadata": {},
   "source": [
    "### Подсчет 95-го и 99-го перцентилей стоимости заказов. Выбор границы для определения аномальных заказов.\n"
   ]
  },
  {
   "cell_type": "code",
   "execution_count": 32,
   "id": "72ebe334",
   "metadata": {},
   "outputs": [
    {
     "data": {
      "text/plain": [
       "array([26785., 53904.])"
      ]
     },
     "metadata": {},
     "output_type": "display_data"
    }
   ],
   "source": [
    "#Подсчет 95-го и 99-го перцентилей стоимости заказов. \n",
    "display(np.percentile(orders['revenue'], [95, 99])) "
   ]
  },
  {
   "cell_type": "code",
   "execution_count": 33,
   "id": "37924e7f",
   "metadata": {},
   "outputs": [
    {
     "data": {
      "text/plain": [
       "1294450"
      ]
     },
     "execution_count": 33,
     "metadata": {},
     "output_type": "execute_result"
    }
   ],
   "source": [
    "#подсчет максимальной прибыли\n",
    "np.ptp(orders['revenue'], axis=0)"
   ]
  },
  {
   "cell_type": "markdown",
   "id": "e5d5da2d",
   "metadata": {},
   "source": [
    "99-й перцентиль - максимальное значение для подсчета и удаления аномальных данных. Соответственно, все значения больше 58233.2 можно считать аномальными."
   ]
  },
  {
   "cell_type": "markdown",
   "id": "4acfe8ee",
   "metadata": {},
   "source": [
    "### Подсчет статистической значимости различий в конверсии между группами по «сырым» данным. Выводы и предположения.\n"
   ]
  },
  {
   "cell_type": "markdown",
   "id": "09eb4aad",
   "metadata": {},
   "source": [
    "**Гипотезы** \n",
    "\n",
    "**H0:** Между конверсиями групп А и B значитильных различий нет.\n",
    "\n",
    "**H1:** Между конверсиями групп А и B есть значительные различия."
   ]
  },
  {
   "cell_type": "code",
   "execution_count": 34,
   "id": "5401a873",
   "metadata": {
    "scrolled": true
   },
   "outputs": [
    {
     "data": {
      "text/html": [
       "<div>\n",
       "<style scoped>\n",
       "    .dataframe tbody tr th:only-of-type {\n",
       "        vertical-align: middle;\n",
       "    }\n",
       "\n",
       "    .dataframe tbody tr th {\n",
       "        vertical-align: top;\n",
       "    }\n",
       "\n",
       "    .dataframe thead th {\n",
       "        text-align: right;\n",
       "    }\n",
       "</style>\n",
       "<table border=\"1\" class=\"dataframe\">\n",
       "  <thead>\n",
       "    <tr style=\"text-align: right;\">\n",
       "      <th></th>\n",
       "      <th>group</th>\n",
       "      <th>orders</th>\n",
       "      <th>visitors</th>\n",
       "      <th>conversion</th>\n",
       "    </tr>\n",
       "  </thead>\n",
       "  <tbody>\n",
       "    <tr>\n",
       "      <th>0</th>\n",
       "      <td>A</td>\n",
       "      <td>468</td>\n",
       "      <td>18736</td>\n",
       "      <td>0.024979</td>\n",
       "    </tr>\n",
       "    <tr>\n",
       "      <th>1</th>\n",
       "      <td>B</td>\n",
       "      <td>548</td>\n",
       "      <td>18916</td>\n",
       "      <td>0.028970</td>\n",
       "    </tr>\n",
       "  </tbody>\n",
       "</table>\n",
       "</div>"
      ],
      "text/plain": [
       "  group  orders  visitors  conversion\n",
       "0     A     468     18736    0.024979\n",
       "1     B     548     18916    0.028970"
      ]
     },
     "execution_count": 34,
     "metadata": {},
     "output_type": "execute_result"
    }
   ],
   "source": [
    "#вычисление конверсии\n",
    "conversion = (orders.groupby('group').agg({'transactionId':'count'}).rename(columns={'transactionId':'orders'}))\\\n",
    "                                     .join((visitors.groupby('group').agg({'visitors':'sum'}))).reset_index()\n",
    "conversion['conversion'] = conversion['orders'] / conversion['visitors']\n",
    "#просмотр получившегося результата\n",
    "conversion"
   ]
  },
  {
   "cell_type": "code",
   "execution_count": 35,
   "id": "f24f5857",
   "metadata": {},
   "outputs": [],
   "source": [
    "#Подсчитываем статистическую значимость различия в среднем количестве заказов между группами.\n",
    "ordersByUsersA = (\n",
    "    orders[orders['group'] == 'A']\n",
    "    .groupby('visitorId', as_index=False)\n",
    "    .agg({'transactionId': pd.Series.nunique})\n",
    ")\n",
    "ordersByUsersA.columns = ['visitorId', 'orders']\n",
    "\n",
    "ordersByUsersB = (\n",
    "    orders[orders['group'] == 'B']\n",
    "    .groupby('visitorId', as_index=False)\n",
    "    .agg({'transactionId': pd.Series.nunique})\n",
    ")\n",
    "ordersByUsersB.columns = ['visitorId', 'orders']"
   ]
  },
  {
   "cell_type": "code",
   "execution_count": 36,
   "id": "6a6cf807",
   "metadata": {},
   "outputs": [],
   "source": [
    "#Передаем аргумент, сообщающий, что объекты Series нужно объединить по строкам (то есть записать подряд)\n",
    "sample_A = pd.concat(\n",
    "    [\n",
    "        ordersByUsersA['orders'],\n",
    "        pd.Series(\n",
    "            0, index=np.arange(visitors[visitors['group'] == 'A']['visitors'].sum()\n",
    "                              - len(ordersByUsersA['orders'])), name='orders')\n",
    "    ], axis=0)\n",
    "\n",
    "sample_B = pd.concat(\n",
    "    [\n",
    "        ordersByUsersB['orders'],\n",
    "        pd.Series(\n",
    "            0, index=np.arange(visitors[visitors['group'] == 'B']['visitors'].sum()\n",
    "                              - len(ordersByUsersB['orders'])), name='orders')\n",
    "    ], axis=0)"
   ]
  },
  {
   "cell_type": "code",
   "execution_count": 37,
   "id": "efd15d84",
   "metadata": {
    "scrolled": true
   },
   "outputs": [
    {
     "name": "stdout",
     "output_type": "stream",
     "text": [
      "0.011\n",
      "0.160\n"
     ]
    }
   ],
   "source": [
    "#подсчет статистической значимости различий в конверсии между группами по «сырым» данным\n",
    "print(\"{0:.3f}\".format(stats.mannwhitneyu(sample_A, sample_B)[1]))\n",
    "print(\"{0:.3f}\".format(sample_B.mean() / sample_A.mean() - 1))"
   ]
  },
  {
   "cell_type": "markdown",
   "id": "6b381c41",
   "metadata": {},
   "source": [
    "По \"сырым\" данным значительных различий в группах A и B не замечено. При a, составляющем 0.011 - p_value меньше данного значения, то есть причины отвергать нулевую гипотезу есть."
   ]
  },
  {
   "cell_type": "markdown",
   "id": "3878e8b4",
   "metadata": {},
   "source": [
    "### Подсчет статистической значимости различий в среднем чеке заказа между группами по «сырым» данным. Выводы и предположения.\n"
   ]
  },
  {
   "cell_type": "markdown",
   "id": "d5b79453",
   "metadata": {},
   "source": [
    "**Гипотезы** \n",
    "\n",
    "**H0:** Между средними чеками групп нет статистически значимой разницы.\n",
    "\n",
    "**H1:** Между конверсиями групп есть статистически значимая разница."
   ]
  },
  {
   "cell_type": "code",
   "execution_count": 38,
   "id": "2ddae0cd",
   "metadata": {},
   "outputs": [
    {
     "data": {
      "text/plain": [
       "'0.829'"
      ]
     },
     "metadata": {},
     "output_type": "display_data"
    },
    {
     "data": {
      "text/plain": [
       "'0.287'"
      ]
     },
     "metadata": {},
     "output_type": "display_data"
    }
   ],
   "source": [
    "display('{0:.3f}'.format(stats.mannwhitneyu(orders[orders['group']=='A']['revenue'], orders[orders['group']=='B']['revenue'])[1]))\n",
    "display('{0:.3f}'.format(orders[orders['group']=='B']['revenue'].mean()/orders[orders['group']=='A']['revenue'].mean()-1))"
   ]
  },
  {
   "cell_type": "markdown",
   "id": "980f06a4",
   "metadata": {},
   "source": [
    "P-value значительно больше 0.05. Значит, нулевую гипотезу о том, что статистически значимых различий в среднем числе заказов между группами нет, не отвергаем. Относительный проигрыш группы B равен 28.7% — второе число в выводе является статистически значимым, и означает, что средний чек группы B ниже среднего чека группы A."
   ]
  },
  {
   "cell_type": "markdown",
   "id": "16fb380f",
   "metadata": {},
   "source": [
    "### Подсчет статистической значимости различий в конверсии между группами по «очищенным» данным. Выводы и предположения.\n"
   ]
  },
  {
   "cell_type": "markdown",
   "id": "9d6c909a",
   "metadata": {},
   "source": [
    "**Гипотезы** \n",
    "\n",
    "**H0:** Между конверсиями групп А и B значитильных различий нет.\n",
    "\n",
    "**H1:** Между конверсиями групп А и B есть значительные различия."
   ]
  },
  {
   "cell_type": "code",
   "execution_count": 39,
   "id": "053e19f2",
   "metadata": {},
   "outputs": [],
   "source": [
    "#подготовка очищенных от аномалий данных для подсчета статистической значимости различий в конверсии между группами\n",
    "visitorsADaily = visitors[visitors['group'] == 'A'][['date', 'visitors']]\n",
    "visitorsADaily.columns = ['date', 'visitorsPerDateA']\n",
    "\n",
    "visitorsACummulative = visitorsADaily.apply(\n",
    "    lambda x: visitorsADaily[visitorsADaily['date'] <= x['date']].agg(\n",
    "        {'date': 'max', 'visitorsPerDateA': 'sum'}\n",
    "    ),\n",
    "    axis=1,\n",
    ")\n",
    "visitorsACummulative.columns = ['date', 'visitorsCummulativeA']\n",
    "\n",
    "visitorsBDaily = visitors[visitors['group'] == 'B'][['date', 'visitors']]\n",
    "visitorsBDaily.columns = ['date', 'visitorsPerDateB']\n",
    "\n",
    "visitorsBCummulative = visitorsBDaily.apply(\n",
    "    lambda x: visitorsBDaily[visitorsBDaily['date'] <= x['date']].agg(\n",
    "        {'date': 'max', 'visitorsPerDateB': 'sum'}\n",
    "    ),\n",
    "    axis=1,\n",
    ")\n",
    "visitorsBCummulative.columns = ['date', 'visitorsCummulativeB']\n",
    "\n",
    "ordersADaily = (\n",
    "    orders[orders['group'] == 'A'][['date', 'transactionId', 'visitorId', 'revenue']]\n",
    "    .groupby('date', as_index=False)\n",
    "    .agg({'transactionId': pd.Series.nunique, 'revenue': 'sum'})\n",
    ")\n",
    "ordersADaily.columns = ['date', 'ordersPerDateA', 'revenuePerDateA']\n",
    "\n",
    "ordersACummulative = ordersADaily.apply(\n",
    "    lambda x: ordersADaily[ordersADaily['date'] <= x['date']].agg(\n",
    "        {'date': 'max', 'ordersPerDateA': 'sum', 'revenuePerDateA': 'sum'}\n",
    "    ),\n",
    "    axis=1,\n",
    ").sort_values(by=['date'])\n",
    "ordersACummulative.columns = [\n",
    "    'date',\n",
    "    'ordersCummulativeA',\n",
    "    'revenueCummulativeA',\n",
    "]\n",
    "\n",
    "ordersBDaily = (\n",
    "    orders[orders['group'] == 'B'][['date', 'transactionId', 'visitorId', 'revenue']]\n",
    "    .groupby('date', as_index=False)\n",
    "    .agg({'transactionId': pd.Series.nunique, 'revenue': 'sum'})\n",
    ")\n",
    "ordersBDaily.columns = ['date', 'ordersPerDateB', 'revenuePerDateB']\n",
    "\n",
    "ordersBCummulative = ordersBDaily.apply(\n",
    "    lambda x: ordersBDaily[ordersBDaily['date'] <= x['date']].agg(\n",
    "        {'date': 'max', 'ordersPerDateB': 'sum', 'revenuePerDateB': 'sum'}\n",
    "    ),\n",
    "    axis=1,\n",
    ").sort_values(by=['date'])\n",
    "ordersBCummulative.columns = [\n",
    "    'date',\n",
    "    'ordersCummulativeB',\n",
    "    'revenueCummulativeB',\n",
    "]\n",
    "\n",
    "data = (\n",
    "    ordersADaily.merge(\n",
    "        ordersBDaily, left_on='date', right_on='date', how='left'\n",
    "    )\n",
    "    .merge(ordersACummulative, left_on='date', right_on='date', how='left')\n",
    "    .merge(ordersBCummulative, left_on='date', right_on='date', how='left')\n",
    "    .merge(visitorsADaily, left_on='date', right_on='date', how='left')\n",
    "    .merge(visitorsBDaily, left_on='date', right_on='date', how='left')\n",
    "    .merge(visitorsACummulative, left_on='date', right_on='date', how='left')\n",
    "    .merge(visitorsBCummulative, left_on='date', right_on='date', how='left')\n",
    ")\n",
    "\n",
    "ordersByUsersA = (\n",
    "    orders[orders['group'] == 'A']\n",
    "    .groupby('visitorId', as_index=False)\n",
    "    .agg({'transactionId': pd.Series.nunique})\n",
    ")\n",
    "ordersByUsersA.columns = ['visitorId', 'orders']\n",
    "\n",
    "ordersByUsersB = (\n",
    "    orders[orders['group'] == 'B']\n",
    "    .groupby('visitorId', as_index=False)\n",
    "    .agg({'transactionId': pd.Series.nunique})\n",
    ")\n",
    "ordersByUsersB.columns = ['visitorId', 'orders']\n",
    "\n",
    "\n",
    "usersWithManyOrders = pd.concat(\n",
    "    [\n",
    "        ordersByUsersA[ordersByUsersA['orders'] > 2]['visitorId'],\n",
    "        ordersByUsersB[ordersByUsersB['orders'] > 2]['visitorId'],\n",
    "    ],\n",
    "    axis=0,\n",
    ")\n",
    "usersWithExpensiveOrders = orders[orders['revenue'] > 10000]['visitorId']\n",
    "abnormalUsers = (\n",
    "    pd.concat([usersWithManyOrders, usersWithExpensiveOrders], axis=0)\n",
    "    .drop_duplicates()\n",
    "    .sort_values()\n",
    ")\n",
    "sampleAFiltered = pd.concat(\n",
    "    [\n",
    "        ordersByUsersA[\n",
    "            np.logical_not(ordersByUsersA['visitorId'].isin(abnormalUsers))\n",
    "        ]['orders'],\n",
    "        pd.Series(\n",
    "            0,\n",
    "            index=np.arange(\n",
    "                data['visitorsPerDateA'].sum() - len(ordersByUsersA['orders'])\n",
    "            ),\n",
    "            name='orders',\n",
    "        ),\n",
    "    ],\n",
    "    axis=0,\n",
    ")\n",
    "\n",
    "sampleBFiltered = pd.concat(\n",
    "    [\n",
    "        ordersByUsersB[\n",
    "            np.logical_not(ordersByUsersB['visitorId'].isin(abnormalUsers))\n",
    "        ]['orders'],\n",
    "        pd.Series(\n",
    "            0,\n",
    "            index=np.arange(\n",
    "                data['visitorsPerDateB'].sum() - len(ordersByUsersB['orders'])\n",
    "            ),\n",
    "            name='orders',\n",
    "        ),\n",
    "    ],\n",
    "    axis=0,\n",
    ")"
   ]
  },
  {
   "cell_type": "code",
   "execution_count": 40,
   "id": "c26cfcc9",
   "metadata": {},
   "outputs": [
    {
     "name": "stdout",
     "output_type": "stream",
     "text": [
      "0.00679\n",
      "0.219\n"
     ]
    }
   ],
   "source": [
    "#подсчет статистической значимости различий в конверсии между группами по «очищенным» данным\n",
    "print('{0:.5f}'.format(stats.mannwhitneyu(sampleAFiltered, sampleBFiltered)[1]))\n",
    "print('{0:.3f}'.format(sampleBFiltered.mean()/sampleAFiltered.mean()-1))"
   ]
  },
  {
   "cell_type": "markdown",
   "id": "7bd89a63",
   "metadata": {},
   "source": [
    "По очищенным данным можно сделать следующий вывод: При a, составляющем 0.05 - p_value меньше данного значения, то есть причины отвергать нулевую гипотезу есть."
   ]
  },
  {
   "cell_type": "markdown",
   "id": "4bac8c96",
   "metadata": {},
   "source": [
    "### Подсчет статистической значимости различий в среднем чеке заказа между группами по «очищенным» данным. Выводы и предположения.\n"
   ]
  },
  {
   "cell_type": "markdown",
   "id": "7901097b",
   "metadata": {},
   "source": [
    "**Гипотезы** \n",
    "\n",
    "**H0:** Между средними чеками групп нет статистически значимой разницы.\n",
    "\n",
    "**H1:** Между конверсиями групп есть статистически значимая разница."
   ]
  },
  {
   "cell_type": "code",
   "execution_count": 41,
   "id": "9ed6d904",
   "metadata": {},
   "outputs": [
    {
     "data": {
      "text/plain": [
       "'0.759'"
      ]
     },
     "metadata": {},
     "output_type": "display_data"
    },
    {
     "data": {
      "text/plain": [
       "'0.008'"
      ]
     },
     "metadata": {},
     "output_type": "display_data"
    }
   ],
   "source": [
    "#подсчет статистической значимости различий в среднем чеке заказа между группами по «очищенным» данным\n",
    "display(\n",
    "    '{0:.3f}'.format(\n",
    "        stats.mannwhitneyu(\n",
    "            orders[\n",
    "                np.logical_and(\n",
    "                    orders['group'] == 'A',\n",
    "                    np.logical_not(orders['visitorId'].isin(abnormalUsers)),\n",
    "                )\n",
    "            ]['revenue'],\n",
    "            orders[\n",
    "                np.logical_and(\n",
    "                    orders['group'] == 'B',\n",
    "                    np.logical_not(orders['visitorId'].isin(abnormalUsers)),\n",
    "                )\n",
    "            ]['revenue'],\n",
    "        )[1]\n",
    "    )\n",
    ")\n",
    "\n",
    "display(\n",
    "    \"{0:.3f}\".format(\n",
    "        orders[\n",
    "            np.logical_and(\n",
    "                orders['group'] == 'B',\n",
    "                np.logical_not(orders['visitorId'].isin(abnormalUsers)),\n",
    "            )\n",
    "        ]['revenue'].mean()\n",
    "        / orders[\n",
    "            np.logical_and(\n",
    "                orders['group'] == 'A',\n",
    "                np.logical_not(orders['visitorId'].isin(abnormalUsers)),\n",
    "            )\n",
    "        ]['revenue'].mean()\n",
    "        - 1\n",
    "    )\n",
    ")"
   ]
  },
  {
   "cell_type": "markdown",
   "id": "119d4036",
   "metadata": {},
   "source": [
    "P-value значительно больше 0.05. Значит, причин отвергать нулевую гипотезу и считать, что в среднем чеке есть различия, нет. Относительная разница составляет менее 1% и не является статистически значимой."
   ]
  },
  {
   "cell_type": "markdown",
   "id": "ca0b45e7",
   "metadata": {},
   "source": [
    "## Выводы"
   ]
  },
  {
   "cell_type": "markdown",
   "id": "ae269bbb",
   "metadata": {},
   "source": [
    "Группа B показывает более линейный рост, по сравнению с группой А. \n",
    "Статистически значимое различие по конверсии между группами обнаружено как по сырым данным, так и по очищенным, статистически значимое различие проявляется.\n",
    "\n",
    "Как по сырым данным, так и по очищенным нет статистически значимого различия по среднему чеку между группами. В то же время, относительная разница для групп при очищенных данных составляет менее 1% и не является статистически значимой.\n"
   ]
  }
 ],
 "metadata": {
  "ExecuteTimeLog": [
   {
    "duration": 1242,
    "start_time": "2022-07-14T07:13:39.886Z"
   },
   {
    "duration": 237,
    "start_time": "2022-07-14T07:13:41.130Z"
   },
   {
    "duration": 21,
    "start_time": "2022-07-14T07:13:41.368Z"
   },
   {
    "duration": 6,
    "start_time": "2022-07-14T07:13:41.391Z"
   },
   {
    "duration": 8,
    "start_time": "2022-07-14T07:13:41.398Z"
   },
   {
    "duration": 21,
    "start_time": "2022-07-14T07:13:41.408Z"
   },
   {
    "duration": 10,
    "start_time": "2022-07-14T07:13:41.431Z"
   },
   {
    "duration": 14,
    "start_time": "2022-07-14T07:13:41.446Z"
   },
   {
    "duration": 18,
    "start_time": "2022-07-14T07:13:41.462Z"
   },
   {
    "duration": 8,
    "start_time": "2022-07-14T07:13:41.483Z"
   },
   {
    "duration": 7,
    "start_time": "2022-07-14T07:13:41.493Z"
   },
   {
    "duration": 10,
    "start_time": "2022-07-14T07:13:41.502Z"
   },
   {
    "duration": 37,
    "start_time": "2022-07-14T07:13:41.513Z"
   },
   {
    "duration": 279,
    "start_time": "2022-07-14T07:13:41.552Z"
   },
   {
    "duration": 21,
    "start_time": "2022-07-14T07:13:41.834Z"
   },
   {
    "duration": 252,
    "start_time": "2022-07-14T07:13:41.857Z"
   },
   {
    "duration": 11,
    "start_time": "2022-07-14T07:13:42.111Z"
   },
   {
    "duration": 57,
    "start_time": "2022-07-14T07:13:42.124Z"
   },
   {
    "duration": 258,
    "start_time": "2022-07-14T07:13:42.183Z"
   },
   {
    "duration": 188,
    "start_time": "2022-07-14T07:13:42.444Z"
   },
   {
    "duration": 354,
    "start_time": "2022-07-14T07:13:42.634Z"
   },
   {
    "duration": 252,
    "start_time": "2022-07-14T07:13:42.990Z"
   },
   {
    "duration": 295,
    "start_time": "2022-07-14T07:13:43.243Z"
   },
   {
    "duration": 12,
    "start_time": "2022-07-14T07:13:43.545Z"
   },
   {
    "duration": 120,
    "start_time": "2022-07-14T07:13:43.558Z"
   },
   {
    "duration": 6,
    "start_time": "2022-07-14T07:13:43.680Z"
   },
   {
    "duration": 7,
    "start_time": "2022-07-14T07:13:43.688Z"
   },
   {
    "duration": 230,
    "start_time": "2022-07-14T07:13:43.699Z"
   },
   {
    "duration": 14,
    "start_time": "2022-07-14T07:13:43.931Z"
   },
   {
    "duration": 8,
    "start_time": "2022-07-14T07:13:43.947Z"
   },
   {
    "duration": 20,
    "start_time": "2022-07-14T07:13:43.957Z"
   },
   {
    "duration": 150,
    "start_time": "2022-07-14T07:13:43.978Z"
   },
   {
    "duration": 15,
    "start_time": "2022-07-14T07:13:44.130Z"
   },
   {
    "duration": 24,
    "start_time": "2022-07-14T07:13:44.147Z"
   },
   {
    "duration": 11,
    "start_time": "2022-07-14T07:13:44.173Z"
   },
   {
    "duration": 364,
    "start_time": "2022-07-14T07:13:44.186Z"
   },
   {
    "duration": 21,
    "start_time": "2022-07-14T07:13:44.551Z"
   },
   {
    "duration": 14,
    "start_time": "2022-07-14T07:13:44.574Z"
   },
   {
    "duration": 124,
    "start_time": "2022-07-14T07:21:45.477Z"
   }
  ],
  "kernelspec": {
   "display_name": "Python 3 (ipykernel)",
   "language": "python",
   "name": "python3"
  },
  "language_info": {
   "codemirror_mode": {
    "name": "ipython",
    "version": 3
   },
   "file_extension": ".py",
   "mimetype": "text/x-python",
   "name": "python",
   "nbconvert_exporter": "python",
   "pygments_lexer": "ipython3",
   "version": "3.9.7"
  },
  "toc": {
   "base_numbering": 1,
   "nav_menu": {},
   "number_sections": true,
   "sideBar": true,
   "skip_h1_title": true,
   "title_cell": "Table of Contents",
   "title_sidebar": "Contents",
   "toc_cell": false,
   "toc_position": {},
   "toc_section_display": true,
   "toc_window_display": true
  }
 },
 "nbformat": 4,
 "nbformat_minor": 5
}
