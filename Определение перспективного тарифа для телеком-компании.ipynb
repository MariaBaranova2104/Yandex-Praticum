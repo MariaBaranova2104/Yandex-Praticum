{
 "cells": [
  {
   "cell_type": "markdown",
   "id": "e44b0bf8",
   "metadata": {},
   "source": [
    "<h1>Содержание<span class=\"tocSkip\"></span></h1>\n",
    "<div class=\"toc\"><ul class=\"toc-item\"><li><span><a href=\"#Изучение-данных-из-файла\" data-toc-modified-id=\"Изучение-данных-из-файла-1\"><span class=\"toc-item-num\">1&nbsp;&nbsp;</span>Изучение данных из файла</a></span><ul class=\"toc-item\"><li><span><a href=\"#Вывод\" data-toc-modified-id=\"Вывод-1.1\"><span class=\"toc-item-num\">1.1&nbsp;&nbsp;</span>Вывод</a></span></li></ul></li><li><span><a href=\"#Предобработка-данных\" data-toc-modified-id=\"Предобработка-данных-2\"><span class=\"toc-item-num\">2&nbsp;&nbsp;</span>Предобработка данных</a></span></li><li><span><a href=\"#Расчёты-и-добавление-результатов-в-таблицу\" data-toc-modified-id=\"Расчёты-и-добавление-результатов-в-таблицу-3\"><span class=\"toc-item-num\">3&nbsp;&nbsp;</span>Расчёты и добавление результатов в таблицу</a></span></li><li><span><a href=\"#Исследовательский-анализ-данных\" data-toc-modified-id=\"Исследовательский-анализ-данных-4\"><span class=\"toc-item-num\">4&nbsp;&nbsp;</span>Исследовательский анализ данных</a></span></li><li><span><a href=\"#Общий-вывод\" data-toc-modified-id=\"Общий-вывод-5\"><span class=\"toc-item-num\">5&nbsp;&nbsp;</span>Общий вывод</a></span></li><li><span><a href=\"#Чек-лист-готовности-проекта\" data-toc-modified-id=\"Чек-лист-готовности-проекта-6\"><span class=\"toc-item-num\">6&nbsp;&nbsp;</span>Чек-лист готовности проекта</a></span></li></ul></div>"
   ]
  },
  {
   "cell_type": "markdown",
   "id": "3224030b",
   "metadata": {},
   "source": [
    "# Определение перспективного тарифа для телеком-компании\n",
    "Вы аналитик компании «Мегалайн» — федерального оператора сотовой связи. Клиентам предлагают два тарифных плана: «Смарт» и «Ультра». Чтобы скорректировать рекламный бюджет, коммерческий департамент хочет понять, какой тариф приносит больше денег.\n",
    "Вам предстоит сделать предварительный анализ тарифов на небольшой выборке клиентов. В вашем распоряжении данные 500 пользователей «Мегалайна»: кто они, откуда, каким тарифом пользуются, сколько звонков и сообщений каждый отправил за 2018 год. Нужно проанализировать поведение клиентов и сделать вывод — какой тариф лучше."
   ]
  },
  {
   "cell_type": "markdown",
   "id": "68018df6",
   "metadata": {},
   "source": [
    "# Описание тарифов\n",
    "\n",
    "**Тариф «Смарт»**\n",
    "Ежемесячная плата: 550 рублей\n",
    "Включено 500 минут разговора, 50 сообщений и 15 Гб интернет-трафика\n",
    "Стоимость услуг сверх тарифного пакета:\n",
    "минута разговора: 3 рубля\n",
    "сообщение: 3 рубля\n",
    "1 Гб интернет-трафика: 200 рублей\n",
    "\n",
    "**Тариф «Ультра»**\n",
    "Ежемесячная плата: 1950 рублей\n",
    "Включено 3000 минут разговора, 1000 сообщений и 30 Гб интернет-трафика\n",
    "Стоимость услуг сверх тарифного пакета:\n",
    "минута разговора: 1 рубль\n",
    "сообщение: 1 рубль\n",
    "1 Гб интернет-трафика: 150 рублей\n",
    "\n",
    "**Примечание**\n",
    "«Мегалайн» всегда округляет секунды до минут, а мегабайты — до гигабайт. Каждый звонок округляется отдельно: даже если он длился всего 1 секунду, будет засчитан как 1 минута.\n",
    "Для веб-трафика отдельные сессии не считаются. Вместо этого общая сумма за месяц округляется в бо́льшую сторону. Если абонент использует 1025 мегабайт в этом месяце, с него возьмут плату за 2 гигабайта. Примите, что неиспользованные за предыдущий месяц звонки, смс, интернет на следующий месяц не переносятся."
   ]
  },
  {
   "cell_type": "markdown",
   "id": "edda0299",
   "metadata": {},
   "source": [
    "## Описание таблиц\n",
    "\n",
    "**Таблица users (информация о пользователях):**\n",
    "\n",
    "user_id — уникальный идентификатор пользователя\n",
    "\n",
    "age — возраст пользователя (годы)\n",
    "\n",
    "churn_date — дата прекращения пользования тарифом (если значение пропущено, то тариф ещё действовал на момент выгрузки данных)\n",
    "\n",
    "city — город проживания пользователя\n",
    "\n",
    "first_name — имя пользователя\n",
    "\n",
    "last_name — фамилия пользователя\n",
    "\n",
    "reg_date — дата подключения тарифа (день, месяц, год)\n",
    "\n",
    "tarif — название тарифного плана\n",
    "\n",
    "**Таблица calls (информация о звонках):**\n",
    "\n",
    "id — уникальный номер звонка\n",
    "\n",
    "call_date — дата звонка\n",
    "\n",
    "duration — длительность звонков в минутах\n",
    "\n",
    "user_id — идентификатор пользователя, сделавшего звонок\n",
    "\n",
    "**Таблица messages (информация о сообщениях):**\n",
    "\n",
    "id — уникальный номер сообщения\n",
    "\n",
    "message_date — дата сообщения\n",
    "\n",
    "user_id — идентификатор пользователя, отправившего сообщение\n",
    "\n",
    "**Таблица internet (информация об интернет-сессиях):**\n",
    "\n",
    "id — уникальный номер сессии\n",
    "\n",
    "mb_used — объём потраченного за сессию интернет-трафика (в мегабайтах)\n",
    "\n",
    "session_date — дата интернет-сессии\n",
    "\n",
    "user_id — идентификатор пользователя\n",
    "\n",
    "**Таблица tariffs (информация о тарифах):**\n",
    "\n",
    "messages_included — количество сообщений в месяц, включённых в абонентскую плату\n",
    "\n",
    "mb_per_month_included — объём интернет-трафика, включённого в абонентскую плату (в мегабайтах)\n",
    "\n",
    "minutes_included — количество минут разговора в месяц, включённых в абонентскую плату\n",
    "\n",
    "rub_monthly_fee — ежемесячная абонентская плата в рублях\n",
    "\n",
    "rub_per_gb — стоимость дополнительного гигабайта интернет-трафика сверх тарифного пакета (1 гигабайт = 1024 мегабайта)\n",
    "\n",
    "rub_per_message — стоимость отправки сообщения сверх тарифного пакета\n",
    "\n",
    "rub_per_minute — стоимость минуты разговора сверх тарифного пакета (например, если в тарифе 100 минут разговора в месяц, то со - 101 минуты будет взиматься плата)\n",
    "\n",
    "tariff_name — название тарифа"
   ]
  },
  {
   "cell_type": "markdown",
   "id": "3d2b6c04",
   "metadata": {},
   "source": [
    "## Шаг 1. Изучение данных\n",
    "\n",
    "## Шаг 2. Подготовка данных\n",
    "1. Приведение данных к нужным типам\n",
    "2. Исправление ошибок\n",
    "3. Подсчет для каждого пользователя\n",
    " - количество сделанных звонков и израсходованных минут разговора по месяцам;\n",
    " - количество отправленных сообщений по месяцам;\n",
    " - объем израсходованного интернет-трафика по месяцам;\n",
    " - помесячную выручку с каждого пользователя (вычтите бесплатный лимит из суммарного количества звонков, сообщений и интернет-трафика; остаток умножьте на значение из тарифного плана; прибавьте абонентскую плату, соответствующую тарифному плану).\n",
    "\n",
    "## Шаг 3. Анализ данных\n",
    "Описание поведения клиентов оператора, исходя из выборки. \n",
    "Сколько минут разговора, сколько сообщений и какой объём интернет-трафика требуется пользователям каждого тарифа в месяц? \n",
    "- Среднее количество\n",
    "- Дисперсия \n",
    "- Стандартное отклонение. \n",
    "Гистограммы. \n",
    "Описания распределений\n",
    "\n",
    "## Шаг 4. Проверка гипотез\n",
    "- Средняя выручка пользователей тарифов «Ультра» и «Смарт» различаются;\n",
    "- Средняя выручка пользователей из Москвы отличается от выручки пользователей из других регионов.\n",
    "\n",
    "## Шаг 5. Общий вывод"
   ]
  },
  {
   "cell_type": "markdown",
   "id": "b5277716",
   "metadata": {},
   "source": [
    "## Изучение данных"
   ]
  },
  {
   "cell_type": "code",
   "execution_count": 1,
   "id": "d80dfef4",
   "metadata": {},
   "outputs": [],
   "source": [
    "#импорт библиотек\n",
    "import pandas as pd\n",
    "import numpy as np\n",
    "import matplotlib.pyplot as plt\n",
    "\n",
    "from datetime import datetime\n",
    "from scipy import stats as st"
   ]
  },
  {
   "cell_type": "code",
   "execution_count": 2,
   "id": "9f0357b5",
   "metadata": {},
   "outputs": [],
   "source": [
    "#открытие датасетов\n",
    "try:\n",
    "    users = pd.read_csv('/Users/maria/Documents/Практикум/проект 4/users.csv')\n",
    "    calls = pd.read_csv('/Users/maria/Documents/Практикум/проект 4/calls.csv')\n",
    "    messages = pd.read_csv('/Users/maria/Documents/Практикум/проект 4/messages.csv')\n",
    "    internet = pd.read_csv('/Users/maria/Documents/Практикум/проект 4/internet.csv')\n",
    "    tariffs = pd.read_csv('/Users/maria/Documents/Практикум/проект 4/tariffs.csv')\n",
    "\n",
    "except:\n",
    "    users = pd.read_csv('/datasets/users.csv')\n",
    "    calls = pd.read_csv('/datasets/calls.csv')\n",
    "    messages = pd.read_csv('/datasets/messages.csv')\n",
    "    internet = pd.read_csv('/datasets/internet.csv')\n",
    "    tariffs = pd.read_csv('/datasets/tariffs.csv')"
   ]
  },
  {
   "cell_type": "markdown",
   "id": "f89b8329",
   "metadata": {},
   "source": [
    "Рассмотрим датасет users"
   ]
  },
  {
   "cell_type": "code",
   "execution_count": 3,
   "id": "b3746574",
   "metadata": {
    "scrolled": false
   },
   "outputs": [
    {
     "name": "stdout",
     "output_type": "stream",
     "text": [
      "<class 'pandas.core.frame.DataFrame'>\n",
      "RangeIndex: 500 entries, 0 to 499\n",
      "Data columns (total 8 columns):\n",
      " #   Column      Non-Null Count  Dtype \n",
      "---  ------      --------------  ----- \n",
      " 0   user_id     500 non-null    int64 \n",
      " 1   age         500 non-null    int64 \n",
      " 2   churn_date  38 non-null     object\n",
      " 3   city        500 non-null    object\n",
      " 4   first_name  500 non-null    object\n",
      " 5   last_name   500 non-null    object\n",
      " 6   reg_date    500 non-null    object\n",
      " 7   tariff      500 non-null    object\n",
      "dtypes: int64(2), object(6)\n",
      "memory usage: 31.4+ KB\n"
     ]
    }
   ],
   "source": [
    "#просмотр общей информации о датасете users\n",
    "users.info()"
   ]
  },
  {
   "cell_type": "code",
   "execution_count": 4,
   "id": "e721a270",
   "metadata": {},
   "outputs": [
    {
     "data": {
      "text/html": [
       "<div>\n",
       "<style scoped>\n",
       "    .dataframe tbody tr th:only-of-type {\n",
       "        vertical-align: middle;\n",
       "    }\n",
       "\n",
       "    .dataframe tbody tr th {\n",
       "        vertical-align: top;\n",
       "    }\n",
       "\n",
       "    .dataframe thead th {\n",
       "        text-align: right;\n",
       "    }\n",
       "</style>\n",
       "<table border=\"1\" class=\"dataframe\">\n",
       "  <thead>\n",
       "    <tr style=\"text-align: right;\">\n",
       "      <th></th>\n",
       "      <th>user_id</th>\n",
       "      <th>age</th>\n",
       "    </tr>\n",
       "  </thead>\n",
       "  <tbody>\n",
       "    <tr>\n",
       "      <th>count</th>\n",
       "      <td>500.000000</td>\n",
       "      <td>500.00000</td>\n",
       "    </tr>\n",
       "    <tr>\n",
       "      <th>mean</th>\n",
       "      <td>1249.500000</td>\n",
       "      <td>46.58800</td>\n",
       "    </tr>\n",
       "    <tr>\n",
       "      <th>std</th>\n",
       "      <td>144.481833</td>\n",
       "      <td>16.66763</td>\n",
       "    </tr>\n",
       "    <tr>\n",
       "      <th>min</th>\n",
       "      <td>1000.000000</td>\n",
       "      <td>18.00000</td>\n",
       "    </tr>\n",
       "    <tr>\n",
       "      <th>25%</th>\n",
       "      <td>1124.750000</td>\n",
       "      <td>32.00000</td>\n",
       "    </tr>\n",
       "    <tr>\n",
       "      <th>50%</th>\n",
       "      <td>1249.500000</td>\n",
       "      <td>46.00000</td>\n",
       "    </tr>\n",
       "    <tr>\n",
       "      <th>75%</th>\n",
       "      <td>1374.250000</td>\n",
       "      <td>62.00000</td>\n",
       "    </tr>\n",
       "    <tr>\n",
       "      <th>max</th>\n",
       "      <td>1499.000000</td>\n",
       "      <td>75.00000</td>\n",
       "    </tr>\n",
       "  </tbody>\n",
       "</table>\n",
       "</div>"
      ],
      "text/plain": [
       "           user_id        age\n",
       "count   500.000000  500.00000\n",
       "mean   1249.500000   46.58800\n",
       "std     144.481833   16.66763\n",
       "min    1000.000000   18.00000\n",
       "25%    1124.750000   32.00000\n",
       "50%    1249.500000   46.00000\n",
       "75%    1374.250000   62.00000\n",
       "max    1499.000000   75.00000"
      ]
     },
     "execution_count": 4,
     "metadata": {},
     "output_type": "execute_result"
    }
   ],
   "source": [
    "users.describe()"
   ]
  },
  {
   "cell_type": "markdown",
   "id": "4f28c6ea",
   "metadata": {},
   "source": [
    "Оценка для user_id не имеет смысла, поскольку эти номера - обозначения пользователей, но столбец age выглядит логично"
   ]
  },
  {
   "cell_type": "code",
   "execution_count": 5,
   "id": "324eefb9",
   "metadata": {
    "scrolled": false
   },
   "outputs": [
    {
     "data": {
      "text/html": [
       "<div>\n",
       "<style scoped>\n",
       "    .dataframe tbody tr th:only-of-type {\n",
       "        vertical-align: middle;\n",
       "    }\n",
       "\n",
       "    .dataframe tbody tr th {\n",
       "        vertical-align: top;\n",
       "    }\n",
       "\n",
       "    .dataframe thead th {\n",
       "        text-align: right;\n",
       "    }\n",
       "</style>\n",
       "<table border=\"1\" class=\"dataframe\">\n",
       "  <thead>\n",
       "    <tr style=\"text-align: right;\">\n",
       "      <th></th>\n",
       "      <th>user_id</th>\n",
       "      <th>age</th>\n",
       "      <th>churn_date</th>\n",
       "      <th>city</th>\n",
       "      <th>first_name</th>\n",
       "      <th>last_name</th>\n",
       "      <th>reg_date</th>\n",
       "      <th>tariff</th>\n",
       "    </tr>\n",
       "  </thead>\n",
       "  <tbody>\n",
       "    <tr>\n",
       "      <th>0</th>\n",
       "      <td>1000</td>\n",
       "      <td>52</td>\n",
       "      <td>NaN</td>\n",
       "      <td>Краснодар</td>\n",
       "      <td>Рафаил</td>\n",
       "      <td>Верещагин</td>\n",
       "      <td>2018-05-25</td>\n",
       "      <td>ultra</td>\n",
       "    </tr>\n",
       "    <tr>\n",
       "      <th>1</th>\n",
       "      <td>1001</td>\n",
       "      <td>41</td>\n",
       "      <td>NaN</td>\n",
       "      <td>Москва</td>\n",
       "      <td>Иван</td>\n",
       "      <td>Ежов</td>\n",
       "      <td>2018-11-01</td>\n",
       "      <td>smart</td>\n",
       "    </tr>\n",
       "    <tr>\n",
       "      <th>2</th>\n",
       "      <td>1002</td>\n",
       "      <td>59</td>\n",
       "      <td>NaN</td>\n",
       "      <td>Стерлитамак</td>\n",
       "      <td>Евгений</td>\n",
       "      <td>Абрамович</td>\n",
       "      <td>2018-06-17</td>\n",
       "      <td>smart</td>\n",
       "    </tr>\n",
       "    <tr>\n",
       "      <th>3</th>\n",
       "      <td>1003</td>\n",
       "      <td>23</td>\n",
       "      <td>NaN</td>\n",
       "      <td>Москва</td>\n",
       "      <td>Белла</td>\n",
       "      <td>Белякова</td>\n",
       "      <td>2018-08-17</td>\n",
       "      <td>ultra</td>\n",
       "    </tr>\n",
       "    <tr>\n",
       "      <th>4</th>\n",
       "      <td>1004</td>\n",
       "      <td>68</td>\n",
       "      <td>NaN</td>\n",
       "      <td>Новокузнецк</td>\n",
       "      <td>Татьяна</td>\n",
       "      <td>Авдеенко</td>\n",
       "      <td>2018-05-14</td>\n",
       "      <td>ultra</td>\n",
       "    </tr>\n",
       "    <tr>\n",
       "      <th>5</th>\n",
       "      <td>1005</td>\n",
       "      <td>67</td>\n",
       "      <td>NaN</td>\n",
       "      <td>Набережные Челны</td>\n",
       "      <td>Афанасий</td>\n",
       "      <td>Горлов</td>\n",
       "      <td>2018-01-25</td>\n",
       "      <td>smart</td>\n",
       "    </tr>\n",
       "    <tr>\n",
       "      <th>6</th>\n",
       "      <td>1006</td>\n",
       "      <td>21</td>\n",
       "      <td>NaN</td>\n",
       "      <td>Ульяновск</td>\n",
       "      <td>Леонид</td>\n",
       "      <td>Ермолаев</td>\n",
       "      <td>2018-02-26</td>\n",
       "      <td>smart</td>\n",
       "    </tr>\n",
       "    <tr>\n",
       "      <th>7</th>\n",
       "      <td>1007</td>\n",
       "      <td>65</td>\n",
       "      <td>NaN</td>\n",
       "      <td>Москва</td>\n",
       "      <td>Юна</td>\n",
       "      <td>Березина</td>\n",
       "      <td>2018-04-19</td>\n",
       "      <td>smart</td>\n",
       "    </tr>\n",
       "    <tr>\n",
       "      <th>8</th>\n",
       "      <td>1008</td>\n",
       "      <td>63</td>\n",
       "      <td>NaN</td>\n",
       "      <td>Челябинск</td>\n",
       "      <td>Рустэм</td>\n",
       "      <td>Пономарёв</td>\n",
       "      <td>2018-12-19</td>\n",
       "      <td>smart</td>\n",
       "    </tr>\n",
       "    <tr>\n",
       "      <th>9</th>\n",
       "      <td>1009</td>\n",
       "      <td>24</td>\n",
       "      <td>NaN</td>\n",
       "      <td>Пермь</td>\n",
       "      <td>Василиса</td>\n",
       "      <td>Блинова</td>\n",
       "      <td>2018-03-22</td>\n",
       "      <td>smart</td>\n",
       "    </tr>\n",
       "  </tbody>\n",
       "</table>\n",
       "</div>"
      ],
      "text/plain": [
       "   user_id  age churn_date              city first_name  last_name  \\\n",
       "0     1000   52        NaN         Краснодар     Рафаил  Верещагин   \n",
       "1     1001   41        NaN            Москва       Иван       Ежов   \n",
       "2     1002   59        NaN       Стерлитамак    Евгений  Абрамович   \n",
       "3     1003   23        NaN            Москва      Белла   Белякова   \n",
       "4     1004   68        NaN       Новокузнецк    Татьяна   Авдеенко   \n",
       "5     1005   67        NaN  Набережные Челны   Афанасий     Горлов   \n",
       "6     1006   21        NaN         Ульяновск     Леонид   Ермолаев   \n",
       "7     1007   65        NaN            Москва        Юна   Березина   \n",
       "8     1008   63        NaN         Челябинск     Рустэм  Пономарёв   \n",
       "9     1009   24        NaN             Пермь   Василиса    Блинова   \n",
       "\n",
       "     reg_date tariff  \n",
       "0  2018-05-25  ultra  \n",
       "1  2018-11-01  smart  \n",
       "2  2018-06-17  smart  \n",
       "3  2018-08-17  ultra  \n",
       "4  2018-05-14  ultra  \n",
       "5  2018-01-25  smart  \n",
       "6  2018-02-26  smart  \n",
       "7  2018-04-19  smart  \n",
       "8  2018-12-19  smart  \n",
       "9  2018-03-22  smart  "
      ]
     },
     "execution_count": 5,
     "metadata": {},
     "output_type": "execute_result"
    }
   ],
   "source": [
    "#просмотр первых 10-ти строк датасета users\n",
    "users.head(10)"
   ]
  },
  {
   "cell_type": "code",
   "execution_count": 6,
   "id": "813f4074",
   "metadata": {},
   "outputs": [
    {
     "data": {
      "text/plain": [
       "user_id         0\n",
       "age             0\n",
       "churn_date    462\n",
       "city            0\n",
       "first_name      0\n",
       "last_name       0\n",
       "reg_date        0\n",
       "tariff          0\n",
       "dtype: int64"
      ]
     },
     "execution_count": 6,
     "metadata": {},
     "output_type": "execute_result"
    }
   ],
   "source": [
    "#проверим датасет users на пропуски\n",
    "users.isna().sum()"
   ]
  },
  {
   "cell_type": "markdown",
   "id": "95d249a2",
   "metadata": {},
   "source": [
    "Пропуски представлены только в столбце churn_date (дата прекращения использования тарифа). Это логично, пропуски представлены у абонентов, которые не прекращали использование. На данном этапе непонятно требуется ли замена пропусков в этом столбце и на что лучше эти пропуски заменить, так что требуется пока оставить как есть."
   ]
  },
  {
   "cell_type": "code",
   "execution_count": 7,
   "id": "d7ef96b1",
   "metadata": {},
   "outputs": [
    {
     "data": {
      "text/plain": [
       "0"
      ]
     },
     "execution_count": 7,
     "metadata": {},
     "output_type": "execute_result"
    }
   ],
   "source": [
    "#проверим датасет users на явные дубликаты\n",
    "users.duplicated().sum()"
   ]
  },
  {
   "cell_type": "markdown",
   "id": "0eeada7a",
   "metadata": {},
   "source": [
    "Дубликаты не найдены. Датасет users готов к обработке"
   ]
  },
  {
   "cell_type": "markdown",
   "id": "b99e2e2f",
   "metadata": {},
   "source": [
    "**Вывод** В датасете users представлены данные по пользователям - абонентам оператора. Датасет состоит из 8-ми столбцов и включает персональный номер, возраст, город, имя, фамилию, дату регистрации и расторжения договора и название тарифа"
   ]
  },
  {
   "cell_type": "markdown",
   "id": "c1109702",
   "metadata": {},
   "source": [
    "Рассмотрим датасет calls"
   ]
  },
  {
   "cell_type": "code",
   "execution_count": 8,
   "id": "b459370d",
   "metadata": {
    "scrolled": false
   },
   "outputs": [
    {
     "name": "stdout",
     "output_type": "stream",
     "text": [
      "<class 'pandas.core.frame.DataFrame'>\n",
      "RangeIndex: 202607 entries, 0 to 202606\n",
      "Data columns (total 4 columns):\n",
      " #   Column     Non-Null Count   Dtype  \n",
      "---  ------     --------------   -----  \n",
      " 0   id         202607 non-null  object \n",
      " 1   call_date  202607 non-null  object \n",
      " 2   duration   202607 non-null  float64\n",
      " 3   user_id    202607 non-null  int64  \n",
      "dtypes: float64(1), int64(1), object(2)\n",
      "memory usage: 6.2+ MB\n"
     ]
    }
   ],
   "source": [
    "#просмотр общей информации о датасете calls\n",
    "calls.info()"
   ]
  },
  {
   "cell_type": "code",
   "execution_count": 9,
   "id": "43d0ae3b",
   "metadata": {
    "scrolled": true
   },
   "outputs": [
    {
     "data": {
      "text/html": [
       "<div>\n",
       "<style scoped>\n",
       "    .dataframe tbody tr th:only-of-type {\n",
       "        vertical-align: middle;\n",
       "    }\n",
       "\n",
       "    .dataframe tbody tr th {\n",
       "        vertical-align: top;\n",
       "    }\n",
       "\n",
       "    .dataframe thead th {\n",
       "        text-align: right;\n",
       "    }\n",
       "</style>\n",
       "<table border=\"1\" class=\"dataframe\">\n",
       "  <thead>\n",
       "    <tr style=\"text-align: right;\">\n",
       "      <th></th>\n",
       "      <th>duration</th>\n",
       "      <th>user_id</th>\n",
       "    </tr>\n",
       "  </thead>\n",
       "  <tbody>\n",
       "    <tr>\n",
       "      <th>count</th>\n",
       "      <td>202607.000000</td>\n",
       "      <td>202607.000000</td>\n",
       "    </tr>\n",
       "    <tr>\n",
       "      <th>mean</th>\n",
       "      <td>6.755887</td>\n",
       "      <td>1253.940619</td>\n",
       "    </tr>\n",
       "    <tr>\n",
       "      <th>std</th>\n",
       "      <td>5.843365</td>\n",
       "      <td>144.722751</td>\n",
       "    </tr>\n",
       "    <tr>\n",
       "      <th>min</th>\n",
       "      <td>0.000000</td>\n",
       "      <td>1000.000000</td>\n",
       "    </tr>\n",
       "    <tr>\n",
       "      <th>25%</th>\n",
       "      <td>1.300000</td>\n",
       "      <td>1126.000000</td>\n",
       "    </tr>\n",
       "    <tr>\n",
       "      <th>50%</th>\n",
       "      <td>6.000000</td>\n",
       "      <td>1260.000000</td>\n",
       "    </tr>\n",
       "    <tr>\n",
       "      <th>75%</th>\n",
       "      <td>10.700000</td>\n",
       "      <td>1379.000000</td>\n",
       "    </tr>\n",
       "    <tr>\n",
       "      <th>max</th>\n",
       "      <td>38.000000</td>\n",
       "      <td>1499.000000</td>\n",
       "    </tr>\n",
       "  </tbody>\n",
       "</table>\n",
       "</div>"
      ],
      "text/plain": [
       "            duration        user_id\n",
       "count  202607.000000  202607.000000\n",
       "mean        6.755887    1253.940619\n",
       "std         5.843365     144.722751\n",
       "min         0.000000    1000.000000\n",
       "25%         1.300000    1126.000000\n",
       "50%         6.000000    1260.000000\n",
       "75%        10.700000    1379.000000\n",
       "max        38.000000    1499.000000"
      ]
     },
     "execution_count": 9,
     "metadata": {},
     "output_type": "execute_result"
    }
   ],
   "source": [
    "calls.describe()"
   ]
  },
  {
   "cell_type": "code",
   "execution_count": 10,
   "id": "00c2a0ef",
   "metadata": {
    "scrolled": true
   },
   "outputs": [
    {
     "data": {
      "text/html": [
       "<div>\n",
       "<style scoped>\n",
       "    .dataframe tbody tr th:only-of-type {\n",
       "        vertical-align: middle;\n",
       "    }\n",
       "\n",
       "    .dataframe tbody tr th {\n",
       "        vertical-align: top;\n",
       "    }\n",
       "\n",
       "    .dataframe thead th {\n",
       "        text-align: right;\n",
       "    }\n",
       "</style>\n",
       "<table border=\"1\" class=\"dataframe\">\n",
       "  <thead>\n",
       "    <tr style=\"text-align: right;\">\n",
       "      <th></th>\n",
       "      <th>id</th>\n",
       "      <th>call_date</th>\n",
       "      <th>duration</th>\n",
       "      <th>user_id</th>\n",
       "    </tr>\n",
       "  </thead>\n",
       "  <tbody>\n",
       "    <tr>\n",
       "      <th>0</th>\n",
       "      <td>1000_0</td>\n",
       "      <td>2018-07-25</td>\n",
       "      <td>0.00</td>\n",
       "      <td>1000</td>\n",
       "    </tr>\n",
       "    <tr>\n",
       "      <th>1</th>\n",
       "      <td>1000_1</td>\n",
       "      <td>2018-08-17</td>\n",
       "      <td>0.00</td>\n",
       "      <td>1000</td>\n",
       "    </tr>\n",
       "    <tr>\n",
       "      <th>2</th>\n",
       "      <td>1000_2</td>\n",
       "      <td>2018-06-11</td>\n",
       "      <td>2.85</td>\n",
       "      <td>1000</td>\n",
       "    </tr>\n",
       "    <tr>\n",
       "      <th>3</th>\n",
       "      <td>1000_3</td>\n",
       "      <td>2018-09-21</td>\n",
       "      <td>13.80</td>\n",
       "      <td>1000</td>\n",
       "    </tr>\n",
       "    <tr>\n",
       "      <th>4</th>\n",
       "      <td>1000_4</td>\n",
       "      <td>2018-12-15</td>\n",
       "      <td>5.18</td>\n",
       "      <td>1000</td>\n",
       "    </tr>\n",
       "    <tr>\n",
       "      <th>5</th>\n",
       "      <td>1000_5</td>\n",
       "      <td>2018-11-02</td>\n",
       "      <td>0.00</td>\n",
       "      <td>1000</td>\n",
       "    </tr>\n",
       "    <tr>\n",
       "      <th>6</th>\n",
       "      <td>1000_6</td>\n",
       "      <td>2018-10-18</td>\n",
       "      <td>0.00</td>\n",
       "      <td>1000</td>\n",
       "    </tr>\n",
       "    <tr>\n",
       "      <th>7</th>\n",
       "      <td>1000_7</td>\n",
       "      <td>2018-08-22</td>\n",
       "      <td>18.31</td>\n",
       "      <td>1000</td>\n",
       "    </tr>\n",
       "    <tr>\n",
       "      <th>8</th>\n",
       "      <td>1000_8</td>\n",
       "      <td>2018-09-15</td>\n",
       "      <td>18.44</td>\n",
       "      <td>1000</td>\n",
       "    </tr>\n",
       "    <tr>\n",
       "      <th>9</th>\n",
       "      <td>1000_9</td>\n",
       "      <td>2018-08-15</td>\n",
       "      <td>0.00</td>\n",
       "      <td>1000</td>\n",
       "    </tr>\n",
       "  </tbody>\n",
       "</table>\n",
       "</div>"
      ],
      "text/plain": [
       "       id   call_date  duration  user_id\n",
       "0  1000_0  2018-07-25      0.00     1000\n",
       "1  1000_1  2018-08-17      0.00     1000\n",
       "2  1000_2  2018-06-11      2.85     1000\n",
       "3  1000_3  2018-09-21     13.80     1000\n",
       "4  1000_4  2018-12-15      5.18     1000\n",
       "5  1000_5  2018-11-02      0.00     1000\n",
       "6  1000_6  2018-10-18      0.00     1000\n",
       "7  1000_7  2018-08-22     18.31     1000\n",
       "8  1000_8  2018-09-15     18.44     1000\n",
       "9  1000_9  2018-08-15      0.00     1000"
      ]
     },
     "execution_count": 10,
     "metadata": {},
     "output_type": "execute_result"
    }
   ],
   "source": [
    "#просмотр первых 10-ти строк датасета calls\n",
    "calls.head(10)"
   ]
  },
  {
   "cell_type": "code",
   "execution_count": 11,
   "id": "3ef87c9f",
   "metadata": {},
   "outputs": [
    {
     "data": {
      "text/plain": [
       "id           0\n",
       "call_date    0\n",
       "duration     0\n",
       "user_id      0\n",
       "dtype: int64"
      ]
     },
     "execution_count": 11,
     "metadata": {},
     "output_type": "execute_result"
    }
   ],
   "source": [
    "#проверим датасет calls на пропуски\n",
    "calls.isna().sum()"
   ]
  },
  {
   "cell_type": "markdown",
   "id": "8c2dd4e0",
   "metadata": {},
   "source": [
    "Пропусков нет, все данные загружены.\n"
   ]
  },
  {
   "cell_type": "code",
   "execution_count": 12,
   "id": "b9cf7ec3",
   "metadata": {},
   "outputs": [
    {
     "data": {
      "text/plain": [
       "0"
      ]
     },
     "execution_count": 12,
     "metadata": {},
     "output_type": "execute_result"
    }
   ],
   "source": [
    "#проверим датасет calls на явные дубликаты\n",
    "calls.duplicated().sum()"
   ]
  },
  {
   "cell_type": "markdown",
   "id": "912e12fc",
   "metadata": {},
   "source": [
    "Явные дубликаты не найдены"
   ]
  },
  {
   "cell_type": "markdown",
   "id": "08804083",
   "metadata": {},
   "source": [
    "Теперь данные выглядят обработанными, но смущают звонки продолжительностью 0 минут. Необходимо учитывать это в ходе исследования"
   ]
  },
  {
   "cell_type": "markdown",
   "id": "8c8ddf61",
   "metadata": {},
   "source": [
    "Данные в датасете calls представляют собой информацию о продолжительности звонков респондентов и включают следующие столбцы: персональный номер, дату звонка, продолжительность"
   ]
  },
  {
   "cell_type": "markdown",
   "id": "d76a24f4",
   "metadata": {},
   "source": [
    "Рассмотрим датасет messages"
   ]
  },
  {
   "cell_type": "code",
   "execution_count": 13,
   "id": "2dcd46c3",
   "metadata": {},
   "outputs": [
    {
     "name": "stdout",
     "output_type": "stream",
     "text": [
      "<class 'pandas.core.frame.DataFrame'>\n",
      "RangeIndex: 123036 entries, 0 to 123035\n",
      "Data columns (total 3 columns):\n",
      " #   Column        Non-Null Count   Dtype \n",
      "---  ------        --------------   ----- \n",
      " 0   id            123036 non-null  object\n",
      " 1   message_date  123036 non-null  object\n",
      " 2   user_id       123036 non-null  int64 \n",
      "dtypes: int64(1), object(2)\n",
      "memory usage: 2.8+ MB\n"
     ]
    }
   ],
   "source": [
    "#просмотр общей информации о датасете calls\n",
    "messages.info()"
   ]
  },
  {
   "cell_type": "code",
   "execution_count": 14,
   "id": "5c51cf54",
   "metadata": {
    "scrolled": true
   },
   "outputs": [
    {
     "data": {
      "text/html": [
       "<div>\n",
       "<style scoped>\n",
       "    .dataframe tbody tr th:only-of-type {\n",
       "        vertical-align: middle;\n",
       "    }\n",
       "\n",
       "    .dataframe tbody tr th {\n",
       "        vertical-align: top;\n",
       "    }\n",
       "\n",
       "    .dataframe thead th {\n",
       "        text-align: right;\n",
       "    }\n",
       "</style>\n",
       "<table border=\"1\" class=\"dataframe\">\n",
       "  <thead>\n",
       "    <tr style=\"text-align: right;\">\n",
       "      <th></th>\n",
       "      <th>id</th>\n",
       "      <th>message_date</th>\n",
       "      <th>user_id</th>\n",
       "    </tr>\n",
       "  </thead>\n",
       "  <tbody>\n",
       "    <tr>\n",
       "      <th>0</th>\n",
       "      <td>1000_0</td>\n",
       "      <td>2018-06-27</td>\n",
       "      <td>1000</td>\n",
       "    </tr>\n",
       "    <tr>\n",
       "      <th>1</th>\n",
       "      <td>1000_1</td>\n",
       "      <td>2018-10-08</td>\n",
       "      <td>1000</td>\n",
       "    </tr>\n",
       "    <tr>\n",
       "      <th>2</th>\n",
       "      <td>1000_2</td>\n",
       "      <td>2018-08-04</td>\n",
       "      <td>1000</td>\n",
       "    </tr>\n",
       "    <tr>\n",
       "      <th>3</th>\n",
       "      <td>1000_3</td>\n",
       "      <td>2018-06-16</td>\n",
       "      <td>1000</td>\n",
       "    </tr>\n",
       "    <tr>\n",
       "      <th>4</th>\n",
       "      <td>1000_4</td>\n",
       "      <td>2018-12-05</td>\n",
       "      <td>1000</td>\n",
       "    </tr>\n",
       "    <tr>\n",
       "      <th>5</th>\n",
       "      <td>1000_5</td>\n",
       "      <td>2018-06-20</td>\n",
       "      <td>1000</td>\n",
       "    </tr>\n",
       "    <tr>\n",
       "      <th>6</th>\n",
       "      <td>1000_6</td>\n",
       "      <td>2018-11-19</td>\n",
       "      <td>1000</td>\n",
       "    </tr>\n",
       "    <tr>\n",
       "      <th>7</th>\n",
       "      <td>1000_7</td>\n",
       "      <td>2018-10-29</td>\n",
       "      <td>1000</td>\n",
       "    </tr>\n",
       "    <tr>\n",
       "      <th>8</th>\n",
       "      <td>1000_8</td>\n",
       "      <td>2018-06-25</td>\n",
       "      <td>1000</td>\n",
       "    </tr>\n",
       "    <tr>\n",
       "      <th>9</th>\n",
       "      <td>1000_9</td>\n",
       "      <td>2018-12-18</td>\n",
       "      <td>1000</td>\n",
       "    </tr>\n",
       "  </tbody>\n",
       "</table>\n",
       "</div>"
      ],
      "text/plain": [
       "       id message_date  user_id\n",
       "0  1000_0   2018-06-27     1000\n",
       "1  1000_1   2018-10-08     1000\n",
       "2  1000_2   2018-08-04     1000\n",
       "3  1000_3   2018-06-16     1000\n",
       "4  1000_4   2018-12-05     1000\n",
       "5  1000_5   2018-06-20     1000\n",
       "6  1000_6   2018-11-19     1000\n",
       "7  1000_7   2018-10-29     1000\n",
       "8  1000_8   2018-06-25     1000\n",
       "9  1000_9   2018-12-18     1000"
      ]
     },
     "execution_count": 14,
     "metadata": {},
     "output_type": "execute_result"
    }
   ],
   "source": [
    "#просмотр первых 10-ти строк датасета messages\n",
    "messages.head(10)"
   ]
  },
  {
   "cell_type": "code",
   "execution_count": 15,
   "id": "b232697e",
   "metadata": {},
   "outputs": [
    {
     "data": {
      "text/plain": [
       "id              0\n",
       "message_date    0\n",
       "user_id         0\n",
       "dtype: int64"
      ]
     },
     "execution_count": 15,
     "metadata": {},
     "output_type": "execute_result"
    }
   ],
   "source": [
    "#проверим датасет messages на пропуски\n",
    "messages.isna().sum()"
   ]
  },
  {
   "cell_type": "markdown",
   "id": "19671739",
   "metadata": {},
   "source": [
    "Пропуски в данных не обнаружены"
   ]
  },
  {
   "cell_type": "code",
   "execution_count": 16,
   "id": "964ffd0d",
   "metadata": {},
   "outputs": [
    {
     "data": {
      "text/plain": [
       "0"
      ]
     },
     "execution_count": 16,
     "metadata": {},
     "output_type": "execute_result"
    }
   ],
   "source": [
    "#проверим датасет messages на явные дубликаты\n",
    "messages.duplicated().sum()"
   ]
  },
  {
   "cell_type": "markdown",
   "id": "64843279",
   "metadata": {},
   "source": [
    "Явные дубликаты не обнаружены"
   ]
  },
  {
   "cell_type": "markdown",
   "id": "ee98d8e2",
   "metadata": {},
   "source": [
    "Данные в датасете messages представляют собой информацию о сообщениях респондентов и включают следующие столбцы: персональный номер, количество смс"
   ]
  },
  {
   "cell_type": "markdown",
   "id": "bec6ef3b",
   "metadata": {},
   "source": [
    "Рассмотрим датасет internet"
   ]
  },
  {
   "cell_type": "code",
   "execution_count": 17,
   "id": "b67ba2e9",
   "metadata": {},
   "outputs": [
    {
     "name": "stdout",
     "output_type": "stream",
     "text": [
      "<class 'pandas.core.frame.DataFrame'>\n",
      "RangeIndex: 149396 entries, 0 to 149395\n",
      "Data columns (total 5 columns):\n",
      " #   Column        Non-Null Count   Dtype  \n",
      "---  ------        --------------   -----  \n",
      " 0   Unnamed: 0    149396 non-null  int64  \n",
      " 1   id            149396 non-null  object \n",
      " 2   mb_used       149396 non-null  float64\n",
      " 3   session_date  149396 non-null  object \n",
      " 4   user_id       149396 non-null  int64  \n",
      "dtypes: float64(1), int64(2), object(2)\n",
      "memory usage: 5.7+ MB\n"
     ]
    }
   ],
   "source": [
    "internet.info()"
   ]
  },
  {
   "cell_type": "markdown",
   "id": "62c2775b",
   "metadata": {},
   "source": [
    "Необходимо обратить внимание, что сумма указана в мегабайтах, не гигабайтах, чтобы в дальнейшем это не повредило расчетам"
   ]
  },
  {
   "cell_type": "code",
   "execution_count": 18,
   "id": "4db9671a",
   "metadata": {},
   "outputs": [
    {
     "data": {
      "text/html": [
       "<div>\n",
       "<style scoped>\n",
       "    .dataframe tbody tr th:only-of-type {\n",
       "        vertical-align: middle;\n",
       "    }\n",
       "\n",
       "    .dataframe tbody tr th {\n",
       "        vertical-align: top;\n",
       "    }\n",
       "\n",
       "    .dataframe thead th {\n",
       "        text-align: right;\n",
       "    }\n",
       "</style>\n",
       "<table border=\"1\" class=\"dataframe\">\n",
       "  <thead>\n",
       "    <tr style=\"text-align: right;\">\n",
       "      <th></th>\n",
       "      <th>Unnamed: 0</th>\n",
       "      <th>id</th>\n",
       "      <th>mb_used</th>\n",
       "      <th>session_date</th>\n",
       "      <th>user_id</th>\n",
       "    </tr>\n",
       "  </thead>\n",
       "  <tbody>\n",
       "    <tr>\n",
       "      <th>0</th>\n",
       "      <td>0</td>\n",
       "      <td>1000_0</td>\n",
       "      <td>112.95</td>\n",
       "      <td>2018-11-25</td>\n",
       "      <td>1000</td>\n",
       "    </tr>\n",
       "    <tr>\n",
       "      <th>1</th>\n",
       "      <td>1</td>\n",
       "      <td>1000_1</td>\n",
       "      <td>1052.81</td>\n",
       "      <td>2018-09-07</td>\n",
       "      <td>1000</td>\n",
       "    </tr>\n",
       "    <tr>\n",
       "      <th>2</th>\n",
       "      <td>2</td>\n",
       "      <td>1000_2</td>\n",
       "      <td>1197.26</td>\n",
       "      <td>2018-06-25</td>\n",
       "      <td>1000</td>\n",
       "    </tr>\n",
       "    <tr>\n",
       "      <th>3</th>\n",
       "      <td>3</td>\n",
       "      <td>1000_3</td>\n",
       "      <td>550.27</td>\n",
       "      <td>2018-08-22</td>\n",
       "      <td>1000</td>\n",
       "    </tr>\n",
       "    <tr>\n",
       "      <th>4</th>\n",
       "      <td>4</td>\n",
       "      <td>1000_4</td>\n",
       "      <td>302.56</td>\n",
       "      <td>2018-09-24</td>\n",
       "      <td>1000</td>\n",
       "    </tr>\n",
       "    <tr>\n",
       "      <th>5</th>\n",
       "      <td>5</td>\n",
       "      <td>1000_5</td>\n",
       "      <td>399.97</td>\n",
       "      <td>2018-10-02</td>\n",
       "      <td>1000</td>\n",
       "    </tr>\n",
       "    <tr>\n",
       "      <th>6</th>\n",
       "      <td>6</td>\n",
       "      <td>1000_6</td>\n",
       "      <td>540.08</td>\n",
       "      <td>2018-09-07</td>\n",
       "      <td>1000</td>\n",
       "    </tr>\n",
       "    <tr>\n",
       "      <th>7</th>\n",
       "      <td>7</td>\n",
       "      <td>1000_7</td>\n",
       "      <td>415.70</td>\n",
       "      <td>2018-07-11</td>\n",
       "      <td>1000</td>\n",
       "    </tr>\n",
       "    <tr>\n",
       "      <th>8</th>\n",
       "      <td>8</td>\n",
       "      <td>1000_8</td>\n",
       "      <td>505.40</td>\n",
       "      <td>2018-10-08</td>\n",
       "      <td>1000</td>\n",
       "    </tr>\n",
       "    <tr>\n",
       "      <th>9</th>\n",
       "      <td>9</td>\n",
       "      <td>1000_9</td>\n",
       "      <td>345.54</td>\n",
       "      <td>2018-09-03</td>\n",
       "      <td>1000</td>\n",
       "    </tr>\n",
       "  </tbody>\n",
       "</table>\n",
       "</div>"
      ],
      "text/plain": [
       "   Unnamed: 0      id  mb_used session_date  user_id\n",
       "0           0  1000_0   112.95   2018-11-25     1000\n",
       "1           1  1000_1  1052.81   2018-09-07     1000\n",
       "2           2  1000_2  1197.26   2018-06-25     1000\n",
       "3           3  1000_3   550.27   2018-08-22     1000\n",
       "4           4  1000_4   302.56   2018-09-24     1000\n",
       "5           5  1000_5   399.97   2018-10-02     1000\n",
       "6           6  1000_6   540.08   2018-09-07     1000\n",
       "7           7  1000_7   415.70   2018-07-11     1000\n",
       "8           8  1000_8   505.40   2018-10-08     1000\n",
       "9           9  1000_9   345.54   2018-09-03     1000"
      ]
     },
     "execution_count": 18,
     "metadata": {},
     "output_type": "execute_result"
    }
   ],
   "source": [
    "#просмотр первых 10-ти строк датасета internet\n",
    "internet.head(10)"
   ]
  },
  {
   "cell_type": "code",
   "execution_count": 19,
   "id": "70e1c3e9",
   "metadata": {},
   "outputs": [
    {
     "data": {
      "text/plain": [
       "Unnamed: 0      0\n",
       "id              0\n",
       "mb_used         0\n",
       "session_date    0\n",
       "user_id         0\n",
       "dtype: int64"
      ]
     },
     "execution_count": 19,
     "metadata": {},
     "output_type": "execute_result"
    }
   ],
   "source": [
    "#проверим датасет internet на пропуски\n",
    "internet.isna().sum()"
   ]
  },
  {
   "cell_type": "markdown",
   "id": "aaf573d5",
   "metadata": {},
   "source": [
    "Пропуски в данных не обнаружены"
   ]
  },
  {
   "cell_type": "code",
   "execution_count": 20,
   "id": "21371f1d",
   "metadata": {},
   "outputs": [
    {
     "data": {
      "text/plain": [
       "0"
      ]
     },
     "execution_count": 20,
     "metadata": {},
     "output_type": "execute_result"
    }
   ],
   "source": [
    "#проверим датасет internet на явные дубликаты\n",
    "internet.duplicated().sum()"
   ]
  },
  {
   "cell_type": "markdown",
   "id": "d5d7a9ef",
   "metadata": {},
   "source": [
    "Явные дубликаты не обнаружены"
   ]
  },
  {
   "cell_type": "markdown",
   "id": "469fa965",
   "metadata": {},
   "source": [
    "Данные в датасете internet представляют собой информацию об использовании интернета респондентами и включают следующие столбцы: персональный номер, количество мегабайт интернета, дата подключения"
   ]
  },
  {
   "cell_type": "markdown",
   "id": "d1aa8b91",
   "metadata": {},
   "source": [
    "Рассмотрим датасет tariffs"
   ]
  },
  {
   "cell_type": "code",
   "execution_count": 21,
   "id": "2228ad6b",
   "metadata": {},
   "outputs": [
    {
     "name": "stdout",
     "output_type": "stream",
     "text": [
      "<class 'pandas.core.frame.DataFrame'>\n",
      "RangeIndex: 2 entries, 0 to 1\n",
      "Data columns (total 8 columns):\n",
      " #   Column                 Non-Null Count  Dtype \n",
      "---  ------                 --------------  ----- \n",
      " 0   messages_included      2 non-null      int64 \n",
      " 1   mb_per_month_included  2 non-null      int64 \n",
      " 2   minutes_included       2 non-null      int64 \n",
      " 3   rub_monthly_fee        2 non-null      int64 \n",
      " 4   rub_per_gb             2 non-null      int64 \n",
      " 5   rub_per_message        2 non-null      int64 \n",
      " 6   rub_per_minute         2 non-null      int64 \n",
      " 7   tariff_name            2 non-null      object\n",
      "dtypes: int64(7), object(1)\n",
      "memory usage: 256.0+ bytes\n"
     ]
    }
   ],
   "source": [
    "tariffs.info()"
   ]
  },
  {
   "cell_type": "markdown",
   "id": "fd9d9bdd",
   "metadata": {},
   "source": [
    "Данные выглядят корректно, на первый взгляд изменение типов данных не требуется. В датасете две строки, названия тарифов"
   ]
  },
  {
   "cell_type": "code",
   "execution_count": 22,
   "id": "21cb6748",
   "metadata": {
    "scrolled": true
   },
   "outputs": [
    {
     "data": {
      "text/html": [
       "<div>\n",
       "<style scoped>\n",
       "    .dataframe tbody tr th:only-of-type {\n",
       "        vertical-align: middle;\n",
       "    }\n",
       "\n",
       "    .dataframe tbody tr th {\n",
       "        vertical-align: top;\n",
       "    }\n",
       "\n",
       "    .dataframe thead th {\n",
       "        text-align: right;\n",
       "    }\n",
       "</style>\n",
       "<table border=\"1\" class=\"dataframe\">\n",
       "  <thead>\n",
       "    <tr style=\"text-align: right;\">\n",
       "      <th></th>\n",
       "      <th>messages_included</th>\n",
       "      <th>mb_per_month_included</th>\n",
       "      <th>minutes_included</th>\n",
       "      <th>rub_monthly_fee</th>\n",
       "      <th>rub_per_gb</th>\n",
       "      <th>rub_per_message</th>\n",
       "      <th>rub_per_minute</th>\n",
       "      <th>tariff_name</th>\n",
       "    </tr>\n",
       "  </thead>\n",
       "  <tbody>\n",
       "    <tr>\n",
       "      <th>0</th>\n",
       "      <td>50</td>\n",
       "      <td>15360</td>\n",
       "      <td>500</td>\n",
       "      <td>550</td>\n",
       "      <td>200</td>\n",
       "      <td>3</td>\n",
       "      <td>3</td>\n",
       "      <td>smart</td>\n",
       "    </tr>\n",
       "    <tr>\n",
       "      <th>1</th>\n",
       "      <td>1000</td>\n",
       "      <td>30720</td>\n",
       "      <td>3000</td>\n",
       "      <td>1950</td>\n",
       "      <td>150</td>\n",
       "      <td>1</td>\n",
       "      <td>1</td>\n",
       "      <td>ultra</td>\n",
       "    </tr>\n",
       "  </tbody>\n",
       "</table>\n",
       "</div>"
      ],
      "text/plain": [
       "   messages_included  mb_per_month_included  minutes_included  \\\n",
       "0                 50                  15360               500   \n",
       "1               1000                  30720              3000   \n",
       "\n",
       "   rub_monthly_fee  rub_per_gb  rub_per_message  rub_per_minute tariff_name  \n",
       "0              550         200                3               3       smart  \n",
       "1             1950         150                1               1       ultra  "
      ]
     },
     "execution_count": 22,
     "metadata": {},
     "output_type": "execute_result"
    }
   ],
   "source": [
    "#просмотр строк датасета tariffs\n",
    "tariffs.head()"
   ]
  },
  {
   "cell_type": "code",
   "execution_count": 23,
   "id": "df5d0663",
   "metadata": {},
   "outputs": [
    {
     "data": {
      "text/plain": [
       "messages_included        0\n",
       "mb_per_month_included    0\n",
       "minutes_included         0\n",
       "rub_monthly_fee          0\n",
       "rub_per_gb               0\n",
       "rub_per_message          0\n",
       "rub_per_minute           0\n",
       "tariff_name              0\n",
       "dtype: int64"
      ]
     },
     "execution_count": 23,
     "metadata": {},
     "output_type": "execute_result"
    }
   ],
   "source": [
    "#проверим датасет tariffs на пропуски\n",
    "tariffs.isna().sum()"
   ]
  },
  {
   "cell_type": "markdown",
   "id": "f2cca1f9",
   "metadata": {},
   "source": [
    "Пропуски в данных не обнаружены"
   ]
  },
  {
   "cell_type": "code",
   "execution_count": 24,
   "id": "11b1dcce",
   "metadata": {
    "scrolled": true
   },
   "outputs": [
    {
     "data": {
      "text/plain": [
       "0"
      ]
     },
     "execution_count": 24,
     "metadata": {},
     "output_type": "execute_result"
    }
   ],
   "source": [
    "#проверим датасет tariffs на явные дубликаты\n",
    "tariffs.duplicated().sum()"
   ]
  },
  {
   "cell_type": "markdown",
   "id": "617fe7c4",
   "metadata": {},
   "source": [
    "Явные дубликаты не обнаружены"
   ]
  },
  {
   "cell_type": "markdown",
   "id": "c815fcba",
   "metadata": {},
   "source": [
    "Данные в датасете tariffs представляют собой данные о двух тарифах оператора и включают целевые значения тарифов: количество доступных минут, интернета, сообщений, а также названия"
   ]
  },
  {
   "cell_type": "markdown",
   "id": "43613cf5",
   "metadata": {},
   "source": [
    "## Подготовка данных"
   ]
  },
  {
   "cell_type": "markdown",
   "id": "44eec840",
   "metadata": {},
   "source": [
    "**Приведение данных к нужным типам и исправление ошибок**"
   ]
  },
  {
   "cell_type": "code",
   "execution_count": 25,
   "id": "553ae365",
   "metadata": {},
   "outputs": [],
   "source": [
    "#приведем даты в датасете users к формату to.datetime\n",
    "users['churn_date'] = pd.to_datetime(users['churn_date'], format=\"%Y-%m-%d\")\n",
    "users['reg_date'] = pd.to_datetime(users['reg_date'], format=\"%Y-%m-%d\")"
   ]
  },
  {
   "cell_type": "code",
   "execution_count": 26,
   "id": "c664b1f5",
   "metadata": {},
   "outputs": [],
   "source": [
    "#приведем даты к формату to.datetime\n",
    "calls['call_date'] = pd.to_datetime(calls['call_date'], format=\"%Y-%m-%d\")"
   ]
  },
  {
   "cell_type": "code",
   "execution_count": 27,
   "id": "f994af2b",
   "metadata": {},
   "outputs": [],
   "source": [
    "#по условию оператор округляет значения до целых чисел, приведем столбец duration к целым числам\n",
    "calls['duration'] = calls['duration'].apply(np.ceil).astype('int')"
   ]
  },
  {
   "cell_type": "code",
   "execution_count": 28,
   "id": "db77affa",
   "metadata": {},
   "outputs": [],
   "source": [
    "#id обозначен как объект, стоит привести к числам для удобства работы\n",
    "calls['id'] = calls['id'].astype('int')"
   ]
  },
  {
   "cell_type": "code",
   "execution_count": 29,
   "id": "1d5a867c",
   "metadata": {},
   "outputs": [],
   "source": [
    "#приведем даты к формату to.datetime\n",
    "messages['message_date'] = pd.to_datetime(messages['message_date'], format=\"%Y-%m-%d\")"
   ]
  },
  {
   "cell_type": "code",
   "execution_count": 30,
   "id": "14253a46",
   "metadata": {},
   "outputs": [],
   "source": [
    "#id обозначен как объект, стоит привести к числам для удобства работы\n",
    "messages['id'] = messages['id'].astype('int')"
   ]
  },
  {
   "cell_type": "code",
   "execution_count": 31,
   "id": "1c8fca59",
   "metadata": {},
   "outputs": [],
   "source": [
    "#приведем даты к формату to.datetime\n",
    "internet['session_date'] = pd.to_datetime(internet['session_date'], format=\"%Y-%m-%d\")"
   ]
  },
  {
   "cell_type": "code",
   "execution_count": 32,
   "id": "04934cfc",
   "metadata": {},
   "outputs": [],
   "source": [
    "#id обозначен как объект, стоит привести к числам для удобства работы\n",
    "internet['id'] = internet['id'].astype('int')"
   ]
  },
  {
   "cell_type": "code",
   "execution_count": 33,
   "id": "e35bd451",
   "metadata": {},
   "outputs": [],
   "source": [
    "# создание столбца tariff (для того чтобы можно былбо объединить таблицы)\n",
    "tariffs['tariff'] = tariffs['tariff_name']"
   ]
  },
  {
   "cell_type": "code",
   "execution_count": 34,
   "id": "4303acf5",
   "metadata": {},
   "outputs": [],
   "source": [
    "# удаление дублированного столбца\n",
    "del tariffs['tariff_name']"
   ]
  },
  {
   "cell_type": "markdown",
   "id": "965b5e32",
   "metadata": {},
   "source": [
    "**Подсчет для каждого пользователя**\n",
    " - количество сделанных звонков и израсходованных минут разговора по месяцам;\n",
    " - количество отправленных сообщений по месяцам;\n",
    " - объем израсходованного интернет-трафика по месяцам;\n",
    " - помесячную выручку с каждого пользователя (вычтите бесплатный лимит из суммарного количества звонков, сообщений и интернет-трафика; остаток умножьте на значение из тарифного плана; прибавьте абонентскую плату, соответствующую тарифному плану)."
   ]
  },
  {
   "cell_type": "code",
   "execution_count": 35,
   "id": "abd27b65",
   "metadata": {},
   "outputs": [],
   "source": [
    "#подсчет количества сделанных звонков и израсходованных минут разговора по месяцам\n",
    "calls['month'] = calls['call_date'].dt.month\n",
    "calls_report = calls.groupby(['user_id', 'month']).agg({'duration':'sum', 'id':'count'}).reset_index().rename(columns={'id':'calls_during_month'})"
   ]
  },
  {
   "cell_type": "code",
   "execution_count": 36,
   "id": "f306133e",
   "metadata": {},
   "outputs": [
    {
     "data": {
      "text/html": [
       "<div>\n",
       "<style scoped>\n",
       "    .dataframe tbody tr th:only-of-type {\n",
       "        vertical-align: middle;\n",
       "    }\n",
       "\n",
       "    .dataframe tbody tr th {\n",
       "        vertical-align: top;\n",
       "    }\n",
       "\n",
       "    .dataframe thead th {\n",
       "        text-align: right;\n",
       "    }\n",
       "</style>\n",
       "<table border=\"1\" class=\"dataframe\">\n",
       "  <thead>\n",
       "    <tr style=\"text-align: right;\">\n",
       "      <th></th>\n",
       "      <th>user_id</th>\n",
       "      <th>month</th>\n",
       "      <th>duration</th>\n",
       "      <th>calls_during_month</th>\n",
       "    </tr>\n",
       "  </thead>\n",
       "  <tbody>\n",
       "    <tr>\n",
       "      <th>1011</th>\n",
       "      <td>1161</td>\n",
       "      <td>11</td>\n",
       "      <td>39</td>\n",
       "      <td>6</td>\n",
       "    </tr>\n",
       "    <tr>\n",
       "      <th>1762</th>\n",
       "      <td>1282</td>\n",
       "      <td>8</td>\n",
       "      <td>672</td>\n",
       "      <td>94</td>\n",
       "    </tr>\n",
       "    <tr>\n",
       "      <th>2058</th>\n",
       "      <td>1329</td>\n",
       "      <td>11</td>\n",
       "      <td>475</td>\n",
       "      <td>80</td>\n",
       "    </tr>\n",
       "    <tr>\n",
       "      <th>1507</th>\n",
       "      <td>1241</td>\n",
       "      <td>8</td>\n",
       "      <td>178</td>\n",
       "      <td>31</td>\n",
       "    </tr>\n",
       "    <tr>\n",
       "      <th>1128</th>\n",
       "      <td>1178</td>\n",
       "      <td>11</td>\n",
       "      <td>328</td>\n",
       "      <td>50</td>\n",
       "    </tr>\n",
       "    <tr>\n",
       "      <th>906</th>\n",
       "      <td>1146</td>\n",
       "      <td>9</td>\n",
       "      <td>424</td>\n",
       "      <td>60</td>\n",
       "    </tr>\n",
       "    <tr>\n",
       "      <th>788</th>\n",
       "      <td>1125</td>\n",
       "      <td>12</td>\n",
       "      <td>317</td>\n",
       "      <td>37</td>\n",
       "    </tr>\n",
       "    <tr>\n",
       "      <th>1391</th>\n",
       "      <td>1221</td>\n",
       "      <td>6</td>\n",
       "      <td>256</td>\n",
       "      <td>33</td>\n",
       "    </tr>\n",
       "    <tr>\n",
       "      <th>1039</th>\n",
       "      <td>1168</td>\n",
       "      <td>2</td>\n",
       "      <td>884</td>\n",
       "      <td>123</td>\n",
       "    </tr>\n",
       "    <tr>\n",
       "      <th>454</th>\n",
       "      <td>1071</td>\n",
       "      <td>6</td>\n",
       "      <td>313</td>\n",
       "      <td>46</td>\n",
       "    </tr>\n",
       "  </tbody>\n",
       "</table>\n",
       "</div>"
      ],
      "text/plain": [
       "      user_id  month  duration  calls_during_month\n",
       "1011     1161     11        39                   6\n",
       "1762     1282      8       672                  94\n",
       "2058     1329     11       475                  80\n",
       "1507     1241      8       178                  31\n",
       "1128     1178     11       328                  50\n",
       "906      1146      9       424                  60\n",
       "788      1125     12       317                  37\n",
       "1391     1221      6       256                  33\n",
       "1039     1168      2       884                 123\n",
       "454      1071      6       313                  46"
      ]
     },
     "execution_count": 36,
     "metadata": {},
     "output_type": "execute_result"
    }
   ],
   "source": [
    "calls_report.sample(10)"
   ]
  },
  {
   "cell_type": "markdown",
   "id": "b92b71dc",
   "metadata": {},
   "source": [
    "**Количество отправленных сообщений по месяцам**"
   ]
  },
  {
   "cell_type": "code",
   "execution_count": 37,
   "id": "1fad562d",
   "metadata": {},
   "outputs": [],
   "source": [
    "#подсчет количества отправленных сообщений по месяцам\n",
    "messages['month'] = messages['message_date'].dt.month\n",
    "messages_report = messages.groupby(['user_id', 'month']).agg({'id':'count'}).reset_index().rename(columns={'id':'messages_during_month'})"
   ]
  },
  {
   "cell_type": "code",
   "execution_count": 38,
   "id": "b8dda134",
   "metadata": {},
   "outputs": [
    {
     "data": {
      "text/html": [
       "<div>\n",
       "<style scoped>\n",
       "    .dataframe tbody tr th:only-of-type {\n",
       "        vertical-align: middle;\n",
       "    }\n",
       "\n",
       "    .dataframe tbody tr th {\n",
       "        vertical-align: top;\n",
       "    }\n",
       "\n",
       "    .dataframe thead th {\n",
       "        text-align: right;\n",
       "    }\n",
       "</style>\n",
       "<table border=\"1\" class=\"dataframe\">\n",
       "  <thead>\n",
       "    <tr style=\"text-align: right;\">\n",
       "      <th></th>\n",
       "      <th>user_id</th>\n",
       "      <th>month</th>\n",
       "      <th>messages_during_month</th>\n",
       "    </tr>\n",
       "  </thead>\n",
       "  <tbody>\n",
       "    <tr>\n",
       "      <th>325</th>\n",
       "      <td>1059</td>\n",
       "      <td>11</td>\n",
       "      <td>24</td>\n",
       "    </tr>\n",
       "    <tr>\n",
       "      <th>1177</th>\n",
       "      <td>1227</td>\n",
       "      <td>2</td>\n",
       "      <td>27</td>\n",
       "    </tr>\n",
       "    <tr>\n",
       "      <th>1593</th>\n",
       "      <td>1308</td>\n",
       "      <td>11</td>\n",
       "      <td>31</td>\n",
       "    </tr>\n",
       "    <tr>\n",
       "      <th>2609</th>\n",
       "      <td>1480</td>\n",
       "      <td>9</td>\n",
       "      <td>19</td>\n",
       "    </tr>\n",
       "    <tr>\n",
       "      <th>840</th>\n",
       "      <td>1158</td>\n",
       "      <td>12</td>\n",
       "      <td>48</td>\n",
       "    </tr>\n",
       "    <tr>\n",
       "      <th>355</th>\n",
       "      <td>1065</td>\n",
       "      <td>11</td>\n",
       "      <td>56</td>\n",
       "    </tr>\n",
       "    <tr>\n",
       "      <th>1909</th>\n",
       "      <td>1365</td>\n",
       "      <td>10</td>\n",
       "      <td>1</td>\n",
       "    </tr>\n",
       "    <tr>\n",
       "      <th>2470</th>\n",
       "      <td>1457</td>\n",
       "      <td>8</td>\n",
       "      <td>26</td>\n",
       "    </tr>\n",
       "    <tr>\n",
       "      <th>1517</th>\n",
       "      <td>1294</td>\n",
       "      <td>10</td>\n",
       "      <td>20</td>\n",
       "    </tr>\n",
       "    <tr>\n",
       "      <th>684</th>\n",
       "      <td>1127</td>\n",
       "      <td>6</td>\n",
       "      <td>87</td>\n",
       "    </tr>\n",
       "  </tbody>\n",
       "</table>\n",
       "</div>"
      ],
      "text/plain": [
       "      user_id  month  messages_during_month\n",
       "325      1059     11                     24\n",
       "1177     1227      2                     27\n",
       "1593     1308     11                     31\n",
       "2609     1480      9                     19\n",
       "840      1158     12                     48\n",
       "355      1065     11                     56\n",
       "1909     1365     10                      1\n",
       "2470     1457      8                     26\n",
       "1517     1294     10                     20\n",
       "684      1127      6                     87"
      ]
     },
     "execution_count": 38,
     "metadata": {},
     "output_type": "execute_result"
    }
   ],
   "source": [
    "messages_report.sample(10)"
   ]
  },
  {
   "cell_type": "markdown",
   "id": "db4497f2",
   "metadata": {},
   "source": [
    "**Объем израсходованного интернет-трафика по месяцам**"
   ]
  },
  {
   "cell_type": "code",
   "execution_count": 39,
   "id": "1a043fef",
   "metadata": {},
   "outputs": [],
   "source": [
    "internet['month'] = internet['session_date'].dt.month\n",
    "internet_report = internet.groupby(['user_id', 'month']).agg({'mb_used':'sum'}).reset_index().rename(columns={'mb_used':'gb_during_month'})\n",
    "#приведем мегабайты к гигабайтам\n",
    "internet_report['gb_during_month']=internet_report['gb_during_month']/1024\n",
    "#округлим гигабайты до большего согласно условию\n",
    "internet_report['gb_during_month']=np.ceil(internet_report['gb_during_month'])"
   ]
  },
  {
   "cell_type": "code",
   "execution_count": 40,
   "id": "4d70e1eb",
   "metadata": {},
   "outputs": [
    {
     "data": {
      "text/html": [
       "<div>\n",
       "<style scoped>\n",
       "    .dataframe tbody tr th:only-of-type {\n",
       "        vertical-align: middle;\n",
       "    }\n",
       "\n",
       "    .dataframe tbody tr th {\n",
       "        vertical-align: top;\n",
       "    }\n",
       "\n",
       "    .dataframe thead th {\n",
       "        text-align: right;\n",
       "    }\n",
       "</style>\n",
       "<table border=\"1\" class=\"dataframe\">\n",
       "  <thead>\n",
       "    <tr style=\"text-align: right;\">\n",
       "      <th></th>\n",
       "      <th>user_id</th>\n",
       "      <th>month</th>\n",
       "      <th>gb_during_month</th>\n",
       "    </tr>\n",
       "  </thead>\n",
       "  <tbody>\n",
       "    <tr>\n",
       "      <th>1702</th>\n",
       "      <td>1269</td>\n",
       "      <td>9</td>\n",
       "      <td>17.0</td>\n",
       "    </tr>\n",
       "    <tr>\n",
       "      <th>2817</th>\n",
       "      <td>1437</td>\n",
       "      <td>11</td>\n",
       "      <td>21.0</td>\n",
       "    </tr>\n",
       "    <tr>\n",
       "      <th>1269</th>\n",
       "      <td>1198</td>\n",
       "      <td>9</td>\n",
       "      <td>18.0</td>\n",
       "    </tr>\n",
       "    <tr>\n",
       "      <th>1236</th>\n",
       "      <td>1192</td>\n",
       "      <td>12</td>\n",
       "      <td>9.0</td>\n",
       "    </tr>\n",
       "    <tr>\n",
       "      <th>1213</th>\n",
       "      <td>1188</td>\n",
       "      <td>8</td>\n",
       "      <td>11.0</td>\n",
       "    </tr>\n",
       "    <tr>\n",
       "      <th>2675</th>\n",
       "      <td>1419</td>\n",
       "      <td>9</td>\n",
       "      <td>14.0</td>\n",
       "    </tr>\n",
       "    <tr>\n",
       "      <th>355</th>\n",
       "      <td>1056</td>\n",
       "      <td>6</td>\n",
       "      <td>12.0</td>\n",
       "    </tr>\n",
       "    <tr>\n",
       "      <th>621</th>\n",
       "      <td>1098</td>\n",
       "      <td>10</td>\n",
       "      <td>21.0</td>\n",
       "    </tr>\n",
       "    <tr>\n",
       "      <th>841</th>\n",
       "      <td>1132</td>\n",
       "      <td>12</td>\n",
       "      <td>17.0</td>\n",
       "    </tr>\n",
       "    <tr>\n",
       "      <th>1503</th>\n",
       "      <td>1238</td>\n",
       "      <td>5</td>\n",
       "      <td>14.0</td>\n",
       "    </tr>\n",
       "  </tbody>\n",
       "</table>\n",
       "</div>"
      ],
      "text/plain": [
       "      user_id  month  gb_during_month\n",
       "1702     1269      9             17.0\n",
       "2817     1437     11             21.0\n",
       "1269     1198      9             18.0\n",
       "1236     1192     12              9.0\n",
       "1213     1188      8             11.0\n",
       "2675     1419      9             14.0\n",
       "355      1056      6             12.0\n",
       "621      1098     10             21.0\n",
       "841      1132     12             17.0\n",
       "1503     1238      5             14.0"
      ]
     },
     "execution_count": 40,
     "metadata": {},
     "output_type": "execute_result"
    }
   ],
   "source": [
    "internet_report.sample(10)"
   ]
  },
  {
   "cell_type": "markdown",
   "id": "03ed0a63",
   "metadata": {},
   "source": [
    "**Помесячная выручка с каждого пользователя**\n",
    "(вычтите бесплатный лимит из суммарного количества звонков, сообщений и интернет-трафика; остаток умножьте на значение из тарифного плана; прибавьте абонентскую плату, соответствующую тарифному плану)"
   ]
  },
  {
   "cell_type": "code",
   "execution_count": 41,
   "id": "9621634e",
   "metadata": {},
   "outputs": [],
   "source": [
    "#сбор данных calls_report, messages_report в один датасет\n",
    "revenue_data = calls_report.merge(messages_report, on=['user_id','month'], how='outer')"
   ]
  },
  {
   "cell_type": "code",
   "execution_count": 42,
   "id": "2dbfaafe",
   "metadata": {},
   "outputs": [],
   "source": [
    "#сбор данных calls_report, messages_report, internet_report в один датасет\n",
    "revenue_data = revenue_data.merge(internet_report, on=['user_id','month'], how = 'outer')"
   ]
  },
  {
   "cell_type": "code",
   "execution_count": 43,
   "id": "08177073",
   "metadata": {},
   "outputs": [
    {
     "data": {
      "text/html": [
       "<div>\n",
       "<style scoped>\n",
       "    .dataframe tbody tr th:only-of-type {\n",
       "        vertical-align: middle;\n",
       "    }\n",
       "\n",
       "    .dataframe tbody tr th {\n",
       "        vertical-align: top;\n",
       "    }\n",
       "\n",
       "    .dataframe thead th {\n",
       "        text-align: right;\n",
       "    }\n",
       "</style>\n",
       "<table border=\"1\" class=\"dataframe\">\n",
       "  <thead>\n",
       "    <tr style=\"text-align: right;\">\n",
       "      <th></th>\n",
       "      <th>user_id</th>\n",
       "      <th>month</th>\n",
       "      <th>duration</th>\n",
       "      <th>calls_during_month</th>\n",
       "      <th>messages_during_month</th>\n",
       "      <th>gb_during_month</th>\n",
       "    </tr>\n",
       "  </thead>\n",
       "  <tbody>\n",
       "    <tr>\n",
       "      <th>1516</th>\n",
       "      <td>1243</td>\n",
       "      <td>8</td>\n",
       "      <td>395.0</td>\n",
       "      <td>51.0</td>\n",
       "      <td>82.0</td>\n",
       "      <td>24.0</td>\n",
       "    </tr>\n",
       "    <tr>\n",
       "      <th>2734</th>\n",
       "      <td>1429</td>\n",
       "      <td>9</td>\n",
       "      <td>138.0</td>\n",
       "      <td>29.0</td>\n",
       "      <td>NaN</td>\n",
       "      <td>18.0</td>\n",
       "    </tr>\n",
       "    <tr>\n",
       "      <th>599</th>\n",
       "      <td>1096</td>\n",
       "      <td>10</td>\n",
       "      <td>311.0</td>\n",
       "      <td>41.0</td>\n",
       "      <td>98.0</td>\n",
       "      <td>14.0</td>\n",
       "    </tr>\n",
       "    <tr>\n",
       "      <th>2114</th>\n",
       "      <td>1338</td>\n",
       "      <td>5</td>\n",
       "      <td>153.0</td>\n",
       "      <td>23.0</td>\n",
       "      <td>21.0</td>\n",
       "      <td>12.0</td>\n",
       "    </tr>\n",
       "    <tr>\n",
       "      <th>1022</th>\n",
       "      <td>1164</td>\n",
       "      <td>9</td>\n",
       "      <td>281.0</td>\n",
       "      <td>46.0</td>\n",
       "      <td>40.0</td>\n",
       "      <td>20.0</td>\n",
       "    </tr>\n",
       "    <tr>\n",
       "      <th>1157</th>\n",
       "      <td>1183</td>\n",
       "      <td>9</td>\n",
       "      <td>536.0</td>\n",
       "      <td>81.0</td>\n",
       "      <td>34.0</td>\n",
       "      <td>13.0</td>\n",
       "    </tr>\n",
       "    <tr>\n",
       "      <th>690</th>\n",
       "      <td>1111</td>\n",
       "      <td>11</td>\n",
       "      <td>347.0</td>\n",
       "      <td>53.0</td>\n",
       "      <td>2.0</td>\n",
       "      <td>12.0</td>\n",
       "    </tr>\n",
       "    <tr>\n",
       "      <th>800</th>\n",
       "      <td>1126</td>\n",
       "      <td>12</td>\n",
       "      <td>614.0</td>\n",
       "      <td>84.0</td>\n",
       "      <td>3.0</td>\n",
       "      <td>33.0</td>\n",
       "    </tr>\n",
       "    <tr>\n",
       "      <th>465</th>\n",
       "      <td>1072</td>\n",
       "      <td>10</td>\n",
       "      <td>517.0</td>\n",
       "      <td>67.0</td>\n",
       "      <td>16.0</td>\n",
       "      <td>23.0</td>\n",
       "    </tr>\n",
       "    <tr>\n",
       "      <th>2989</th>\n",
       "      <td>1469</td>\n",
       "      <td>12</td>\n",
       "      <td>635.0</td>\n",
       "      <td>106.0</td>\n",
       "      <td>NaN</td>\n",
       "      <td>28.0</td>\n",
       "    </tr>\n",
       "  </tbody>\n",
       "</table>\n",
       "</div>"
      ],
      "text/plain": [
       "      user_id  month  duration  calls_during_month  messages_during_month  \\\n",
       "1516     1243      8     395.0                51.0                   82.0   \n",
       "2734     1429      9     138.0                29.0                    NaN   \n",
       "599      1096     10     311.0                41.0                   98.0   \n",
       "2114     1338      5     153.0                23.0                   21.0   \n",
       "1022     1164      9     281.0                46.0                   40.0   \n",
       "1157     1183      9     536.0                81.0                   34.0   \n",
       "690      1111     11     347.0                53.0                    2.0   \n",
       "800      1126     12     614.0                84.0                    3.0   \n",
       "465      1072     10     517.0                67.0                   16.0   \n",
       "2989     1469     12     635.0               106.0                    NaN   \n",
       "\n",
       "      gb_during_month  \n",
       "1516             24.0  \n",
       "2734             18.0  \n",
       "599              14.0  \n",
       "2114             12.0  \n",
       "1022             20.0  \n",
       "1157             13.0  \n",
       "690              12.0  \n",
       "800              33.0  \n",
       "465              23.0  \n",
       "2989             28.0  "
      ]
     },
     "execution_count": 43,
     "metadata": {},
     "output_type": "execute_result"
    }
   ],
   "source": [
    "revenue_data.sample(10)"
   ]
  },
  {
   "cell_type": "code",
   "execution_count": 44,
   "id": "a9374e51",
   "metadata": {
    "scrolled": true
   },
   "outputs": [
    {
     "data": {
      "text/html": [
       "<div>\n",
       "<style scoped>\n",
       "    .dataframe tbody tr th:only-of-type {\n",
       "        vertical-align: middle;\n",
       "    }\n",
       "\n",
       "    .dataframe tbody tr th {\n",
       "        vertical-align: top;\n",
       "    }\n",
       "\n",
       "    .dataframe thead th {\n",
       "        text-align: right;\n",
       "    }\n",
       "</style>\n",
       "<table border=\"1\" class=\"dataframe\">\n",
       "  <thead>\n",
       "    <tr style=\"text-align: right;\">\n",
       "      <th></th>\n",
       "      <th>user_id</th>\n",
       "      <th>month</th>\n",
       "      <th>duration</th>\n",
       "      <th>calls_during_month</th>\n",
       "      <th>messages_during_month</th>\n",
       "      <th>gb_during_month</th>\n",
       "      <th>age</th>\n",
       "      <th>churn_date</th>\n",
       "      <th>city</th>\n",
       "      <th>first_name</th>\n",
       "      <th>last_name</th>\n",
       "      <th>reg_date</th>\n",
       "      <th>tariff</th>\n",
       "    </tr>\n",
       "  </thead>\n",
       "  <tbody>\n",
       "    <tr>\n",
       "      <th>2459</th>\n",
       "      <td>1390</td>\n",
       "      <td>8</td>\n",
       "      <td>224.0</td>\n",
       "      <td>29.0</td>\n",
       "      <td>27.0</td>\n",
       "      <td>18.0</td>\n",
       "      <td>56</td>\n",
       "      <td>NaT</td>\n",
       "      <td>Санкт-Петербург</td>\n",
       "      <td>Лидия</td>\n",
       "      <td>Беляева</td>\n",
       "      <td>2018-07-30</td>\n",
       "      <td>smart</td>\n",
       "    </tr>\n",
       "    <tr>\n",
       "      <th>349</th>\n",
       "      <td>1055</td>\n",
       "      <td>9</td>\n",
       "      <td>465.0</td>\n",
       "      <td>65.0</td>\n",
       "      <td>31.0</td>\n",
       "      <td>19.0</td>\n",
       "      <td>39</td>\n",
       "      <td>NaT</td>\n",
       "      <td>Казань</td>\n",
       "      <td>Луиза</td>\n",
       "      <td>Березина</td>\n",
       "      <td>2018-01-02</td>\n",
       "      <td>smart</td>\n",
       "    </tr>\n",
       "    <tr>\n",
       "      <th>3101</th>\n",
       "      <td>1484</td>\n",
       "      <td>9</td>\n",
       "      <td>529.0</td>\n",
       "      <td>64.0</td>\n",
       "      <td>107.0</td>\n",
       "      <td>15.0</td>\n",
       "      <td>55</td>\n",
       "      <td>NaT</td>\n",
       "      <td>Екатеринбург</td>\n",
       "      <td>Илзе</td>\n",
       "      <td>Абалдуева</td>\n",
       "      <td>2018-08-04</td>\n",
       "      <td>smart</td>\n",
       "    </tr>\n",
       "    <tr>\n",
       "      <th>2929</th>\n",
       "      <td>1460</td>\n",
       "      <td>8</td>\n",
       "      <td>537.0</td>\n",
       "      <td>89.0</td>\n",
       "      <td>53.0</td>\n",
       "      <td>16.0</td>\n",
       "      <td>64</td>\n",
       "      <td>NaT</td>\n",
       "      <td>Ижевск</td>\n",
       "      <td>Арина</td>\n",
       "      <td>Абашкина</td>\n",
       "      <td>2018-04-06</td>\n",
       "      <td>smart</td>\n",
       "    </tr>\n",
       "    <tr>\n",
       "      <th>870</th>\n",
       "      <td>1142</td>\n",
       "      <td>8</td>\n",
       "      <td>354.0</td>\n",
       "      <td>59.0</td>\n",
       "      <td>43.0</td>\n",
       "      <td>20.0</td>\n",
       "      <td>51</td>\n",
       "      <td>NaT</td>\n",
       "      <td>Новосибирск</td>\n",
       "      <td>Симона</td>\n",
       "      <td>Алешкова</td>\n",
       "      <td>2018-03-24</td>\n",
       "      <td>smart</td>\n",
       "    </tr>\n",
       "  </tbody>\n",
       "</table>\n",
       "</div>"
      ],
      "text/plain": [
       "      user_id  month  duration  calls_during_month  messages_during_month  \\\n",
       "2459     1390      8     224.0                29.0                   27.0   \n",
       "349      1055      9     465.0                65.0                   31.0   \n",
       "3101     1484      9     529.0                64.0                  107.0   \n",
       "2929     1460      8     537.0                89.0                   53.0   \n",
       "870      1142      8     354.0                59.0                   43.0   \n",
       "\n",
       "      gb_during_month  age churn_date             city first_name  last_name  \\\n",
       "2459             18.0   56        NaT  Санкт-Петербург      Лидия    Беляева   \n",
       "349              19.0   39        NaT           Казань      Луиза   Березина   \n",
       "3101             15.0   55        NaT     Екатеринбург       Илзе  Абалдуева   \n",
       "2929             16.0   64        NaT           Ижевск      Арина   Абашкина   \n",
       "870              20.0   51        NaT      Новосибирск     Симона   Алешкова   \n",
       "\n",
       "       reg_date tariff  \n",
       "2459 2018-07-30  smart  \n",
       "349  2018-01-02  smart  \n",
       "3101 2018-08-04  smart  \n",
       "2929 2018-04-06  smart  \n",
       "870  2018-03-24  smart  "
      ]
     },
     "execution_count": 44,
     "metadata": {},
     "output_type": "execute_result"
    }
   ],
   "source": [
    "#добавим данные из других датасетов к общему датасету\n",
    "revenue_data = revenue_data.merge(users, on='user_id')\n",
    "revenue_data.sample(5)"
   ]
  },
  {
   "cell_type": "code",
   "execution_count": 45,
   "id": "488eece5",
   "metadata": {},
   "outputs": [
    {
     "data": {
      "text/html": [
       "<div>\n",
       "<style scoped>\n",
       "    .dataframe tbody tr th:only-of-type {\n",
       "        vertical-align: middle;\n",
       "    }\n",
       "\n",
       "    .dataframe tbody tr th {\n",
       "        vertical-align: top;\n",
       "    }\n",
       "\n",
       "    .dataframe thead th {\n",
       "        text-align: right;\n",
       "    }\n",
       "</style>\n",
       "<table border=\"1\" class=\"dataframe\">\n",
       "  <thead>\n",
       "    <tr style=\"text-align: right;\">\n",
       "      <th></th>\n",
       "      <th>user_id</th>\n",
       "      <th>month</th>\n",
       "      <th>duration</th>\n",
       "      <th>calls_during_month</th>\n",
       "      <th>messages_during_month</th>\n",
       "      <th>gb_during_month</th>\n",
       "      <th>age</th>\n",
       "      <th>churn_date</th>\n",
       "      <th>city</th>\n",
       "      <th>first_name</th>\n",
       "      <th>last_name</th>\n",
       "      <th>reg_date</th>\n",
       "      <th>tariff</th>\n",
       "      <th>messages_included</th>\n",
       "      <th>mb_per_month_included</th>\n",
       "      <th>minutes_included</th>\n",
       "      <th>rub_monthly_fee</th>\n",
       "      <th>rub_per_gb</th>\n",
       "      <th>rub_per_message</th>\n",
       "      <th>rub_per_minute</th>\n",
       "    </tr>\n",
       "  </thead>\n",
       "  <tbody>\n",
       "    <tr>\n",
       "      <th>1914</th>\n",
       "      <td>1306</td>\n",
       "      <td>12</td>\n",
       "      <td>484.0</td>\n",
       "      <td>66.0</td>\n",
       "      <td>NaN</td>\n",
       "      <td>35.0</td>\n",
       "      <td>21</td>\n",
       "      <td>NaT</td>\n",
       "      <td>Чита</td>\n",
       "      <td>Радим</td>\n",
       "      <td>Попов</td>\n",
       "      <td>2018-11-30</td>\n",
       "      <td>smart</td>\n",
       "      <td>50</td>\n",
       "      <td>15360</td>\n",
       "      <td>500</td>\n",
       "      <td>550</td>\n",
       "      <td>200</td>\n",
       "      <td>3</td>\n",
       "      <td>3</td>\n",
       "    </tr>\n",
       "    <tr>\n",
       "      <th>2280</th>\n",
       "      <td>1365</td>\n",
       "      <td>12</td>\n",
       "      <td>782.0</td>\n",
       "      <td>111.0</td>\n",
       "      <td>43.0</td>\n",
       "      <td>30.0</td>\n",
       "      <td>38</td>\n",
       "      <td>NaT</td>\n",
       "      <td>Ростов-на-Дону</td>\n",
       "      <td>Георгий</td>\n",
       "      <td>Вишняков</td>\n",
       "      <td>2018-10-31</td>\n",
       "      <td>smart</td>\n",
       "      <td>50</td>\n",
       "      <td>15360</td>\n",
       "      <td>500</td>\n",
       "      <td>550</td>\n",
       "      <td>200</td>\n",
       "      <td>3</td>\n",
       "      <td>3</td>\n",
       "    </tr>\n",
       "    <tr>\n",
       "      <th>323</th>\n",
       "      <td>1052</td>\n",
       "      <td>9</td>\n",
       "      <td>816.0</td>\n",
       "      <td>107.0</td>\n",
       "      <td>80.0</td>\n",
       "      <td>21.0</td>\n",
       "      <td>52</td>\n",
       "      <td>NaT</td>\n",
       "      <td>Санкт-Петербург</td>\n",
       "      <td>Павел</td>\n",
       "      <td>Панов</td>\n",
       "      <td>2018-07-27</td>\n",
       "      <td>smart</td>\n",
       "      <td>50</td>\n",
       "      <td>15360</td>\n",
       "      <td>500</td>\n",
       "      <td>550</td>\n",
       "      <td>200</td>\n",
       "      <td>3</td>\n",
       "      <td>3</td>\n",
       "    </tr>\n",
       "    <tr>\n",
       "      <th>606</th>\n",
       "      <td>1097</td>\n",
       "      <td>10</td>\n",
       "      <td>645.0</td>\n",
       "      <td>81.0</td>\n",
       "      <td>38.0</td>\n",
       "      <td>9.0</td>\n",
       "      <td>29</td>\n",
       "      <td>NaT</td>\n",
       "      <td>Краснодар</td>\n",
       "      <td>Алла</td>\n",
       "      <td>Кулешова</td>\n",
       "      <td>2018-06-25</td>\n",
       "      <td>ultra</td>\n",
       "      <td>1000</td>\n",
       "      <td>30720</td>\n",
       "      <td>3000</td>\n",
       "      <td>1950</td>\n",
       "      <td>150</td>\n",
       "      <td>1</td>\n",
       "      <td>1</td>\n",
       "    </tr>\n",
       "    <tr>\n",
       "      <th>3070</th>\n",
       "      <td>1481</td>\n",
       "      <td>3</td>\n",
       "      <td>382.0</td>\n",
       "      <td>50.0</td>\n",
       "      <td>14.0</td>\n",
       "      <td>18.0</td>\n",
       "      <td>70</td>\n",
       "      <td>NaT</td>\n",
       "      <td>Москва</td>\n",
       "      <td>Клавдия</td>\n",
       "      <td>Чижова</td>\n",
       "      <td>2018-02-26</td>\n",
       "      <td>smart</td>\n",
       "      <td>50</td>\n",
       "      <td>15360</td>\n",
       "      <td>500</td>\n",
       "      <td>550</td>\n",
       "      <td>200</td>\n",
       "      <td>3</td>\n",
       "      <td>3</td>\n",
       "    </tr>\n",
       "  </tbody>\n",
       "</table>\n",
       "</div>"
      ],
      "text/plain": [
       "      user_id  month  duration  calls_during_month  messages_during_month  \\\n",
       "1914     1306     12     484.0                66.0                    NaN   \n",
       "2280     1365     12     782.0               111.0                   43.0   \n",
       "323      1052      9     816.0               107.0                   80.0   \n",
       "606      1097     10     645.0                81.0                   38.0   \n",
       "3070     1481      3     382.0                50.0                   14.0   \n",
       "\n",
       "      gb_during_month  age churn_date             city first_name last_name  \\\n",
       "1914             35.0   21        NaT             Чита      Радим     Попов   \n",
       "2280             30.0   38        NaT   Ростов-на-Дону    Георгий  Вишняков   \n",
       "323              21.0   52        NaT  Санкт-Петербург      Павел     Панов   \n",
       "606               9.0   29        NaT        Краснодар       Алла  Кулешова   \n",
       "3070             18.0   70        NaT           Москва    Клавдия    Чижова   \n",
       "\n",
       "       reg_date tariff  messages_included  mb_per_month_included  \\\n",
       "1914 2018-11-30  smart                 50                  15360   \n",
       "2280 2018-10-31  smart                 50                  15360   \n",
       "323  2018-07-27  smart                 50                  15360   \n",
       "606  2018-06-25  ultra               1000                  30720   \n",
       "3070 2018-02-26  smart                 50                  15360   \n",
       "\n",
       "      minutes_included  rub_monthly_fee  rub_per_gb  rub_per_message  \\\n",
       "1914               500              550         200                3   \n",
       "2280               500              550         200                3   \n",
       "323                500              550         200                3   \n",
       "606               3000             1950         150                1   \n",
       "3070               500              550         200                3   \n",
       "\n",
       "      rub_per_minute  \n",
       "1914               3  \n",
       "2280               3  \n",
       "323                3  \n",
       "606                1  \n",
       "3070               3  "
      ]
     },
     "execution_count": 45,
     "metadata": {},
     "output_type": "execute_result"
    }
   ],
   "source": [
    "revenue_data = revenue_data.merge(tariffs, on='tariff', how='left')\n",
    "revenue_data.sample(5)"
   ]
  },
  {
   "cell_type": "code",
   "execution_count": 46,
   "id": "c7bc8546",
   "metadata": {},
   "outputs": [
    {
     "data": {
      "text/plain": [
       "user_id                     0\n",
       "month                       0\n",
       "duration                   40\n",
       "calls_during_month         40\n",
       "messages_during_month     497\n",
       "gb_during_month            11\n",
       "age                         0\n",
       "churn_date               3027\n",
       "city                        0\n",
       "first_name                  0\n",
       "last_name                   0\n",
       "reg_date                    0\n",
       "tariff                      0\n",
       "messages_included           0\n",
       "mb_per_month_included       0\n",
       "minutes_included            0\n",
       "rub_monthly_fee             0\n",
       "rub_per_gb                  0\n",
       "rub_per_message             0\n",
       "rub_per_minute              0\n",
       "dtype: int64"
      ]
     },
     "execution_count": 46,
     "metadata": {},
     "output_type": "execute_result"
    }
   ],
   "source": [
    "#проверка данных на пропуски\n",
    "revenue_data.isna().sum()"
   ]
  },
  {
   "cell_type": "code",
   "execution_count": 47,
   "id": "060083ee",
   "metadata": {},
   "outputs": [
    {
     "data": {
      "text/plain": [
       "user_id                     0\n",
       "month                       0\n",
       "duration                    0\n",
       "calls_during_month          0\n",
       "messages_during_month       0\n",
       "gb_during_month             0\n",
       "age                         0\n",
       "churn_date               3027\n",
       "city                        0\n",
       "first_name                  0\n",
       "last_name                   0\n",
       "reg_date                    0\n",
       "tariff                      0\n",
       "messages_included           0\n",
       "mb_per_month_included       0\n",
       "minutes_included            0\n",
       "rub_monthly_fee             0\n",
       "rub_per_gb                  0\n",
       "rub_per_message             0\n",
       "rub_per_minute              0\n",
       "dtype: int64"
      ]
     },
     "execution_count": 47,
     "metadata": {},
     "output_type": "execute_result"
    }
   ],
   "source": [
    "#заполним пропуски в duration, calls_during_month, messages_during_month, mb_during_month значениями 0, \n",
    "#эти респонденты не использовали звонки, смс, интернет соответственно\n",
    "revenue_data['duration'] = revenue_data['duration'].fillna(0)\n",
    "revenue_data['calls_during_month'] = revenue_data['calls_during_month'].fillna(0)\n",
    "revenue_data['messages_during_month'] = revenue_data['messages_during_month'].fillna(0)\n",
    "revenue_data['gb_during_month'] = revenue_data['gb_during_month'].fillna(0)\n",
    "#повторная проверка данных на пропуски\n",
    "revenue_data.isna().sum()"
   ]
  },
  {
   "cell_type": "markdown",
   "id": "7121d0a2",
   "metadata": {},
   "source": [
    "Пропуски в столбце churn_date означают, что это действующий абонент, который не расторгал договор. На данном этапе непонятно требуется ли замена пропусков в этом столбце и на что лучше эти пропуски заменить, так что требуется пока оставить как есть."
   ]
  },
  {
   "cell_type": "code",
   "execution_count": 48,
   "id": "e5bff760",
   "metadata": {},
   "outputs": [
    {
     "data": {
      "text/plain": [
       "0"
      ]
     },
     "execution_count": 48,
     "metadata": {},
     "output_type": "execute_result"
    }
   ],
   "source": [
    "#проверка данных на явные дубликаты\n",
    "revenue_data.duplicated().sum()"
   ]
  },
  {
   "cell_type": "markdown",
   "id": "8b732e07",
   "metadata": {},
   "source": [
    "Явные дубликаты не найдены"
   ]
  },
  {
   "cell_type": "code",
   "execution_count": 49,
   "id": "d733ff5e",
   "metadata": {},
   "outputs": [],
   "source": [
    "#рассчитаем заплаченное клиентами сверх тарифа\n",
    "def over_tariff(row):\n",
    "    minutes = (row['calls_during_month'] - row['minutes_included']) * row['rub_per_minute']\n",
    "    messages = (row['messages_during_month'] - row['messages_included']) * row['rub_per_message']\n",
    "    gb = np.ceil((row['gb_during_month'] - row['mb_per_month_included']) * row['rub_per_gb'] / 1024)\n",
    "    total = 0\n",
    "    for i in [minutes, messages, gb]:\n",
    "        if i > 0:\n",
    "            total += i\n",
    "    return total\n",
    "revenue_data['over_tariff'] = revenue_data.apply(lambda x: over_tariff(x), axis=1)\n",
    "#рассчитаем общую сумму оплаты по тарифу + сверх тарифа\n",
    "revenue_data['paid_total'] = revenue_data['rub_monthly_fee'] + revenue_data['over_tariff']"
   ]
  },
  {
   "cell_type": "code",
   "execution_count": 50,
   "id": "b99fe1c7",
   "metadata": {
    "scrolled": false
   },
   "outputs": [
    {
     "data": {
      "text/html": [
       "<div>\n",
       "<style scoped>\n",
       "    .dataframe tbody tr th:only-of-type {\n",
       "        vertical-align: middle;\n",
       "    }\n",
       "\n",
       "    .dataframe tbody tr th {\n",
       "        vertical-align: top;\n",
       "    }\n",
       "\n",
       "    .dataframe thead th {\n",
       "        text-align: right;\n",
       "    }\n",
       "</style>\n",
       "<table border=\"1\" class=\"dataframe\">\n",
       "  <thead>\n",
       "    <tr style=\"text-align: right;\">\n",
       "      <th></th>\n",
       "      <th>user_id</th>\n",
       "      <th>month</th>\n",
       "      <th>duration</th>\n",
       "      <th>calls_during_month</th>\n",
       "      <th>messages_during_month</th>\n",
       "      <th>gb_during_month</th>\n",
       "      <th>age</th>\n",
       "      <th>churn_date</th>\n",
       "      <th>city</th>\n",
       "      <th>first_name</th>\n",
       "      <th>...</th>\n",
       "      <th>tariff</th>\n",
       "      <th>messages_included</th>\n",
       "      <th>mb_per_month_included</th>\n",
       "      <th>minutes_included</th>\n",
       "      <th>rub_monthly_fee</th>\n",
       "      <th>rub_per_gb</th>\n",
       "      <th>rub_per_message</th>\n",
       "      <th>rub_per_minute</th>\n",
       "      <th>over_tariff</th>\n",
       "      <th>paid_total</th>\n",
       "    </tr>\n",
       "  </thead>\n",
       "  <tbody>\n",
       "    <tr>\n",
       "      <th>3033</th>\n",
       "      <td>1476</td>\n",
       "      <td>7</td>\n",
       "      <td>492.0</td>\n",
       "      <td>65.0</td>\n",
       "      <td>3.0</td>\n",
       "      <td>16.0</td>\n",
       "      <td>50</td>\n",
       "      <td>NaT</td>\n",
       "      <td>Москва</td>\n",
       "      <td>Валентина</td>\n",
       "      <td>...</td>\n",
       "      <td>ultra</td>\n",
       "      <td>1000</td>\n",
       "      <td>30720</td>\n",
       "      <td>3000</td>\n",
       "      <td>1950</td>\n",
       "      <td>150</td>\n",
       "      <td>1</td>\n",
       "      <td>1</td>\n",
       "      <td>0.0</td>\n",
       "      <td>1950.0</td>\n",
       "    </tr>\n",
       "    <tr>\n",
       "      <th>3149</th>\n",
       "      <td>1495</td>\n",
       "      <td>9</td>\n",
       "      <td>813.0</td>\n",
       "      <td>112.0</td>\n",
       "      <td>82.0</td>\n",
       "      <td>33.0</td>\n",
       "      <td>65</td>\n",
       "      <td>NaT</td>\n",
       "      <td>Иркутск</td>\n",
       "      <td>Авксентий</td>\n",
       "      <td>...</td>\n",
       "      <td>ultra</td>\n",
       "      <td>1000</td>\n",
       "      <td>30720</td>\n",
       "      <td>3000</td>\n",
       "      <td>1950</td>\n",
       "      <td>150</td>\n",
       "      <td>1</td>\n",
       "      <td>1</td>\n",
       "      <td>0.0</td>\n",
       "      <td>1950.0</td>\n",
       "    </tr>\n",
       "    <tr>\n",
       "      <th>3120</th>\n",
       "      <td>1490</td>\n",
       "      <td>8</td>\n",
       "      <td>346.0</td>\n",
       "      <td>45.0</td>\n",
       "      <td>50.0</td>\n",
       "      <td>17.0</td>\n",
       "      <td>30</td>\n",
       "      <td>NaT</td>\n",
       "      <td>Москва</td>\n",
       "      <td>Радомир</td>\n",
       "      <td>...</td>\n",
       "      <td>smart</td>\n",
       "      <td>50</td>\n",
       "      <td>15360</td>\n",
       "      <td>500</td>\n",
       "      <td>550</td>\n",
       "      <td>200</td>\n",
       "      <td>3</td>\n",
       "      <td>3</td>\n",
       "      <td>0.0</td>\n",
       "      <td>550.0</td>\n",
       "    </tr>\n",
       "    <tr>\n",
       "      <th>2117</th>\n",
       "      <td>1338</td>\n",
       "      <td>8</td>\n",
       "      <td>151.0</td>\n",
       "      <td>26.0</td>\n",
       "      <td>23.0</td>\n",
       "      <td>17.0</td>\n",
       "      <td>64</td>\n",
       "      <td>NaT</td>\n",
       "      <td>Москва</td>\n",
       "      <td>Павел</td>\n",
       "      <td>...</td>\n",
       "      <td>smart</td>\n",
       "      <td>50</td>\n",
       "      <td>15360</td>\n",
       "      <td>500</td>\n",
       "      <td>550</td>\n",
       "      <td>200</td>\n",
       "      <td>3</td>\n",
       "      <td>3</td>\n",
       "      <td>0.0</td>\n",
       "      <td>550.0</td>\n",
       "    </tr>\n",
       "    <tr>\n",
       "      <th>3189</th>\n",
       "      <td>1106</td>\n",
       "      <td>9</td>\n",
       "      <td>0.0</td>\n",
       "      <td>0.0</td>\n",
       "      <td>23.0</td>\n",
       "      <td>22.0</td>\n",
       "      <td>67</td>\n",
       "      <td>NaT</td>\n",
       "      <td>Калуга</td>\n",
       "      <td>Исаак</td>\n",
       "      <td>...</td>\n",
       "      <td>ultra</td>\n",
       "      <td>1000</td>\n",
       "      <td>30720</td>\n",
       "      <td>3000</td>\n",
       "      <td>1950</td>\n",
       "      <td>150</td>\n",
       "      <td>1</td>\n",
       "      <td>1</td>\n",
       "      <td>0.0</td>\n",
       "      <td>1950.0</td>\n",
       "    </tr>\n",
       "    <tr>\n",
       "      <th>1623</th>\n",
       "      <td>1262</td>\n",
       "      <td>3</td>\n",
       "      <td>174.0</td>\n",
       "      <td>25.0</td>\n",
       "      <td>22.0</td>\n",
       "      <td>11.0</td>\n",
       "      <td>21</td>\n",
       "      <td>NaT</td>\n",
       "      <td>Ульяновск</td>\n",
       "      <td>Антонина</td>\n",
       "      <td>...</td>\n",
       "      <td>smart</td>\n",
       "      <td>50</td>\n",
       "      <td>15360</td>\n",
       "      <td>500</td>\n",
       "      <td>550</td>\n",
       "      <td>200</td>\n",
       "      <td>3</td>\n",
       "      <td>3</td>\n",
       "      <td>0.0</td>\n",
       "      <td>550.0</td>\n",
       "    </tr>\n",
       "    <tr>\n",
       "      <th>31</th>\n",
       "      <td>1005</td>\n",
       "      <td>2</td>\n",
       "      <td>456.0</td>\n",
       "      <td>69.0</td>\n",
       "      <td>38.0</td>\n",
       "      <td>8.0</td>\n",
       "      <td>67</td>\n",
       "      <td>NaT</td>\n",
       "      <td>Набережные Челны</td>\n",
       "      <td>Афанасий</td>\n",
       "      <td>...</td>\n",
       "      <td>smart</td>\n",
       "      <td>50</td>\n",
       "      <td>15360</td>\n",
       "      <td>500</td>\n",
       "      <td>550</td>\n",
       "      <td>200</td>\n",
       "      <td>3</td>\n",
       "      <td>3</td>\n",
       "      <td>0.0</td>\n",
       "      <td>550.0</td>\n",
       "    </tr>\n",
       "    <tr>\n",
       "      <th>1455</th>\n",
       "      <td>1230</td>\n",
       "      <td>11</td>\n",
       "      <td>356.0</td>\n",
       "      <td>45.0</td>\n",
       "      <td>13.0</td>\n",
       "      <td>20.0</td>\n",
       "      <td>44</td>\n",
       "      <td>NaT</td>\n",
       "      <td>Томск</td>\n",
       "      <td>Ренальд</td>\n",
       "      <td>...</td>\n",
       "      <td>smart</td>\n",
       "      <td>50</td>\n",
       "      <td>15360</td>\n",
       "      <td>500</td>\n",
       "      <td>550</td>\n",
       "      <td>200</td>\n",
       "      <td>3</td>\n",
       "      <td>3</td>\n",
       "      <td>0.0</td>\n",
       "      <td>550.0</td>\n",
       "    </tr>\n",
       "    <tr>\n",
       "      <th>1838</th>\n",
       "      <td>1293</td>\n",
       "      <td>11</td>\n",
       "      <td>174.0</td>\n",
       "      <td>26.0</td>\n",
       "      <td>22.0</td>\n",
       "      <td>9.0</td>\n",
       "      <td>39</td>\n",
       "      <td>2018-11-22</td>\n",
       "      <td>Санкт-Петербург</td>\n",
       "      <td>Эдита</td>\n",
       "      <td>...</td>\n",
       "      <td>smart</td>\n",
       "      <td>50</td>\n",
       "      <td>15360</td>\n",
       "      <td>500</td>\n",
       "      <td>550</td>\n",
       "      <td>200</td>\n",
       "      <td>3</td>\n",
       "      <td>3</td>\n",
       "      <td>0.0</td>\n",
       "      <td>550.0</td>\n",
       "    </tr>\n",
       "    <tr>\n",
       "      <th>245</th>\n",
       "      <td>1039</td>\n",
       "      <td>8</td>\n",
       "      <td>398.0</td>\n",
       "      <td>66.0</td>\n",
       "      <td>119.0</td>\n",
       "      <td>25.0</td>\n",
       "      <td>40</td>\n",
       "      <td>NaT</td>\n",
       "      <td>Ярославль</td>\n",
       "      <td>Агнесса</td>\n",
       "      <td>...</td>\n",
       "      <td>ultra</td>\n",
       "      <td>1000</td>\n",
       "      <td>30720</td>\n",
       "      <td>3000</td>\n",
       "      <td>1950</td>\n",
       "      <td>150</td>\n",
       "      <td>1</td>\n",
       "      <td>1</td>\n",
       "      <td>0.0</td>\n",
       "      <td>1950.0</td>\n",
       "    </tr>\n",
       "  </tbody>\n",
       "</table>\n",
       "<p>10 rows × 22 columns</p>\n",
       "</div>"
      ],
      "text/plain": [
       "      user_id  month  duration  calls_during_month  messages_during_month  \\\n",
       "3033     1476      7     492.0                65.0                    3.0   \n",
       "3149     1495      9     813.0               112.0                   82.0   \n",
       "3120     1490      8     346.0                45.0                   50.0   \n",
       "2117     1338      8     151.0                26.0                   23.0   \n",
       "3189     1106      9       0.0                 0.0                   23.0   \n",
       "1623     1262      3     174.0                25.0                   22.0   \n",
       "31       1005      2     456.0                69.0                   38.0   \n",
       "1455     1230     11     356.0                45.0                   13.0   \n",
       "1838     1293     11     174.0                26.0                   22.0   \n",
       "245      1039      8     398.0                66.0                  119.0   \n",
       "\n",
       "      gb_during_month  age churn_date              city first_name  ...  \\\n",
       "3033             16.0   50        NaT            Москва  Валентина  ...   \n",
       "3149             33.0   65        NaT           Иркутск  Авксентий  ...   \n",
       "3120             17.0   30        NaT            Москва    Радомир  ...   \n",
       "2117             17.0   64        NaT            Москва      Павел  ...   \n",
       "3189             22.0   67        NaT            Калуга      Исаак  ...   \n",
       "1623             11.0   21        NaT         Ульяновск   Антонина  ...   \n",
       "31                8.0   67        NaT  Набережные Челны   Афанасий  ...   \n",
       "1455             20.0   44        NaT             Томск    Ренальд  ...   \n",
       "1838              9.0   39 2018-11-22   Санкт-Петербург      Эдита  ...   \n",
       "245              25.0   40        NaT         Ярославль    Агнесса  ...   \n",
       "\n",
       "     tariff messages_included mb_per_month_included  minutes_included  \\\n",
       "3033  ultra              1000                 30720              3000   \n",
       "3149  ultra              1000                 30720              3000   \n",
       "3120  smart                50                 15360               500   \n",
       "2117  smart                50                 15360               500   \n",
       "3189  ultra              1000                 30720              3000   \n",
       "1623  smart                50                 15360               500   \n",
       "31    smart                50                 15360               500   \n",
       "1455  smart                50                 15360               500   \n",
       "1838  smart                50                 15360               500   \n",
       "245   ultra              1000                 30720              3000   \n",
       "\n",
       "      rub_monthly_fee  rub_per_gb  rub_per_message  rub_per_minute  \\\n",
       "3033             1950         150                1               1   \n",
       "3149             1950         150                1               1   \n",
       "3120              550         200                3               3   \n",
       "2117              550         200                3               3   \n",
       "3189             1950         150                1               1   \n",
       "1623              550         200                3               3   \n",
       "31                550         200                3               3   \n",
       "1455              550         200                3               3   \n",
       "1838              550         200                3               3   \n",
       "245              1950         150                1               1   \n",
       "\n",
       "      over_tariff  paid_total  \n",
       "3033          0.0      1950.0  \n",
       "3149          0.0      1950.0  \n",
       "3120          0.0       550.0  \n",
       "2117          0.0       550.0  \n",
       "3189          0.0      1950.0  \n",
       "1623          0.0       550.0  \n",
       "31            0.0       550.0  \n",
       "1455          0.0       550.0  \n",
       "1838          0.0       550.0  \n",
       "245           0.0      1950.0  \n",
       "\n",
       "[10 rows x 22 columns]"
      ]
     },
     "execution_count": 50,
     "metadata": {},
     "output_type": "execute_result"
    }
   ],
   "source": [
    "revenue_data.sample(10)"
   ]
  },
  {
   "cell_type": "code",
   "execution_count": 55,
   "id": "369b8d82",
   "metadata": {},
   "outputs": [
    {
     "data": {
      "text/html": [
       "<div>\n",
       "<style scoped>\n",
       "    .dataframe tbody tr th:only-of-type {\n",
       "        vertical-align: middle;\n",
       "    }\n",
       "\n",
       "    .dataframe tbody tr th {\n",
       "        vertical-align: top;\n",
       "    }\n",
       "\n",
       "    .dataframe thead th {\n",
       "        text-align: right;\n",
       "    }\n",
       "</style>\n",
       "<table border=\"1\" class=\"dataframe\">\n",
       "  <thead>\n",
       "    <tr style=\"text-align: right;\">\n",
       "      <th></th>\n",
       "      <th>paid_total</th>\n",
       "    </tr>\n",
       "    <tr>\n",
       "      <th>tariff</th>\n",
       "      <th></th>\n",
       "    </tr>\n",
       "  </thead>\n",
       "  <tbody>\n",
       "    <tr>\n",
       "      <th>smart</th>\n",
       "      <td>1264734.0</td>\n",
       "    </tr>\n",
       "    <tr>\n",
       "      <th>ultra</th>\n",
       "      <td>1920750.0</td>\n",
       "    </tr>\n",
       "  </tbody>\n",
       "</table>\n",
       "</div>"
      ],
      "text/plain": [
       "        paid_total\n",
       "tariff            \n",
       "smart    1264734.0\n",
       "ultra    1920750.0"
      ]
     },
     "execution_count": 55,
     "metadata": {},
     "output_type": "execute_result"
    }
   ],
   "source": [
    "#подсчет общей выручки от двух тарифов\n",
    "revenue_data_grouped_1 = revenue_data.pivot_table(index='tariff', values='paid_total', aggfunc='sum')\n",
    "revenue_data_grouped_1"
   ]
  },
  {
   "cell_type": "markdown",
   "id": "7db69201",
   "metadata": {},
   "source": [
    "Согласно сводной таблице общая выручка от тарифа Ultra превышает выручку тарифа Smart практически в полтора раза."
   ]
  },
  {
   "cell_type": "code",
   "execution_count": 56,
   "id": "a6116c1c",
   "metadata": {},
   "outputs": [
    {
     "data": {
      "text/html": [
       "<div>\n",
       "<style scoped>\n",
       "    .dataframe tbody tr th:only-of-type {\n",
       "        vertical-align: middle;\n",
       "    }\n",
       "\n",
       "    .dataframe tbody tr th {\n",
       "        vertical-align: top;\n",
       "    }\n",
       "\n",
       "    .dataframe thead th {\n",
       "        text-align: right;\n",
       "    }\n",
       "</style>\n",
       "<table border=\"1\" class=\"dataframe\">\n",
       "  <thead>\n",
       "    <tr style=\"text-align: right;\">\n",
       "      <th>tariff</th>\n",
       "      <th>smart</th>\n",
       "      <th>ultra</th>\n",
       "    </tr>\n",
       "    <tr>\n",
       "      <th>month</th>\n",
       "      <th></th>\n",
       "      <th></th>\n",
       "    </tr>\n",
       "  </thead>\n",
       "  <tbody>\n",
       "    <tr>\n",
       "      <th>1</th>\n",
       "      <td>18772.0</td>\n",
       "      <td>17550.0</td>\n",
       "    </tr>\n",
       "    <tr>\n",
       "      <th>2</th>\n",
       "      <td>32221.0</td>\n",
       "      <td>46800.0</td>\n",
       "    </tr>\n",
       "    <tr>\n",
       "      <th>3</th>\n",
       "      <td>43508.0</td>\n",
       "      <td>72150.0</td>\n",
       "    </tr>\n",
       "    <tr>\n",
       "      <th>4</th>\n",
       "      <td>62833.0</td>\n",
       "      <td>107250.0</td>\n",
       "    </tr>\n",
       "    <tr>\n",
       "      <th>5</th>\n",
       "      <td>79812.0</td>\n",
       "      <td>130650.0</td>\n",
       "    </tr>\n",
       "    <tr>\n",
       "      <th>6</th>\n",
       "      <td>92990.0</td>\n",
       "      <td>163800.0</td>\n",
       "    </tr>\n",
       "    <tr>\n",
       "      <th>7</th>\n",
       "      <td>114039.0</td>\n",
       "      <td>177450.0</td>\n",
       "    </tr>\n",
       "    <tr>\n",
       "      <th>8</th>\n",
       "      <td>133660.0</td>\n",
       "      <td>208650.0</td>\n",
       "    </tr>\n",
       "    <tr>\n",
       "      <th>9</th>\n",
       "      <td>147434.0</td>\n",
       "      <td>224250.0</td>\n",
       "    </tr>\n",
       "    <tr>\n",
       "      <th>10</th>\n",
       "      <td>166986.0</td>\n",
       "      <td>239850.0</td>\n",
       "    </tr>\n",
       "    <tr>\n",
       "      <th>11</th>\n",
       "      <td>179635.0</td>\n",
       "      <td>261300.0</td>\n",
       "    </tr>\n",
       "    <tr>\n",
       "      <th>12</th>\n",
       "      <td>192844.0</td>\n",
       "      <td>271050.0</td>\n",
       "    </tr>\n",
       "  </tbody>\n",
       "</table>\n",
       "</div>"
      ],
      "text/plain": [
       "tariff     smart     ultra\n",
       "month                     \n",
       "1        18772.0   17550.0\n",
       "2        32221.0   46800.0\n",
       "3        43508.0   72150.0\n",
       "4        62833.0  107250.0\n",
       "5        79812.0  130650.0\n",
       "6        92990.0  163800.0\n",
       "7       114039.0  177450.0\n",
       "8       133660.0  208650.0\n",
       "9       147434.0  224250.0\n",
       "10      166986.0  239850.0\n",
       "11      179635.0  261300.0\n",
       "12      192844.0  271050.0"
      ]
     },
     "execution_count": 56,
     "metadata": {},
     "output_type": "execute_result"
    }
   ],
   "source": [
    "#подсчет общей помесячной вырчуки от двух тарифов\n",
    "revenue_data_grouped_2 = revenue_data.pivot_table(index='month', columns='tariff', values='paid_total', aggfunc='sum')\n",
    "revenue_data_grouped_2"
   ]
  },
  {
   "cell_type": "markdown",
   "id": "ff108b15",
   "metadata": {},
   "source": [
    "Помесячные показатели выручки также уточняют, что в каждом месяце выручка от тарифа Ultra была выше."
   ]
  },
  {
   "cell_type": "markdown",
   "id": "947c66cc",
   "metadata": {},
   "source": [
    "**Вывод** \n",
    "Данные обработаны и приведены к нужным типам, пропуски устранены, данные проверены на явные дубликаты.\n",
    "Необходимые столбцы добавлены в таблицу"
   ]
  },
  {
   "cell_type": "markdown",
   "id": "2419f481",
   "metadata": {},
   "source": [
    "## Анализ данных"
   ]
  },
  {
   "cell_type": "markdown",
   "id": "ea36fb52",
   "metadata": {},
   "source": [
    "Описание поведения клиентов оператора, исходя из выборки. \n",
    "Сколько минут разговора, сколько сообщений и какой объём интернет-трафика требуется пользователям каждого тарифа в месяц? \n",
    "- Среднее количество\n",
    "- Дисперсия \n",
    "- Стандартное отклонение. \n",
    "Гистограммы. \n",
    "Описания распределений"
   ]
  },
  {
   "cell_type": "code",
   "execution_count": 46,
   "id": "df1fe5df",
   "metadata": {},
   "outputs": [
    {
     "data": {
      "text/plain": [
       "smart    2229\n",
       "ultra     985\n",
       "Name: tariff, dtype: int64"
      ]
     },
     "execution_count": 46,
     "metadata": {},
     "output_type": "execute_result"
    }
   ],
   "source": [
    "#посмотрим разбивку по тарифам\n",
    "revenue_data['tariff'].value_counts()"
   ]
  },
  {
   "cell_type": "markdown",
   "id": "10574498",
   "metadata": {},
   "source": [
    "Прежде всего, необходимо посмотреть на поведение потребителей по каждому тарифу в отдельности (на звонки, смс, интернет, насколько выходят за объем тарифа."
   ]
  },
  {
   "cell_type": "code",
   "execution_count": 47,
   "id": "89da45b8",
   "metadata": {},
   "outputs": [
    {
     "data": {
      "text/html": [
       "<style type=\"text/css\">\n",
       "</style>\n",
       "<table id=\"T_23330_\">\n",
       "  <thead>\n",
       "    <tr>\n",
       "      <th class=\"blank level0\" >&nbsp;</th>\n",
       "      <th class=\"col_heading level0 col0\" colspan=\"4\">paid_total</th>\n",
       "    </tr>\n",
       "    <tr>\n",
       "      <th class=\"blank level1\" >&nbsp;</th>\n",
       "      <th class=\"col_heading level1 col0\" >median</th>\n",
       "      <th class=\"col_heading level1 col1\" >mean</th>\n",
       "      <th class=\"col_heading level1 col2\" >std</th>\n",
       "      <th class=\"col_heading level1 col3\" >var</th>\n",
       "    </tr>\n",
       "    <tr>\n",
       "      <th class=\"index_name level0\" >tariff</th>\n",
       "      <th class=\"blank col0\" >&nbsp;</th>\n",
       "      <th class=\"blank col1\" >&nbsp;</th>\n",
       "      <th class=\"blank col2\" >&nbsp;</th>\n",
       "      <th class=\"blank col3\" >&nbsp;</th>\n",
       "    </tr>\n",
       "  </thead>\n",
       "  <tbody>\n",
       "    <tr>\n",
       "      <th id=\"T_23330_level0_row0\" class=\"row_heading level0 row0\" >smart</th>\n",
       "      <td id=\"T_23330_row0_col0\" class=\"data row0 col0\" >550.00000</td>\n",
       "      <td id=\"T_23330_row0_col1\" class=\"data row0 col1\" >567.39973</td>\n",
       "      <td id=\"T_23330_row0_col2\" class=\"data row0 col2\" >40.32737</td>\n",
       "      <td id=\"T_23330_row0_col3\" class=\"data row0 col3\" >1626.29661</td>\n",
       "    </tr>\n",
       "    <tr>\n",
       "      <th id=\"T_23330_level0_row1\" class=\"row_heading level0 row1\" >ultra</th>\n",
       "      <td id=\"T_23330_row1_col0\" class=\"data row1 col0\" >1950.00000</td>\n",
       "      <td id=\"T_23330_row1_col1\" class=\"data row1 col1\" >1950.00000</td>\n",
       "      <td id=\"T_23330_row1_col2\" class=\"data row1 col2\" >0.00000</td>\n",
       "      <td id=\"T_23330_row1_col3\" class=\"data row1 col3\" >0.00000</td>\n",
       "    </tr>\n",
       "  </tbody>\n",
       "</table>\n"
      ],
      "text/plain": [
       "<pandas.io.formats.style.Styler at 0x7ff2fd25af40>"
      ]
     },
     "execution_count": 47,
     "metadata": {},
     "output_type": "execute_result"
    }
   ],
   "source": [
    "#просмотр среднего, дисперсии, стандартного отклонения по тарифам\n",
    "revenue_data.groupby('tariff').agg({'paid_total':['median','mean','std', 'var']}).style.format(\"{:.5f}\")"
   ]
  },
  {
   "cell_type": "markdown",
   "id": "e81bc64f",
   "metadata": {},
   "source": [
    "В сводной таблице видно, что медианное значение оплаты пользователями тарифа Ultra равно стоимости этого тарифа, в то время как медианное значение тарифа смарта превышает стоимость тарифа в полтора раза, что означает, что пользователи пользуются дополнительными пакетами и переплачивают гораздо чаще. \n",
    "Дисперсия и квадратное отклонение у пользователей тарифа smart гораздо выше, они \"не укладываются\" в пакет тарифа чаще."
   ]
  },
  {
   "cell_type": "code",
   "execution_count": 48,
   "id": "8098b24a",
   "metadata": {},
   "outputs": [
    {
     "data": {
      "text/html": [
       "<style type=\"text/css\">\n",
       "</style>\n",
       "<table id=\"T_5eb7d_\">\n",
       "  <thead>\n",
       "    <tr>\n",
       "      <th class=\"blank level0\" >&nbsp;</th>\n",
       "      <th class=\"col_heading level0 col0\" colspan=\"4\">duration</th>\n",
       "    </tr>\n",
       "    <tr>\n",
       "      <th class=\"blank level1\" >&nbsp;</th>\n",
       "      <th class=\"col_heading level1 col0\" >median</th>\n",
       "      <th class=\"col_heading level1 col1\" >mean</th>\n",
       "      <th class=\"col_heading level1 col2\" >var</th>\n",
       "      <th class=\"col_heading level1 col3\" >std</th>\n",
       "    </tr>\n",
       "    <tr>\n",
       "      <th class=\"index_name level0\" >tariff</th>\n",
       "      <th class=\"blank col0\" >&nbsp;</th>\n",
       "      <th class=\"blank col1\" >&nbsp;</th>\n",
       "      <th class=\"blank col2\" >&nbsp;</th>\n",
       "      <th class=\"blank col3\" >&nbsp;</th>\n",
       "    </tr>\n",
       "  </thead>\n",
       "  <tbody>\n",
       "    <tr>\n",
       "      <th id=\"T_5eb7d_level0_row0\" class=\"row_heading level0 row0\" >smart</th>\n",
       "      <td id=\"T_5eb7d_row0_col0\" class=\"data row0 col0\" >422.00000</td>\n",
       "      <td id=\"T_5eb7d_row0_col1\" class=\"data row0 col1\" >417.93495</td>\n",
       "      <td id=\"T_5eb7d_row0_col2\" class=\"data row0 col2\" >36219.31578</td>\n",
       "      <td id=\"T_5eb7d_row0_col3\" class=\"data row0 col3\" >190.31373</td>\n",
       "    </tr>\n",
       "    <tr>\n",
       "      <th id=\"T_5eb7d_level0_row1\" class=\"row_heading level0 row1\" >ultra</th>\n",
       "      <td id=\"T_5eb7d_row1_col0\" class=\"data row1 col0\" >518.00000</td>\n",
       "      <td id=\"T_5eb7d_row1_col1\" class=\"data row1 col1\" >526.62335</td>\n",
       "      <td id=\"T_5eb7d_row1_col2\" class=\"data row1 col2\" >100873.63340</td>\n",
       "      <td id=\"T_5eb7d_row1_col3\" class=\"data row1 col3\" >317.60610</td>\n",
       "    </tr>\n",
       "  </tbody>\n",
       "</table>\n"
      ],
      "text/plain": [
       "<pandas.io.formats.style.Styler at 0x7ff2f9f2ba90>"
      ]
     },
     "execution_count": 48,
     "metadata": {},
     "output_type": "execute_result"
    }
   ],
   "source": [
    "#просмотр среднего, дисперсии, квадратного отклонения по звонкам\n",
    "revenue_data.groupby('tariff').agg({'duration':['median','mean','var','std']}).style.format(\"{:.5f}\")"
   ]
  },
  {
   "cell_type": "markdown",
   "id": "b7d14865",
   "metadata": {},
   "source": [
    "Построим также диаграмму для наглядности"
   ]
  },
  {
   "cell_type": "code",
   "execution_count": 49,
   "id": "04168086",
   "metadata": {},
   "outputs": [
    {
     "data": {
      "text/plain": [
       "Text(0.5, 1.0, 'Данные по звонкам, тариф Smart')"
      ]
     },
     "execution_count": 49,
     "metadata": {},
     "output_type": "execute_result"
    },
    {
     "data": {
      "image/png": "[encoded data removed]",
      "text/plain": [
       "<Figure size 432x288 with 1 Axes>"
      ]
     },
     "metadata": {
      "needs_background": "light"
     },
     "output_type": "display_data"
    }
   ],
   "source": [
    "revenue_data[revenue_data['tariff'] == 'smart']['duration'].plot(kind='hist', bins=25)\n",
    "plt.title('Данные по звонкам, тариф Smart')"
   ]
  },
  {
   "cell_type": "markdown",
   "id": "78a2b16b",
   "metadata": {},
   "source": [
    "Согласно данным таблицы и диаграммы, среднее количество минут в месяц у пользователей тарифа Smart = 422 минуты в месяц. В описании тарифа указано, что в тариф включено 500 минут разговора. Как видно на диаграмме бОльшая часть пользователей не использует \"дополнительные минуты\" и не платит за минуты сверх тарифа, но тем не менее есть пользователи (и такие пользователи не единичны), которые пользуются дополнительными минутами."
   ]
  },
  {
   "cell_type": "markdown",
   "id": "efb88844",
   "metadata": {},
   "source": [
    "Теперь посмотрим на гистограмму тарифа Ultra"
   ]
  },
  {
   "cell_type": "code",
   "execution_count": 50,
   "id": "83a2f2d4",
   "metadata": {},
   "outputs": [
    {
     "data": {
      "text/plain": [
       "Text(0.5, 1.0, 'Данные по звонкам, тариф Ultra')"
      ]
     },
     "execution_count": 50,
     "metadata": {},
     "output_type": "execute_result"
    },
    {
     "data": {
      "image/png": "[encoded data removed]",
      "text/plain": [
       "<Figure size 432x288 with 1 Axes>"
      ]
     },
     "metadata": {
      "needs_background": "light"
     },
     "output_type": "display_data"
    }
   ],
   "source": [
    "revenue_data[revenue_data['tariff'] == 'ultra']['duration'].plot(kind='hist', bins=50)\n",
    "plt.title('Данные по звонкам, тариф Ultra')"
   ]
  },
  {
   "cell_type": "markdown",
   "id": "1d90287d",
   "metadata": {},
   "source": [
    "Данные на этой гистограмме в большей степени разнятся от данных по тарифу Smart, что логично, этот тариф предусматривает 300 минут, то есть в 6 раз больше тарифа смарт. На диаграмме видно несколько пиков: мало минут (до 100), от 300 до 600 минут, от 800 до 900 минут в месяц. Эти пиковые значения встречаются чаще всего. Можно также сделать вывод, что, несмотря на то, что пиковые значения несколько смещают среднее и медиану выборки, дисперсия и стандартное отклонение валидны.  Также присутствуют и люди, говорящие до 1750 минут. Максимальные значения тарифа (3000) не представлены, то есть нет абонентов, которые говорят \"сверх\" пакета."
   ]
  },
  {
   "cell_type": "code",
   "execution_count": 51,
   "id": "41ab3f24",
   "metadata": {},
   "outputs": [
    {
     "data": {
      "text/html": [
       "<style type=\"text/css\">\n",
       "</style>\n",
       "<table id=\"T_8d75c_\">\n",
       "  <thead>\n",
       "    <tr>\n",
       "      <th class=\"blank level0\" >&nbsp;</th>\n",
       "      <th class=\"col_heading level0 col0\" colspan=\"5\">messages_during_month</th>\n",
       "    </tr>\n",
       "    <tr>\n",
       "      <th class=\"blank level1\" >&nbsp;</th>\n",
       "      <th class=\"col_heading level1 col0\" >median</th>\n",
       "      <th class=\"col_heading level1 col1\" >mean</th>\n",
       "      <th class=\"col_heading level1 col2\" >max</th>\n",
       "      <th class=\"col_heading level1 col3\" >var</th>\n",
       "      <th class=\"col_heading level1 col4\" >std</th>\n",
       "    </tr>\n",
       "    <tr>\n",
       "      <th class=\"index_name level0\" >tariff</th>\n",
       "      <th class=\"blank col0\" >&nbsp;</th>\n",
       "      <th class=\"blank col1\" >&nbsp;</th>\n",
       "      <th class=\"blank col2\" >&nbsp;</th>\n",
       "      <th class=\"blank col3\" >&nbsp;</th>\n",
       "      <th class=\"blank col4\" >&nbsp;</th>\n",
       "    </tr>\n",
       "  </thead>\n",
       "  <tbody>\n",
       "    <tr>\n",
       "      <th id=\"T_8d75c_level0_row0\" class=\"row_heading level0 row0\" >smart</th>\n",
       "      <td id=\"T_8d75c_row0_col0\" class=\"data row0 col0\" >28.00000</td>\n",
       "      <td id=\"T_8d75c_row0_col1\" class=\"data row0 col1\" >33.38403</td>\n",
       "      <td id=\"T_8d75c_row0_col2\" class=\"data row0 col2\" >143.00000</td>\n",
       "      <td id=\"T_8d75c_row0_col3\" class=\"data row0 col3\" >796.81296</td>\n",
       "      <td id=\"T_8d75c_row0_col4\" class=\"data row0 col4\" >28.22788</td>\n",
       "    </tr>\n",
       "    <tr>\n",
       "      <th id=\"T_8d75c_level0_row1\" class=\"row_heading level0 row1\" >ultra</th>\n",
       "      <td id=\"T_8d75c_row1_col0\" class=\"data row1 col0\" >38.00000</td>\n",
       "      <td id=\"T_8d75c_row1_col1\" class=\"data row1 col1\" >49.36345</td>\n",
       "      <td id=\"T_8d75c_row1_col2\" class=\"data row1 col2\" >224.00000</td>\n",
       "      <td id=\"T_8d75c_row1_col3\" class=\"data row1 col3\" >2285.26614</td>\n",
       "      <td id=\"T_8d75c_row1_col4\" class=\"data row1 col4\" >47.80446</td>\n",
       "    </tr>\n",
       "  </tbody>\n",
       "</table>\n"
      ],
      "text/plain": [
       "<pandas.io.formats.style.Styler at 0x7ff2fa8358e0>"
      ]
     },
     "execution_count": 51,
     "metadata": {},
     "output_type": "execute_result"
    }
   ],
   "source": [
    "#просмотр среднего, медианы, максимального значения, дисперсии, квадратного отклонения по смс\n",
    "revenue_data.groupby('tariff').agg({'messages_during_month':['median','mean','max','var','std']}).style.format(\"{:.5f}\")"
   ]
  },
  {
   "cell_type": "markdown",
   "id": "7e871390",
   "metadata": {},
   "source": [
    "Медианное значение обоих тарифов не превышает количество смс, включенных в тариф (50 для Smart, 1000 для Ultra). Таблица также показывает, что в тарифе Ultra нет респондентов, которые использовали бы весь пакет смс, предложенный по тарифу. У пользователей тарифа Smart такие респонденты присутствуют."
   ]
  },
  {
   "cell_type": "markdown",
   "id": "9375311b",
   "metadata": {},
   "source": [
    "Построим гистограмму для смс тарифа Smart"
   ]
  },
  {
   "cell_type": "code",
   "execution_count": 52,
   "id": "045a9839",
   "metadata": {},
   "outputs": [
    {
     "data": {
      "text/plain": [
       "Text(0.5, 1.0, 'Данные по смс, тариф Smart')"
      ]
     },
     "execution_count": 52,
     "metadata": {},
     "output_type": "execute_result"
    },
    {
     "data": {
      "image/png": "[encoded data removed]",
      "text/plain": [
       "<Figure size 432x288 with 1 Axes>"
      ]
     },
     "metadata": {
      "needs_background": "light"
     },
     "output_type": "display_data"
    }
   ],
   "source": [
    "revenue_data[revenue_data['tariff'] == 'smart']['messages_during_month'].plot(kind='hist', bins=25)\n",
    "plt.title('Данные по смс, тариф Smart')"
   ]
  },
  {
   "cell_type": "markdown",
   "id": "7c4c0c66",
   "metadata": {},
   "source": [
    "Подтверждая данные сводной таблицы, мы видим, что небольшая часть пользователей пользуется дополнительным пакетом смс, отправляя до 143 смс в месяц."
   ]
  },
  {
   "cell_type": "markdown",
   "id": "47a5d7f4",
   "metadata": {},
   "source": [
    "Построим гистограмму для смс тарифа Ultra"
   ]
  },
  {
   "cell_type": "code",
   "execution_count": 53,
   "id": "8a006852",
   "metadata": {},
   "outputs": [
    {
     "data": {
      "text/plain": [
       "Text(0.5, 1.0, 'Данные по смс, тариф Ultra')"
      ]
     },
     "execution_count": 53,
     "metadata": {},
     "output_type": "execute_result"
    },
    {
     "data": {
      "image/png": "[encoded data removed]",
      "text/plain": [
       "<Figure size 432x288 with 1 Axes>"
      ]
     },
     "metadata": {
      "needs_background": "light"
     },
     "output_type": "display_data"
    }
   ],
   "source": [
    "revenue_data[revenue_data['tariff'] == 'ultra']['messages_during_month'].plot(kind='hist', bins=50)\n",
    "plt.title('Данные по смс, тариф Ultra')"
   ]
  },
  {
   "cell_type": "markdown",
   "id": "841e9485",
   "metadata": {},
   "source": [
    "Лишь малое число пользователей отправляет более 150 смс в месяц"
   ]
  },
  {
   "cell_type": "code",
   "execution_count": 54,
   "id": "07d1ffc8",
   "metadata": {},
   "outputs": [
    {
     "data": {
      "text/html": [
       "<style type=\"text/css\">\n",
       "</style>\n",
       "<table id=\"T_4210e_\">\n",
       "  <thead>\n",
       "    <tr>\n",
       "      <th class=\"blank level0\" >&nbsp;</th>\n",
       "      <th class=\"col_heading level0 col0\" colspan=\"5\">gb_during_month</th>\n",
       "    </tr>\n",
       "    <tr>\n",
       "      <th class=\"blank level1\" >&nbsp;</th>\n",
       "      <th class=\"col_heading level1 col0\" >median</th>\n",
       "      <th class=\"col_heading level1 col1\" >mean</th>\n",
       "      <th class=\"col_heading level1 col2\" >max</th>\n",
       "      <th class=\"col_heading level1 col3\" >var</th>\n",
       "      <th class=\"col_heading level1 col4\" >std</th>\n",
       "    </tr>\n",
       "    <tr>\n",
       "      <th class=\"index_name level0\" >tariff</th>\n",
       "      <th class=\"blank col0\" >&nbsp;</th>\n",
       "      <th class=\"blank col1\" >&nbsp;</th>\n",
       "      <th class=\"blank col2\" >&nbsp;</th>\n",
       "      <th class=\"blank col3\" >&nbsp;</th>\n",
       "      <th class=\"blank col4\" >&nbsp;</th>\n",
       "    </tr>\n",
       "  </thead>\n",
       "  <tbody>\n",
       "    <tr>\n",
       "      <th id=\"T_4210e_level0_row0\" class=\"row_heading level0 row0\" >smart</th>\n",
       "      <td id=\"T_4210e_row0_col0\" class=\"data row0 col0\" >17.00000</td>\n",
       "      <td id=\"T_4210e_row0_col1\" class=\"data row0 col1\" >16.32885</td>\n",
       "      <td id=\"T_4210e_row0_col2\" class=\"data row0 col2\" >38.00000</td>\n",
       "      <td id=\"T_4210e_row0_col3\" class=\"data row0 col3\" >33.02871</td>\n",
       "      <td id=\"T_4210e_row0_col4\" class=\"data row0 col4\" >5.74706</td>\n",
       "    </tr>\n",
       "    <tr>\n",
       "      <th id=\"T_4210e_level0_row1\" class=\"row_heading level0 row1\" >ultra</th>\n",
       "      <td id=\"T_4210e_row1_col0\" class=\"data row1 col0\" >19.00000</td>\n",
       "      <td id=\"T_4210e_row1_col1\" class=\"data row1 col1\" >19.49442</td>\n",
       "      <td id=\"T_4210e_row1_col2\" class=\"data row1 col2\" >49.00000</td>\n",
       "      <td id=\"T_4210e_row1_col3\" class=\"data row1 col3\" >97.09169</td>\n",
       "      <td id=\"T_4210e_row1_col4\" class=\"data row1 col4\" >9.85351</td>\n",
       "    </tr>\n",
       "  </tbody>\n",
       "</table>\n"
      ],
      "text/plain": [
       "<pandas.io.formats.style.Styler at 0x7ff2fe1f4760>"
      ]
     },
     "execution_count": 54,
     "metadata": {},
     "output_type": "execute_result"
    }
   ],
   "source": [
    "#просмотр среднего, медианы, максимального значения, дисперсии, квадратного отклонения по смс\n",
    "revenue_data.groupby('tariff').agg({'gb_during_month':['median','mean','max','var','std']}).style.format(\"{:.5f}\")"
   ]
  },
  {
   "cell_type": "markdown",
   "id": "72250dca",
   "metadata": {},
   "source": [
    "Согласно данным, мы видим что медианное значение для тарифа Smart больше предложенного по тарифу (17/15 соответственно), то есть как минимум половина абонентов переиспользует тариф и покупает дополнительные гигабайты. Для тарифа Ultra медианное значение меньше предложенного по тарифу (19/30 соответственно), но дисперсия достаточно велика для этой выборки, а также максимальное значение больше значения, предложенного по тарифу (49/30 соответственно)."
   ]
  },
  {
   "cell_type": "markdown",
   "id": "254f357b",
   "metadata": {},
   "source": [
    "Построим гистограмму для потраченных гигабайт интернета пользователями тарифа Smart"
   ]
  },
  {
   "cell_type": "code",
   "execution_count": 55,
   "id": "846f179b",
   "metadata": {},
   "outputs": [
    {
     "data": {
      "text/plain": [
       "Text(0.5, 1.0, 'Данные по интернету, тариф Smart')"
      ]
     },
     "execution_count": 55,
     "metadata": {},
     "output_type": "execute_result"
    },
    {
     "data": {
      "image/png": "[encoded data removed]",
      "text/plain": [
       "<Figure size 432x288 with 1 Axes>"
      ]
     },
     "metadata": {
      "needs_background": "light"
     },
     "output_type": "display_data"
    }
   ],
   "source": [
    "revenue_data[revenue_data['tariff'] == 'smart']['gb_during_month'].plot(kind='hist', bins=50)\n",
    "plt.title('Данные по интернету, тариф Smart')"
   ]
  },
  {
   "cell_type": "markdown",
   "id": "266b1c31",
   "metadata": {},
   "source": [
    "Гистограмма подтверждает данные сводной таблицы. При 15-ти включенных в тариф гигабайтах, более половины пользователей требуется больше интернета чем предложено по тарифу, они прибегают к покупке дополнительных пакетов."
   ]
  },
  {
   "cell_type": "markdown",
   "id": "f89cf4f4",
   "metadata": {},
   "source": [
    "Построим гистограмму для потраченных гигабайт интернета пользователями тарифа Ultra"
   ]
  },
  {
   "cell_type": "code",
   "execution_count": 56,
   "id": "fea06225",
   "metadata": {
    "scrolled": true
   },
   "outputs": [
    {
     "data": {
      "text/plain": [
       "Text(0.5, 1.0, 'Данные по интернету, тариф Ultra')"
      ]
     },
     "execution_count": 56,
     "metadata": {},
     "output_type": "execute_result"
    },
    {
     "data": {
      "image/png": "[encoded data removed]",
      "text/plain": [
       "<Figure size 432x288 with 1 Axes>"
      ]
     },
     "metadata": {
      "needs_background": "light"
     },
     "output_type": "display_data"
    }
   ],
   "source": [
    "revenue_data[revenue_data['tariff'] == 'ultra']['gb_during_month'].plot(kind='hist', bins=50)\n",
    "plt.title('Данные по интернету, тариф Ultra')"
   ]
  },
  {
   "cell_type": "markdown",
   "id": "744aeeba",
   "metadata": {},
   "source": [
    "В тариф Ultra включено 30 гб. Как видно на гистограмме, более 50% пользователей не превышают пакет и не покупают интернет дополнительно."
   ]
  },
  {
   "cell_type": "code",
   "execution_count": 76,
   "id": "e49d46b7",
   "metadata": {},
   "outputs": [
    {
     "name": "stdout",
     "output_type": "stream",
     "text": [
      "<class 'pandas.core.frame.DataFrame'>\n",
      "Int64Index: 3214 entries, 0 to 3213\n",
      "Data columns (total 23 columns):\n",
      " #   Column                 Non-Null Count  Dtype         \n",
      "---  ------                 --------------  -----         \n",
      " 0   user_id                3214 non-null   int64         \n",
      " 1   month                  3214 non-null   int64         \n",
      " 2   duration               3214 non-null   float64       \n",
      " 3   calls_during_month     3214 non-null   float64       \n",
      " 4   messages_during_month  3214 non-null   float64       \n",
      " 5   gb_during_month        3214 non-null   float64       \n",
      " 6   age                    3214 non-null   int64         \n",
      " 7   churn_date             187 non-null    datetime64[ns]\n",
      " 8   city                   3214 non-null   object        \n",
      " 9   first_name             3214 non-null   object        \n",
      " 10  last_name              3214 non-null   object        \n",
      " 11  reg_date               3214 non-null   datetime64[ns]\n",
      " 12  tariff                 3214 non-null   object        \n",
      " 13  messages_included      3214 non-null   int64         \n",
      " 14  mb_per_month_included  3214 non-null   int64         \n",
      " 15  minutes_included       3214 non-null   int64         \n",
      " 16  rub_monthly_fee        3214 non-null   int64         \n",
      " 17  rub_per_gb             3214 non-null   int64         \n",
      " 18  rub_per_message        3214 non-null   int64         \n",
      " 19  rub_per_minute         3214 non-null   int64         \n",
      " 20  over_tariff            3214 non-null   float64       \n",
      " 21  paid_total             3214 non-null   float64       \n",
      " 22  area                   3214 non-null   object        \n",
      "dtypes: datetime64[ns](2), float64(6), int64(10), object(5)\n",
      "memory usage: 602.6+ KB\n"
     ]
    }
   ],
   "source": [
    "revenue_data.info()"
   ]
  },
  {
   "cell_type": "markdown",
   "id": "7617692f",
   "metadata": {},
   "source": [
    "**Вывод**\n",
    "Пользователи тарифа Smart чаще превышают предложение тарифа и докупают услуги дополнительно по своим нуждам, чем абоненты тарифа Ultra.\n",
    "Примечательно то, что при оценки среднего, медианного значений, дисперсии и стандартного отклонения обоих тарифов видно, что большинство пользователей осознанно переплачивают за тариф Smart, а не покупают тариф Ultra, поскольку, даже с учетом переплат, такой вариант является более выгодным для них."
   ]
  },
  {
   "cell_type": "markdown",
   "id": "5156b914",
   "metadata": {},
   "source": [
    "## Проверка гипотез"
   ]
  },
  {
   "cell_type": "code",
   "execution_count": 57,
   "id": "294dcacc",
   "metadata": {},
   "outputs": [],
   "source": [
    "# для проверки гипотез потребуется функция, органичивающая выбросы. Оставим данные между первым и третьим квантилями\n",
    "def without_emissions(revenue_data, column, graphic=0, x = 10, y = 10):\n",
    "    q1 = revenue_data[column].quantile(0.25)                 \n",
    "    q3 = revenue_data[column].quantile(0.75)\n",
    "    base = q3 - q1\n",
    "    filtered_emissions = (revenue_data[column] >= (q1 - 1.5 * base)) & (revenue_data[column] <= (q3 + 1.5 * base))\n",
    "    if graphic == 1:\n",
    "        return revenue_data.loc[filtered_emissions].boxplot([column], figsize=(x,y))\n",
    "    else:\n",
    "        return revenue_data.loc[filtered_emissions]"
   ]
  },
  {
   "cell_type": "markdown",
   "id": "34d24dda",
   "metadata": {},
   "source": [
    "Гипотеза **Средняя выручка пользователей тарифов «Ультра» и «Смарт» различаются**\n"
   ]
  },
  {
   "cell_type": "markdown",
   "id": "ccfcabe9",
   "metadata": {},
   "source": [
    "H0: Средняя выручка пользователей тарифов «Ультра» и «Смарт» не различаются.\n",
    "\n",
    "H1: Средняя выручка пользователей тарифов «Ультра» и «Смарт» различаются.\n",
    "\n",
    "Выборки независимы, так что можно применить t-test (Гипотезу о равенстве средних двух генеральных совокупностей),  этот метод используется когда нужно сравнить средние двух генеральных совокупностей между собой."
   ]
  },
  {
   "cell_type": "markdown",
   "id": "a94b2966",
   "metadata": {},
   "source": [
    "Перед t-тестом необходимо подтвердить, что выборки релевантны, поскольку соблюдаются три аспекта:\n",
    "1. Генеральные совокупности не зависят друг от друга\n",
    "2. Выборочные средние нормально распределены\n",
    "3. Дисперсии рассматриваемых генеральных совокупностей не равны, поэтому предполагается использование параметра equal_var=False"
   ]
  },
  {
   "cell_type": "code",
   "execution_count": 58,
   "id": "7c3abcc0",
   "metadata": {
    "scrolled": true
   },
   "outputs": [
    {
     "data": {
      "text/plain": [
       "'p-value:'"
      ]
     },
     "metadata": {},
     "output_type": "display_data"
    },
    {
     "data": {
      "text/plain": [
       "0.0"
      ]
     },
     "metadata": {},
     "output_type": "display_data"
    },
    {
     "data": {
      "text/plain": [
       "'Отвергаем нулевую гипотезу'"
      ]
     },
     "metadata": {},
     "output_type": "display_data"
    }
   ],
   "source": [
    "#обозначим значения столбца в отдельную переменную для работы\n",
    "tariff_smart = revenue_data[revenue_data['tariff'] == 'smart']\n",
    "tariff_ultra = revenue_data[revenue_data['tariff'] == 'ultra']\n",
    "#удаляем выбросы\n",
    "tariff_smart = without_emissions(tariff_smart, 'paid_total', 0)\n",
    "tariff_smart = tariff_smart['paid_total']\n",
    "tariff_ultra = without_emissions(tariff_ultra, 'paid_total', 0)\n",
    "tariff_ultra = tariff_ultra['paid_total'] \n",
    "#ставим минимальную alpha, чтобы увидеть разброс\n",
    "alpha = 0.01\n",
    "tariff_results = st.ttest_ind(tariff_smart, tariff_ultra, equal_var=False)\n",
    "\n",
    "display('p-value:', tariff_results.pvalue)\n",
    "\n",
    "if (tariff_results.pvalue < alpha):\n",
    "    display(\"Отвергаем нулевую гипотезу\")\n",
    "else:\n",
    "    display(\"Не получилось отвергнуть нулевую гипотезу\")"
   ]
  },
  {
   "cell_type": "markdown",
   "id": "fe5a5035",
   "metadata": {},
   "source": [
    "**Вывод** \n",
    "\n",
    "Гипотеза H0 (H0: Средняя выручка пользователей тарифов «Ультра» и «Смарт» не различаются) должна быть отвергнута, что значит что гипотеза H1 (Средняя выручка пользователей тарифов «Ультра» и «Смарт» различаются) не может быть отвергнута. должна быть отвергнута, что значит что гипотеза H1 (Средняя выручка пользователей тарифов «Ультра» и «Смарт» различаются) не может быть отвергнута."
   ]
  },
  {
   "cell_type": "markdown",
   "id": "a9ea53ab",
   "metadata": {},
   "source": [
    "Гипотеза **Средняя выручка пользователей из Москвы отличается от выручки пользователей из других регионов.**"
   ]
  },
  {
   "cell_type": "markdown",
   "id": "aa443e88",
   "metadata": {},
   "source": [
    "H0: Средняя выручка пользователей из Москвы не отличается от выручки пользователей из других регионов.\n",
    "\n",
    "H1: Средняя выручка пользователей из Москвы отличается от выручки пользователей из других регионов."
   ]
  },
  {
   "cell_type": "code",
   "execution_count": 59,
   "id": "e800b200",
   "metadata": {},
   "outputs": [
    {
     "data": {
      "text/plain": [
       "array(['Архангельск', 'Астрахань', 'Балашиха', 'Барнаул', 'Белгород',\n",
       "       'Брянск', 'Владивосток', 'Владикавказ', 'Владимир', 'Волгоград',\n",
       "       'Волжский', 'Вологда', 'Воронеж', 'Грозный', 'Екатеринбург',\n",
       "       'Иваново', 'Ижевск', 'Иркутск', 'Казань', 'Калининград', 'Калуга',\n",
       "       'Кемерово', 'Киров', 'Кострома', 'Краснодар', 'Красноярск',\n",
       "       'Курган', 'Курск', 'Липецк', 'Магнитогорск', 'Махачкала', 'Москва',\n",
       "       'Мурманск', 'Набережные Челны', 'Нижневартовск', 'Нижний Новгород',\n",
       "       'Нижний Тагил', 'Новокузнецк', 'Новороссийск', 'Новосибирск',\n",
       "       'Омск', 'Оренбург', 'Орёл', 'Пенза', 'Пермь', 'Петрозаводск',\n",
       "       'Подольск', 'Ростов-на-Дону', 'Рязань', 'Самара',\n",
       "       'Санкт-Петербург', 'Саранск', 'Саратов', 'Севастополь', 'Смоленск',\n",
       "       'Сочи', 'Ставрополь', 'Стерлитамак', 'Сургут', 'Тамбов', 'Тверь',\n",
       "       'Тольятти', 'Томск', 'Тула', 'Тюмень', 'Улан-Удэ', 'Ульяновск',\n",
       "       'Уфа', 'Хабаровск', 'Химки', 'Чебоксары', 'Челябинск', 'Череповец',\n",
       "       'Чита', 'Якутск', 'Ярославль'], dtype=object)"
      ]
     },
     "execution_count": 59,
     "metadata": {},
     "output_type": "execute_result"
    }
   ],
   "source": [
    "#отсортируем список уникальных значений городов\n",
    "revenue_data['city'].sort_values(ascending=True).unique()"
   ]
  },
  {
   "cell_type": "markdown",
   "id": "7514b88f",
   "metadata": {},
   "source": [
    "Неявные дубликаты не найдены. Для дальнейшей работы необходимо создать новый столбец и отделить респондентов из Москвы от других респондентов."
   ]
  },
  {
   "cell_type": "code",
   "execution_count": 60,
   "id": "1377a151",
   "metadata": {},
   "outputs": [
    {
     "data": {
      "text/plain": [
       "'p-значение:'"
      ]
     },
     "metadata": {},
     "output_type": "display_data"
    },
    {
     "data": {
      "text/plain": [
       "0.0007144727255639525"
      ]
     },
     "metadata": {},
     "output_type": "display_data"
    },
    {
     "data": {
      "text/plain": [
       "'Отвергаем нулевую гипотезу'"
      ]
     },
     "metadata": {},
     "output_type": "display_data"
    }
   ],
   "source": [
    "#отделяем Москву от не-Москвы в столбце\n",
    "revenue_data['area']=np.where(revenue_data['city'] == 'Москва', 'Москва', 'Не Москва')\n",
    "#добавляем респондентов из Москвы и не из Москвы в отдельные переменные\n",
    "moscow = revenue_data[revenue_data['area'] == 'Москва']\n",
    "not_moscow = revenue_data[revenue_data['area'] == 'Не Москва']\n",
    "#удаляем выбросы\n",
    "moscow = without_emissions(moscow, 'paid_total', 0)\n",
    "moscow = moscow['paid_total']\n",
    "not_moscow = without_emissions(not_moscow, 'paid_total', 0)\n",
    "not_moscow = not_moscow['paid_total']\n",
    "#проведение t-теста\n",
    "city_results = st.ttest_ind(moscow, not_moscow, equal_var=False)\n",
    "#ставим минимальную alpha, чтобы увидеть разброс\n",
    "alpha = 0.01\n",
    "display('p-значение:', city_results.pvalue)\n",
    "\n",
    "if (city_results.pvalue < alpha):\n",
    "    display('Отвергаем нулевую гипотезу')\n",
    "else:\n",
    "    display('Не получилось отвергнуть нулевую гипотезу')"
   ]
  },
  {
   "cell_type": "markdown",
   "id": "dfd36ab2",
   "metadata": {},
   "source": [
    "**Вывод**\n",
    "\n",
    "Гипотеза H0 (Средняя выручка пользователей из Москвы не отличается от выручки пользователей из других регионов) должна быть отвергнута, так что гипотеза H1 (Средняя выручка пользователей из Москвы отличается от выручки пользователей из других регионов) не может быть отвергнута."
   ]
  },
  {
   "cell_type": "markdown",
   "id": "0149ab36",
   "metadata": {},
   "source": [
    "## Общий вывод"
   ]
  },
  {
   "cell_type": "markdown",
   "id": "ede933bc",
   "metadata": {},
   "source": [
    "Тарифы собраны таким образом, что тариф Smart недостаточен для многих потребителей (они переиспользуют преимущественно пакет минут и интернета, смс в меньшей степени), в то время как тариф Ultra слишком дорогой и избыточен (люди не используют пакет минут и смс полностью, интернет используют в большей степени). \n",
    "\n",
    "Смс-сообщения - наименее переиспользуемый компонент тарифа, для многих потребителей он избыточен в обоих тарифах.\n",
    "\n",
    "Гипотеза \"Средняя выручка пользователей тарифов «Ультра» и «Смарт» различаются\" не может быть отвергнута.\n",
    "\n",
    "Гипотеза \"Средняя выручка пользователей из Москвы отличается от выручки пользователей из других регионов\" также не может быть отвергнута.\n"
   ]
  },
  {
   "cell_type": "markdown",
   "id": "2e6b21a6",
   "metadata": {},
   "source": [
    "Медианная выручка оператора от тарифа \"Ultra\" больше медианной выручки тарифа \"Smart\". Это выглядит более привлекательно в долгосрочной перспективе, поскольку принесет компании больше средств. В то же время, многие пользователи недоиспользуют тариф \"Ultra\", что грозит появлением мнения среди пользователей, что тариф неоправданно дорог. \n",
    "\n",
    "Рассматривая показатели общей выручки (тариф Smart - 1264734 рублей, в то время как тариф Ultra - 1920750 рублей), можно сделать вывод, что тарифа Ultra принес бОльшую выручку, чем тариф Smart. Помесячная сводная таблицка выручки также подтверждает, что ежемесячно выручка от тарифа Ultra выше, чем от тарифа Smart.\n",
    "\n",
    "Медианный платеж тарифа \"Smart\" значительно превышает стоимость тарифа, то есть многие пользователи покупают дополнительные \"пакеты\". Таким образом, можно сделать вывод, что клиенты приходят на тариф \"Smart\", но позднее переиспользуют его и присоединяются к тарифу \"Ultra\".\n",
    "\n",
    "Хорошим вариантом решения может быть создание третьего, промежуточного тарифа, который бы включал больше минут и интернета, чем \"Smart\", но меньше чем \"Ultra\". Такой тариф позволил бы пользователям не беспокоиться из-за перплат по тарифу \"Smart\", что позволило бы им перейти на расширенный план, который в то же время не был бы избыточен, как план тарифа \"Ultra\".\n"
   ]
  }
 ],
 "metadata": {
  "kernelspec": {
   "display_name": "Python 3 (ipykernel)",
   "language": "python",
   "name": "python3"
  },
  "language_info": {
   "codemirror_mode": {
    "name": "ipython",
    "version": 3
   },
   "file_extension": ".py",
   "mimetype": "text/x-python",
   "name": "python",
   "nbconvert_exporter": "python",
   "pygments_lexer": "ipython3",
   "version": "3.9.7"
  },
  "toc": {
   "base_numbering": 1,
   "nav_menu": {},
   "number_sections": true,
   "sideBar": true,
   "skip_h1_title": true,
   "title_cell": "Table of Contents",
   "title_sidebar": "Contents",
   "toc_cell": false,
   "toc_position": {},
   "toc_section_display": true,
   "toc_window_display": false
  }
 },
 "nbformat": 4,
 "nbformat_minor": 5
}
